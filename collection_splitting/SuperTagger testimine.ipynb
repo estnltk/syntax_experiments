{
 "cells": [
  {
   "cell_type": "code",
   "execution_count": 1,
   "id": "ac14e7e2",
   "metadata": {},
   "outputs": [
    {
     "name": "stderr",
     "output_type": "stream",
     "text": [
      "2022-12-09 10:29:15.892212: I tensorflow/core/platform/cpu_feature_guard.cc:193] This TensorFlow binary is optimized with oneAPI Deep Neural Network Library (oneDNN) to use the following CPU instructions in performance-critical operations:  AVX2 AVX512F AVX512_VNNI FMA\n",
      "To enable them in other operations, rebuild TensorFlow with the appropriate compiler flags.\n",
      "2022-12-09 10:29:16.235033: I tensorflow/core/util/port.cc:104] oneDNN custom operations are on. You may see slightly different numerical results due to floating-point round-off errors from different computation orders. To turn them off, set the environment variable `TF_ENABLE_ONEDNN_OPTS=0`.\n",
      "2022-12-09 10:29:17.463786: W tensorflow/compiler/xla/stream_executor/platform/default/dso_loader.cc:64] Could not load dynamic library 'libnvinfer.so.7'; dlerror: libnvinfer.so.7: cannot open shared object file: No such file or directory\n",
      "2022-12-09 10:29:17.463885: W tensorflow/compiler/xla/stream_executor/platform/default/dso_loader.cc:64] Could not load dynamic library 'libnvinfer_plugin.so.7'; dlerror: libnvinfer_plugin.so.7: cannot open shared object file: No such file or directory\n",
      "2022-12-09 10:29:17.463895: W tensorflow/compiler/tf2tensorrt/utils/py_utils.cc:38] TF-TRT Warning: Cannot dlopen some TensorRT libraries. If you would like to use Nvidia GPU with TensorRT, please make sure the missing libraries mentioned above are installed properly.\n"
     ]
    }
   ],
   "source": [
    "%load_ext autoreload\n",
    "%autoreload 2\n",
    "\n",
    "import warnings\n",
    "warnings.filterwarnings('ignore')\n",
    "\n",
    "from estnltk_neural.taggers.syntax.stanza_tagger.stanza_tagger import StanzaSyntaxTagger\n",
    "from estnltk import Text"
   ]
  },
  {
   "cell_type": "code",
   "execution_count": 2,
   "id": "ae0ee3a3",
   "metadata": {},
   "outputs": [],
   "source": [
    "model_path = r\"/home/kaire/anaconda3/lib/python3.9/site-packages/estnltk_neural/taggers/syntax/stanza_tagger/stanza_resources/\"\n",
    "input_type=\"morph_extended\"\n",
    "stanza_tagger = StanzaSyntaxTagger(input_type=input_type, input_morph_layer=input_type, add_parent_and_children=True, resources_path=model_path)"
   ]
  },
  {
   "cell_type": "code",
   "execution_count": 3,
   "id": "479f9477",
   "metadata": {},
   "outputs": [],
   "source": [
    "from taggers.entity_tagger import EntityTagger\n",
    "\n",
    "entity_tagger = EntityTagger(deprel =\"advmod\", input_type=\"stanza_syntax\", morph_layer=\"morph_extended\")"
   ]
  },
  {
   "cell_type": "code",
   "execution_count": 4,
   "id": "c508fff0",
   "metadata": {},
   "outputs": [
    {
     "data": {
      "text/html": [
       "<h4>Layer</h4>\n",
       "\n",
       "\n",
       "<table border=\"1\" class=\"dataframe\">\n",
       "  <thead>\n",
       "    <tr style=\"text-align: right;\">\n",
       "      <th>layer name</th>\n",
       "      <th>attributes</th>\n",
       "      <th>parent</th>\n",
       "      <th>enveloping</th>\n",
       "      <th>ambiguous</th>\n",
       "      <th>span count</th>\n",
       "    </tr>\n",
       "  </thead>\n",
       "  <tbody>\n",
       "    <tr>\n",
       "      <td>syntax_ignore_entity_advmod</td>\n",
       "      <td>entity_type, free_entity, is_valid, syntax_conservation_score</td>\n",
       "      <td>None</td>\n",
       "      <td>morph_extended</td>\n",
       "      <td>False</td>\n",
       "      <td>1</td>\n",
       "    </tr>\n",
       "  </tbody>\n",
       "</table>\n",
       "<table border=\"1\" class=\"dataframe\">\n",
       "  <thead>\n",
       "    <tr style=\"text-align: right;\">\n",
       "      <th>text</th>\n",
       "      <th>entity_type</th>\n",
       "      <th>free_entity</th>\n",
       "      <th>is_valid</th>\n",
       "      <th>syntax_conservation_score</th>\n",
       "    </tr>\n",
       "  </thead>\n",
       "  <tbody>\n",
       "    <tr>\n",
       "      <td>['tõsiselt', 'kui', 'tema', 'muusikasse']</td>\n",
       "      <td>None</td>\n",
       "      <td>None</td>\n",
       "      <td>None</td>\n",
       "      <td>None</td>\n",
       "    </tr>\n",
       "  </tbody>\n",
       "</table>"
      ],
      "text/plain": [
       "Layer(name='syntax_ignore_entity_advmod', attributes=('entity_type', 'free_entity', 'is_valid', 'syntax_conservation_score'), spans=SL[EnvelopingSpan(['tõsiselt', 'kui', 'tema', 'muusikasse'], [{'entity_type': None, 'free_entity': None, 'is_valid': None, 'syntax_conservation_score': None}])])"
      ]
     },
     "execution_count": 4,
     "metadata": {},
     "output_type": "execute_result"
    }
   ],
   "source": [
    "txt3 = Text(\"Võtete ajal õppis Eminem lugu pidama näitlejatest , kes suhtuvad oma töösse sama tõsiselt kui tema muusikasse .\")\n",
    "txt3.tag_layer('morph_extended')\n",
    "stanza_tagger.tag( txt3 )\n",
    "entity_tagger.tag( txt3 )\n",
    "txt3.syntax_ignore_entity_advmod"
   ]
  },
  {
   "cell_type": "code",
   "execution_count": 5,
   "id": "fbbba277",
   "metadata": {},
   "outputs": [
    {
     "data": {
      "text/html": [
       "<h4>Layer</h4>\n",
       "\n",
       "\n",
       "<table border=\"1\" class=\"dataframe\">\n",
       "  <thead>\n",
       "    <tr style=\"text-align: right;\">\n",
       "      <th>layer name</th>\n",
       "      <th>attributes</th>\n",
       "      <th>parent</th>\n",
       "      <th>enveloping</th>\n",
       "      <th>ambiguous</th>\n",
       "      <th>span count</th>\n",
       "    </tr>\n",
       "  </thead>\n",
       "  <tbody>\n",
       "    <tr>\n",
       "      <td>syntax_ignore_entity_advmod</td>\n",
       "      <td>entity_type, free_entity, is_valid, syntax_conservation_score</td>\n",
       "      <td>None</td>\n",
       "      <td>morph_extended</td>\n",
       "      <td>False</td>\n",
       "      <td>1</td>\n",
       "    </tr>\n",
       "  </tbody>\n",
       "</table>\n",
       "<table border=\"1\" class=\"dataframe\">\n",
       "  <thead>\n",
       "    <tr style=\"text-align: right;\">\n",
       "      <th>text</th>\n",
       "      <th>entity_type</th>\n",
       "      <th>free_entity</th>\n",
       "      <th>is_valid</th>\n",
       "      <th>syntax_conservation_score</th>\n",
       "    </tr>\n",
       "  </thead>\n",
       "  <tbody>\n",
       "    <tr>\n",
       "      <td>['tõsiselt', 'kui', 'tema', 'muusikasse']</td>\n",
       "      <td>None</td>\n",
       "      <td>None</td>\n",
       "      <td>None</td>\n",
       "      <td>None</td>\n",
       "    </tr>\n",
       "  </tbody>\n",
       "</table>"
      ],
      "text/plain": [
       "Layer(name='syntax_ignore_entity_advmod', attributes=('entity_type', 'free_entity', 'is_valid', 'syntax_conservation_score'), spans=SL[EnvelopingSpan(['tõsiselt', 'kui', 'tema', 'muusikasse'], [{'entity_type': None, 'free_entity': None, 'is_valid': None, 'syntax_conservation_score': None}])])"
      ]
     },
     "execution_count": 5,
     "metadata": {},
     "output_type": "execute_result"
    }
   ],
   "source": [
    "txt3[\"syntax_ignore_entity_advmod\"]"
   ]
  },
  {
   "cell_type": "code",
   "execution_count": 105,
   "id": "00fe3702",
   "metadata": {},
   "outputs": [],
   "source": [
    "from taggers.super_tagger import SuperTagger"
   ]
  },
  {
   "cell_type": "code",
   "execution_count": 106,
   "id": "8631ece2",
   "metadata": {},
   "outputs": [],
   "source": [
    "super_tagger = SuperTagger(deprel =\"advmod\", input_type=\"stanza_syntax\", \n",
    "                           ignore_layer=\"syntax_ignore_entity_advmod\", model_path = model_path)"
   ]
  },
  {
   "cell_type": "code",
   "execution_count": 107,
   "id": "19c85188",
   "metadata": {},
   "outputs": [
    {
     "name": "stdout",
     "output_type": "stream",
     "text": [
      "[(1, 2, {'deprel': 'case'}), (3, 1, {'deprel': 'obl'}), (3, 4, {'deprel': 'nsubj'}), (3, 6, {'deprel': 'xcomp'}), (3, 18, {'deprel': 'punct'}), (0, 3, {'deprel': 'root'}), (6, 5, {'deprel': 'obj'}), (6, 7, {'deprel': 'obl'}), (7, 10, {'deprel': 'acl:relcl'}), (10, 8, {'deprel': 'punct'}), (10, 9, {'deprel': 'nsubj'}), (10, 12, {'deprel': 'obl'}), (10, 13, {'deprel': 'obj'}), (10, 14, {'deprel': 'advmod'}), (12, 11, {'deprel': 'nmod'}), (14, 17, {'deprel': 'advcl'}), (17, 15, {'deprel': 'mark'}), (17, 16, {'deprel': 'nmod'})]\n",
      "in 12 \n",
      "missing 2\n",
      "[(1, 2, {'deprel': 'case'}), (3, 1, {'deprel': 'obl'}), (3, 4, {'deprel': 'nsubj'}), (3, 6, {'deprel': 'xcomp'}), (3, 14, {'deprel': 'punct'}), (0, 3, {'deprel': 'root'}), (6, 5, {'deprel': 'obj'}), (6, 7, {'deprel': 'obl'}), (7, 10, {'deprel': 'acl:relcl'}), (10, 8, {'deprel': 'punct'}), (10, 9, {'deprel': 'nsubj'}), (10, 12, {'deprel': 'obl'}), (10, 13, {'deprel': 'obl'}), (12, 11, {'deprel': 'nmod'})]\n"
     ]
    },
    {
     "data": {
      "text/html": [
       "<h4>Layer</h4>\n",
       "\n",
       "\n",
       "<table border=\"1\" class=\"dataframe\">\n",
       "  <thead>\n",
       "    <tr style=\"text-align: right;\">\n",
       "      <th>layer name</th>\n",
       "      <th>attributes</th>\n",
       "      <th>parent</th>\n",
       "      <th>enveloping</th>\n",
       "      <th>ambiguous</th>\n",
       "      <th>span count</th>\n",
       "    </tr>\n",
       "  </thead>\n",
       "  <tbody>\n",
       "    <tr>\n",
       "      <td>syntax_ignore_entity_advmod</td>\n",
       "      <td>entity_type, free_entity, is_valid, syntax_conservation_score</td>\n",
       "      <td>None</td>\n",
       "      <td>morph_analysis</td>\n",
       "      <td>False</td>\n",
       "      <td>1</td>\n",
       "    </tr>\n",
       "  </tbody>\n",
       "</table>\n",
       "<table border=\"1\" class=\"dataframe\">\n",
       "  <thead>\n",
       "    <tr style=\"text-align: right;\">\n",
       "      <th>text</th>\n",
       "      <th>entity_type</th>\n",
       "      <th>free_entity</th>\n",
       "      <th>is_valid</th>\n",
       "      <th>syntax_conservation_score</th>\n",
       "    </tr>\n",
       "  </thead>\n",
       "  <tbody>\n",
       "    <tr>\n",
       "      <td>['tõsiselt', 'kui', 'tema', 'muusikasse']</td>\n",
       "      <td>None</td>\n",
       "      <td>None</td>\n",
       "      <td>None</td>\n",
       "      <td>85.7</td>\n",
       "    </tr>\n",
       "  </tbody>\n",
       "</table>"
      ],
      "text/plain": [
       "Layer(name='syntax_ignore_entity_advmod', attributes=('entity_type', 'free_entity', 'is_valid', 'syntax_conservation_score'), spans=SL[EnvelopingSpan(['tõsiselt', 'kui', 'tema', 'muusikasse'], [{'entity_type': None, 'free_entity': None, 'is_valid': None, 'syntax_conservation_score': 85.7}])])"
      ]
     },
     "execution_count": 107,
     "metadata": {},
     "output_type": "execute_result"
    }
   ],
   "source": [
    "txt4 = Text(\"Võtete ajal õppis Eminem lugu pidama näitlejatest , kes suhtuvad oma töösse sama tõsiselt kui tema muusikasse .\")\n",
    "txt4.tag_layer('morph_extended')\n",
    "stanza_tagger.tag( txt4 )\n",
    "super_tagger.tag( txt4 )\n",
    "txt4.syntax_ignore_entity_advmod"
   ]
  },
  {
   "cell_type": "code",
   "execution_count": 111,
   "id": "ccb4fc03",
   "metadata": {},
   "outputs": [
    {
     "name": "stdout",
     "output_type": "stream",
     "text": [
      "[(2, 1, {'deprel': 'nmod'}), (2, 3, {'deprel': 'appos'}), (5, 2, {'deprel': 'nsubj'}), (5, 6, {'deprel': 'compound:prt'}), (5, 8, {'deprel': 'obl'}), (5, 26, {'deprel': 'conj'}), (5, 27, {'deprel': 'punct'}), (3, 4, {'deprel': 'flat'}), (0, 5, {'deprel': 'root'}), (8, 7, {'deprel': 'amod'}), (26, 9, {'deprel': 'punct'}), (26, 10, {'deprel': 'cc'}), (26, 12, {'deprel': 'nsubj'}), (26, 21, {'deprel': 'cc'}), (26, 22, {'deprel': 'nsubj'}), (26, 23, {'deprel': 'obl'}), (26, 24, {'deprel': 'obl'}), (26, 25, {'deprel': 'aux'}), (12, 11, {'deprel': 'amod'}), (12, 15, {'deprel': 'parataxis'}), (15, 13, {'deprel': 'punct'}), (15, 14, {'deprel': 'amod'}), (15, 16, {'deprel': 'nummod'}), (15, 19, {'deprel': 'nummod'}), (15, 20, {'deprel': 'punct'}), (19, 17, {'deprel': 'punct'}), (19, 18, {'deprel': 'advmod'})]\n",
      "in 0 \n",
      "missing 0\n",
      "[]\n"
     ]
    },
    {
     "data": {
      "text/html": [
       "<h4>Layer</h4>\n",
       "\n",
       "\n",
       "<table border=\"1\" class=\"dataframe\">\n",
       "  <thead>\n",
       "    <tr style=\"text-align: right;\">\n",
       "      <th>layer name</th>\n",
       "      <th>attributes</th>\n",
       "      <th>parent</th>\n",
       "      <th>enveloping</th>\n",
       "      <th>ambiguous</th>\n",
       "      <th>span count</th>\n",
       "    </tr>\n",
       "  </thead>\n",
       "  <tbody>\n",
       "    <tr>\n",
       "      <td>syntax_ignore_entity_advmod</td>\n",
       "      <td>entity_type, free_entity, is_valid, syntax_conservation_score</td>\n",
       "      <td>None</td>\n",
       "      <td>morph_analysis</td>\n",
       "      <td>False</td>\n",
       "      <td>1</td>\n",
       "    </tr>\n",
       "  </tbody>\n",
       "</table>\n",
       "<table border=\"1\" class=\"dataframe\">\n",
       "  <thead>\n",
       "    <tr style=\"text-align: right;\">\n",
       "      <th>text</th>\n",
       "      <th>entity_type</th>\n",
       "      <th>free_entity</th>\n",
       "      <th>is_valid</th>\n",
       "      <th>syntax_conservation_score</th>\n",
       "    </tr>\n",
       "  </thead>\n",
       "  <tbody>\n",
       "    <tr>\n",
       "      <td>['kokku']</td>\n",
       "      <td>None</td>\n",
       "      <td>None</td>\n",
       "      <td>None</td>\n",
       "      <td>None</td>\n",
       "    </tr>\n",
       "  </tbody>\n",
       "</table>"
      ],
      "text/plain": [
       "Layer(name='syntax_ignore_entity_advmod', attributes=('entity_type', 'free_entity', 'is_valid', 'syntax_conservation_score'), spans=SL[EnvelopingSpan(['kokku'], [{'entity_type': None, 'free_entity': None, 'is_valid': None, 'syntax_conservation_score': None}])])"
      ]
     },
     "execution_count": 111,
     "metadata": {},
     "output_type": "execute_result"
    }
   ],
   "source": [
    "txt5 = Text(\"Rocki peatreener Tõnu Lust oli rahul eduka lauavõitlusega , kuid rohked pallikaotused ( esimesel poolajal 14 , kokku 21 ) ja eksimused vabaviskejoonel talle ei meeldinud .\")\n",
    "txt5.tag_layer('morph_extended')\n",
    "stanza_tagger.tag( txt5 )\n",
    "super_tagger.tag( txt5 )\n",
    "txt5.syntax_ignore_entity_advmod"
   ]
  },
  {
   "cell_type": "code",
   "execution_count": 112,
   "id": "18bc0945",
   "metadata": {},
   "outputs": [
    {
     "name": "stdout",
     "output_type": "stream",
     "text": [
      "[(2, 1, {'deprel': 'nummod'}), (15, 2, {'deprel': 'obl'}), (15, 3, {'deprel': 'aux'}), (15, 4, {'deprel': 'nsubj'}), (15, 12, {'deprel': 'advmod'}), (15, 14, {'deprel': 'obl'}), (15, 16, {'deprel': 'punct'}), (4, 5, {'deprel': 'flat'}), (4, 6, {'deprel': 'flat'}), (4, 7, {'deprel': 'flat'}), (4, 8, {'deprel': 'flat'}), (4, 10, {'deprel': 'parataxis'}), (10, 9, {'deprel': 'punct'}), (10, 11, {'deprel': 'punct'}), (14, 13, {'deprel': 'nmod'}), (0, 15, {'deprel': 'root'})]\n",
      "in 7 \n",
      "missing 8\n",
      "[(2, 1, {'deprel': 'nummod'}), (14, 2, {'deprel': 'obl'}), (14, 3, {'deprel': 'cop'}), (14, 4, {'deprel': 'nsubj:cop'}), (14, 13, {'deprel': 'obl'}), (14, 15, {'deprel': 'punct'}), (4, 5, {'deprel': 'flat'}), (4, 6, {'deprel': 'flat'}), (4, 7, {'deprel': 'flat'}), (4, 10, {'deprel': 'parataxis'}), (6, 8, {'deprel': 'flat'}), (10, 9, {'deprel': 'punct'}), (10, 11, {'deprel': 'punct'}), (13, 12, {'deprel': 'nmod'}), (0, 14, {'deprel': 'root'})]\n"
     ]
    },
    {
     "data": {
      "text/html": [
       "<h4>Layer</h4>\n",
       "\n",
       "\n",
       "<table border=\"1\" class=\"dataframe\">\n",
       "  <thead>\n",
       "    <tr style=\"text-align: right;\">\n",
       "      <th>layer name</th>\n",
       "      <th>attributes</th>\n",
       "      <th>parent</th>\n",
       "      <th>enveloping</th>\n",
       "      <th>ambiguous</th>\n",
       "      <th>span count</th>\n",
       "    </tr>\n",
       "  </thead>\n",
       "  <tbody>\n",
       "    <tr>\n",
       "      <td>syntax_ignore_entity_advmod</td>\n",
       "      <td>entity_type, free_entity, is_valid, syntax_conservation_score</td>\n",
       "      <td>None</td>\n",
       "      <td>morph_analysis</td>\n",
       "      <td>False</td>\n",
       "      <td>1</td>\n",
       "    </tr>\n",
       "  </tbody>\n",
       "</table>\n",
       "<table border=\"1\" class=\"dataframe\">\n",
       "  <thead>\n",
       "    <tr style=\"text-align: right;\">\n",
       "      <th>text</th>\n",
       "      <th>entity_type</th>\n",
       "      <th>free_entity</th>\n",
       "      <th>is_valid</th>\n",
       "      <th>syntax_conservation_score</th>\n",
       "    </tr>\n",
       "  </thead>\n",
       "  <tbody>\n",
       "    <tr>\n",
       "      <td>['kindlalt']</td>\n",
       "      <td>None</td>\n",
       "      <td>None</td>\n",
       "      <td>None</td>\n",
       "      <td>46.7</td>\n",
       "    </tr>\n",
       "  </tbody>\n",
       "</table>"
      ],
      "text/plain": [
       "Layer(name='syntax_ignore_entity_advmod', attributes=('entity_type', 'free_entity', 'is_valid', 'syntax_conservation_score'), spans=SL[EnvelopingSpan(['kindlalt'], [{'entity_type': None, 'free_entity': None, 'is_valid': None, 'syntax_conservation_score': 46.7}])])"
      ]
     },
     "execution_count": 112,
     "metadata": {},
     "output_type": "execute_result"
    }
   ],
   "source": [
    "txt6 = Text(\"Kolme aastaga on Eminem alias Marshall Mathers III ( 30 ) kindlalt meie teadvusesse sööbinud .\")\n",
    "txt6.tag_layer('morph_extended')\n",
    "stanza_tagger.tag( txt6 )\n",
    "super_tagger.tag( txt6 )\n",
    "txt6.syntax_ignore_entity_advmod"
   ]
  },
  {
   "cell_type": "code",
   "execution_count": null,
   "id": "6ce7da0d",
   "metadata": {},
   "outputs": [],
   "source": []
  }
 ],
 "metadata": {
  "kernelspec": {
   "display_name": "Python 3 (ipykernel)",
   "language": "python",
   "name": "python3"
  },
  "language_info": {
   "codemirror_mode": {
    "name": "ipython",
    "version": 3
   },
   "file_extension": ".py",
   "mimetype": "text/x-python",
   "name": "python",
   "nbconvert_exporter": "python",
   "pygments_lexer": "ipython3",
   "version": "3.9.13"
  }
 },
 "nbformat": 4,
 "nbformat_minor": 5
}
