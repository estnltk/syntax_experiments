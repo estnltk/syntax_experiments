{
 "cells": [
  {
   "cell_type": "markdown",
   "metadata": {},
   "source": [
    "# Ideas how to do error analysis"
   ]
  },
  {
   "cell_type": "markdown",
   "metadata": {},
   "source": [
    "## Basic concepts\n",
    "\n",
    "### Syntax trees\n",
    "\n",
    "* Primary syntax tree $\\mathcal{T}$ a labelled syntax tree which will be used to map differences.\n",
    "* Secondary syntax tree $\\mathcal{T}^*$ a labelled syntax tree which will be comapred to the primary syntax tree.\n",
    "* If we ask which syntax constructions are hard for machine learning algorithms then the primary syntax tree is the golden truth.\n",
    "* If we ask which automatically taged syntax tree constructions are most likely to be incorrect then the primary syntax tree is the automatically generated syntax tree.\n",
    "\n",
    "### Error Tree \n",
    "\n",
    "* Error tree will be a syntax tree with the same shape as the primary syntax but with different labelling.\n",
    "* Syntax trees encode word types on the arks. In error trees nodes are still words but their word types are encoded as node labels, e.g. $\\ell(mina)=subject$, $\\ell(söön)=verb$, $\\ell(putru)=object$. \n",
    "* Arcs of an error tree are the same as for the primary syntax tree. Labels on the ark describe errors connected to the source node. It consist of two parts: label error $e_1$ and arc error $e_2$.   \n",
    "* Label errors for an arc $a\\to b$ are easy to define:\n",
    "  * $e_1=true$ if the algorithm correctly identifies the word type of $a$. \n",
    "  * $e_1=\\ell_1\\to \\ell_2$ if the algorithm sets the word type of $a$ to $\n",
    "\\ell_1$ instead of $\\ell_2$.\n",
    "* Ark errors for an arc $a\\to b$ are more difficult to define:\n",
    "  * $e_2=true$ if the algorithm correctly identifies the ark outgoing form $a$\n",
    "  * $e_2$ is an error description otherwise.\n",
    "  * The simplest error description is $false$.\n",
    "  * The most complex error description is how the arks must be changed defined in the terms of the primary tree. \n",
    "  * The change must be given as a set of local instructions starting from the source node $a$, e.g. go one level up, take the right child, take the left child and stop. \n",
    "  \n",
    "\n",
    "### Error pattern \n",
    "\n",
    "* Error pattern is a template that matches an error tree and identifies one or many error labels\n",
    "* For example $(object\\to verb, e_1=object\\to subject, e_2=true)$ matches all arks in erro tree where $subject$ is marked as $object$. \n",
    "* Error pattern may match the same error tree more than once in an error tree. Parrerns where matches partially overlap are anomalous and should not be used.    \n"
   ]
  },
  {
   "cell_type": "markdown",
   "metadata": {},
   "source": [
    "## Splits in decision tree\n",
    "\n",
    "* A decision tree is a recursive partitioning of existing data with the aim to get coherent clusters\n",
    "* For error trees we are also seeking for recursive splits but the operations are not so simple.\n",
    "* Split in decision tree is usually defined by a predicate. Everthing the satisfies it goes to one split and the rest goes to another.\n",
    "* Split for error trees is specified by set of error patterns so that at least one pattern matches each error. \n",
    "* Pattern in the split must be exclusive with respect to erro labels. Only one pattern can mach each error label or suberror. \n",
    "* Here we seek the final list of filters.\n",
    "\n"
   ]
  }
 ],
 "metadata": {
  "kernelspec": {
   "display_name": "Python 3",
   "language": "python",
   "name": "python3"
  },
  "language_info": {
   "codemirror_mode": {
    "name": "ipython",
    "version": 3
   },
   "file_extension": ".py",
   "mimetype": "text/x-python",
   "name": "python",
   "nbconvert_exporter": "python",
   "pygments_lexer": "ipython3",
   "version": "3.7.4"
  }
 },
 "nbformat": 4,
 "nbformat_minor": 2
}
