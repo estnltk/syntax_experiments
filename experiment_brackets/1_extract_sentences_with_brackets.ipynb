{
 "cells": [
  {
   "cell_type": "markdown",
   "id": "90d24dc0",
   "metadata": {},
   "source": [
    "# Sulgudega lausete kogumine korpusest\n",
    "\n",
    "Teeme koondkorpus_base_v2_20220216.tsv failist faili, kus on sees laused mis sisaldavad sulge, nende collection_id ja esimese sõna span.start.\n",
    "\n",
    "Laused tuleb koguda originaalkujul"
   ]
  },
  {
   "cell_type": "code",
   "execution_count": 1,
   "id": "66a91850",
   "metadata": {},
   "outputs": [],
   "source": [
    "from pathlib import Path\n",
    "\n",
    "Path(\"./result\").mkdir(parents=True, exist_ok=True) \n",
    "\n",
    "collectionName = 'koondkorpus_base_v2_20220216' # 'koondkorpus_base_v2'\n",
    "corpusTSV = f'/Users/rabauti/repos/estnltk-model-training/collocation_net/data_extraction/from_tsv/koondkorpus_base_v2_20220216.tsv'\n",
    "outputTSV = f'result/1_sentences_with_brackets.tsv'\n",
    "\n",
    "fOut = open(outputTSV, 'w')"
   ]
  },
  {
   "cell_type": "code",
   "execution_count": 2,
   "id": "7a447b17",
   "metadata": {},
   "outputs": [],
   "source": [
    "\n",
    "def getSentenceText(current_sentence):\n",
    "    current_sentence_words = []\n",
    "    for i in range(len(current_sentence)):\n",
    "        w = ''\n",
    "        if i==0:\n",
    "            w = current_sentence[i]['text']\n",
    "        else:\n",
    "            spaces = int(current_sentence[i]['start']) - int(current_sentence[i-1]['start'])- len(current_sentence[i-1]['text'])\n",
    "            for j in range(spaces):\n",
    "                w = w + ' '\n",
    "            w = w + current_sentence[i]['text']\n",
    "        current_sentence_words.append(w) \n",
    "    return ''.join(current_sentence_words) \n",
    "    \n",
    "\n",
    "#text sisaldab \n",
    "import re\n",
    "def hasBrackets(sentence_text):\n",
    "    #if re.search(r'(?<=abc)def', sentence_text):\n",
    "    if re.search(r' \\( [^\\(\\)]+ \\)', ' ' + sentence_text):\n",
    "        return True\n",
    "    else:\n",
    "        return False\n",
    "\n",
    "    "
   ]
  },
  {
   "cell_type": "code",
   "execution_count": 3,
   "id": "6f22036b",
   "metadata": {},
   "outputs": [
    {
     "name": "stdout",
     "output_type": "stream",
     "text": [
      "CPU times: user 15min 38s, sys: 8.3 s, total: 15min 47s\n",
      "Wall time: 15min 52s\n"
     ]
    }
   ],
   "source": [
    "%%time\n",
    "\n",
    "has_brackets = False\n",
    "\n",
    "count = 0\n",
    "current_sentence = []\n",
    "\n",
    "colId = None\n",
    "prevCol = 0\n",
    "\n",
    "with open(corpusTSV) as f:\n",
    "    for line in f:\n",
    "        count +=1\n",
    "        line = line.strip(\"\\n\")\n",
    "        row = line.split('\\t')\n",
    "        \n",
    "        if not len(row) == 9:\n",
    "            continue\n",
    "        \n",
    "        data = {}\n",
    "        prevCol = colId\n",
    "        (colId, data['start'], data['id'], data['text'], data['lemma'], data['upostag'], data['deprel'], data['head'], data['feat']) = row\n",
    "        colId = int(colId)\n",
    "        \n",
    "        for k in ('id', 'start', 'head'):\n",
    "            data[k] = int(data[k])\n",
    "        \n",
    "        \n",
    "        #sentence start\n",
    "        if data['id'] == 1:\n",
    "            if len(current_sentence):\n",
    "                current_sentence_text = getSentenceText(current_sentence) \n",
    "                has_brackets = hasBrackets(current_sentence_text)\n",
    "                if has_brackets:\n",
    "                    fOut.write('%s\\t%s\\t%s\\n' % (prevCol, current_sentence[0]['start'], current_sentence_text,  ))\n",
    "            current_sentence = []\n",
    "            has_brackets = False\n",
    "          \n",
    "        current_sentence.append(data)\n",
    "\n",
    "    \n",
    "    #viimane lause\n",
    "    current_sentence_text = getSentenceText(current_sentence) \n",
    "    if  hasBrackets(current_sentence_text):           \n",
    "        fOut.write('%s\\t%s\\t%s\\n' % (prevCol, current_sentence[0]['start'], current_sentence_text,  ))\n",
    "\n",
    "fOut.close()\n",
    "f.close()\n"
   ]
  }
 ],
 "metadata": {
  "kernelspec": {
   "display_name": "Python 3",
   "language": "python",
   "name": "python3"
  },
  "language_info": {
   "codemirror_mode": {
    "name": "ipython",
    "version": 3
   },
   "file_extension": ".py",
   "mimetype": "text/x-python",
   "name": "python",
   "nbconvert_exporter": "python",
   "pygments_lexer": "ipython3",
   "version": "3.7.7"
  }
 },
 "nbformat": 4,
 "nbformat_minor": 5
}
