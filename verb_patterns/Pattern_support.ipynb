{
 "cells": [
  {
   "cell_type": "code",
   "execution_count": 1,
   "id": "f2d17e57",
   "metadata": {},
   "outputs": [],
   "source": [
    "import sqlite3"
   ]
  },
  {
   "cell_type": "markdown",
   "id": "c1962978",
   "metadata": {},
   "source": [
    "Verbimustrite tabelite põhjal luuakse uus tabel **pattern_support**, kus on toodud verbimustrite esinemissagedused transaktsioonide andmebaasis. Tabelis on järgnevad veerud:\n",
    "\n",
    "    pat_id - mustri ID\n",
    "    verb_word - (pea)verb\n",
    "    verb_compound - verbikonstruktsiooni muu osa\n",
    "    phrase_case - kääne\n",
    "    adp - kaassõna\n",
    "    inf_verb - infiniitverb\n",
    "    verb_occurrence_count - verbi(konstruktsiooni) esinemissagedus transaktsioonide andmebaasis\n",
    "    absolute_support - mustri esinemissagedus transaktsioonide andmebaasis\n",
    "    relative_support - mustri esinemissagedus võrreldes verbi esinemissagedusega transaktsioonide andmebaasis\n",
    "    \n",
    "  "
   ]
  },
  {
   "cell_type": "code",
   "execution_count": 6,
   "id": "aefedb68",
   "metadata": {},
   "outputs": [],
   "source": [
    "con = sqlite3.connect(\"vp_data2.db\")\n",
    "cur = con.cursor()"
   ]
  },
  {
   "cell_type": "code",
   "execution_count": 7,
   "id": "627ed32e",
   "metadata": {},
   "outputs": [
    {
     "data": {
      "text/plain": [
       "<sqlite3.Cursor at 0x1b77c51e240>"
      ]
     },
     "execution_count": 7,
     "metadata": {},
     "output_type": "execute_result"
    }
   ],
   "source": [
    "cur.execute(\"\"\"\n",
    "DROP TABLE IF EXISTS pattern_support\n",
    "\"\"\")\n",
    "\n",
    "cur.execute(\"\"\"\n",
    "CREATE TABLE pattern_support AS\n",
    "SELECT\n",
    "    patterns_meta.pat_id,\n",
    "    verb_word,\n",
    "    verb_compound,\n",
    "    phrase_case,\n",
    "    adp,\n",
    "    inf_verb,\n",
    "    verb_match_count AS verb_occurrence_count,\n",
    "    phrase_count AS absolute_support,\n",
    "    CAST(phrase_count AS REAL) / CAST(verb_match_count AS REAL) * 100 AS relative_support\n",
    "FROM\n",
    "(\n",
    "    SELECT \n",
    "        patterns.pat_id,\n",
    "        verb_word,\n",
    "        verb_compound,\n",
    "        phrase_case,\n",
    "        adp,\n",
    "        inf_verb,\n",
    "        count(*) AS verb_match_count\n",
    "    FROM\n",
    "        verb_matches\n",
    "    INNER JOIN\n",
    "        patterns\n",
    "    ON\n",
    "        patterns.pat_id = verb_matches.pat_id\n",
    "    GROUP BY\n",
    "        patterns.pat_id\n",
    ") as tbl\n",
    "INNER JOIN\n",
    "    patterns_meta\n",
    "ON\n",
    "    tbl.pat_id = patterns_meta.pat_id\n",
    "ORDER BY\n",
    "    relative_support DESC\n",
    "\"\"\")"
   ]
  },
  {
   "cell_type": "code",
   "execution_count": 8,
   "id": "19aa6d49",
   "metadata": {},
   "outputs": [],
   "source": [
    "con.close()"
   ]
  },
  {
   "cell_type": "code",
   "execution_count": null,
   "id": "82c0edad",
   "metadata": {},
   "outputs": [],
   "source": []
  }
 ],
 "metadata": {
  "kernelspec": {
   "display_name": "Python 3 (ipykernel)",
   "language": "python",
   "name": "python3"
  },
  "language_info": {
   "codemirror_mode": {
    "name": "ipython",
    "version": 3
   },
   "file_extension": ".py",
   "mimetype": "text/x-python",
   "name": "python",
   "nbconvert_exporter": "python",
   "pygments_lexer": "ipython3",
   "version": "3.10.11"
  }
 },
 "nbformat": 4,
 "nbformat_minor": 5
}
