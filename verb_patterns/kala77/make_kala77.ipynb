{
 "cells": [
  {
   "cell_type": "code",
   "execution_count": 1,
   "metadata": {},
   "outputs": [],
   "source": [
    "%load_ext autoreload\n",
    "%autoreload 2\n"
   ]
  },
  {
   "cell_type": "markdown",
   "metadata": {},
   "source": [
    "# kala77 andmebaasi tegemine\n",
    "\n",
    "Skripti töö tulemusena tekitatakse uus andmebaasifail **kala77**.\n",
    "Baas sisaldab kõiki transaktsioone, mis pole kaetud olemasolevate mustritega.\n",
    "Kaetud on **ainult mustribaasis olevad** verbid.\n",
    "\n",
    "Sisendiks on:\n",
    "\n",
    "- verbi mustrite andmebaas: verb_patterns_new.db\n",
    "- verbi transaktsioonide andmebaas: v33_transactions.db\n",
    "\n",
    "## andmebaas kala77\n",
    "\n",
    "### Tabelid\n",
    "\n",
    "### TABEL1 transaction_head\n",
    "\n",
    "| väli          | tüüp | kirjeldus                                                                         | näide      | märkus          |\n",
    "| ------------- | ---- | --------------------------------------------------------------------------------- | ---------- | --------------- |\n",
    "| id            | int  | rea <br/>unikaalne ID                                                             | _56_       |                 |\n",
    "| sentence_id   | int  | lause id andmebaasis                                                              |            |                 |\n",
    "| loc           | int  | verbi asukoht lauses                                                              |            |                 |\n",
    "| verb          | text | verbi lemma                                                                       | _olema_    |                 |\n",
    "| verb_compound | text | verbi afiksaaladverbid                                                            | alla,peale | eraldajaks koma |\n",
    "| form          | text | verb sellises vormis, nagu see lauses esines                                      | _oli_      |                 |\n",
    "| deprel        | text | verbi deprel                                                                      |            |                 |\n",
    "| feats         | text | verbi morf kategooriad alfabeetilises järjekorras                                 | aux,ps3    |                 |\n",
    "| phrase        | text | puhastatud fraas (ainult need alluvad, mis on transactions tabelisse salvestatud) |            |                 |\n",
    "\n",
    "### TABEL2 transaction\n",
    "\n",
    "| väli       | tüüp | kirjeldus                                                            | näide  | märkus |\n",
    "| ---------- | ---- | -------------------------------------------------------------------- | ------ | ------ |\n",
    "| id         | int  | rea <br/>unikaalne ID                                                | _56_   |        |\n",
    "| head_id    | int  | rea transaction_head.id                                              |        |        |\n",
    "| loc        | int  | sõna asukoht lauses                                                  |        |        |\n",
    "| loc_rel    | int  | sõna asukoht verbi suhtes                                            |        |        |\n",
    "| deprel     | text | sõna deprel                                                          |        |        |\n",
    "| form       | text | sõna vorm                                                            |        |        |\n",
    "| lemma      | text | sõna lemma                                                           |        |        |\n",
    "| pos        | text | sõna sõnaliik                                                        |        |        |\n",
    "| feats      | text | sõna morf kategooriad alfabeetilises järjekorras                     | add,sg |        |\n",
    "| parent_loc | int  | vanema tipu loc, juhul kui tegemist on <code>obl</obl> alluvaga case | 2      |        |\n",
    "\n",
    "### TABEL3 verbs_table\n",
    "\n",
    "| väli          | tüüp | kirjeldus                               | näide    | märkus          |\n",
    "| ------------- | ---- | --------------------------------------- | -------- | --------------- |\n",
    "| verb_id       | int  | verbi unikaalne id                      |          |                 |\n",
    "| verb          | text | verbi lemma                             | _aasima_ |                 |\n",
    "| verb_compound | text | verbi afiksaaladverbid                  |          | eraldajaks koma |\n",
    "| pat_ids       | text | mustrite id-d verb_patterns andmebaasis |          | eraldajaks koma |\n",
    "\n",
    "### TABEL4 verb_transactions\n",
    "\n",
    "| väli    | tüüp | kirjeldus         | näide | märkus |\n",
    "| ------- | ---- | ----------------- | ----- | ------ |\n",
    "| verb_id | int  | verbi id          |       |        |\n",
    "| head_id | int  | transaktsiooni id |       |        |\n"
   ]
  },
  {
   "cell_type": "code",
   "execution_count": 2,
   "metadata": {},
   "outputs": [],
   "source": [
    "import os\n",
    "from pathlib import Path\n",
    "from kala77_helpers import *\n",
    "import sqlite3\n",
    "from sqlalchemy import create_engine, text\n",
    "\n",
    "\n",
    "ROOT = str(Path(os.getcwd()).parent.parent)\n",
    "\n",
    "PATH_TRANSACTIONS_DB = (\n",
    "    ROOT\n",
    "    + \"/verb_transactions/v33/v33_koondkorpus_sentences_verb_pattern_obl_20241002-130310.db\"\n",
    ")\n",
    "PATH_PATTERNS_DB = ROOT + \"/verb_patterns/vp_data2.db\"\n",
    "KALA77_DB = os.getcwd() + \"/kala77.db\""
   ]
  },
  {
   "cell_type": "code",
   "execution_count": 3,
   "metadata": {},
   "outputs": [
    {
     "name": "stdout",
     "output_type": "stream",
     "text": [
      "sqlite:////Users/rabauti/repos/tu/estnltk/syntax_experiments__verb_templates/verb_patterns/kala77/kala77.db\n"
     ]
    },
    {
     "data": {
      "text/plain": [
       "<sqlalchemy.engine.cursor.CursorResult at 0x1244a4d70>"
      ]
     },
     "execution_count": 3,
     "metadata": {},
     "output_type": "execute_result"
    }
   ],
   "source": [
    "# tekitab andmebaasifaili, kui seda veel ei olnud\n",
    "\n",
    "con = sqlite3.connect(KALA77_DB)\n",
    "con.close()\n",
    "\n",
    "\n",
    "DATABASE_PATH = f\"sqlite:///{KALA77_DB}\"\n",
    "print(DATABASE_PATH)\n",
    "\n",
    "engine = create_engine(DATABASE_PATH)\n",
    "reset_tables(engine)\n",
    "\n",
    "\n",
    "# kasutame sqlalchemyt, et oleks lihtsam tabeleid luua\n",
    "conn = engine.connect()\n",
    "\n",
    "# liidame teised andmebaasid\n",
    "conn.execute(text(f\"ATTACH DATABASE '{PATH_PATTERNS_DB}' AS db_pat\"))\n",
    "conn.execute(text(f\"ATTACH DATABASE '{PATH_TRANSACTIONS_DB}' AS db_tr\"))"
   ]
  },
  {
   "cell_type": "code",
   "execution_count": 4,
   "metadata": {},
   "outputs": [
    {
     "name": "stdout",
     "output_type": "stream",
     "text": [
      "CPU times: user 2.03 ms, sys: 977 μs, total: 3.01 ms\n",
      "Wall time: 3.12 ms\n"
     ]
    }
   ],
   "source": [
    "%%time\n",
    "# täidame verbs tabeli\n",
    "fill_table_verbs(conn=conn)"
   ]
  },
  {
   "cell_type": "code",
   "execution_count": 5,
   "metadata": {},
   "outputs": [
    {
     "name": "stdout",
     "output_type": "stream",
     "text": [
      "andmebaasi lisati 1271 verbi\n",
      "CPU times: user 1.57 ms, sys: 517 μs, total: 2.08 ms\n",
      "Wall time: 1.64 ms\n"
     ]
    }
   ],
   "source": [
    "%%time\n",
    "verbs = conn.execute(select(verbs_table.c.verb_id, verbs_table.c.pat_ids, verbs_table.c.verb, verbs_table.c.verb_compound)).mappings().all()\n",
    "print(f\"andmebaasi lisati {len(verbs)} verbi\")"
   ]
  },
  {
   "cell_type": "code",
   "execution_count": 6,
   "metadata": {},
   "outputs": [
    {
     "name": "stderr",
     "output_type": "stream",
     "text": [
      "100%|██████████| 1271/1271 [00:19<00:00, 65.29it/s] \n"
     ]
    },
    {
     "name": "stdout",
     "output_type": "stream",
     "text": [
      "CPU times: user 13.1 s, sys: 3.89 s, total: 16.9 s\n",
      "Wall time: 20.2 s\n"
     ]
    },
    {
     "data": {
      "text/plain": [
       "10796950"
      ]
     },
     "execution_count": 6,
     "metadata": {},
     "output_type": "execute_result"
    }
   ],
   "source": [
    "%%time\n",
    "# täidame verb_transactions tabeli\n",
    "from tqdm import tqdm\n",
    "for v in tqdm(verbs):\n",
    "    fill_table_verb_transactions(conn=conn, verb_id=v['verb_id'], pat_ids=v['pat_ids'].split(','))\n",
    "conn.execute(text(\"SELECT COUNT(verb_id) FROM verb_transactions\")).scalar()  "
   ]
  },
  {
   "cell_type": "code",
   "execution_count": 7,
   "metadata": {},
   "outputs": [
    {
     "name": "stdout",
     "output_type": "stream",
     "text": [
      "CPU times: user 37.1 s, sys: 1min 56s, total: 2min 33s\n",
      "Wall time: 22min 31s\n"
     ]
    }
   ],
   "source": [
    "%%time \n",
    "# täidame transaction_head tabeli, võtab ca paarkümmend minutit aega\n",
    "fill_table_transaction_head(conn=conn)\n"
   ]
  },
  {
   "cell_type": "code",
   "execution_count": 8,
   "metadata": {},
   "outputs": [
    {
     "name": "stdout",
     "output_type": "stream",
     "text": [
      "CPU times: user 1min 58s, sys: 10min 36s, total: 12min 35s\n",
      "Wall time: 33min 17s\n"
     ]
    }
   ],
   "source": [
    "%%time \n",
    "# täidame transaction_head tabeli, võtab ca paarkümmend minutit aega\n",
    "fill_table_transaction_row(conn=conn)"
   ]
  },
  {
   "cell_type": "code",
   "execution_count": 9,
   "metadata": {},
   "outputs": [
    {
     "name": "stdout",
     "output_type": "stream",
     "text": [
      "verb {'verb_id': 1200, 'pat_ids': '2262,2263', 'verb': 'virgutama', 'verb_compound': ''}\n",
      "db_pat total: 91\n",
      "db_pat unmatched: 36\n",
      "db_pat matched: 55\n",
      "db_tr all: 91\n",
      "kala77 all: 36\n",
      " \n",
      "verb {'verb_id': 406, 'pat_ids': '2496', 'verb': 'kloppima', 'verb_compound': 'üles'}\n",
      "db_pat total: 11\n",
      "db_pat unmatched: 6\n",
      "db_pat matched: 5\n",
      "db_tr all: 11\n",
      "kala77 all: 6\n",
      " \n",
      "verb {'verb_id': 843, 'pat_ids': '1585', 'verb': 'reguleerima', 'verb_compound': ''}\n",
      "db_pat total: 5350\n",
      "db_pat unmatched: 800\n",
      "db_pat matched: 4550\n",
      "db_tr all: 5350\n",
      "kala77 all: 800\n",
      " \n",
      "verb {'verb_id': 307, 'pat_ids': '503', 'verb': 'kadestama', 'verb_compound': ''}\n",
      "db_pat total: 810\n",
      "db_pat unmatched: 212\n",
      "db_pat matched: 598\n",
      "db_tr all: 810\n",
      "kala77 all: 212\n",
      " \n",
      "verb {'verb_id': 236, 'pat_ids': '1049,1050', 'verb': 'jalutama', 'verb_compound': 'läbi'}\n",
      "db_pat total: 117\n",
      "db_pat unmatched: 71\n",
      "db_pat matched: 46\n",
      "db_tr all: 117\n",
      "kala77 all: 71\n",
      " \n",
      "verb {'verb_id': 869, 'pat_ids': '1623', 'verb': 'ründama', 'verb_compound': ''}\n",
      "db_pat total: 10046\n",
      "db_pat unmatched: 3432\n",
      "db_pat matched: 6614\n",
      "db_tr all: 10046\n",
      "kala77 all: 3432\n",
      " \n",
      "verb {'verb_id': 1227, 'pat_ids': '2351,2352', 'verb': 'võrdlema', 'verb_compound': ''}\n",
      "db_pat total: 6671\n",
      "db_pat unmatched: 1407\n",
      "db_pat matched: 5264\n",
      "db_tr all: 6671\n",
      "kala77 all: 1407\n",
      " \n",
      "verb {'verb_id': 221, 'pat_ids': '384', 'verb': 'innustuma', 'verb_compound': ''}\n",
      "db_pat total: 341\n",
      "db_pat unmatched: 147\n",
      "db_pat matched: 194\n",
      "db_tr all: 341\n",
      "kala77 all: 147\n",
      " \n",
      "verb {'verb_id': 728, 'pat_ids': '1348', 'verb': 'otsustama', 'verb_compound': ''}\n",
      "db_pat total: 77872\n",
      "db_pat unmatched: 77767\n",
      "db_pat matched: 105\n",
      "db_tr all: 77872\n",
      "kala77 all: 77767\n",
      " \n",
      "verb {'verb_id': 119, 'pat_ids': '231', 'verb': 'haakuma', 'verb_compound': ''}\n",
      "db_pat total: 1986\n",
      "db_pat unmatched: 546\n",
      "db_pat matched: 1440\n",
      "db_tr all: 1986\n",
      "kala77 all: 546\n",
      " \n",
      "CPU times: user 11 s, sys: 6.78 s, total: 17.7 s\n",
      "Wall time: 48.1 s\n"
     ]
    }
   ],
   "source": [
    "%%time\n",
    "# kontrollime 10 juhusliku verbi pealt, et numbrid jooksevad kokku\n",
    "import random\n",
    "random_i = random.sample(range(0, len(verbs)-1), 10)\n",
    "# check verbs stat\n",
    "# get counts of random transactions to check, that numbers align together\n",
    "for v in [verbs[i] for i in random_i]:\n",
    "    show_verb_trans_stat(conn=conn, verb=v)\n",
    "    "
   ]
  },
  {
   "cell_type": "code",
   "execution_count": 10,
   "metadata": {},
   "outputs": [],
   "source": [
    "conn.close()"
   ]
  }
 ],
 "metadata": {
  "kernelspec": {
   "display_name": "venv",
   "language": "python",
   "name": "python3"
  },
  "language_info": {
   "codemirror_mode": {
    "name": "ipython",
    "version": 3
   },
   "file_extension": ".py",
   "mimetype": "text/x-python",
   "name": "python",
   "nbconvert_exporter": "python",
   "pygments_lexer": "ipython3",
   "version": "3.11.7"
  }
 },
 "nbformat": 4,
 "nbformat_minor": 2
}
