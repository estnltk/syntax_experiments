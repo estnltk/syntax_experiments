{
 "cells": [
  {
   "cell_type": "code",
   "execution_count": 1,
   "id": "221b0a29",
   "metadata": {},
   "outputs": [],
   "source": [
    "import sqlite3"
   ]
  },
  {
   "cell_type": "markdown",
   "id": "cb7dd099",
   "metadata": {},
   "source": [
    "### Ettevalmistus"
   ]
  },
  {
   "cell_type": "code",
   "execution_count": 2,
   "id": "11b479f2",
   "metadata": {},
   "outputs": [],
   "source": [
    "# verbimustrite andmebaas, hetkel kasutan sealt ainult tabelit verb_patterns_len1\n",
    "con = sqlite3.connect(\"verb_patterns_new.db\")\n",
    "cur = con.cursor()"
   ]
  },
  {
   "cell_type": "code",
   "execution_count": 3,
   "id": "90788741",
   "metadata": {},
   "outputs": [
    {
     "data": {
      "text/plain": [
       "<sqlite3.Cursor at 0x1b60156aac0>"
      ]
     },
     "execution_count": 3,
     "metadata": {},
     "output_type": "execute_result"
    }
   ],
   "source": [
    "# transaktsioonide andmebaasi lisamine (v32)\n",
    "cur.execute('ATTACH DATABASE \"v32_data.db\" AS v32')"
   ]
  },
  {
   "cell_type": "code",
   "execution_count": 4,
   "id": "5211f4f4",
   "metadata": {},
   "outputs": [
    {
     "data": {
      "text/plain": [
       "<sqlite3.Cursor at 0x1b60156aac0>"
      ]
     },
     "execution_count": 4,
     "metadata": {},
     "output_type": "execute_result"
    }
   ],
   "source": [
    "# uue andmebaasi lisamine, hetkel nimeks vp_data2. Siia salvestuvad loodavad tabelid\n",
    "cur.execute('ATTACH DATABASE \"vp_data2.db\" AS vp')"
   ]
  },
  {
   "cell_type": "markdown",
   "id": "97b78ec4",
   "metadata": {},
   "source": [
    "### I tabel patterns"
   ]
  },
  {
   "cell_type": "markdown",
   "id": "bc2e7aec",
   "metadata": {},
   "source": [
    "Veerud:\n",
    "\n",
    "    pat_id - (mustri ID tabelis patterns_len1)\n",
    "    pattern - (algne muster sõnena; NB! HETKEL ON SELLE VEERU READ MINGIL PÕHJUSEL NIHKES, SEETÕTTU PALUN HETKEL SEDA IGNOREERIDA, PARANDAN HILJEM)\n",
    "    verb_word - (mustri (pea)verb)\n",
    "    verb_compound - (pikema verbiühendi ülejäänud osad)\n",
    "    phrase_nr - (fraasi number; kuna hetkel on vaatluse all ainult tabelist patterns_len1 pärit mustrid, on kõigil fraasidel number 1)\n",
    "    phrase_case - (fraasi põhiliikme (pärast verbi) kääne; hiljem vaatame ilmselt vaid fraase, kus selles käändes on obliikva, kuid praeguseks pole seda tingimust veel sisse pandud)\n",
    "    adp - (kaassõna)\n",
    "    inf_verb - (infiniitverb)\n",
    "    \n",
    "Vajalik info saadakse tabelitest patterns_len1 ja transaction_head.\n",
    "Hetkel on märgitud limiidiks 200, sest protseduur on aeganõudev. See tähendab, et tabelis patterns on tabelist patterns_len1 esimesed 200 mustrit, millel on lisaks põhiverbile kuni üks verbiühendi osa ning millel ei ole tabelis patterns_len1 *other*-kategooriasse kuuluvat mustriliiget.\n",
    "Verbiühendeid, millel on lisaks põhiverbile rohkem, kui üks osa, on transaktsioonide andmebaasis võrdlemisi vähe.\n",
    "*Other*-kategooria lahendamine on natuke keerukas (sidesõnad, sõnad nagu 'millal', 'kuidas' jne)."
   ]
  },
  {
   "cell_type": "code",
   "execution_count": 5,
   "id": "103db145",
   "metadata": {},
   "outputs": [
    {
     "data": {
      "text/plain": [
       "<sqlite3.Cursor at 0x1b60156aac0>"
      ]
     },
     "execution_count": 5,
     "metadata": {},
     "output_type": "execute_result"
    }
   ],
   "source": [
    "cur.execute(\"\"\"\n",
    "DROP TABLE IF EXISTS vp.patterns\n",
    "\"\"\")\n",
    "\n",
    "cur.execute(\"\"\"\n",
    "CREATE TABLE vp.patterns AS\n",
    "SELECT DISTINCT\n",
    "    pat.ID AS pat_id,\n",
    "    pat.word || ' ' || pat.government AS pattern,\n",
    "    pat.verb_word AS verb_word,\n",
    "    pat.compound_prt1 AS verb_compound,\n",
    "    pat.phrase_nr AS phrase_nr,\n",
    "    pat.w_case AS phrase_case,\n",
    "    pat.adp AS adp,\n",
    "    pat.verb AS inf_verb\n",
    "FROM \n",
    "    patterns_len1 as pat\n",
    "INNER JOIN \n",
    "    v32.transaction_head\n",
    "ON \n",
    "    pat.verb_word = v32.transaction_head.verb\n",
    "WHERE \n",
    "    pat.compound_prt1 = v32.transaction_head.verb_compound\n",
    "AND \n",
    "    pat.compound_prt2 = ''\n",
    "AND \n",
    "    pat.compound_prt3 = ''\n",
    "AND \n",
    "    pat.other = ''\n",
    "\"\"\")\n",
    "\n",
    "cur.execute(\"\"\"\n",
    "CREATE INDEX vp.pat_id_idx ON patterns(pat_id)\n",
    "\"\"\"\n",
    ")\n",
    "\n",
    "cur.execute(\"\"\"\n",
    "CREATE INDEX vp.phrase_case_idx ON patterns(phrase_case)\n",
    "\"\"\"\n",
    ")\n",
    "\n",
    "cur.execute(\"\"\"\n",
    "CREATE INDEX vp.adp_idx ON patterns(adp)\n",
    "\"\"\"\n",
    ")\n",
    "\n",
    "cur.execute(\"\"\"\n",
    "CREATE INDEX vp.inf_verb_idx ON patterns(inf_verb)\n",
    "\"\"\"\n",
    ")\n",
    "\n",
    "cur.execute(\"\"\"\n",
    "CREATE INDEX vp.verb_word_idx ON patterns(verb_word)\n",
    "\"\"\"\n",
    ")\n",
    "\n",
    "cur.execute(\"\"\"\n",
    "CREATE INDEX vp.verb_compound_idx ON patterns(verb_compound)\n",
    "\"\"\"\n",
    ")\n",
    "\n",
    "cur.execute(\"\"\"\n",
    "CREATE INDEX vp.phrase_nr_idx ON patterns(phrase_nr)\n",
    "\"\"\"\n",
    ")"
   ]
  },
  {
   "cell_type": "markdown",
   "id": "0b1e7f15",
   "metadata": {},
   "source": [
    "### Abitabel asjade kättesaamiseks"
   ]
  },
  {
   "cell_type": "markdown",
   "id": "fd73f978",
   "metadata": {},
   "source": [
    "Mitte-elegantne viis saada kätte kõik **head_id**-d, millele vastavates fraasides on esindatud kõik vaadeldavate mustrite osised (sobiv kääne (kui on), kaassõna (kui on), infiniitverb (kui on)). Saab kasutada ülejäänud tabelite koostamiseks. Ilmselt on võimalik teha tegelikult ära ka JOIN-ide abil. Limiidiks on 500, sest tegemist on taaskord üsna aeganõudva protsessiga."
   ]
  },
  {
   "cell_type": "code",
   "execution_count": 6,
   "id": "d5549df8",
   "metadata": {},
   "outputs": [
    {
     "data": {
      "text/plain": [
       "<sqlite3.Cursor at 0x1b60156aac0>"
      ]
     },
     "execution_count": 6,
     "metadata": {},
     "output_type": "execute_result"
    }
   ],
   "source": [
    "cur.execute(\"\"\"\n",
    "DROP TABLE IF EXISTS vp.verb_phrase_matches_step1\n",
    "\"\"\")\n",
    "cur.execute(\"\"\"\n",
    "DROP TABLE IF EXISTS vp.verb_phrase_matches_step2\n",
    "\"\"\")\n",
    "cur.execute(\"\"\"\n",
    "DROP TABLE IF EXISTS vp.verb_phrase_matches_step3\n",
    "\"\"\")\n",
    "\n",
    "cur.execute(\"\"\"\n",
    "CREATE TABLE vp.verb_phrase_matches_step1 AS\n",
    "SELECT pat_id,\n",
    "    tr.head_id,\n",
    "    phrase_case,\n",
    "    adp,\n",
    "    inf_verb,\n",
    "    phrase_nr\n",
    "FROM \n",
    "(\n",
    "    SELECT pat.pat_id as pat_id,\n",
    "        tr_head.id as head_id,\n",
    "        pat.phrase_case as phrase_case,\n",
    "        pat.adp as adp,\n",
    "        pat.inf_verb as inf_verb,\n",
    "        pat.phrase_nr as phrase_nr\n",
    "    FROM \n",
    "        vp.patterns as pat\n",
    "    INNER JOIN \n",
    "        v32.transaction_head as tr_head\n",
    "    ON\n",
    "        pat.verb_word=tr_head.verb\n",
    "    WHERE\n",
    "        pat.verb_compound=tr_head.verb_compound\n",
    ") as pat_tr_joined\n",
    "INNER JOIN \n",
    "    v32.`transaction` as tr\n",
    "ON\n",
    "    pat_tr_joined.head_id=tr.head_id\n",
    "WHERE \n",
    "    pat_tr_joined.phrase_case = '' OR instr(tr.feats, pat_tr_joined.phrase_case) > 0\n",
    "\"\"\")\n",
    "\n",
    "\n",
    "cur.execute(\"\"\"\n",
    "CREATE TABLE vp.verb_phrase_matches_step2 AS\n",
    "SELECT \n",
    "    pat_id,\n",
    "    tr.head_id,\n",
    "    phrase_case,\n",
    "    adp,\n",
    "    inf_verb,\n",
    "    phrase_nr\n",
    "FROM \n",
    "    vp.verb_phrase_matches_step1 as step1\n",
    "INNER JOIN \n",
    "    v32.`transaction` as tr\n",
    "ON \n",
    "    step1.head_id=tr.head_id\n",
    "WHERE \n",
    "    step1.adp = '' OR (tr.form = step1.adp AND tr.deprel = 'case')\n",
    "\"\"\")\n",
    "\n",
    "\n",
    "cur.execute(\"\"\"\n",
    "CREATE TABLE vp.verb_phrase_matches_step3 AS\n",
    "SELECT pat_id,\n",
    "    tr.head_id,\n",
    "    phrase_case,\n",
    "    adp,\n",
    "    inf_verb, \n",
    "    phrase_nr\n",
    "FROM \n",
    "    vp.verb_phrase_matches_step2 as step2\n",
    "INNER JOIN\n",
    "    v32.`transaction` as tr\n",
    "ON \n",
    "    step2.head_id=tr.head_id\n",
    "WHERE \n",
    "    step2.inf_verb = '' OR (tr.form = step2.inf_verb AND (instr(tr.feats, 'inf') > 0 OR instr(tr.feats, 'sup') > 0))\n",
    "\"\"\")\n",
    "\n",
    "\n",
    "cur.execute(\"\"\"\n",
    "DROP TABLE IF EXISTS vp.verb_phrase_matches_step1\n",
    "\"\"\")\n",
    "cur.execute(\"\"\"\n",
    "DROP TABLE IF EXISTS vp.verb_phrase_matches_step2\n",
    "\"\"\")"
   ]
  },
  {
   "cell_type": "markdown",
   "id": "4e80ab52",
   "metadata": {},
   "source": [
    "### II tabel patterns_meta"
   ]
  },
  {
   "cell_type": "markdown",
   "id": "0559a73e",
   "metadata": {},
   "source": [
    "Veerud:\n",
    "\n",
    "    pat_id - mustri ID\n",
    "    phrase_count - mustrile vastavate fraaside (limiteeritud) hulk transaktsioonide andmebaasis\n",
    "    \n",
    "Asjade kättesaamiseks kasutan abitabelit, sealt leian esiteks unikaalsed read, mis seejärel kokku loetakse. Tuleb endiselt silmas pidada, et vastete hulk transaktsioonide andmebaasist on hetkel piiratud."
   ]
  },
  {
   "cell_type": "code",
   "execution_count": 7,
   "id": "4830652d",
   "metadata": {},
   "outputs": [],
   "source": [
    "cur.execute(\"\"\"\n",
    "DROP TABLE IF EXISTS vp.patterns_meta\n",
    "\"\"\")\n",
    "\n",
    "cur.execute(\"\"\"\n",
    "CREATE TABLE vp.patterns_meta (\n",
    "    pat_id INTEGER,\n",
    "    phrase_count INTEGER\n",
    ")\n",
    "\"\"\")\n",
    "\n",
    "cur.execute(\"\"\"\n",
    "INSERT INTO vp.patterns_meta(\n",
    "    pat_id,\n",
    "    phrase_count\n",
    ")\n",
    "SELECT \n",
    "    pat_id,\n",
    "    count(*) AS phrase_count\n",
    "FROM\n",
    "(\n",
    "    SELECT DISTINCT\n",
    "        pat_id, \n",
    "        head_id\n",
    "    FROM\n",
    "        vp.verb_phrase_matches_step3\n",
    ") AS tbl\n",
    "GROUP BY\n",
    "    tbl.pat_id\n",
    "ORDER BY\n",
    "    phrase_count DESC\n",
    "\"\"\")\n",
    "\n",
    "cur.execute(\"\"\"\n",
    "CREATE INDEX vp.meta_pat_id_idx ON patterns_meta(pat_id)\n",
    "\"\"\"\n",
    ")\n",
    "\n",
    "con.commit()"
   ]
  },
  {
   "cell_type": "markdown",
   "id": "bc54a46d",
   "metadata": {},
   "source": [
    "### III tabel verb_phrase_matches"
   ]
  },
  {
   "cell_type": "markdown",
   "id": "cd24dad8",
   "metadata": {},
   "source": [
    "Veerud:\n",
    "\n",
    "    pat_id - mustri ID\n",
    "    head_id - verbi ID transaktsioonide andmebaasis\n",
    "    phrase_nr - fraasi nr\n",
    "    \n",
    "Asjade kättesaamiseks kasutan abitabelit, sealt leian unikaalsed read. Tuleb endiselt silmas pidada, et vastete hulk transaktsioonide andmebaasist on hetkel piiratud.\n",
    "Kui tulevikus võtta juurde pikemad mustrid, mis sisaldavad rohkem, kui ühte fraasi, siis saab esimene fraas olema eristatud tähistatud numbriga 1 ning teine numbriga 2."
   ]
  },
  {
   "cell_type": "code",
   "execution_count": 8,
   "id": "8987b84d",
   "metadata": {},
   "outputs": [],
   "source": [
    "cur.execute(\"\"\"\n",
    "DROP TABLE IF EXISTS vp.verb_phrase_matches\n",
    "\"\"\")\n",
    "\n",
    "cur.execute(\"\"\"\n",
    "CREATE TABLE vp.verb_phrase_matches (\n",
    "    pat_id INTEGER,\n",
    "    head_id INTEGER,\n",
    "    phrase_nr INTEGER\n",
    ")\n",
    "\"\"\")\n",
    "\n",
    "cur.execute(\"\"\"\n",
    "INSERT INTO vp.verb_phrase_matches(\n",
    "    pat_id,\n",
    "    head_id,\n",
    "    phrase_nr\n",
    ")\n",
    "SELECT DISTINCT\n",
    "    pat_id,\n",
    "    head_id,\n",
    "    phrase_nr\n",
    "FROM\n",
    "    vp.verb_phrase_matches_step3\n",
    "\"\"\")\n",
    "\n",
    "cur.execute(\"\"\"\n",
    "CREATE INDEX vp.match_pat_id_idx ON verb_phrase_matches(pat_id)\n",
    "\"\"\"\n",
    ")\n",
    "\n",
    "cur.execute(\"\"\"\n",
    "CREATE INDEX vp.match_head_id_idx ON verb_phrase_matches(head_id)\n",
    "\"\"\"\n",
    ")\n",
    "\n",
    "cur.execute(\"\"\"\n",
    "CREATE INDEX vp.match_phrase_nr_idx ON verb_phrase_matches(phrase_nr)\n",
    "\"\"\"\n",
    ")\n",
    "\n",
    "\n",
    "con.commit()"
   ]
  },
  {
   "cell_type": "markdown",
   "id": "d28f43ca",
   "metadata": {},
   "source": [
    "### IV tabel verb_matches"
   ]
  },
  {
   "cell_type": "markdown",
   "id": "e0c1882e",
   "metadata": {},
   "source": [
    "Veerud:\n",
    "\n",
    "    pat_id - mustri ID\n",
    "    head_id - verbi ID transaktsioonide andmebaasis\n",
    "    \n",
    "Asjade kättesaamiseks kasutan tabelit patterns, et saada kätte (piiratud hulga) mustrite verbid ning transaktsioonide tabelit transaction_head, et saada kätte viited kõigile lausetele, kus verbid esinevad. Ülejäänud mustrit pole selle tabeli puhul arvesse võetud."
   ]
  },
  {
   "cell_type": "code",
   "execution_count": 9,
   "id": "97ed7a41",
   "metadata": {},
   "outputs": [],
   "source": [
    "# tabel verb_matches\n",
    "cur.execute(\"\"\"\n",
    "DROP TABLE IF EXISTS vp.verb_matches\n",
    "\"\"\")\n",
    "\n",
    "cur.execute(\"\"\"\n",
    "CREATE TABLE vp.verb_matches (\n",
    "    pat_id INTEGER,\n",
    "    head_id INTEGER\n",
    ")\n",
    "\"\"\")\n",
    "\n",
    "cur.execute(\"\"\"\n",
    "INSERT INTO vp.verb_matches(\n",
    "    pat_id,\n",
    "    head_id\n",
    ")\n",
    "SELECT DISTINCT\n",
    "    pat_id,\n",
    "    head_id\n",
    "FROM\n",
    "(\n",
    "    SELECT pat_id, tr_head.id as head_id\n",
    "    FROM\n",
    "        patterns as pat\n",
    "    INNER JOIN\n",
    "        v32.transaction_head as tr_head\n",
    "    ON\n",
    "        pat.verb_word = tr_head.verb\n",
    "    WHERE pat.verb_compound = tr_head.verb_compound\n",
    ")\n",
    "\"\"\")\n",
    "\n",
    "cur.execute(\"\"\"\n",
    "CREATE INDEX vp.v_match_pat_id_idx ON verb_matches(pat_id)\n",
    "\"\"\"\n",
    ")\n",
    "\n",
    "cur.execute(\"\"\"\n",
    "CREATE INDEX vp.v_match_head_id_idx ON verb_matches(head_id)\n",
    "\"\"\"\n",
    ")\n",
    "\n",
    "\n",
    "con.commit()"
   ]
  },
  {
   "cell_type": "code",
   "execution_count": null,
   "id": "d94b90ff",
   "metadata": {},
   "outputs": [],
   "source": [
    "# soovi korral saab kustutada abitabeli, aga SQLITE-s see tegevus mäluruumi ei vabasta\n",
    "\n",
    "#cur.execute(\"\"\"\n",
    "#DROP TABLE IF EXISTS vp.verb_phrase_matches_step3\n",
    "#\"\"\")"
   ]
  },
  {
   "cell_type": "code",
   "execution_count": 10,
   "id": "b97ac5f3",
   "metadata": {},
   "outputs": [],
   "source": [
    "# ühenduse sulgemine\n",
    "con.close()"
   ]
  },
  {
   "cell_type": "code",
   "execution_count": null,
   "id": "164fe870",
   "metadata": {},
   "outputs": [],
   "source": []
  },
  {
   "cell_type": "code",
   "execution_count": null,
   "id": "90201f71",
   "metadata": {},
   "outputs": [],
   "source": []
  },
  {
   "cell_type": "code",
   "execution_count": null,
   "id": "b1ecaa20",
   "metadata": {},
   "outputs": [],
   "source": []
  }
 ],
 "metadata": {
  "kernelspec": {
   "display_name": "Python 3 (ipykernel)",
   "language": "python",
   "name": "python3"
  },
  "language_info": {
   "codemirror_mode": {
    "name": "ipython",
    "version": 3
   },
   "file_extension": ".py",
   "mimetype": "text/x-python",
   "name": "python",
   "nbconvert_exporter": "python",
   "pygments_lexer": "ipython3",
   "version": "3.10.11"
  }
 },
 "nbformat": 4,
 "nbformat_minor": 5
}
