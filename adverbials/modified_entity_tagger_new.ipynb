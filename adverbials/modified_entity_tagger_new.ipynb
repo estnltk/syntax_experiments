{
 "cells": [
  {
   "cell_type": "code",
   "execution_count": 1,
   "id": "a67c9ee2",
   "metadata": {},
   "outputs": [],
   "source": [
    "%load_ext autoreload\n",
    "%autoreload 2"
   ]
  },
  {
   "cell_type": "code",
   "execution_count": 2,
   "id": "96d35a7a",
   "metadata": {},
   "outputs": [],
   "source": [
    "from estnltk import Text\n",
    "from estnltk_neural.taggers import StanzaSyntaxTagger\n",
    "\n",
    "from estnltk_patches import EntityTagger\n",
    "from estnltk_patches import SyntaxTree"
   ]
  },
  {
   "cell_type": "code",
   "execution_count": 3,
   "id": "2c328b50",
   "metadata": {},
   "outputs": [
    {
     "name": "stderr",
     "output_type": "stream",
     "text": [
      "Downloading resources index: 13.6kB [00:00, 4.54MB/s]\n"
     ]
    }
   ],
   "source": [
    "stanza = StanzaSyntaxTagger()"
   ]
  },
  {
   "cell_type": "markdown",
   "id": "f4c469e1",
   "metadata": {},
   "source": [
    "## I. Simple example how to use stanza\n",
    "I use here a webtagger as I do not have estnltk_neural set up on Apple M1."
   ]
  },
  {
   "cell_type": "code",
   "execution_count": 4,
   "id": "40c20f52",
   "metadata": {},
   "outputs": [
    {
     "data": {
      "text/html": [
       "<h4>Layer</h4>\n",
       "\n",
       "\n",
       "<table border=\"1\" class=\"dataframe\">\n",
       "  <thead>\n",
       "    <tr style=\"text-align: right;\">\n",
       "      <th>layer name</th>\n",
       "      <th>attributes</th>\n",
       "      <th>parent</th>\n",
       "      <th>enveloping</th>\n",
       "      <th>ambiguous</th>\n",
       "      <th>span count</th>\n",
       "    </tr>\n",
       "  </thead>\n",
       "  <tbody>\n",
       "    <tr>\n",
       "      <td>stanza_syntax</td>\n",
       "      <td>id, lemma, upostag, xpostag, feats, head, deprel, deps, misc</td>\n",
       "      <td>morph_analysis</td>\n",
       "      <td>None</td>\n",
       "      <td>False</td>\n",
       "      <td>11</td>\n",
       "    </tr>\n",
       "  </tbody>\n",
       "</table>\n",
       "<table border=\"1\" class=\"dataframe\">\n",
       "  <thead>\n",
       "    <tr style=\"text-align: right;\">\n",
       "      <th>text</th>\n",
       "      <th>id</th>\n",
       "      <th>lemma</th>\n",
       "      <th>upostag</th>\n",
       "      <th>xpostag</th>\n",
       "      <th>feats</th>\n",
       "      <th>head</th>\n",
       "      <th>deprel</th>\n",
       "      <th>deps</th>\n",
       "      <th>misc</th>\n",
       "    </tr>\n",
       "  </thead>\n",
       "  <tbody>\n",
       "    <tr>\n",
       "      <td>Kui</td>\n",
       "      <td>1</td>\n",
       "      <td>kui</td>\n",
       "      <td>J</td>\n",
       "      <td>J</td>\n",
       "      <td>OrderedDict()</td>\n",
       "      <td>5</td>\n",
       "      <td>mark</td>\n",
       "      <td>_</td>\n",
       "      <td>_</td>\n",
       "    </tr>\n",
       "    <tr>\n",
       "      <td>Arno</td>\n",
       "      <td>2</td>\n",
       "      <td>Arno</td>\n",
       "      <td>H</td>\n",
       "      <td>H</td>\n",
       "      <td>OrderedDict([('sg', 'sg'), ('n', 'n')])</td>\n",
       "      <td>5</td>\n",
       "      <td>advcl</td>\n",
       "      <td>_</td>\n",
       "      <td>_</td>\n",
       "    </tr>\n",
       "    <tr>\n",
       "      <td>isaga</td>\n",
       "      <td>3</td>\n",
       "      <td>isa</td>\n",
       "      <td>S</td>\n",
       "      <td>S</td>\n",
       "      <td>OrderedDict([('sg', 'sg'), ('kom', 'kom')])</td>\n",
       "      <td>5</td>\n",
       "      <td>obl</td>\n",
       "      <td>_</td>\n",
       "      <td>_</td>\n",
       "    </tr>\n",
       "    <tr>\n",
       "      <td>koolimajja</td>\n",
       "      <td>4</td>\n",
       "      <td>koolimaja</td>\n",
       "      <td>S</td>\n",
       "      <td>S</td>\n",
       "      <td>OrderedDict([('adt', 'adt')])</td>\n",
       "      <td>5</td>\n",
       "      <td>obl</td>\n",
       "      <td>_</td>\n",
       "      <td>_</td>\n",
       "    </tr>\n",
       "    <tr>\n",
       "      <td>jõudis</td>\n",
       "      <td>5</td>\n",
       "      <td>jõudma</td>\n",
       "      <td>V</td>\n",
       "      <td>V</td>\n",
       "      <td>OrderedDict([('s', 's')])</td>\n",
       "      <td>10</td>\n",
       "      <td>advcl</td>\n",
       "      <td>_</td>\n",
       "      <td>_</td>\n",
       "    </tr>\n",
       "    <tr>\n",
       "      <td>,</td>\n",
       "      <td>6</td>\n",
       "      <td>,</td>\n",
       "      <td>Z</td>\n",
       "      <td>Z</td>\n",
       "      <td>OrderedDict()</td>\n",
       "      <td>5</td>\n",
       "      <td>punct</td>\n",
       "      <td>_</td>\n",
       "      <td>_</td>\n",
       "    </tr>\n",
       "    <tr>\n",
       "      <td>olid</td>\n",
       "      <td>7</td>\n",
       "      <td>olema</td>\n",
       "      <td>V</td>\n",
       "      <td>V</td>\n",
       "      <td>OrderedDict([('sid', 'sid')])</td>\n",
       "      <td>10</td>\n",
       "      <td>cop</td>\n",
       "      <td>_</td>\n",
       "      <td>_</td>\n",
       "    </tr>\n",
       "    <tr>\n",
       "      <td>tunnid</td>\n",
       "      <td>8</td>\n",
       "      <td>tund</td>\n",
       "      <td>S</td>\n",
       "      <td>S</td>\n",
       "      <td>OrderedDict([('pl', 'pl'), ('n', 'n')])</td>\n",
       "      <td>10</td>\n",
       "      <td>nsubj:cop</td>\n",
       "      <td>_</td>\n",
       "      <td>_</td>\n",
       "    </tr>\n",
       "    <tr>\n",
       "      <td>juba</td>\n",
       "      <td>9</td>\n",
       "      <td>juba</td>\n",
       "      <td>D</td>\n",
       "      <td>D</td>\n",
       "      <td>OrderedDict()</td>\n",
       "      <td>10</td>\n",
       "      <td>advmod</td>\n",
       "      <td>_</td>\n",
       "      <td>_</td>\n",
       "    </tr>\n",
       "    <tr>\n",
       "      <td>alanud</td>\n",
       "      <td>10</td>\n",
       "      <td>alanud</td>\n",
       "      <td>A</td>\n",
       "      <td>A</td>\n",
       "      <td>OrderedDict([('sg', 'sg'), ('n', 'n')])</td>\n",
       "      <td>0</td>\n",
       "      <td>root</td>\n",
       "      <td>_</td>\n",
       "      <td>_</td>\n",
       "    </tr>\n",
       "    <tr>\n",
       "      <td>.</td>\n",
       "      <td>11</td>\n",
       "      <td>.</td>\n",
       "      <td>Z</td>\n",
       "      <td>Z</td>\n",
       "      <td>OrderedDict()</td>\n",
       "      <td>10</td>\n",
       "      <td>punct</td>\n",
       "      <td>_</td>\n",
       "      <td>_</td>\n",
       "    </tr>\n",
       "  </tbody>\n",
       "</table>"
      ],
      "text/plain": [
       "Layer(name='stanza_syntax', attributes=('id', 'lemma', 'upostag', 'xpostag', 'feats', 'head', 'deprel', 'deps', 'misc'), spans=SL[Span('Kui', [{'id': 1, 'lemma': 'kui', 'upostag': 'J', 'xpostag': 'J', 'feats': OrderedDict(), 'head': 5, 'deprel': 'mark', 'deps': '_', 'misc': '_'}]),\n",
       "Span('Arno', [{'id': 2, 'lemma': 'Arno', 'upostag': 'H', 'xpostag': 'H', 'feats': OrderedDict([('sg', 'sg'), ('n', 'n')]), 'head': 5, 'deprel': 'advcl', 'deps': '_', 'misc': '_'}]),\n",
       "Span('isaga', [{'id': 3, 'lemma': 'isa', 'upostag': 'S', 'xpostag': 'S', 'feats': OrderedDict([('sg', 'sg'), ('kom', 'kom')]), 'head': 5, 'deprel': 'obl', 'deps': '_', 'misc': '_'}]),\n",
       "Span('koolimajja', [{'id': 4, 'lemma': 'koolimaja', 'upostag': 'S', 'xpostag': 'S', 'feats': OrderedDict([('adt', 'adt')]), 'head': 5, 'deprel': 'obl', 'deps': '_', 'misc': '_'}]),\n",
       "Span('jõudis', [{'id': 5, 'lemma': 'jõudma', 'upostag': 'V', 'xpostag': 'V', 'feats': OrderedDict([('s', 's')]), 'head': 10, 'deprel': 'advcl', 'deps': '_', 'misc': '_'}]),\n",
       "Span(',', [{'id': 6, 'lemma': ',', 'upostag': 'Z', 'xpostag': 'Z', 'feats': OrderedDict(), 'head': 5, 'deprel': 'punct', 'deps': '_', 'misc': '_'}]),\n",
       "Span('olid', [{'id': 7, 'lemma': 'olema', 'upostag': 'V', 'xpostag': 'V', 'feats': OrderedDict([('sid', 'sid')]), 'head': 10, 'deprel': 'cop', 'deps': '_', 'misc': '_'}]),\n",
       "Span('tunnid', [{'id': 8, 'lemma': 'tund', 'upostag': 'S', 'xpostag': 'S', 'feats': OrderedDict([('pl', 'pl'), ('n', 'n')]), 'head': 10, 'deprel': 'nsubj:cop', 'deps': '_', 'misc': '_'}]),\n",
       "Span('juba', [{'id': 9, 'lemma': 'juba', 'upostag': 'D', 'xpostag': 'D', 'feats': OrderedDict(), 'head': 10, 'deprel': 'advmod', 'deps': '_', 'misc': '_'}]),\n",
       "Span('alanud', [{'id': 10, 'lemma': 'alanud', 'upostag': 'A', 'xpostag': 'A', 'feats': OrderedDict([('sg', 'sg'), ('n', 'n')]), 'head': 0, 'deprel': 'root', 'deps': '_', 'misc': '_'}]),\n",
       "Span('.', [{'id': 11, 'lemma': '.', 'upostag': 'Z', 'xpostag': 'Z', 'feats': OrderedDict(), 'head': 10, 'deprel': 'punct', 'deps': '_', 'misc': '_'}])])"
      ]
     },
     "metadata": {},
     "output_type": "display_data"
    },
    {
     "data": {
      "text/plain": [
       "<module 'matplotlib.pyplot' from 'C:\\\\Users\\\\sormu\\\\Anaconda3\\\\envs\\\\estnltk_neuro\\\\lib\\\\site-packages\\\\matplotlib\\\\pyplot.py'>"
      ]
     },
     "execution_count": 4,
     "metadata": {},
     "output_type": "execute_result"
    },
    {
     "data": {
      "image/png": "[encoded data removed]",
      "text/plain": [
       "<Figure size 1850x1050 with 1 Axes>"
      ]
     },
     "metadata": {},
     "output_type": "display_data"
    }
   ],
   "source": [
    "text = Text('Kui Arno isaga koolimajja jõudis, olid tunnid juba alanud.')\n",
    "text.tag_layer('morph_extended')\n",
    "stanza(text)\n",
    "display(text['stanza_syntax'])\n",
    "SyntaxTree(text['stanza_syntax']).drawGraph()"
   ]
  },
  {
   "cell_type": "markdown",
   "id": "329842a6",
   "metadata": {},
   "source": [
    "## II. Modified Entity extractor"
   ]
  },
  {
   "cell_type": "code",
   "execution_count": 5,
   "id": "40331d87",
   "metadata": {},
   "outputs": [],
   "source": [
    "obl_extractor = EntityTagger(deprel='obl', output_layer='entities')"
   ]
  },
  {
   "cell_type": "code",
   "execution_count": 6,
   "id": "d68a0b93",
   "metadata": {},
   "outputs": [
    {
     "data": {
      "text/html": [
       "<h4>Layer</h4>\n",
       "\n",
       "\n",
       "<table border=\"1\" class=\"dataframe\">\n",
       "  <thead>\n",
       "    <tr style=\"text-align: right;\">\n",
       "      <th>layer name</th>\n",
       "      <th>attributes</th>\n",
       "      <th>parent</th>\n",
       "      <th>enveloping</th>\n",
       "      <th>ambiguous</th>\n",
       "      <th>span count</th>\n",
       "    </tr>\n",
       "  </thead>\n",
       "  <tbody>\n",
       "    <tr>\n",
       "      <td>entities</td>\n",
       "      <td>entity_type, free_entity, is_valid, root</td>\n",
       "      <td>None</td>\n",
       "      <td>morph_analysis</td>\n",
       "      <td>False</td>\n",
       "      <td>2</td>\n",
       "    </tr>\n",
       "  </tbody>\n",
       "</table>\n",
       "<table border=\"1\" class=\"dataframe\">\n",
       "  <thead>\n",
       "    <tr style=\"text-align: right;\">\n",
       "      <th>text</th>\n",
       "      <th>entity_type</th>\n",
       "      <th>free_entity</th>\n",
       "      <th>is_valid</th>\n",
       "      <th>root</th>\n",
       "    </tr>\n",
       "  </thead>\n",
       "  <tbody>\n",
       "    <tr>\n",
       "      <td>['väriseva', 'isaga']</td>\n",
       "      <td>None</td>\n",
       "      <td>None</td>\n",
       "      <td>None</td>\n",
       "      <td>Span('isaga', [{'id': 4, 'lemma': 'isa', 'upostag': 'S', 'xpostag': 'S', 'feats' ..., type: &lt;class 'estnltk_core.layer.span.Span'&gt;</td>\n",
       "    </tr>\n",
       "    <tr>\n",
       "      <td>['rohelist', 'värvi', 'lagunevasse', 'koolimajja']</td>\n",
       "      <td>None</td>\n",
       "      <td>None</td>\n",
       "      <td>None</td>\n",
       "      <td>Span('koolimajja', [{'id': 8, 'lemma': 'koolimaja', 'upostag': 'S', 'xpostag': ' ..., type: &lt;class 'estnltk_core.layer.span.Span'&gt;</td>\n",
       "    </tr>\n",
       "  </tbody>\n",
       "</table>"
      ],
      "text/plain": [
       "Layer(name='entities', attributes=('entity_type', 'free_entity', 'is_valid', 'root'), spans=SL[EnvelopingSpan(['väriseva', 'isaga'], [{'entity_type': None, 'free_entity': None, 'is_valid': None, 'root': <class 'estnltk_core.layer.span.Span'>}]),\n",
       "EnvelopingSpan(['rohelist', 'värvi', 'lagunevasse', 'koolimajja'], [{'entity_type': None, 'free_entity': None, 'is_valid': None, 'root': <class 'estnltk_core.layer.span.Span'>}])])"
      ]
     },
     "execution_count": 6,
     "metadata": {},
     "output_type": "execute_result"
    }
   ],
   "source": [
    "text = Text('Kui Arno väriseva isaga rohelist värvi lagunevasse koolimajja jõudis, olid tunnid juba alanud.')\n",
    "text.tag_layer('morph_extended')\n",
    "stanza(text)\n",
    "obl_extractor(text)\n",
    "text['entities']"
   ]
  },
  {
   "cell_type": "code",
   "execution_count": 7,
   "id": "d1777d05",
   "metadata": {},
   "outputs": [
    {
     "data": {
      "text/plain": [
       "'isaga'"
      ]
     },
     "execution_count": 7,
     "metadata": {},
     "output_type": "execute_result"
    }
   ],
   "source": [
    "text['entities'][0].root.text"
   ]
  },
  {
   "cell_type": "markdown",
   "id": "6521cdc3",
   "metadata": {},
   "source": [
    "## III. Finding locations"
   ]
  },
  {
   "cell_type": "code",
   "execution_count": 58,
   "id": "862d0729",
   "metadata": {},
   "outputs": [],
   "source": [
    "import pickle \n",
    "import random\n",
    "import pandas as pd\n",
    "from tqdm import tqdm\n",
    "from os import listdir\n",
    "from collections import Counter\n",
    "from estnltk.taggers import NerTagger\n",
    "from estnltk.corpus_processing.parse_koondkorpus import parse_tei_corpus"
   ]
  },
  {
   "cell_type": "markdown",
   "id": "4c79933d",
   "metadata": {},
   "source": [
    "#### Finding all entities"
   ]
  },
  {
   "cell_type": "code",
   "execution_count": 47,
   "id": "8f4f06a5",
   "metadata": {},
   "outputs": [],
   "source": [
    "result = parse_tei_corpus('Maaleht/ML/maaleht/aja_maaleht_2001/aja_ml_2001_32.tasak.xml')\n",
    "result.extend(parse_tei_corpus('Maaleht/ML/maaleht/maaleht_2003/aja_ml_2003_31.xml'))\n",
    "result.extend(parse_tei_corpus('Maaleht/ML/maaleht/maaleht_2002/aja_ml_2002_46.xml'))\n",
    "result.extend(parse_tei_corpus('Maaleht/ML/maaleht/aja_maaleht_2001/aja_ml_2001_26.xml'))\n",
    "result.extend(parse_tei_corpus('Maaleht/ML/maaleht/maaleht_2002/aja_ml_2002_03.xml'))"
   ]
  },
  {
   "cell_type": "code",
   "execution_count": 48,
   "id": "79260ea6",
   "metadata": {},
   "outputs": [
    {
     "data": {
      "text/plain": [
       "225"
      ]
     },
     "execution_count": 48,
     "metadata": {},
     "output_type": "execute_result"
    }
   ],
   "source": [
    "len(result)"
   ]
  },
  {
   "cell_type": "code",
   "execution_count": 11,
   "id": "23226c7d",
   "metadata": {},
   "outputs": [],
   "source": [
    "sentences = []\n",
    "\n",
    "for t in result:\n",
    "    t.tag_layer()\n",
    "    for sent in t.sentences:\n",
    "        sent_text = \" \".join(sent.text)\n",
    "        sentences.append(Text(sent_text))"
   ]
  },
  {
   "cell_type": "code",
   "execution_count": 12,
   "id": "679eaa78",
   "metadata": {},
   "outputs": [
    {
     "data": {
      "text/plain": [
       "10023"
      ]
     },
     "execution_count": 12,
     "metadata": {},
     "output_type": "execute_result"
    }
   ],
   "source": [
    "len(sentences)"
   ]
  },
  {
   "cell_type": "code",
   "execution_count": 13,
   "id": "561cfbea",
   "metadata": {},
   "outputs": [],
   "source": [
    "for sent in sentences:\n",
    "    sent.tag_layer('morph_extended')\n",
    "    stanza(sent)"
   ]
  },
  {
   "cell_type": "code",
   "execution_count": 14,
   "id": "c3e64ea1",
   "metadata": {},
   "outputs": [],
   "source": [
    "for sent in sentences:\n",
    "    try:\n",
    "        obl_extractor(sent)\n",
    "    except:\n",
    "        continue"
   ]
  },
  {
   "cell_type": "code",
   "execution_count": 55,
   "id": "692eb638",
   "metadata": {},
   "outputs": [
    {
     "data": {
      "text/html": [
       "<table border=\"1\" class=\"dataframe\">\n",
       "  <thead>\n",
       "    <tr style=\"text-align: right;\">\n",
       "      <th>text</th>\n",
       "    </tr>\n",
       "  </thead>\n",
       "  <tbody>\n",
       "    <tr>\n",
       "      <td><div align = \"left\">08.08.2001 Maarius Suviste</div></td>\n",
       "    </tr>\n",
       "  </tbody>\n",
       "</table>\n",
       "<table border=\"1\" class=\"dataframe\">\n",
       "  <thead>\n",
       "    <tr style=\"text-align: right;\">\n",
       "      <th>layer name</th>\n",
       "      <th>attributes</th>\n",
       "      <th>parent</th>\n",
       "      <th>enveloping</th>\n",
       "      <th>ambiguous</th>\n",
       "      <th>span count</th>\n",
       "    </tr>\n",
       "  </thead>\n",
       "  <tbody>\n",
       "    <tr>\n",
       "      <td>sentences</td>\n",
       "      <td></td>\n",
       "      <td>None</td>\n",
       "      <td>words</td>\n",
       "      <td>False</td>\n",
       "      <td>1</td>\n",
       "    </tr>\n",
       "    <tr>\n",
       "      <td>tokens</td>\n",
       "      <td></td>\n",
       "      <td>None</td>\n",
       "      <td>None</td>\n",
       "      <td>False</td>\n",
       "      <td>7</td>\n",
       "    </tr>\n",
       "    <tr>\n",
       "      <td>compound_tokens</td>\n",
       "      <td>type, normalized</td>\n",
       "      <td>None</td>\n",
       "      <td>tokens</td>\n",
       "      <td>False</td>\n",
       "      <td>1</td>\n",
       "    </tr>\n",
       "    <tr>\n",
       "      <td>words</td>\n",
       "      <td>normalized_form</td>\n",
       "      <td>None</td>\n",
       "      <td>None</td>\n",
       "      <td>True</td>\n",
       "      <td>3</td>\n",
       "    </tr>\n",
       "    <tr>\n",
       "      <td>morph_analysis</td>\n",
       "      <td>normalized_text, lemma, root, root_tokens, ending, clitic, form, partofspeech</td>\n",
       "      <td>words</td>\n",
       "      <td>None</td>\n",
       "      <td>True</td>\n",
       "      <td>3</td>\n",
       "    </tr>\n",
       "    <tr>\n",
       "      <td>morph_extended</td>\n",
       "      <td>normalized_text, lemma, root, root_tokens, ending, clitic, form, partofspeech, punctuation_type, pronoun_type, letter_case, fin, verb_extension_suffix, subcat</td>\n",
       "      <td>morph_analysis</td>\n",
       "      <td>None</td>\n",
       "      <td>True</td>\n",
       "      <td>3</td>\n",
       "    </tr>\n",
       "    <tr>\n",
       "      <td>stanza_syntax</td>\n",
       "      <td>id, lemma, upostag, xpostag, feats, head, deprel, deps, misc</td>\n",
       "      <td>morph_analysis</td>\n",
       "      <td>None</td>\n",
       "      <td>False</td>\n",
       "      <td>3</td>\n",
       "    </tr>\n",
       "    <tr>\n",
       "      <td>entities</td>\n",
       "      <td>entity_type, free_entity, is_valid, root</td>\n",
       "      <td>None</td>\n",
       "      <td>morph_analysis</td>\n",
       "      <td>False</td>\n",
       "      <td>1</td>\n",
       "    </tr>\n",
       "  </tbody>\n",
       "</table>"
      ],
      "text/plain": [
       "Text(text='08.08.2001 Maarius Suviste')"
      ]
     },
     "execution_count": 55,
     "metadata": {},
     "output_type": "execute_result"
    }
   ],
   "source": [
    "sentences[0]"
   ]
  },
  {
   "cell_type": "code",
   "execution_count": 59,
   "id": "74915989",
   "metadata": {},
   "outputs": [
    {
     "name": "stderr",
     "output_type": "stream",
     "text": [
      "100%|████████████████████████████████████████████████████████████████████████████| 10023/10023 [09:21<00:00, 17.84it/s]\n"
     ]
    }
   ],
   "source": [
    "tagger = NerTagger()\n",
    "\n",
    "for sent in tqdm(sentences):\n",
    "    tagger.tag(sent)"
   ]
  },
  {
   "cell_type": "code",
   "execution_count": 60,
   "id": "8f7fbd6c",
   "metadata": {},
   "outputs": [],
   "source": [
    "with open(\"original_sentences_with_analysis.pickle\", \"wb\") as f:\n",
    "    pickle.dump(sentences, f)"
   ]
  },
  {
   "cell_type": "markdown",
   "id": "960320f0",
   "metadata": {},
   "source": [
    "#### Keeping entities in a locative case"
   ]
  },
  {
   "cell_type": "code",
   "execution_count": 15,
   "id": "3d49c151",
   "metadata": {},
   "outputs": [],
   "source": [
    "kohakaanded = ['sg ill', 'sg in', 'sg el', 'sg all', 'sg ad', 'sg abl', \n",
    "               'pl ill', 'pl in', 'pl el', 'pl all', 'pl ad', 'pl abl']"
   ]
  },
  {
   "cell_type": "code",
   "execution_count": 16,
   "id": "d958ba50",
   "metadata": {},
   "outputs": [
    {
     "data": {
      "text/html": [
       "<h4>AttributeList (annotations)</h4>\n",
       "<table border=\"1\" class=\"dataframe\">\n",
       "  <thead>\n",
       "    <tr style=\"text-align: right;\">\n",
       "      <th></th>\n",
       "      <th>form</th>\n",
       "    </tr>\n",
       "  </thead>\n",
       "  <tbody>\n",
       "    <tr>\n",
       "      <td>0</td>\n",
       "      <td>sg kom</td>\n",
       "    </tr>\n",
       "  </tbody>\n",
       "</table>"
      ],
      "text/plain": [
       "AttributeList(['sg kom'], ('form',))"
      ]
     },
     "execution_count": 16,
     "metadata": {},
     "output_type": "execute_result"
    }
   ],
   "source": [
    "sentences[1].entities[0].root.form"
   ]
  },
  {
   "cell_type": "code",
   "execution_count": 17,
   "id": "6bb59305",
   "metadata": {},
   "outputs": [],
   "source": [
    "all_loc_entities = []\n",
    "all_loc_entities_text = []\n",
    "\n",
    "for i, sent in enumerate(sentences):\n",
    "    if i in [1118, 2534]:\n",
    "        continue\n",
    "    for span in sent['entities']:\n",
    "        loc = False\n",
    "        root_form = span.root.form[0]\n",
    "        if root_form in kohakaanded:\n",
    "            loc = True\n",
    "        \n",
    "        if loc:\n",
    "            all_loc_entities.append(span)\n",
    "            all_loc_entities_text.append(span.text)"
   ]
  },
  {
   "cell_type": "code",
   "execution_count": 18,
   "id": "6565f5f7",
   "metadata": {},
   "outputs": [
    {
     "data": {
      "text/plain": [
       "6650"
      ]
     },
     "execution_count": 18,
     "metadata": {},
     "output_type": "execute_result"
    }
   ],
   "source": [
    "len(all_loc_entities)"
   ]
  },
  {
   "cell_type": "markdown",
   "id": "456c3640",
   "metadata": {},
   "source": [
    "6650 total entities that have the \"obl\" deprel and locative case. 4853 distinct \"obl\" locative entities."
   ]
  },
  {
   "cell_type": "code",
   "execution_count": 19,
   "id": "cfe71873",
   "metadata": {},
   "outputs": [],
   "source": [
    "all_loc_entities_tup = [tuple(ent) for ent in all_loc_entities_text]"
   ]
  },
  {
   "cell_type": "code",
   "execution_count": 156,
   "id": "2a511319",
   "metadata": {},
   "outputs": [
    {
     "data": {
      "text/plain": [
       "4853"
      ]
     },
     "execution_count": 156,
     "metadata": {},
     "output_type": "execute_result"
    }
   ],
   "source": [
    "len(set(all_loc_entities_tup))"
   ]
  },
  {
   "cell_type": "code",
   "execution_count": 20,
   "id": "670c9c7e",
   "metadata": {},
   "outputs": [
    {
     "data": {
      "text/plain": [
       "[(('Eestis',), 77),\n",
       " (('meil',), 51),\n",
       " (('sellest',), 49),\n",
       " (('mulle',), 40),\n",
       " (('endale',), 37),\n",
       " (('talle',), 35),\n",
       " (('tööle',), 34),\n",
       " (('mul',), 32),\n",
       " (('millest',), 32),\n",
       " (('sõnul',), 32)]"
      ]
     },
     "execution_count": 20,
     "metadata": {},
     "output_type": "execute_result"
    }
   ],
   "source": [
    "Counter(all_loc_entities_tup).most_common(10)"
   ]
  },
  {
   "cell_type": "markdown",
   "id": "124a965c",
   "metadata": {},
   "source": [
    "### Keeping only multi-word entities"
   ]
  },
  {
   "cell_type": "code",
   "execution_count": 21,
   "id": "c92d65dd",
   "metadata": {},
   "outputs": [],
   "source": [
    "all_loc_entities_several_word = []\n",
    "all_loc_entities_text_several_word = []\n",
    "\n",
    "for i, ent in enumerate(all_loc_entities_text):\n",
    "    if len(ent) > 1:\n",
    "        all_loc_entities_text_several_word.append(ent)\n",
    "        all_loc_entities_several_word.append(all_loc_entities[i])"
   ]
  },
  {
   "cell_type": "code",
   "execution_count": 22,
   "id": "d5e1a6fe",
   "metadata": {},
   "outputs": [
    {
     "data": {
      "text/plain": [
       "3186"
      ]
     },
     "execution_count": 22,
     "metadata": {},
     "output_type": "execute_result"
    }
   ],
   "source": [
    "len(all_loc_entities_text_several_word)"
   ]
  },
  {
   "cell_type": "code",
   "execution_count": 23,
   "id": "ed68a684",
   "metadata": {},
   "outputs": [],
   "source": [
    "all_loc_entities_text_several_word_tup = [tuple(ent) for ent in all_loc_entities_text_several_word]"
   ]
  },
  {
   "cell_type": "code",
   "execution_count": 24,
   "id": "895216fd",
   "metadata": {},
   "outputs": [
    {
     "data": {
      "text/plain": [
       "[(('igal', 'aastal'), 11),\n",
       " (('Eelmisel', 'aastal'), 8),\n",
       " (('Eelmisel', 'nädalal'), 8),\n",
       " (('samal', 'ajal'), 8),\n",
       " (('Samal', 'ajal'), 7),\n",
       " (('viimasel', 'ajal'), 7),\n",
       " (('õigel', 'ajal'), 6),\n",
       " (('sel', 'nädalal'), 6),\n",
       " (('igal', 'pool'), 5),\n",
       " (('sel', 'juhul'), 5)]"
      ]
     },
     "execution_count": 24,
     "metadata": {},
     "output_type": "execute_result"
    }
   ],
   "source": [
    "Counter(all_loc_entities_text_several_word_tup).most_common(10)"
   ]
  },
  {
   "cell_type": "code",
   "execution_count": 25,
   "id": "d9ca88b8",
   "metadata": {},
   "outputs": [
    {
     "data": {
      "text/plain": [
       "'aastatel'"
      ]
     },
     "execution_count": 25,
     "metadata": {},
     "output_type": "execute_result"
    }
   ],
   "source": [
    "all_loc_entities_several_word[0].root.text"
   ]
  },
  {
   "cell_type": "code",
   "execution_count": 26,
   "id": "20273e89",
   "metadata": {},
   "outputs": [],
   "source": [
    "several_word_root = []\n",
    "\n",
    "for ent in all_loc_entities_several_word:\n",
    "    several_word_root.append(ent.root.text)"
   ]
  },
  {
   "cell_type": "code",
   "execution_count": 27,
   "id": "8376ddca",
   "metadata": {},
   "outputs": [
    {
     "data": {
      "text/plain": [
       "[('aastal', 99),\n",
       " ('sõnul', 84),\n",
       " ('ajal', 66),\n",
       " ('aastast', 29),\n",
       " ('nädalal', 28),\n",
       " ('juhul', 28),\n",
       " ('sellest', 28),\n",
       " ('alusel', 24),\n",
       " ('päeval', 23),\n",
       " ('suvel', 21)]"
      ]
     },
     "execution_count": 27,
     "metadata": {},
     "output_type": "execute_result"
    }
   ],
   "source": [
    "Counter(several_word_root).most_common(10)"
   ]
  },
  {
   "cell_type": "markdown",
   "id": "43dbbd62",
   "metadata": {},
   "source": [
    "### Keeping all entity root words"
   ]
  },
  {
   "cell_type": "markdown",
   "id": "ffcc1fc3",
   "metadata": {},
   "source": [
    "Keeping root words from all entities that were in a locative case"
   ]
  },
  {
   "cell_type": "code",
   "execution_count": 28,
   "id": "857cc914",
   "metadata": {},
   "outputs": [],
   "source": [
    "all_root = []\n",
    "\n",
    "for ent in all_loc_entities:\n",
    "    all_root.append(ent.root.text)"
   ]
  },
  {
   "cell_type": "code",
   "execution_count": 192,
   "id": "d8e98dfb",
   "metadata": {},
   "outputs": [
    {
     "data": {
      "text/plain": [
       "(6650, 3433)"
      ]
     },
     "execution_count": 192,
     "metadata": {},
     "output_type": "execute_result"
    }
   ],
   "source": [
    "len(all_root), len(set(all_root))"
   ]
  },
  {
   "cell_type": "markdown",
   "id": "606a7e83",
   "metadata": {},
   "source": [
    "6650 entities but keeping just the root there are 3433 distinct entity root words (as opposed to the previous ~4800 distinct entities)."
   ]
  },
  {
   "cell_type": "code",
   "execution_count": 30,
   "id": "97bf389f",
   "metadata": {},
   "outputs": [
    {
     "data": {
      "text/plain": [
       "[('sõnul', 116),\n",
       " ('aastal', 103),\n",
       " ('Eestis', 92),\n",
       " ('sellest', 77),\n",
       " ('ajal', 70),\n",
       " ('meil', 53),\n",
       " ('mulle', 42),\n",
       " ('endale', 38),\n",
       " ('tööle', 38),\n",
       " ('suvel', 38)]"
      ]
     },
     "execution_count": 30,
     "metadata": {},
     "output_type": "execute_result"
    }
   ],
   "source": [
    "Counter(all_root).most_common(10)"
   ]
  },
  {
   "cell_type": "code",
   "execution_count": 33,
   "id": "a5959f95",
   "metadata": {},
   "outputs": [],
   "source": [
    "all_root_lemma = []\n",
    "\n",
    "for ent in all_loc_entities:\n",
    "    all_root_lemma.append(ent.root.lemma)"
   ]
  },
  {
   "cell_type": "code",
   "execution_count": 34,
   "id": "bd063483",
   "metadata": {},
   "outputs": [
    {
     "data": {
      "text/plain": [
       "['aasta', 'ajalehekülg', 'vald']"
      ]
     },
     "execution_count": 34,
     "metadata": {},
     "output_type": "execute_result"
    }
   ],
   "source": [
    "all_root_lemma[:3]"
   ]
  },
  {
   "cell_type": "code",
   "execution_count": 35,
   "id": "6020d60e",
   "metadata": {},
   "outputs": [
    {
     "data": {
      "text/plain": [
       "6650"
      ]
     },
     "execution_count": 35,
     "metadata": {},
     "output_type": "execute_result"
    }
   ],
   "source": [
    "len(all_root_lemma)"
   ]
  },
  {
   "cell_type": "markdown",
   "id": "76bffbc5",
   "metadata": {},
   "source": [
    "### Wordnet"
   ]
  },
  {
   "cell_type": "code",
   "execution_count": 31,
   "id": "f1046da4",
   "metadata": {},
   "outputs": [],
   "source": [
    "from estnltk.wordnet import Wordnet"
   ]
  },
  {
   "cell_type": "code",
   "execution_count": 32,
   "id": "d0b9ffc8",
   "metadata": {},
   "outputs": [],
   "source": [
    "wn = Wordnet()"
   ]
  },
  {
   "cell_type": "code",
   "execution_count": 36,
   "id": "e69033a1",
   "metadata": {},
   "outputs": [],
   "source": [
    "all_loc_entities_hypernyms = []\n",
    "all_loc_entities_highest = []\n",
    "\n",
    "for i, lem in enumerate(all_root_lemma):\n",
    "    try:\n",
    "        syns = wn[lem][0]\n",
    "        hypernym = syns.hypernyms\n",
    "        highest = syns.closure(\"hypernym\")[-1]\n",
    "        all_loc_entities_hypernyms.append((all_root[i], lem, hypernym[0]))\n",
    "        all_loc_entities_highest.append((all_root[i], lem, highest))\n",
    "    except:\n",
    "        continue"
   ]
  },
  {
   "cell_type": "code",
   "execution_count": 37,
   "id": "634e3131",
   "metadata": {},
   "outputs": [
    {
     "data": {
      "text/plain": [
       "(4969, 4969)"
      ]
     },
     "execution_count": 37,
     "metadata": {},
     "output_type": "execute_result"
    }
   ],
   "source": [
    "len(all_loc_entities_hypernyms), len(all_loc_entities_highest)"
   ]
  },
  {
   "cell_type": "code",
   "execution_count": 38,
   "id": "bc202cfd",
   "metadata": {},
   "outputs": [],
   "source": [
    "hyp_literals = [ent[2].literal for ent in all_loc_entities_hypernyms]"
   ]
  },
  {
   "cell_type": "code",
   "execution_count": 39,
   "id": "4e4bd41d",
   "metadata": {},
   "outputs": [
    {
     "data": {
      "text/plain": [
       "[('kuu', 159),\n",
       " ('aasta', 158),\n",
       " ('keeleüksus', 123),\n",
       " ('aastaaeg', 113),\n",
       " ('inimene', 107),\n",
       " ('ajavahemik', 103),\n",
       " ('näit', 88),\n",
       " ('elusolend', 68),\n",
       " ('joon', 65),\n",
       " ('piirkond', 63)]"
      ]
     },
     "execution_count": 39,
     "metadata": {},
     "output_type": "execute_result"
    }
   ],
   "source": [
    "Counter(hyp_literals).most_common(10)"
   ]
  },
  {
   "cell_type": "code",
   "execution_count": null,
   "id": "86da5928",
   "metadata": {},
   "outputs": [],
   "source": [
    "# loc_time = [ent for ent in all_loc_entities_hypernyms if ent[2].literal in [\"kuu\", \"aastaaeg\", \"ajavahemik\", \"koht\", \"nädalapäev\", \"aasta\", \"maa\", \"maa-asula\", \"mander\", \"asula\"]]"
   ]
  },
  {
   "cell_type": "markdown",
   "id": "6674b71d",
   "metadata": {},
   "source": [
    "#### Finding all words related to a location or time according to Wordnet hypernyms"
   ]
  },
  {
   "cell_type": "code",
   "execution_count": 69,
   "id": "e06be24e",
   "metadata": {},
   "outputs": [],
   "source": [
    "loc_time_hypernyms = [\"kuu\", \"aasta\", \"aastaaeg\", \"ajavahemik\", \"piirkond\", \"koht\", \"äritegevuskoht\", \"maa\", \"ajaühik\",\n",
    "                     \"nädalapäev\", \"asula\", \"tegevusala\", \"aeg\", \"ala\", \"maa-asula\", \"eluruum\", \"rahvusriik\", \"hoone\",\n",
    "                     \"ruum\", \"maapind\", \"päev\", \"maa-ala\", \"mander\", \"tuba\", \"asukoht\", \"linn\"]"
   ]
  },
  {
   "cell_type": "code",
   "execution_count": 68,
   "id": "0feee3a4",
   "metadata": {},
   "outputs": [
    {
     "data": {
      "text/plain": [
       "[('kuu', 159),\n",
       " ('aasta', 158),\n",
       " ('keeleüksus', 123),\n",
       " ('aastaaeg', 113),\n",
       " ('inimene', 107),\n",
       " ('ajavahemik', 103),\n",
       " ('näit', 88),\n",
       " ('elusolend', 68),\n",
       " ('joon', 65),\n",
       " ('piirkond', 63),\n",
       " ('spektrivärv', 58),\n",
       " ('kohustus', 57),\n",
       " ('sotsiaalne grupp', 55),\n",
       " ('tegevus', 54),\n",
       " ('koht', 54),\n",
       " ('abstraktsioon', 53),\n",
       " ('inimtegevus', 51),\n",
       " ('äritegevuskoht', 48),\n",
       " ('kehaosa', 46),\n",
       " ('üritus', 44),\n",
       " ('maa', 44),\n",
       " ('suhtlus', 41),\n",
       " ('ajaühik', 39),\n",
       " ('reisija', 39),\n",
       " ('nädalapäev', 38),\n",
       " ('organ', 34),\n",
       " ('asula', 34),\n",
       " ('suurus', 32),\n",
       " ('hulk', 32),\n",
       " ('tegevusala', 31),\n",
       " ('aeg', 30),\n",
       " ('kogu', 30),\n",
       " ('seisund', 30),\n",
       " ('miski', 28),\n",
       " ('ala', 28),\n",
       " ('maa-asula', 25),\n",
       " ('naturaalarv', 25),\n",
       " ('osa', 25),\n",
       " ('eluruum', 25),\n",
       " ('liige', 24),\n",
       " ('organisatsioon', 23),\n",
       " ('looduslik fenomen', 23),\n",
       " ('rahvusriik', 23),\n",
       " ('pind', 23),\n",
       " ('hoone', 23),\n",
       " ('mentaalne objekt', 22),\n",
       " ('punkt', 22),\n",
       " ('looduslik objekt', 21),\n",
       " ('mees', 21),\n",
       " ('farm', 21),\n",
       " ('paber', 21),\n",
       " ('taimeosa', 21),\n",
       " ('ruum', 21),\n",
       " ('muutumine', 20),\n",
       " ('olev', 20),\n",
       " ('sõidutee', 20),\n",
       " ('sotsiaalne suhe', 19),\n",
       " ('ministeerium', 19),\n",
       " ('maapind', 19),\n",
       " ('haldusüksus', 19),\n",
       " ('äri', 19),\n",
       " ('teadmine', 18),\n",
       " ('sedastus', 17),\n",
       " ('keemiline ühend', 17),\n",
       " ('tegu', 16),\n",
       " ('floora', 16),\n",
       " ('maa-ala', 16),\n",
       " ('asutus', 15),\n",
       " ('päev', 15),\n",
       " ('töö', 15),\n",
       " ('nägemiselund', 14),\n",
       " ('lause', 14),\n",
       " ('omadus', 14),\n",
       " ('järglane', 14),\n",
       " ('maksevahend', 14),\n",
       " ('korraldus', 14),\n",
       " ('kala', 14),\n",
       " ('põhijoon', 13),\n",
       " ('pinnamõõt', 13),\n",
       " ('eeskiri', 13),\n",
       " ('asjahuviline', 13),\n",
       " ('sooritamine', 12),\n",
       " ('situatsioon', 12),\n",
       " ('sisu', 12),\n",
       " ('käitis', 12),\n",
       " ('murdarv', 12),\n",
       " ('mander', 12),\n",
       " ('järgarv', 12),\n",
       " ('naine', 12),\n",
       " ('mõõde', 11),\n",
       " ('asi', 11),\n",
       " ('koosolek', 11),\n",
       " ('õppeasutus', 11),\n",
       " ('tuba', 11),\n",
       " ('aparaat', 11),\n",
       " ('asukoht', 11),\n",
       " ('omandus', 11),\n",
       " ('kate', 11),\n",
       " ('ehitamine', 11),\n",
       " ('linn', 11)]"
      ]
     },
     "execution_count": 68,
     "metadata": {},
     "output_type": "execute_result"
    }
   ],
   "source": [
    "Counter(hyp_literals).most_common(100)"
   ]
  },
  {
   "cell_type": "code",
   "execution_count": 70,
   "id": "4b903991",
   "metadata": {},
   "outputs": [],
   "source": [
    "loc_time = [ent for ent in all_loc_entities_hypernyms if ent[2].literal in loc_time_hypernyms]"
   ]
  },
  {
   "cell_type": "code",
   "execution_count": 71,
   "id": "46134187",
   "metadata": {},
   "outputs": [
    {
     "data": {
      "text/plain": [
       "(1154, 339)"
      ]
     },
     "execution_count": 71,
     "metadata": {},
     "output_type": "execute_result"
    }
   ],
   "source": [
    "len(loc_time), len(set(loc_time))"
   ]
  },
  {
   "cell_type": "code",
   "execution_count": 186,
   "id": "a26a646b",
   "metadata": {},
   "outputs": [
    {
     "data": {
      "text/plain": [
       "333"
      ]
     },
     "execution_count": 186,
     "metadata": {},
     "output_type": "execute_result"
    }
   ],
   "source": [
    "len(set([ent[0] for ent in loc_time]))"
   ]
  },
  {
   "cell_type": "markdown",
   "id": "348d33e3",
   "metadata": {},
   "source": [
    "1154 out of 6650 of all obl locative entities (or 333 out of 4853 distinct entities) have a hypernym that refers to a location or time."
   ]
  },
  {
   "cell_type": "code",
   "execution_count": 72,
   "id": "f4d6d243",
   "metadata": {},
   "outputs": [
    {
     "data": {
      "text/plain": [
       "[('aastatel', 'aasta', \"Synset('aasta.n.02')\"),\n",
       " ('erialal', 'eriala', \"Synset('tegevusala.n.01')\"),\n",
       " ('tulevikule', 'tulevik', \"Synset('aeg.n.02')\")]"
      ]
     },
     "execution_count": 72,
     "metadata": {},
     "output_type": "execute_result"
    }
   ],
   "source": [
    "loc_time[:3]"
   ]
  },
  {
   "cell_type": "code",
   "execution_count": 167,
   "id": "aefe971e",
   "metadata": {},
   "outputs": [],
   "source": [
    "loc_time_with_hypernyms = [(ent[0], ent[1], ent[2].literal) for ent in all_loc_entities_hypernyms if ent[2].literal in loc_time_hypernyms]"
   ]
  },
  {
   "cell_type": "code",
   "execution_count": 79,
   "id": "6ee8151d",
   "metadata": {},
   "outputs": [],
   "source": [
    "loc_time_hyp_df = pd.DataFrame(loc_time_with_hypernyms, columns=[\"kohamäärus\", \"lemma\", \"hüpernüüm\"])"
   ]
  },
  {
   "cell_type": "code",
   "execution_count": 87,
   "id": "81694ed6",
   "metadata": {},
   "outputs": [],
   "source": [
    "loc_time_hyp_df.to_csv(\"loc_time_with_hypernyms.csv\", encoding=\"UTF-8-sig\", index=False)"
   ]
  },
  {
   "cell_type": "markdown",
   "id": "1b799574",
   "metadata": {},
   "source": [
    "#### Keeping all words that did not have location/time hypernyms"
   ]
  },
  {
   "cell_type": "code",
   "execution_count": 89,
   "id": "d83de0c7",
   "metadata": {},
   "outputs": [
    {
     "data": {
      "text/plain": [
       "(6650, 1154)"
      ]
     },
     "execution_count": 89,
     "metadata": {},
     "output_type": "execute_result"
    }
   ],
   "source": [
    "len(all_root), len(loc_time)"
   ]
  },
  {
   "cell_type": "code",
   "execution_count": 91,
   "id": "ef9278fe",
   "metadata": {},
   "outputs": [],
   "source": [
    "loc_time_word = [tup[0] for tup in loc_time]"
   ]
  },
  {
   "cell_type": "code",
   "execution_count": 93,
   "id": "208f3e01",
   "metadata": {},
   "outputs": [
    {
     "data": {
      "text/plain": [
       "['aastatel', 'erialal', 'tulevikule']"
      ]
     },
     "execution_count": 93,
     "metadata": {},
     "output_type": "execute_result"
    }
   ],
   "source": [
    "loc_time_word[:3]"
   ]
  },
  {
   "cell_type": "code",
   "execution_count": 95,
   "id": "6105e2b7",
   "metadata": {},
   "outputs": [],
   "source": [
    "non_loc_time_root = [w for w in all_root if w not in loc_time_word]"
   ]
  },
  {
   "cell_type": "code",
   "execution_count": 157,
   "id": "a1b5375e",
   "metadata": {},
   "outputs": [
    {
     "data": {
      "text/plain": [
       "(5496, 3100)"
      ]
     },
     "execution_count": 157,
     "metadata": {},
     "output_type": "execute_result"
    }
   ],
   "source": [
    "len(non_loc_time_root), len(set(non_loc_time_root))"
   ]
  },
  {
   "cell_type": "markdown",
   "id": "7e101c5b",
   "metadata": {},
   "source": [
    "5496 (3100 distinct) obl locative entities remain after removing obvious location and time related words using Wordnet."
   ]
  },
  {
   "cell_type": "markdown",
   "id": "1176645f",
   "metadata": {},
   "source": [
    "#### Keeping all words that are not NER locations"
   ]
  },
  {
   "cell_type": "code",
   "execution_count": 142,
   "id": "6718438d",
   "metadata": {},
   "outputs": [],
   "source": [
    "ner_entities = []\n",
    "\n",
    "for sent in sentences:\n",
    "    for ner_entity in sent.ner:\n",
    "        if ner_entity.nertag == \"LOC\":\n",
    "            ner_entities.append(ner_entity.text)"
   ]
  },
  {
   "cell_type": "code",
   "execution_count": 143,
   "id": "09e6181b",
   "metadata": {},
   "outputs": [
    {
     "data": {
      "text/plain": [
       "2974"
      ]
     },
     "execution_count": 143,
     "metadata": {},
     "output_type": "execute_result"
    }
   ],
   "source": [
    "len(ner_entities)"
   ]
  },
  {
   "cell_type": "code",
   "execution_count": 144,
   "id": "2756cdef",
   "metadata": {},
   "outputs": [
    {
     "data": {
      "text/plain": [
       "[['Saaremaal'], ['Saaremaal'], ['Laimjala', 'vallas']]"
      ]
     },
     "execution_count": 144,
     "metadata": {},
     "output_type": "execute_result"
    }
   ],
   "source": [
    "ner_entities[:3]"
   ]
  },
  {
   "cell_type": "code",
   "execution_count": 146,
   "id": "aa11ef06",
   "metadata": {},
   "outputs": [
    {
     "data": {
      "text/plain": [
       "2699"
      ]
     },
     "execution_count": 146,
     "metadata": {},
     "output_type": "execute_result"
    }
   ],
   "source": [
    "len([ent for ent in ner_entities if len(ent) == 1])"
   ]
  },
  {
   "cell_type": "code",
   "execution_count": 148,
   "id": "6c6ae4f6",
   "metadata": {},
   "outputs": [
    {
     "data": {
      "text/plain": [
       "275"
      ]
     },
     "execution_count": 148,
     "metadata": {},
     "output_type": "execute_result"
    }
   ],
   "source": [
    "len([ent for ent in ner_entities if len(ent) > 1])"
   ]
  },
  {
   "cell_type": "code",
   "execution_count": 147,
   "id": "76756ac9",
   "metadata": {},
   "outputs": [
    {
     "data": {
      "text/plain": [
       "[['Laimjala', 'vallas'],\n",
       " ['Eesti', 'küla'],\n",
       " ['Eesti', 'riigil'],\n",
       " ['Pöide', 'vallas'],\n",
       " ['Kakuna', 'külas'],\n",
       " ['Laimjala', 'vallas'],\n",
       " ['Euroopa', 'Liidu'],\n",
       " ['Euroopa', 'Liiduga'],\n",
       " ['Eesti', 'riigi'],\n",
       " ['Pärnu', 'linna-'],\n",
       " ['Ridala', 'valla'],\n",
       " ['Ridala', 'valla'],\n",
       " ['Euroopa', 'Liitu'],\n",
       " ['Vinni', 'vallast'],\n",
       " ['Jõgeva', 'vallast'],\n",
       " ['Jõgeva', 'valla'],\n",
       " ['Maidla', 'vallast'],\n",
       " ['Elva', 'linnaga'],\n",
       " ['Tartumaa', 'valdades'],\n",
       " ['Rannu', 'vald'],\n",
       " ['Eesti', 'riigil'],\n",
       " ['Võnnu', 'vald'],\n",
       " ['Tartu', 'linnaga'],\n",
       " ['Järvamaa', 'vallad'],\n",
       " ['Türi', 'linn'],\n",
       " ['Vastseliina', 'vallas'],\n",
       " ['Kündja', 'külas'],\n",
       " ['Rapla', 'maakonna'],\n",
       " ['Rapla', 'linna'],\n",
       " ['Vastemõisa', 'valla'],\n",
       " ['Pärsti', 'vallast'],\n",
       " ['Balti', 'riikidest'],\n",
       " ['Paide', 'vald'],\n",
       " ['Väike-Maarja', 'vald'],\n",
       " ['Leisi', 'vallas'],\n",
       " ['Leisi', 'valla'],\n",
       " ['Kirde-Eesti', 'raudteepargi'],\n",
       " ['Rapla', 'maakonna'],\n",
       " [\"Strasbourg'i\", 'linnas'],\n",
       " ['Orissa', 'osariigis'],\n",
       " ['Purtse', 'jõe'],\n",
       " ['Aa', 'küla'],\n",
       " ['Narva', 'jõe'],\n",
       " ['Eesti-Vene', 'piir'],\n",
       " ['Nõukogude', 'Liidus'],\n",
       " ['Nõukogude', 'Liidu'],\n",
       " ['Tartu', 'oblasti'],\n",
       " ['Nõukogude', 'Liit'],\n",
       " ['Moskva', 'oblastis'],\n",
       " ['Samara', 'oblastis'],\n",
       " ['Euroopa', 'Liidu'],\n",
       " ['Mäetaguse', 'valda'],\n",
       " ['Tori', 'vald'],\n",
       " ['Riisa', 'küla'],\n",
       " ['Riisa', 'külla'],\n",
       " ['Euroopa', 'Liidu'],\n",
       " ['Euroopa', 'Liiduga'],\n",
       " ['Euroopa', 'Liidust'],\n",
       " ['Euroopa', 'Liit'],\n",
       " ['Euroopa', 'Liit'],\n",
       " ['Euroopa', 'Liidu'],\n",
       " ['Orissaare', 'valla'],\n",
       " ['Ida-', 'ja', 'Kagu-Eestis'],\n",
       " ['Vara', 'vallas'],\n",
       " ['Peipsi', 'järvest'],\n",
       " ['Euroopa', 'Liidu'],\n",
       " ['Euroopa', 'Liiduga'],\n",
       " ['Rootsimaa', 'külad'],\n",
       " ['Eestimaa', 'maakonda'],\n",
       " ['Taanimaa', 'külad'],\n",
       " ['Euroopa', 'Liitu'],\n",
       " ['Eesti', 'külade'],\n",
       " ['Euroopa', 'Liidu'],\n",
       " ['Eesti', 'Vabariigi'],\n",
       " ['Euroopa', 'Liiduga'],\n",
       " ['Euroopa', 'Liiduga'],\n",
       " ['Eesti', 'riik'],\n",
       " ['Euroopa', 'Liidu'],\n",
       " ['Eesti', 'riik'],\n",
       " ['Eesti', 'riiki'],\n",
       " ['Euroopa', 'Liitu'],\n",
       " ['Euroopa', 'Liidus'],\n",
       " ['Euroopa', 'Liidus'],\n",
       " ['Euroopa', 'Liidus'],\n",
       " ['Eesti', 'riigi'],\n",
       " ['Eesti', 'riigil'],\n",
       " ['Euroopa', 'Liiduga'],\n",
       " ['Koeru', 'vallast'],\n",
       " ['Tallinnas', 'Balti'],\n",
       " ['Põltsamaa', 'valda'],\n",
       " ['Soome', 'riik'],\n",
       " ['Tangshani', 'linna'],\n",
       " ['Vaikse', 'ookeani'],\n",
       " ['El', 'Pueblo'],\n",
       " ['Lääne-Viru-', 'ja', 'Ida-Virumaa', 'külade'],\n",
       " ['Änniksaare', 'küla'],\n",
       " ['Adraku', 'küla'],\n",
       " ['Tudulinna', 'valla'],\n",
       " ['Oonurme', 'küla'],\n",
       " ['Oonurme', 'küla'],\n",
       " ['Oonurme', 'küla'],\n",
       " ['Eestimaa', 'külade'],\n",
       " ['Tudulinna', 'vallas'],\n",
       " ['Oonurme', 'küla'],\n",
       " ['Ida-Virumaa', 'külaliikumise'],\n",
       " ['Oonurme', 'küla'],\n",
       " ['Kalanjoki', 'külaga'],\n",
       " ['Ida-Virumaa', 'Külade'],\n",
       " ['Oonurme', 'küla'],\n",
       " ['Oonurme', 'külaseltsi'],\n",
       " ['Eesti', 'Vabariigi'],\n",
       " ['MRS', '§'],\n",
       " [\"Donne'i\", 'loomingu'],\n",
       " ['Ameerika', 'Nobeli'],\n",
       " ['Balti', 'riikidel'],\n",
       " ['Eesti', 'Vabariigi'],\n",
       " ['New', 'Yorgi', 'osariigi'],\n",
       " ['Minnesota', 'osariigis'],\n",
       " ['Jõgeva', 'vallast'],\n",
       " ['Leisi', 'vallale'],\n",
       " ['Kasari', 'jõe'],\n",
       " ['Lihula', 'vallas'],\n",
       " ['Lihula', 'vallas'],\n",
       " ['Matsalu', 'looduskaitsealal'],\n",
       " ['Lihula', 'vallas'],\n",
       " ['Euroopa', 'Liitu'],\n",
       " ['Puurmani', 'vallas'],\n",
       " ['Nõmme', 'linnaosas'],\n",
       " ['Euroopa', 'Liiduga'],\n",
       " ['Balti', 'riigi'],\n",
       " ['NSV', 'Liidu'],\n",
       " ['NSV', 'Liidust'],\n",
       " ['Eesti', 'Vabariik'],\n",
       " ['Balti', 'riikides'],\n",
       " ['Põhjamaade', 'ja', 'Balti', 'riikide'],\n",
       " ['Balti', 'liitudel'],\n",
       " ['Euroopa', 'Liitu'],\n",
       " ['Balti', 'riikides'],\n",
       " ['Euroopa', 'Liitu'],\n",
       " ['Tallinnas', 'Viru'],\n",
       " ['Pihkvasse', 'tsaari'],\n",
       " ['Nõukogude', 'Liidus'],\n",
       " ['Eesti', 'vabariigi'],\n",
       " ['Nõukogude', 'Liidus'],\n",
       " ['Tartu', 'valla'],\n",
       " ['Tartu', 'vallas'],\n",
       " ['Tartu', 'linn', 'vallale'],\n",
       " ['Euroopa', 'Liidul'],\n",
       " ['Vaikse', 'ookeani'],\n",
       " ['Tartu', 'linna'],\n",
       " ['Euroopa', 'Liidu'],\n",
       " ['Euroopa', 'Liidu'],\n",
       " ['Euroopa', 'Liit'],\n",
       " ['Saarepeedi', 'valla'],\n",
       " ['Tobraselja', 'küla'],\n",
       " ['Nõmmeri', 'küla'],\n",
       " ['Nõmmeri', 'külas'],\n",
       " ['Nõmmeri', 'küla'],\n",
       " ['Kiruvere', 'külast'],\n",
       " ['Euroopa', 'Liidu'],\n",
       " ['Lõuna-', 'ja', 'Ida-Eestis'],\n",
       " ['Harjumaa', 'Järve'],\n",
       " ['Tartus', 'Munga'],\n",
       " ['Tori', 'jões'],\n",
       " ['Aa', 'küla'],\n",
       " ['Eesti', 'Vabariigi'],\n",
       " ['Loodna', 'valla'],\n",
       " ['Eesti', 'riik'],\n",
       " ['Pakri', 'saarelt'],\n",
       " ['Laekvere', 'valla'],\n",
       " ['Eesti', 'riiki'],\n",
       " ['Euroopa', 'Liidus'],\n",
       " ['Euroopa', 'Liit'],\n",
       " ['Euroopa', 'Liit'],\n",
       " ['Kesk-', 'ja', 'Kagu-Eestis'],\n",
       " ['Auvere-Joala', 'valla'],\n",
       " ['Auvere-Joala', 'vald'],\n",
       " ['Peetri', 'vallast'],\n",
       " ['Voka', 'vallast'],\n",
       " ['Vaivara', 'vallaga'],\n",
       " ['Vaivara', 'vald'],\n",
       " ['Vaivara', 'vald'],\n",
       " ['Narva', 'jõe'],\n",
       " ['Joala', 'küla'],\n",
       " ['Vaivara', 'valla'],\n",
       " ['Vallisaare', 'küla'],\n",
       " ['Illuka', 'valla'],\n",
       " ['Orujõe', 'küla'],\n",
       " ['Narva', 'linna'],\n",
       " ['Kalmujõe', 'küla'],\n",
       " ['Narva', 'jõge'],\n",
       " ['Sundja', 'küla'],\n",
       " ['Sol-dino', 'küla'],\n",
       " ['Putki', 'küla'],\n",
       " ['Uhekonna', 'küla'],\n",
       " ['Mustajõe', 'küla'],\n",
       " ['Vaivara', 'valla'],\n",
       " ['Soldina', '(', 'küla'],\n",
       " ['Lavassaare', 'alevikus'],\n",
       " ['Eesti', 'maakondi'],\n",
       " ['Eesti', 'saare'],\n",
       " ['Saaremaal', 'saarte'],\n",
       " ['Cosco', 'linnas'],\n",
       " ['Balti', 'riigis'],\n",
       " ['Balti', 'riigi'],\n",
       " ['Colombias', 'Medellini'],\n",
       " ['Rapla', 'linnas'],\n",
       " ['Kariibi', 'mere'],\n",
       " ['Risti', 'valla'],\n",
       " ['Lihula', 'valda'],\n",
       " ['Martna', 'vallast'],\n",
       " ['Kasari', 'jõgi'],\n",
       " ['Martna', 'vald'],\n",
       " ['Tallinna-Haapsalu', 'ja', 'Risti-Virtsu'],\n",
       " ['Vormsi', 'saarele'],\n",
       " ['Padise', 'vallaga'],\n",
       " ['Noarootsi', 'poolsaare'],\n",
       " ['Haapsalu', 'linna'],\n",
       " ['Haapsalu', 'linn'],\n",
       " ['Ridala', 'vallale'],\n",
       " ['Ridala', 'vallast'],\n",
       " ['Martna', 'vallast'],\n",
       " ['Kaasiku', 'küla'],\n",
       " ['Taebla', 'vallaga'],\n",
       " ['Martna', 'valla'],\n",
       " ['Kasari', 'jõe'],\n",
       " ['Risti', 'valla'],\n",
       " ['Oru', 'vallaga'],\n",
       " ['Risti', 'vallas'],\n",
       " ['Lääne', 'maakonna'],\n",
       " ['Vormsi', 'saarega'],\n",
       " ['Ridala', 'vallaga'],\n",
       " ['Kullamaa', 'valda'],\n",
       " ['Lihula', 'valla'],\n",
       " ['Lihula', 'linn'],\n",
       " ['USA', 'Virginia'],\n",
       " ['Panama', 'kanal'],\n",
       " ['Rapla-', 'ja', 'Pärnumaa'],\n",
       " ['Euroopa', 'Liitu'],\n",
       " ['Lihula', 'vallas'],\n",
       " ['Martna', 'vallas'],\n",
       " ['Martna', 'vald'],\n",
       " ['Martna', 'vallas'],\n",
       " ['Värska', 'valla'],\n",
       " ['Padise', 'vallas'],\n",
       " ['Eesti', 'Vabariigi'],\n",
       " ['Vene', 'Föderatsiooni'],\n",
       " ['Lihula', 'valla'],\n",
       " ['Eesti', 'riik'],\n",
       " ['Tartu-', ',', 'Põlva-'],\n",
       " ['Eesti', 'riik'],\n",
       " ['Lääne-', 'ja', 'Hiiumaaga'],\n",
       " ['Vasalemma', 'vallas'],\n",
       " ['Kohila', 'valla'],\n",
       " ['Rapla', 'maakonnas'],\n",
       " ['Kohila', 'alevi-'],\n",
       " ['Tallinnas', 'Nõmme'],\n",
       " ['Euroopa', 'Liidu'],\n",
       " ['Kasahstanis', 'Karaganda'],\n",
       " ['Ädara', 'külas'],\n",
       " ['Torontos', 'külas'],\n",
       " ['Eesti', 'Vabariigist'],\n",
       " ['Eesti', 'NSVs'],\n",
       " ['Petserist', 'Torontosse'],\n",
       " ['Albu', 'vallas'],\n",
       " ['Albu', 'vallas'],\n",
       " ['Albu', 'valla'],\n",
       " ['Sri', 'Lanka'],\n",
       " ['Euroopa', 'Liidus'],\n",
       " ['NSV', 'Liidu'],\n",
       " ['NSV', 'Liidu'],\n",
       " ['Prantsusmaal', \"Lozére'i\"],\n",
       " ['Läänemere', 'saart'],\n",
       " ['Euroopa', 'Liiduga'],\n",
       " ['Kaali', 'järve']]"
      ]
     },
     "execution_count": 147,
     "metadata": {},
     "output_type": "execute_result"
    }
   ],
   "source": [
    "[ent for ent in ner_entities if len(ent) > 1]"
   ]
  },
  {
   "cell_type": "code",
   "execution_count": 149,
   "id": "20769669",
   "metadata": {},
   "outputs": [],
   "source": [
    "one_word_ner = [ent[0] for ent in ner_entities if len(ent) == 1]"
   ]
  },
  {
   "cell_type": "code",
   "execution_count": 151,
   "id": "3856f534",
   "metadata": {},
   "outputs": [
    {
     "data": {
      "text/plain": [
       "['ajaleheküljest', 'vallas', 'perekonnas']"
      ]
     },
     "execution_count": 151,
     "metadata": {},
     "output_type": "execute_result"
    }
   ],
   "source": [
    "non_loc_time_root[:3]"
   ]
  },
  {
   "cell_type": "code",
   "execution_count": 183,
   "id": "d934a03f",
   "metadata": {},
   "outputs": [
    {
     "data": {
      "text/plain": [
       "832"
      ]
     },
     "execution_count": 183,
     "metadata": {},
     "output_type": "execute_result"
    }
   ],
   "source": [
    "len(set(one_word_ner))"
   ]
  },
  {
   "cell_type": "code",
   "execution_count": 152,
   "id": "e51f582e",
   "metadata": {},
   "outputs": [],
   "source": [
    "remaining_adv = [ent for ent in non_loc_time_root if ent not in one_word_ner]"
   ]
  },
  {
   "cell_type": "code",
   "execution_count": 153,
   "id": "91d2fedc",
   "metadata": {},
   "outputs": [
    {
     "data": {
      "text/plain": [
       "5266"
      ]
     },
     "execution_count": 153,
     "metadata": {},
     "output_type": "execute_result"
    }
   ],
   "source": [
    "len(remaining_adv)"
   ]
  },
  {
   "cell_type": "code",
   "execution_count": 154,
   "id": "de4b14d8",
   "metadata": {},
   "outputs": [
    {
     "data": {
      "text/plain": [
       "(3100, 3048)"
      ]
     },
     "execution_count": 154,
     "metadata": {},
     "output_type": "execute_result"
    }
   ],
   "source": [
    "len(set(non_loc_time_root)), len(set(remaining_adv))"
   ]
  },
  {
   "cell_type": "markdown",
   "id": "80a86e98",
   "metadata": {},
   "source": [
    "NER locations remove 52 distinct location references."
   ]
  },
  {
   "cell_type": "code",
   "execution_count": 158,
   "id": "34165a3d",
   "metadata": {},
   "outputs": [
    {
     "data": {
      "text/plain": [
       "[('sõnul', 116),\n",
       " ('sellest', 77),\n",
       " ('ajal', 70),\n",
       " ('meil', 53),\n",
       " ('mulle', 42),\n",
       " ('endale', 38),\n",
       " ('tööle', 38),\n",
       " ('talle', 37),\n",
       " ('mul', 33),\n",
       " ('millest', 32)]"
      ]
     },
     "execution_count": 158,
     "metadata": {},
     "output_type": "execute_result"
    }
   ],
   "source": [
    "Counter(remaining_adv).most_common(10)"
   ]
  },
  {
   "cell_type": "markdown",
   "id": "7f7344f5",
   "metadata": {},
   "source": [
    "#### Removing words related to persons"
   ]
  },
  {
   "cell_type": "markdown",
   "id": "2f59917d",
   "metadata": {},
   "source": [
    "First removing pronouns"
   ]
  },
  {
   "cell_type": "code",
   "execution_count": 159,
   "id": "eb26cae4",
   "metadata": {},
   "outputs": [],
   "source": [
    "asesonad = set()\n",
    "asesonad_lemma = set()\n",
    "\n",
    "for sentence in sentences:\n",
    "    for word in sentence.stanza_syntax:\n",
    "        pos = word[\"upostag\"]\n",
    "        if pos == \"P\":\n",
    "            asesonad.add(word.text)\n",
    "            asesonad_lemma.add(word.lemma)"
   ]
  },
  {
   "cell_type": "code",
   "execution_count": 160,
   "id": "d030a28e",
   "metadata": {},
   "outputs": [
    {
     "data": {
      "text/plain": [
       "(602, 55)"
      ]
     },
     "execution_count": 160,
     "metadata": {},
     "output_type": "execute_result"
    }
   ],
   "source": [
    "len(asesonad), len(asesonad_lemma)"
   ]
  },
  {
   "cell_type": "code",
   "execution_count": 164,
   "id": "9f7e111f",
   "metadata": {},
   "outputs": [],
   "source": [
    "remaining_without_pron = [w for w in remaining_adv if w not in asesonad]"
   ]
  },
  {
   "cell_type": "markdown",
   "id": "bcfb3a3a",
   "metadata": {},
   "source": [
    "Then removing words whose hypernyms are related to people"
   ]
  },
  {
   "cell_type": "code",
   "execution_count": 170,
   "id": "9b820413",
   "metadata": {},
   "outputs": [],
   "source": [
    "person_hypernyms = [\"keeleüksus\", \"inimene\", \"elusolend\", \"sotsiaalne grupp\", \"kehaosa\", \"reisija\", \"liige\", \"mees\",\n",
    "                   \"nägemiselund\", \"järglane\", \"asjahuviline\", \"naine\"]"
   ]
  },
  {
   "cell_type": "code",
   "execution_count": 175,
   "id": "95d53741",
   "metadata": {},
   "outputs": [],
   "source": [
    "wn_person = [ent[0] for ent in all_loc_entities_hypernyms if ent[2].literal in person_hypernyms]"
   ]
  },
  {
   "cell_type": "code",
   "execution_count": 176,
   "id": "3aaf632c",
   "metadata": {},
   "outputs": [
    {
     "data": {
      "text/plain": [
       "['lugejatele', 'ühiskonnas', 'silmas']"
      ]
     },
     "execution_count": 176,
     "metadata": {},
     "output_type": "execute_result"
    }
   ],
   "source": [
    "wn_person[:3]"
   ]
  },
  {
   "cell_type": "code",
   "execution_count": 177,
   "id": "20ae3ce0",
   "metadata": {},
   "outputs": [],
   "source": [
    "remaining_without_person = [w for w in remaining_without_pron if w not in wn_person]"
   ]
  },
  {
   "cell_type": "code",
   "execution_count": 178,
   "id": "e96e74b7",
   "metadata": {},
   "outputs": [
    {
     "data": {
      "text/plain": [
       "(3854, 2672)"
      ]
     },
     "execution_count": 178,
     "metadata": {},
     "output_type": "execute_result"
    }
   ],
   "source": [
    "len(remaining_without_person), len(set(remaining_without_person))"
   ]
  },
  {
   "cell_type": "markdown",
   "id": "1230ba2a",
   "metadata": {},
   "source": [
    "3854 (2672 distinct) entities with the obl tag and locative case remain after removing words related to people."
   ]
  },
  {
   "cell_type": "code",
   "execution_count": 179,
   "id": "cfaa0ce5",
   "metadata": {},
   "outputs": [
    {
     "data": {
      "text/plain": [
       "[('ajal', 70),\n",
       " ('tööle', 38),\n",
       " ('vallas', 28),\n",
       " ('päeval', 25),\n",
       " ('alusel', 24),\n",
       " ('lõpul', 16),\n",
       " ('mõttes', 15),\n",
       " ('ulatuses', 15),\n",
       " ('lõpus', 15),\n",
       " ('hinnangul', 15)]"
      ]
     },
     "execution_count": 179,
     "metadata": {},
     "output_type": "execute_result"
    }
   ],
   "source": [
    "Counter(remaining_without_person).most_common(10)"
   ]
  },
  {
   "cell_type": "code",
   "execution_count": 181,
   "id": "6e342154",
   "metadata": {},
   "outputs": [
    {
     "name": "stdout",
     "output_type": "stream",
     "text": [
      "('päeval', 'päev', \"Synset('üritus.n.01')\")\n"
     ]
    }
   ],
   "source": [
    "for ent in all_loc_entities_hypernyms:\n",
    "    if ent[0] == \"päeval\":\n",
    "        print(ent)\n",
    "        break"
   ]
  },
  {
   "cell_type": "code",
   "execution_count": 182,
   "id": "7707e340",
   "metadata": {},
   "outputs": [
    {
     "name": "stdout",
     "output_type": "stream",
     "text": [
      "('vallas', 'vald', \"Synset('abstraktsioon.n.01')\")\n"
     ]
    }
   ],
   "source": [
    "for ent in all_loc_entities_hypernyms:\n",
    "    if ent[0] == \"vallas\":\n",
    "        print(ent)\n",
    "        break"
   ]
  },
  {
   "cell_type": "markdown",
   "id": "99cc1444",
   "metadata": {},
   "source": [
    "## Testset creation and analysis"
   ]
  },
  {
   "cell_type": "code",
   "execution_count": 40,
   "id": "b545befb",
   "metadata": {},
   "outputs": [],
   "source": [
    "all_files = listdir(\"Maaleht/ML/maaleht/aja_maaleht_2001\") + listdir(\"Maaleht/ML/maaleht/maaleht_2002\") + listdir(\"Maaleht/ML/maaleht/maaleht_2003\") + listdir(\"Maaleht/ML/maaleht/maaleht_2004\")"
   ]
  },
  {
   "cell_type": "code",
   "execution_count": 43,
   "id": "29512904",
   "metadata": {},
   "outputs": [],
   "source": [
    "testfiles = random.sample(all_files, 5)"
   ]
  },
  {
   "cell_type": "code",
   "execution_count": 44,
   "id": "5d499822",
   "metadata": {},
   "outputs": [
    {
     "data": {
      "text/plain": [
       "['aja_ml_2002_13.xml',\n",
       " 'aja_ml_2001_44.xml',\n",
       " 'aja_ml_2002_26.xml',\n",
       " 'aja_ml_2002_52.xml',\n",
       " 'aja_ml_2001_37.xml']"
      ]
     },
     "execution_count": 44,
     "metadata": {},
     "output_type": "execute_result"
    }
   ],
   "source": [
    "testfiles"
   ]
  },
  {
   "cell_type": "markdown",
   "id": "2dc1445f",
   "metadata": {},
   "source": [
    "List of files used for the original set:\n",
    "\n",
    "['aja_ml_2001_32.tasak.xml',\n",
    " 'aja_ml_2003_31.xml',\n",
    " 'aja_ml_2002_46.xml',\n",
    " 'aja_ml_2001_26.xml',\n",
    " 'aja_ml_2002_03.xml']\n",
    " \n",
    " List of files used for the test set:\n",
    " \n",
    "['aja_ml_2002_13.xml',\n",
    " 'aja_ml_2001_44.xml',\n",
    " 'aja_ml_2002_26.xml',\n",
    " 'aja_ml_2002_52.xml',\n",
    " 'aja_ml_2001_37.xml']"
   ]
  },
  {
   "cell_type": "code",
   "execution_count": 49,
   "id": "77c2c94f",
   "metadata": {},
   "outputs": [],
   "source": [
    "result_test = parse_tei_corpus('Maaleht/ML/maaleht/maaleht_2002/aja_ml_2002_13.xml')\n",
    "result_test.extend(parse_tei_corpus('Maaleht/ML/maaleht/aja_maaleht_2001/aja_ml_2001_44.xml'))\n",
    "result_test.extend(parse_tei_corpus('Maaleht/ML/maaleht/maaleht_2002/aja_ml_2002_26.xml'))\n",
    "result_test.extend(parse_tei_corpus('Maaleht/ML/maaleht/maaleht_2002/aja_ml_2002_52.xml'))\n",
    "result_test.extend(parse_tei_corpus('Maaleht/ML/maaleht/aja_maaleht_2001/aja_ml_2001_37.xml'))"
   ]
  },
  {
   "cell_type": "code",
   "execution_count": 50,
   "id": "aed37ccc",
   "metadata": {},
   "outputs": [
    {
     "data": {
      "text/plain": [
       "210"
      ]
     },
     "execution_count": 50,
     "metadata": {},
     "output_type": "execute_result"
    }
   ],
   "source": [
    "len(result_test)"
   ]
  },
  {
   "cell_type": "code",
   "execution_count": 51,
   "id": "6922fbdf",
   "metadata": {},
   "outputs": [],
   "source": [
    "sentences_test = []\n",
    "\n",
    "for t in result_test:\n",
    "    t.tag_layer()\n",
    "    for sent in t.sentences:\n",
    "        sent_text = \" \".join(sent.text)\n",
    "        sentences_test.append(Text(sent_text))"
   ]
  },
  {
   "cell_type": "code",
   "execution_count": 52,
   "id": "1a5a9ca1",
   "metadata": {},
   "outputs": [
    {
     "data": {
      "text/plain": [
       "10668"
      ]
     },
     "execution_count": 52,
     "metadata": {},
     "output_type": "execute_result"
    }
   ],
   "source": [
    "len(sentences_test)"
   ]
  },
  {
   "cell_type": "code",
   "execution_count": 53,
   "id": "5b0c8e2d",
   "metadata": {},
   "outputs": [],
   "source": [
    "for sent in sentences_test:\n",
    "    sent.tag_layer('morph_extended')\n",
    "    stanza(sent)"
   ]
  },
  {
   "cell_type": "code",
   "execution_count": 54,
   "id": "bf5383f2",
   "metadata": {},
   "outputs": [],
   "source": [
    "for sent in sentences_test:\n",
    "    try:\n",
    "        obl_extractor(sent)\n",
    "    except:\n",
    "        continue"
   ]
  },
  {
   "cell_type": "code",
   "execution_count": 61,
   "id": "ad93898d",
   "metadata": {},
   "outputs": [
    {
     "name": "stderr",
     "output_type": "stream",
     "text": [
      "100%|████████████████████████████████████████████████████████████████████████████| 10668/10668 [09:47<00:00, 18.15it/s]\n"
     ]
    }
   ],
   "source": [
    "for sent in tqdm(sentences_test):\n",
    "    tagger.tag(sent)"
   ]
  },
  {
   "cell_type": "code",
   "execution_count": 62,
   "id": "2c06c176",
   "metadata": {},
   "outputs": [],
   "source": [
    "with open(\"test_sentences_with_analysis.pickle\", \"wb\") as f:\n",
    "    pickle.dump(sentences_test, f)"
   ]
  },
  {
   "cell_type": "markdown",
   "id": "497dac76",
   "metadata": {},
   "source": [
    "#### Keeping the root words of all locative entities"
   ]
  },
  {
   "cell_type": "code",
   "execution_count": 195,
   "id": "b68e7edf",
   "metadata": {},
   "outputs": [
    {
     "name": "stdout",
     "output_type": "stream",
     "text": [
      "1193\n",
      "2863\n"
     ]
    }
   ],
   "source": [
    "for i, sent in enumerate(sentences_test):\n",
    "    try:\n",
    "        entities = sent[\"entities\"]\n",
    "    except:\n",
    "        print(i)"
   ]
  },
  {
   "cell_type": "code",
   "execution_count": 198,
   "id": "8f6787b6",
   "metadata": {},
   "outputs": [
    {
     "data": {
      "text/plain": [
       "'Kust sihuke loll mõte ! )'"
      ]
     },
     "execution_count": 198,
     "metadata": {},
     "output_type": "execute_result"
    }
   ],
   "source": [
    "sentences_test[2863].text"
   ]
  },
  {
   "cell_type": "code",
   "execution_count": 199,
   "id": "63f3689e",
   "metadata": {},
   "outputs": [],
   "source": [
    "all_loc_entities_test = []\n",
    "all_loc_entities_text_test = []\n",
    "\n",
    "for i, sent in enumerate(sentences_test):\n",
    "    if i in [1193, 2863]:\n",
    "        continue\n",
    "    for span in sent['entities']:\n",
    "        loc = False\n",
    "        root_form = span.root.form[0]\n",
    "        if root_form in kohakaanded:\n",
    "            loc = True\n",
    "        \n",
    "        if loc:\n",
    "            all_loc_entities_test.append(span)\n",
    "            all_loc_entities_text_test.append(span.text)"
   ]
  },
  {
   "cell_type": "code",
   "execution_count": 200,
   "id": "063d0c01",
   "metadata": {},
   "outputs": [],
   "source": [
    "all_root_test = []\n",
    "\n",
    "for ent in all_loc_entities_test:\n",
    "    all_root_test.append(ent.root.text)"
   ]
  },
  {
   "cell_type": "code",
   "execution_count": 201,
   "id": "0bf712af",
   "metadata": {},
   "outputs": [
    {
     "data": {
      "text/plain": [
       "(6648, 3479)"
      ]
     },
     "execution_count": 201,
     "metadata": {},
     "output_type": "execute_result"
    }
   ],
   "source": [
    "len(all_root_test), len(set(all_root_test))"
   ]
  },
  {
   "cell_type": "markdown",
   "id": "a2c2d90c",
   "metadata": {},
   "source": [
    "There were a total of 6648 entities and 3479 distinct root words of entities"
   ]
  },
  {
   "cell_type": "code",
   "execution_count": 202,
   "id": "1e7b1448",
   "metadata": {},
   "outputs": [],
   "source": [
    "all_root_lemma_test = []\n",
    "\n",
    "for ent in all_loc_entities_test:\n",
    "    all_root_lemma_test.append(ent.root.lemma)"
   ]
  },
  {
   "cell_type": "code",
   "execution_count": 203,
   "id": "05dba964",
   "metadata": {},
   "outputs": [
    {
     "data": {
      "text/plain": [
       "2336"
      ]
     },
     "execution_count": 203,
     "metadata": {},
     "output_type": "execute_result"
    }
   ],
   "source": [
    "len(set(all_root_lemma_test))"
   ]
  },
  {
   "cell_type": "markdown",
   "id": "2449e2da",
   "metadata": {},
   "source": [
    "#### Removing time/loc hypernym words"
   ]
  },
  {
   "cell_type": "code",
   "execution_count": 204,
   "id": "aa4d5c7d",
   "metadata": {},
   "outputs": [],
   "source": [
    "all_loc_entities_hypernyms_test = []\n",
    "\n",
    "for i, lem in enumerate(all_root_lemma_test):\n",
    "    try:\n",
    "        syns = wn[lem][0]\n",
    "        hypernym = syns.hypernyms\n",
    "        all_loc_entities_hypernyms_test.append((all_root_test[i], lem, hypernym[0]))\n",
    "    except:\n",
    "        continue"
   ]
  },
  {
   "cell_type": "code",
   "execution_count": 205,
   "id": "7f68d8ca",
   "metadata": {},
   "outputs": [],
   "source": [
    "loc_time_test = [ent for ent in all_loc_entities_hypernyms_test if ent[2].literal in loc_time_hypernyms]"
   ]
  },
  {
   "cell_type": "code",
   "execution_count": 206,
   "id": "f0ad672a",
   "metadata": {},
   "outputs": [],
   "source": [
    "loc_time_word_test = [tup[0] for tup in loc_time_test]"
   ]
  },
  {
   "cell_type": "code",
   "execution_count": 207,
   "id": "b7055a7a",
   "metadata": {},
   "outputs": [],
   "source": [
    "non_loc_time_root_test = [w for w in all_root_test if w not in loc_time_word_test]"
   ]
  },
  {
   "cell_type": "code",
   "execution_count": 208,
   "id": "88b50a78",
   "metadata": {},
   "outputs": [
    {
     "data": {
      "text/plain": [
       "(5534, 3148)"
      ]
     },
     "execution_count": 208,
     "metadata": {},
     "output_type": "execute_result"
    }
   ],
   "source": [
    "len(non_loc_time_root_test), len(set(non_loc_time_root_test))"
   ]
  },
  {
   "cell_type": "markdown",
   "id": "cdff808b",
   "metadata": {},
   "source": [
    "After removing location and time related words using hypernyms, 5534 entities (3148 distinct entities) are left."
   ]
  },
  {
   "cell_type": "markdown",
   "id": "bcafbb2f",
   "metadata": {},
   "source": [
    "#### Removing NER locations"
   ]
  },
  {
   "cell_type": "code",
   "execution_count": 209,
   "id": "9e9f6965",
   "metadata": {},
   "outputs": [],
   "source": [
    "ner_entities_test = []\n",
    "\n",
    "for sent in sentences_test:\n",
    "    for ner_entity in sent.ner:\n",
    "        if ner_entity.nertag == \"LOC\":\n",
    "            ner_entities_test.append(ner_entity.text)"
   ]
  },
  {
   "cell_type": "code",
   "execution_count": 210,
   "id": "3cf9ef63",
   "metadata": {},
   "outputs": [
    {
     "data": {
      "text/plain": [
       "(2534, 228)"
      ]
     },
     "execution_count": 210,
     "metadata": {},
     "output_type": "execute_result"
    }
   ],
   "source": [
    "len([ent for ent in ner_entities_test if len(ent) == 1]), len([ent for ent in ner_entities_test if len(ent) > 1])"
   ]
  },
  {
   "cell_type": "code",
   "execution_count": 211,
   "id": "2fe8773f",
   "metadata": {},
   "outputs": [],
   "source": [
    "one_word_ner_test = [ent[0] for ent in ner_entities_test if len(ent) == 1]"
   ]
  },
  {
   "cell_type": "code",
   "execution_count": 212,
   "id": "bf9d2b79",
   "metadata": {},
   "outputs": [],
   "source": [
    "remaining_adv_test = [ent for ent in non_loc_time_root_test if ent not in one_word_ner_test]"
   ]
  },
  {
   "cell_type": "code",
   "execution_count": 219,
   "id": "2ee0bc8d",
   "metadata": {},
   "outputs": [
    {
     "data": {
      "text/plain": [
       "(5328, 3095)"
      ]
     },
     "execution_count": 219,
     "metadata": {},
     "output_type": "execute_result"
    }
   ],
   "source": [
    "len(remaining_adv_test), len(set(remaining_adv_test))"
   ]
  },
  {
   "cell_type": "markdown",
   "id": "48877132",
   "metadata": {},
   "source": [
    "After removing NER locations, 5328 entities (3095 distinct entities) are left."
   ]
  },
  {
   "cell_type": "markdown",
   "id": "4e9eca80",
   "metadata": {
    "collapsed": true
   },
   "source": [
    "#### Removing person related hypernyms"
   ]
  },
  {
   "cell_type": "code",
   "execution_count": 214,
   "id": "c0ccf769",
   "metadata": {},
   "outputs": [],
   "source": [
    "asesonad_test = set()\n",
    "\n",
    "for sentence in sentences_test:\n",
    "    for word in sentence.stanza_syntax:\n",
    "        pos = word[\"upostag\"]\n",
    "        if pos == \"P\":\n",
    "            asesonad_test.add(word.text)"
   ]
  },
  {
   "cell_type": "code",
   "execution_count": 215,
   "id": "a5ac4665",
   "metadata": {},
   "outputs": [],
   "source": [
    "remaining_without_pron_test = [w for w in remaining_adv_test if w not in asesonad_test]"
   ]
  },
  {
   "cell_type": "code",
   "execution_count": 216,
   "id": "d8a0fa6d",
   "metadata": {},
   "outputs": [],
   "source": [
    "remaining_without_person_test = [w for w in remaining_without_pron_test if w not in wn_person]"
   ]
  },
  {
   "cell_type": "code",
   "execution_count": 218,
   "id": "8e07868c",
   "metadata": {},
   "outputs": [
    {
     "data": {
      "text/plain": [
       "(4121, 2863)"
      ]
     },
     "execution_count": 218,
     "metadata": {},
     "output_type": "execute_result"
    }
   ],
   "source": [
    "len(remaining_without_person_test), len(set(remaining_without_person_test))"
   ]
  },
  {
   "cell_type": "markdown",
   "id": "0364eaeb",
   "metadata": {},
   "source": [
    "After removing words related to people, 4121 entities (2863 distinct entities) are left."
   ]
  },
  {
   "cell_type": "code",
   "execution_count": 217,
   "id": "d892d474",
   "metadata": {},
   "outputs": [
    {
     "data": {
      "text/plain": [
       "[('ajal', 67),\n",
       " ('alusel', 26),\n",
       " ('tööle', 25),\n",
       " ('vallas', 24),\n",
       " ('lõpus', 22),\n",
       " ('mõttes', 21),\n",
       " ('päeval', 19),\n",
       " ('maailmas', 19),\n",
       " ('hinnangul', 19),\n",
       " ('koolis', 19)]"
      ]
     },
     "execution_count": 217,
     "metadata": {},
     "output_type": "execute_result"
    }
   ],
   "source": [
    "Counter(remaining_without_person_test).most_common(10)"
   ]
  },
  {
   "cell_type": "markdown",
   "id": "e1c986d2",
   "metadata": {},
   "source": [
    "## Overlap of original and test set remaining words"
   ]
  },
  {
   "cell_type": "code",
   "execution_count": 220,
   "id": "3ae2b9aa",
   "metadata": {},
   "outputs": [
    {
     "data": {
      "text/plain": [
       "(2672, 2863)"
      ]
     },
     "execution_count": 220,
     "metadata": {},
     "output_type": "execute_result"
    }
   ],
   "source": [
    "len(set(remaining_without_person)), len(set(remaining_without_person_test))"
   ]
  },
  {
   "cell_type": "code",
   "execution_count": 221,
   "id": "22033050",
   "metadata": {},
   "outputs": [
    {
     "data": {
      "text/plain": [
       "586"
      ]
     },
     "execution_count": 221,
     "metadata": {},
     "output_type": "execute_result"
    }
   ],
   "source": [
    "len(set(remaining_without_person) & set(remaining_without_person_test))"
   ]
  },
  {
   "cell_type": "code",
   "execution_count": 225,
   "id": "72beec1a",
   "metadata": {},
   "outputs": [
    {
     "data": {
      "text/plain": [
       "2086"
      ]
     },
     "execution_count": 225,
     "metadata": {},
     "output_type": "execute_result"
    }
   ],
   "source": [
    "len(set(remaining_without_person) - set(remaining_without_person_test))"
   ]
  },
  {
   "cell_type": "code",
   "execution_count": 226,
   "id": "48f74619",
   "metadata": {},
   "outputs": [
    {
     "data": {
      "text/plain": [
       "2277"
      ]
     },
     "execution_count": 226,
     "metadata": {},
     "output_type": "execute_result"
    }
   ],
   "source": [
    "len(set(remaining_without_person_test) - set(remaining_without_person))"
   ]
  }
 ],
 "metadata": {
  "kernelspec": {
   "display_name": "Python 3 (ipykernel)",
   "language": "python",
   "name": "python3"
  },
  "language_info": {
   "codemirror_mode": {
    "name": "ipython",
    "version": 3
   },
   "file_extension": ".py",
   "mimetype": "text/x-python",
   "name": "python",
   "nbconvert_exporter": "python",
   "pygments_lexer": "ipython3",
   "version": "3.8.15"
  }
 },
 "nbformat": 4,
 "nbformat_minor": 5
}
