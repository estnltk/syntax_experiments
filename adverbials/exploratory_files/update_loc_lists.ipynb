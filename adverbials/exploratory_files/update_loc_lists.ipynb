{
 "cells": [
  {
   "cell_type": "code",
   "execution_count": 2,
   "id": "1b36be39",
   "metadata": {},
   "outputs": [],
   "source": [
    "import pickle\n",
    "import pandas as pd\n",
    "from tqdm import tqdm\n",
    "from collections import Counter"
   ]
  },
  {
   "cell_type": "code",
   "execution_count": 2,
   "id": "8e9507df",
   "metadata": {},
   "outputs": [
    {
     "name": "stderr",
     "output_type": "stream",
     "text": [
      "100%|██████████████████████████████████████████████████████████████████████████████| 19/19 [6:33:19<00:00, 1242.10s/it]\n"
     ]
    }
   ],
   "source": [
    "for idx in tqdm(range(1, 20)):\n",
    "    all_entities_in = []\n",
    "    all_entities_in_with_text_id = []\n",
    "\n",
    "    with open(f\"1m_samples/sampled_1m_sentences_layers_{idx}.pickle\", \"rb\") as f:\n",
    "        sentences = pickle.load(f)\n",
    "        \n",
    "    for i, sent in enumerate(sentences):\n",
    "        for span in sent['v172_obl_phrases']:\n",
    "            span_root_form = span.root.form[0]\n",
    "            if span_root_form in ['sg in', 'pl in']:\n",
    "                all_entities_in_with_text_id.append((i, span.root.lemma))\n",
    "                all_entities_in.append(span.root.lemma)\n",
    "                \n",
    "    df = pd.DataFrame(all_entities_in_with_text_id, columns=[\"text_id\", \"entity_root\"])\n",
    "    df.to_csv(f\"1m_samples/entities_{idx}.csv\", index=False)"
   ]
  },
  {
   "cell_type": "code",
   "execution_count": 3,
   "id": "20a11687",
   "metadata": {},
   "outputs": [
    {
     "data": {
      "text/plain": [
       "21647"
      ]
     },
     "execution_count": 3,
     "metadata": {},
     "output_type": "execute_result"
    }
   ],
   "source": [
    "len(all_entities_in)"
   ]
  },
  {
   "cell_type": "code",
   "execution_count": 4,
   "id": "71dc0434",
   "metadata": {},
   "outputs": [],
   "source": [
    "count = Counter(all_entities_in)"
   ]
  },
  {
   "cell_type": "code",
   "execution_count": 5,
   "id": "05382399",
   "metadata": {},
   "outputs": [
    {
     "data": {
      "text/plain": [
       "[('Eesti', 891),\n",
       " ('Tallinn', 416),\n",
       " ('algus', 263),\n",
       " ('riik', 217),\n",
       " ('lõpp', 216),\n",
       " ('mis', 210),\n",
       " ('maailm', 207),\n",
       " ('kodu', 179),\n",
       " ('see', 178),\n",
       " ('mõte', 168),\n",
       " ('tulevik', 163),\n",
       " ('kool', 151),\n",
       " ('linn', 139),\n",
       " ('keel', 135),\n",
       " ('Tartu', 131),\n",
       " ('silm', 117),\n",
       " ('elu', 113),\n",
       " ('september', 105),\n",
       " ('ulatus', 103),\n",
       " ('Soome', 99),\n",
       " ('aasta', 95),\n",
       " ('Euroopa', 94),\n",
       " ('märts', 89),\n",
       " ('maja', 87),\n",
       " ('kokkuvõte', 86)]"
      ]
     },
     "execution_count": 5,
     "metadata": {},
     "output_type": "execute_result"
    }
   ],
   "source": [
    "count.most_common(25)"
   ]
  },
  {
   "cell_type": "code",
   "execution_count": 7,
   "id": "4348cace",
   "metadata": {},
   "outputs": [],
   "source": [
    "with open(f\"1m_samples/first_in_ents.pickle\", \"wb\") as f:\n",
    "        pickle.dump(all_entities_in, f)"
   ]
  },
  {
   "cell_type": "code",
   "execution_count": 4,
   "id": "584eb078",
   "metadata": {},
   "outputs": [],
   "source": [
    "dfs = []\n",
    "\n",
    "for i in range(1, 20):\n",
    "    dfs.append(pd.read_csv(f\"1m_samples/entities_{i}.csv\"))\n",
    "\n",
    "df = pd.concat(dfs)"
   ]
  },
  {
   "cell_type": "code",
   "execution_count": 6,
   "id": "f67adc59",
   "metadata": {},
   "outputs": [
    {
     "data": {
      "text/plain": [
       "[('Eesti', 6172),\n",
       " ('Tallinn', 2932),\n",
       " ('algus', 1894),\n",
       " ('mis', 1850),\n",
       " ('lõpp', 1728),\n",
       " ('see', 1666),\n",
       " ('riik', 1542),\n",
       " ('kodu', 1535),\n",
       " ('maailm', 1534),\n",
       " ('mõte', 1389),\n",
       " ('silm', 1336),\n",
       " ('lõige', 1320),\n",
       " ('kool', 1187),\n",
       " ('Tartu', 1181),\n",
       " ('tulevik', 1130),\n",
       " ('linn', 1129),\n",
       " ('keel', 1075),\n",
       " ('artikkel', 1014),\n",
       " ('vald', 873),\n",
       " ('kord', 869),\n",
       " ('ulatus', 849),\n",
       " ('osa', 819),\n",
       " ('elu', 796),\n",
       " ('Soome', 772),\n",
       " ('Euroopa', 712)]"
      ]
     },
     "execution_count": 6,
     "metadata": {},
     "output_type": "execute_result"
    }
   ],
   "source": [
    "Counter(df[\"entity_root\"]).most_common(25)"
   ]
  },
  {
   "cell_type": "code",
   "execution_count": 14,
   "id": "6a66e783",
   "metadata": {},
   "outputs": [],
   "source": [
    "entity_root_counts = pd.DataFrame(Counter(df[\"entity_root\"]).most_common(), columns=[\"entity_root\", \"count\"])"
   ]
  },
  {
   "cell_type": "code",
   "execution_count": 15,
   "id": "61de5fa6",
   "metadata": {},
   "outputs": [],
   "source": [
    "entity_root_counts.to_csv(\"entity_root_counts.csv\", index=False)"
   ]
  }
 ],
 "metadata": {
  "kernelspec": {
   "display_name": "Python 3",
   "language": "python",
   "name": "python3"
  },
  "language_info": {
   "codemirror_mode": {
    "name": "ipython",
    "version": 3
   },
   "file_extension": ".py",
   "mimetype": "text/x-python",
   "name": "python",
   "nbconvert_exporter": "python",
   "pygments_lexer": "ipython3",
   "version": "3.6.13"
  }
 },
 "nbformat": 4,
 "nbformat_minor": 5
}
