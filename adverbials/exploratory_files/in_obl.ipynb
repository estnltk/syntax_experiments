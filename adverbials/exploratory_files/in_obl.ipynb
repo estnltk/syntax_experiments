{
 "cells": [
  {
   "cell_type": "markdown",
   "id": "0e4e2b46",
   "metadata": {},
   "source": [
    "### Imports and extracting the data"
   ]
  },
  {
   "cell_type": "code",
   "execution_count": 1,
   "id": "497c26b6",
   "metadata": {},
   "outputs": [],
   "source": [
    "from estnltk import Text\n",
    "from estnltk_neural.taggers import StanzaSyntaxTagger\n",
    "from estnltk_patches import EntityTagger\n",
    "from estnltk_patches import SyntaxTree"
   ]
  },
  {
   "cell_type": "code",
   "execution_count": 2,
   "id": "3191b077",
   "metadata": {},
   "outputs": [],
   "source": [
    "import random\n",
    "from os import listdir\n",
    "from collections import Counter, defaultdict\n",
    "from estnltk.corpus_processing.parse_koondkorpus import parse_tei_corpus"
   ]
  },
  {
   "cell_type": "code",
   "execution_count": 3,
   "id": "40c03e7a",
   "metadata": {},
   "outputs": [],
   "source": [
    "stanza = StanzaSyntaxTagger()"
   ]
  },
  {
   "cell_type": "code",
   "execution_count": 4,
   "id": "2cfc69d8",
   "metadata": {},
   "outputs": [],
   "source": [
    "result = parse_tei_corpus('Maaleht/ML/maaleht/aja_maaleht_2001/aja_ml_2001_32.tasak.xml')\n",
    "result.extend(parse_tei_corpus('Maaleht/ML/maaleht/maaleht_2003/aja_ml_2003_31.xml'))\n",
    "result.extend(parse_tei_corpus('Maaleht/ML/maaleht/maaleht_2002/aja_ml_2002_46.xml'))\n",
    "result.extend(parse_tei_corpus('Maaleht/ML/maaleht/aja_maaleht_2001/aja_ml_2001_26.xml'))\n",
    "result.extend(parse_tei_corpus('Maaleht/ML/maaleht/maaleht_2002/aja_ml_2002_03.xml'))"
   ]
  },
  {
   "cell_type": "code",
   "execution_count": 5,
   "id": "bc5a5f4f",
   "metadata": {},
   "outputs": [
    {
     "data": {
      "text/plain": [
       "225"
      ]
     },
     "execution_count": 5,
     "metadata": {},
     "output_type": "execute_result"
    }
   ],
   "source": [
    "len(result)"
   ]
  },
  {
   "cell_type": "code",
   "execution_count": 6,
   "id": "ae10d467",
   "metadata": {},
   "outputs": [],
   "source": [
    "sentences = []\n",
    "\n",
    "for t in result:\n",
    "    t.tag_layer()\n",
    "    for sent in t.sentences:\n",
    "        sent_text = \" \".join(sent.text)\n",
    "        sentences.append(Text(sent_text))"
   ]
  },
  {
   "cell_type": "markdown",
   "id": "f905081a",
   "metadata": {},
   "source": [
    "### Tagging the sentences with Stanxa and OBL extractor"
   ]
  },
  {
   "cell_type": "code",
   "execution_count": 7,
   "id": "a8ec33c9",
   "metadata": {},
   "outputs": [],
   "source": [
    "for sent in sentences:\n",
    "    sent.tag_layer('morph_extended')\n",
    "    stanza(sent)"
   ]
  },
  {
   "cell_type": "code",
   "execution_count": 8,
   "id": "a3c98d6f",
   "metadata": {},
   "outputs": [],
   "source": [
    "obl_extractor = EntityTagger(deprel='obl', output_layer='entities')"
   ]
  },
  {
   "cell_type": "code",
   "execution_count": 9,
   "id": "b5de605c",
   "metadata": {},
   "outputs": [],
   "source": [
    "for sent in sentences:\n",
    "    try:\n",
    "        obl_extractor(sent)\n",
    "    except:\n",
    "        continue"
   ]
  },
  {
   "cell_type": "code",
   "execution_count": 10,
   "id": "42842dbb",
   "metadata": {},
   "outputs": [
    {
     "name": "stdout",
     "output_type": "stream",
     "text": [
      "1118\n",
      "2534\n"
     ]
    }
   ],
   "source": [
    "for i, sent in enumerate(sentences):\n",
    "    try:\n",
    "        ent = sent.entities\n",
    "    except:\n",
    "        print(i)\n",
    "        continue"
   ]
  },
  {
   "cell_type": "code",
   "execution_count": 11,
   "id": "a2f4fb64",
   "metadata": {},
   "outputs": [
    {
     "data": {
      "text/html": [
       "<table border=\"1\" class=\"dataframe\">\n",
       "  <thead>\n",
       "    <tr style=\"text-align: right;\">\n",
       "      <th>text</th>\n",
       "    </tr>\n",
       "  </thead>\n",
       "  <tbody>\n",
       "    <tr>\n",
       "      <td><div align = \"left\">Lisaks senistele keskkonna , ettevõtluse , turismi ja inimestevahelise suhtluse töörühmale moodustati nüüd ka transpordialane töörühm , mis hakkab otsima lahendusi saarte ja mandri vahelise ühenduse paremaks korraldamiseks .</div></td>\n",
       "    </tr>\n",
       "  </tbody>\n",
       "</table>\n",
       "<table border=\"1\" class=\"dataframe\">\n",
       "  <thead>\n",
       "    <tr style=\"text-align: right;\">\n",
       "      <th>layer name</th>\n",
       "      <th>attributes</th>\n",
       "      <th>parent</th>\n",
       "      <th>enveloping</th>\n",
       "      <th>ambiguous</th>\n",
       "      <th>span count</th>\n",
       "    </tr>\n",
       "  </thead>\n",
       "  <tbody>\n",
       "    <tr>\n",
       "      <td>sentences</td>\n",
       "      <td></td>\n",
       "      <td>None</td>\n",
       "      <td>words</td>\n",
       "      <td>False</td>\n",
       "      <td>1</td>\n",
       "    </tr>\n",
       "    <tr>\n",
       "      <td>tokens</td>\n",
       "      <td></td>\n",
       "      <td>None</td>\n",
       "      <td>None</td>\n",
       "      <td>False</td>\n",
       "      <td>29</td>\n",
       "    </tr>\n",
       "    <tr>\n",
       "      <td>compound_tokens</td>\n",
       "      <td>type, normalized</td>\n",
       "      <td>None</td>\n",
       "      <td>tokens</td>\n",
       "      <td>False</td>\n",
       "      <td>0</td>\n",
       "    </tr>\n",
       "    <tr>\n",
       "      <td>words</td>\n",
       "      <td>normalized_form</td>\n",
       "      <td>None</td>\n",
       "      <td>None</td>\n",
       "      <td>True</td>\n",
       "      <td>29</td>\n",
       "    </tr>\n",
       "    <tr>\n",
       "      <td>morph_analysis</td>\n",
       "      <td>normalized_text, lemma, root, root_tokens, ending, clitic, form, partofspeech</td>\n",
       "      <td>words</td>\n",
       "      <td>None</td>\n",
       "      <td>True</td>\n",
       "      <td>29</td>\n",
       "    </tr>\n",
       "    <tr>\n",
       "      <td>morph_extended</td>\n",
       "      <td>normalized_text, lemma, root, root_tokens, ending, clitic, form, partofspeech, punctuation_type, pronoun_type, letter_case, fin, verb_extension_suffix, subcat</td>\n",
       "      <td>morph_analysis</td>\n",
       "      <td>None</td>\n",
       "      <td>True</td>\n",
       "      <td>29</td>\n",
       "    </tr>\n",
       "    <tr>\n",
       "      <td>stanza_syntax</td>\n",
       "      <td>id, lemma, upostag, xpostag, feats, head, deprel, deps, misc</td>\n",
       "      <td>morph_analysis</td>\n",
       "      <td>None</td>\n",
       "      <td>False</td>\n",
       "      <td>29</td>\n",
       "    </tr>\n",
       "    <tr>\n",
       "      <td>entities</td>\n",
       "      <td>entity_type, free_entity, is_valid, root</td>\n",
       "      <td>None</td>\n",
       "      <td>morph_analysis</td>\n",
       "      <td>False</td>\n",
       "      <td>4</td>\n",
       "    </tr>\n",
       "  </tbody>\n",
       "</table>"
      ],
      "text/plain": [
       "Text(text='Lisaks senistele keskkonna , ettevõtluse , turismi ja inimestevahelise suhtluse töörühmale moodustati nüüd ka transpordialane töörühm , mis hakkab otsima lahendusi saarte ja mandri vahelise ühenduse paremaks korraldamiseks .')"
      ]
     },
     "execution_count": 11,
     "metadata": {},
     "output_type": "execute_result"
    }
   ],
   "source": [
    "sent"
   ]
  },
  {
   "cell_type": "markdown",
   "id": "bfeb21da",
   "metadata": {},
   "source": [
    "### Finding all obl entities in inessive"
   ]
  },
  {
   "cell_type": "code",
   "execution_count": 12,
   "id": "65c7fe9f",
   "metadata": {},
   "outputs": [],
   "source": [
    "all_entities_in = []\n",
    "all_entities_in_with_text_id = []\n",
    "\n",
    "for i, sent in enumerate(sentences):\n",
    "    if i in [1118, 2534]:\n",
    "        continue\n",
    "    for span in sent['entities']:\n",
    "        span_root_form = span.root.form[0]\n",
    "        if span_root_form in ['sg in', 'pl in']:\n",
    "            all_entities_in_with_text_id.append((i, span.root.lemma))\n",
    "            all_entities_in.append(span.root.lemma)"
   ]
  },
  {
   "cell_type": "code",
   "execution_count": 13,
   "id": "a16e6645",
   "metadata": {},
   "outputs": [
    {
     "data": {
      "text/plain": [
       "[(20, 'vald'), (20, 'perekond'), (21, 'põllunduskool')]"
      ]
     },
     "execution_count": 13,
     "metadata": {},
     "output_type": "execute_result"
    }
   ],
   "source": [
    "all_entities_in_with_text_id[:3]"
   ]
  },
  {
   "cell_type": "code",
   "execution_count": 14,
   "id": "bfe4dae1",
   "metadata": {},
   "outputs": [
    {
     "data": {
      "text/html": [
       "<table border=\"1\" class=\"dataframe\">\n",
       "  <thead>\n",
       "    <tr style=\"text-align: right;\">\n",
       "      <th>text</th>\n",
       "    </tr>\n",
       "  </thead>\n",
       "  <tbody>\n",
       "    <tr>\n",
       "      <td><div align = \"left\">Hariduse omandas Kõljala põllunduskoolis , Jäneda põllumajandustehnikumis ning kaugõppes Eesti Põllumajanduse Akadeemias .</div></td>\n",
       "    </tr>\n",
       "  </tbody>\n",
       "</table>\n",
       "<table border=\"1\" class=\"dataframe\">\n",
       "  <thead>\n",
       "    <tr style=\"text-align: right;\">\n",
       "      <th>layer name</th>\n",
       "      <th>attributes</th>\n",
       "      <th>parent</th>\n",
       "      <th>enveloping</th>\n",
       "      <th>ambiguous</th>\n",
       "      <th>span count</th>\n",
       "    </tr>\n",
       "  </thead>\n",
       "  <tbody>\n",
       "    <tr>\n",
       "      <td>sentences</td>\n",
       "      <td></td>\n",
       "      <td>None</td>\n",
       "      <td>words</td>\n",
       "      <td>False</td>\n",
       "      <td>1</td>\n",
       "    </tr>\n",
       "    <tr>\n",
       "      <td>tokens</td>\n",
       "      <td></td>\n",
       "      <td>None</td>\n",
       "      <td>None</td>\n",
       "      <td>False</td>\n",
       "      <td>13</td>\n",
       "    </tr>\n",
       "    <tr>\n",
       "      <td>compound_tokens</td>\n",
       "      <td>type, normalized</td>\n",
       "      <td>None</td>\n",
       "      <td>tokens</td>\n",
       "      <td>False</td>\n",
       "      <td>0</td>\n",
       "    </tr>\n",
       "    <tr>\n",
       "      <td>words</td>\n",
       "      <td>normalized_form</td>\n",
       "      <td>None</td>\n",
       "      <td>None</td>\n",
       "      <td>True</td>\n",
       "      <td>13</td>\n",
       "    </tr>\n",
       "    <tr>\n",
       "      <td>morph_analysis</td>\n",
       "      <td>normalized_text, lemma, root, root_tokens, ending, clitic, form, partofspeech</td>\n",
       "      <td>words</td>\n",
       "      <td>None</td>\n",
       "      <td>True</td>\n",
       "      <td>13</td>\n",
       "    </tr>\n",
       "    <tr>\n",
       "      <td>morph_extended</td>\n",
       "      <td>normalized_text, lemma, root, root_tokens, ending, clitic, form, partofspeech, punctuation_type, pronoun_type, letter_case, fin, verb_extension_suffix, subcat</td>\n",
       "      <td>morph_analysis</td>\n",
       "      <td>None</td>\n",
       "      <td>True</td>\n",
       "      <td>13</td>\n",
       "    </tr>\n",
       "    <tr>\n",
       "      <td>stanza_syntax</td>\n",
       "      <td>id, lemma, upostag, xpostag, feats, head, deprel, deps, misc</td>\n",
       "      <td>morph_analysis</td>\n",
       "      <td>None</td>\n",
       "      <td>False</td>\n",
       "      <td>13</td>\n",
       "    </tr>\n",
       "    <tr>\n",
       "      <td>entities</td>\n",
       "      <td>entity_type, free_entity, is_valid, root</td>\n",
       "      <td>None</td>\n",
       "      <td>morph_analysis</td>\n",
       "      <td>False</td>\n",
       "      <td>2</td>\n",
       "    </tr>\n",
       "  </tbody>\n",
       "</table>"
      ],
      "text/plain": [
       "Text(text='Hariduse omandas Kõljala põllunduskoolis , Jäneda põllumajandustehnikumis ning kaugõppes Eesti Põllumajanduse Akadeemias .')"
      ]
     },
     "execution_count": 14,
     "metadata": {},
     "output_type": "execute_result"
    }
   ],
   "source": [
    "sentences[21]"
   ]
  },
  {
   "cell_type": "markdown",
   "id": "41b175ca",
   "metadata": {},
   "source": [
    "#### Arrange by count"
   ]
  },
  {
   "cell_type": "code",
   "execution_count": 15,
   "id": "4e0bee23",
   "metadata": {},
   "outputs": [],
   "source": [
    "count = Counter(all_entities_in).most_common()"
   ]
  },
  {
   "cell_type": "code",
   "execution_count": 16,
   "id": "12923734",
   "metadata": {},
   "outputs": [
    {
     "data": {
      "text/plain": [
       "[('Eesti', 92),\n",
       " ('riik', 31),\n",
       " ('vald', 30),\n",
       " ('mis', 18),\n",
       " ('linn', 18),\n",
       " ('see', 16),\n",
       " ('mõte', 15),\n",
       " ('ulatus', 15),\n",
       " ('lõpp', 15),\n",
       " ('maailm', 14)]"
      ]
     },
     "execution_count": 16,
     "metadata": {},
     "output_type": "execute_result"
    }
   ],
   "source": [
    "count[:10]"
   ]
  },
  {
   "cell_type": "code",
   "execution_count": null,
   "id": "0e0b8709",
   "metadata": {},
   "outputs": [],
   "source": []
  },
  {
   "cell_type": "code",
   "execution_count": 25,
   "id": "3d4516e8",
   "metadata": {},
   "outputs": [
    {
     "data": {
      "text/plain": [
       "'08.08.2001'"
      ]
     },
     "execution_count": 25,
     "metadata": {},
     "output_type": "execute_result"
    }
   ],
   "source": [
    "sentences[0].words[0].lemma[0]"
   ]
  },
  {
   "cell_type": "markdown",
   "id": "a6e49ed7",
   "metadata": {},
   "source": [
    "#### Arrange by fraction of inessive in all words"
   ]
  },
  {
   "cell_type": "code",
   "execution_count": 27,
   "id": "761426f7",
   "metadata": {},
   "outputs": [],
   "source": [
    "all_word_counts = defaultdict(int)\n",
    "\n",
    "for sent in sentences:\n",
    "    for word in sent.words:\n",
    "        all_word_counts[word.lemma[0]] += 1"
   ]
  },
  {
   "cell_type": "code",
   "execution_count": 28,
   "id": "a04400f4",
   "metadata": {},
   "outputs": [
    {
     "data": {
      "text/plain": [
       "764"
      ]
     },
     "execution_count": 28,
     "metadata": {},
     "output_type": "execute_result"
    }
   ],
   "source": [
    "all_word_counts['Eesti']"
   ]
  },
  {
   "cell_type": "code",
   "execution_count": 29,
   "id": "ac86f8f0",
   "metadata": {},
   "outputs": [
    {
     "data": {
      "text/plain": [
       "733"
      ]
     },
     "execution_count": 29,
     "metadata": {},
     "output_type": "execute_result"
    }
   ],
   "source": [
    "len(count)"
   ]
  },
  {
   "cell_type": "code",
   "execution_count": 61,
   "id": "e277ea58",
   "metadata": {},
   "outputs": [],
   "source": [
    "frac_of_in = []\n",
    "\n",
    "for w, c in count:\n",
    "    try:\n",
    "        frac = c / all_word_counts[w]\n",
    "        frac_of_in.append((w, frac))\n",
    "    except:\n",
    "        continue"
   ]
  },
  {
   "cell_type": "code",
   "execution_count": 62,
   "id": "8052c779",
   "metadata": {},
   "outputs": [
    {
     "data": {
      "text/plain": [
       "730"
      ]
     },
     "execution_count": 62,
     "metadata": {},
     "output_type": "execute_result"
    }
   ],
   "source": [
    "len(frac_of_in)"
   ]
  },
  {
   "cell_type": "code",
   "execution_count": 63,
   "id": "18a3320d",
   "metadata": {},
   "outputs": [
    {
     "data": {
      "text/plain": [
       "[('eesots', 1.0),\n",
       " ('kataloog', 1.0),\n",
       " ('sinimägi', 1.0),\n",
       " ('alluvus', 1.0),\n",
       " ('eraomand', 1.0),\n",
       " ('tall', 1.0),\n",
       " ('statu', 1.0),\n",
       " ('lood', 1.0),\n",
       " ('eluhoone', 1.0),\n",
       " ('laast', 1.0),\n",
       " ('lähiümbrus', 1.0),\n",
       " ('sisepoliitika', 1.0),\n",
       " ('raviküsimus', 1.0),\n",
       " ('messikeskus', 1.0),\n",
       " ('põllunduskool', 1.0),\n",
       " ('majandusvaldkond', 1.0),\n",
       " ('päevasärk', 1.0),\n",
       " ('aastakogu', 1.0),\n",
       " ('suusatamine', 1.0),\n",
       " ('turbaraba', 1.0)]"
      ]
     },
     "execution_count": 63,
     "metadata": {},
     "output_type": "execute_result"
    }
   ],
   "source": [
    "sorted(frac_of_in, key=lambda x: x[1], reverse=True)[:20]"
   ]
  },
  {
   "cell_type": "markdown",
   "id": "9e68cbd6",
   "metadata": {},
   "source": [
    "#### Error detection"
   ]
  },
  {
   "cell_type": "code",
   "execution_count": 33,
   "id": "9acf6f24",
   "metadata": {},
   "outputs": [
    {
     "name": "stdout",
     "output_type": "stream",
     "text": [
      "('koha', 6)\n"
     ]
    }
   ],
   "source": [
    "for c in count:\n",
    "    if c[0] == 'koha':\n",
    "        print(c)"
   ]
  },
  {
   "cell_type": "code",
   "execution_count": 35,
   "id": "2ea54e26",
   "metadata": {},
   "outputs": [
    {
     "name": "stdout",
     "output_type": "stream",
     "text": [
      "1234 ['põllumajandusministri', 'kohast']\n",
      "1259 ['õiges', 'kohas']\n",
      "3200 ['alles', '14.', 'kohal']\n",
      "3254 ['kogu', 'kohale']\n",
      "3383 ['avalikus', 'kohas']\n",
      "3810 ['kahekordsest', 'kohast']\n",
      "4382 ['13', 'kohast', '8']\n",
      "5214 ['kõrvalises', 'kohas']\n",
      "5661 ['kohast', ',', 'kust', 'see', 'pole', 'minu', 'arust', 'majanduslikult', 'põhjendatud']\n",
      "6193 ['kohas', ',', 'kus', 'ei', 'ole', 'olnud', 'ruutjalga', 'tühja', 'maad', 'ilma', 'inimluu', 'killuta']\n",
      "8893 ['samas', 'kohas']\n",
      "9239 ['tähtsal', 'kohal']\n",
      "9964 ['kohas']\n"
     ]
    }
   ],
   "source": [
    "for i, sent in enumerate(sentences):\n",
    "    if i in [1118, 2534]:\n",
    "        continue\n",
    "    for span in sent['entities']:\n",
    "        lem = span.root.lemma\n",
    "        if lem == 'koha':\n",
    "            print(i, span.text)"
   ]
  },
  {
   "cell_type": "code",
   "execution_count": 45,
   "id": "6c4920bd",
   "metadata": {},
   "outputs": [
    {
     "data": {
      "text/plain": [
       "'“ U vas kukuruza ne paidjot , ” meenutab Männik õigel ajal ja õiges kohas põllule sokutatud Hruštšovi sõnu .'"
      ]
     },
     "execution_count": 45,
     "metadata": {},
     "output_type": "execute_result"
    }
   ],
   "source": [
    "sentences[1259].text"
   ]
  },
  {
   "cell_type": "code",
   "execution_count": 48,
   "id": "4ada932b",
   "metadata": {},
   "outputs": [
    {
     "data": {
      "text/html": [
       "<h4>AttributeList (annotations)</h4>\n",
       "<table border=\"1\" class=\"dataframe\">\n",
       "  <thead>\n",
       "    <tr style=\"text-align: right;\">\n",
       "      <th></th>\n",
       "      <th>lemma</th>\n",
       "    </tr>\n",
       "  </thead>\n",
       "  <tbody>\n",
       "    <tr>\n",
       "      <td>0</td>\n",
       "      <td>koht</td>\n",
       "    </tr>\n",
       "    <tr>\n",
       "      <td>1</td>\n",
       "      <td>koha</td>\n",
       "    </tr>\n",
       "  </tbody>\n",
       "</table>"
      ],
      "text/plain": [
       "AttributeList(['koht', 'koha'], ('lemma',))"
      ]
     },
     "execution_count": 48,
     "metadata": {},
     "output_type": "execute_result"
    }
   ],
   "source": [
    "sentences[1259].words[14].lemma"
   ]
  },
  {
   "cell_type": "code",
   "execution_count": 39,
   "id": "568cf853",
   "metadata": {},
   "outputs": [
    {
     "data": {
      "text/html": [
       "<h4>AttributeList (annotations)</h4>\n",
       "<table border=\"1\" class=\"dataframe\">\n",
       "  <thead>\n",
       "    <tr style=\"text-align: right;\">\n",
       "      <th></th>\n",
       "      <th>lemma</th>\n",
       "    </tr>\n",
       "  </thead>\n",
       "  <tbody>\n",
       "    <tr>\n",
       "      <td>0</td>\n",
       "      <td>koht</td>\n",
       "    </tr>\n",
       "    <tr>\n",
       "      <td>1</td>\n",
       "      <td>koha</td>\n",
       "    </tr>\n",
       "  </tbody>\n",
       "</table>"
      ],
      "text/plain": [
       "AttributeList(['koht', 'koha'], ('lemma',))"
      ]
     },
     "execution_count": 39,
     "metadata": {},
     "output_type": "execute_result"
    }
   ],
   "source": [
    "sentences[1234].words[10].lemma"
   ]
  },
  {
   "cell_type": "code",
   "execution_count": 52,
   "id": "db3fd0e4",
   "metadata": {},
   "outputs": [
    {
     "data": {
      "text/plain": [
       "'koha'"
      ]
     },
     "execution_count": 52,
     "metadata": {},
     "output_type": "execute_result"
    }
   ],
   "source": [
    "sentences[1259].entities[1].root.lemma"
   ]
  },
  {
   "cell_type": "markdown",
   "id": "02fe6a19",
   "metadata": {},
   "source": [
    "#### Arrange by fraction of inessive in all obl"
   ]
  },
  {
   "cell_type": "code",
   "execution_count": 53,
   "id": "f97d67d6",
   "metadata": {},
   "outputs": [],
   "source": [
    "all_obl_word_counts = defaultdict(int)\n",
    "\n",
    "for i, sent in enumerate(sentences):\n",
    "    if i in [1118, 2534]:\n",
    "        continue\n",
    "    for span in sent['entities']:\n",
    "        lem = span.root.lemma\n",
    "        all_obl_word_counts[lem] += 1"
   ]
  },
  {
   "cell_type": "code",
   "execution_count": 54,
   "id": "08730762",
   "metadata": {},
   "outputs": [],
   "source": [
    "frac_of_in_obl = []\n",
    "\n",
    "for w, c in count:\n",
    "    frac = c / all_obl_word_counts[w]\n",
    "    frac_of_in_obl.append((w, frac))"
   ]
  },
  {
   "cell_type": "code",
   "execution_count": 56,
   "id": "e587033d",
   "metadata": {},
   "outputs": [
    {
     "data": {
      "text/plain": [
       "[('ulatus', 1.0),\n",
       " ('farm', 1.0),\n",
       " ('eesots', 1.0),\n",
       " ('kõnekoda', 1.0),\n",
       " ('kataloog', 1.0),\n",
       " ('kirg', 1.0),\n",
       " ('bussijaam', 1.0),\n",
       " ('sinimägi', 1.0),\n",
       " ('maapiirkond', 1.0),\n",
       " ('kommentaar', 1.0),\n",
       " ('erandkord', 1.0),\n",
       " ('asutus', 1.0),\n",
       " ('ööpäev', 1.0),\n",
       " ('kümnevõistlus', 1.0),\n",
       " ('instituut', 1.0),\n",
       " ('osariik', 1.0),\n",
       " ('alluvus', 1.0),\n",
       " ('oblast', 1.0),\n",
       " ('kontor', 1.0),\n",
       " ('regioon', 1.0)]"
      ]
     },
     "execution_count": 56,
     "metadata": {},
     "output_type": "execute_result"
    }
   ],
   "source": [
    "sorted(frac_of_in_obl, key=lambda x: x[1], reverse=True)[:20]"
   ]
  },
  {
   "cell_type": "code",
   "execution_count": 58,
   "id": "a5a2a6b8",
   "metadata": {},
   "outputs": [
    {
     "name": "stdout",
     "output_type": "stream",
     "text": [
      "249 ['vajaliku', 'summa', 'ulatuses']\n",
      "2016 ['ulatuses', ',', 'milles', 'see', 'muutub', 'teeniva', 'kinnisasja', 'suhtes', 'koormavamaks']\n",
      "2165 ['100%', ',', 'vaid', '80%', 'ulatuses']\n",
      "2176 ['euro', 'ulatuses']\n",
      "2315 ['teatud', 'ulatuses']\n",
      "2531 ['100%', 'ulatuses']\n",
      "2533 ['valitsuse', 'kehtestatud', 'maksimaalmäära', 'ulatuses']\n",
      "3460 ['ulatuses']\n",
      "3462 ['ulatuses']\n",
      "3467 [',', 'mille', 'ulatuses']\n",
      "3884 ['täies', 'ulatuses']\n",
      "4041 ['70%', 'ulatuses']\n",
      "4531 ['millises', 'ulatuses']\n",
      "8623 ['mõistlikus', 'ulatuses']\n",
      "9520 ['täies', 'ulatuses']\n"
     ]
    }
   ],
   "source": [
    "for i, sent in enumerate(sentences):\n",
    "    if i in [1118, 2534]:\n",
    "        continue\n",
    "    for span in sent['entities']:\n",
    "        lem = span.root.lemma\n",
    "        if lem == 'ulatus':\n",
    "            print(i, span.text)"
   ]
  },
  {
   "cell_type": "code",
   "execution_count": 60,
   "id": "de260e79",
   "metadata": {},
   "outputs": [
    {
     "data": {
      "text/html": [
       "<table border=\"1\" class=\"dataframe\">\n",
       "  <thead>\n",
       "    <tr style=\"text-align: right;\">\n",
       "      <th>text</th>\n",
       "    </tr>\n",
       "  </thead>\n",
       "  <tbody>\n",
       "    <tr>\n",
       "      <td><div align = \"left\">Kooliõpetajad ja - direktorid saavad ületunde teha veel 1. septembrini , siis rakendub seadus täies ulatuses ka nendele .</div></td>\n",
       "    </tr>\n",
       "  </tbody>\n",
       "</table>\n",
       "<table border=\"1\" class=\"dataframe\">\n",
       "  <thead>\n",
       "    <tr style=\"text-align: right;\">\n",
       "      <th>layer name</th>\n",
       "      <th>attributes</th>\n",
       "      <th>parent</th>\n",
       "      <th>enveloping</th>\n",
       "      <th>ambiguous</th>\n",
       "      <th>span count</th>\n",
       "    </tr>\n",
       "  </thead>\n",
       "  <tbody>\n",
       "    <tr>\n",
       "      <td>sentences</td>\n",
       "      <td></td>\n",
       "      <td>None</td>\n",
       "      <td>words</td>\n",
       "      <td>False</td>\n",
       "      <td>1</td>\n",
       "    </tr>\n",
       "    <tr>\n",
       "      <td>tokens</td>\n",
       "      <td></td>\n",
       "      <td>None</td>\n",
       "      <td>None</td>\n",
       "      <td>False</td>\n",
       "      <td>20</td>\n",
       "    </tr>\n",
       "    <tr>\n",
       "      <td>compound_tokens</td>\n",
       "      <td>type, normalized</td>\n",
       "      <td>None</td>\n",
       "      <td>tokens</td>\n",
       "      <td>False</td>\n",
       "      <td>1</td>\n",
       "    </tr>\n",
       "    <tr>\n",
       "      <td>words</td>\n",
       "      <td>normalized_form</td>\n",
       "      <td>None</td>\n",
       "      <td>None</td>\n",
       "      <td>True</td>\n",
       "      <td>19</td>\n",
       "    </tr>\n",
       "    <tr>\n",
       "      <td>morph_analysis</td>\n",
       "      <td>normalized_text, lemma, root, root_tokens, ending, clitic, form, partofspeech</td>\n",
       "      <td>words</td>\n",
       "      <td>None</td>\n",
       "      <td>True</td>\n",
       "      <td>19</td>\n",
       "    </tr>\n",
       "    <tr>\n",
       "      <td>morph_extended</td>\n",
       "      <td>normalized_text, lemma, root, root_tokens, ending, clitic, form, partofspeech, punctuation_type, pronoun_type, letter_case, fin, verb_extension_suffix, subcat</td>\n",
       "      <td>morph_analysis</td>\n",
       "      <td>None</td>\n",
       "      <td>True</td>\n",
       "      <td>19</td>\n",
       "    </tr>\n",
       "    <tr>\n",
       "      <td>stanza_syntax</td>\n",
       "      <td>id, lemma, upostag, xpostag, feats, head, deprel, deps, misc</td>\n",
       "      <td>morph_analysis</td>\n",
       "      <td>None</td>\n",
       "      <td>False</td>\n",
       "      <td>19</td>\n",
       "    </tr>\n",
       "    <tr>\n",
       "      <td>entities</td>\n",
       "      <td>entity_type, free_entity, is_valid, root</td>\n",
       "      <td>None</td>\n",
       "      <td>morph_analysis</td>\n",
       "      <td>False</td>\n",
       "      <td>3</td>\n",
       "    </tr>\n",
       "  </tbody>\n",
       "</table>"
      ],
      "text/plain": [
       "Text(text='Kooliõpetajad ja - direktorid saavad ületunde teha veel 1. septembrini , siis rakendub seadus täies ulatuses ka nendele .')"
      ]
     },
     "execution_count": 60,
     "metadata": {},
     "output_type": "execute_result"
    }
   ],
   "source": [
    "sentences[9520]"
   ]
  }
 ],
 "metadata": {
  "kernelspec": {
   "display_name": "Python 3",
   "language": "python",
   "name": "python3"
  },
  "language_info": {
   "codemirror_mode": {
    "name": "ipython",
    "version": 3
   },
   "file_extension": ".py",
   "mimetype": "text/x-python",
   "name": "python",
   "nbconvert_exporter": "python",
   "pygments_lexer": "ipython3",
   "version": "3.6.13"
  }
 },
 "nbformat": 4,
 "nbformat_minor": 5
}
