{
 "cells": [
  {
   "cell_type": "markdown",
   "id": "11990849",
   "metadata": {},
   "source": [
    "### Imports"
   ]
  },
  {
   "cell_type": "code",
   "execution_count": 1,
   "id": "afa72424",
   "metadata": {},
   "outputs": [],
   "source": [
    "%load_ext autoreload\n",
    "%autoreload 2"
   ]
  },
  {
   "cell_type": "code",
   "execution_count": 2,
   "id": "167e4592",
   "metadata": {},
   "outputs": [],
   "source": [
    "from estnltk import Text\n",
    "\n",
    "from estnltk_patches import EntityTagger\n",
    "from estnltk_patches import SyntaxTree"
   ]
  },
  {
   "cell_type": "code",
   "execution_count": 3,
   "id": "a2c4362a",
   "metadata": {},
   "outputs": [],
   "source": [
    "import pickle \n",
    "import random\n",
    "import pandas as pd\n",
    "from tqdm import tqdm\n",
    "from os import listdir\n",
    "from collections import Counter, defaultdict\n",
    "from estnltk.wordnet import Wordnet\n",
    "from estnltk.taggers import NerTagger\n",
    "from estnltk.corpus_processing.parse_koondkorpus import parse_tei_corpus"
   ]
  },
  {
   "cell_type": "markdown",
   "id": "5e3545f4",
   "metadata": {},
   "source": [
    "### Finding sentences"
   ]
  },
  {
   "cell_type": "code",
   "execution_count": 5,
   "id": "9028c4df",
   "metadata": {},
   "outputs": [
    {
     "name": "stdout",
     "output_type": "stream",
     "text": [
      "INFO:storage.py:58: connecting to host: 'postgres.keeleressursid.ee', port: 5432, dbname: 'estonian-text-corpora', user: 'rasmusm'\n",
      "INFO:storage.py:108: schema: 'estonian_text_corpora', temporary: False, role: 'estonian_text_corpora_read'\n"
     ]
    }
   ],
   "source": [
    "from estnltk import Text\n",
    "from estnltk.storage.postgres import PostgresStorage, create_schema\n",
    "\n",
    "\n",
    "storage = PostgresStorage(host='postgres.keeleressursid.ee',\n",
    "                          port=5432,\n",
    "                          dbname='estonian-text-corpora',\n",
    "                          user='',\n",
    "                          password='',\n",
    "                          schema='estonian_text_corpora',\n",
    "                          role='estonian_text_corpora_read',\n",
    "                          temporary=False)"
   ]
  },
  {
   "cell_type": "code",
   "execution_count": 7,
   "id": "69549f8e",
   "metadata": {},
   "outputs": [],
   "source": [
    "collection = storage['koondkorpus_sentences_test_5000_sg_thread']"
   ]
  },
  {
   "cell_type": "code",
   "execution_count": 8,
   "id": "9a3e2b36",
   "metadata": {},
   "outputs": [
    {
     "data": {
      "text/html": [
       "<b>PostgresStorage</b><br/>\n",
       "user=sormusbi password=xxx dbname=estonian-text-corpora host=postgres.keeleressursid.ee port=5432 schema=estonian_text_corpora<br/>temporary=False<br/>\n",
       "collection count: 5\n",
       "<table border=\"1\" class=\"dataframe\">\n",
       "  <thead>\n",
       "    <tr style=\"text-align: right;\">\n",
       "      <th></th>\n",
       "      <th></th>\n",
       "      <th></th>\n",
       "      <th>rows</th>\n",
       "      <th>total_size</th>\n",
       "      <th>comment</th>\n",
       "    </tr>\n",
       "    <tr>\n",
       "      <th>collection</th>\n",
       "      <th>version</th>\n",
       "      <th>relations</th>\n",
       "      <th></th>\n",
       "      <th></th>\n",
       "      <th></th>\n",
       "    </tr>\n",
       "  </thead>\n",
       "  <tbody>\n",
       "    <tr>\n",
       "      <th rowspan=\"16\" valign=\"top\">koondkorpus_base_subset_of_5000_v2</th>\n",
       "      <th rowspan=\"16\" valign=\"top\">2.0</th>\n",
       "      <th></th>\n",
       "      <td>0</td>\n",
       "      <td>12 MB</td>\n",
       "      <td>Collection of 5000 randomly picked Koondkorpus texts (v2)</td>\n",
       "    </tr>\n",
       "    <tr>\n",
       "      <th>original_sentences_flat__la</th>\n",
       "      <td>0</td>\n",
       "      <td>5544 kB</td>\n",
       "      <td>created by soras on Fri Jun 12 11:28:06 2020</td>\n",
       "    </tr>\n",
       "    <tr>\n",
       "      <th>original_words__layer</th>\n",
       "      <td>0</td>\n",
       "      <td>19 MB</td>\n",
       "      <td>created by soras on Fri Jun 12 09:15:46 2020</td>\n",
       "    </tr>\n",
       "    <tr>\n",
       "      <th>original_words_morph_analys</th>\n",
       "      <td>0</td>\n",
       "      <td>96 MB</td>\n",
       "      <td>Morphological analysis from v1.6.2/3, probably based on commit 349a7c2 (2018-11-22)</td>\n",
       "    </tr>\n",
       "    <tr>\n",
       "      <th>structure</th>\n",
       "      <td>2</td>\n",
       "      <td>32 kB</td>\n",
       "      <td>None</td>\n",
       "    </tr>\n",
       "    <tr>\n",
       "      <th>v166_compound_tokens__layer</th>\n",
       "      <td>0</td>\n",
       "      <td>5472 kB</td>\n",
       "      <td>created by soras on Thu Jun  4 12:29:42 2020</td>\n",
       "    </tr>\n",
       "    <tr>\n",
       "      <th>v166_morph_analysis__layer</th>\n",
       "      <td>0</td>\n",
       "      <td>97 MB</td>\n",
       "      <td>created by soras on Tue Jun  9 14:13:07 2020</td>\n",
       "    </tr>\n",
       "    <tr>\n",
       "      <th>v166_sentences__layer</th>\n",
       "      <td>0</td>\n",
       "      <td>21 MB</td>\n",
       "      <td>created by soras on Tue Jun  9 06:01:41 2020</td>\n",
       "    </tr>\n",
       "    <tr>\n",
       "      <th>v166_tokens__layer</th>\n",
       "      <td>0</td>\n",
       "      <td>20 MB</td>\n",
       "      <td>created by soras on Thu Jun  4 07:40:39 2020</td>\n",
       "    </tr>\n",
       "    <tr>\n",
       "      <th>v166_words__layer</th>\n",
       "      <td>0</td>\n",
       "      <td>20 MB</td>\n",
       "      <td>created by soras on Fri Jun  5 05:49:26 2020</td>\n",
       "    </tr>\n",
       "    <tr>\n",
       "      <th>v168_stanza_ensemble_syntax</th>\n",
       "      <td>0</td>\n",
       "      <td>95 MB</td>\n",
       "      <td>created by soras on Wed Aug  4 08:53:37 2021</td>\n",
       "    </tr>\n",
       "    <tr>\n",
       "      <th>v168_stanza_pos_based_synta</th>\n",
       "      <td>0</td>\n",
       "      <td>77 MB</td>\n",
       "      <td>created by soras on Wed Aug 11 17:26:41 2021</td>\n",
       "    </tr>\n",
       "    <tr>\n",
       "      <th>v168_stanza_syntax__layer</th>\n",
       "      <td>0</td>\n",
       "      <td>95 MB</td>\n",
       "      <td>created by soras on Fri Jul  2 16:07:05 2021</td>\n",
       "    </tr>\n",
       "    <tr>\n",
       "      <th>v169_clauses__layer</th>\n",
       "      <td>5000</td>\n",
       "      <td>22 MB</td>\n",
       "      <td>created by soras on Mon Sep 12 11:26:29 2022</td>\n",
       "    </tr>\n",
       "    <tr>\n",
       "      <th>v169_named_entities__layer</th>\n",
       "      <td>0</td>\n",
       "      <td>5624 kB</td>\n",
       "      <td>created by soras on Tue May 17 11:01:56 2022</td>\n",
       "    </tr>\n",
       "    <tr>\n",
       "      <th>v172_geo_terms__layer</th>\n",
       "      <td>5000</td>\n",
       "      <td>1896 kB</td>\n",
       "      <td>created by soras on Mon Jan  2 12:25:16 2023</td>\n",
       "    </tr>\n",
       "    <tr>\n",
       "      <th rowspan=\"16\" valign=\"top\">koondkorpus_base_v2</th>\n",
       "      <th rowspan=\"16\" valign=\"top\">2.0</th>\n",
       "      <th></th>\n",
       "      <td>0</td>\n",
       "      <td>1618 MB</td>\n",
       "      <td>Collection of Koondkorpus texts (v2)</td>\n",
       "    </tr>\n",
       "    <tr>\n",
       "      <th>original_sentences_flat__layer</th>\n",
       "      <td>0</td>\n",
       "      <td>740 MB</td>\n",
       "      <td>created by soras on Mon Jun 15 06:44:30 2020</td>\n",
       "    </tr>\n",
       "    <tr>\n",
       "      <th>original_words__layer</th>\n",
       "      <td>0</td>\n",
       "      <td>2553 MB</td>\n",
       "      <td>created by soras on Fri Jun 12 12:25:44 2020</td>\n",
       "    </tr>\n",
       "    <tr>\n",
       "      <th>original_words_morph_analysis__layer</th>\n",
       "      <td>0</td>\n",
       "      <td>13 GB</td>\n",
       "      <td>Morphological analysis from v1.6.2/3, probably based on commit 349a7c2 (2018-11-22)</td>\n",
       "    </tr>\n",
       "    <tr>\n",
       "      <th>structure</th>\n",
       "      <td>2</td>\n",
       "      <td>32 kB</td>\n",
       "      <td>None</td>\n",
       "    </tr>\n",
       "    <tr>\n",
       "      <th>v166_compound_tokens__layer</th>\n",
       "      <td>0</td>\n",
       "      <td>698 MB</td>\n",
       "      <td>created by soras on Thu Jun  4 12:36:01 2020</td>\n",
       "    </tr>\n",
       "    <tr>\n",
       "      <th>v166_morph_analysis__layer</th>\n",
       "      <td>0</td>\n",
       "      <td>13 GB</td>\n",
       "      <td>created by soras on Tue Jun  9 14:32:08 2020</td>\n",
       "    </tr>\n",
       "    <tr>\n",
       "      <th>v166_sentences__layer</th>\n",
       "      <td>0</td>\n",
       "      <td>2860 MB</td>\n",
       "      <td>created by soras on Tue Jun  9 06:07:08 2020</td>\n",
       "    </tr>\n",
       "    <tr>\n",
       "      <th>v166_tokens__layer</th>\n",
       "      <td>0</td>\n",
       "      <td>2587 MB</td>\n",
       "      <td>created by soras on Thu Jun  4 07:42:49 2020</td>\n",
       "    </tr>\n",
       "    <tr>\n",
       "      <th>v166_words__layer</th>\n",
       "      <td>0</td>\n",
       "      <td>2622 MB</td>\n",
       "      <td>created by soras on Fri Jun  5 05:53:18 2020</td>\n",
       "    </tr>\n",
       "    <tr>\n",
       "      <th>v168_stanza_ensemble_syntax__layer</th>\n",
       "      <td>0</td>\n",
       "      <td>12 GB</td>\n",
       "      <td>created by soras on Thu Aug  5 17:31:45 2021</td>\n",
       "    </tr>\n",
       "    <tr>\n",
       "      <th>v168_stanza_pos_based_syntax__layer</th>\n",
       "      <td>0</td>\n",
       "      <td>10 GB</td>\n",
       "      <td>created by soras on Thu Aug 12 18:03:09 2021</td>\n",
       "    </tr>\n",
       "    <tr>\n",
       "      <th>v168_stanza_syntax__layer</th>\n",
       "      <td>0</td>\n",
       "      <td>12 GB</td>\n",
       "      <td>created by soras on Wed Jul 28 10:45:04 2021</td>\n",
       "    </tr>\n",
       "    <tr>\n",
       "      <th>v169_clauses__layer</th>\n",
       "      <td>703506</td>\n",
       "      <td>2884 MB</td>\n",
       "      <td>created by soras on Mon Sep 12 11:46:59 2022</td>\n",
       "    </tr>\n",
       "    <tr>\n",
       "      <th>v169_named_entities__layer</th>\n",
       "      <td>0</td>\n",
       "      <td>752 MB</td>\n",
       "      <td>created by soras on Tue May 17 14:29:05 2022</td>\n",
       "    </tr>\n",
       "    <tr>\n",
       "      <th>v172_geo_terms__layer</th>\n",
       "      <td>705356</td>\n",
       "      <td>247 MB</td>\n",
       "      <td>created by soras on Mon Jan  2 12:30:20 2023</td>\n",
       "    </tr>\n",
       "    <tr>\n",
       "      <th rowspan=\"7\" valign=\"top\">koondkorpus_sentences</th>\n",
       "      <th rowspan=\"7\" valign=\"top\">3.0</th>\n",
       "      <th></th>\n",
       "      <td>21377855</td>\n",
       "      <td>82 GB</td>\n",
       "      <td>koondkorpus_base_v2 texts split into sentences</td>\n",
       "    </tr>\n",
       "    <tr>\n",
       "      <th>structure</th>\n",
       "      <td>11</td>\n",
       "      <td>32 kB</td>\n",
       "      <td>None</td>\n",
       "    </tr>\n",
       "    <tr>\n",
       "      <th>v171_named_entities__layer</th>\n",
       "      <td>18950492</td>\n",
       "      <td>7452 MB</td>\n",
       "      <td>created by soras on Mon Dec  5 11:27:53 2022</td>\n",
       "    </tr>\n",
       "    <tr>\n",
       "      <th>v172_advmod_phrases__layer</th>\n",
       "      <td>10650949</td>\n",
       "      <td>7416 MB</td>\n",
       "      <td>created by soras on Tue Jan 31 14:49:31 2023</td>\n",
       "    </tr>\n",
       "    <tr>\n",
       "      <th>v172_geo_terms__layer</th>\n",
       "      <td>21237460</td>\n",
       "      <td>6187 MB</td>\n",
       "      <td>created by soras on Wed Jan  4 11:12:06 2023</td>\n",
       "    </tr>\n",
       "    <tr>\n",
       "      <th>v172_obl_phrases__layer</th>\n",
       "      <td>12228238</td>\n",
       "      <td>10027 MB</td>\n",
       "      <td>created by soras on Tue Jan 31 14:44:17 2023</td>\n",
       "    </tr>\n",
       "    <tr>\n",
       "      <th>v172_stanza_syntax__layer</th>\n",
       "      <td>21399587</td>\n",
       "      <td>29 GB</td>\n",
       "      <td>created by soras on Thu Jan 26 15:12:12 2023</td>\n",
       "    </tr>\n",
       "    <tr>\n",
       "      <th rowspan=\"7\" valign=\"top\">koondkorpus_sentences_test_5000_sg_thread</th>\n",
       "      <th rowspan=\"7\" valign=\"top\">3.0</th>\n",
       "      <th></th>\n",
       "      <td>159829</td>\n",
       "      <td>652 MB</td>\n",
       "      <td>5000 texts split into sentences (based on v2)</td>\n",
       "    </tr>\n",
       "    <tr>\n",
       "      <th>structure</th>\n",
       "      <td>11</td>\n",
       "      <td>32 kB</td>\n",
       "      <td>None</td>\n",
       "    </tr>\n",
       "    <tr>\n",
       "      <th>v171_named_entities_</th>\n",
       "      <td>146503</td>\n",
       "      <td>62 MB</td>\n",
       "      <td>created by soras on Fri Dec  2 16:19:38 2022</td>\n",
       "    </tr>\n",
       "    <tr>\n",
       "      <th>v172_advmod_phrases_</th>\n",
       "      <td>78365</td>\n",
       "      <td>55 MB</td>\n",
       "      <td>created by soras on Tue Jan 31 13:52:10 2023</td>\n",
       "    </tr>\n",
       "    <tr>\n",
       "      <th>v172_geo_terms__laye</th>\n",
       "      <td>159745</td>\n",
       "      <td>46 MB</td>\n",
       "      <td>created by soras on Mon Jan  2 12:39:29 2023</td>\n",
       "    </tr>\n",
       "    <tr>\n",
       "      <th>v172_obl_phrases__la</th>\n",
       "      <td>91550</td>\n",
       "      <td>76 MB</td>\n",
       "      <td>created by soras on Tue Jan 31 14:02:59 2023</td>\n",
       "    </tr>\n",
       "    <tr>\n",
       "      <th>v172_stanza_syntax__</th>\n",
       "      <td>159745</td>\n",
       "      <td>224 MB</td>\n",
       "      <td>created by soras on Thu Jan 26 14:09:38 2023</td>\n",
       "    </tr>\n",
       "    <tr>\n",
       "      <th rowspan=\"2\" valign=\"top\">koondkorpus_words_v16_1</th>\n",
       "      <th rowspan=\"2\" valign=\"top\">0.0</th>\n",
       "      <th></th>\n",
       "      <td>0</td>\n",
       "      <td>2718 MB</td>\n",
       "      <td>example sentence for every word in koondkorpus_base__v16_1_words__layer</td>\n",
       "    </tr>\n",
       "    <tr>\n",
       "      <th>structure</th>\n",
       "      <td>0</td>\n",
       "      <td>32 kB</td>\n",
       "      <td>None</td>\n",
       "    </tr>\n",
       "  </tbody>\n",
       "</table>\n",
       " There are collections listed in the __collections table without tables in the database: ['koondkorpus_syntax_subset']"
      ],
      "text/plain": [
       "<estnltk.storage.postgres.storage.PostgresStorage at 0x1e27fd762b0>"
      ]
     },
     "execution_count": 8,
     "metadata": {},
     "output_type": "execute_result"
    }
   ],
   "source": [
    "storage"
   ]
  },
  {
   "cell_type": "code",
   "execution_count": 8,
   "id": "1ec239a6",
   "metadata": {},
   "outputs": [],
   "source": [
    "collection.selected_layers = ['v171_named_entities','v172_stanza_syntax','v172_obl_phrases']"
   ]
  },
  {
   "cell_type": "code",
   "execution_count": null,
   "id": "31bb8811",
   "metadata": {},
   "outputs": [
    {
     "name": "stderr",
     "output_type": "stream",
     "text": [
      " 28%|████████████████████▎                                                    | 44511/159745 [47:46<2:09:08, 14.87it/s]"
     ]
    }
   ],
   "source": [
    "from estnltk.storage.postgres import LayerQuery\n",
    "from tqdm import tqdm\n",
    "texts = []\n",
    "#q = LayerQuery('v172_obl_phrases')\n",
    "i = 0\n",
    "matching_texts = []\n",
    "equal_ner_obl = []\n",
    "ner_without_obl = []\n",
    "ner_inside_obl = []\n",
    "obl_inside_ner = []\n",
    "ner_obl_loikuvad = []\n",
    "partly_equal_ner_obl = []\n",
    "\n",
    "for key, txt in tqdm(collection.select(layers=['v172_obl_phrases','v171_named_entities'])):\n",
    "    texts.append(txt)\n",
    "    i = i+1\n",
    "    for ner in txt['v171_named_entities']:\n",
    "        if ner.nertag != \"LOC\":\n",
    "            continue\n",
    "        n_match = False\n",
    "        for ent in txt['v172_obl_phrases']:\n",
    "            if ent.text == ner.text:\n",
    "                equal_ner_obl.append((i, ner, ent))\n",
    "                n_match = True\n",
    "            if ent.start <= ner.end and ent.end >= ner.start:\n",
    "                partly_equal_ner_obl.append((i, ner, ent))\n",
    "                n_match = True\n",
    "            if ner.start >= ent.start and ner.end <= ent.end:\n",
    "                if ner.text == ent.text:\n",
    "                    continue\n",
    "                ner_inside_obl.append((i, ner, ent))\n",
    "            if ent.start >= ner.start and ent.end <= ner.end:\n",
    "                if ner.text == ent.text:\n",
    "                    continue\n",
    "                obl_inside_ner.append((i, ner, ent))\n",
    "            if ner.start > ent.start and ner.end > ent.end and ner.start <= ent.end:\n",
    "                ner_obl_loikuvad.append((i, ner, ent))\n",
    "            if ner.start < ent.start and ner.end < ent.end and ner.end >= ent.start:\n",
    "                ner_obl_loikuvad.append((i, ner, ent))\n",
    "        if n_match == False:\n",
    "            ner_without_obl.append((i, ner))"
   ]
  },
  {
   "cell_type": "code",
   "execution_count": 36,
   "id": "e3e80c05",
   "metadata": {},
   "outputs": [
    {
     "data": {
      "text/plain": [
       "[(28,\n",
       "  EnvelopingSpan(['Detroidis'], [{'nertag': 'LOC'}]),\n",
       "  EnvelopingSpan(['juuniorist', ',', 'kes', 'elab', 'Eminemi', 'kodulinnas', 'Detroidis'], [{'entity_type': None, 'free_entity': None, 'is_valid': None, 'root_id': 7, 'root': <class 'estnltk_core.layer.span.Span'>}])),\n",
       " (28,\n",
       "  EnvelopingSpan(['Detroidis'], [{'nertag': 'LOC'}]),\n",
       "  EnvelopingSpan(['Eminemi', 'kodulinnas', 'Detroidis'], [{'entity_type': None, 'free_entity': None, 'is_valid': None, 'root_id': 12, 'root': <class 'estnltk_core.layer.span.Span'>}])),\n",
       " (52,\n",
       "  EnvelopingSpan(['Hollywoodi'], [{'nertag': 'LOC'}]),\n",
       "  EnvelopingSpan(['Hollywoodi', 'või', 'New', 'Yorki'], [{'entity_type': None, 'free_entity': None, 'is_valid': None, 'root_id': 11, 'root': <class 'estnltk_core.layer.span.Span'>}])),\n",
       " (52,\n",
       "  EnvelopingSpan(['New', 'Yorki'], [{'nertag': 'LOC'}]),\n",
       "  EnvelopingSpan(['Hollywoodi', 'või', 'New', 'Yorki'], [{'entity_type': None, 'free_entity': None, 'is_valid': None, 'root_id': 11, 'root': <class 'estnltk_core.layer.span.Span'>}])),\n",
       " (94,\n",
       "  EnvelopingSpan(['Stingi-Tomelty'], [{'nertag': 'LOC'}]),\n",
       "  EnvelopingSpan(['Tekkinud', 'armastuskolmnurgast', ',', 'mis', 'lõppes', 'Stingi-Tomelty', 'lahkumineku', 'ja', 'Styleri-Tomelty', 'riiduminekuga', ','], [{'entity_type': None, 'free_entity': None, 'is_valid': None, 'root_id': 2, 'root': <class 'estnltk_core.layer.span.Span'>}])),\n",
       " (94,\n",
       "  EnvelopingSpan(['Stingi-Tomelty'], [{'nertag': 'LOC'}]),\n",
       "  EnvelopingSpan(['Stingi-Tomelty', 'lahkumineku', 'ja', 'Styleri-Tomelty', 'riiduminekuga'], [{'entity_type': None, 'free_entity': None, 'is_valid': None, 'root_id': 7, 'root': <class 'estnltk_core.layer.span.Span'>}])),\n",
       " (94,\n",
       "  EnvelopingSpan(['Styleri-Tomelty'], [{'nertag': 'LOC'}]),\n",
       "  EnvelopingSpan(['Tekkinud', 'armastuskolmnurgast', ',', 'mis', 'lõppes', 'Stingi-Tomelty', 'lahkumineku', 'ja', 'Styleri-Tomelty', 'riiduminekuga', ','], [{'entity_type': None, 'free_entity': None, 'is_valid': None, 'root_id': 2, 'root': <class 'estnltk_core.layer.span.Span'>}])),\n",
       " (94,\n",
       "  EnvelopingSpan(['Styleri-Tomelty'], [{'nertag': 'LOC'}]),\n",
       "  EnvelopingSpan(['Stingi-Tomelty', 'lahkumineku', 'ja', 'Styleri-Tomelty', 'riiduminekuga'], [{'entity_type': None, 'free_entity': None, 'is_valid': None, 'root_id': 7, 'root': <class 'estnltk_core.layer.span.Span'>}]))]"
      ]
     },
     "execution_count": 36,
     "metadata": {},
     "output_type": "execute_result"
    }
   ],
   "source": [
    "ner_inside_obl"
   ]
  },
  {
   "cell_type": "code",
   "execution_count": 25,
   "id": "bfb6b2f1",
   "metadata": {},
   "outputs": [
    {
     "data": {
      "text/plain": [
       "19169.399999999998"
      ]
     },
     "execution_count": 25,
     "metadata": {},
     "output_type": "execute_result"
    }
   ],
   "source": [
    "len(collection)*0.12"
   ]
  },
  {
   "cell_type": "code",
   "execution_count": 19,
   "id": "cbd574db",
   "metadata": {},
   "outputs": [
    {
     "data": {
      "text/plain": [
       "6"
      ]
     },
     "execution_count": 19,
     "metadata": {},
     "output_type": "execute_result"
    }
   ],
   "source": [
    "len(matching_texts)"
   ]
  },
  {
   "cell_type": "code",
   "execution_count": 20,
   "id": "10bf5226",
   "metadata": {},
   "outputs": [
    {
     "data": {
      "text/plain": [
       "(Text(text='Aasta on 1995 , Jimmy on koolist välja visatud vaene valgenahaline poiss , kes elab koos alkohoolikust emaga ( Kim Basinger ) Kaheksa Miili nimelise tee ääres treileris .'),\n",
       " 16,\n",
       " 21)"
      ]
     },
     "execution_count": 20,
     "metadata": {},
     "output_type": "execute_result"
    }
   ],
   "source": [
    "matching_texts[0]"
   ]
  },
  {
   "cell_type": "code",
   "execution_count": 22,
   "id": "3f05876f",
   "metadata": {},
   "outputs": [
    {
     "data": {
      "text/html": [
       "<h4>Layer</h4>\n",
       "\n",
       "\n",
       "<table border=\"1\" class=\"dataframe\">\n",
       "  <thead>\n",
       "    <tr style=\"text-align: right;\">\n",
       "      <th>layer name</th>\n",
       "      <th>attributes</th>\n",
       "      <th>parent</th>\n",
       "      <th>enveloping</th>\n",
       "      <th>ambiguous</th>\n",
       "      <th>span count</th>\n",
       "    </tr>\n",
       "  </thead>\n",
       "  <tbody>\n",
       "    <tr>\n",
       "      <td>v172_obl_phrases</td>\n",
       "      <td>entity_type, free_entity, is_valid, root_id, root</td>\n",
       "      <td>None</td>\n",
       "      <td>v172_stanza_syntax</td>\n",
       "      <td>False</td>\n",
       "      <td>6</td>\n",
       "    </tr>\n",
       "  </tbody>\n",
       "</table>\n",
       "<table border=\"1\" class=\"dataframe\">\n",
       "  <thead>\n",
       "    <tr style=\"text-align: right;\">\n",
       "      <th>text</th>\n",
       "      <th>entity_type</th>\n",
       "      <th>free_entity</th>\n",
       "      <th>is_valid</th>\n",
       "      <th>root_id</th>\n",
       "      <th>root</th>\n",
       "    </tr>\n",
       "  </thead>\n",
       "  <tbody>\n",
       "    <tr>\n",
       "      <td>['Jimmy']</td>\n",
       "      <td>None</td>\n",
       "      <td>None</td>\n",
       "      <td>None</td>\n",
       "      <td>5</td>\n",
       "      <td>Span('Jimmy', [{'id': 5, 'lemma': 'Jimmy', 'upostag': 'S', 'xpostag': 'S', 'feat ..., type: &lt;class 'estnltk_core.layer.span.Span'&gt;</td>\n",
       "    </tr>\n",
       "    <tr>\n",
       "      <td>['koolist']</td>\n",
       "      <td>None</td>\n",
       "      <td>None</td>\n",
       "      <td>None</td>\n",
       "      <td>7</td>\n",
       "      <td>Span('koolist', [{'id': 7, 'lemma': 'kool', 'upostag': 'S', 'xpostag': 'S', 'fea ..., type: &lt;class 'estnltk_core.layer.span.Span'&gt;</td>\n",
       "    </tr>\n",
       "    <tr>\n",
       "      <td>['koos', 'alkohoolikust']</td>\n",
       "      <td>None</td>\n",
       "      <td>None</td>\n",
       "      <td>None</td>\n",
       "      <td>17</td>\n",
       "      <td>Span('alkohoolikust', [{'id': 17, 'lemma': 'alkohoolik', 'upostag': 'S', 'xposta ..., type: &lt;class 'estnltk_core.layer.span.Span'&gt;</td>\n",
       "    </tr>\n",
       "    <tr>\n",
       "      <td>['emaga', '(', 'Kim', 'Basinger', ')']</td>\n",
       "      <td>None</td>\n",
       "      <td>None</td>\n",
       "      <td>None</td>\n",
       "      <td>18</td>\n",
       "      <td>Span('emaga', [{'id': 18, 'lemma': 'ema', 'upostag': 'S', 'xpostag': 'S', 'feats ..., type: &lt;class 'estnltk_core.layer.span.Span'&gt;</td>\n",
       "    </tr>\n",
       "    <tr>\n",
       "      <td>['Kaheksa', 'Miili', 'nimelise', 'tee', 'ääres']</td>\n",
       "      <td>None</td>\n",
       "      <td>None</td>\n",
       "      <td>None</td>\n",
       "      <td>26</td>\n",
       "      <td>Span('tee', [{'id': 26, 'lemma': 'tee', 'upostag': 'S', 'xpostag': 'S', 'feats': ..., type: &lt;class 'estnltk_core.layer.span.Span'&gt;</td>\n",
       "    </tr>\n",
       "    <tr>\n",
       "      <td>['treileris']</td>\n",
       "      <td>None</td>\n",
       "      <td>None</td>\n",
       "      <td>None</td>\n",
       "      <td>28</td>\n",
       "      <td>Span('treileris', [{'id': 28, 'lemma': 'treiler', 'upostag': 'S', 'xpostag': 'S' ..., type: &lt;class 'estnltk_core.layer.span.Span'&gt;</td>\n",
       "    </tr>\n",
       "  </tbody>\n",
       "</table>"
      ],
      "text/plain": [
       "Layer(name='v172_obl_phrases', attributes=('entity_type', 'free_entity', 'is_valid', 'root_id', 'root'), spans=SL[EnvelopingSpan(['Jimmy'], [{'entity_type': None, 'free_entity': None, 'is_valid': None, 'root_id': 5, 'root': <class 'estnltk_core.layer.span.Span'>}]),\n",
       "EnvelopingSpan(['koolist'], [{'entity_type': None, 'free_entity': None, 'is_valid': None, 'root_id': 7, 'root': <class 'estnltk_core.layer.span.Span'>}]),\n",
       "EnvelopingSpan(['koos', 'alkohoolikust'], [{'entity_type': None, 'free_entity': None, 'is_valid': None, 'root_id': 17, 'root': <class 'estnltk_core.layer.span.Span'>}]),\n",
       "EnvelopingSpan(['emaga', '(', 'Kim', 'Basinger', ')'], [{'entity_type': None, 'free_entity': None, 'is_valid': None, 'root_id': 18, 'root': <class 'estnltk_core.layer.span.Span'>}]),\n",
       "EnvelopingSpan(['Kaheksa', 'Miili', 'nimelise', 'tee', 'ääres'], [{'entity_type': None, 'free_entity': None, 'is_valid': None, 'root_id': 26, 'root': <class 'estnltk_core.layer.span.Span'>}]),\n",
       "EnvelopingSpan(['treileris'], [{'entity_type': None, 'free_entity': None, 'is_valid': None, 'root_id': 28, 'root': <class 'estnltk_core.layer.span.Span'>}])])"
      ]
     },
     "execution_count": 22,
     "metadata": {},
     "output_type": "execute_result"
    }
   ],
   "source": [
    "matching_texts[0][0].v172_obl_phrases"
   ]
  },
  {
   "cell_type": "code",
   "execution_count": 16,
   "id": "4e7aac8a",
   "metadata": {},
   "outputs": [
    {
     "data": {
      "text/html": [
       "<table border=\"1\" class=\"dataframe\">\n",
       "  <thead>\n",
       "    <tr style=\"text-align: right;\">\n",
       "      <th>text</th>\n",
       "    </tr>\n",
       "  </thead>\n",
       "  <tbody>\n",
       "    <tr>\n",
       "      <td><div align = \"left\">Välismaa leheküljed toimetanud Aive Lauriste</div></td>\n",
       "    </tr>\n",
       "  </tbody>\n",
       "</table>\n",
       "<h4>Metadata</h4>\n",
       "<table border=\"1\" class=\"dataframe\">\n",
       "  <tbody>\n",
       "    <tr>\n",
       "      <td>file</td>\n",
       "      <td>aja_kr_2003_02_04.xml</td>\n",
       "    </tr>\n",
       "    <tr>\n",
       "      <td>sent_end</td>\n",
       "      <td>44</td>\n",
       "    </tr>\n",
       "    <tr>\n",
       "      <td>sent_start</td>\n",
       "      <td>0</td>\n",
       "    </tr>\n",
       "    <tr>\n",
       "      <td>subcorpus</td>\n",
       "      <td>aja_kr</td>\n",
       "    </tr>\n",
       "    <tr>\n",
       "      <td>text_no</td>\n",
       "      <td>0</td>\n",
       "    </tr>\n",
       "    <tr>\n",
       "      <td>title</td>\n",
       "      <td>Hea ja halb Eminem</td>\n",
       "    </tr>\n",
       "    <tr>\n",
       "      <td>type</td>\n",
       "      <td>artikkel</td>\n",
       "    </tr>\n",
       "  </tbody>\n",
       "</table>\n",
       "<table border=\"1\" class=\"dataframe\">\n",
       "  <thead>\n",
       "    <tr style=\"text-align: right;\">\n",
       "      <th>layer name</th>\n",
       "      <th>attributes</th>\n",
       "      <th>parent</th>\n",
       "      <th>enveloping</th>\n",
       "      <th>ambiguous</th>\n",
       "      <th>span count</th>\n",
       "    </tr>\n",
       "  </thead>\n",
       "  <tbody>\n",
       "    <tr>\n",
       "      <td>words</td>\n",
       "      <td>normalized_form</td>\n",
       "      <td>None</td>\n",
       "      <td>None</td>\n",
       "      <td>True</td>\n",
       "      <td>5</td>\n",
       "    </tr>\n",
       "    <tr>\n",
       "      <td>morph_analysis</td>\n",
       "      <td>normalized_text, lemma, root, root_tokens, ending, clitic, form, partofspeech</td>\n",
       "      <td>words</td>\n",
       "      <td>None</td>\n",
       "      <td>True</td>\n",
       "      <td>5</td>\n",
       "    </tr>\n",
       "    <tr>\n",
       "      <td>morph_extended</td>\n",
       "      <td>normalized_text, lemma, root, root_tokens, ending, clitic, form, partofspeech, punctuation_type, pronoun_type, letter_case, fin, verb_extension_suffix, subcat</td>\n",
       "      <td>morph_analysis</td>\n",
       "      <td>None</td>\n",
       "      <td>True</td>\n",
       "      <td>5</td>\n",
       "    </tr>\n",
       "    <tr>\n",
       "      <td>v172_stanza_syntax</td>\n",
       "      <td>id, lemma, upostag, xpostag, feats, head, deprel, deps, misc, parent_span, children</td>\n",
       "      <td>morph_extended</td>\n",
       "      <td>None</td>\n",
       "      <td>False</td>\n",
       "      <td>5</td>\n",
       "    </tr>\n",
       "    <tr>\n",
       "      <td>v172_obl_phrases</td>\n",
       "      <td>entity_type, free_entity, is_valid, root_id, root</td>\n",
       "      <td>None</td>\n",
       "      <td>v172_stanza_syntax</td>\n",
       "      <td>False</td>\n",
       "      <td>0</td>\n",
       "    </tr>\n",
       "  </tbody>\n",
       "</table>"
      ],
      "text/plain": [
       "Text(text='Välismaa leheküljed toimetanud Aive Lauriste')"
      ]
     },
     "execution_count": 16,
     "metadata": {},
     "output_type": "execute_result"
    }
   ],
   "source": [
    "texts[0]"
   ]
  },
  {
   "cell_type": "code",
   "execution_count": 9,
   "id": "afe9de67",
   "metadata": {},
   "outputs": [
    {
     "ename": "MemoryError",
     "evalue": "",
     "output_type": "error",
     "traceback": [
      "\u001b[1;31m---------------------------------------------------------------------------\u001b[0m",
      "\u001b[1;31mMemoryError\u001b[0m                               Traceback (most recent call last)",
      "\u001b[1;32m<ipython-input-9-35057fba7dd4>\u001b[0m in \u001b[0;36m<module>\u001b[1;34m\u001b[0m\n\u001b[0;32m      1\u001b[0m \u001b[1;32mwith\u001b[0m \u001b[0mopen\u001b[0m\u001b[1;33m(\u001b[0m\u001b[1;34m'sampled_obl_texts.pickle'\u001b[0m\u001b[1;33m,\u001b[0m\u001b[1;34m'wb'\u001b[0m\u001b[1;33m)\u001b[0m \u001b[1;32mas\u001b[0m \u001b[0mf\u001b[0m\u001b[1;33m:\u001b[0m\u001b[1;33m\u001b[0m\u001b[1;33m\u001b[0m\u001b[0m\n\u001b[1;32m----> 2\u001b[1;33m     \u001b[0mpickle\u001b[0m\u001b[1;33m.\u001b[0m\u001b[0mdump\u001b[0m\u001b[1;33m(\u001b[0m\u001b[0mtexts\u001b[0m\u001b[1;33m,\u001b[0m\u001b[0mf\u001b[0m\u001b[1;33m)\u001b[0m\u001b[1;33m\u001b[0m\u001b[1;33m\u001b[0m\u001b[0m\n\u001b[0m",
      "\u001b[1;31mMemoryError\u001b[0m: "
     ]
    }
   ],
   "source": [
    "with open('sampled_obl_texts.pickle','wb') as f:\n",
    "    pickle.dump(texts,f)"
   ]
  },
  {
   "cell_type": "code",
   "execution_count": 15,
   "id": "fd8d370f",
   "metadata": {},
   "outputs": [
    {
     "data": {
      "text/plain": [
       "159745"
      ]
     },
     "execution_count": 15,
     "metadata": {},
     "output_type": "execute_result"
    }
   ],
   "source": [
    "len(collection)"
   ]
  },
  {
   "cell_type": "code",
   "execution_count": 10,
   "id": "0faa733c",
   "metadata": {},
   "outputs": [
    {
     "data": {
      "text/plain": [
       "159745"
      ]
     },
     "execution_count": 10,
     "metadata": {},
     "output_type": "execute_result"
    }
   ],
   "source": [
    "len(texts)"
   ]
  },
  {
   "cell_type": "code",
   "execution_count": 8,
   "id": "d69434af",
   "metadata": {},
   "outputs": [
    {
     "name": "stdout",
     "output_type": "stream",
     "text": [
      "INFO:storage.py:58: connecting to host: 'localhost', port: 5432, dbname: 'ner_test', user: 'postgres'\n",
      "INFO:storage.py:108: schema: 'my_schema', temporary: False, role: 'postgres'\n"
     ]
    }
   ],
   "source": [
    "# Second storage to keep the temporary lists used for sampling\n",
    "localstorage = PostgresStorage(host='localhost',\n",
    "                          port=5432,\n",
    "                          dbname='ner_test',\n",
    "                          user='',\n",
    "                          password='',\n",
    "                          pgpass_file='~/.pgpass',\n",
    "                          schema='my_schema',\n",
    "                          role=None,\n",
    "                          temporary=False)"
   ]
  },
  {
   "cell_type": "code",
   "execution_count": 16,
   "id": "e4204f41",
   "metadata": {},
   "outputs": [
    {
     "data": {
      "text/html": [
       "<h4>Layer</h4>\n",
       "\n",
       "\n",
       "<table border=\"1\" class=\"dataframe\">\n",
       "  <thead>\n",
       "    <tr style=\"text-align: right;\">\n",
       "      <th>layer name</th>\n",
       "      <th>attributes</th>\n",
       "      <th>parent</th>\n",
       "      <th>enveloping</th>\n",
       "      <th>ambiguous</th>\n",
       "      <th>span count</th>\n",
       "    </tr>\n",
       "  </thead>\n",
       "  <tbody>\n",
       "    <tr>\n",
       "      <td>v172_obl_phrases</td>\n",
       "      <td>entity_type, free_entity, is_valid, root_id, root</td>\n",
       "      <td>None</td>\n",
       "      <td>v172_stanza_syntax</td>\n",
       "      <td>False</td>\n",
       "      <td>2</td>\n",
       "    </tr>\n",
       "  </tbody>\n",
       "</table>\n",
       "<table border=\"1\" class=\"dataframe\">\n",
       "  <thead>\n",
       "    <tr style=\"text-align: right;\">\n",
       "      <th>text</th>\n",
       "      <th>entity_type</th>\n",
       "      <th>free_entity</th>\n",
       "      <th>is_valid</th>\n",
       "      <th>root_id</th>\n",
       "      <th>root</th>\n",
       "    </tr>\n",
       "  </thead>\n",
       "  <tbody>\n",
       "    <tr>\n",
       "      <td>['Kaheksakümnendate', 'aastate', 'lõpus']</td>\n",
       "      <td>None</td>\n",
       "      <td>None</td>\n",
       "      <td>None</td>\n",
       "      <td>3</td>\n",
       "      <td>Span('lõpus', [{'id': 3, 'lemma': 'lõpp', 'upostag': 'S', 'xpostag': 'S', 'feats ..., type: &lt;class 'estnltk_core.layer.span.Span'&gt;</td>\n",
       "    </tr>\n",
       "    <tr>\n",
       "      <td>['1.']</td>\n",
       "      <td>None</td>\n",
       "      <td>None</td>\n",
       "      <td>None</td>\n",
       "      <td>6</td>\n",
       "      <td>Span('1.', [{'id': 6, 'lemma': '1.', 'upostag': 'N', 'xpostag': 'N', 'feats': {' ..., type: &lt;class 'estnltk_core.layer.span.Span'&gt;</td>\n",
       "    </tr>\n",
       "  </tbody>\n",
       "</table>"
      ],
      "text/plain": [
       "Layer(name='v172_obl_phrases', attributes=('entity_type', 'free_entity', 'is_valid', 'root_id', 'root'), spans=SL[EnvelopingSpan(['Kaheksakümnendate', 'aastate', 'lõpus'], [{'entity_type': None, 'free_entity': None, 'is_valid': None, 'root_id': 3, 'root': <class 'estnltk_core.layer.span.Span'>}]),\n",
       "EnvelopingSpan(['1.'], [{'entity_type': None, 'free_entity': None, 'is_valid': None, 'root_id': 6, 'root': <class 'estnltk_core.layer.span.Span'>}])])"
      ]
     },
     "execution_count": 16,
     "metadata": {},
     "output_type": "execute_result"
    }
   ],
   "source": [
    "collection[3].v172_obl_phrases"
   ]
  },
  {
   "cell_type": "code",
   "execution_count": null,
   "id": "082ebe0c",
   "metadata": {},
   "outputs": [],
   "source": [
    "sampler = SpanSampler(storage=localstorage,collection=collection, layer='v172_obl_phrases',attribute='lemma')"
   ]
  },
  {
   "cell_type": "markdown",
   "id": "be30f647",
   "metadata": {},
   "source": [
    "### OBL layer"
   ]
  },
  {
   "cell_type": "code",
   "execution_count": 86,
   "id": "54f5fdac",
   "metadata": {},
   "outputs": [
    {
     "name": "stderr",
     "output_type": "stream",
     "text": [
      "[autoreload of estnltk.taggers.system.rule_taggers.helper_methods.helper_methods failed: Traceback (most recent call last):\n",
      "  File \"C:\\Users\\rasmu\\anaconda3\\envs\\estnltk\\lib\\site-packages\\IPython\\extensions\\autoreload.py\", line 245, in check\n",
      "    superreload(m, reload, self.old_objects)\n",
      "  File \"C:\\Users\\rasmu\\anaconda3\\envs\\estnltk\\lib\\site-packages\\IPython\\extensions\\autoreload.py\", line 394, in superreload\n",
      "    module = reload(module)\n",
      "  File \"C:\\Users\\rasmu\\anaconda3\\envs\\estnltk\\lib\\imp.py\", line 315, in reload\n",
      "    return importlib.reload(module)\n",
      "  File \"C:\\Users\\rasmu\\anaconda3\\envs\\estnltk\\lib\\importlib\\__init__.py\", line 166, in reload\n",
      "    _bootstrap._exec(spec, module)\n",
      "  File \"<frozen importlib._bootstrap>\", line 618, in _exec\n",
      "  File \"<frozen importlib._bootstrap_external>\", line 674, in exec_module\n",
      "  File \"<frozen importlib._bootstrap_external>\", line 781, in get_code\n",
      "  File \"<frozen importlib._bootstrap_external>\", line 741, in source_to_code\n",
      "  File \"<frozen importlib._bootstrap>\", line 219, in _call_with_frames_removed\n",
      "  File \"c:\\users\\rasmu\\onedrive\\dokumendid\\estnltk\\estnltk\\estnltk\\taggers\\system\\rule_taggers\\helper_methods\\helper_methods.py\", line 157\n",
      "    \n",
      "    ^\n",
      "SyntaxError: unexpected EOF while parsing\n",
      "]\n",
      "[autoreload of estnltk_patches.entity_tagger failed: Traceback (most recent call last):\n",
      "  File \"C:\\Users\\rasmu\\anaconda3\\envs\\estnltk\\lib\\site-packages\\IPython\\extensions\\autoreload.py\", line 245, in check\n",
      "    superreload(m, reload, self.old_objects)\n",
      "  File \"C:\\Users\\rasmu\\anaconda3\\envs\\estnltk\\lib\\site-packages\\IPython\\extensions\\autoreload.py\", line 410, in superreload\n",
      "    update_generic(old_obj, new_obj)\n",
      "  File \"C:\\Users\\rasmu\\anaconda3\\envs\\estnltk\\lib\\site-packages\\IPython\\extensions\\autoreload.py\", line 347, in update_generic\n",
      "    update(a, b)\n",
      "  File \"C:\\Users\\rasmu\\anaconda3\\envs\\estnltk\\lib\\site-packages\\IPython\\extensions\\autoreload.py\", line 317, in update_class\n",
      "    update_instances(old, new)\n",
      "  File \"C:\\Users\\rasmu\\anaconda3\\envs\\estnltk\\lib\\site-packages\\IPython\\extensions\\autoreload.py\", line 280, in update_instances\n",
      "    ref.__class__ = new\n",
      "  File \"c:\\users\\rasmu\\onedrive\\dokumendid\\estnltk\\estnltk_core\\estnltk_core\\taggers\\tagger.py\", line 200, in __setattr__\n",
      "    self.__class__.__name__, key))\n",
      "AttributeError: changing of the tagger attributes is not allowed: 'EntityTagger', '__class__'\n",
      "]\n"
     ]
    }
   ],
   "source": [
    "obl_extractor = EntityTagger(deprel='obl', output_layer='entities')"
   ]
  },
  {
   "cell_type": "code",
   "execution_count": 87,
   "id": "023cfa78",
   "metadata": {},
   "outputs": [],
   "source": [
    "from estnltk.web_taggers import StanzaSyntaxWebTagger\n",
    "\n",
    "stanza = StanzaSyntaxWebTagger(url='https://api.tartunlp.ai/estnltk/tagger/stanza_syntax')"
   ]
  },
  {
   "cell_type": "code",
   "execution_count": 88,
   "id": "567fad2f",
   "metadata": {},
   "outputs": [],
   "source": [
    "for sent in texts:\n",
    "    sent.tag_layer('morph_extended')\n",
    "    stanza(sent)\n",
    "    obl_extractor(sent)"
   ]
  },
  {
   "cell_type": "markdown",
   "id": "30c96f64",
   "metadata": {},
   "source": [
    "### NER and OBL comparison"
   ]
  },
  {
   "cell_type": "code",
   "execution_count": 4,
   "id": "0f7faad9",
   "metadata": {},
   "outputs": [],
   "source": [
    "#with open(\"original_sentences_with_analysis.pickle\", \"rb\") as f:\n",
    "#    sentences = pickle.load(f)"
   ]
  },
  {
   "cell_type": "code",
   "execution_count": 116,
   "id": "fd0c0f18",
   "metadata": {},
   "outputs": [],
   "source": [
    "with open(\"ner_obl_samples.pickle\",\"wb\") as f:\n",
    "    pickle.dump(texts, f)"
   ]
  },
  {
   "cell_type": "code",
   "execution_count": 94,
   "id": "b3c984ab",
   "metadata": {},
   "outputs": [],
   "source": [
    "equal_ner_obl = []\n",
    "partly_equal_ner_obl = []\n",
    "ner_without_obl = []\n",
    "\n",
    "for i, sentence in enumerate(texts):\n",
    "    try:\n",
    "        ents = sentence.entities\n",
    "        nerlayer = sentence.v171_named_entities\n",
    "    \n",
    "        for n in nerlayer:\n",
    "            if n.nertag != \"LOC\":\n",
    "                continue\n",
    "            n_match = False\n",
    "            for ent in ents:\n",
    "                if ent.text == n.text:\n",
    "                    equal_ner_obl.append((i, n, ent))\n",
    "                    n_match = True\n",
    "                if ent[0].start <= n[-1].end and ent[-1].end >= n[0].start:\n",
    "                    partly_equal_ner_obl.append((i, n, ent))\n",
    "                    n_match = True\n",
    "            if n_match == False:\n",
    "                ner_without_obl.append((i, n))\n",
    "    except:\n",
    "        print(i)\n",
    "        continue"
   ]
  },
  {
   "cell_type": "code",
   "execution_count": 95,
   "id": "28a83847",
   "metadata": {},
   "outputs": [
    {
     "data": {
      "text/plain": [
       "304"
      ]
     },
     "execution_count": 95,
     "metadata": {},
     "output_type": "execute_result"
    }
   ],
   "source": [
    "len(equal_ner_obl)"
   ]
  },
  {
   "cell_type": "code",
   "execution_count": 96,
   "id": "127a46a5",
   "metadata": {},
   "outputs": [
    {
     "data": {
      "text/plain": [
       "(1,\n",
       " EnvelopingSpan(['Eestisse'], [{'nertag': 'LOC'}]),\n",
       " EnvelopingSpan(['Eestisse'], [{'entity_type': None, 'free_entity': None, 'is_valid': None, 'root': <class 'estnltk_core.layer.span.Span'>}]))"
      ]
     },
     "execution_count": 96,
     "metadata": {},
     "output_type": "execute_result"
    }
   ],
   "source": [
    "equal_ner_obl[0]"
   ]
  },
  {
   "cell_type": "code",
   "execution_count": 97,
   "id": "83adc26e",
   "metadata": {},
   "outputs": [
    {
     "data": {
      "text/plain": [
       "881"
      ]
     },
     "execution_count": 97,
     "metadata": {},
     "output_type": "execute_result"
    }
   ],
   "source": [
    "len(partly_equal_ner_obl)"
   ]
  },
  {
   "cell_type": "code",
   "execution_count": 98,
   "id": "1adb4775",
   "metadata": {},
   "outputs": [
    {
     "data": {
      "text/plain": [
       "(0,\n",
       " EnvelopingSpan(['Palestiina'], [{'nertag': 'LOC'}]),\n",
       " EnvelopingSpan(['Palestiina', 'omavalitsuselt'], [{'entity_type': None, 'free_entity': None, 'is_valid': None, 'root': <class 'estnltk_core.layer.span.Span'>}]))"
      ]
     },
     "execution_count": 98,
     "metadata": {},
     "output_type": "execute_result"
    }
   ],
   "source": [
    "partly_equal_ner_obl[0]"
   ]
  },
  {
   "cell_type": "code",
   "execution_count": 99,
   "id": "acc9bf1f",
   "metadata": {},
   "outputs": [
    {
     "data": {
      "text/plain": [
       "[(0,\n",
       "  EnvelopingSpan(['Palestiina'], [{'nertag': 'LOC'}]),\n",
       "  EnvelopingSpan(['Palestiina', 'omavalitsuselt'], [{'entity_type': None, 'free_entity': None, 'is_valid': None, 'root': <class 'estnltk_core.layer.span.Span'>}])),\n",
       " (0,\n",
       "  EnvelopingSpan(['Iisraelil'], [{'nertag': 'LOC'}]),\n",
       "  EnvelopingSpan(['ka', 'Iisraelil'], [{'entity_type': None, 'free_entity': None, 'is_valid': None, 'root': <class 'estnltk_core.layer.span.Span'>}])),\n",
       " (1,\n",
       "  EnvelopingSpan(['Eestisse'], [{'nertag': 'LOC'}]),\n",
       "  EnvelopingSpan(['Eestisse'], [{'entity_type': None, 'free_entity': None, 'is_valid': None, 'root': <class 'estnltk_core.layer.span.Span'>}])),\n",
       " (2,\n",
       "  EnvelopingSpan(['Istanbulis'], [{'nertag': 'LOC'}]),\n",
       "  EnvelopingSpan(['Istanbulis'], [{'entity_type': None, 'free_entity': None, 'is_valid': None, 'root': <class 'estnltk_core.layer.span.Span'>}])),\n",
       " (7,\n",
       "  EnvelopingSpan(['Itaalias'], [{'nertag': 'LOC'}]),\n",
       "  EnvelopingSpan(['Itaalias'], [{'entity_type': None, 'free_entity': None, 'is_valid': None, 'root': <class 'estnltk_core.layer.span.Span'>}])),\n",
       " (8,\n",
       "  EnvelopingSpan(['Eesti'], [{'nertag': 'LOC'}]),\n",
       "  EnvelopingSpan(['Eesti', 'maksupoliitikat', 'eeskujuks', 'toonud', 'Kallase', 'väitel'], [{'entity_type': None, 'free_entity': None, 'is_valid': None, 'root': <class 'estnltk_core.layer.span.Span'>}])),\n",
       " (8,\n",
       "  EnvelopingSpan(['Euroopa'], [{'nertag': 'LOC'}]),\n",
       "  EnvelopingSpan(['Euroopa', 'valimistel'], [{'entity_type': None, 'free_entity': None, 'is_valid': None, 'root': <class 'estnltk_core.layer.span.Span'>}])),\n",
       " (10,\n",
       "  EnvelopingSpan(['Eesti'], [{'nertag': 'LOC'}]),\n",
       "  EnvelopingSpan(['temast', 'kui', 'korrektsest', 'inimesest', ',', 'kes', 'Eesti', 'iseseisvuspüüdlustesse', 'ei', 'suhtunud', 'agressiivse', 'vastuseisuga'], [{'entity_type': None, 'free_entity': None, 'is_valid': None, 'root': <class 'estnltk_core.layer.span.Span'>}])),\n",
       " (10,\n",
       "  EnvelopingSpan(['Eesti'], [{'nertag': 'LOC'}]),\n",
       "  EnvelopingSpan(['Eesti', 'iseseisvuspüüdlustesse'], [{'entity_type': None, 'free_entity': None, 'is_valid': None, 'root': <class 'estnltk_core.layer.span.Span'>}])),\n",
       " (11,\n",
       "  EnvelopingSpan(['Suurbritannias'], [{'nertag': 'LOC'}]),\n",
       "  EnvelopingSpan(['Suurbritannias', ',', 'mis', 'seni', 'oli', 'enim', 'kannatanud', 'autokütuste', 'kõrgetest', 'hindadest', 'põhjustatud', 'tanklate', 'ja', 'kütuseladude', 'blokaadide', 'all', ','], [{'entity_type': None, 'free_entity': None, 'is_valid': None, 'root': <class 'estnltk_core.layer.span.Span'>}]))]"
      ]
     },
     "execution_count": 99,
     "metadata": {},
     "output_type": "execute_result"
    }
   ],
   "source": [
    "partly_equal_ner_obl[:10]"
   ]
  },
  {
   "cell_type": "code",
   "execution_count": 100,
   "id": "af15b6ec",
   "metadata": {},
   "outputs": [
    {
     "data": {
      "text/plain": [
       "783"
      ]
     },
     "execution_count": 100,
     "metadata": {},
     "output_type": "execute_result"
    }
   ],
   "source": [
    "len(ner_without_obl)"
   ]
  },
  {
   "cell_type": "code",
   "execution_count": 101,
   "id": "dbdb745b",
   "metadata": {},
   "outputs": [
    {
     "data": {
      "text/plain": [
       "(2, EnvelopingSpan(['Platini'], [{'nertag': 'LOC'}]))"
      ]
     },
     "execution_count": 101,
     "metadata": {},
     "output_type": "execute_result"
    }
   ],
   "source": [
    "ner_without_obl[0]"
   ]
  },
  {
   "cell_type": "code",
   "execution_count": 105,
   "id": "cb374523",
   "metadata": {},
   "outputs": [],
   "source": [
    "ner_inside_obl = []\n",
    "\n",
    "for i, sentence in enumerate(texts):\n",
    "    try:\n",
    "        ents = sentence.entities\n",
    "        nerlayer = sentence.v171_named_entities\n",
    "        \n",
    "        if len(ents) == 0:\n",
    "            continue\n",
    "    \n",
    "        for n in nerlayer:\n",
    "            if n.nertag != \"LOC\":\n",
    "                continue\n",
    "            for ent in ents:\n",
    "                if n[0].start >= ent[0].start and n[-1].end <= ent[-1].end:\n",
    "                    if n.text == ent.text:\n",
    "                        continue\n",
    "                    ner_inside_obl.append((i, n, ent))\n",
    "    except Exception as e:\n",
    "        print(i, e)\n",
    "        continue"
   ]
  },
  {
   "cell_type": "code",
   "execution_count": 106,
   "id": "119d9911",
   "metadata": {},
   "outputs": [
    {
     "data": {
      "text/plain": [
       "578"
      ]
     },
     "execution_count": 106,
     "metadata": {},
     "output_type": "execute_result"
    }
   ],
   "source": [
    "len(ner_inside_obl)"
   ]
  },
  {
   "cell_type": "code",
   "execution_count": 107,
   "id": "02c7977f",
   "metadata": {},
   "outputs": [
    {
     "data": {
      "text/plain": [
       "[(0,\n",
       "  EnvelopingSpan(['Palestiina'], [{'nertag': 'LOC'}]),\n",
       "  EnvelopingSpan(['Palestiina', 'omavalitsuselt'], [{'entity_type': None, 'free_entity': None, 'is_valid': None, 'root': <class 'estnltk_core.layer.span.Span'>}])),\n",
       " (0,\n",
       "  EnvelopingSpan(['Iisraelil'], [{'nertag': 'LOC'}]),\n",
       "  EnvelopingSpan(['ka', 'Iisraelil'], [{'entity_type': None, 'free_entity': None, 'is_valid': None, 'root': <class 'estnltk_core.layer.span.Span'>}])),\n",
       " (8,\n",
       "  EnvelopingSpan(['Eesti'], [{'nertag': 'LOC'}]),\n",
       "  EnvelopingSpan(['Eesti', 'maksupoliitikat', 'eeskujuks', 'toonud', 'Kallase', 'väitel'], [{'entity_type': None, 'free_entity': None, 'is_valid': None, 'root': <class 'estnltk_core.layer.span.Span'>}])),\n",
       " (8,\n",
       "  EnvelopingSpan(['Euroopa'], [{'nertag': 'LOC'}]),\n",
       "  EnvelopingSpan(['Euroopa', 'valimistel'], [{'entity_type': None, 'free_entity': None, 'is_valid': None, 'root': <class 'estnltk_core.layer.span.Span'>}])),\n",
       " (10,\n",
       "  EnvelopingSpan(['Eesti'], [{'nertag': 'LOC'}]),\n",
       "  EnvelopingSpan(['temast', 'kui', 'korrektsest', 'inimesest', ',', 'kes', 'Eesti', 'iseseisvuspüüdlustesse', 'ei', 'suhtunud', 'agressiivse', 'vastuseisuga'], [{'entity_type': None, 'free_entity': None, 'is_valid': None, 'root': <class 'estnltk_core.layer.span.Span'>}]))]"
      ]
     },
     "execution_count": 107,
     "metadata": {},
     "output_type": "execute_result"
    }
   ],
   "source": [
    "ner_inside_obl[:5]"
   ]
  },
  {
   "cell_type": "code",
   "execution_count": 91,
   "id": "d982c9fb",
   "metadata": {},
   "outputs": [
    {
     "data": {
      "text/plain": [
       "[(221,\n",
       "  EnvelopingSpan(['Eesti'], [{'nertag': 'LOC'}]),\n",
       "  EnvelopingSpan(['Eesti', 'kindlustatute', 'ravimise', 'eest'], [{'entity_type': None, 'free_entity': None, 'is_valid': None, 'root': <class 'estnltk_core.layer.span.Span'>}])),\n",
       " (221,\n",
       "  EnvelopingSpan(['Eestis'], [{'nertag': 'LOC'}]),\n",
       "  EnvelopingSpan(['vaid', 'Eestis'], [{'entity_type': None, 'free_entity': None, 'is_valid': None, 'root': <class 'estnltk_core.layer.span.Span'>}])),\n",
       " (224,\n",
       "  EnvelopingSpan(['Soome'], [{'nertag': 'LOC'}]),\n",
       "  EnvelopingSpan(['Soome', ',', 'Rootsi', ',', 'Läti', 'ja', 'Leeduga'], [{'entity_type': None, 'free_entity': None, 'is_valid': None, 'root': <class 'estnltk_core.layer.span.Span'>}])),\n",
       " (224,\n",
       "  EnvelopingSpan(['Rootsi'], [{'nertag': 'LOC'}]),\n",
       "  EnvelopingSpan(['Soome', ',', 'Rootsi', ',', 'Läti', 'ja', 'Leeduga'], [{'entity_type': None, 'free_entity': None, 'is_valid': None, 'root': <class 'estnltk_core.layer.span.Span'>}])),\n",
       " (224,\n",
       "  EnvelopingSpan(['Läti'], [{'nertag': 'LOC'}]),\n",
       "  EnvelopingSpan(['Soome', ',', 'Rootsi', ',', 'Läti', 'ja', 'Leeduga'], [{'entity_type': None, 'free_entity': None, 'is_valid': None, 'root': <class 'estnltk_core.layer.span.Span'>}]))]"
      ]
     },
     "execution_count": 91,
     "metadata": {},
     "output_type": "execute_result"
    }
   ],
   "source": [
    "ner_inside_obl[5:10]"
   ]
  },
  {
   "cell_type": "code",
   "execution_count": 108,
   "id": "a5350fa7",
   "metadata": {},
   "outputs": [],
   "source": [
    "obl_inside_ner = []\n",
    "\n",
    "for i, sentence in enumerate(texts):\n",
    "    try:\n",
    "        ents = sentence.entities\n",
    "        nerlayer = sentence.v171_named_entities\n",
    "        \n",
    "        if len(ents) == 0:\n",
    "            continue\n",
    "            \n",
    "        for ent in ents:\n",
    "            for n in nerlayer:\n",
    "                if n.nertag != \"LOC\":\n",
    "                    continue\n",
    "                if ent[0].start >= n[0].start and ent[-1].end <= n[-1].end:\n",
    "                    if n.text == ent.text:\n",
    "                        continue\n",
    "                    obl_inside_ner.append((i, n, ent))\n",
    "    except Exception as e:\n",
    "        print(i, e)\n",
    "        continue"
   ]
  },
  {
   "cell_type": "code",
   "execution_count": 109,
   "id": "85e014d9",
   "metadata": {},
   "outputs": [
    {
     "data": {
      "text/plain": [
       "2"
      ]
     },
     "execution_count": 109,
     "metadata": {},
     "output_type": "execute_result"
    }
   ],
   "source": [
    "len(obl_inside_ner)"
   ]
  },
  {
   "cell_type": "code",
   "execution_count": 110,
   "id": "a5b40d7b",
   "metadata": {},
   "outputs": [
    {
     "data": {
      "text/plain": [
       "[(426,\n",
       "  EnvelopingSpan(['Ungaris', 'Balatonil'], [{'nertag': 'LOC'}]),\n",
       "  EnvelopingSpan(['Ungaris'], [{'entity_type': None, 'free_entity': None, 'is_valid': None, 'root': <class 'estnltk_core.layer.span.Span'>}])),\n",
       " (426,\n",
       "  EnvelopingSpan(['Ungaris', 'Balatonil'], [{'nertag': 'LOC'}]),\n",
       "  EnvelopingSpan(['Balatonil'], [{'entity_type': None, 'free_entity': None, 'is_valid': None, 'root': <class 'estnltk_core.layer.span.Span'>}]))]"
      ]
     },
     "execution_count": 110,
     "metadata": {},
     "output_type": "execute_result"
    }
   ],
   "source": [
    "obl_inside_ner[:5]"
   ]
  },
  {
   "cell_type": "code",
   "execution_count": 111,
   "id": "52c1a6b4",
   "metadata": {},
   "outputs": [],
   "source": [
    "ner_obl_loikuvad = []\n",
    "\n",
    "for i, sentence in enumerate(texts):\n",
    "    try:\n",
    "        ents = sentence.entities\n",
    "        nerlayer = sentence.v171_named_entities\n",
    "        \n",
    "        if len(ents) == 0:\n",
    "            continue\n",
    "    \n",
    "        for n in nerlayer:\n",
    "            if n.nertag != \"LOC\":\n",
    "                continue\n",
    "            for ent in ents:\n",
    "                if n[0].start > ent[0].start and n[-1].end > ent[-1].end and n[0].start <= ent[-1].end:\n",
    "                    ner_obl_loikuvad.append((i, n, ent))\n",
    "                if n[0].start < ent[0].start and n[-1].end < ent[-1].end and n[-1].end >= ent[0].start:\n",
    "                    ner_obl_loikuvad.append((i, n, ent))\n",
    "    except Exception as e:\n",
    "        print(i, e)\n",
    "        continue"
   ]
  },
  {
   "cell_type": "code",
   "execution_count": 112,
   "id": "4403f096",
   "metadata": {},
   "outputs": [
    {
     "data": {
      "text/plain": [
       "1"
      ]
     },
     "execution_count": 112,
     "metadata": {},
     "output_type": "execute_result"
    }
   ],
   "source": [
    "len(ner_obl_loikuvad)"
   ]
  },
  {
   "cell_type": "code",
   "execution_count": 113,
   "id": "d7513b65",
   "metadata": {},
   "outputs": [
    {
     "data": {
      "text/plain": [
       "[(439,\n",
       "  EnvelopingSpan(['Austraaliasse', 'Landsbergise'], [{'nertag': 'LOC'}]),\n",
       "  EnvelopingSpan(['Landsbergise', 'pressisekretäri', 'sõnul'], [{'entity_type': None, 'free_entity': None, 'is_valid': None, 'root': <class 'estnltk_core.layer.span.Span'>}]))]"
      ]
     },
     "execution_count": 113,
     "metadata": {},
     "output_type": "execute_result"
    }
   ],
   "source": [
    "ner_obl_loikuvad[:5]"
   ]
  },
  {
   "cell_type": "code",
   "execution_count": 99,
   "id": "44908a3b",
   "metadata": {},
   "outputs": [],
   "source": [
    "ner_obl_eq_200 = random.sample(equal_ner_obl, 200)\n",
    "ner_in_obl_200 = random.sample(ner_inside_obl, 200)\n",
    "## obl_in_ner_200 = random.sample(obl_inside_ner, 200)"
   ]
  },
  {
   "cell_type": "code",
   "execution_count": 101,
   "id": "9193f4b2",
   "metadata": {},
   "outputs": [
    {
     "data": {
      "text/plain": [
       "(8960,\n",
       " EnvelopingSpan(['Eestis'], [{'nertag': 'LOC'}]),\n",
       " EnvelopingSpan(['Eestis'], [{'entity_type': None, 'free_entity': None, 'is_valid': None, 'root': <class 'estnltk_core.layer.span.Span'>}]))"
      ]
     },
     "execution_count": 101,
     "metadata": {},
     "output_type": "execute_result"
    }
   ],
   "source": [
    "ner_obl_eq_200[0]"
   ]
  },
  {
   "cell_type": "code",
   "execution_count": 102,
   "id": "feb3a541",
   "metadata": {},
   "outputs": [
    {
     "data": {
      "text/plain": [
       "'Patsientide esindajate veendumuse kohaselt seevastu tuleks just patsiendiseaduses sätestada , et tervishoiuteenused peavad olema pidevalt kättesaadavad kõigile Eestis alaliselt elavatele isikutele .'"
      ]
     },
     "execution_count": 102,
     "metadata": {},
     "output_type": "execute_result"
    }
   ],
   "source": [
    "sentences[ner_obl_eq_200[0][0]].text"
   ]
  },
  {
   "cell_type": "code",
   "execution_count": 103,
   "id": "adb466ad",
   "metadata": {},
   "outputs": [
    {
     "data": {
      "text/plain": [
       "'Eestis'"
      ]
     },
     "execution_count": 103,
     "metadata": {},
     "output_type": "execute_result"
    }
   ],
   "source": [
    "\" \".join(ner_obl_eq_200[0][1].text)"
   ]
  },
  {
   "cell_type": "code",
   "execution_count": 104,
   "id": "59c4e08a",
   "metadata": {},
   "outputs": [
    {
     "data": {
      "text/plain": [
       "'Eestis'"
      ]
     },
     "execution_count": 104,
     "metadata": {},
     "output_type": "execute_result"
    }
   ],
   "source": [
    "\" \".join(ner_obl_eq_200[0][2].text)"
   ]
  },
  {
   "cell_type": "code",
   "execution_count": 105,
   "id": "dc2ea405",
   "metadata": {},
   "outputs": [
    {
     "data": {
      "text/plain": [
       "'Ridala valla'"
      ]
     },
     "execution_count": 105,
     "metadata": {},
     "output_type": "execute_result"
    }
   ],
   "source": [
    "\" \".join(ner_obl_loikuvad[0][1].text)"
   ]
  },
  {
   "cell_type": "code",
   "execution_count": 106,
   "id": "3785d55f",
   "metadata": {},
   "outputs": [],
   "source": [
    "ner_obl_eq_200_proc = [\"\\t\".join([sentences[i].text, \" \".join(ner.text), \" \".join(ent.text)]) for i, ner, ent in ner_obl_eq_200]"
   ]
  },
  {
   "cell_type": "code",
   "execution_count": 107,
   "id": "9d6bbcea",
   "metadata": {},
   "outputs": [
    {
     "data": {
      "text/plain": [
       "['Patsientide esindajate veendumuse kohaselt seevastu tuleks just patsiendiseaduses sätestada , et tervishoiuteenused peavad olema pidevalt kättesaadavad kõigile Eestis alaliselt elavatele isikutele .\\tEestis\\tEestis',\n",
       " 'Tiit Madisson elab Lihula vallas Kirikukülas viiendat aastat ning kasvatab Väinamere pärandkoosluste kaitse ühingu liikmena Matsalu looduskaitsealal šoti mägiveiseid , hereforde ja 40 lammast .\\tKirikukülas\\tKirikukülas',\n",
       " 'Mõned Naeri sõbrad ja fännid kaugelt maalt tahavad puhkuse ajaks Eestisse tulla .\\tEestisse\\tEestisse']"
      ]
     },
     "execution_count": 107,
     "metadata": {},
     "output_type": "execute_result"
    }
   ],
   "source": [
    "ner_obl_eq_200_proc[:3]"
   ]
  },
  {
   "cell_type": "code",
   "execution_count": 108,
   "id": "a11e4531",
   "metadata": {},
   "outputs": [],
   "source": [
    "ner_in_obl_200_proc = [\"\\t\".join([sentences[i].text, \" \".join(ner.text), \" \".join(ent.text)]) for i, ner, ent in ner_in_obl_200]\n",
    "obl_in_ner_proc = [\"\\t\".join([sentences[i].text, \" \".join(ner.text), \" \".join(ent.text)]) for i, ner, ent in obl_inside_ner]\n",
    "ner_obl_loikuvad_proc = [\"\\t\".join([sentences[i].text, \" \".join(ner.text), \" \".join(ent.text)]) for i, ner, ent in ner_obl_loikuvad]"
   ]
  },
  {
   "cell_type": "code",
   "execution_count": 109,
   "id": "6c4e1da1",
   "metadata": {},
   "outputs": [
    {
     "data": {
      "text/plain": [
       "'Taani toidu- , põllumajandus- ja kalandusminister Ritt Bjerregaard käis Ridala valla mahetalunike põldudel , et veenduda , kas Taani-Eesti ühisprojekti raha on kasutatud asja eest .\\tRidala valla\\tvalla mahetalunike põldudel'"
      ]
     },
     "execution_count": 109,
     "metadata": {},
     "output_type": "execute_result"
    }
   ],
   "source": [
    "ner_obl_loikuvad_proc[0]"
   ]
  },
  {
   "cell_type": "code",
   "execution_count": 110,
   "id": "989d6c8f",
   "metadata": {},
   "outputs": [],
   "source": [
    "with open(\"ner_vs_obl/ner_eq_obl.txt\", \"w\") as f:\n",
    "    for line in ner_obl_eq_200_proc:\n",
    "        f.write(f\"{line}\\n\")"
   ]
  },
  {
   "cell_type": "code",
   "execution_count": 111,
   "id": "553a8b2a",
   "metadata": {},
   "outputs": [],
   "source": [
    "with open(\"ner_vs_obl/ner_in_obl.txt\", \"w\") as f:\n",
    "    for line in ner_in_obl_200_proc:\n",
    "        f.write(f\"{line}\\n\")"
   ]
  },
  {
   "cell_type": "code",
   "execution_count": 112,
   "id": "f4945b37",
   "metadata": {},
   "outputs": [],
   "source": [
    "with open(\"ner_vs_obl/obl_in_ner.txt\", \"w\") as f:\n",
    "    for line in obl_in_ner_proc:\n",
    "        f.write(f\"{line}\\n\")"
   ]
  },
  {
   "cell_type": "code",
   "execution_count": 113,
   "id": "8c90e355",
   "metadata": {},
   "outputs": [],
   "source": [
    "with open(\"ner_vs_obl/ner_obl_loikuvad.txt\", \"w\") as f:\n",
    "    for line in ner_obl_loikuvad_proc:\n",
    "        f.write(f\"{line}\\n\")"
   ]
  },
  {
   "cell_type": "markdown",
   "id": "0e35ab6f",
   "metadata": {},
   "source": [
    "### Labelstudio conversion"
   ]
  },
  {
   "cell_type": "code",
   "execution_count": 123,
   "id": "9fbe573a",
   "metadata": {},
   "outputs": [],
   "source": [
    "from estnltk.converters.label_studio.label_studio import LabelStudioExporter"
   ]
  },
  {
   "cell_type": "code",
   "execution_count": 127,
   "id": "d1fd9f37",
   "metadata": {},
   "outputs": [],
   "source": [
    "exporter = LabelStudioExporter(\"nerobltest.json\",['entities','v171_named_entities'],checkbox=True)"
   ]
  },
  {
   "cell_type": "code",
   "execution_count": 128,
   "id": "b8b1f979",
   "metadata": {},
   "outputs": [
    {
     "name": "stdout",
     "output_type": "stream",
     "text": [
      "\n",
      "        <View>\n",
      "            <Labels name=\"label\" toName=\"text\">\n",
      "\t<Label value=\"entities\" background=\"#71E722\"/> \n",
      "\t<Label value=\"v171_named_entities\" background=\"#B47DEF\"/> \n",
      "\n",
      "            </Labels>\n",
      "        <Text name=\"text\" value=\"$text\"/>\n",
      "            <Header value=\"Are the annotations correct?\"/>\n",
      "                <Choices name=\"review\" toName=\"text\">\n",
      "                    <Choice value=\"yes\"/>\n",
      "                    <Choice value=\"no\"/>\n",
      "                </Choices>\n",
      "            </View>\n"
     ]
    }
   ],
   "source": [
    "print(exporter.labeling_interface)"
   ]
  },
  {
   "cell_type": "code",
   "execution_count": 126,
   "id": "485227cc",
   "metadata": {},
   "outputs": [],
   "source": [
    "exporter.convert(texts,append=False)"
   ]
  }
 ],
 "metadata": {
  "kernelspec": {
   "display_name": "Python 3",
   "language": "python",
   "name": "python3"
  },
  "language_info": {
   "codemirror_mode": {
    "name": "ipython",
    "version": 3
   },
   "file_extension": ".py",
   "mimetype": "text/x-python",
   "name": "python",
   "nbconvert_exporter": "python",
   "pygments_lexer": "ipython3",
   "version": "3.6.13"
  }
 },
 "nbformat": 4,
 "nbformat_minor": 5
}
