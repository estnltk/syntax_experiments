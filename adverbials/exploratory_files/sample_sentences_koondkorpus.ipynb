{
 "cells": [
  {
   "cell_type": "code",
   "execution_count": 1,
   "id": "b77a40b7",
   "metadata": {},
   "outputs": [],
   "source": [
    "from tqdm import tqdm\n",
    "from estnltk import Text\n",
    "from estnltk.storage.postgres import PostgresStorage, create_schema"
   ]
  },
  {
   "cell_type": "code",
   "execution_count": 2,
   "id": "5b7208df",
   "metadata": {},
   "outputs": [
    {
     "name": "stdout",
     "output_type": "stream",
     "text": [
      "INFO:storage.py:58: connecting to host: 'postgres.keeleressursid.ee', port: 5432, dbname: 'estonian-text-corpora', user: 'rasmusm'\n",
      "INFO:storage.py:108: schema: 'estonian_text_corpora', temporary: False, role: 'estonian_text_corpora_read'\n"
     ]
    }
   ],
   "source": [
    "from estnltk import Text\n",
    "from estnltk.storage.postgres import PostgresStorage, create_schema\n",
    "\n",
    "\n",
    "storage = PostgresStorage(host='postgres.keeleressursid.ee',\n",
    "                          port=5432,\n",
    "                          dbname='estonian-text-corpora',\n",
    "                          user='',\n",
    "                          password='',\n",
    "                          schema='estonian_text_corpora',\n",
    "                          role='estonian_text_corpora_read',\n",
    "                          temporary=False)"
   ]
  },
  {
   "cell_type": "code",
   "execution_count": 3,
   "id": "97132703",
   "metadata": {},
   "outputs": [
    {
     "data": {
      "text/html": [
       "<b>PostgresStorage</b><br/>\n",
       "user=rasmusm password=xxx dbname=estonian-text-corpora host=postgres.keeleressursid.ee port=5432 schema=estonian_text_corpora<br/>temporary=False<br/>\n",
       "collection count: 5\n",
       "<table border=\"1\" class=\"dataframe\">\n",
       "  <thead>\n",
       "    <tr style=\"text-align: right;\">\n",
       "      <th></th>\n",
       "      <th></th>\n",
       "      <th></th>\n",
       "      <th>rows</th>\n",
       "      <th>total_size</th>\n",
       "      <th>comment</th>\n",
       "    </tr>\n",
       "    <tr>\n",
       "      <th>collection</th>\n",
       "      <th>version</th>\n",
       "      <th>relations</th>\n",
       "      <th></th>\n",
       "      <th></th>\n",
       "      <th></th>\n",
       "    </tr>\n",
       "  </thead>\n",
       "  <tbody>\n",
       "    <tr>\n",
       "      <th rowspan=\"16\" valign=\"top\">koondkorpus_base_subset_of_5000_v2</th>\n",
       "      <th rowspan=\"16\" valign=\"top\">2.0</th>\n",
       "      <th></th>\n",
       "      <td>0</td>\n",
       "      <td>12 MB</td>\n",
       "      <td>Collection of 5000 randomly picked Koondkorpus texts (v2)</td>\n",
       "    </tr>\n",
       "    <tr>\n",
       "      <th>original_sentences_flat__la</th>\n",
       "      <td>0</td>\n",
       "      <td>5544 kB</td>\n",
       "      <td>created by soras on Fri Jun 12 11:28:06 2020</td>\n",
       "    </tr>\n",
       "    <tr>\n",
       "      <th>original_words__layer</th>\n",
       "      <td>0</td>\n",
       "      <td>19 MB</td>\n",
       "      <td>created by soras on Fri Jun 12 09:15:46 2020</td>\n",
       "    </tr>\n",
       "    <tr>\n",
       "      <th>original_words_morph_analys</th>\n",
       "      <td>0</td>\n",
       "      <td>96 MB</td>\n",
       "      <td>Morphological analysis from v1.6.2/3, probably based on commit 349a7c2 (2018-11-22)</td>\n",
       "    </tr>\n",
       "    <tr>\n",
       "      <th>structure</th>\n",
       "      <td>2</td>\n",
       "      <td>32 kB</td>\n",
       "      <td>None</td>\n",
       "    </tr>\n",
       "    <tr>\n",
       "      <th>v166_compound_tokens__layer</th>\n",
       "      <td>0</td>\n",
       "      <td>5472 kB</td>\n",
       "      <td>created by soras on Thu Jun  4 12:29:42 2020</td>\n",
       "    </tr>\n",
       "    <tr>\n",
       "      <th>v166_morph_analysis__layer</th>\n",
       "      <td>0</td>\n",
       "      <td>97 MB</td>\n",
       "      <td>created by soras on Tue Jun  9 14:13:07 2020</td>\n",
       "    </tr>\n",
       "    <tr>\n",
       "      <th>v166_sentences__layer</th>\n",
       "      <td>0</td>\n",
       "      <td>21 MB</td>\n",
       "      <td>created by soras on Tue Jun  9 06:01:41 2020</td>\n",
       "    </tr>\n",
       "    <tr>\n",
       "      <th>v166_tokens__layer</th>\n",
       "      <td>0</td>\n",
       "      <td>20 MB</td>\n",
       "      <td>created by soras on Thu Jun  4 07:40:39 2020</td>\n",
       "    </tr>\n",
       "    <tr>\n",
       "      <th>v166_words__layer</th>\n",
       "      <td>0</td>\n",
       "      <td>20 MB</td>\n",
       "      <td>created by soras on Fri Jun  5 05:49:26 2020</td>\n",
       "    </tr>\n",
       "    <tr>\n",
       "      <th>v168_stanza_ensemble_syntax</th>\n",
       "      <td>0</td>\n",
       "      <td>95 MB</td>\n",
       "      <td>created by soras on Wed Aug  4 08:53:37 2021</td>\n",
       "    </tr>\n",
       "    <tr>\n",
       "      <th>v168_stanza_pos_based_synta</th>\n",
       "      <td>0</td>\n",
       "      <td>77 MB</td>\n",
       "      <td>created by soras on Wed Aug 11 17:26:41 2021</td>\n",
       "    </tr>\n",
       "    <tr>\n",
       "      <th>v168_stanza_syntax__layer</th>\n",
       "      <td>0</td>\n",
       "      <td>95 MB</td>\n",
       "      <td>created by soras on Fri Jul  2 16:07:05 2021</td>\n",
       "    </tr>\n",
       "    <tr>\n",
       "      <th>v169_clauses__layer</th>\n",
       "      <td>5000</td>\n",
       "      <td>22 MB</td>\n",
       "      <td>created by soras on Mon Sep 12 11:26:29 2022</td>\n",
       "    </tr>\n",
       "    <tr>\n",
       "      <th>v169_named_entities__layer</th>\n",
       "      <td>0</td>\n",
       "      <td>5624 kB</td>\n",
       "      <td>created by soras on Tue May 17 11:01:56 2022</td>\n",
       "    </tr>\n",
       "    <tr>\n",
       "      <th>v172_geo_terms__layer</th>\n",
       "      <td>5000</td>\n",
       "      <td>1896 kB</td>\n",
       "      <td>created by soras on Mon Jan  2 12:25:16 2023</td>\n",
       "    </tr>\n",
       "    <tr>\n",
       "      <th rowspan=\"16\" valign=\"top\">koondkorpus_base_v2</th>\n",
       "      <th rowspan=\"16\" valign=\"top\">2.0</th>\n",
       "      <th></th>\n",
       "      <td>0</td>\n",
       "      <td>1618 MB</td>\n",
       "      <td>Collection of Koondkorpus texts (v2)</td>\n",
       "    </tr>\n",
       "    <tr>\n",
       "      <th>original_sentences_flat__layer</th>\n",
       "      <td>0</td>\n",
       "      <td>740 MB</td>\n",
       "      <td>created by soras on Mon Jun 15 06:44:30 2020</td>\n",
       "    </tr>\n",
       "    <tr>\n",
       "      <th>original_words__layer</th>\n",
       "      <td>0</td>\n",
       "      <td>2553 MB</td>\n",
       "      <td>created by soras on Fri Jun 12 12:25:44 2020</td>\n",
       "    </tr>\n",
       "    <tr>\n",
       "      <th>original_words_morph_analysis__layer</th>\n",
       "      <td>0</td>\n",
       "      <td>13 GB</td>\n",
       "      <td>Morphological analysis from v1.6.2/3, probably based on commit 349a7c2 (2018-11-22)</td>\n",
       "    </tr>\n",
       "    <tr>\n",
       "      <th>structure</th>\n",
       "      <td>2</td>\n",
       "      <td>32 kB</td>\n",
       "      <td>None</td>\n",
       "    </tr>\n",
       "    <tr>\n",
       "      <th>v166_compound_tokens__layer</th>\n",
       "      <td>0</td>\n",
       "      <td>698 MB</td>\n",
       "      <td>created by soras on Thu Jun  4 12:36:01 2020</td>\n",
       "    </tr>\n",
       "    <tr>\n",
       "      <th>v166_morph_analysis__layer</th>\n",
       "      <td>0</td>\n",
       "      <td>13 GB</td>\n",
       "      <td>created by soras on Tue Jun  9 14:32:08 2020</td>\n",
       "    </tr>\n",
       "    <tr>\n",
       "      <th>v166_sentences__layer</th>\n",
       "      <td>0</td>\n",
       "      <td>2860 MB</td>\n",
       "      <td>created by soras on Tue Jun  9 06:07:08 2020</td>\n",
       "    </tr>\n",
       "    <tr>\n",
       "      <th>v166_tokens__layer</th>\n",
       "      <td>0</td>\n",
       "      <td>2587 MB</td>\n",
       "      <td>created by soras on Thu Jun  4 07:42:49 2020</td>\n",
       "    </tr>\n",
       "    <tr>\n",
       "      <th>v166_words__layer</th>\n",
       "      <td>0</td>\n",
       "      <td>2622 MB</td>\n",
       "      <td>created by soras on Fri Jun  5 05:53:18 2020</td>\n",
       "    </tr>\n",
       "    <tr>\n",
       "      <th>v168_stanza_ensemble_syntax__layer</th>\n",
       "      <td>0</td>\n",
       "      <td>12 GB</td>\n",
       "      <td>created by soras on Thu Aug  5 17:31:45 2021</td>\n",
       "    </tr>\n",
       "    <tr>\n",
       "      <th>v168_stanza_pos_based_syntax__layer</th>\n",
       "      <td>0</td>\n",
       "      <td>10 GB</td>\n",
       "      <td>created by soras on Thu Aug 12 18:03:09 2021</td>\n",
       "    </tr>\n",
       "    <tr>\n",
       "      <th>v168_stanza_syntax__layer</th>\n",
       "      <td>0</td>\n",
       "      <td>12 GB</td>\n",
       "      <td>created by soras on Wed Jul 28 10:45:04 2021</td>\n",
       "    </tr>\n",
       "    <tr>\n",
       "      <th>v169_clauses__layer</th>\n",
       "      <td>703506</td>\n",
       "      <td>2884 MB</td>\n",
       "      <td>created by soras on Mon Sep 12 11:46:59 2022</td>\n",
       "    </tr>\n",
       "    <tr>\n",
       "      <th>v169_named_entities__layer</th>\n",
       "      <td>0</td>\n",
       "      <td>752 MB</td>\n",
       "      <td>created by soras on Tue May 17 14:29:05 2022</td>\n",
       "    </tr>\n",
       "    <tr>\n",
       "      <th>v172_geo_terms__layer</th>\n",
       "      <td>705356</td>\n",
       "      <td>247 MB</td>\n",
       "      <td>created by soras on Mon Jan  2 12:30:20 2023</td>\n",
       "    </tr>\n",
       "    <tr>\n",
       "      <th rowspan=\"8\" valign=\"top\">koondkorpus_sentences</th>\n",
       "      <th rowspan=\"8\" valign=\"top\">3.0</th>\n",
       "      <th></th>\n",
       "      <td>21377855</td>\n",
       "      <td>82 GB</td>\n",
       "      <td>koondkorpus_base_v2 texts split into sentences</td>\n",
       "    </tr>\n",
       "    <tr>\n",
       "      <th>structure</th>\n",
       "      <td>12</td>\n",
       "      <td>32 kB</td>\n",
       "      <td>None</td>\n",
       "    </tr>\n",
       "    <tr>\n",
       "      <th>v171_named_entities__layer</th>\n",
       "      <td>18950492</td>\n",
       "      <td>7452 MB</td>\n",
       "      <td>created by soras on Mon Dec  5 11:27:53 2022</td>\n",
       "    </tr>\n",
       "    <tr>\n",
       "      <th>v172_advmod_phrases__layer</th>\n",
       "      <td>10650949</td>\n",
       "      <td>7416 MB</td>\n",
       "      <td>created by soras on Tue Jan 31 14:49:31 2023</td>\n",
       "    </tr>\n",
       "    <tr>\n",
       "      <th>v172_geo_terms__layer</th>\n",
       "      <td>21237460</td>\n",
       "      <td>6187 MB</td>\n",
       "      <td>created by soras on Wed Jan  4 11:12:06 2023</td>\n",
       "    </tr>\n",
       "    <tr>\n",
       "      <th>v172_obl_phrases__layer</th>\n",
       "      <td>12228238</td>\n",
       "      <td>10027 MB</td>\n",
       "      <td>created by soras on Tue Jan 31 14:44:17 2023</td>\n",
       "    </tr>\n",
       "    <tr>\n",
       "      <th>v172_pre_timexes__layer</th>\n",
       "      <td>4184049</td>\n",
       "      <td>2100 MB</td>\n",
       "      <td>created by soras on Thu Mar 16 11:02:14 2023</td>\n",
       "    </tr>\n",
       "    <tr>\n",
       "      <th>v172_stanza_syntax__layer</th>\n",
       "      <td>21399587</td>\n",
       "      <td>29 GB</td>\n",
       "      <td>created by soras on Thu Jan 26 15:12:12 2023</td>\n",
       "    </tr>\n",
       "    <tr>\n",
       "      <th rowspan=\"8\" valign=\"top\">koondkorpus_sentences_test_5000_sg_thread</th>\n",
       "      <th rowspan=\"8\" valign=\"top\">3.0</th>\n",
       "      <th></th>\n",
       "      <td>159829</td>\n",
       "      <td>652 MB</td>\n",
       "      <td>5000 texts split into sentences (based on v2)</td>\n",
       "    </tr>\n",
       "    <tr>\n",
       "      <th>structure</th>\n",
       "      <td>12</td>\n",
       "      <td>32 kB</td>\n",
       "      <td>None</td>\n",
       "    </tr>\n",
       "    <tr>\n",
       "      <th>v171_named_entities_</th>\n",
       "      <td>146503</td>\n",
       "      <td>62 MB</td>\n",
       "      <td>created by soras on Fri Dec  2 16:19:38 2022</td>\n",
       "    </tr>\n",
       "    <tr>\n",
       "      <th>v172_advmod_phrases_</th>\n",
       "      <td>78365</td>\n",
       "      <td>55 MB</td>\n",
       "      <td>created by soras on Tue Jan 31 13:52:10 2023</td>\n",
       "    </tr>\n",
       "    <tr>\n",
       "      <th>v172_geo_terms__laye</th>\n",
       "      <td>159745</td>\n",
       "      <td>46 MB</td>\n",
       "      <td>created by soras on Mon Jan  2 12:39:29 2023</td>\n",
       "    </tr>\n",
       "    <tr>\n",
       "      <th>v172_obl_phrases__la</th>\n",
       "      <td>91550</td>\n",
       "      <td>76 MB</td>\n",
       "      <td>created by soras on Tue Jan 31 14:02:59 2023</td>\n",
       "    </tr>\n",
       "    <tr>\n",
       "      <th>v172_pre_timexes__la</th>\n",
       "      <td>159745</td>\n",
       "      <td>55 MB</td>\n",
       "      <td>created by soras on Wed Mar 15 17:53:39 2023</td>\n",
       "    </tr>\n",
       "    <tr>\n",
       "      <th>v172_stanza_syntax__</th>\n",
       "      <td>159745</td>\n",
       "      <td>224 MB</td>\n",
       "      <td>created by soras on Thu Jan 26 14:09:38 2023</td>\n",
       "    </tr>\n",
       "    <tr>\n",
       "      <th rowspan=\"2\" valign=\"top\">koondkorpus_words_v16_1</th>\n",
       "      <th rowspan=\"2\" valign=\"top\">0.0</th>\n",
       "      <th></th>\n",
       "      <td>0</td>\n",
       "      <td>2718 MB</td>\n",
       "      <td>example sentence for every word in koondkorpus_base__v16_1_words__layer</td>\n",
       "    </tr>\n",
       "    <tr>\n",
       "      <th>structure</th>\n",
       "      <td>0</td>\n",
       "      <td>32 kB</td>\n",
       "      <td>None</td>\n",
       "    </tr>\n",
       "  </tbody>\n",
       "</table>\n",
       " There are collections listed in the __collections table without tables in the database: ['koondkorpus_syntax_subset']"
      ],
      "text/plain": [
       "<estnltk.storage.postgres.storage.PostgresStorage at 0x2533a5bd198>"
      ]
     },
     "execution_count": 3,
     "metadata": {},
     "output_type": "execute_result"
    }
   ],
   "source": [
    "storage"
   ]
  },
  {
   "cell_type": "code",
   "execution_count": 4,
   "id": "388ea281",
   "metadata": {},
   "outputs": [],
   "source": [
    "collection = storage['koondkorpus_sentences']\n",
    "collection.selected_layers = ['v172_stanza_syntax','v172_obl_phrases']"
   ]
  },
  {
   "cell_type": "code",
   "execution_count": 7,
   "id": "8970e635",
   "metadata": {},
   "outputs": [
    {
     "data": {
      "text/plain": [
       "21415543"
      ]
     },
     "execution_count": 7,
     "metadata": {},
     "output_type": "execute_result"
    }
   ],
   "source": [
    "len(collection)"
   ]
  },
  {
   "cell_type": "code",
   "execution_count": 8,
   "id": "058aa2ea",
   "metadata": {},
   "outputs": [
    {
     "name": "stderr",
     "output_type": "stream",
     "text": [
      "1000080it [35:19, 471.74it/s]\n"
     ]
    }
   ],
   "source": [
    "sentences = []\n",
    "sentences_with_id = []\n",
    "\n",
    "for text_id, text_obj in tqdm(collection.select(itersize=2000).sample(1000000, amount_type='SIZE')):\n",
    "    sentences.append(text_obj)\n",
    "    sentences_with_id.append((text_id, text_obj))"
   ]
  },
  {
   "cell_type": "code",
   "execution_count": 6,
   "id": "3cb04fa5",
   "metadata": {},
   "outputs": [],
   "source": [
    "import pickle"
   ]
  },
  {
   "cell_type": "code",
   "execution_count": 10,
   "id": "fe4f692b",
   "metadata": {},
   "outputs": [],
   "source": [
    "with open(\"sampled_1m_sentences.pickle\", \"wb\") as f:\n",
    "    pickle.dump(sentences, f)"
   ]
  },
  {
   "cell_type": "code",
   "execution_count": 11,
   "id": "7c44a33b",
   "metadata": {},
   "outputs": [],
   "source": [
    "with open(\"sampled_1m_sentences_with_id.pickle\", \"wb\") as f:\n",
    "    pickle.dump(sentences_with_id, f)"
   ]
  },
  {
   "cell_type": "code",
   "execution_count": 8,
   "id": "04afa842",
   "metadata": {},
   "outputs": [
    {
     "name": "stderr",
     "output_type": "stream",
     "text": [
      "950000it [2:03:08, 128.58it/s] \n"
     ]
    },
    {
     "ename": "RecursionError",
     "evalue": "maximum recursion depth exceeded while calling a Python object",
     "output_type": "error",
     "traceback": [
      "\u001b[1;31m---------------------------------------------------------------------------\u001b[0m",
      "\u001b[1;31mRecursionError\u001b[0m                            Traceback (most recent call last)",
      "\u001b[1;32m<ipython-input-8-a3f8d7e8d7a2>\u001b[0m in \u001b[0;36m<module>\u001b[1;34m\u001b[0m\n\u001b[0;32m      8\u001b[0m     \u001b[1;32mif\u001b[0m \u001b[0mi\u001b[0m \u001b[1;33m%\u001b[0m \u001b[1;36m50000\u001b[0m \u001b[1;33m==\u001b[0m \u001b[1;36m0\u001b[0m\u001b[1;33m:\u001b[0m\u001b[1;33m\u001b[0m\u001b[1;33m\u001b[0m\u001b[0m\n\u001b[0;32m      9\u001b[0m         \u001b[1;32mwith\u001b[0m \u001b[0mopen\u001b[0m\u001b[1;33m(\u001b[0m\u001b[1;34mf\"1m_samples/sampled_1m_sentences_layers_{filename_i}.pickle\"\u001b[0m\u001b[1;33m,\u001b[0m \u001b[1;34m\"wb\"\u001b[0m\u001b[1;33m)\u001b[0m \u001b[1;32mas\u001b[0m \u001b[0mf\u001b[0m\u001b[1;33m:\u001b[0m\u001b[1;33m\u001b[0m\u001b[1;33m\u001b[0m\u001b[0m\n\u001b[1;32m---> 10\u001b[1;33m             \u001b[0mpickle\u001b[0m\u001b[1;33m.\u001b[0m\u001b[0mdump\u001b[0m\u001b[1;33m(\u001b[0m\u001b[0msentences_layers\u001b[0m\u001b[1;33m,\u001b[0m \u001b[0mf\u001b[0m\u001b[1;33m)\u001b[0m\u001b[1;33m\u001b[0m\u001b[1;33m\u001b[0m\u001b[0m\n\u001b[0m\u001b[0;32m     11\u001b[0m         \u001b[1;32mwith\u001b[0m \u001b[0mopen\u001b[0m\u001b[1;33m(\u001b[0m\u001b[1;34mf\"1m_samples/sampled_1m_sentences_with_id_layers_{filename_i}.pickle\"\u001b[0m\u001b[1;33m,\u001b[0m \u001b[1;34m\"wb\"\u001b[0m\u001b[1;33m)\u001b[0m \u001b[1;32mas\u001b[0m \u001b[0mf\u001b[0m\u001b[1;33m:\u001b[0m\u001b[1;33m\u001b[0m\u001b[1;33m\u001b[0m\u001b[0m\n\u001b[0;32m     12\u001b[0m             \u001b[0mpickle\u001b[0m\u001b[1;33m.\u001b[0m\u001b[0mdump\u001b[0m\u001b[1;33m(\u001b[0m\u001b[0msentences_with_id_layers\u001b[0m\u001b[1;33m,\u001b[0m \u001b[0mf\u001b[0m\u001b[1;33m)\u001b[0m\u001b[1;33m\u001b[0m\u001b[1;33m\u001b[0m\u001b[0m\n",
      "\u001b[1;32mc:\\users\\sormu\\documents\\estnltk\\estnltk_core\\estnltk_core\\layer\\span.py\u001b[0m in \u001b[0;36m__getattr__\u001b[1;34m(self, item)\u001b[0m\n\u001b[0;32m    274\u001b[0m \u001b[1;33m\u001b[0m\u001b[0m\n\u001b[0;32m    275\u001b[0m     \u001b[1;32mdef\u001b[0m \u001b[0m__getattr__\u001b[0m\u001b[1;33m(\u001b[0m\u001b[0mself\u001b[0m\u001b[1;33m,\u001b[0m \u001b[0mitem\u001b[0m\u001b[1;33m)\u001b[0m\u001b[1;33m:\u001b[0m\u001b[1;33m\u001b[0m\u001b[1;33m\u001b[0m\u001b[0m\n\u001b[1;32m--> 276\u001b[1;33m         \u001b[1;32mif\u001b[0m \u001b[0mitem\u001b[0m \u001b[1;32min\u001b[0m \u001b[0mself\u001b[0m\u001b[1;33m.\u001b[0m\u001b[0m__getattribute__\u001b[0m\u001b[1;33m(\u001b[0m\u001b[1;34m'_layer'\u001b[0m\u001b[1;33m)\u001b[0m\u001b[1;33m.\u001b[0m\u001b[0mattributes\u001b[0m\u001b[1;33m:\u001b[0m\u001b[1;33m\u001b[0m\u001b[1;33m\u001b[0m\u001b[0m\n\u001b[0m\u001b[0;32m    277\u001b[0m             \u001b[1;32mreturn\u001b[0m \u001b[0mself\u001b[0m\u001b[1;33m[\u001b[0m\u001b[0mitem\u001b[0m\u001b[1;33m]\u001b[0m\u001b[1;33m\u001b[0m\u001b[1;33m\u001b[0m\u001b[0m\n\u001b[0;32m    278\u001b[0m         \u001b[1;32mtry\u001b[0m\u001b[1;33m:\u001b[0m\u001b[1;33m\u001b[0m\u001b[1;33m\u001b[0m\u001b[0m\n",
      "\u001b[1;31mRecursionError\u001b[0m: maximum recursion depth exceeded while calling a Python object"
     ]
    }
   ],
   "source": [
    "sentences_layers = []\n",
    "sentences_with_id_layers = []\n",
    "\n",
    "i = 0\n",
    "filename_i = 0\n",
    "\n",
    "for text_id, text_obj in tqdm(collection.select(layers=['v172_obl_phrases', 'v172_stanza_syntax'], itersize=2000).sample(1000000, amount_type='SIZE')):\n",
    "    if i % 50000 == 0:\n",
    "        with open(f\"1m_samples/sampled_1m_sentences_layers_{filename_i}.pickle\", \"wb\") as f:\n",
    "            pickle.dump(sentences_layers, f)\n",
    "        with open(f\"1m_samples/sampled_1m_sentences_with_id_layers_{filename_i}.pickle\", \"wb\") as f:\n",
    "            pickle.dump(sentences_with_id_layers, f)\n",
    "        \n",
    "        sentences_layers = []\n",
    "        sentences_with_id_layers = []\n",
    "        filename_i += 1\n",
    "            \n",
    "    sentences_layers.append(text_obj)\n",
    "    sentences_with_id_layers.append((text_id, text_obj))\n",
    "    i += 1"
   ]
  },
  {
   "cell_type": "code",
   "execution_count": 9,
   "id": "1c08230e",
   "metadata": {},
   "outputs": [
    {
     "data": {
      "text/plain": [
       "19"
      ]
     },
     "execution_count": 9,
     "metadata": {},
     "output_type": "execute_result"
    }
   ],
   "source": [
    "filename_i"
   ]
  },
  {
   "cell_type": "code",
   "execution_count": 13,
   "id": "72000b0e",
   "metadata": {},
   "outputs": [
    {
     "data": {
      "text/plain": [
       "(50000, 50000)"
      ]
     },
     "execution_count": 13,
     "metadata": {},
     "output_type": "execute_result"
    }
   ],
   "source": [
    "len(sentences_layers), len(sentences_with_id_layers)"
   ]
  },
  {
   "cell_type": "code",
   "execution_count": 12,
   "id": "3be6e5d1",
   "metadata": {},
   "outputs": [],
   "source": [
    "import sys\n",
    "sys.setrecursionlimit(10000)"
   ]
  },
  {
   "cell_type": "code",
   "execution_count": 14,
   "id": "4d9209ae",
   "metadata": {},
   "outputs": [],
   "source": [
    "with open(f\"1m_samples/sampled_1m_sentences_layers_{filename_i}.pickle\", \"wb\") as f:\n",
    "    pickle.dump(sentences_layers, f)\n",
    "    \n",
    "with open(f\"1m_samples/sampled_1m_sentences_with_id_layers_{filename_i}.pickle\", \"wb\") as f:\n",
    "    pickle.dump(sentences_with_id_layers, f)"
   ]
  },
  {
   "cell_type": "code",
   "execution_count": 16,
   "id": "225704b7",
   "metadata": {},
   "outputs": [
    {
     "data": {
      "text/html": [
       "<h4>Layer</h4>\n",
       "\n",
       "\n",
       "<table border=\"1\" class=\"dataframe\">\n",
       "  <thead>\n",
       "    <tr style=\"text-align: right;\">\n",
       "      <th>layer name</th>\n",
       "      <th>attributes</th>\n",
       "      <th>parent</th>\n",
       "      <th>enveloping</th>\n",
       "      <th>ambiguous</th>\n",
       "      <th>span count</th>\n",
       "    </tr>\n",
       "  </thead>\n",
       "  <tbody>\n",
       "    <tr>\n",
       "      <td>v172_obl_phrases</td>\n",
       "      <td>entity_type, free_entity, is_valid, root_id, root</td>\n",
       "      <td>None</td>\n",
       "      <td>v172_stanza_syntax</td>\n",
       "      <td>False</td>\n",
       "      <td>0</td>\n",
       "    </tr>\n",
       "  </tbody>\n",
       "</table>\n",
       "<table border=\"1\" class=\"dataframe\">\n",
       "  <thead>\n",
       "    <tr style=\"text-align: right;\">\n",
       "      <th>text</th>\n",
       "      <th>entity_type</th>\n",
       "      <th>free_entity</th>\n",
       "      <th>is_valid</th>\n",
       "      <th>root_id</th>\n",
       "      <th>root</th>\n",
       "    </tr>\n",
       "  </thead>\n",
       "  <tbody>\n",
       "  </tbody>\n",
       "</table>"
      ],
      "text/plain": [
       "Layer(name='v172_obl_phrases', attributes=('entity_type', 'free_entity', 'is_valid', 'root_id', 'root'), spans=SL[])"
      ]
     },
     "execution_count": 16,
     "metadata": {},
     "output_type": "execute_result"
    }
   ],
   "source": [
    "sentences_layers[0].v172_obl_phrases"
   ]
  }
 ],
 "metadata": {
  "kernelspec": {
   "display_name": "Python 3",
   "language": "python",
   "name": "python3"
  },
  "language_info": {
   "codemirror_mode": {
    "name": "ipython",
    "version": 3
   },
   "file_extension": ".py",
   "mimetype": "text/x-python",
   "name": "python",
   "nbconvert_exporter": "python",
   "pygments_lexer": "ipython3",
   "version": "3.6.13"
  }
 },
 "nbformat": 4,
 "nbformat_minor": 5
}
