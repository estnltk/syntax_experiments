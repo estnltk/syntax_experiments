{
 "cells": [
  {
   "cell_type": "code",
   "execution_count": 1,
   "id": "fc520d89",
   "metadata": {},
   "outputs": [],
   "source": [
    "import pickle\n",
    "import pandas as pd\n",
    "from tqdm import tqdm\n",
    "from collections import Counter"
   ]
  },
  {
   "cell_type": "code",
   "execution_count": 2,
   "id": "8e921403",
   "metadata": {},
   "outputs": [],
   "source": [
    "with open(\"1m_samples/sampled_1m_sentences_layers_1.pickle\", \"rb\") as f:\n",
    "        sentences = pickle.load(f)"
   ]
  },
  {
   "cell_type": "code",
   "execution_count": 3,
   "id": "b0bfa63a",
   "metadata": {},
   "outputs": [
    {
     "data": {
      "text/plain": [
       "50000"
      ]
     },
     "execution_count": 3,
     "metadata": {},
     "output_type": "execute_result"
    }
   ],
   "source": [
    "len(sentences)"
   ]
  },
  {
   "cell_type": "code",
   "execution_count": 4,
   "id": "9c6dd0c8",
   "metadata": {},
   "outputs": [
    {
     "data": {
      "text/html": [
       "<table border=\"1\" class=\"dataframe\">\n",
       "  <thead>\n",
       "    <tr style=\"text-align: right;\">\n",
       "      <th>text</th>\n",
       "    </tr>\n",
       "  </thead>\n",
       "  <tbody>\n",
       "    <tr>\n",
       "      <td><div align = \"left\">Kui sageli tuli sul kooli juhtkonna ees aru anda ?</div></td>\n",
       "    </tr>\n",
       "  </tbody>\n",
       "</table>\n",
       "<h4>Metadata</h4>\n",
       "<table border=\"1\" class=\"dataframe\">\n",
       "  <tbody>\n",
       "    <tr>\n",
       "      <td>file</td>\n",
       "      <td>aja_kr_2003_02_18.xml</td>\n",
       "    </tr>\n",
       "    <tr>\n",
       "      <td>sent_end</td>\n",
       "      <td>789</td>\n",
       "    </tr>\n",
       "    <tr>\n",
       "      <td>sent_start</td>\n",
       "      <td>739</td>\n",
       "    </tr>\n",
       "    <tr>\n",
       "      <td>subcorpus</td>\n",
       "      <td>aja_kr</td>\n",
       "    </tr>\n",
       "    <tr>\n",
       "      <td>text_no</td>\n",
       "      <td>0</td>\n",
       "    </tr>\n",
       "    <tr>\n",
       "      <td>title</td>\n",
       "      <td>Eurovisiooni Don Quijote</td>\n",
       "    </tr>\n",
       "    <tr>\n",
       "      <td>type</td>\n",
       "      <td>artikkel</td>\n",
       "    </tr>\n",
       "  </tbody>\n",
       "</table>\n",
       "<table border=\"1\" class=\"dataframe\">\n",
       "  <thead>\n",
       "    <tr style=\"text-align: right;\">\n",
       "      <th>layer name</th>\n",
       "      <th>attributes</th>\n",
       "      <th>parent</th>\n",
       "      <th>enveloping</th>\n",
       "      <th>ambiguous</th>\n",
       "      <th>span count</th>\n",
       "    </tr>\n",
       "  </thead>\n",
       "  <tbody>\n",
       "    <tr>\n",
       "      <td>words</td>\n",
       "      <td>normalized_form</td>\n",
       "      <td>None</td>\n",
       "      <td>None</td>\n",
       "      <td>True</td>\n",
       "      <td>10</td>\n",
       "    </tr>\n",
       "    <tr>\n",
       "      <td>morph_analysis</td>\n",
       "      <td>normalized_text, lemma, root, root_tokens, ending, clitic, form, partofspeech</td>\n",
       "      <td>words</td>\n",
       "      <td>None</td>\n",
       "      <td>True</td>\n",
       "      <td>10</td>\n",
       "    </tr>\n",
       "    <tr>\n",
       "      <td>morph_extended</td>\n",
       "      <td>normalized_text, lemma, root, root_tokens, ending, clitic, form, partofspeech, punctuation_type, pronoun_type, letter_case, fin, verb_extension_suffix, subcat</td>\n",
       "      <td>morph_analysis</td>\n",
       "      <td>None</td>\n",
       "      <td>True</td>\n",
       "      <td>10</td>\n",
       "    </tr>\n",
       "    <tr>\n",
       "      <td>v172_stanza_syntax</td>\n",
       "      <td>id, lemma, upostag, xpostag, feats, head, deprel, deps, misc, parent_span, children</td>\n",
       "      <td>morph_extended</td>\n",
       "      <td>None</td>\n",
       "      <td>False</td>\n",
       "      <td>10</td>\n",
       "    </tr>\n",
       "    <tr>\n",
       "      <td>v172_obl_phrases</td>\n",
       "      <td>entity_type, free_entity, is_valid, root_id, root</td>\n",
       "      <td>None</td>\n",
       "      <td>v172_stanza_syntax</td>\n",
       "      <td>False</td>\n",
       "      <td>2</td>\n",
       "    </tr>\n",
       "  </tbody>\n",
       "</table>"
      ],
      "text/plain": [
       "Text(text='Kui sageli tuli sul kooli juhtkonna ees aru anda ?')"
      ]
     },
     "execution_count": 4,
     "metadata": {},
     "output_type": "execute_result"
    }
   ],
   "source": [
    "sentences[0]"
   ]
  },
  {
   "cell_type": "code",
   "execution_count": 15,
   "id": "83138aad",
   "metadata": {},
   "outputs": [
    {
     "data": {
      "text/plain": [
       "'sina'"
      ]
     },
     "execution_count": 15,
     "metadata": {},
     "output_type": "execute_result"
    }
   ],
   "source": [
    "sentences[0].v172_obl_phrases[0]['root']['lemma']"
   ]
  },
  {
   "cell_type": "code",
   "execution_count": 16,
   "id": "1d75aa2e",
   "metadata": {},
   "outputs": [],
   "source": [
    "verb_obl_phrases = []\n",
    "\n",
    "for text_object in sentences:\n",
    "    for ent in text_object.v172_obl_phrases:\n",
    "        obl_root = ent['root']\n",
    "        obl_root_id = ent['root_id']\n",
    "        obl_lemma = obl_root['lemma']\n",
    "        obl_form = obl_root.form[0]\n",
    "        current_head = text_object.head[obl_root_id - 1]\n",
    "        prev_head = obl_root_id\n",
    "\n",
    "        while current_head != 0:\n",
    "            prev_head = current_head\n",
    "            current_head = text_object.head[current_head - 1]\n",
    "\n",
    "        verb_lemma = text_object.v172_stanza_syntax.lemma[prev_head - 1]\n",
    "        verb_obl = [verb_lemma]\n",
    "\n",
    "        verb_comp = []\n",
    "        for w in text_object.v172_stanza_syntax:\n",
    "            if w.head == prev_head and 'compound' in w.deprel:\n",
    "                verb_comp.append(w.lemma)\n",
    "\n",
    "        verb_obl.extend(verb_comp)\n",
    "        verb_obl.extend([obl_lemma, obl_form])\n",
    "\n",
    "        verb_obl_phrases.append(verb_obl)"
   ]
  },
  {
   "cell_type": "code",
   "execution_count": 17,
   "id": "a916ed9c",
   "metadata": {},
   "outputs": [
    {
     "data": {
      "text/plain": [
       "70937"
      ]
     },
     "execution_count": 17,
     "metadata": {},
     "output_type": "execute_result"
    }
   ],
   "source": [
    "len(verb_obl_phrases)"
   ]
  },
  {
   "cell_type": "code",
   "execution_count": 18,
   "id": "0874efe5",
   "metadata": {},
   "outputs": [
    {
     "data": {
      "text/plain": [
       "[['tulema', 'sina', 'sg ad'],\n",
       " ['tulema', 'juhtkond', 'sg g'],\n",
       " ['toksima', 'sisse', 'pill', 'sg ad'],\n",
       " ['toksima', 'sisse', 'hommik', 'sg ad'],\n",
       " ['koos', 'hetk', 'sg el']]"
      ]
     },
     "execution_count": 18,
     "metadata": {},
     "output_type": "execute_result"
    }
   ],
   "source": [
    "verb_obl_phrases[:5]"
   ]
  },
  {
   "cell_type": "code",
   "execution_count": 19,
   "id": "78cb5b68",
   "metadata": {},
   "outputs": [],
   "source": [
    "lengths = [len(phrase) for phrase in verb_obl_phrases]"
   ]
  },
  {
   "cell_type": "code",
   "execution_count": 20,
   "id": "02e52111",
   "metadata": {},
   "outputs": [
    {
     "data": {
      "text/plain": [
       "Counter({3: 66205, 4: 4697, 5: 35})"
      ]
     },
     "execution_count": 20,
     "metadata": {},
     "output_type": "execute_result"
    }
   ],
   "source": [
    "Counter(lengths)"
   ]
  },
  {
   "cell_type": "code",
   "execution_count": 25,
   "id": "a8223c88",
   "metadata": {},
   "outputs": [],
   "source": [
    "final_phrases = []\n",
    "\n",
    "for phrase in verb_obl_phrases:\n",
    "    if len(phrase) == 3:\n",
    "        final_phrases.append(phrase[:1] + [None, None] + phrase[1:])\n",
    "    if len(phrase) == 4:\n",
    "        final_phrases.append(phrase[:2] + [None] + phrase[2:])\n",
    "    if len(phrase) == 5:\n",
    "        final_phrases.append(phrase)"
   ]
  },
  {
   "cell_type": "code",
   "execution_count": 26,
   "id": "784a0e68",
   "metadata": {},
   "outputs": [
    {
     "data": {
      "text/plain": [
       "[['tulema', None, None, 'sina', 'sg ad'],\n",
       " ['tulema', None, None, 'juhtkond', 'sg g'],\n",
       " ['toksima', 'sisse', None, 'pill', 'sg ad']]"
      ]
     },
     "execution_count": 26,
     "metadata": {},
     "output_type": "execute_result"
    }
   ],
   "source": [
    "final_phrases[:3]"
   ]
  },
  {
   "cell_type": "code",
   "execution_count": 27,
   "id": "dabfaeb2",
   "metadata": {},
   "outputs": [],
   "source": [
    "full_phrases_df = pd.DataFrame(final_phrases, columns=[\"verb\", \"compound1\", \"compound2\", \"obl\", \"obl_form\"])"
   ]
  },
  {
   "cell_type": "code",
   "execution_count": 30,
   "id": "3ed2e652",
   "metadata": {},
   "outputs": [
    {
     "data": {
      "text/html": [
       "<div>\n",
       "<style scoped>\n",
       "    .dataframe tbody tr th:only-of-type {\n",
       "        vertical-align: middle;\n",
       "    }\n",
       "\n",
       "    .dataframe tbody tr th {\n",
       "        vertical-align: top;\n",
       "    }\n",
       "\n",
       "    .dataframe thead th {\n",
       "        text-align: right;\n",
       "    }\n",
       "</style>\n",
       "<table border=\"1\" class=\"dataframe\">\n",
       "  <thead>\n",
       "    <tr style=\"text-align: right;\">\n",
       "      <th></th>\n",
       "      <th>verb</th>\n",
       "      <th>compound1</th>\n",
       "      <th>compound2</th>\n",
       "      <th>obl</th>\n",
       "      <th>obl_form</th>\n",
       "    </tr>\n",
       "  </thead>\n",
       "  <tbody>\n",
       "    <tr>\n",
       "      <th>0</th>\n",
       "      <td>tulema</td>\n",
       "      <td>None</td>\n",
       "      <td>None</td>\n",
       "      <td>sina</td>\n",
       "      <td>sg ad</td>\n",
       "    </tr>\n",
       "    <tr>\n",
       "      <th>1</th>\n",
       "      <td>tulema</td>\n",
       "      <td>None</td>\n",
       "      <td>None</td>\n",
       "      <td>juhtkond</td>\n",
       "      <td>sg g</td>\n",
       "    </tr>\n",
       "    <tr>\n",
       "      <th>2</th>\n",
       "      <td>toksima</td>\n",
       "      <td>sisse</td>\n",
       "      <td>None</td>\n",
       "      <td>pill</td>\n",
       "      <td>sg ad</td>\n",
       "    </tr>\n",
       "    <tr>\n",
       "      <th>3</th>\n",
       "      <td>toksima</td>\n",
       "      <td>sisse</td>\n",
       "      <td>None</td>\n",
       "      <td>hommik</td>\n",
       "      <td>sg ad</td>\n",
       "    </tr>\n",
       "    <tr>\n",
       "      <th>4</th>\n",
       "      <td>koos</td>\n",
       "      <td>None</td>\n",
       "      <td>None</td>\n",
       "      <td>hetk</td>\n",
       "      <td>sg el</td>\n",
       "    </tr>\n",
       "  </tbody>\n",
       "</table>\n",
       "</div>"
      ],
      "text/plain": [
       "      verb compound1 compound2       obl obl_form\n",
       "0   tulema      None      None      sina    sg ad\n",
       "1   tulema      None      None  juhtkond     sg g\n",
       "2  toksima     sisse      None      pill    sg ad\n",
       "3  toksima     sisse      None    hommik    sg ad\n",
       "4     koos      None      None      hetk    sg el"
      ]
     },
     "execution_count": 30,
     "metadata": {},
     "output_type": "execute_result"
    }
   ],
   "source": [
    "full_phrases_df.head()"
   ]
  },
  {
   "cell_type": "code",
   "execution_count": 31,
   "id": "f0dcb113",
   "metadata": {},
   "outputs": [],
   "source": [
    "final_phrases_in = [phrase for phrase in final_phrases if phrase[-1] in ['sg in', 'pl in']]"
   ]
  },
  {
   "cell_type": "code",
   "execution_count": 32,
   "id": "eda4ec20",
   "metadata": {},
   "outputs": [
    {
     "data": {
      "text/plain": [
       "(70937, 10698)"
      ]
     },
     "execution_count": 32,
     "metadata": {},
     "output_type": "execute_result"
    }
   ],
   "source": [
    "len(final_phrases), len(final_phrases_in)"
   ]
  },
  {
   "cell_type": "code",
   "execution_count": 33,
   "id": "8e753a8d",
   "metadata": {},
   "outputs": [
    {
     "data": {
      "text/plain": [
       "[['tõetera', None, None, 'see', 'sg in'],\n",
       " ['kandideerima', None, None, 'Tallinn', 'sg in'],\n",
       " ['kandideerima', None, None, 'nimekiri', 'sg in']]"
      ]
     },
     "execution_count": 33,
     "metadata": {},
     "output_type": "execute_result"
    }
   ],
   "source": [
    "final_phrases_in[:3]"
   ]
  },
  {
   "cell_type": "code",
   "execution_count": 34,
   "id": "b06a6df4",
   "metadata": {},
   "outputs": [],
   "source": [
    "full_phrases_in_df = pd.DataFrame(final_phrases_in, columns=[\"verb\", \"compound1\", \"compound2\", \"obl\", \"obl_form\"])"
   ]
  },
  {
   "cell_type": "code",
   "execution_count": 36,
   "id": "cbb8f344",
   "metadata": {},
   "outputs": [
    {
     "data": {
      "text/html": [
       "<div>\n",
       "<style scoped>\n",
       "    .dataframe tbody tr th:only-of-type {\n",
       "        vertical-align: middle;\n",
       "    }\n",
       "\n",
       "    .dataframe tbody tr th {\n",
       "        vertical-align: top;\n",
       "    }\n",
       "\n",
       "    .dataframe thead th {\n",
       "        text-align: right;\n",
       "    }\n",
       "</style>\n",
       "<table border=\"1\" class=\"dataframe\">\n",
       "  <thead>\n",
       "    <tr style=\"text-align: right;\">\n",
       "      <th></th>\n",
       "      <th>verb</th>\n",
       "      <th>compound1</th>\n",
       "      <th>compound2</th>\n",
       "      <th>obl</th>\n",
       "      <th>obl_form</th>\n",
       "    </tr>\n",
       "  </thead>\n",
       "  <tbody>\n",
       "    <tr>\n",
       "      <th>0</th>\n",
       "      <td>tõetera</td>\n",
       "      <td>None</td>\n",
       "      <td>None</td>\n",
       "      <td>see</td>\n",
       "      <td>sg in</td>\n",
       "    </tr>\n",
       "    <tr>\n",
       "      <th>1</th>\n",
       "      <td>kandideerima</td>\n",
       "      <td>None</td>\n",
       "      <td>None</td>\n",
       "      <td>Tallinn</td>\n",
       "      <td>sg in</td>\n",
       "    </tr>\n",
       "    <tr>\n",
       "      <th>2</th>\n",
       "      <td>kandideerima</td>\n",
       "      <td>None</td>\n",
       "      <td>None</td>\n",
       "      <td>nimekiri</td>\n",
       "      <td>sg in</td>\n",
       "    </tr>\n",
       "    <tr>\n",
       "      <th>3</th>\n",
       "      <td>ütlema</td>\n",
       "      <td>None</td>\n",
       "      <td>None</td>\n",
       "      <td>kodu</td>\n",
       "      <td>sg in</td>\n",
       "    </tr>\n",
       "    <tr>\n",
       "      <th>4</th>\n",
       "      <td>ütlema</td>\n",
       "      <td>None</td>\n",
       "      <td>None</td>\n",
       "      <td>veebruar</td>\n",
       "      <td>sg in</td>\n",
       "    </tr>\n",
       "  </tbody>\n",
       "</table>\n",
       "</div>"
      ],
      "text/plain": [
       "           verb compound1 compound2       obl obl_form\n",
       "0       tõetera      None      None       see    sg in\n",
       "1  kandideerima      None      None   Tallinn    sg in\n",
       "2  kandideerima      None      None  nimekiri    sg in\n",
       "3        ütlema      None      None      kodu    sg in\n",
       "4        ütlema      None      None  veebruar    sg in"
      ]
     },
     "execution_count": 36,
     "metadata": {},
     "output_type": "execute_result"
    }
   ],
   "source": [
    "full_phrases_in_df.head()"
   ]
  },
  {
   "cell_type": "code",
   "execution_count": 37,
   "id": "51c48760",
   "metadata": {},
   "outputs": [],
   "source": [
    "full_phrases_df.to_csv(\"full_phrases_df.csv\", index=False)\n",
    "full_phrases_in_df.to_csv(\"full_phrases_in_df.csv\", index=False)"
   ]
  }
 ],
 "metadata": {
  "kernelspec": {
   "display_name": "Python 3",
   "language": "python",
   "name": "python3"
  },
  "language_info": {
   "codemirror_mode": {
    "name": "ipython",
    "version": 3
   },
   "file_extension": ".py",
   "mimetype": "text/x-python",
   "name": "python",
   "nbconvert_exporter": "python",
   "pygments_lexer": "ipython3",
   "version": "3.6.13"
  }
 },
 "nbformat": 4,
 "nbformat_minor": 5
}
