{
 "cells": [
  {
   "cell_type": "markdown",
   "id": "4fe2495a",
   "metadata": {},
   "source": [
    "## Imports and fetching data"
   ]
  },
  {
   "cell_type": "code",
   "execution_count": 1,
   "id": "c20a3a72",
   "metadata": {},
   "outputs": [],
   "source": [
    "import sqlite3\n",
    "import numpy as np\n",
    "import pandas as pd\n",
    "from collections import defaultdict, Counter"
   ]
  },
  {
   "cell_type": "code",
   "execution_count": 2,
   "id": "bb518d8b",
   "metadata": {},
   "outputs": [],
   "source": [
    "conn = sqlite3.connect('verb_compound_advmod_collocations_20220505.db')\n",
    "cur = conn.cursor()"
   ]
  },
  {
   "cell_type": "code",
   "execution_count": 3,
   "id": "507109d5",
   "metadata": {},
   "outputs": [
    {
     "data": {
      "text/plain": [
       "[('collections_processed',), ('verb_advmod_extended_koondkorpus_base',)]"
      ]
     },
     "execution_count": 3,
     "metadata": {},
     "output_type": "execute_result"
    }
   ],
   "source": [
    "cur.execute('SELECT name FROM sqlite_master WHERE type=\"table\";')\n",
    "cur.fetchall()"
   ]
  },
  {
   "cell_type": "code",
   "execution_count": 4,
   "id": "b890dc1f",
   "metadata": {},
   "outputs": [],
   "source": [
    "cur.execute(\"SELECT * FROM verb_advmod_extended_koondkorpus_base;\")\n",
    "entries = cur.fetchall()"
   ]
  },
  {
   "cell_type": "code",
   "execution_count": 5,
   "id": "c13208e7",
   "metadata": {},
   "outputs": [
    {
     "data": {
      "text/plain": [
       "[('olema',\n",
       "  'V',\n",
       "  '',\n",
       "  '',\n",
       "  '',\n",
       "  '',\n",
       "  9449632,\n",
       "  'devilgirl_unes : ulluke tead see zum-zum on nii paha = (',\n",
       "  'zum_zum : aaaaaaaahh .... sina oledki see tama armuke',\n",
       "  'zum_zum : oled ka titta vä'),\n",
       " ('toimuma',\n",
       "  'V',\n",
       "  '',\n",
       "  '',\n",
       "  '',\n",
       "  '',\n",
       "  105688,\n",
       "  'sarah_14 : ok ja mis w2rk teil sin sis toimub ??',\n",
       "  'mari : mis toimub',\n",
       "  'Coolboy : mis toimub'),\n",
       " ('saama',\n",
       "  'V',\n",
       "  'pihta',\n",
       "  'D',\n",
       "  '',\n",
       "  '',\n",
       "  1307,\n",
       "  'Krissu : heheeeee ....... ei saa pihta millest jutt = jätke mu kaablid rahule',\n",
       "  'Sk8er-Girl : kuulge-eip saa poindile pihta millezt jutt ?',\n",
       "  'rose_eml : said pihta asjale ?')]"
      ]
     },
     "execution_count": 5,
     "metadata": {},
     "output_type": "execute_result"
    }
   ],
   "source": [
    "entries[:3]"
   ]
  },
  {
   "cell_type": "code",
   "execution_count": 6,
   "id": "5d1fd1fa",
   "metadata": {},
   "outputs": [
    {
     "data": {
      "text/plain": [
       "[(0, 'verb_lemma', 'text', 0, None, 0),\n",
       " (1, 'verb_pos', 'text', 0, None, 0),\n",
       " (2, 'compound_lemma', 'text', 0, None, 0),\n",
       " (3, 'compound_pos', 'text', 0, None, 0),\n",
       " (4, 'advmod_lemma', 'text', 0, None, 0),\n",
       " (5, 'advmod_pos', 'text', 0, None, 0),\n",
       " (6, 'total', 'integer', 0, None, 0),\n",
       " (7, 'example1', 'text', 0, None, 0),\n",
       " (8, 'example2', 'text', 0, None, 0),\n",
       " (9, 'example3', 'text', 0, None, 0)]"
      ]
     },
     "execution_count": 6,
     "metadata": {},
     "output_type": "execute_result"
    }
   ],
   "source": [
    "cur.execute('PRAGMA table_info(verb_advmod_extended_koondkorpus_base)')\n",
    "cur.fetchall()"
   ]
  },
  {
   "cell_type": "markdown",
   "id": "d4795020",
   "metadata": {},
   "source": [
    "## Word count"
   ]
  },
  {
   "cell_type": "markdown",
   "id": "9105ddc4",
   "metadata": {},
   "source": [
    "### Adverbs"
   ]
  },
  {
   "cell_type": "code",
   "execution_count": 7,
   "id": "63b5f356",
   "metadata": {},
   "outputs": [
    {
     "data": {
      "text/plain": [
       "('olema',\n",
       " 'V',\n",
       " '',\n",
       " '',\n",
       " '',\n",
       " '',\n",
       " 9449632,\n",
       " 'devilgirl_unes : ulluke tead see zum-zum on nii paha = (',\n",
       " 'zum_zum : aaaaaaaahh .... sina oledki see tama armuke',\n",
       " 'zum_zum : oled ka titta vä')"
      ]
     },
     "execution_count": 7,
     "metadata": {},
     "output_type": "execute_result"
    }
   ],
   "source": [
    "entries[0]"
   ]
  },
  {
   "cell_type": "code",
   "execution_count": 8,
   "id": "b88007b2",
   "metadata": {},
   "outputs": [
    {
     "data": {
      "text/plain": [
       "''"
      ]
     },
     "execution_count": 8,
     "metadata": {},
     "output_type": "execute_result"
    }
   ],
   "source": [
    "entries[0][4]"
   ]
  },
  {
   "cell_type": "code",
   "execution_count": 9,
   "id": "e350b573",
   "metadata": {},
   "outputs": [],
   "source": [
    "adverbs = [entry[4] for entry in entries]"
   ]
  },
  {
   "cell_type": "code",
   "execution_count": 10,
   "id": "31a5a0c7",
   "metadata": {},
   "outputs": [],
   "source": [
    "adverb_counts = Counter(adverbs)"
   ]
  },
  {
   "cell_type": "code",
   "execution_count": 11,
   "id": "85ad6934",
   "metadata": {},
   "outputs": [
    {
     "data": {
      "text/plain": [
       "[('', 64384),\n",
       " ('siis', 14220),\n",
       " ('ka', 8697),\n",
       " ('kas', 6656),\n",
       " ('nii', 6615),\n",
       " ('veel', 6317),\n",
       " ('juba', 6307),\n",
       " ('nüüd', 6130),\n",
       " ('küll', 5763),\n",
       " ('seal', 5476)]"
      ]
     },
     "execution_count": 11,
     "metadata": {},
     "output_type": "execute_result"
    }
   ],
   "source": [
    "adverb_counts.most_common(10)"
   ]
  },
  {
   "cell_type": "code",
   "execution_count": 12,
   "id": "570b7e9c",
   "metadata": {},
   "outputs": [
    {
     "data": {
      "text/plain": [
       "(1087318, 24021)"
      ]
     },
     "execution_count": 12,
     "metadata": {},
     "output_type": "execute_result"
    }
   ],
   "source": [
    "len(adverbs), len(adverb_counts)"
   ]
  },
  {
   "cell_type": "markdown",
   "id": "72bb8013",
   "metadata": {},
   "source": [
    "### Verbs"
   ]
  },
  {
   "cell_type": "code",
   "execution_count": 13,
   "id": "1e8a04f2",
   "metadata": {},
   "outputs": [],
   "source": [
    "verbs = [entry[0] for entry in entries]"
   ]
  },
  {
   "cell_type": "code",
   "execution_count": 14,
   "id": "d6cdbd7b",
   "metadata": {},
   "outputs": [],
   "source": [
    "verb_counts = Counter(verbs)"
   ]
  },
  {
   "cell_type": "code",
   "execution_count": 15,
   "id": "3a5dec42",
   "metadata": {},
   "outputs": [
    {
     "data": {
      "text/plain": [
       "[('saama', 11161),\n",
       " ('minema', 11117),\n",
       " ('võtma', 10050),\n",
       " ('tulema', 10014),\n",
       " ('olema', 9556),\n",
       " ('jääma', 9068),\n",
       " ('tegema', 8855),\n",
       " ('panema', 7995),\n",
       " ('käima', 6388),\n",
       " ('andma', 6345)]"
      ]
     },
     "execution_count": 15,
     "metadata": {},
     "output_type": "execute_result"
    }
   ],
   "source": [
    "verb_counts.most_common(10)"
   ]
  },
  {
   "cell_type": "code",
   "execution_count": 16,
   "id": "873d1c42",
   "metadata": {},
   "outputs": [
    {
     "data": {
      "text/plain": [
       "(1087318, 27610)"
      ]
     },
     "execution_count": 16,
     "metadata": {},
     "output_type": "execute_result"
    }
   ],
   "source": [
    "len(verbs), len(verb_counts)"
   ]
  },
  {
   "cell_type": "markdown",
   "id": "ea9cdbf2",
   "metadata": {},
   "source": [
    "## Verbs by adverb counts"
   ]
  },
  {
   "cell_type": "code",
   "execution_count": 17,
   "id": "390c1a79",
   "metadata": {},
   "outputs": [
    {
     "data": {
      "text/plain": [
       "('olema',\n",
       " 'V',\n",
       " '',\n",
       " '',\n",
       " '',\n",
       " '',\n",
       " 9449632,\n",
       " 'devilgirl_unes : ulluke tead see zum-zum on nii paha = (',\n",
       " 'zum_zum : aaaaaaaahh .... sina oledki see tama armuke',\n",
       " 'zum_zum : oled ka titta vä')"
      ]
     },
     "execution_count": 17,
     "metadata": {},
     "output_type": "execute_result"
    }
   ],
   "source": [
    "entries[0]"
   ]
  },
  {
   "cell_type": "code",
   "execution_count": 18,
   "id": "043ae537",
   "metadata": {},
   "outputs": [],
   "source": [
    "verb_adverb = defaultdict(lambda: defaultdict(int))\n",
    "verb_adverb_with_counts = defaultdict(lambda: defaultdict(int))\n",
    "\n",
    "for entry in entries:\n",
    "    verb, _, _, _, adverb, _, count, _, _, _ = entry\n",
    "    verb_adverb[verb][adverb] += 1\n",
    "    verb_adverb_with_counts[verb][adverb] += count"
   ]
  },
  {
   "cell_type": "code",
   "execution_count": 19,
   "id": "15dfc95a",
   "metadata": {},
   "outputs": [
    {
     "data": {
      "text/plain": [
       "[('saama', 11161),\n",
       " ('minema', 11117),\n",
       " ('võtma', 10050),\n",
       " ('tulema', 10014),\n",
       " ('olema', 9556)]"
      ]
     },
     "execution_count": 19,
     "metadata": {},
     "output_type": "execute_result"
    }
   ],
   "source": [
    "verb_counts.most_common(5)"
   ]
  },
  {
   "cell_type": "code",
   "execution_count": 20,
   "id": "9d6773e0",
   "metadata": {},
   "outputs": [
    {
     "data": {
      "text/plain": [
       "3876"
      ]
     },
     "execution_count": 20,
     "metadata": {},
     "output_type": "execute_result"
    }
   ],
   "source": [
    "len(verb_adverb[\"saama\"])"
   ]
  },
  {
   "cell_type": "code",
   "execution_count": 21,
   "id": "67ec26bb",
   "metadata": {},
   "outputs": [
    {
     "data": {
      "text/plain": [
       "3271"
      ]
     },
     "execution_count": 21,
     "metadata": {},
     "output_type": "execute_result"
    }
   ],
   "source": [
    "len(verb_adverb[\"minema\"])"
   ]
  },
  {
   "cell_type": "code",
   "execution_count": 22,
   "id": "adf9c446",
   "metadata": {},
   "outputs": [
    {
     "data": {
      "text/plain": [
       "3333"
      ]
     },
     "execution_count": 22,
     "metadata": {},
     "output_type": "execute_result"
    }
   ],
   "source": [
    "len(verb_adverb[\"võtma\"])"
   ]
  },
  {
   "cell_type": "markdown",
   "id": "bc65ba09",
   "metadata": {},
   "source": [
    "## Adverbs by verb counts"
   ]
  },
  {
   "cell_type": "code",
   "execution_count": 23,
   "id": "62ce8e90",
   "metadata": {},
   "outputs": [],
   "source": [
    "adverb_verb = defaultdict(lambda: defaultdict(int))\n",
    "adverb_verb_with_counts = defaultdict(lambda: defaultdict(int))\n",
    "\n",
    "for entry in entries:\n",
    "    verb, _, _, _, adverb, _, count, _, _, _ = entry\n",
    "    adverb_verb[adverb][verb] += 1\n",
    "    adverb_verb_with_counts[adverb][verb] += count"
   ]
  },
  {
   "cell_type": "code",
   "execution_count": 24,
   "id": "4e5c326a",
   "metadata": {},
   "outputs": [
    {
     "data": {
      "text/plain": [
       "[('', 64384), ('siis', 14220), ('ka', 8697), ('kas', 6656), ('nii', 6615)]"
      ]
     },
     "execution_count": 24,
     "metadata": {},
     "output_type": "execute_result"
    }
   ],
   "source": [
    "adverb_counts.most_common(5)"
   ]
  },
  {
   "cell_type": "code",
   "execution_count": 25,
   "id": "2c2c0781",
   "metadata": {},
   "outputs": [
    {
     "data": {
      "text/plain": [
       "4847"
      ]
     },
     "execution_count": 25,
     "metadata": {},
     "output_type": "execute_result"
    }
   ],
   "source": [
    "len(adverb_verb[\"siis\"])"
   ]
  },
  {
   "cell_type": "code",
   "execution_count": 26,
   "id": "350737b6",
   "metadata": {},
   "outputs": [
    {
     "data": {
      "text/plain": [
       "23150"
      ]
     },
     "execution_count": 26,
     "metadata": {},
     "output_type": "execute_result"
    }
   ],
   "source": [
    "len(adverb_verb[\"\"])"
   ]
  },
  {
   "cell_type": "code",
   "execution_count": 27,
   "id": "483a70ee",
   "metadata": {},
   "outputs": [
    {
     "data": {
      "text/plain": [
       "27610"
      ]
     },
     "execution_count": 27,
     "metadata": {},
     "output_type": "execute_result"
    }
   ],
   "source": [
    "len(verb_counts)"
   ]
  },
  {
   "cell_type": "code",
   "execution_count": 28,
   "id": "a579ceb8",
   "metadata": {},
   "outputs": [],
   "source": [
    "diff_verb_counts = []\n",
    "\n",
    "for adv, verbs in adverb_verb.items():\n",
    "    diff_verb_counts.append((adv, len(verbs)))"
   ]
  },
  {
   "cell_type": "code",
   "execution_count": 29,
   "id": "9ae6092d",
   "metadata": {},
   "outputs": [
    {
     "data": {
      "text/plain": [
       "[('', 23150), ('sageli', 1589), ('tihti', 1496)]"
      ]
     },
     "execution_count": 29,
     "metadata": {},
     "output_type": "execute_result"
    }
   ],
   "source": [
    "diff_verb_counts[:3]"
   ]
  },
  {
   "cell_type": "code",
   "execution_count": 30,
   "id": "7a56ee24",
   "metadata": {},
   "outputs": [
    {
     "data": {
      "text/plain": [
       "[('', 23150),\n",
       " ('siis', 4847),\n",
       " ('ka', 4387),\n",
       " ('kas', 3667),\n",
       " ('nii', 3615),\n",
       " ('veel', 3287),\n",
       " ('juba', 3216),\n",
       " ('siin', 3186),\n",
       " ('nüüd', 3183),\n",
       " ('küll', 3171)]"
      ]
     },
     "execution_count": 30,
     "metadata": {},
     "output_type": "execute_result"
    }
   ],
   "source": [
    "sorted(diff_verb_counts, key=lambda x: x[1], reverse=True)[:10]"
   ]
  },
  {
   "cell_type": "markdown",
   "id": "b2768428",
   "metadata": {},
   "source": [
    "## Kui palju verbid esinevad adverbidega\n",
    "\n",
    "  pr(verb & som adverb)  / pr(verb) skoor peaks olema suur\n",
    "  \n",
    "pr(verb & adverb) -> verbiga on koos mingi adverb, liida kokku kõik, kus on midagi ja siis jaga (verb ja adverb)/(verb ja adverb + verb ja ei ole adverbi)"
   ]
  },
  {
   "cell_type": "code",
   "execution_count": 31,
   "id": "8ca60970",
   "metadata": {},
   "outputs": [],
   "source": [
    "verb_scores = defaultdict(lambda: defaultdict(int))\n",
    "verbs_counts = defaultdict(int)\n",
    "\n",
    "for entry in entries:\n",
    "    verb, _, _, _, adverb, _, count, _, _, _ = entry\n",
    "    verbs_counts[verb] += count\n",
    "    if adverb == \"\":\n",
    "        verb_scores[verb][\"no adverb\"] += count\n",
    "    else:\n",
    "        verb_scores[verb][\"adverb\"] += count"
   ]
  },
  {
   "cell_type": "code",
   "execution_count": 32,
   "id": "2d8d9eb5",
   "metadata": {},
   "outputs": [],
   "source": [
    "all_verb_counts = sum(verbs_counts.values())"
   ]
  },
  {
   "cell_type": "code",
   "execution_count": 33,
   "id": "b9829931",
   "metadata": {},
   "outputs": [
    {
     "data": {
      "text/plain": [
       "45179127"
      ]
     },
     "execution_count": 33,
     "metadata": {},
     "output_type": "execute_result"
    }
   ],
   "source": [
    "all_verb_counts"
   ]
  },
  {
   "cell_type": "code",
   "execution_count": 34,
   "id": "26c28e0e",
   "metadata": {},
   "outputs": [],
   "source": [
    "verb_probabilities = {}\n",
    "\n",
    "for verb, value in verbs_counts.items():\n",
    "    verb_probabilities[verb] = value / all_verb_counts"
   ]
  },
  {
   "cell_type": "code",
   "execution_count": 35,
   "id": "11ba713a",
   "metadata": {},
   "outputs": [
    {
     "data": {
      "text/plain": [
       "0.21904057597217405"
      ]
     },
     "execution_count": 35,
     "metadata": {},
     "output_type": "execute_result"
    }
   ],
   "source": [
    "verb_probabilities[\"olema\"]"
   ]
  },
  {
   "cell_type": "code",
   "execution_count": 36,
   "id": "b0df1996",
   "metadata": {},
   "outputs": [
    {
     "data": {
      "text/plain": [
       "defaultdict(int, {'no adverb': 9602317, 'adverb': 293745})"
      ]
     },
     "execution_count": 36,
     "metadata": {},
     "output_type": "execute_result"
    }
   ],
   "source": [
    "verb_scores[\"olema\"]"
   ]
  },
  {
   "cell_type": "code",
   "execution_count": 37,
   "id": "57904d60",
   "metadata": {},
   "outputs": [
    {
     "data": {
      "text/plain": [
       "0.029683019366693538"
      ]
     },
     "execution_count": 37,
     "metadata": {},
     "output_type": "execute_result"
    }
   ],
   "source": [
    "293745 / (293745 + 9602317)"
   ]
  },
  {
   "cell_type": "code",
   "execution_count": 38,
   "id": "b00691fd",
   "metadata": {},
   "outputs": [],
   "source": [
    "scores_verbs = []\n",
    "\n",
    "for verb, value in verb_scores.items():\n",
    "    adv = value[\"adverb\"]\n",
    "    no_adv = value[\"no adverb\"]\n",
    "    score = adv / (adv + no_adv)\n",
    "    scores_verbs.append((verb, score))"
   ]
  },
  {
   "cell_type": "code",
   "execution_count": 39,
   "id": "c74ae6b1",
   "metadata": {},
   "outputs": [
    {
     "data": {
      "text/plain": [
       "[('mõtlen-rääkima', 1.0),\n",
       " ('joostavõimlema', 1.0),\n",
       " ('müüa-kinkida-pantida-vahetama', 1.0),\n",
       " ('otsis-ostma', 1.0),\n",
       " ('lendad-lendama', 1.0),\n",
       " ('suhelda-lavastama', 1.0),\n",
       " ('ostnud-müünud-vahetama', 1.0),\n",
       " ('coverdattima', 1.0),\n",
       " ('rippudes-rahmeldama', 1.0),\n",
       " ('hoitud-kaitsma', 1.0)]"
      ]
     },
     "execution_count": 39,
     "metadata": {},
     "output_type": "execute_result"
    }
   ],
   "source": [
    "sorted(scores_verbs, key=lambda x: x[1], reverse=True)[:10]"
   ]
  },
  {
   "cell_type": "code",
   "execution_count": 40,
   "id": "e0e63df0",
   "metadata": {},
   "outputs": [
    {
     "data": {
      "text/plain": [
       "defaultdict(int, {'adverb': 2, 'no adverb': 0})"
      ]
     },
     "execution_count": 40,
     "metadata": {},
     "output_type": "execute_result"
    }
   ],
   "source": [
    "verb_scores[\"mõtlen-rääkima\"]"
   ]
  },
  {
   "cell_type": "markdown",
   "id": "9bbffdc5",
   "metadata": {},
   "source": [
    "## Cleaning the data"
   ]
  },
  {
   "cell_type": "code",
   "execution_count": 41,
   "id": "71f231d9",
   "metadata": {},
   "outputs": [
    {
     "data": {
      "text/plain": [
       "9896062"
      ]
     },
     "execution_count": 41,
     "metadata": {},
     "output_type": "execute_result"
    }
   ],
   "source": [
    "verbs_counts[\"olema\"]"
   ]
  },
  {
   "cell_type": "code",
   "execution_count": 42,
   "id": "8cdfc23a",
   "metadata": {},
   "outputs": [
    {
     "data": {
      "text/plain": [
       "2"
      ]
     },
     "execution_count": 42,
     "metadata": {},
     "output_type": "execute_result"
    }
   ],
   "source": [
    "verbs_counts[\"mõtlen-rääkima\"]"
   ]
  },
  {
   "cell_type": "code",
   "execution_count": 43,
   "id": "4bb3310b",
   "metadata": {},
   "outputs": [
    {
     "data": {
      "text/plain": [
       "64384"
      ]
     },
     "execution_count": 43,
     "metadata": {},
     "output_type": "execute_result"
    }
   ],
   "source": [
    "adverb_counts[\"\"]"
   ]
  },
  {
   "cell_type": "code",
   "execution_count": 44,
   "id": "d60884be",
   "metadata": {},
   "outputs": [],
   "source": [
    "adverbs_counts = defaultdict(int)\n",
    "\n",
    "for entry in entries:\n",
    "    _, _, _, _, adverb, _, count, _, _, _ = entry\n",
    "    adverbs_counts[adverb] += count"
   ]
  },
  {
   "cell_type": "code",
   "execution_count": 45,
   "id": "2afe8f33",
   "metadata": {},
   "outputs": [
    {
     "data": {
      "text/plain": [
       "36025026"
      ]
     },
     "execution_count": 45,
     "metadata": {},
     "output_type": "execute_result"
    }
   ],
   "source": [
    "adverbs_counts[\"\"]"
   ]
  },
  {
   "cell_type": "code",
   "execution_count": 46,
   "id": "c690d571",
   "metadata": {},
   "outputs": [
    {
     "data": {
      "text/plain": [
       "1"
      ]
     },
     "execution_count": 46,
     "metadata": {},
     "output_type": "execute_result"
    }
   ],
   "source": [
    "adverbs_counts[\"kümnetekaupa\"]"
   ]
  },
  {
   "cell_type": "markdown",
   "id": "1a84e96e",
   "metadata": {},
   "source": [
    "Vaata mis märgend sõnadel on (mingist varasemast data_preprocessing failist saab vaadata, kuidas seda teha) ja eemalda kui ei ole verb, also eemalda kõik, mille verbs_counts väärtus on < 10 (?)"
   ]
  },
  {
   "cell_type": "code",
   "execution_count": 47,
   "id": "2f4aa9a3",
   "metadata": {},
   "outputs": [],
   "source": [
    "from estnltk.vabamorf.morf import Vabamorf"
   ]
  },
  {
   "cell_type": "code",
   "execution_count": 74,
   "id": "5510db7b",
   "metadata": {},
   "outputs": [],
   "source": [
    "vm = Vabamorf()"
   ]
  },
  {
   "cell_type": "code",
   "execution_count": 75,
   "id": "df73e108",
   "metadata": {},
   "outputs": [
    {
     "data": {
      "text/plain": [
       "27610"
      ]
     },
     "execution_count": 75,
     "metadata": {},
     "output_type": "execute_result"
    }
   ],
   "source": [
    "len(list(verbs_counts.keys()))"
   ]
  },
  {
   "cell_type": "code",
   "execution_count": 76,
   "id": "7af60bc2",
   "metadata": {},
   "outputs": [],
   "source": [
    "vm_analysis = vm.analyze(list(verbs_counts.keys()), guess=False)"
   ]
  },
  {
   "cell_type": "code",
   "execution_count": 77,
   "id": "8e70480b",
   "metadata": {},
   "outputs": [],
   "source": [
    "non_verbs = []\n",
    "non_verbs_analysis = []\n",
    "disamb_non_verbs = []\n",
    "disamb_non_verbs_analysis = []\n",
    "disamb_verbs = []\n",
    "disamb_verbs_analysis = []\n",
    "\n",
    "for analysis in vm_analysis:\n",
    "    if len(analysis[\"analysis\"]) == 1:\n",
    "        if analysis[\"analysis\"][0][\"partofspeech\"] != \"V\":\n",
    "            non_verbs.append(analysis[\"text\"])\n",
    "            non_verbs_analysis.append(analysis)\n",
    "    else:\n",
    "        word_postags = [an[\"partofspeech\"] for an in analysis[\"analysis\"]]\n",
    "        if \"V\" in word_postags:\n",
    "            disamb_verbs.append(analysis[\"text\"])\n",
    "            disamb_verbs_analysis.append(analysis)\n",
    "        else:\n",
    "            disamb_non_verbs.append(analysis[\"text\"])\n",
    "            disamb_non_verbs_analysis.append(analysis)"
   ]
  },
  {
   "cell_type": "code",
   "execution_count": 78,
   "id": "90be859c",
   "metadata": {},
   "outputs": [
    {
     "data": {
      "text/plain": [
       "(7632, 1, 621)"
      ]
     },
     "execution_count": 78,
     "metadata": {},
     "output_type": "execute_result"
    }
   ],
   "source": [
    "len(non_verbs), len(disamb_non_verbs), len(disamb_verbs)"
   ]
  },
  {
   "cell_type": "code",
   "execution_count": 79,
   "id": "50dde125",
   "metadata": {},
   "outputs": [
    {
     "data": {
      "text/plain": [
       "['julgema',\n",
       " 'anuma',\n",
       " 'ära',\n",
       " 'looma',\n",
       " 'kohmetuma',\n",
       " 'pahvima',\n",
       " 'vahetuma',\n",
       " 'küpsema',\n",
       " 'peetuma',\n",
       " 'kärtsuma']"
      ]
     },
     "execution_count": 79,
     "metadata": {},
     "output_type": "execute_result"
    }
   ],
   "source": [
    "non_verbs[:10]"
   ]
  },
  {
   "cell_type": "code",
   "execution_count": 80,
   "id": "0eac5d54",
   "metadata": {},
   "outputs": [],
   "source": [
    "vm_analysis_adv = vm.analyze(list(adverb_verb.keys()), guess=False)"
   ]
  },
  {
   "cell_type": "code",
   "execution_count": 81,
   "id": "7d5911ce",
   "metadata": {},
   "outputs": [],
   "source": [
    "non_adverbs = []\n",
    "non_adverbs_analysis = []\n",
    "disamb_non_adverbs = []\n",
    "disamb_non_adverbs_analysis = []\n",
    "disamb_adverbs = []\n",
    "disamb_adverbs_analysis = []\n",
    "\n",
    "for analysis in vm_analysis_adv:\n",
    "    if len(analysis[\"analysis\"]) == 1:\n",
    "        if analysis[\"analysis\"][0][\"partofspeech\"] != \"D\":\n",
    "            non_adverbs.append(analysis[\"text\"])\n",
    "            non_adverbs_analysis.append(analysis)\n",
    "    else:\n",
    "        word_postags = [an[\"partofspeech\"] for an in analysis[\"analysis\"]]\n",
    "        if \"D\" in word_postags:\n",
    "            disamb_adverbs.append(analysis[\"text\"])\n",
    "            disamb_adverbs_analysis.append(analysis)\n",
    "        else:\n",
    "            disamb_non_adverbs.append(analysis[\"text\"])\n",
    "            disamb_non_adverbs_analysis.append(analysis)"
   ]
  },
  {
   "cell_type": "code",
   "execution_count": 82,
   "id": "e4d93e1f",
   "metadata": {},
   "outputs": [
    {
     "data": {
      "text/plain": [
       "(918, 84, 7)"
      ]
     },
     "execution_count": 82,
     "metadata": {},
     "output_type": "execute_result"
    }
   ],
   "source": [
    "len(non_adverbs), len(disamb_non_adverbs), len(disamb_adverbs)"
   ]
  },
  {
   "cell_type": "code",
   "execution_count": 83,
   "id": "a715c06a",
   "metadata": {},
   "outputs": [
    {
     "data": {
      "text/plain": [
       "['',\n",
       " 'aga',\n",
       " 'vahel',\n",
       " 'ega',\n",
       " 'parata',\n",
       " 'kihla',\n",
       " 'väärt',\n",
       " 'ei',\n",
       " 'mahti',\n",
       " 'pärast']"
      ]
     },
     "execution_count": 83,
     "metadata": {},
     "output_type": "execute_result"
    }
   ],
   "source": [
    "non_adverbs[:10]"
   ]
  },
  {
   "cell_type": "code",
   "execution_count": 84,
   "id": "f2a2a48e",
   "metadata": {},
   "outputs": [
    {
     "name": "stdout",
     "output_type": "stream",
     "text": [
      "('olema', 'V', '', '', '', '', 9449632, 'devilgirl_unes : ulluke tead see zum-zum on nii paha = (', 'zum_zum : aaaaaaaahh .... sina oledki see tama armuke', 'zum_zum : oled ka titta vä')\n"
     ]
    }
   ],
   "source": [
    "print(entries[0])"
   ]
  },
  {
   "cell_type": "code",
   "execution_count": 85,
   "id": "2794c913",
   "metadata": {},
   "outputs": [
    {
     "data": {
      "text/plain": [
       "1087318"
      ]
     },
     "execution_count": 85,
     "metadata": {},
     "output_type": "execute_result"
    }
   ],
   "source": [
    "len(entries)"
   ]
  },
  {
   "cell_type": "code",
   "execution_count": 86,
   "id": "0e185663",
   "metadata": {},
   "outputs": [],
   "source": [
    "entries_to_keep = []\n",
    "\n",
    "for entry in entries:\n",
    "    verb = entry[0]\n",
    "    adv = entry[4]\n",
    "    if verbs_counts[verb] >= 20 and adverbs_counts[adv] >= 20:\n",
    "        if verb not in non_verbs and (adv not in non_adverbs or adv == \"\"):\n",
    "            entries_to_keep.append(entry)"
   ]
  },
  {
   "cell_type": "code",
   "execution_count": 87,
   "id": "478d8f38",
   "metadata": {},
   "outputs": [
    {
     "data": {
      "text/plain": [
       "975137"
      ]
     },
     "execution_count": 87,
     "metadata": {},
     "output_type": "execute_result"
    }
   ],
   "source": [
    "len(entries_to_keep)"
   ]
  },
  {
   "cell_type": "markdown",
   "id": "104c510c",
   "metadata": {},
   "source": [
    "## Kui palju verbid esinevad adverbidega\n",
    "\n",
    "  pr(verb & som adverb)  / pr(verb) skoor peaks olema suur\n",
    "  \n",
    "pr(verb & adverb) -> verbiga on koos mingi adverb, liida kokku kõik, kus on midagi ja siis jaga (verb ja adverb)/(verb ja adverb + verb ja ei ole adverbi)"
   ]
  },
  {
   "cell_type": "code",
   "execution_count": 88,
   "id": "16ab0a7b",
   "metadata": {},
   "outputs": [],
   "source": [
    "verb_scores = defaultdict(lambda: defaultdict(int))\n",
    "verbs_counts = defaultdict(int)\n",
    "\n",
    "for entry in entries_to_keep:\n",
    "    verb, _, _, _, adverb, _, count, _, _, _ = entry\n",
    "    verbs_counts[verb] += count\n",
    "    if adverb == \"\":\n",
    "        verb_scores[verb][\"no adverb\"] += count\n",
    "    else:\n",
    "        verb_scores[verb][\"adverb\"] += count"
   ]
  },
  {
   "cell_type": "code",
   "execution_count": 89,
   "id": "ef780a38",
   "metadata": {},
   "outputs": [],
   "source": [
    "all_verb_counts = sum(verbs_counts.values())"
   ]
  },
  {
   "cell_type": "code",
   "execution_count": 90,
   "id": "9253f231",
   "metadata": {},
   "outputs": [
    {
     "data": {
      "text/plain": [
       "44628989"
      ]
     },
     "execution_count": 90,
     "metadata": {},
     "output_type": "execute_result"
    }
   ],
   "source": [
    "all_verb_counts"
   ]
  },
  {
   "cell_type": "code",
   "execution_count": 91,
   "id": "d4ccd43e",
   "metadata": {},
   "outputs": [],
   "source": [
    "verb_probabilities = {}\n",
    "\n",
    "for verb, value in verbs_counts.items():\n",
    "    verb_probabilities[verb] = value / all_verb_counts"
   ]
  },
  {
   "cell_type": "code",
   "execution_count": 92,
   "id": "d659afd2",
   "metadata": {},
   "outputs": [
    {
     "data": {
      "text/plain": [
       "0.221474611490751"
      ]
     },
     "execution_count": 92,
     "metadata": {},
     "output_type": "execute_result"
    }
   ],
   "source": [
    "verb_probabilities[\"olema\"]"
   ]
  },
  {
   "cell_type": "code",
   "execution_count": 93,
   "id": "85e69e94",
   "metadata": {},
   "outputs": [
    {
     "data": {
      "text/plain": [
       "defaultdict(int, {'no adverb': 9602317, 'adverb': 281871})"
      ]
     },
     "execution_count": 93,
     "metadata": {},
     "output_type": "execute_result"
    }
   ],
   "source": [
    "verb_scores[\"olema\"]"
   ]
  },
  {
   "cell_type": "code",
   "execution_count": 94,
   "id": "d681c11f",
   "metadata": {},
   "outputs": [],
   "source": [
    "scores_verbs = []\n",
    "\n",
    "for verb, value in verb_scores.items():\n",
    "    adv = value[\"adverb\"]\n",
    "    no_adv = value[\"no adverb\"]\n",
    "    score = adv / (adv + no_adv)\n",
    "    scores_verbs.append((verb, score))"
   ]
  },
  {
   "cell_type": "code",
   "execution_count": 95,
   "id": "3f592f04",
   "metadata": {},
   "outputs": [
    {
     "data": {
      "text/plain": [
       "[('winnuma', 1.0),\n",
       " ('meelestama', 0.9341275402943238),\n",
       " ('vinnuma', 0.9122807017543859),\n",
       " ('räägitud-kirjutama', 0.9),\n",
       " ('nurmaalnema', 0.9),\n",
       " ('runema', 0.88),\n",
       " ('läbuma', 0.7910447761194029),\n",
       " ('joudnuma', 0.7741935483870968),\n",
       " ('möjuma', 0.7727272727272727),\n",
       " ('koteerima', 0.7682926829268293),\n",
       " ('joodima', 0.7307692307692307),\n",
       " ('j6udnuma', 0.725),\n",
       " ('talitama', 0.7248368258330471),\n",
       " ('k2ituma', 0.72),\n",
       " ('muundama', 0.7090719499478624),\n",
       " ('icitama', 0.7027027027027027),\n",
       " ('üttlema', 0.696969696969697),\n",
       " ('kumerduma', 0.6842105263157895),\n",
       " ('suunitlema', 0.6829268292682927),\n",
       " ('pangestuma', 0.68),\n",
       " ('tõestuma', 0.6756756756756757),\n",
       " ('töllerdama', 0.6737588652482269),\n",
       " ('suhtuma', 0.6732404090967937),\n",
       " ('käituma', 0.6707726202994342),\n",
       " ('ühestama', 0.6666666666666666)]"
      ]
     },
     "execution_count": 95,
     "metadata": {},
     "output_type": "execute_result"
    }
   ],
   "source": [
    "sorted(scores_verbs, key=lambda x: x[1], reverse=True)[:25]"
   ]
  },
  {
   "cell_type": "code",
   "execution_count": 96,
   "id": "ca87a940",
   "metadata": {},
   "outputs": [
    {
     "data": {
      "text/plain": [
       "defaultdict(int, {'no adverb': 6575, 'adverb': 13396})"
      ]
     },
     "execution_count": 96,
     "metadata": {},
     "output_type": "execute_result"
    }
   ],
   "source": [
    "verb_scores[\"käituma\"]"
   ]
  },
  {
   "cell_type": "code",
   "execution_count": 97,
   "id": "e453c96c",
   "metadata": {},
   "outputs": [
    {
     "data": {
      "text/plain": [
       "[('rudima', 0.029411764705882353),\n",
       " ('olema', 0.02851736531114139),\n",
       " ('põnnama', 0.02666666666666667),\n",
       " ('pipettima', 0.022727272727272728),\n",
       " ('surra-murdma', 0.02197802197802198),\n",
       " ('viirama', 0.011023622047244094),\n",
       " ('k6tu-valutama', 0.008264462809917356),\n",
       " ('tohtima', 0.008254193662909382),\n",
       " ('neimama', 0.005),\n",
       " ('võima', 0.004072675726143907),\n",
       " ('ei', 0.00015293677394282454),\n",
       " ('ibima', 0.0),\n",
       " ('teppima', 0.0),\n",
       " ('urama', 0.0),\n",
       " ('kangestama', 0.0),\n",
       " ('nihvama', 0.0),\n",
       " ('ohnema', 0.0),\n",
       " ('användama', 0.0),\n",
       " ('limitama', 0.0),\n",
       " ('ecuma', 0.0),\n",
       " ('devilgirls6bratama', 0.0),\n",
       " ('kiizuma', 0.0),\n",
       " ('krikskokkama', 0.0),\n",
       " ('hottama', 0.0),\n",
       " ('celakylmetama', 0.0)]"
      ]
     },
     "execution_count": 97,
     "metadata": {},
     "output_type": "execute_result"
    }
   ],
   "source": [
    "sorted(scores_verbs, key=lambda x: x[1], reverse=True)[-25:]"
   ]
  },
  {
   "cell_type": "markdown",
   "id": "224d3d0e",
   "metadata": {},
   "source": [
    "## Adverbs by number of verbs"
   ]
  },
  {
   "cell_type": "code",
   "execution_count": 98,
   "id": "142a0ee1",
   "metadata": {},
   "outputs": [],
   "source": [
    "adverb_verb = defaultdict(lambda: defaultdict(int))\n",
    "adverb_verb_with_counts = defaultdict(lambda: defaultdict(int))\n",
    "adverb_verb_set = defaultdict(set)\n",
    "\n",
    "for entry in entries:\n",
    "    verb, _, _, _, adverb, _, count, _, _, _ = entry\n",
    "    adverb_verb[adverb][verb] += 1\n",
    "    adverb_verb_with_counts[adverb][verb] += count\n",
    "    adverb_verb_set[adverb].add(verb)"
   ]
  },
  {
   "cell_type": "code",
   "execution_count": 99,
   "id": "786dc50c",
   "metadata": {},
   "outputs": [],
   "source": [
    "adverb_verb_counts = [(adv, len(v)) for adv, v in adverb_verb_set.items()]"
   ]
  },
  {
   "cell_type": "code",
   "execution_count": 100,
   "id": "97e81e33",
   "metadata": {},
   "outputs": [
    {
     "data": {
      "text/plain": [
       "[('', 23150),\n",
       " ('siis', 4847),\n",
       " ('ka', 4387),\n",
       " ('kas', 3667),\n",
       " ('nii', 3615),\n",
       " ('veel', 3287),\n",
       " ('juba', 3216),\n",
       " ('siin', 3186),\n",
       " ('nüüd', 3183),\n",
       " ('küll', 3171),\n",
       " ('seal', 3162),\n",
       " ('ju', 3061),\n",
       " ('enam', 2999),\n",
       " ('ikka', 2953),\n",
       " ('aga', 2661),\n",
       " ('rohkem', 2603),\n",
       " ('praegu', 2588),\n",
       " ('lihtsalt', 2586),\n",
       " ('mitte', 2435),\n",
       " ('samuti', 2342),\n",
       " ('kohe', 2317),\n",
       " ('siiski', 2294),\n",
       " ('hiljem', 2252),\n",
       " ('palju', 2162),\n",
       " ('jälle', 2159)]"
      ]
     },
     "execution_count": 100,
     "metadata": {},
     "output_type": "execute_result"
    }
   ],
   "source": [
    "sorted(adverb_verb_counts, key=lambda x: x[1], reverse=True)[:25]"
   ]
  },
  {
   "cell_type": "code",
   "execution_count": 101,
   "id": "28ae545e",
   "metadata": {},
   "outputs": [
    {
     "name": "stdout",
     "output_type": "stream",
     "text": [
      "siiani 1276\n",
      "seni 1809\n",
      "tänini 473\n",
      "paremini 1145\n",
      "tänaseni 648\n",
      "siiamaani 739\n",
      "kiiremini 929\n",
      "sinnamaani 140\n",
      "meelsamini 271\n",
      "halvemini 180\n",
      "kõvemini 176\n",
      "sinnani 105\n",
      "koguni 902\n",
      "senini 594\n",
      "segamini 201\n",
      "kõrini 42\n",
      "pärani 53\n",
      "ilusamini 42\n",
      "kergemini 378\n",
      "kõrgemini 11\n",
      "senimaani 207\n",
      "üleni 249\n",
      "viimseni 173\n",
      "kindlamini 132\n",
      "rutemini 21\n",
      "jänni 11\n",
      "lihtsamini 116\n",
      "sagedamini 739\n",
      "harvemini 190\n",
      "tihemini 134\n",
      "kehvemini 126\n",
      "seniajani 297\n",
      "tugevamini 224\n",
      "tihedamini 269\n",
      "selgemini 145\n",
      "õigemini 529\n",
      "hullemini 178\n",
      "pilgeni 58\n",
      "hõlpsamini 109\n",
      "tasemini 18\n",
      "valjemini 79\n",
      "kenamini 9\n",
      "valusamini 28\n",
      "nõrgemini 43\n",
      "üksipäini 141\n",
      "nobedamini 33\n",
      "täpsemini 203\n",
      "pigemini 65\n",
      "teravamini 23\n",
      "julgemini 83\n",
      "targemini 35\n",
      "kinni 25\n",
      "ühe-kuni 1\n",
      "raskemini 70\n",
      "viletsamini 20\n",
      "hiljemini 8\n",
      "pikemini 3\n",
      "mugavamini 7\n",
      "ennemini 79\n",
      "kauemini 11\n",
      "hambuni 19\n",
      "kuhumaani 21\n",
      "sirgemini 1\n",
      "etemini 27\n",
      "odavamini 17\n",
      "mõnusamini 2\n",
      "rängemini 22\n",
      "aktiivsemini 3\n",
      "rangemini 11\n",
      "ägedamini 4\n",
      "kainemini 1\n",
      "läbini 24\n",
      "täbaramini 2\n",
      "hapramini 1\n",
      "lahti-kinni 10\n",
      "karmimini 1\n",
      "pehmemini 2\n",
      "heledamini 1\n",
      "aeglasemini 23\n",
      "põnni 12\n",
      "kurvemini 4\n",
      "hõredamini 2\n",
      "vinni 27\n",
      "sandimini 2\n",
      "hoolsamini 27\n",
      "hirmsamini 6\n",
      "sügavamini 11\n",
      "libedamini 2\n",
      "nigelamini 2\n",
      "otsemini 9\n",
      "varemini 8\n",
      "kärmemini 6\n",
      "lahedamini 6\n",
      "suuremini 2\n",
      "ladusamini 4\n",
      "ajalugu-seni 1\n",
      "uhkemini 12\n",
      "kangemini 1\n",
      "kavalamini 2\n",
      "ärksamini 1\n",
      "kiiremini-kiiremini 1\n",
      "aegsamini 4\n",
      "järeldu-seni 1\n",
      "kallimini 1\n",
      "kaunimini 3\n",
      "haledamini 1\n",
      "poolkinni 8\n",
      "tõhusamini 7\n",
      "sagedasemini 2\n",
      "võimsamini 9\n",
      "jõudsamini 10\n",
      "vahvamini 3\n",
      "rõõmsamini 2\n",
      "väledamini 5\n",
      "leebemini 2\n",
      "madalamini 1\n",
      "magusamini 2\n",
      "palavamini 1\n",
      "tabavamini 1\n",
      "lõdvemini 2\n",
      "usinamini 6\n",
      "intensiivsemini 1\n",
      "paremini-halvemini 1\n",
      "elavamini 1\n",
      "hulgani 2\n",
      "ühendu-seni 1\n",
      "räbalamini 1\n",
      "vaesemini 1\n",
      "hoogsamini 5\n",
      "ehtsamini 3\n",
      "peenemini 1\n",
      "läbisegamini 4\n",
      "lahkemini 3\n",
      "tihkemini 3\n",
      "piripardani 2\n",
      "sitemini 6\n",
      "virgemini 1\n",
      "osavamini 3\n",
      "ehedamini 1\n",
      "hääd-paremini 1\n",
      "elusamini 1\n",
      "vingemini 1\n",
      "lollimini 2\n",
      "arusaami-seni 1\n",
      "tumedamini 1\n",
      "käbedamini 3\n",
      "kurjemini 3\n",
      "eredamini 3\n",
      "nägusamini 1\n",
      "lõbusamini 1\n",
      "ebamugavamini 1\n",
      "nirumini 1\n",
      "terveni 5\n",
      "vähemilusamini 1\n",
      "kuumemini 1\n",
      "ilmsemini 1\n",
      "nokk-lahti-saba-kinni 1\n",
      "puhtamini 1\n",
      "rumalamini 2\n",
      "ohtramini 2\n",
      "pahemini 1\n",
      "hellemini 1\n",
      "tegusamini 1\n",
      "plikat-põnni 1\n",
      "nadimini 1\n",
      "vaiksemini 3\n",
      "stabiilsemini 1\n",
      "jõukamini 1\n",
      "punni 2\n",
      "Ander-seni 1\n",
      "nukramini 2\n",
      "agaramini 1\n",
      "paksemini 1\n",
      "värskemini 1\n",
      "soravamini 1\n",
      "toredamini 1\n",
      "mustemini 1\n",
      "Thorkild-seni 1\n",
      "kaotada-segamini 1\n",
      "kabedamini 1\n",
      "õrnemini 1\n",
      "õhemini 1\n",
      "halvemini-paremini 1\n",
      "masendavamini 1\n",
      "käima-tirima-käes-kinni 1\n",
      "kinni-lahti-kinni 1\n",
      "22punni 1\n",
      "30-seni 1\n",
      "huvitavamini 1\n",
      "koledamini 2\n",
      "pane-siiamaani 1\n",
      "laiemini 1\n",
      "veidramini 1\n",
      "räigemini 1\n",
      "oli-siiani 1\n",
      "5punni 1\n",
      "silmad-poolkinni 1\n",
      "jäigemini 1\n",
      "oimaolenkinni 1\n",
      "padin2oskinni 2\n",
      "Shania-Jenniferkinni 6\n",
      "kiisukaazkinni 20\n"
     ]
    }
   ],
   "source": [
    "for a, c in adverb_verb_counts:\n",
    "    if a[-2:] == \"ni\":\n",
    "        print(a, c)"
   ]
  },
  {
   "cell_type": "markdown",
   "id": "3e9c6e86",
   "metadata": {},
   "source": [
    "## Test"
   ]
  },
  {
   "cell_type": "code",
   "execution_count": 102,
   "id": "e1b7ac5a",
   "metadata": {},
   "outputs": [],
   "source": [
    "from estnltk import Text"
   ]
  },
  {
   "cell_type": "code",
   "execution_count": 103,
   "id": "e8f732d1",
   "metadata": {},
   "outputs": [
    {
     "data": {
      "text/plain": [
       "['', '', '', '', '', '', '', '', '', '']"
      ]
     },
     "execution_count": 103,
     "metadata": {},
     "output_type": "execute_result"
    }
   ],
   "source": [
    "adverbs[:10]"
   ]
  },
  {
   "cell_type": "code",
   "execution_count": 104,
   "id": "7368dcea",
   "metadata": {},
   "outputs": [],
   "source": [
    "singular_adverbs = list(set(adverbs))"
   ]
  },
  {
   "cell_type": "code",
   "execution_count": 105,
   "id": "4a1b36c5",
   "metadata": {},
   "outputs": [],
   "source": [
    "t = Text(singular_adverbs[1])"
   ]
  },
  {
   "cell_type": "code",
   "execution_count": 106,
   "id": "52cb2f42",
   "metadata": {},
   "outputs": [
    {
     "data": {
      "text/html": [
       "<table border=\"1\" class=\"dataframe\">\n",
       "  <thead>\n",
       "    <tr style=\"text-align: right;\">\n",
       "      <th>text</th>\n",
       "    </tr>\n",
       "  </thead>\n",
       "  <tbody>\n",
       "    <tr>\n",
       "      <td><div align = \"left\">sooliselt</div></td>\n",
       "    </tr>\n",
       "  </tbody>\n",
       "</table>\n",
       "<table border=\"1\" class=\"dataframe\">\n",
       "  <thead>\n",
       "    <tr style=\"text-align: right;\">\n",
       "      <th>layer name</th>\n",
       "      <th>attributes</th>\n",
       "      <th>parent</th>\n",
       "      <th>enveloping</th>\n",
       "      <th>ambiguous</th>\n",
       "      <th>span count</th>\n",
       "    </tr>\n",
       "  </thead>\n",
       "  <tbody>\n",
       "    <tr>\n",
       "      <td>sentences</td>\n",
       "      <td></td>\n",
       "      <td>None</td>\n",
       "      <td>words</td>\n",
       "      <td>False</td>\n",
       "      <td>1</td>\n",
       "    </tr>\n",
       "    <tr>\n",
       "      <td>tokens</td>\n",
       "      <td></td>\n",
       "      <td>None</td>\n",
       "      <td>None</td>\n",
       "      <td>False</td>\n",
       "      <td>1</td>\n",
       "    </tr>\n",
       "    <tr>\n",
       "      <td>compound_tokens</td>\n",
       "      <td>type, normalized</td>\n",
       "      <td>None</td>\n",
       "      <td>tokens</td>\n",
       "      <td>False</td>\n",
       "      <td>0</td>\n",
       "    </tr>\n",
       "    <tr>\n",
       "      <td>words</td>\n",
       "      <td>normalized_form</td>\n",
       "      <td>None</td>\n",
       "      <td>None</td>\n",
       "      <td>True</td>\n",
       "      <td>1</td>\n",
       "    </tr>\n",
       "    <tr>\n",
       "      <td>morph_analysis</td>\n",
       "      <td>normalized_text, lemma, root, root_tokens, ending, clitic, form, partofspeech</td>\n",
       "      <td>words</td>\n",
       "      <td>None</td>\n",
       "      <td>True</td>\n",
       "      <td>1</td>\n",
       "    </tr>\n",
       "  </tbody>\n",
       "</table>"
      ],
      "text/plain": [
       "Text(text='sooliselt')"
      ]
     },
     "execution_count": 106,
     "metadata": {},
     "output_type": "execute_result"
    }
   ],
   "source": [
    "t.tag_layer()"
   ]
  },
  {
   "cell_type": "code",
   "execution_count": 107,
   "id": "9fb10b19",
   "metadata": {},
   "outputs": [
    {
     "name": "stdout",
     "output_type": "stream",
     "text": [
      "('hakkama', 'V', '', '', 'aga', 'J', 1791, 'Tydruk : ääää hirmuta juba tilk pyxis ..... ma ei kannata kui mingi libu minuga paugub ... nii et hakka aga tulema ... ja tgasi sa enam ei jõua', 'siberimees : hakka aga otsima :)', 'Lovemachine : njah , ma ka kohe hakkan aga teega')\n"
     ]
    }
   ],
   "source": [
    "for entry in entries:\n",
    "    if entry[5] not in [\"\", \"D\"]:\n",
    "        print(entry)\n",
    "        break"
   ]
  },
  {
   "cell_type": "code",
   "execution_count": 108,
   "id": "f2c9c140",
   "metadata": {},
   "outputs": [],
   "source": [
    "new_entries = []\n",
    "\n",
    "for entry in entries_to_keep:\n",
    "    if entry[5] in [\"\", \"D\"]:\n",
    "        new_entries.append(entry)"
   ]
  },
  {
   "cell_type": "code",
   "execution_count": 109,
   "id": "b986bb20",
   "metadata": {},
   "outputs": [
    {
     "data": {
      "text/plain": [
       "(1087318, 975137, 970775)"
      ]
     },
     "execution_count": 109,
     "metadata": {},
     "output_type": "execute_result"
    }
   ],
   "source": [
    "len(entries), len(entries_to_keep), len(new_entries)"
   ]
  },
  {
   "cell_type": "markdown",
   "id": "7ef0a5e3",
   "metadata": {},
   "source": [
    "#### Finding top adverbs"
   ]
  },
  {
   "cell_type": "code",
   "execution_count": 110,
   "id": "228f5acb",
   "metadata": {},
   "outputs": [],
   "source": [
    "adverb_verb = defaultdict(lambda: defaultdict(int))\n",
    "adverb_verb_with_counts = defaultdict(lambda: defaultdict(int))\n",
    "adverb_verb_set = defaultdict(set)\n",
    "\n",
    "for entry in new_entries:\n",
    "    verb, _, _, _, adverb, _, count, _, _, _ = entry\n",
    "    adverb_verb[adverb][verb] += 1\n",
    "    adverb_verb_with_counts[adverb][verb] += count\n",
    "    adverb_verb_set[adverb].add(verb)"
   ]
  },
  {
   "cell_type": "code",
   "execution_count": 111,
   "id": "4884befd",
   "metadata": {},
   "outputs": [],
   "source": [
    "adverb_verb_counts = [(adv, len(v)) for adv, v in adverb_verb_set.items()]"
   ]
  },
  {
   "cell_type": "code",
   "execution_count": 112,
   "id": "67547988",
   "metadata": {},
   "outputs": [
    {
     "data": {
      "text/plain": [
       "[('', 4907),\n",
       " ('siis', 3555),\n",
       " ('ka', 3541),\n",
       " ('nii', 3161),\n",
       " ('kas', 3028),\n",
       " ('veel', 2926),\n",
       " ('nüüd', 2911),\n",
       " ('küll', 2884),\n",
       " ('juba', 2870),\n",
       " ('seal', 2806),\n",
       " ('enam', 2721),\n",
       " ('siin', 2636),\n",
       " ('ikka', 2601),\n",
       " ('ju', 2600),\n",
       " ('praegu', 2422),\n",
       " ('rohkem', 2417),\n",
       " ('lihtsalt', 2383),\n",
       " ('samuti', 2243),\n",
       " ('mitte', 2242),\n",
       " ('siiski', 2193),\n",
       " ('hiljem', 2169),\n",
       " ('kohe', 2139),\n",
       " ('jälle', 2021),\n",
       " ('samas', 1995),\n",
       " ('palju', 1990)]"
      ]
     },
     "execution_count": 112,
     "metadata": {},
     "output_type": "execute_result"
    }
   ],
   "source": [
    "sorted(adverb_verb_counts, key=lambda x: x[1], reverse=True)[:25]"
   ]
  },
  {
   "cell_type": "markdown",
   "id": "de5b2835",
   "metadata": {},
   "source": [
    "#### Seotud laiendite leidmine"
   ]
  },
  {
   "cell_type": "code",
   "execution_count": 113,
   "id": "4b2355ae",
   "metadata": {},
   "outputs": [],
   "source": [
    "verb_scores = defaultdict(lambda: defaultdict(int))\n",
    "verbs_counts = defaultdict(int)\n",
    "\n",
    "for entry in new_entries:\n",
    "    verb, _, _, _, adverb, _, count, _, _, _ = entry\n",
    "    verbs_counts[verb] += count\n",
    "    if adverb == \"\":\n",
    "        verb_scores[verb][\"no adverb\"] += count\n",
    "    else:\n",
    "        verb_scores[verb][\"adverb\"] += count"
   ]
  },
  {
   "cell_type": "code",
   "execution_count": 114,
   "id": "e75dc0fe",
   "metadata": {},
   "outputs": [],
   "source": [
    "all_verb_counts = sum(verbs_counts.values())"
   ]
  },
  {
   "cell_type": "code",
   "execution_count": 115,
   "id": "6f17b158",
   "metadata": {},
   "outputs": [],
   "source": [
    "verb_probabilities = {}\n",
    "\n",
    "for verb, value in verbs_counts.items():\n",
    "    verb_probabilities[verb] = value / all_verb_counts"
   ]
  },
  {
   "cell_type": "code",
   "execution_count": 116,
   "id": "9c2f3721",
   "metadata": {},
   "outputs": [],
   "source": [
    "scores_verbs = []\n",
    "\n",
    "for verb, value in verb_scores.items():\n",
    "    adv = value[\"adverb\"]\n",
    "    no_adv = value[\"no adverb\"]\n",
    "    score = adv / (adv + no_adv)\n",
    "    scores_verbs.append((verb, score))"
   ]
  },
  {
   "cell_type": "code",
   "execution_count": 118,
   "id": "3b68c39c",
   "metadata": {},
   "outputs": [
    {
     "data": {
      "text/plain": [
       "[('winnuma', 1.0),\n",
       " ('meelestama', 0.9340350877192982),\n",
       " ('vinnuma', 0.9122807017543859),\n",
       " ('räägitud-kirjutama', 0.9),\n",
       " ('nurmaalnema', 0.9),\n",
       " ('runema', 0.88),\n",
       " ('läbuma', 0.7910447761194029),\n",
       " ('joudnuma', 0.7741935483870968),\n",
       " ('möjuma', 0.7727272727272727),\n",
       " ('koteerima', 0.7682926829268293),\n",
       " ('joodima', 0.7307692307692307),\n",
       " ('talitama', 0.7221644120707597),\n",
       " ('k2ituma', 0.72),\n",
       " ('j6udnuma', 0.717948717948718),\n",
       " ('muundama', 0.7081589958158996),\n",
       " ('icitama', 0.7027027027027027),\n",
       " ('üttlema', 0.6875),\n",
       " ('kumerduma', 0.6842105263157895),\n",
       " ('suunitlema', 0.6829268292682927),\n",
       " ('pangestuma', 0.68),\n",
       " ('suhtuma', 0.6720232165287824),\n",
       " ('töllerdama', 0.6714285714285714),\n",
       " ('käituma', 0.6688491563837824),\n",
       " ('tõestuma', 0.6666666666666666),\n",
       " ('ühestama', 0.6666666666666666),\n",
       " ('trippima', 0.6666666666666666),\n",
       " ('mõjuma', 0.6631308147730477),\n",
       " ('näkkama', 0.6631299734748011),\n",
       " ('zhestikuleerima', 0.6595744680851063),\n",
       " ('reguleeruma', 0.65625),\n",
       " ('tempereerima', 0.6538461538461539),\n",
       " ('suumima', 0.6538461538461539),\n",
       " ('paarutama', 0.6538461538461539),\n",
       " ('sujuma', 0.6527415143603134),\n",
       " ('praotama', 0.6521739130434783),\n",
       " ('järgustama', 0.65),\n",
       " ('intoneerima', 0.6451612903225806),\n",
       " ('säetuma', 0.6451612903225806),\n",
       " ('laterdama', 0.6428571428571429),\n",
       " ('jõmisema', 0.6410256410256411),\n",
       " ('telefoniseerima', 0.6410256410256411),\n",
       " ('kohtlema', 0.6391129032258065),\n",
       " ('olesklema', 0.6338028169014085),\n",
       " ('naksima', 0.631578947368421),\n",
       " ('kõhnenema', 0.6296296296296297),\n",
       " ('imenduma', 0.6276445698166432),\n",
       " ('assotseeruma', 0.625),\n",
       " ('lännuma', 0.625),\n",
       " ('klokkama', 0.625),\n",
       " ('tixuma', 0.625)]"
      ]
     },
     "execution_count": 118,
     "metadata": {},
     "output_type": "execute_result"
    }
   ],
   "source": [
    "sorted(scores_verbs, key=lambda x: x[1], reverse=True)[:50]"
   ]
  },
  {
   "cell_type": "markdown",
   "id": "7cdff8ad",
   "metadata": {},
   "source": [
    "Seotud verb-adverb paarid:\n",
    "1. talitama õigesti\n",
    "2. suhtuma tõsiselt\n",
    "3. käituma õigesti\n",
    "4. mõjuma hästi\n",
    "5. kohtlema võrdselt\n",
    "6. jaotuma ühtlaselt"
   ]
  },
  {
   "cell_type": "code",
   "execution_count": 119,
   "id": "83253bf7",
   "metadata": {},
   "outputs": [
    {
     "data": {
      "text/plain": [
       "('saama',\n",
       " 'V',\n",
       " 'pihta',\n",
       " 'D',\n",
       " '',\n",
       " '',\n",
       " 1307,\n",
       " 'Krissu : heheeeee ....... ei saa pihta millest jutt = jätke mu kaablid rahule',\n",
       " 'Sk8er-Girl : kuulge-eip saa poindile pihta millezt jutt ?',\n",
       " 'rose_eml : said pihta asjale ?')"
      ]
     },
     "execution_count": 119,
     "metadata": {},
     "output_type": "execute_result"
    }
   ],
   "source": [
    "new_entries[2]"
   ]
  },
  {
   "cell_type": "code",
   "execution_count": 120,
   "id": "3f231fd9",
   "metadata": {},
   "outputs": [],
   "source": [
    "talitama = 0\n",
    "õigesti = 0\n",
    "talitama_õigesti = 0\n",
    "kokku = 0\n",
    "\n",
    "for entry in new_entries:\n",
    "    verb, _, _, _, adverb, _, count, _, _, _ = entry\n",
    "    kokku += count\n",
    "    if verb == \"talitama\":\n",
    "        talitama += count\n",
    "    if adverb == \"õigesti\":\n",
    "        õigesti += count\n",
    "    if verb == \"talitama\" and adverb == \"õigesti\":\n",
    "        talitama_õigesti += count"
   ]
  },
  {
   "cell_type": "markdown",
   "id": "72638f3b",
   "metadata": {},
   "source": [
    "1) armastama sagedus on 1/1000 lause kohta\n",
    "2) leegitsevalt sagedus on 1/20000 lause kohta\n",
    "3) leegitsevalt armastama oodatuds sagedus on 1/1000 * 1/20000 lause kohta\n",
    "4) leegitsevalt armastama tegelik sagedus on 1/50000 lause kohta\n",
    "5) lift on  1/50000 /  (1/1000 * 1/20000)  aga seda on parem vaadata kui võtta logaritm"
   ]
  },
  {
   "cell_type": "code",
   "execution_count": 121,
   "id": "196ce4a9",
   "metadata": {},
   "outputs": [
    {
     "data": {
      "text/plain": [
       "5.6262361215084615"
      ]
     },
     "execution_count": 121,
     "metadata": {},
     "output_type": "execute_result"
    }
   ],
   "source": [
    "np.log((talitama_õigesti / kokku) / ((talitama / kokku) * (õigesti / kokku)))"
   ]
  },
  {
   "cell_type": "code",
   "execution_count": 122,
   "id": "cba3e3fb",
   "metadata": {},
   "outputs": [],
   "source": [
    "suhtuma = 0\n",
    "õigesti = 0\n",
    "suhtuma_õigesti = 0\n",
    "kokku = 0\n",
    "\n",
    "for entry in new_entries:\n",
    "    verb, _, _, _, adverb, _, count, _, _, _ = entry\n",
    "    kokku += count\n",
    "    if verb == \"suhtuma\":\n",
    "        suhtuma += count\n",
    "    if adverb == \"õigesti\":\n",
    "        õigesti += count\n",
    "    if verb == \"suhtuma\" and adverb == \"õigesti\":\n",
    "        suhtuma_õigesti += count"
   ]
  },
  {
   "cell_type": "code",
   "execution_count": 123,
   "id": "17b95148",
   "metadata": {},
   "outputs": [
    {
     "data": {
      "text/plain": [
       "0.26238350560876705"
      ]
     },
     "execution_count": 123,
     "metadata": {},
     "output_type": "execute_result"
    }
   ],
   "source": [
    "np.log((suhtuma_õigesti / kokku) / ((suhtuma / kokku) * (õigesti / kokku)))"
   ]
  },
  {
   "cell_type": "code",
   "execution_count": 124,
   "id": "355ac54f",
   "metadata": {},
   "outputs": [],
   "source": [
    "talitama = 0\n",
    "talitama_adv = 0\n",
    "kokku = 0\n",
    "\n",
    "for entry in new_entries:\n",
    "    verb, _, _, _, adverb, _, count, _, _, _ = entry\n",
    "    kokku += count\n",
    "    if verb == \"talitama\":\n",
    "        talitama += count\n",
    "        if adverb != \"\":\n",
    "            talitama_adv += count"
   ]
  },
  {
   "cell_type": "code",
   "execution_count": 125,
   "id": "47ed8c11",
   "metadata": {},
   "outputs": [
    {
     "data": {
      "text/plain": [
       "(2883, 2082)"
      ]
     },
     "execution_count": 125,
     "metadata": {},
     "output_type": "execute_result"
    }
   ],
   "source": [
    "talitama, talitama_adv"
   ]
  },
  {
   "cell_type": "markdown",
   "id": "16257244",
   "metadata": {},
   "source": [
    " pr(verb & som adverb)  / pr(verb) "
   ]
  },
  {
   "cell_type": "code",
   "execution_count": 126,
   "id": "1181db99",
   "metadata": {},
   "outputs": [
    {
     "data": {
      "text/plain": [
       "0.7221644120707597"
      ]
     },
     "execution_count": 126,
     "metadata": {},
     "output_type": "execute_result"
    }
   ],
   "source": [
    "(talitama_adv / kokku) / (talitama / kokku)"
   ]
  },
  {
   "cell_type": "markdown",
   "id": "670108de",
   "metadata": {},
   "source": [
    "Leia kõikide verbide jaoks see ülemine skoor: (verb_adv / all) / (verb / all)\n",
    "Järjesta skoori järgi\n",
    "Vaata top adverbe ja eemalda mingi hunnik \"vabu\" adverbe (mis tunduvad vabad)\n",
    "---> potentsiaalselt wordneti abil, nt kui ülem on aeg või koht vms\n",
    "Siis tee uuesti ülemine koodijupp pmst, ainult et \n",
    "if adverb != \"\":\n",
    "    talitama_adv += count\n",
    "    \n",
    "asenda:\n",
    "if adverb not in [\"\", vabad adverbid]:\n",
    "    talitama_adv += count\n"
   ]
  },
  {
   "cell_type": "code",
   "execution_count": 127,
   "id": "b2ea9334",
   "metadata": {},
   "outputs": [],
   "source": [
    "kokku = 0\n",
    "\n",
    "for entry in new_entries:\n",
    "    verb, _, _, _, adverb, _, count, _, _, _ = entry\n",
    "    kokku += count"
   ]
  },
  {
   "cell_type": "code",
   "execution_count": 128,
   "id": "936db75e",
   "metadata": {},
   "outputs": [],
   "source": [
    "verb_counts = defaultdict(lambda: defaultdict(int))\n",
    "\n",
    "for entry in new_entries:\n",
    "    verb, _, _, _, adverb, _, count, _, _, _ = entry\n",
    "    verb_counts[verb][\"total\"] += count\n",
    "    if adverb == \"\":\n",
    "        verb_counts[verb][\"no adverb\"] += count\n",
    "    else:\n",
    "        verb_counts[verb][\"adverb\"] += count"
   ]
  },
  {
   "cell_type": "code",
   "execution_count": 129,
   "id": "128128aa",
   "metadata": {},
   "outputs": [
    {
     "data": {
      "text/plain": [
       "defaultdict(int, {'total': 9876915, 'no adverb': 9602317, 'adverb': 274598})"
      ]
     },
     "execution_count": 129,
     "metadata": {},
     "output_type": "execute_result"
    }
   ],
   "source": [
    "verb_counts[\"olema\"]"
   ]
  },
  {
   "cell_type": "code",
   "execution_count": 130,
   "id": "75e5ce97",
   "metadata": {},
   "outputs": [],
   "source": [
    "verb_scores = {}\n",
    "\n",
    "for verb, value in verb_counts.items():\n",
    "    score = (value[\"adverb\"] / kokku) / (value[\"total\"] / kokku)\n",
    "    verb_scores[verb] = score"
   ]
  },
  {
   "cell_type": "code",
   "execution_count": 131,
   "id": "3e289236",
   "metadata": {},
   "outputs": [
    {
     "data": {
      "text/plain": [
       "0.02780200092842755"
      ]
     },
     "execution_count": 131,
     "metadata": {},
     "output_type": "execute_result"
    }
   ],
   "source": [
    "verb_scores[\"olema\"]"
   ]
  },
  {
   "cell_type": "code",
   "execution_count": 132,
   "id": "ff087619",
   "metadata": {},
   "outputs": [
    {
     "data": {
      "text/plain": [
       "[('winnuma', 1.0),\n",
       " ('meelestama', 0.9340350877192983),\n",
       " ('vinnuma', 0.912280701754386),\n",
       " ('räägitud-kirjutama', 0.9),\n",
       " ('nurmaalnema', 0.9),\n",
       " ('runema', 0.88),\n",
       " ('läbuma', 0.7910447761194028),\n",
       " ('joudnuma', 0.7741935483870968),\n",
       " ('möjuma', 0.7727272727272726),\n",
       " ('koteerima', 0.7682926829268293),\n",
       " ('joodima', 0.7307692307692307),\n",
       " ('talitama', 0.7221644120707597),\n",
       " ('k2ituma', 0.72),\n",
       " ('j6udnuma', 0.7179487179487178),\n",
       " ('muundama', 0.7081589958158996),\n",
       " ('icitama', 0.7027027027027027),\n",
       " ('üttlema', 0.6875),\n",
       " ('kumerduma', 0.6842105263157895),\n",
       " ('suunitlema', 0.6829268292682926),\n",
       " ('pangestuma', 0.6799999999999999),\n",
       " ('suhtuma', 0.6720232165287824),\n",
       " ('töllerdama', 0.6714285714285715),\n",
       " ('käituma', 0.6688491563837825),\n",
       " ('ühestama', 0.6666666666666667),\n",
       " ('trippima', 0.6666666666666667),\n",
       " ('tõestuma', 0.6666666666666666),\n",
       " ('mõjuma', 0.6631308147730477),\n",
       " ('näkkama', 0.6631299734748011),\n",
       " ('zhestikuleerima', 0.6595744680851063),\n",
       " ('reguleeruma', 0.65625),\n",
       " ('tempereerima', 0.6538461538461539),\n",
       " ('suumima', 0.6538461538461539),\n",
       " ('paarutama', 0.6538461538461539),\n",
       " ('sujuma', 0.6527415143603134),\n",
       " ('praotama', 0.6521739130434783),\n",
       " ('järgustama', 0.65),\n",
       " ('intoneerima', 0.6451612903225806),\n",
       " ('säetuma', 0.6451612903225806),\n",
       " ('laterdama', 0.6428571428571429),\n",
       " ('jõmisema', 0.6410256410256411),\n",
       " ('telefoniseerima', 0.6410256410256411),\n",
       " ('kohtlema', 0.6391129032258065),\n",
       " ('olesklema', 0.6338028169014084),\n",
       " ('naksima', 0.631578947368421),\n",
       " ('kõhnenema', 0.6296296296296297),\n",
       " ('imenduma', 0.6276445698166432),\n",
       " ('lännuma', 0.6250000000000001),\n",
       " ('assotseeruma', 0.625),\n",
       " ('klokkama', 0.625),\n",
       " ('tixuma', 0.625)]"
      ]
     },
     "execution_count": 132,
     "metadata": {},
     "output_type": "execute_result"
    }
   ],
   "source": [
    "sorted(verb_scores.items(), key=lambda x: x[1], reverse=True)[:50]"
   ]
  },
  {
   "cell_type": "markdown",
   "id": "e6776f3e",
   "metadata": {},
   "source": [
    "#### Seotud laienditega verbide leidmine\n",
    "\n",
    "Ülemiste skooride arvutamine ning lisaks juurde ka mitmes lauses kokku esineb ning mitme erineva adverbiga koos."
   ]
  },
  {
   "cell_type": "code",
   "execution_count": 134,
   "id": "f7748014",
   "metadata": {},
   "outputs": [],
   "source": [
    "verb_counts = defaultdict(lambda: defaultdict(int))\n",
    "\n",
    "for entry in new_entries:\n",
    "    verb, _, _, _, adverb, _, count, _, _, _ = entry\n",
    "    verb_counts[verb][\"total\"] += count\n",
    "    verb_counts[verb][\"different adverbs\"] += 1\n",
    "    if adverb == \"\":\n",
    "        verb_counts[verb][\"no adverb\"] += count\n",
    "    else:\n",
    "        verb_counts[verb][\"adverb\"] += count"
   ]
  },
  {
   "cell_type": "code",
   "execution_count": 135,
   "id": "a26f0079",
   "metadata": {},
   "outputs": [],
   "source": [
    "verb_info = {}\n",
    "\n",
    "for verb, value in verb_counts.items():\n",
    "    score = (value[\"adverb\"] / kokku) / (value[\"total\"] / kokku)\n",
    "    verb_info[verb] = {\"score\": score, \"total\": value[\"total\"], \"adverbs\": value[\"different adverbs\"]}"
   ]
  },
  {
   "cell_type": "code",
   "execution_count": 141,
   "id": "5aebcfed",
   "metadata": {},
   "outputs": [],
   "source": [
    "verb_info_df = pd.DataFrame(verb_info).T"
   ]
  },
  {
   "cell_type": "code",
   "execution_count": 139,
   "id": "8f01d04b",
   "metadata": {},
   "outputs": [],
   "source": [
    "verb_info_df.to_csv(\"verb_info.csv\", encoding=\"utf-8-sig\")"
   ]
  },
  {
   "cell_type": "code",
   "execution_count": 142,
   "id": "01bb1f4c",
   "metadata": {},
   "outputs": [],
   "source": [
    "verb_info_df = verb_info_df[verb_info_df[\"total\"] >= 100]"
   ]
  },
  {
   "cell_type": "code",
   "execution_count": 143,
   "id": "fc8d591d",
   "metadata": {},
   "outputs": [],
   "source": [
    "verb_info_df = verb_info_df[verb_info_df[\"adverbs\"] >= 10]"
   ]
  },
  {
   "cell_type": "code",
   "execution_count": 144,
   "id": "7c05a05f",
   "metadata": {},
   "outputs": [
    {
     "data": {
      "text/plain": [
       "(3309, 3)"
      ]
     },
     "execution_count": 144,
     "metadata": {},
     "output_type": "execute_result"
    }
   ],
   "source": [
    "verb_info_df.shape"
   ]
  },
  {
   "cell_type": "code",
   "execution_count": 145,
   "id": "627d3453",
   "metadata": {},
   "outputs": [],
   "source": [
    "cleaned_verb_scores = [(k, v) for k, v in verb_scores.items() if k in verb_info_df.index]"
   ]
  },
  {
   "cell_type": "code",
   "execution_count": 146,
   "id": "2eac0ae3",
   "metadata": {},
   "outputs": [
    {
     "data": {
      "text/plain": [
       "3309"
      ]
     },
     "execution_count": 146,
     "metadata": {},
     "output_type": "execute_result"
    }
   ],
   "source": [
    "len(cleaned_verb_scores)"
   ]
  },
  {
   "cell_type": "code",
   "execution_count": 147,
   "id": "11cbdfe5",
   "metadata": {},
   "outputs": [
    {
     "data": {
      "text/plain": [
       "[('olema', 0.02780200092842755),\n",
       " ('toimuma', 0.293384658121354),\n",
       " ('saama', 0.21402081465214975),\n",
       " ('oskama', 0.3027908991522102),\n",
       " ('ei', 0.0001374235812215848)]"
      ]
     },
     "execution_count": 147,
     "metadata": {},
     "output_type": "execute_result"
    }
   ],
   "source": [
    "cleaned_verb_scores[:5]"
   ]
  },
  {
   "cell_type": "code",
   "execution_count": 250,
   "id": "1bd7cf20",
   "metadata": {},
   "outputs": [
    {
     "data": {
      "text/plain": [
       "[('meelestama', 0.9340350877192983),\n",
       " ('talitama', 0.7221644120707597),\n",
       " ('muundama', 0.7081589958158996),\n",
       " ('suhtuma', 0.6720232165287824),\n",
       " ('töllerdama', 0.6714285714285715),\n",
       " ('käituma', 0.6688491563837825),\n",
       " ('mõjuma', 0.6631308147730477),\n",
       " ('näkkama', 0.6631299734748011),\n",
       " ('sujuma', 0.6527415143603134),\n",
       " ('kohtlema', 0.6391129032258065)]"
      ]
     },
     "execution_count": 250,
     "metadata": {},
     "output_type": "execute_result"
    }
   ],
   "source": [
    "sorted(cleaned_verb_scores, key=lambda x: x[1], reverse=True)[:10]"
   ]
  },
  {
   "cell_type": "code",
   "execution_count": 251,
   "id": "d9249650",
   "metadata": {},
   "outputs": [
    {
     "data": {
      "text/plain": [
       "[('sõnama', 0.05269009330950963),\n",
       " ('partsima', 0.04137931034482759),\n",
       " ('helluma', 0.036432160804020106),\n",
       " ('tänama', 0.03597360155644003),\n",
       " ('sihvama', 0.03529411764705883),\n",
       " ('olema', 0.02780200092842755),\n",
       " ('viirama', 0.011023622047244093),\n",
       " ('tohtima', 0.008128431757947729),\n",
       " ('võima', 0.004029235126860931),\n",
       " ('ei', 0.0001374235812215848)]"
      ]
     },
     "execution_count": 251,
     "metadata": {},
     "output_type": "execute_result"
    }
   ],
   "source": [
    "sorted(cleaned_verb_scores, key=lambda x: x[1], reverse=True)[-10:]"
   ]
  },
  {
   "cell_type": "markdown",
   "id": "9a080881",
   "metadata": {},
   "source": [
    "#### Vabade adverbide leidmine Wordneti abil"
   ]
  },
  {
   "cell_type": "code",
   "execution_count": 183,
   "id": "5a935556",
   "metadata": {},
   "outputs": [],
   "source": [
    "from estnltk.wordnet import Wordnet"
   ]
  },
  {
   "cell_type": "code",
   "execution_count": 144,
   "id": "90c6d002",
   "metadata": {},
   "outputs": [],
   "source": [
    "adverbs = list(set([entry[4] for entry in new_entries]))"
   ]
  },
  {
   "cell_type": "code",
   "execution_count": 142,
   "id": "1bb72d53",
   "metadata": {},
   "outputs": [],
   "source": [
    "wn = Wordnet()"
   ]
  },
  {
   "cell_type": "code",
   "execution_count": 148,
   "id": "cc57b231",
   "metadata": {},
   "outputs": [
    {
     "data": {
      "text/plain": [
       "True"
      ]
     },
     "execution_count": 148,
     "metadata": {},
     "output_type": "execute_result"
    }
   ],
   "source": [
    "\"hommikuti\" in adverbs"
   ]
  },
  {
   "cell_type": "code",
   "execution_count": 154,
   "id": "fa4a9620",
   "metadata": {},
   "outputs": [
    {
     "data": {
      "text/plain": [
       "[]"
      ]
     },
     "execution_count": 154,
     "metadata": {},
     "output_type": "execute_result"
    }
   ],
   "source": [
    "wn[\"hommikuti\"][0].hypernyms"
   ]
  },
  {
   "cell_type": "code",
   "execution_count": 155,
   "id": "aea64fb4",
   "metadata": {},
   "outputs": [
    {
     "data": {
      "text/plain": [
       "4228"
      ]
     },
     "execution_count": 155,
     "metadata": {},
     "output_type": "execute_result"
    }
   ],
   "source": [
    "len(adverbs)"
   ]
  },
  {
   "cell_type": "code",
   "execution_count": 156,
   "id": "f8ee3d8d",
   "metadata": {},
   "outputs": [],
   "source": [
    "adverb_hypernyms = {}\n",
    "\n",
    "for adv in adverbs:\n",
    "    synsets = wn[adv]\n",
    "    if len(synsets) > 0:\n",
    "        adverb_hypernyms[adv] = synsets[0].hypernyms"
   ]
  },
  {
   "cell_type": "code",
   "execution_count": 157,
   "id": "b5691397",
   "metadata": {},
   "outputs": [
    {
     "data": {
      "text/plain": [
       "2371"
      ]
     },
     "execution_count": 157,
     "metadata": {},
     "output_type": "execute_result"
    }
   ],
   "source": [
    "len(adverb_hypernyms.keys())"
   ]
  },
  {
   "cell_type": "code",
   "execution_count": 158,
   "id": "4bd3ae7f",
   "metadata": {},
   "outputs": [
    {
     "data": {
      "text/plain": [
       "['heldinult', 'alati', 'pikali', 'religioosselt', 'momentselt']"
      ]
     },
     "execution_count": 158,
     "metadata": {},
     "output_type": "execute_result"
    }
   ],
   "source": [
    "list(adverb_hypernyms.keys())[:5]"
   ]
  },
  {
   "cell_type": "code",
   "execution_count": 168,
   "id": "a238e5ae",
   "metadata": {},
   "outputs": [
    {
     "data": {
      "text/plain": [
       "[{'text': 'heldinud',\n",
       "  'analysis': [{'root': 'heldi',\n",
       "    'root_tokens': ['heldi'],\n",
       "    'ending': 'nud',\n",
       "    'clitic': '',\n",
       "    'partofspeech': 'V',\n",
       "    'form': 'nud',\n",
       "    'lemma': 'heldima'},\n",
       "   {'root': 'heldi=nud',\n",
       "    'root_tokens': ['heldinud'],\n",
       "    'ending': '0',\n",
       "    'clitic': '',\n",
       "    'partofspeech': 'A',\n",
       "    'form': '',\n",
       "    'lemma': 'heldinud'},\n",
       "   {'root': 'heldi=nud',\n",
       "    'root_tokens': ['heldinud'],\n",
       "    'ending': '0',\n",
       "    'clitic': '',\n",
       "    'partofspeech': 'A',\n",
       "    'form': 'sg n',\n",
       "    'lemma': 'heldinud'},\n",
       "   {'root': 'heldi=nud',\n",
       "    'root_tokens': ['heldinud'],\n",
       "    'ending': 'd',\n",
       "    'clitic': '',\n",
       "    'partofspeech': 'A',\n",
       "    'form': 'pl n',\n",
       "    'lemma': 'heldinud'}]}]"
      ]
     },
     "execution_count": 168,
     "metadata": {},
     "output_type": "execute_result"
    }
   ],
   "source": [
    " vm.analyze(\"heldinud\")"
   ]
  },
  {
   "cell_type": "code",
   "execution_count": 167,
   "id": "55ae1878",
   "metadata": {},
   "outputs": [
    {
     "data": {
      "text/plain": [
       "[{'text': 'hommikuti',\n",
       "  'analysis': [{'root': 'hommikuti',\n",
       "    'root_tokens': ['hommikuti'],\n",
       "    'ending': '0',\n",
       "    'clitic': '',\n",
       "    'partofspeech': 'D',\n",
       "    'form': '',\n",
       "    'lemma': 'hommikuti'}]}]"
      ]
     },
     "execution_count": 167,
     "metadata": {},
     "output_type": "execute_result"
    }
   ],
   "source": [
    "vm.analyze(\"hommikuti\")"
   ]
  },
  {
   "cell_type": "code",
   "execution_count": 159,
   "id": "c93d1d85",
   "metadata": {},
   "outputs": [
    {
     "data": {
      "text/plain": [
       "[]"
      ]
     },
     "execution_count": 159,
     "metadata": {},
     "output_type": "execute_result"
    }
   ],
   "source": [
    "adverb_hypernyms[\"alati\"]"
   ]
  },
  {
   "cell_type": "code",
   "execution_count": 160,
   "id": "0b851f51",
   "metadata": {},
   "outputs": [],
   "source": [
    "non_empty_hypernyms = []\n",
    "\n",
    "for adv, hypernyms in adverb_hypernyms.items():\n",
    "    if len(hypernyms) > 0:\n",
    "        non_empty_hypernyms.append(adv)"
   ]
  },
  {
   "cell_type": "code",
   "execution_count": 161,
   "id": "2e9a0a0d",
   "metadata": {},
   "outputs": [
    {
     "data": {
      "text/plain": [
       "8"
      ]
     },
     "execution_count": 161,
     "metadata": {},
     "output_type": "execute_result"
    }
   ],
   "source": [
    "len(non_empty_hypernyms)"
   ]
  },
  {
   "cell_type": "code",
   "execution_count": 163,
   "id": "375931c8",
   "metadata": {},
   "outputs": [
    {
     "name": "stdout",
     "output_type": "stream",
     "text": [
      "['koost', 'üll', 'miks', 'hange', 'looja', 'liigiti', 'kalli-kalli', 'enamjagu']\n"
     ]
    }
   ],
   "source": [
    "print(non_empty_hypernyms)"
   ]
  },
  {
   "cell_type": "markdown",
   "id": "4e7c62bc",
   "metadata": {},
   "source": [
    "#### Adverbide eemaldamine sageduse järgi"
   ]
  },
  {
   "cell_type": "code",
   "execution_count": 133,
   "id": "79784f95",
   "metadata": {},
   "outputs": [
    {
     "data": {
      "text/plain": [
       "[('', 4907),\n",
       " ('siis', 3555),\n",
       " ('ka', 3541),\n",
       " ('nii', 3161),\n",
       " ('kas', 3028),\n",
       " ('veel', 2926),\n",
       " ('nüüd', 2911),\n",
       " ('küll', 2884),\n",
       " ('juba', 2870),\n",
       " ('seal', 2806),\n",
       " ('enam', 2721),\n",
       " ('siin', 2636),\n",
       " ('ikka', 2601),\n",
       " ('ju', 2600),\n",
       " ('praegu', 2422),\n",
       " ('rohkem', 2417),\n",
       " ('lihtsalt', 2383),\n",
       " ('samuti', 2243),\n",
       " ('mitte', 2242),\n",
       " ('siiski', 2193),\n",
       " ('hiljem', 2169),\n",
       " ('kohe', 2139),\n",
       " ('jälle', 2021),\n",
       " ('samas', 1995),\n",
       " ('palju', 1990),\n",
       " ('nagu', 1967),\n",
       " ('taas', 1953),\n",
       " ('tegelikult', 1950),\n",
       " ('ainult', 1950),\n",
       " ('täna', 1942),\n",
       " ('varem', 1929),\n",
       " ('kunagi', 1908),\n",
       " ('ilmselt', 1904),\n",
       " ('isegi', 1900),\n",
       " ('eile', 1896),\n",
       " ('alati', 1823),\n",
       " ('ehk', 1807),\n",
       " ('kindlasti', 1796),\n",
       " ('muidugi', 1779),\n",
       " ('seni', 1761),\n",
       " ('seejärel', 1748),\n",
       " ('lõpuks', 1745),\n",
       " ('vaid', 1741),\n",
       " ('enne', 1721),\n",
       " ('pidevalt', 1708),\n",
       " ('muidu', 1699),\n",
       " ('üldse', 1673),\n",
       " ('seetõttu', 1633),\n",
       " ('seega', 1626),\n",
       " ('ikkagi', 1624)]"
      ]
     },
     "execution_count": 133,
     "metadata": {},
     "output_type": "execute_result"
    }
   ],
   "source": [
    "sorted(adverb_verb_counts, key=lambda x: x[1], reverse=True)[:50]"
   ]
  },
  {
   "cell_type": "markdown",
   "id": "e5162aae",
   "metadata": {},
   "source": [
    "#### Adverbide leidmine lõpu järgi"
   ]
  },
  {
   "cell_type": "code",
   "execution_count": 150,
   "id": "ab99739f",
   "metadata": {},
   "outputs": [
    {
     "data": {
      "text/plain": [
       "[('', 4907),\n",
       " ('sageli', 1548),\n",
       " ('tihti', 1448),\n",
       " ('lihtsalt', 2383),\n",
       " ('kuidagi', 1478)]"
      ]
     },
     "execution_count": 150,
     "metadata": {},
     "output_type": "execute_result"
    }
   ],
   "source": [
    "adverb_verb_counts[:5]"
   ]
  },
  {
   "cell_type": "code",
   "execution_count": 151,
   "id": "e5a01fde",
   "metadata": {},
   "outputs": [],
   "source": [
    "advs = [adv for adv, c in adverb_verb_counts[1:]]"
   ]
  },
  {
   "cell_type": "code",
   "execution_count": 152,
   "id": "b6d1cdd3",
   "metadata": {},
   "outputs": [
    {
     "data": {
      "text/plain": [
       "4227"
      ]
     },
     "execution_count": 152,
     "metadata": {},
     "output_type": "execute_result"
    }
   ],
   "source": [
    "len(advs)"
   ]
  },
  {
   "cell_type": "code",
   "execution_count": 154,
   "id": "b8a2a20a",
   "metadata": {},
   "outputs": [
    {
     "data": {
      "text/plain": [
       "('sageli', 'li')"
      ]
     },
     "execution_count": 154,
     "metadata": {},
     "output_type": "execute_result"
    }
   ],
   "source": [
    "advs[0], advs[0][-2:]"
   ]
  },
  {
   "cell_type": "code",
   "execution_count": 155,
   "id": "01a7d659",
   "metadata": {},
   "outputs": [],
   "source": [
    "group_per_ending = defaultdict(list)\n",
    "\n",
    "for adv in advs:\n",
    "    group_per_ending[adv[-2:]].append(adv)"
   ]
  },
  {
   "cell_type": "code",
   "execution_count": 156,
   "id": "c19d9554",
   "metadata": {},
   "outputs": [
    {
     "data": {
      "text/plain": [
       "109"
      ]
     },
     "execution_count": 156,
     "metadata": {},
     "output_type": "execute_result"
    }
   ],
   "source": [
    "len(group_per_ending)"
   ]
  },
  {
   "cell_type": "code",
   "execution_count": 160,
   "id": "913abe54",
   "metadata": {},
   "outputs": [
    {
     "data": {
      "text/plain": [
       "[('lt', 2589),\n",
       " ('ti', 275),\n",
       " ('le', 110),\n",
       " ('si', 89),\n",
       " ('al', 86),\n",
       " ('di', 82),\n",
       " ('ni', 63),\n",
       " ('st', 55),\n",
       " ('ks', 45),\n",
       " ('gi', 41),\n",
       " ('is', 36),\n",
       " ('tu', 34),\n",
       " ('il', 33),\n",
       " ('as', 32),\n",
       " ('li', 30),\n",
       " ('gu', 29),\n",
       " ('ki', 28),\n",
       " ('es', 27),\n",
       " ('el', 27),\n",
       " ('ku', 22),\n",
       " ('da', 21),\n",
       " ('ga', 20),\n",
       " ('ta', 20),\n",
       " ('du', 19),\n",
       " ('se', 18),\n",
       " ('sa', 18),\n",
       " ('ma', 17),\n",
       " ('rd', 16),\n",
       " ('us', 15),\n",
       " ('pa', 15),\n",
       " ('em', 13),\n",
       " ('na', 13),\n",
       " ('lu', 13),\n",
       " ('va', 12),\n",
       " ('ju', 12),\n",
       " ('ja', 11),\n",
       " ('la', 10),\n",
       " ('ge', 9),\n",
       " ('ul', 9),\n",
       " ('ol', 9),\n",
       " ('te', 8),\n",
       " ('ui', 8),\n",
       " ('ra', 8),\n",
       " ('ka', 7),\n",
       " ('he', 7),\n",
       " ('ri', 7),\n",
       " ('mi', 7),\n",
       " ('äi', 7),\n",
       " ('ha', 7),\n",
       " ('su', 6),\n",
       " ('bi', 6),\n",
       " ('ah', 5),\n",
       " ('vu', 5),\n",
       " ('de', 5),\n",
       " ('me', 5),\n",
       " ('id', 5),\n",
       " ('rt', 5),\n",
       " ('ii', 4),\n",
       " ('ke', 4),\n",
       " ('mu', 4),\n",
       " ('ua', 4),\n",
       " ('nu', 4),\n",
       " ('aa', 4),\n",
       " ('nt', 4),\n",
       " ('vi', 4),\n",
       " ('ll', 3),\n",
       " ('pi', 3),\n",
       " ('hu', 3),\n",
       " ('tt', 3),\n",
       " ('os', 2),\n",
       " ('ba', 2),\n",
       " ('ut', 2),\n",
       " ('oh', 2),\n",
       " ('ik', 2),\n",
       " ('ea', 2),\n",
       " ('ne', 2),\n",
       " ('ia', 2),\n",
       " ('ap', 2),\n",
       " ('it', 2),\n",
       " ('ud', 2),\n",
       " ('pu', 2),\n",
       " ('üd', 1),\n",
       " ('am', 1),\n",
       " ('hk', 1),\n",
       " ('in', 1),\n",
       " ('ei', 1),\n",
       " ('öö', 1),\n",
       " ('ev', 1),\n",
       " ('ps', 1),\n",
       " ('ad', 1),\n",
       " ('et', 1),\n",
       " ('õi', 1),\n",
       " ('eg', 1),\n",
       " ('ru', 1),\n",
       " ('ae', 1),\n",
       " ('nd', 1),\n",
       " ('ht', 1),\n",
       " ('ve', 1),\n",
       " ('’s', 1),\n",
       " ('ep', 1),\n",
       " ('pt', 1),\n",
       " ('ns', 1),\n",
       " ('be', 1),\n",
       " ('an', 1),\n",
       " ('bu', 1),\n",
       " ('er', 1),\n",
       " ('to', 1),\n",
       " ('kk', 1),\n",
       " ('lm', 1)]"
      ]
     },
     "execution_count": 160,
     "metadata": {},
     "output_type": "execute_result"
    }
   ],
   "source": [
    "sorted([(end, len(l)) for end, l in group_per_ending.items()], key=lambda x: x[1], reverse=True)"
   ]
  },
  {
   "cell_type": "code",
   "execution_count": 249,
   "id": "9591005c",
   "metadata": {},
   "outputs": [
    {
     "data": {
      "text/plain": [
       "['ükskord',\n",
       " 'seekord',\n",
       " 'kord',\n",
       " 'tookord',\n",
       " 'mõnikord',\n",
       " 'niivõrd',\n",
       " 'teinekord',\n",
       " 'karvavõrd',\n",
       " 'sedavõrd',\n",
       " 'kuigivõrd',\n",
       " 'samavõrd',\n",
       " 'taaskord',\n",
       " 'veelkord',\n",
       " 'mustaverd',\n",
       " 'niivõrd-kuivõrd',\n",
       " '1kord']"
      ]
     },
     "execution_count": 249,
     "metadata": {},
     "output_type": "execute_result"
    }
   ],
   "source": [
    "group_per_ending[\"rd\"]"
   ]
  },
  {
   "cell_type": "code",
   "execution_count": 246,
   "id": "76757e80",
   "metadata": {},
   "outputs": [
    {
     "data": {
      "text/plain": [
       "['üldse',\n",
       " 'ise',\n",
       " 'otse',\n",
       " 'kahasse',\n",
       " 'üleüldse',\n",
       " 'sinnasamasse',\n",
       " 'nõusse',\n",
       " 'pahuksisse',\n",
       " 'erakätesse',\n",
       " 'ülesse',\n",
       " 'jõusse',\n",
       " 'sisse',\n",
       " 'kägarasse',\n",
       " 'siiasamasse',\n",
       " 'kõverasse',\n",
       " 'hambusse',\n",
       " 'palgesse',\n",
       " 'ummuksisse']"
      ]
     },
     "execution_count": 246,
     "metadata": {},
     "output_type": "execute_result"
    }
   ],
   "source": [
    "group_per_ending[\"se\"]"
   ]
  },
  {
   "cell_type": "code",
   "execution_count": 244,
   "id": "84f1022c",
   "metadata": {},
   "outputs": [
    {
     "data": {
      "text/plain": [
       "['ilmtingimata',\n",
       " 'kahtlemata',\n",
       " 'kõhklemata',\n",
       " 'asjata',\n",
       " 'kogemata',\n",
       " 'tingimata',\n",
       " 'tahes-tahtmata',\n",
       " 'vahetpidamata',\n",
       " 'takkapihta',\n",
       " 'alalõpmata',\n",
       " 'püksata',\n",
       " 'ilmaasjata',\n",
       " 'lõpmata',\n",
       " 'tegevuseta',\n",
       " 'pikemata',\n",
       " 'muidugimõista',\n",
       " 'luhta',\n",
       " 'viivitamata',\n",
       " 'viibimata',\n",
       " 'tahestahtmata']"
      ]
     },
     "execution_count": 244,
     "metadata": {},
     "output_type": "execute_result"
    }
   ],
   "source": [
    "group_per_ending[\"ta\"]"
   ]
  },
  {
   "cell_type": "code",
   "execution_count": 161,
   "id": "b8baf7ea",
   "metadata": {},
   "outputs": [
    {
     "data": {
      "text/plain": [
       "['lihtsalt',\n",
       " 'kaheksaselt',\n",
       " 'pooljuhuslikult',\n",
       " 'pidevalt',\n",
       " 'rahaliselt',\n",
       " 'kokkuhoidlikult',\n",
       " 'kergelt',\n",
       " 'tõsiselt',\n",
       " 'tegelikult',\n",
       " 'sealt']"
      ]
     },
     "execution_count": 161,
     "metadata": {},
     "output_type": "execute_result"
    }
   ],
   "source": [
    "group_per_ending[\"lt\"][:10]"
   ]
  },
  {
   "cell_type": "code",
   "execution_count": 237,
   "id": "8840b828",
   "metadata": {},
   "outputs": [
    {
     "data": {
      "text/plain": [
       "['siiski',\n",
       " 'ühtäkki',\n",
       " 'nüüdki',\n",
       " 'äkki',\n",
       " 'katki',\n",
       " 'kaugeltki',\n",
       " 'ealeski',\n",
       " 'lõhki',\n",
       " 'küllaltki',\n",
       " 'hoopiski']"
      ]
     },
     "execution_count": 237,
     "metadata": {},
     "output_type": "execute_result"
    }
   ],
   "source": [
    "group_per_ending[\"ki\"][:10]"
   ]
  },
  {
   "cell_type": "code",
   "execution_count": 223,
   "id": "2ebeb850",
   "metadata": {},
   "outputs": [
    {
     "data": {
      "text/plain": [
       "['kuskil',\n",
       " 'kusagil',\n",
       " 'pisarsilmil',\n",
       " 'siinmail',\n",
       " 'sealmail',\n",
       " 'käsipõsakil',\n",
       " 'õhevil',\n",
       " 'võõrsil',\n",
       " 'neljakäpakil',\n",
       " 'kodumail',\n",
       " 'pungil',\n",
       " 'tulvil',\n",
       " 'kukil',\n",
       " 'hajevil',\n",
       " 'põnevil',\n",
       " 'neljakäpukil',\n",
       " 'ärevil',\n",
       " 'paokil',\n",
       " 'teoksil',\n",
       " 'vargil']"
      ]
     },
     "execution_count": 223,
     "metadata": {},
     "output_type": "execute_result"
    }
   ],
   "source": [
    "group_per_ending[\"il\"][:20]"
   ]
  },
  {
   "cell_type": "code",
   "execution_count": 232,
   "id": "09106323",
   "metadata": {},
   "outputs": [],
   "source": [
    "testtext = Text(\"Noor naine pöördub pisarsilmil oma mehe poole\")"
   ]
  },
  {
   "cell_type": "code",
   "execution_count": 233,
   "id": "234f1afd",
   "metadata": {
    "scrolled": true
   },
   "outputs": [
    {
     "data": {
      "text/html": [
       "<h4>Layer</h4>\n",
       "\n",
       "\n",
       "<table border=\"1\" class=\"dataframe\">\n",
       "  <thead>\n",
       "    <tr style=\"text-align: right;\">\n",
       "      <th>layer name</th>\n",
       "      <th>attributes</th>\n",
       "      <th>parent</th>\n",
       "      <th>enveloping</th>\n",
       "      <th>ambiguous</th>\n",
       "      <th>span count</th>\n",
       "    </tr>\n",
       "  </thead>\n",
       "  <tbody>\n",
       "    <tr>\n",
       "      <td>morph_analysis</td>\n",
       "      <td>normalized_text, lemma, root, root_tokens, ending, clitic, form, partofspeech</td>\n",
       "      <td>words</td>\n",
       "      <td>None</td>\n",
       "      <td>True</td>\n",
       "      <td>7</td>\n",
       "    </tr>\n",
       "  </tbody>\n",
       "</table>\n",
       "<table border=\"1\" class=\"dataframe\">\n",
       "  <thead>\n",
       "    <tr style=\"text-align: right;\">\n",
       "      <th>text</th>\n",
       "      <th>normalized_text</th>\n",
       "      <th>lemma</th>\n",
       "      <th>root</th>\n",
       "      <th>root_tokens</th>\n",
       "      <th>ending</th>\n",
       "      <th>clitic</th>\n",
       "      <th>form</th>\n",
       "      <th>partofspeech</th>\n",
       "    </tr>\n",
       "  </thead>\n",
       "  <tbody>\n",
       "    <tr>\n",
       "      <td>Noor</td>\n",
       "      <td>Noor</td>\n",
       "      <td>noor</td>\n",
       "      <td>noor</td>\n",
       "      <td>['noor']</td>\n",
       "      <td>0</td>\n",
       "      <td></td>\n",
       "      <td>sg n</td>\n",
       "      <td>A</td>\n",
       "    </tr>\n",
       "    <tr>\n",
       "      <td>naine</td>\n",
       "      <td>naine</td>\n",
       "      <td>naine</td>\n",
       "      <td>naine</td>\n",
       "      <td>['naine']</td>\n",
       "      <td>0</td>\n",
       "      <td></td>\n",
       "      <td>sg n</td>\n",
       "      <td>S</td>\n",
       "    </tr>\n",
       "    <tr>\n",
       "      <td>pöördub</td>\n",
       "      <td>pöördub</td>\n",
       "      <td>pöörduma</td>\n",
       "      <td>pöördu</td>\n",
       "      <td>['pöördu']</td>\n",
       "      <td>b</td>\n",
       "      <td></td>\n",
       "      <td>b</td>\n",
       "      <td>V</td>\n",
       "    </tr>\n",
       "    <tr>\n",
       "      <td>pisarsilmil</td>\n",
       "      <td>pisarsilmil</td>\n",
       "      <td>pisarsilmil</td>\n",
       "      <td>pisar_silmil</td>\n",
       "      <td>['pisar', 'silmil']</td>\n",
       "      <td>0</td>\n",
       "      <td></td>\n",
       "      <td></td>\n",
       "      <td>D</td>\n",
       "    </tr>\n",
       "    <tr>\n",
       "      <td>oma</td>\n",
       "      <td>oma</td>\n",
       "      <td>oma</td>\n",
       "      <td>oma</td>\n",
       "      <td>['oma']</td>\n",
       "      <td>0</td>\n",
       "      <td></td>\n",
       "      <td>sg g</td>\n",
       "      <td>P</td>\n",
       "    </tr>\n",
       "    <tr>\n",
       "      <td>mehe</td>\n",
       "      <td>mehe</td>\n",
       "      <td>mees</td>\n",
       "      <td>mees</td>\n",
       "      <td>['mees']</td>\n",
       "      <td>0</td>\n",
       "      <td></td>\n",
       "      <td>sg g</td>\n",
       "      <td>S</td>\n",
       "    </tr>\n",
       "    <tr>\n",
       "      <td>poole</td>\n",
       "      <td>poole</td>\n",
       "      <td>poole</td>\n",
       "      <td>poole</td>\n",
       "      <td>['poole']</td>\n",
       "      <td>0</td>\n",
       "      <td></td>\n",
       "      <td></td>\n",
       "      <td>K</td>\n",
       "    </tr>\n",
       "  </tbody>\n",
       "</table>"
      ],
      "text/plain": [
       "Layer(name='morph_analysis', attributes=('normalized_text', 'lemma', 'root', 'root_tokens', 'ending', 'clitic', 'form', 'partofspeech'), spans=SL[Span('Noor', [{'normalized_text': 'Noor', 'lemma': 'noor', 'root': 'noor', 'root_tokens': ['noor'], 'ending': '0', 'clitic': '', 'form': 'sg n', 'partofspeech': 'A'}]),\n",
       "Span('naine', [{'normalized_text': 'naine', 'lemma': 'naine', 'root': 'naine', 'root_tokens': ['naine'], 'ending': '0', 'clitic': '', 'form': 'sg n', 'partofspeech': 'S'}]),\n",
       "Span('pöördub', [{'normalized_text': 'pöördub', 'lemma': 'pöörduma', 'root': 'pöördu', 'root_tokens': ['pöördu'], 'ending': 'b', 'clitic': '', 'form': 'b', 'partofspeech': 'V'}]),\n",
       "Span('pisarsilmil', [{'normalized_text': 'pisarsilmil', 'lemma': 'pisarsilmil', 'root': 'pisar_silmil', 'root_tokens': ['pisar', 'silmil'], 'ending': '0', 'clitic': '', 'form': '', 'partofspeech': 'D'}]),\n",
       "Span('oma', [{'normalized_text': 'oma', 'lemma': 'oma', 'root': 'oma', 'root_tokens': ['oma'], 'ending': '0', 'clitic': '', 'form': 'sg g', 'partofspeech': 'P'}]),\n",
       "Span('mehe', [{'normalized_text': 'mehe', 'lemma': 'mees', 'root': 'mees', 'root_tokens': ['mees'], 'ending': '0', 'clitic': '', 'form': 'sg g', 'partofspeech': 'S'}]),\n",
       "Span('poole', [{'normalized_text': 'poole', 'lemma': 'poole', 'root': 'poole', 'root_tokens': ['poole'], 'ending': '0', 'clitic': '', 'form': '', 'partofspeech': 'K'}])])"
      ]
     },
     "execution_count": 233,
     "metadata": {},
     "output_type": "execute_result"
    }
   ],
   "source": [
    "testtext.tag_layer()\n",
    "testtext.morph_analysis"
   ]
  },
  {
   "cell_type": "code",
   "execution_count": 168,
   "id": "8a09dcb4",
   "metadata": {},
   "outputs": [
    {
     "data": {
      "text/plain": [
       "'lihtsa'"
      ]
     },
     "execution_count": 168,
     "metadata": {},
     "output_type": "execute_result"
    }
   ],
   "source": [
    "group_per_ending[\"lt\"][0][:-2]"
   ]
  },
  {
   "cell_type": "code",
   "execution_count": 169,
   "id": "d7c874a9",
   "metadata": {},
   "outputs": [],
   "source": [
    "lt_endings_removed = [word[:-2] for word in group_per_ending[\"lt\"]]"
   ]
  },
  {
   "cell_type": "code",
   "execution_count": 170,
   "id": "f042edd9",
   "metadata": {},
   "outputs": [],
   "source": [
    "lt_analysis = vm.analyze(lt_endings_removed, guess=False)"
   ]
  },
  {
   "cell_type": "code",
   "execution_count": 171,
   "id": "a4ef59ae",
   "metadata": {},
   "outputs": [
    {
     "data": {
      "text/plain": [
       "{'text': 'lihtsa',\n",
       " 'analysis': [{'root': 'lihtne',\n",
       "   'root_tokens': ['lihtne'],\n",
       "   'ending': '0',\n",
       "   'clitic': '',\n",
       "   'partofspeech': 'A',\n",
       "   'form': 'sg g',\n",
       "   'lemma': 'lihtne'}]}"
      ]
     },
     "execution_count": 171,
     "metadata": {},
     "output_type": "execute_result"
    }
   ],
   "source": [
    "lt_analysis[0]"
   ]
  },
  {
   "cell_type": "code",
   "execution_count": 172,
   "id": "2bda0471",
   "metadata": {},
   "outputs": [
    {
     "data": {
      "text/plain": [
       "2589"
      ]
     },
     "execution_count": 172,
     "metadata": {},
     "output_type": "execute_result"
    }
   ],
   "source": [
    "len(lt_analysis)"
   ]
  },
  {
   "cell_type": "code",
   "execution_count": 182,
   "id": "2257115e",
   "metadata": {},
   "outputs": [
    {
     "data": {
      "text/plain": [
       "0.6124911284599006"
      ]
     },
     "execution_count": 182,
     "metadata": {},
     "output_type": "execute_result"
    }
   ],
   "source": [
    "2589 / 4227"
   ]
  },
  {
   "cell_type": "code",
   "execution_count": 179,
   "id": "a0e87e02",
   "metadata": {},
   "outputs": [],
   "source": [
    "lt_lemmas = []\n",
    "\n",
    "for an in lt_analysis:\n",
    "    lt_lemmas.append(an[\"analysis\"][0][\"lemma\"])"
   ]
  },
  {
   "cell_type": "code",
   "execution_count": 180,
   "id": "5eadd4e9",
   "metadata": {},
   "outputs": [
    {
     "data": {
      "text/plain": [
       "['lihtne', 'kaheksane', 'pooljuhuslik', 'pidev', 'rahaline']"
      ]
     },
     "execution_count": 180,
     "metadata": {},
     "output_type": "execute_result"
    }
   ],
   "source": [
    "lt_lemmas[:5]"
   ]
  },
  {
   "cell_type": "code",
   "execution_count": 252,
   "id": "a7095b5e",
   "metadata": {},
   "outputs": [
    {
     "data": {
      "text/plain": [
       "['lihtne',\n",
       " 'kaheksane',\n",
       " 'pooljuhuslik',\n",
       " 'pidev',\n",
       " 'rahaline',\n",
       " 'kokkuhoidlik',\n",
       " 'kerge',\n",
       " 'tõsine',\n",
       " 'tegelik',\n",
       " 'siga']"
      ]
     },
     "execution_count": 252,
     "metadata": {},
     "output_type": "execute_result"
    }
   ],
   "source": [
    "lt_lemmas[:10]"
   ]
  },
  {
   "cell_type": "code",
   "execution_count": 184,
   "id": "23e6776e",
   "metadata": {},
   "outputs": [],
   "source": [
    "wn = Wordnet()"
   ]
  },
  {
   "cell_type": "code",
   "execution_count": 185,
   "id": "4b22d727",
   "metadata": {},
   "outputs": [],
   "source": [
    "lt_adverb_hypernyms = {}\n",
    "\n",
    "for adv in lt_lemmas:\n",
    "    synsets = wn[adv]\n",
    "    if len(synsets) > 0:\n",
    "        lt_adverb_hypernyms[adv] = synsets[0].hypernyms"
   ]
  },
  {
   "cell_type": "code",
   "execution_count": 186,
   "id": "35538ccf",
   "metadata": {},
   "outputs": [
    {
     "data": {
      "text/plain": [
       "(2589, 1684)"
      ]
     },
     "execution_count": 186,
     "metadata": {},
     "output_type": "execute_result"
    }
   ],
   "source": [
    "len(lt_lemmas), len(lt_adverb_hypernyms)"
   ]
  },
  {
   "cell_type": "code",
   "execution_count": 201,
   "id": "c84bfe63",
   "metadata": {},
   "outputs": [
    {
     "data": {
      "text/plain": [
       "['lihtne', 'pidev', 'rahaline', 'kokkuhoidlik', 'kerge']"
      ]
     },
     "execution_count": 201,
     "metadata": {},
     "output_type": "execute_result"
    }
   ],
   "source": [
    "list(lt_adverb_hypernyms.keys())[:5]"
   ]
  },
  {
   "cell_type": "code",
   "execution_count": 202,
   "id": "3165df3b",
   "metadata": {},
   "outputs": [],
   "source": [
    "hypernyms = []\n",
    "\n",
    "for k, v in lt_adverb_hypernyms.items():\n",
    "    if len(v) > 0:\n",
    "        hypernyms.append(k)"
   ]
  },
  {
   "cell_type": "code",
   "execution_count": 203,
   "id": "df7e5e69",
   "metadata": {},
   "outputs": [
    {
     "data": {
      "text/plain": [
       "76"
      ]
     },
     "execution_count": 203,
     "metadata": {},
     "output_type": "execute_result"
    }
   ],
   "source": [
    "len(hypernyms)"
   ]
  },
  {
   "cell_type": "code",
   "execution_count": 208,
   "id": "9190a578",
   "metadata": {},
   "outputs": [
    {
     "data": {
      "text/plain": [
       "'koduloom'"
      ]
     },
     "execution_count": 208,
     "metadata": {},
     "output_type": "execute_result"
    }
   ],
   "source": [
    "lt_adverb_hypernyms[\"siga\"][0].literal"
   ]
  },
  {
   "cell_type": "code",
   "execution_count": 212,
   "id": "94dd0da0",
   "metadata": {},
   "outputs": [],
   "source": [
    "hypernym_literals = {}\n",
    "\n",
    "for w in hypernyms:\n",
    "    hypernym_literals[w] = lt_adverb_hypernyms[w][0].literal"
   ]
  },
  {
   "cell_type": "code",
   "execution_count": 214,
   "id": "8be05d21",
   "metadata": {},
   "outputs": [
    {
     "data": {
      "text/plain": [
       "(76, 52)"
      ]
     },
     "execution_count": 214,
     "metadata": {},
     "output_type": "execute_result"
    }
   ],
   "source": [
    "len(hypernym_literals), len(set(hypernym_literals.values()))"
   ]
  },
  {
   "cell_type": "code",
   "execution_count": 215,
   "id": "0a64e982",
   "metadata": {
    "scrolled": true
   },
   "outputs": [
    {
     "data": {
      "text/plain": [
       "[('inimene', 12),\n",
       " ('kordne', 4),\n",
       " ('koduloom', 3),\n",
       " ('haige', 3),\n",
       " ('hulk', 2),\n",
       " ('ealine', 2),\n",
       " ('kindel', 2),\n",
       " ('endeline', 2),\n",
       " ('asend', 2),\n",
       " ('miski', 2),\n",
       " ('keerukus', 1),\n",
       " ('keeleüksus', 1),\n",
       " ('halb õnn', 1),\n",
       " ('sisu', 1),\n",
       " ('rohkus', 1),\n",
       " ('kuulmiselund', 1),\n",
       " ('võistlus', 1),\n",
       " ('materjal', 1),\n",
       " ('pühendaja', 1),\n",
       " ('kulgemine', 1),\n",
       " ('kannataja', 1),\n",
       " ('vorm', 1),\n",
       " ('sigaret', 1),\n",
       " ('võimelisus', 1),\n",
       " ('kogema', 1),\n",
       " ('omadus', 1),\n",
       " ('lahke', 1),\n",
       " ('kulgev', 1),\n",
       " ('rakmed', 1),\n",
       " ('keegi', 1),\n",
       " ('mõjujõud', 1),\n",
       " ('kiriklik', 1),\n",
       " ('näit', 1),\n",
       " ('olev', 1),\n",
       " ('valge', 1),\n",
       " ('mõõde', 1),\n",
       " ('aktiivne', 1),\n",
       " ('divisjon', 1),\n",
       " ('otsustamine', 1),\n",
       " ('hinne', 1),\n",
       " ('kehaline omadus', 1),\n",
       " ('suhtlus', 1),\n",
       " ('natsionaalne', 1),\n",
       " ('töötu', 1),\n",
       " ('varustus', 1),\n",
       " ('rikas', 1),\n",
       " ('pind', 1),\n",
       " ('värviline', 1),\n",
       " ('ese', 1),\n",
       " ('käituja', 1),\n",
       " ('liigutama', 1),\n",
       " ('osavõtja', 1)]"
      ]
     },
     "execution_count": 215,
     "metadata": {},
     "output_type": "execute_result"
    }
   ],
   "source": [
    "Counter(hypernym_literals.values()).most_common()"
   ]
  }
 ],
 "metadata": {
  "kernelspec": {
   "display_name": "Python 3 (ipykernel)",
   "language": "python",
   "name": "python3"
  },
  "language_info": {
   "codemirror_mode": {
    "name": "ipython",
    "version": 3
   },
   "file_extension": ".py",
   "mimetype": "text/x-python",
   "name": "python",
   "nbconvert_exporter": "python",
   "pygments_lexer": "ipython3",
   "version": "3.8.15"
  }
 },
 "nbformat": 4,
 "nbformat_minor": 5
}
