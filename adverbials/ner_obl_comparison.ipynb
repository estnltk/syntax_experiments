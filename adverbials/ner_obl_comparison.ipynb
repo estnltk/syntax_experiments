{
 "cells": [
  {
   "cell_type": "markdown",
   "id": "11990849",
   "metadata": {},
   "source": [
    "### Imports"
   ]
  },
  {
   "cell_type": "code",
   "execution_count": 1,
   "id": "afa72424",
   "metadata": {},
   "outputs": [],
   "source": [
    "%load_ext autoreload\n",
    "%autoreload 2"
   ]
  },
  {
   "cell_type": "code",
   "execution_count": 2,
   "id": "167e4592",
   "metadata": {},
   "outputs": [],
   "source": [
    "from estnltk import Text\n",
    "from estnltk_neural.taggers import StanzaSyntaxTagger\n",
    "\n",
    "from estnltk_patches import EntityTagger\n",
    "from estnltk_patches import SyntaxTree"
   ]
  },
  {
   "cell_type": "code",
   "execution_count": 3,
   "id": "a2c4362a",
   "metadata": {},
   "outputs": [],
   "source": [
    "import pickle \n",
    "import random\n",
    "import pandas as pd\n",
    "from tqdm import tqdm\n",
    "from os import listdir\n",
    "from collections import Counter, defaultdict\n",
    "from estnltk.wordnet import Wordnet\n",
    "from estnltk.taggers import NerTagger\n",
    "from estnltk.corpus_processing.parse_koondkorpus import parse_tei_corpus"
   ]
  },
  {
   "cell_type": "markdown",
   "id": "30c96f64",
   "metadata": {},
   "source": [
    "### NER and OBL comparison"
   ]
  },
  {
   "cell_type": "code",
   "execution_count": 4,
   "id": "0f7faad9",
   "metadata": {},
   "outputs": [],
   "source": [
    "with open(\"original_sentences_with_analysis.pickle\", \"rb\") as f:\n",
    "    sentences = pickle.load(f)"
   ]
  },
  {
   "cell_type": "code",
   "execution_count": 5,
   "id": "b92a57bd",
   "metadata": {},
   "outputs": [
    {
     "data": {
      "text/html": [
       "<table border=\"1\" class=\"dataframe\">\n",
       "  <thead>\n",
       "    <tr style=\"text-align: right;\">\n",
       "      <th>text</th>\n",
       "    </tr>\n",
       "  </thead>\n",
       "  <tbody>\n",
       "    <tr>\n",
       "      <td><div align = \"left\">08.08.2001 Maarius Suviste</div></td>\n",
       "    </tr>\n",
       "  </tbody>\n",
       "</table>\n",
       "<table border=\"1\" class=\"dataframe\">\n",
       "  <thead>\n",
       "    <tr style=\"text-align: right;\">\n",
       "      <th>layer name</th>\n",
       "      <th>attributes</th>\n",
       "      <th>parent</th>\n",
       "      <th>enveloping</th>\n",
       "      <th>ambiguous</th>\n",
       "      <th>span count</th>\n",
       "    </tr>\n",
       "  </thead>\n",
       "  <tbody>\n",
       "    <tr>\n",
       "      <td>sentences</td>\n",
       "      <td></td>\n",
       "      <td>None</td>\n",
       "      <td>words</td>\n",
       "      <td>False</td>\n",
       "      <td>1</td>\n",
       "    </tr>\n",
       "    <tr>\n",
       "      <td>tokens</td>\n",
       "      <td></td>\n",
       "      <td>None</td>\n",
       "      <td>None</td>\n",
       "      <td>False</td>\n",
       "      <td>7</td>\n",
       "    </tr>\n",
       "    <tr>\n",
       "      <td>compound_tokens</td>\n",
       "      <td>type, normalized</td>\n",
       "      <td>None</td>\n",
       "      <td>tokens</td>\n",
       "      <td>False</td>\n",
       "      <td>1</td>\n",
       "    </tr>\n",
       "    <tr>\n",
       "      <td>words</td>\n",
       "      <td>normalized_form</td>\n",
       "      <td>None</td>\n",
       "      <td>None</td>\n",
       "      <td>True</td>\n",
       "      <td>3</td>\n",
       "    </tr>\n",
       "    <tr>\n",
       "      <td>morph_analysis</td>\n",
       "      <td>normalized_text, lemma, root, root_tokens, ending, clitic, form, partofspeech</td>\n",
       "      <td>words</td>\n",
       "      <td>None</td>\n",
       "      <td>True</td>\n",
       "      <td>3</td>\n",
       "    </tr>\n",
       "    <tr>\n",
       "      <td>morph_extended</td>\n",
       "      <td>normalized_text, lemma, root, root_tokens, ending, clitic, form, partofspeech, punctuation_type, pronoun_type, letter_case, fin, verb_extension_suffix, subcat</td>\n",
       "      <td>morph_analysis</td>\n",
       "      <td>None</td>\n",
       "      <td>True</td>\n",
       "      <td>3</td>\n",
       "    </tr>\n",
       "    <tr>\n",
       "      <td>entities</td>\n",
       "      <td>entity_type, free_entity, is_valid, root</td>\n",
       "      <td>None</td>\n",
       "      <td>morph_analysis</td>\n",
       "      <td>False</td>\n",
       "      <td>1</td>\n",
       "    </tr>\n",
       "    <tr>\n",
       "      <td>ner</td>\n",
       "      <td>nertag</td>\n",
       "      <td>None</td>\n",
       "      <td>words</td>\n",
       "      <td>False</td>\n",
       "      <td>0</td>\n",
       "    </tr>\n",
       "    <tr>\n",
       "      <td>stanza_syntax</td>\n",
       "      <td>id, lemma, upostag, xpostag, feats, head, deprel, deps, misc</td>\n",
       "      <td>morph_analysis</td>\n",
       "      <td>None</td>\n",
       "      <td>False</td>\n",
       "      <td>3</td>\n",
       "    </tr>\n",
       "  </tbody>\n",
       "</table>"
      ],
      "text/plain": [
       "Text(text='08.08.2001 Maarius Suviste')"
      ]
     },
     "execution_count": 5,
     "metadata": {},
     "output_type": "execute_result"
    }
   ],
   "source": [
    "sentences[0]"
   ]
  },
  {
   "cell_type": "code",
   "execution_count": 6,
   "id": "b5ceb3ea",
   "metadata": {},
   "outputs": [
    {
     "data": {
      "text/html": [
       "<table border=\"1\" class=\"dataframe\">\n",
       "  <thead>\n",
       "    <tr style=\"text-align: right;\">\n",
       "      <th>text</th>\n",
       "    </tr>\n",
       "  </thead>\n",
       "  <tbody>\n",
       "    <tr>\n",
       "      <td><div align = \"left\">Ta sündis Saaremaal Laimjala vallas talunik Fjodor Rüütli perekonnas .</div></td>\n",
       "    </tr>\n",
       "  </tbody>\n",
       "</table>\n",
       "<table border=\"1\" class=\"dataframe\">\n",
       "  <thead>\n",
       "    <tr style=\"text-align: right;\">\n",
       "      <th>layer name</th>\n",
       "      <th>attributes</th>\n",
       "      <th>parent</th>\n",
       "      <th>enveloping</th>\n",
       "      <th>ambiguous</th>\n",
       "      <th>span count</th>\n",
       "    </tr>\n",
       "  </thead>\n",
       "  <tbody>\n",
       "    <tr>\n",
       "      <td>sentences</td>\n",
       "      <td></td>\n",
       "      <td>None</td>\n",
       "      <td>words</td>\n",
       "      <td>False</td>\n",
       "      <td>1</td>\n",
       "    </tr>\n",
       "    <tr>\n",
       "      <td>tokens</td>\n",
       "      <td></td>\n",
       "      <td>None</td>\n",
       "      <td>None</td>\n",
       "      <td>False</td>\n",
       "      <td>10</td>\n",
       "    </tr>\n",
       "    <tr>\n",
       "      <td>compound_tokens</td>\n",
       "      <td>type, normalized</td>\n",
       "      <td>None</td>\n",
       "      <td>tokens</td>\n",
       "      <td>False</td>\n",
       "      <td>0</td>\n",
       "    </tr>\n",
       "    <tr>\n",
       "      <td>words</td>\n",
       "      <td>normalized_form</td>\n",
       "      <td>None</td>\n",
       "      <td>None</td>\n",
       "      <td>True</td>\n",
       "      <td>10</td>\n",
       "    </tr>\n",
       "    <tr>\n",
       "      <td>morph_analysis</td>\n",
       "      <td>normalized_text, lemma, root, root_tokens, ending, clitic, form, partofspeech</td>\n",
       "      <td>words</td>\n",
       "      <td>None</td>\n",
       "      <td>True</td>\n",
       "      <td>10</td>\n",
       "    </tr>\n",
       "    <tr>\n",
       "      <td>morph_extended</td>\n",
       "      <td>normalized_text, lemma, root, root_tokens, ending, clitic, form, partofspeech, punctuation_type, pronoun_type, letter_case, fin, verb_extension_suffix, subcat</td>\n",
       "      <td>morph_analysis</td>\n",
       "      <td>None</td>\n",
       "      <td>True</td>\n",
       "      <td>10</td>\n",
       "    </tr>\n",
       "    <tr>\n",
       "      <td>entities</td>\n",
       "      <td>entity_type, free_entity, is_valid, root</td>\n",
       "      <td>None</td>\n",
       "      <td>morph_analysis</td>\n",
       "      <td>False</td>\n",
       "      <td>2</td>\n",
       "    </tr>\n",
       "    <tr>\n",
       "      <td>ner</td>\n",
       "      <td>nertag</td>\n",
       "      <td>None</td>\n",
       "      <td>words</td>\n",
       "      <td>False</td>\n",
       "      <td>3</td>\n",
       "    </tr>\n",
       "    <tr>\n",
       "      <td>stanza_syntax</td>\n",
       "      <td>id, lemma, upostag, xpostag, feats, head, deprel, deps, misc</td>\n",
       "      <td>morph_analysis</td>\n",
       "      <td>None</td>\n",
       "      <td>False</td>\n",
       "      <td>10</td>\n",
       "    </tr>\n",
       "  </tbody>\n",
       "</table>"
      ],
      "text/plain": [
       "Text(text='Ta sündis Saaremaal Laimjala vallas talunik Fjodor Rüütli perekonnas .')"
      ]
     },
     "execution_count": 6,
     "metadata": {},
     "output_type": "execute_result"
    }
   ],
   "source": [
    "sentences[20]"
   ]
  },
  {
   "cell_type": "code",
   "execution_count": 7,
   "id": "7d340a7a",
   "metadata": {},
   "outputs": [
    {
     "data": {
      "text/html": [
       "<h4>Layer</h4>\n",
       "\n",
       "\n",
       "<table border=\"1\" class=\"dataframe\">\n",
       "  <thead>\n",
       "    <tr style=\"text-align: right;\">\n",
       "      <th>layer name</th>\n",
       "      <th>attributes</th>\n",
       "      <th>parent</th>\n",
       "      <th>enveloping</th>\n",
       "      <th>ambiguous</th>\n",
       "      <th>span count</th>\n",
       "    </tr>\n",
       "  </thead>\n",
       "  <tbody>\n",
       "    <tr>\n",
       "      <td>entities</td>\n",
       "      <td>entity_type, free_entity, is_valid, root</td>\n",
       "      <td>None</td>\n",
       "      <td>morph_analysis</td>\n",
       "      <td>False</td>\n",
       "      <td>2</td>\n",
       "    </tr>\n",
       "  </tbody>\n",
       "</table>\n",
       "<table border=\"1\" class=\"dataframe\">\n",
       "  <thead>\n",
       "    <tr style=\"text-align: right;\">\n",
       "      <th>text</th>\n",
       "      <th>entity_type</th>\n",
       "      <th>free_entity</th>\n",
       "      <th>is_valid</th>\n",
       "      <th>root</th>\n",
       "    </tr>\n",
       "  </thead>\n",
       "  <tbody>\n",
       "    <tr>\n",
       "      <td>['vallas']</td>\n",
       "      <td>None</td>\n",
       "      <td>None</td>\n",
       "      <td>None</td>\n",
       "      <td>Span('vallas', [{'id': 5, 'lemma': 'vald', 'upostag': 'S', 'xpostag': 'S', 'feat ..., type: &lt;class 'estnltk_core.layer.span.Span'&gt;</td>\n",
       "    </tr>\n",
       "    <tr>\n",
       "      <td>['perekonnas']</td>\n",
       "      <td>None</td>\n",
       "      <td>None</td>\n",
       "      <td>None</td>\n",
       "      <td>Span('perekonnas', [{'id': 9, 'lemma': 'perekond', 'upostag': 'S', 'xpostag': 'S ..., type: &lt;class 'estnltk_core.layer.span.Span'&gt;</td>\n",
       "    </tr>\n",
       "  </tbody>\n",
       "</table>"
      ],
      "text/plain": [
       "Layer(name='entities', attributes=('entity_type', 'free_entity', 'is_valid', 'root'), spans=SL[EnvelopingSpan(['vallas'], [{'entity_type': None, 'free_entity': None, 'is_valid': None, 'root': <class 'estnltk_core.layer.span.Span'>}]),\n",
       "EnvelopingSpan(['perekonnas'], [{'entity_type': None, 'free_entity': None, 'is_valid': None, 'root': <class 'estnltk_core.layer.span.Span'>}])])"
      ]
     },
     "execution_count": 7,
     "metadata": {},
     "output_type": "execute_result"
    }
   ],
   "source": [
    "sentences[20].entities"
   ]
  },
  {
   "cell_type": "code",
   "execution_count": 8,
   "id": "512ab1e2",
   "metadata": {},
   "outputs": [
    {
     "data": {
      "text/html": [
       "<h4>Layer</h4>\n",
       "\n",
       "\n",
       "<table border=\"1\" class=\"dataframe\">\n",
       "  <thead>\n",
       "    <tr style=\"text-align: right;\">\n",
       "      <th>layer name</th>\n",
       "      <th>attributes</th>\n",
       "      <th>parent</th>\n",
       "      <th>enveloping</th>\n",
       "      <th>ambiguous</th>\n",
       "      <th>span count</th>\n",
       "    </tr>\n",
       "  </thead>\n",
       "  <tbody>\n",
       "    <tr>\n",
       "      <td>ner</td>\n",
       "      <td>nertag</td>\n",
       "      <td>None</td>\n",
       "      <td>words</td>\n",
       "      <td>False</td>\n",
       "      <td>3</td>\n",
       "    </tr>\n",
       "  </tbody>\n",
       "</table>\n",
       "<table border=\"1\" class=\"dataframe\">\n",
       "  <thead>\n",
       "    <tr style=\"text-align: right;\">\n",
       "      <th>text</th>\n",
       "      <th>nertag</th>\n",
       "    </tr>\n",
       "  </thead>\n",
       "  <tbody>\n",
       "    <tr>\n",
       "      <td>['Saaremaal']</td>\n",
       "      <td>LOC</td>\n",
       "    </tr>\n",
       "    <tr>\n",
       "      <td>['Laimjala', 'vallas']</td>\n",
       "      <td>LOC</td>\n",
       "    </tr>\n",
       "    <tr>\n",
       "      <td>['Fjodor', 'Rüütli']</td>\n",
       "      <td>PER</td>\n",
       "    </tr>\n",
       "  </tbody>\n",
       "</table>"
      ],
      "text/plain": [
       "Layer(name='ner', attributes=('nertag',), spans=SL[EnvelopingSpan(['Saaremaal'], [{'nertag': 'LOC'}]),\n",
       "EnvelopingSpan(['Laimjala', 'vallas'], [{'nertag': 'LOC'}]),\n",
       "EnvelopingSpan(['Fjodor', 'Rüütli'], [{'nertag': 'PER'}])])"
      ]
     },
     "execution_count": 8,
     "metadata": {},
     "output_type": "execute_result"
    }
   ],
   "source": [
    "sentences[20].ner"
   ]
  },
  {
   "cell_type": "code",
   "execution_count": 9,
   "id": "e09274e2",
   "metadata": {},
   "outputs": [
    {
     "data": {
      "text/plain": [
       "True"
      ]
     },
     "execution_count": 9,
     "metadata": {},
     "output_type": "execute_result"
    }
   ],
   "source": [
    "sentences[20].entities[0][0].start <= sentences[20].ner[1][-1].end and sentences[20].entities[0][0].end >= sentences[20].ner[1][0].start"
   ]
  },
  {
   "cell_type": "code",
   "execution_count": 10,
   "id": "e59f1c62",
   "metadata": {},
   "outputs": [
    {
     "data": {
      "text/plain": [
       "10"
      ]
     },
     "execution_count": 10,
     "metadata": {},
     "output_type": "execute_result"
    }
   ],
   "source": [
    "sentences[20].ner[0][0].start"
   ]
  },
  {
   "cell_type": "code",
   "execution_count": 11,
   "id": "be783522",
   "metadata": {},
   "outputs": [
    {
     "data": {
      "text/plain": [
       "20"
      ]
     },
     "execution_count": 11,
     "metadata": {},
     "output_type": "execute_result"
    }
   ],
   "source": [
    "sentences[20].ner[1][0].start"
   ]
  },
  {
   "cell_type": "code",
   "execution_count": 12,
   "id": "82a8cf47",
   "metadata": {},
   "outputs": [
    {
     "data": {
      "text/plain": [
       "35"
      ]
     },
     "execution_count": 12,
     "metadata": {},
     "output_type": "execute_result"
    }
   ],
   "source": [
    "sentences[20].ner[1][-1].end"
   ]
  },
  {
   "cell_type": "code",
   "execution_count": 13,
   "id": "3c9e16b7",
   "metadata": {},
   "outputs": [
    {
     "data": {
      "text/plain": [
       "['Laimjala', 'vallas']"
      ]
     },
     "execution_count": 13,
     "metadata": {},
     "output_type": "execute_result"
    }
   ],
   "source": [
    "sentences[20].ner[1].text"
   ]
  },
  {
   "cell_type": "code",
   "execution_count": 14,
   "id": "b3c984ab",
   "metadata": {},
   "outputs": [
    {
     "name": "stdout",
     "output_type": "stream",
     "text": [
      "1118\n",
      "2534\n"
     ]
    }
   ],
   "source": [
    "equal_ner_obl = []\n",
    "partly_equal_ner_obl = []\n",
    "ner_without_obl = []\n",
    "\n",
    "for i, sentence in enumerate(sentences):\n",
    "    try:\n",
    "        ents = sentence.entities\n",
    "        nerlayer = sentence.ner\n",
    "    \n",
    "        for n in nerlayer:\n",
    "            if n.nertag != \"LOC\":\n",
    "                continue\n",
    "            n_match = False\n",
    "            for ent in ents:\n",
    "                if ent.text == n.text:\n",
    "                    equal_ner_obl.append((i, n, ent))\n",
    "                    n_match = True\n",
    "                if ent[0].start <= n[-1].end and ent[-1].end >= n[0].start:\n",
    "                    partly_equal_ner_obl.append((i, n, ent))\n",
    "                    n_match = True\n",
    "            if n_match == False:\n",
    "                ner_without_obl.append((i, n))\n",
    "    except:\n",
    "        print(i)\n",
    "        continue"
   ]
  },
  {
   "cell_type": "code",
   "execution_count": 15,
   "id": "28a83847",
   "metadata": {},
   "outputs": [
    {
     "data": {
      "text/plain": [
       "271"
      ]
     },
     "execution_count": 15,
     "metadata": {},
     "output_type": "execute_result"
    }
   ],
   "source": [
    "len(equal_ner_obl)"
   ]
  },
  {
   "cell_type": "code",
   "execution_count": 16,
   "id": "127a46a5",
   "metadata": {},
   "outputs": [
    {
     "data": {
      "text/plain": [
       "(146,\n",
       " EnvelopingSpan(['Eesti', 'riigil'], [{'nertag': 'LOC'}]),\n",
       " EnvelopingSpan(['Eesti', 'riigil'], [{'entity_type': None, 'free_entity': None, 'is_valid': None, 'root': <class 'estnltk_core.layer.span.Span'>}]))"
      ]
     },
     "execution_count": 16,
     "metadata": {},
     "output_type": "execute_result"
    }
   ],
   "source": [
    "equal_ner_obl[0]"
   ]
  },
  {
   "cell_type": "code",
   "execution_count": 17,
   "id": "83adc26e",
   "metadata": {},
   "outputs": [
    {
     "data": {
      "text/plain": [
       "910"
      ]
     },
     "execution_count": 17,
     "metadata": {},
     "output_type": "execute_result"
    }
   ],
   "source": [
    "len(partly_equal_ner_obl)"
   ]
  },
  {
   "cell_type": "code",
   "execution_count": 18,
   "id": "1adb4775",
   "metadata": {},
   "outputs": [
    {
     "data": {
      "text/plain": [
       "(20,\n",
       " EnvelopingSpan(['Laimjala', 'vallas'], [{'nertag': 'LOC'}]),\n",
       " EnvelopingSpan(['vallas'], [{'entity_type': None, 'free_entity': None, 'is_valid': None, 'root': <class 'estnltk_core.layer.span.Span'>}]))"
      ]
     },
     "execution_count": 18,
     "metadata": {},
     "output_type": "execute_result"
    }
   ],
   "source": [
    "partly_equal_ner_obl[0]"
   ]
  },
  {
   "cell_type": "code",
   "execution_count": 19,
   "id": "acc9bf1f",
   "metadata": {},
   "outputs": [
    {
     "data": {
      "text/plain": [
       "[(20,\n",
       "  EnvelopingSpan(['Laimjala', 'vallas'], [{'nertag': 'LOC'}]),\n",
       "  EnvelopingSpan(['vallas'], [{'entity_type': None, 'free_entity': None, 'is_valid': None, 'root': <class 'estnltk_core.layer.span.Span'>}])),\n",
       " (25,\n",
       "  EnvelopingSpan(['Nõukogude'], [{'nertag': 'LOC'}]),\n",
       "  EnvelopingSpan(['Nõukogude', 'Liidu'], [{'entity_type': None, 'free_entity': None, 'is_valid': None, 'root': <class 'estnltk_core.layer.span.Span'>}])),\n",
       " (28,\n",
       "  EnvelopingSpan(['Eesti'], [{'nertag': 'LOC'}]),\n",
       "  EnvelopingSpan(['Eesti', 'suveräänsuse', 'kaitsjana'], [{'entity_type': None, 'free_entity': None, 'is_valid': None, 'root': <class 'estnltk_core.layer.span.Span'>}])),\n",
       " (97,\n",
       "  EnvelopingSpan(['Eesti'], [{'nertag': 'LOC'}]),\n",
       "  EnvelopingSpan(['Eesti', 'raskest', 'seisust'], [{'entity_type': None, 'free_entity': None, 'is_valid': None, 'root': <class 'estnltk_core.layer.span.Span'>}])),\n",
       " (146,\n",
       "  EnvelopingSpan(['Eesti', 'riigil'], [{'nertag': 'LOC'}]),\n",
       "  EnvelopingSpan(['Eesti', 'riigil'], [{'entity_type': None, 'free_entity': None, 'is_valid': None, 'root': <class 'estnltk_core.layer.span.Span'>}])),\n",
       " (154,\n",
       "  EnvelopingSpan(['Eesti'], [{'nertag': 'LOC'}]),\n",
       "  EnvelopingSpan(['Eesti', 'riigist'], [{'entity_type': None, 'free_entity': None, 'is_valid': None, 'root': <class 'estnltk_core.layer.span.Span'>}])),\n",
       " (181,\n",
       "  EnvelopingSpan(['Pöide', 'vallas'], [{'nertag': 'LOC'}]),\n",
       "  EnvelopingSpan(['vallas'], [{'entity_type': None, 'free_entity': None, 'is_valid': None, 'root': <class 'estnltk_core.layer.span.Span'>}])),\n",
       " (181,\n",
       "  EnvelopingSpan(['Kakuna', 'külas'], [{'nertag': 'LOC'}]),\n",
       "  EnvelopingSpan(['külas'], [{'entity_type': None, 'free_entity': None, 'is_valid': None, 'root': <class 'estnltk_core.layer.span.Span'>}])),\n",
       " (200,\n",
       "  EnvelopingSpan(['Saaremaa'], [{'nertag': 'LOC'}]),\n",
       "  EnvelopingSpan(['Saaremaa', 'rannaküla', 'talu', ',', 'väike', 'ja', 'madal', ',', 'rookatusega', ',', 'tõsi', 'küll', ',', 'eterniitkatus', 'on', 'peale', 'löödud', '.'], [{'entity_type': None, 'free_entity': None, 'is_valid': None, 'root': <class 'estnltk_core.layer.span.Span'>}])),\n",
       " (202,\n",
       "  EnvelopingSpan(['Laimjala', 'vallas'], [{'nertag': 'LOC'}]),\n",
       "  EnvelopingSpan(['vallas'], [{'entity_type': None, 'free_entity': None, 'is_valid': None, 'root': <class 'estnltk_core.layer.span.Span'>}]))]"
      ]
     },
     "execution_count": 19,
     "metadata": {},
     "output_type": "execute_result"
    }
   ],
   "source": [
    "partly_equal_ner_obl[:10]"
   ]
  },
  {
   "cell_type": "code",
   "execution_count": 20,
   "id": "af15b6ec",
   "metadata": {},
   "outputs": [
    {
     "data": {
      "text/plain": [
       "2101"
      ]
     },
     "execution_count": 20,
     "metadata": {},
     "output_type": "execute_result"
    }
   ],
   "source": [
    "len(ner_without_obl)"
   ]
  },
  {
   "cell_type": "code",
   "execution_count": 21,
   "id": "dbdb745b",
   "metadata": {},
   "outputs": [
    {
     "data": {
      "text/plain": [
       "(1, EnvelopingSpan(['Saaremaal'], [{'nertag': 'LOC'}]))"
      ]
     },
     "execution_count": 21,
     "metadata": {},
     "output_type": "execute_result"
    }
   ],
   "source": [
    "ner_without_obl[0]"
   ]
  },
  {
   "cell_type": "code",
   "execution_count": 22,
   "id": "cd98c4d7",
   "metadata": {},
   "outputs": [
    {
     "name": "stdout",
     "output_type": "stream",
     "text": [
      "1118 'Text' object has no layer 'entities'\n",
      "2534 'Text' object has no layer 'entities'\n"
     ]
    }
   ],
   "source": [
    "ner_inside_obl = []\n",
    "\n",
    "for i, sentence in enumerate(sentences):\n",
    "    try:\n",
    "        ents = sentence.entities\n",
    "        nerlayer = sentence.ner\n",
    "        \n",
    "        if len(ents) == 0:\n",
    "            continue\n",
    "    \n",
    "        for n in nerlayer:\n",
    "            if n.nertag != \"LOC\":\n",
    "                continue\n",
    "            for ent in ents:\n",
    "                if n[0].start >= ent[0].start and n[-1].end <= ent[-1].end:\n",
    "                    ner_inside_obl.append((i, n, ent))\n",
    "    except Exception as e:\n",
    "        print(i, e)\n",
    "        continue"
   ]
  },
  {
   "cell_type": "code",
   "execution_count": 23,
   "id": "991cdfbf",
   "metadata": {},
   "outputs": [
    {
     "data": {
      "text/plain": [
       "797"
      ]
     },
     "execution_count": 23,
     "metadata": {},
     "output_type": "execute_result"
    }
   ],
   "source": [
    "len(ner_inside_obl)"
   ]
  },
  {
   "cell_type": "code",
   "execution_count": 24,
   "id": "cc90ae83",
   "metadata": {},
   "outputs": [
    {
     "data": {
      "text/plain": [
       "[(25,\n",
       "  EnvelopingSpan(['Nõukogude'], [{'nertag': 'LOC'}]),\n",
       "  EnvelopingSpan(['Nõukogude', 'Liidu'], [{'entity_type': None, 'free_entity': None, 'is_valid': None, 'root': <class 'estnltk_core.layer.span.Span'>}])),\n",
       " (28,\n",
       "  EnvelopingSpan(['Eesti'], [{'nertag': 'LOC'}]),\n",
       "  EnvelopingSpan(['Eesti', 'suveräänsuse', 'kaitsjana'], [{'entity_type': None, 'free_entity': None, 'is_valid': None, 'root': <class 'estnltk_core.layer.span.Span'>}])),\n",
       " (97,\n",
       "  EnvelopingSpan(['Eesti'], [{'nertag': 'LOC'}]),\n",
       "  EnvelopingSpan(['Eesti', 'raskest', 'seisust'], [{'entity_type': None, 'free_entity': None, 'is_valid': None, 'root': <class 'estnltk_core.layer.span.Span'>}])),\n",
       " (146,\n",
       "  EnvelopingSpan(['Eesti', 'riigil'], [{'nertag': 'LOC'}]),\n",
       "  EnvelopingSpan(['Eesti', 'riigil'], [{'entity_type': None, 'free_entity': None, 'is_valid': None, 'root': <class 'estnltk_core.layer.span.Span'>}])),\n",
       " (154,\n",
       "  EnvelopingSpan(['Eesti'], [{'nertag': 'LOC'}]),\n",
       "  EnvelopingSpan(['Eesti', 'riigist'], [{'entity_type': None, 'free_entity': None, 'is_valid': None, 'root': <class 'estnltk_core.layer.span.Span'>}]))]"
      ]
     },
     "execution_count": 24,
     "metadata": {},
     "output_type": "execute_result"
    }
   ],
   "source": [
    "ner_inside_obl[:5]"
   ]
  },
  {
   "cell_type": "code",
   "execution_count": 25,
   "id": "6b845d3b",
   "metadata": {},
   "outputs": [
    {
     "data": {
      "text/html": [
       "<table border=\"1\" class=\"dataframe\">\n",
       "  <thead>\n",
       "    <tr style=\"text-align: right;\">\n",
       "      <th>text</th>\n",
       "    </tr>\n",
       "  </thead>\n",
       "  <tbody>\n",
       "    <tr>\n",
       "      <td><div align = \"left\">Arvan , et mul on olemas see kogemus aidata tuua Eesti raskest seisust välja .</div></td>\n",
       "    </tr>\n",
       "  </tbody>\n",
       "</table>\n",
       "<table border=\"1\" class=\"dataframe\">\n",
       "  <thead>\n",
       "    <tr style=\"text-align: right;\">\n",
       "      <th>layer name</th>\n",
       "      <th>attributes</th>\n",
       "      <th>parent</th>\n",
       "      <th>enveloping</th>\n",
       "      <th>ambiguous</th>\n",
       "      <th>span count</th>\n",
       "    </tr>\n",
       "  </thead>\n",
       "  <tbody>\n",
       "    <tr>\n",
       "      <td>sentences</td>\n",
       "      <td></td>\n",
       "      <td>None</td>\n",
       "      <td>words</td>\n",
       "      <td>False</td>\n",
       "      <td>1</td>\n",
       "    </tr>\n",
       "    <tr>\n",
       "      <td>tokens</td>\n",
       "      <td></td>\n",
       "      <td>None</td>\n",
       "      <td>None</td>\n",
       "      <td>False</td>\n",
       "      <td>15</td>\n",
       "    </tr>\n",
       "    <tr>\n",
       "      <td>compound_tokens</td>\n",
       "      <td>type, normalized</td>\n",
       "      <td>None</td>\n",
       "      <td>tokens</td>\n",
       "      <td>False</td>\n",
       "      <td>0</td>\n",
       "    </tr>\n",
       "    <tr>\n",
       "      <td>words</td>\n",
       "      <td>normalized_form</td>\n",
       "      <td>None</td>\n",
       "      <td>None</td>\n",
       "      <td>True</td>\n",
       "      <td>15</td>\n",
       "    </tr>\n",
       "    <tr>\n",
       "      <td>morph_analysis</td>\n",
       "      <td>normalized_text, lemma, root, root_tokens, ending, clitic, form, partofspeech</td>\n",
       "      <td>words</td>\n",
       "      <td>None</td>\n",
       "      <td>True</td>\n",
       "      <td>15</td>\n",
       "    </tr>\n",
       "    <tr>\n",
       "      <td>morph_extended</td>\n",
       "      <td>normalized_text, lemma, root, root_tokens, ending, clitic, form, partofspeech, punctuation_type, pronoun_type, letter_case, fin, verb_extension_suffix, subcat</td>\n",
       "      <td>morph_analysis</td>\n",
       "      <td>None</td>\n",
       "      <td>True</td>\n",
       "      <td>15</td>\n",
       "    </tr>\n",
       "    <tr>\n",
       "      <td>entities</td>\n",
       "      <td>entity_type, free_entity, is_valid, root</td>\n",
       "      <td>None</td>\n",
       "      <td>morph_analysis</td>\n",
       "      <td>False</td>\n",
       "      <td>2</td>\n",
       "    </tr>\n",
       "    <tr>\n",
       "      <td>ner</td>\n",
       "      <td>nertag</td>\n",
       "      <td>None</td>\n",
       "      <td>words</td>\n",
       "      <td>False</td>\n",
       "      <td>1</td>\n",
       "    </tr>\n",
       "    <tr>\n",
       "      <td>stanza_syntax</td>\n",
       "      <td>id, lemma, upostag, xpostag, feats, head, deprel, deps, misc</td>\n",
       "      <td>morph_analysis</td>\n",
       "      <td>None</td>\n",
       "      <td>False</td>\n",
       "      <td>15</td>\n",
       "    </tr>\n",
       "  </tbody>\n",
       "</table>"
      ],
      "text/plain": [
       "Text(text='Arvan , et mul on olemas see kogemus aidata tuua Eesti raskest seisust välja .')"
      ]
     },
     "execution_count": 25,
     "metadata": {},
     "output_type": "execute_result"
    }
   ],
   "source": [
    "sentences[97]"
   ]
  },
  {
   "cell_type": "markdown",
   "id": "20d4af5c",
   "metadata": {},
   "source": [
    "### Wordnet"
   ]
  },
  {
   "cell_type": "code",
   "execution_count": 26,
   "id": "538eda73",
   "metadata": {},
   "outputs": [],
   "source": [
    "kohakaanded = ['sg ill', 'sg in', 'sg el', 'sg all', 'sg ad', 'sg abl', \n",
    "               'pl ill', 'pl in', 'pl el', 'pl all', 'pl ad', 'pl abl']"
   ]
  },
  {
   "cell_type": "code",
   "execution_count": 27,
   "id": "462ef66f",
   "metadata": {},
   "outputs": [],
   "source": [
    "all_loc_entities = []\n",
    "all_loc_entities_text = []\n",
    "\n",
    "for i, sent in enumerate(sentences):\n",
    "    if i in [1118, 2534]:\n",
    "        continue\n",
    "    for span in sent['entities']:\n",
    "        loc = False\n",
    "        root_form = span.root.form[0]\n",
    "        if root_form in kohakaanded:\n",
    "            loc = True\n",
    "        \n",
    "        if loc:\n",
    "            all_loc_entities.append(span)\n",
    "            all_loc_entities_text.append(span.text)"
   ]
  },
  {
   "cell_type": "code",
   "execution_count": 28,
   "id": "6cc13aff",
   "metadata": {},
   "outputs": [
    {
     "data": {
      "text/plain": [
       "6650"
      ]
     },
     "execution_count": 28,
     "metadata": {},
     "output_type": "execute_result"
    }
   ],
   "source": [
    "len(all_loc_entities)"
   ]
  },
  {
   "cell_type": "code",
   "execution_count": 29,
   "id": "bdf4c15e",
   "metadata": {},
   "outputs": [],
   "source": [
    "all_root = []\n",
    "all_root_lemma = []\n",
    "\n",
    "for ent in all_loc_entities:\n",
    "    all_root.append(ent.root.text)\n",
    "    all_root_lemma.append(ent.root.lemma)"
   ]
  },
  {
   "cell_type": "code",
   "execution_count": 30,
   "id": "0d3bf3d6",
   "metadata": {},
   "outputs": [],
   "source": [
    "wn = Wordnet()"
   ]
  },
  {
   "cell_type": "code",
   "execution_count": 31,
   "id": "d0631053",
   "metadata": {},
   "outputs": [],
   "source": [
    "all_loc_entities_hypernyms = defaultdict(set)\n",
    "all_loc_entities_hypernyms_literal = defaultdict(set)\n",
    "loc_ent_count = defaultdict(int)\n",
    "without_hyp = []\n",
    "\n",
    "\n",
    "for i, lem in enumerate(all_root_lemma):\n",
    "    synsets = wn[lem]\n",
    "    loc_ent_count[all_root[i]] += 1\n",
    "    for syns in synsets:\n",
    "        hypernym = syns.hypernyms\n",
    "        # all_loc_entities_hypernyms.append((all_root[i], lem, hypernym[0]))\n",
    "        if len(hypernym) > 0:\n",
    "            all_loc_entities_hypernyms[all_root[i]].add(hypernym[0])\n",
    "            all_loc_entities_hypernyms_literal[all_root[i]].add(hypernym[0].literal)\n",
    "        else:\n",
    "            without_hyp.append((all_root[i], lem, syns))"
   ]
  },
  {
   "cell_type": "code",
   "execution_count": 32,
   "id": "30f9b32b",
   "metadata": {},
   "outputs": [
    {
     "data": {
      "text/plain": [
       "2727"
      ]
     },
     "execution_count": 32,
     "metadata": {},
     "output_type": "execute_result"
    }
   ],
   "source": [
    "len(all_loc_entities_hypernyms)"
   ]
  },
  {
   "cell_type": "code",
   "execution_count": 33,
   "id": "78218523",
   "metadata": {},
   "outputs": [
    {
     "data": {
      "text/plain": [
       "'aastatel'"
      ]
     },
     "execution_count": 33,
     "metadata": {},
     "output_type": "execute_result"
    }
   ],
   "source": [
    "all_root[0]"
   ]
  },
  {
   "cell_type": "code",
   "execution_count": 34,
   "id": "f5f37698",
   "metadata": {},
   "outputs": [
    {
     "data": {
      "text/plain": [
       "{\"Synset('aasta.n.02')\", \"Synset('ajavahemik.n.01')\"}"
      ]
     },
     "execution_count": 34,
     "metadata": {},
     "output_type": "execute_result"
    }
   ],
   "source": [
    "all_loc_entities_hypernyms[\"aastatel\"]"
   ]
  },
  {
   "cell_type": "code",
   "execution_count": 35,
   "id": "4eb8b51d",
   "metadata": {},
   "outputs": [
    {
     "data": {
      "text/plain": [
       "{'aasta', 'ajavahemik'}"
      ]
     },
     "execution_count": 35,
     "metadata": {},
     "output_type": "execute_result"
    }
   ],
   "source": [
    "all_loc_entities_hypernyms_literal[\"aastatel\"]"
   ]
  },
  {
   "cell_type": "code",
   "execution_count": 36,
   "id": "ae35a651",
   "metadata": {},
   "outputs": [],
   "source": [
    "literal_counts = defaultdict(int)\n",
    "\n",
    "for ent, literals in all_loc_entities_hypernyms_literal.items():\n",
    "    for lit in literals:\n",
    "        literal_counts[lit] += loc_ent_count[ent]"
   ]
  },
  {
   "cell_type": "code",
   "execution_count": 37,
   "id": "8f59a19e",
   "metadata": {},
   "outputs": [
    {
     "data": {
      "text/plain": [
       "158"
      ]
     },
     "execution_count": 37,
     "metadata": {},
     "output_type": "execute_result"
    }
   ],
   "source": [
    "literal_counts[\"aasta\"]"
   ]
  },
  {
   "cell_type": "code",
   "execution_count": 38,
   "id": "f29a41bc",
   "metadata": {},
   "outputs": [
    {
     "data": {
      "text/plain": [
       "[('ajavahemik', 470),\n",
       " ('inimene', 229),\n",
       " ('abstraktsioon', 199),\n",
       " ('osa', 176),\n",
       " ('kuu', 163)]"
      ]
     },
     "execution_count": 38,
     "metadata": {},
     "output_type": "execute_result"
    }
   ],
   "source": [
    "sorted(literal_counts.items(), key=lambda x: x[1], reverse=True)[:5]"
   ]
  },
  {
   "cell_type": "code",
   "execution_count": 39,
   "id": "7f2d004c",
   "metadata": {},
   "outputs": [],
   "source": [
    "loc_time_hypernyms = [\"kuu\", \"aasta\", \"aastaaeg\", \"ajavahemik\", \"piirkond\", \"koht\", \"äritegevuskoht\", \"maa\", \"ajaühik\",\n",
    "                     \"nädalapäev\", \"asula\", \"tegevusala\", \"aeg\", \"ala\", \"maa-asula\", \"eluruum\", \"rahvusriik\", \"hoone\",\n",
    "                     \"ruum\", \"maapind\", \"päev\", \"maa-ala\", \"mander\", \"tuba\", \"asukoht\", \"linn\"]"
   ]
  },
  {
   "cell_type": "code",
   "execution_count": 40,
   "id": "cf6fec06",
   "metadata": {},
   "outputs": [],
   "source": [
    "loc_time_entities = []\n",
    "\n",
    "for ent, literals in all_loc_entities_hypernyms_literal.items():\n",
    "    loc_time_count = 0\n",
    "    for lit in literals:\n",
    "        if lit in loc_time_hypernyms:\n",
    "            loc_time_count += 1\n",
    "            \n",
    "    loc_time_entities.append((ent, loc_time_count/len(literals)))"
   ]
  },
  {
   "cell_type": "code",
   "execution_count": 41,
   "id": "e7ffdb16",
   "metadata": {},
   "outputs": [
    {
     "data": {
      "text/plain": [
       "[('aastatel', 1.0),\n",
       " ('erialal', 1.0),\n",
       " ('tulevikule', 1.0),\n",
       " ('aastal', 1.0),\n",
       " ('välismaal', 1.0),\n",
       " ('välismaale', 1.0),\n",
       " ('aastail', 1.0),\n",
       " ('aastatest', 1.0),\n",
       " ('ööpäevas', 1.0),\n",
       " ('Välismaalt', 1.0),\n",
       " ('suvel', 1.0),\n",
       " ('sügisel', 1.0),\n",
       " ('suvelgi', 1.0),\n",
       " ('põldudel', 1.0),\n",
       " ('muldadel', 1.0),\n",
       " ('põllul', 1.0),\n",
       " ('tulevikus', 1.0),\n",
       " ('Põllul', 1.0),\n",
       " ('Esmaspäevast', 1.0),\n",
       " ('ümbruses', 1.0)]"
      ]
     },
     "execution_count": 41,
     "metadata": {},
     "output_type": "execute_result"
    }
   ],
   "source": [
    "sorted(loc_time_entities, key=lambda x: x[1], reverse=True)[:20]"
   ]
  },
  {
   "cell_type": "markdown",
   "id": "673b8059",
   "metadata": {},
   "source": [
    "### Tagger"
   ]
  },
  {
   "cell_type": "code",
   "execution_count": 43,
   "id": "2c31b199",
   "metadata": {},
   "outputs": [],
   "source": [
    "from estnltk_patches import ReTagger"
   ]
  },
  {
   "cell_type": "code",
   "execution_count": 77,
   "id": "04d944a6",
   "metadata": {
    "scrolled": true
   },
   "outputs": [
    {
     "name": "stdout",
     "output_type": "stream",
     "text": [
      "28\n",
      "213\n",
      "217\n",
      "219\n",
      "222\n",
      "227\n",
      "233\n",
      "249\n",
      "251\n",
      "277\n",
      "284\n",
      "313\n",
      "365\n",
      "366\n",
      "371\n",
      "407\n",
      "423\n",
      "434\n",
      "439\n",
      "468\n",
      "483\n",
      "503\n",
      "513\n",
      "605\n",
      "628\n",
      "636\n",
      "669\n",
      "676\n",
      "697\n",
      "711\n",
      "740\n",
      "748\n",
      "751\n",
      "792\n",
      "793\n",
      "826\n",
      "844\n",
      "846\n",
      "851\n",
      "862\n",
      "868\n",
      "899\n",
      "917\n",
      "929\n",
      "937\n",
      "943\n",
      "978\n",
      "1004\n",
      "1030\n",
      "1051\n"
     ]
    },
    {
     "ename": "AttributeError",
     "evalue": "'Text' object has no layer 'entities'",
     "output_type": "error",
     "traceback": [
      "\u001b[1;31m---------------------------------------------------------------------------\u001b[0m",
      "\u001b[1;31mAttributeError\u001b[0m                            Traceback (most recent call last)",
      "Cell \u001b[1;32mIn [77], line 2\u001b[0m\n\u001b[0;32m      1\u001b[0m \u001b[38;5;28;01mfor\u001b[39;00m i, sent \u001b[38;5;129;01min\u001b[39;00m \u001b[38;5;28menumerate\u001b[39m(sentences):\n\u001b[1;32m----> 2\u001b[0m     \u001b[38;5;28;01mif\u001b[39;00m \u001b[38;5;28mlen\u001b[39m(\u001b[43msent\u001b[49m\u001b[38;5;241;43m.\u001b[39;49m\u001b[43mentities\u001b[49m) \u001b[38;5;241m>\u001b[39m \u001b[38;5;241m3\u001b[39m:\n\u001b[0;32m      3\u001b[0m         \u001b[38;5;28mprint\u001b[39m(i)\n",
      "File \u001b[1;32m~\\Anaconda3\\envs\\estnltk_neuro\\lib\\site-packages\\estnltk\\text.py:280\u001b[0m, in \u001b[0;36mText.__getattr__\u001b[1;34m(self, item)\u001b[0m\n\u001b[0;32m    277\u001b[0m     \u001b[38;5;28;01mreturn\u001b[39;00m \u001b[38;5;28mgetattr\u001b[39m(\u001b[38;5;28mself\u001b[39m\u001b[38;5;241m.\u001b[39m_layers[attributes[item][\u001b[38;5;241m0\u001b[39m]], item)\n\u001b[0;32m    279\u001b[0m \u001b[38;5;66;03m# Nothing else to resolve\u001b[39;00m\n\u001b[1;32m--> 280\u001b[0m \u001b[38;5;28;01mraise\u001b[39;00m \u001b[38;5;167;01mAttributeError\u001b[39;00m(\u001b[38;5;124m\"\u001b[39m\u001b[38;5;124m'\u001b[39m\u001b[38;5;132;01m{}\u001b[39;00m\u001b[38;5;124m'\u001b[39m\u001b[38;5;124m object has no layer \u001b[39m\u001b[38;5;132;01m{!r}\u001b[39;00m\u001b[38;5;124m\"\u001b[39m\u001b[38;5;241m.\u001b[39mformat( \u001b[38;5;28mself\u001b[39m\u001b[38;5;241m.\u001b[39m\u001b[38;5;18m__class__\u001b[39m\u001b[38;5;241m.\u001b[39m\u001b[38;5;18m__name__\u001b[39m, item ))\n",
      "\u001b[1;31mAttributeError\u001b[0m: 'Text' object has no layer 'entities'"
     ]
    }
   ],
   "source": [
    "for i, sent in enumerate(sentences):\n",
    "    if len(sent.entities) > 3:\n",
    "        print(i)"
   ]
  },
  {
   "cell_type": "code",
   "execution_count": 79,
   "id": "ac180600",
   "metadata": {},
   "outputs": [
    {
     "data": {
      "text/html": [
       "<h4>Layer</h4>\n",
       "\n",
       "\n",
       "<table border=\"1\" class=\"dataframe\">\n",
       "  <thead>\n",
       "    <tr style=\"text-align: right;\">\n",
       "      <th>layer name</th>\n",
       "      <th>attributes</th>\n",
       "      <th>parent</th>\n",
       "      <th>enveloping</th>\n",
       "      <th>ambiguous</th>\n",
       "      <th>span count</th>\n",
       "    </tr>\n",
       "  </thead>\n",
       "  <tbody>\n",
       "    <tr>\n",
       "      <td>entities</td>\n",
       "      <td>entity_type, free_entity, is_valid, root</td>\n",
       "      <td>None</td>\n",
       "      <td>morph_analysis</td>\n",
       "      <td>False</td>\n",
       "      <td>5</td>\n",
       "    </tr>\n",
       "  </tbody>\n",
       "</table>\n",
       "<table border=\"1\" class=\"dataframe\">\n",
       "  <thead>\n",
       "    <tr style=\"text-align: right;\">\n",
       "      <th>text</th>\n",
       "      <th>entity_type</th>\n",
       "      <th>free_entity</th>\n",
       "      <th>is_valid</th>\n",
       "      <th>root</th>\n",
       "    </tr>\n",
       "  </thead>\n",
       "  <tbody>\n",
       "    <tr>\n",
       "      <td>['reisil']</td>\n",
       "      <td>None</td>\n",
       "      <td>None</td>\n",
       "      <td>None</td>\n",
       "      <td>Span('reisil', [{'id': 7, 'lemma': 'reis', 'upostag': 'S', 'xpostag': 'S', 'feat ..., type: &lt;class 'estnltk_core.layer.span.Span'&gt;</td>\n",
       "    </tr>\n",
       "    <tr>\n",
       "      <td>['mille', 'puhul']</td>\n",
       "      <td>None</td>\n",
       "      <td>None</td>\n",
       "      <td>None</td>\n",
       "      <td>Span('mille', [{'id': 25, 'lemma': 'mis', 'upostag': 'P', 'xpostag': 'P', 'feats ..., type: &lt;class 'estnltk_core.layer.span.Span'&gt;</td>\n",
       "    </tr>\n",
       "    <tr>\n",
       "      <td>['erandkorras']</td>\n",
       "      <td>None</td>\n",
       "      <td>None</td>\n",
       "      <td>None</td>\n",
       "      <td>Span('erandkorras', [{'id': 29, 'lemma': 'erandkord', 'upostag': 'S', 'xpostag': ..., type: &lt;class 'estnltk_core.layer.span.Span'&gt;</td>\n",
       "    </tr>\n",
       "    <tr>\n",
       "      <td>['välismaale']</td>\n",
       "      <td>None</td>\n",
       "      <td>None</td>\n",
       "      <td>None</td>\n",
       "      <td>Span('välismaale', [{'id': 30, 'lemma': 'välismaa', 'upostag': 'S', 'xpostag': ' ..., type: &lt;class 'estnltk_core.layer.span.Span'&gt;</td>\n",
       "    </tr>\n",
       "    <tr>\n",
       "      <td>['ravile']</td>\n",
       "      <td>None</td>\n",
       "      <td>None</td>\n",
       "      <td>None</td>\n",
       "      <td>Span('ravile', [{'id': 31, 'lemma': 'ravi', 'upostag': 'S', 'xpostag': 'S', 'fea ..., type: &lt;class 'estnltk_core.layer.span.Span'&gt;</td>\n",
       "    </tr>\n",
       "  </tbody>\n",
       "</table>"
      ],
      "text/plain": [
       "Layer(name='entities', attributes=('entity_type', 'free_entity', 'is_valid', 'root'), spans=SL[EnvelopingSpan(['reisil'], [{'entity_type': None, 'free_entity': None, 'is_valid': None, 'root': <class 'estnltk_core.layer.span.Span'>}]),\n",
       "EnvelopingSpan(['mille', 'puhul'], [{'entity_type': None, 'free_entity': None, 'is_valid': None, 'root': <class 'estnltk_core.layer.span.Span'>}]),\n",
       "EnvelopingSpan(['erandkorras'], [{'entity_type': None, 'free_entity': None, 'is_valid': None, 'root': <class 'estnltk_core.layer.span.Span'>}]),\n",
       "EnvelopingSpan(['välismaale'], [{'entity_type': None, 'free_entity': None, 'is_valid': None, 'root': <class 'estnltk_core.layer.span.Span'>}]),\n",
       "EnvelopingSpan(['ravile'], [{'entity_type': None, 'free_entity': None, 'is_valid': None, 'root': <class 'estnltk_core.layer.span.Span'>}])])"
      ]
     },
     "execution_count": 79,
     "metadata": {},
     "output_type": "execute_result"
    }
   ],
   "source": [
    "sentences[213].entities"
   ]
  },
  {
   "cell_type": "code",
   "execution_count": 97,
   "id": "a4d46b6b",
   "metadata": {},
   "outputs": [],
   "source": [
    "retagger = ReTagger(sentences[213].entities)"
   ]
  },
  {
   "cell_type": "code",
   "execution_count": 84,
   "id": "35dacf24",
   "metadata": {},
   "outputs": [
    {
     "data": {
      "text/html": [
       "<h4>AttributeList (annotations)</h4>\n",
       "<table border=\"1\" class=\"dataframe\">\n",
       "  <thead>\n",
       "    <tr style=\"text-align: right;\">\n",
       "      <th></th>\n",
       "      <th>form</th>\n",
       "    </tr>\n",
       "  </thead>\n",
       "  <tbody>\n",
       "    <tr>\n",
       "      <td>0</td>\n",
       "      <td>sg all</td>\n",
       "    </tr>\n",
       "  </tbody>\n",
       "</table>"
      ],
      "text/plain": [
       "AttributeList(['sg all'], ('form',))"
      ]
     },
     "execution_count": 84,
     "metadata": {},
     "output_type": "execute_result"
    }
   ],
   "source": [
    "sentences[213].entities[3].root.form"
   ]
  },
  {
   "cell_type": "code",
   "execution_count": 85,
   "id": "16b3110c",
   "metadata": {},
   "outputs": [
    {
     "data": {
      "text/plain": [
       "'välismaa'"
      ]
     },
     "execution_count": 85,
     "metadata": {},
     "output_type": "execute_result"
    }
   ],
   "source": [
    "sentences[213].entities[3].root.lemma"
   ]
  },
  {
   "cell_type": "code",
   "execution_count": 87,
   "id": "a89d15e1",
   "metadata": {},
   "outputs": [
    {
     "data": {
      "text/plain": [
       "[\"Synset('rahvusriik.n.01')\"]"
      ]
     },
     "execution_count": 87,
     "metadata": {},
     "output_type": "execute_result"
    }
   ],
   "source": [
    "wn['välismaa'][0].hypernyms"
   ]
  },
  {
   "cell_type": "code",
   "execution_count": 102,
   "id": "767e711f",
   "metadata": {},
   "outputs": [
    {
     "data": {
      "text/plain": [
       "[(0,\n",
       "  EnvelopingSpan(['reisil'], [{'entity_type': None, 'free_entity': None, 'is_valid': None, 'root': <class 'estnltk_core.layer.span.Span'>}]),\n",
       "  None),\n",
       " (1,\n",
       "  EnvelopingSpan(['mille', 'puhul'], [{'entity_type': None, 'free_entity': None, 'is_valid': None, 'root': <class 'estnltk_core.layer.span.Span'>}]),\n",
       "  None),\n",
       " (2,\n",
       "  EnvelopingSpan(['erandkorras'], [{'entity_type': None, 'free_entity': None, 'is_valid': None, 'root': <class 'estnltk_core.layer.span.Span'>}]),\n",
       "  None),\n",
       " (3,\n",
       "  EnvelopingSpan(['välismaale'], [{'entity_type': None, 'free_entity': None, 'is_valid': None, 'root': <class 'estnltk_core.layer.span.Span'>}]),\n",
       "  'LOC'),\n",
       " (4,\n",
       "  EnvelopingSpan(['ravile'], [{'entity_type': None, 'free_entity': None, 'is_valid': None, 'root': <class 'estnltk_core.layer.span.Span'>}]),\n",
       "  None)]"
      ]
     },
     "execution_count": 102,
     "metadata": {},
     "output_type": "execute_result"
    }
   ],
   "source": [
    "retagger.tag_adverb_type()"
   ]
  }
 ],
 "metadata": {
  "kernelspec": {
   "display_name": "Python 3 (ipykernel)",
   "language": "python",
   "name": "python3"
  },
  "language_info": {
   "codemirror_mode": {
    "name": "ipython",
    "version": 3
   },
   "file_extension": ".py",
   "mimetype": "text/x-python",
   "name": "python",
   "nbconvert_exporter": "python",
   "pygments_lexer": "ipython3",
   "version": "3.8.15"
  }
 },
 "nbformat": 4,
 "nbformat_minor": 5
}
