{
 "cells": [
  {
   "cell_type": "code",
   "execution_count": 1,
   "metadata": {},
   "outputs": [],
   "source": [
    "import os\n",
    "import conllu\n",
    "from random import Random, seed, choice, shuffle\n",
    "from collections import Counter, OrderedDict\n",
    "from estnltk.converters.conll_importer import conll_to_text\n",
    "\n",
    "from src.syntax_sketch import clean_clause\n",
    "from src.syntax_sketch import syntax_sketch\n",
    "from src.clause_export import export_cleaned_clause"
   ]
  },
  {
   "cell_type": "markdown",
   "metadata": {},
   "source": [
    "### I. Clean clauses and store them into separate file  "
   ]
  },
  {
   "cell_type": "code",
   "execution_count": 2,
   "metadata": {},
   "outputs": [
    {
     "name": "stdout",
     "output_type": "stream",
     "text": [
      "../source_data/ud_splits/extended/et_edt-ud-test-morph_extended_noorphan.conllu\n",
      "Valid clauses:   6036\n",
      "Invalid clauses: 126\n",
      "../source_data/ud_splits/extended/et_edt-ud-train-morph_extended_noorphan.conllu\n",
      "Valid clauses:   6036\n",
      "Invalid clauses: 126\n",
      "../source_data/ud_splits/extended/et_edt-ud-dev-morph_extended_noorphan.conllu\n",
      "Valid clauses:   6036\n",
      "Invalid clauses: 126\n"
     ]
    }
   ],
   "source": [
    "input_path = '../source_data/ud_splits/extended/'\n",
    "output_path = './experiments/clauses/'\n",
    "file_template = 'et_edt-ud-{}-morph_extended_noorphan.conllu'\n",
    "\n",
    "dev = input_path + file_template.format('dev')\n",
    "test = input_path + file_template.format('test')\n",
    "train = input_path + file_template.format('train')\n",
    "\n",
    "clause_dev = output_path + file_template.format('dev')\n",
    "clause_test = output_path + file_template.format('test')\n",
    "clause_train = output_path + file_template.format('train')\n",
    "\n",
    "for input, output in zip([test, train, dev], [clause_test, clause_train, clause_dev]):\n",
    "    print(input)\n",
    "    text = conll_to_text(input, 'ud_syntax').tag_layer('clauses')\n",
    "    expected_layers = {\n",
    "        'clauses', 'compound_tokens', 'morph_analysis',\n",
    "        'sentences', 'tokens', 'ud_syntax', 'words'\n",
    "    }\n",
    "    assert text.layers == expected_layers, 'Unexpected layers'\n",
    "    \n",
    "    valid_clauses = 0\n",
    "    invalid_clauses = 0\n",
    "    output_file = open(output, 'wt', encoding='utf-8')  \n",
    "    for clause in text.clauses:\n",
    "        cleaned_clause = clean_clause(clause)\n",
    "        \n",
    "        if len(cleaned_clause['root_loc']) != 1:\n",
    "            invalid_clauses += 1\n",
    "            continue\n",
    "        \n",
    "        if valid_clauses > 0:\n",
    "            output_file.write('\\n\\n')\n",
    "        \n",
    "        output_file.write(export_cleaned_clause(cleaned_clause))\n",
    "        valid_clauses += 1\n",
    "    \n",
    "    print('Valid clauses:   {}'.format(valid_clauses))\n",
    "    print('Invalid clauses: {}'.format(invalid_clauses))\n",
    "    output_file.close()"
   ]
  }
 ],
 "metadata": {
  "kernelspec": {
   "display_name": "Python 3",
   "language": "python",
   "name": "python3"
  },
  "language_info": {
   "codemirror_mode": {
    "name": "ipython",
    "version": 3
   },
   "file_extension": ".py",
   "mimetype": "text/x-python",
   "name": "python",
   "nbconvert_exporter": "python",
   "pygments_lexer": "ipython3",
   "version": "3.8.10"
  }
 },
 "nbformat": 4,
 "nbformat_minor": 4
}
