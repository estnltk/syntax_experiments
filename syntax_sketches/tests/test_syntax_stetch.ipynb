{
 "cells": [
  {
   "cell_type": "code",
   "execution_count": 1,
   "id": "ba1b2b96",
   "metadata": {},
   "outputs": [],
   "source": [
    "import os\n",
    "import conllu\n",
    "from collections import Counter, OrderedDict\n",
    "from estnltk.converters.conll_importer import conll_to_text"
   ]
  },
  {
   "cell_type": "code",
   "execution_count": 2,
   "id": "2dcb18ce",
   "metadata": {},
   "outputs": [],
   "source": [
    "import sys\n",
    "sys.path.append('../')\n",
    "from src.syntax_sketch import clean_clause\n",
    "from src.syntax_sketch import syntax_sketch"
   ]
  },
  {
   "cell_type": "code",
   "execution_count": 3,
   "id": "8f43a813",
   "metadata": {},
   "outputs": [
    {
     "data": {
      "text/html": [
       "<h4>Layer</h4>\n",
       "\n",
       "\n",
       "<table border=\"1\" class=\"dataframe\">\n",
       "  <thead>\n",
       "    <tr style=\"text-align: right;\">\n",
       "      <th>layer name</th>\n",
       "      <th>attributes</th>\n",
       "      <th>parent</th>\n",
       "      <th>enveloping</th>\n",
       "      <th>ambiguous</th>\n",
       "      <th>span count</th>\n",
       "    </tr>\n",
       "  </thead>\n",
       "  <tbody>\n",
       "    <tr>\n",
       "      <td>sentences</td>\n",
       "      <td></td>\n",
       "      <td>None</td>\n",
       "      <td>words</td>\n",
       "      <td>False</td>\n",
       "      <td>3</td>\n",
       "    </tr>\n",
       "  </tbody>\n",
       "</table>\n",
       "<table border=\"1\" class=\"dataframe\">\n",
       "  <thead>\n",
       "    <tr style=\"text-align: right;\">\n",
       "      <th>text</th>\n",
       "    </tr>\n",
       "  </thead>\n",
       "  <tbody>\n",
       "    <tr>\n",
       "      <td>['Palju', 'olulisi', 'komponente', ',', 'nagu', 'liha', 'ja', 'kala', ',', 'hang ..., type: &lt;class 'list'&gt;, length: 13</td>\n",
       "    </tr>\n",
       "    <tr>\n",
       "      <td>['Loomulikult', 'kuuluvad', 'meie', 'kohalikku', 'ostusedelisse', 'ka', 'aedviljad', '.']</td>\n",
       "    </tr>\n",
       "    <tr>\n",
       "      <td>['Meie', 'peremehe', 'Gesualdo', 'Nava', 'arvates', 'saab', 'hea', 'roa', 'ka',  ..., type: &lt;class 'list'&gt;, length: 20</td>\n",
       "    </tr>\n",
       "  </tbody>\n",
       "</table>"
      ],
      "text/plain": [
       "Layer(name='sentences', attributes=(), spans=SL[EnvelopingSpan(['Palju', 'olulisi', 'komponente', ',', 'nagu', 'liha', 'ja', 'kala', ',', 'hangime', 'siiski', 'Eestist', '.'], [{}]),\n",
       "EnvelopingSpan(['Loomulikult', 'kuuluvad', 'meie', 'kohalikku', 'ostusedelisse', 'ka', 'aedviljad', '.'], [{}]),\n",
       "EnvelopingSpan(['Meie', 'peremehe', 'Gesualdo', 'Nava', 'arvates', 'saab', 'hea', 'roa', 'ka', 'ilma', 'lihata', 'ja', 'nii', 'paluski', 'ta', 'mul', 'edastada', 'sellise', 'retsepti', ':'], [{}])])"
      ]
     },
     "metadata": {},
     "output_type": "display_data"
    },
    {
     "data": {
      "text/html": [
       "<b>EnvelopingSpan</b>\n",
       "<table border=\"1\" class=\"dataframe\">\n",
       "  <thead>\n",
       "    <tr style=\"text-align: right;\">\n",
       "      <th>text</th>\n",
       "      <th>clause_type</th>\n",
       "    </tr>\n",
       "  </thead>\n",
       "  <tbody>\n",
       "    <tr>\n",
       "      <td><span style=\"font-family: monospace; white-space: pre-wrap;\"><span style=\"text-decoration: underline;\">Palju</span> <span style=\"text-decoration: underline;\">olulisi</span> <span style=\"text-decoration: underline;\">komponente</span> <span style=\"text-decoration: underline;\">,</span></span></td>\n",
       "      <td>regular</td>\n",
       "    </tr>\n",
       "  </tbody>\n",
       "</table>"
      ],
      "text/plain": [
       "EnvelopingSpan(['Palju', 'olulisi', 'komponente', ','], [{'clause_type': 'regular'}])"
      ]
     },
     "metadata": {},
     "output_type": "display_data"
    }
   ],
   "source": [
    "text = conll_to_text('./data/syntax-trees.conllu', 'ud_syntax').tag_layer('clauses')\n",
    "assert len(text.sentences) == 3214, \"Unexpected change of a test data\"\n",
    "display(text.sentences[:3])\n",
    "display(text.clauses[0])"
   ]
  },
  {
   "cell_type": "markdown",
   "id": "bd04de07",
   "metadata": {},
   "source": [
    "### I. Old implementation"
   ]
  },
  {
   "cell_type": "code",
   "execution_count": 4,
   "id": "b01042c0",
   "metadata": {},
   "outputs": [],
   "source": [
    "def subtree_len(heads, ids, head_idx):\n",
    "    result = 0\n",
    "    \n",
    "    if head_idx not in heads:\n",
    "        return 1\n",
    "    \n",
    "    for i, dep_head in enumerate(heads):\n",
    "        if dep_head == head_idx:\n",
    "             result += subtree_len(heads, ids, ids[i])\n",
    "                \n",
    "    return result + 1 #heads.count(head_idx)\n",
    "\n",
    "def sketch_sorted(roots, subtrees):\n",
    "    sketch = '[{}]'.format(','.join(roots))\n",
    "    for subtree in subtrees:\n",
    "        sketch += subtree\n",
    "    return sketch\n",
    "\n",
    "def sketch_unsorted(roots, subtrees):\n",
    "    sketch = '[{}]'.format(','.join(roots))\n",
    "    for subtree in sorted(subtrees):\n",
    "        sketch += subtree\n",
    "    return sketch"
   ]
  },
  {
   "cell_type": "code",
   "execution_count": 5,
   "id": "143ad148",
   "metadata": {},
   "outputs": [],
   "source": [
    "sketch_counter = Counter()\n",
    "sketches = list()\n",
    "\n",
    "assert text.layers == {\n",
    "    'clauses', 'compound_tokens', 'morph_analysis', \n",
    "    'sentences', 'tokens', 'ud_syntax','words'}, \"Unexpected layers in the test data\"\n",
    "for idx, clause in enumerate(text.clauses):\n",
    "    deprels = list(clause.ud_syntax.deprel)\n",
    "    heads = list(clause.ud_syntax.head)\n",
    "    ids = list(clause.ud_syntax.id)\n",
    "    pos = list(clause.ud_syntax.xpostag)\n",
    "\n",
    "    # punktuatsioon ja sidesõnad lause algusest-lõpust eemaldada\n",
    "    while pos and ('J' in pos[0] or 'Z' in pos[0]):\n",
    "        heads.pop(0)\n",
    "        ids.pop(0)\n",
    "        deprels.pop(0)\n",
    "        pos.pop(0)\n",
    "\n",
    "    if not pos:\n",
    "        continue\n",
    "\n",
    "    while 'J' in pos[-1] or 'Z' in pos[-1]:\n",
    "        heads.pop()\n",
    "        ids.pop()\n",
    "        deprels.pop()\n",
    "        pos.pop()\n",
    "\n",
    "\n",
    "    # juurte indeksid leida\n",
    "    root_ids = list()\n",
    "    for i, head in enumerate(heads):\n",
    "        if head not in ids:\n",
    "            root_ids.append(i)\n",
    "\n",
    "    if len(root_ids) > 1:\n",
    "        continue\n",
    "\n",
    "    roots = []\n",
    "    first_level = list()\n",
    "    for root_id in root_ids:\n",
    "        root = ids[root_id]\n",
    "        roots.append(pos[root_id])\n",
    "        for i, head in enumerate(heads):\n",
    "            if head == root:\n",
    "                length = subtree_len(heads, ids, ids[i])\n",
    "                if length < 3:\n",
    "                    subtree_cat = 'L'\n",
    "                elif length < 10:\n",
    "                    subtree_cat = 'P'\n",
    "                else:\n",
    "                    subtree_cat = 'ÜP'\n",
    "\n",
    "                subtree = deprels[i] + '({})'.format(subtree_cat)\n",
    "                first_level.append(subtree)\n",
    "\n",
    "    if roots[0] == 'V':\n",
    "        sketch_root = 'V'\n",
    "    elif roots[0] in ['S', 'P', 'A', 'Y', 'N']:\n",
    "        sketch_root = 'S'\n",
    "    else:\n",
    "        sketch_root = 'X'\n",
    "\n",
    "    clause_sketch = sketch_unsorted([sketch_root], first_level)\n",
    "    sketches.append(clause_sketch)\n",
    "\n",
    "assert len(sketches) == 6036, \"Unexpected  number of extracted sketches\"    "
   ]
  },
  {
   "cell_type": "markdown",
   "id": "53eac314",
   "metadata": {},
   "source": [
    "### II. Regression test"
   ]
  },
  {
   "cell_type": "code",
   "execution_count": 6,
   "id": "70f9ed42",
   "metadata": {},
   "outputs": [
    {
     "name": "stdout",
     "output_type": "stream",
     "text": [
      "Valid clauses:   6036\n",
      "Invalid clauses: 126\n"
     ]
    }
   ],
   "source": [
    "i = 0\n",
    "invalid_clauses = 0\n",
    "for clause in text.clauses:\n",
    "    cleaned_clause = clean_clause(clause)\n",
    "    if len(cleaned_clause['root_loc']) != 1:\n",
    "        invalid_clauses += 1\n",
    "        continue\n",
    "        \n",
    "    if syntax_sketch(cleaned_clause) != sketches[i]:\n",
    "        print(clause.text)\n",
    "        print(clean_clause(clause)['root_loc'])\n",
    "        print(syntax_sketch(clean_clause(clause)))\n",
    "        print(sketches[i])\n",
    "        assert False, \"Implementations differ\"\n",
    "        break    \n",
    "    i += 1\n",
    "print('Valid clauses:   {}'.format(i))\n",
    "print('Invalid clauses: {}'.format(invalid_clauses))"
   ]
  }
 ],
 "metadata": {
  "kernelspec": {
   "display_name": "Python 3",
   "language": "python",
   "name": "python3"
  },
  "language_info": {
   "codemirror_mode": {
    "name": "ipython",
    "version": 3
   },
   "file_extension": ".py",
   "mimetype": "text/x-python",
   "name": "python",
   "nbconvert_exporter": "python",
   "pygments_lexer": "ipython3",
   "version": "3.8.10"
  }
 },
 "nbformat": 4,
 "nbformat_minor": 5
}
