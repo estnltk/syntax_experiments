{
 "cells": [
  {
   "cell_type": "code",
   "execution_count": 1,
   "id": "4bf513cb",
   "metadata": {},
   "outputs": [],
   "source": [
    "import os\n",
    "\n",
    "from estnltk.corpus_processing.parse_koondkorpus import get_div_target\n",
    "from estnltk.corpus_processing.parse_koondkorpus import parse_tei_corpus\n",
    "\n",
    "from estnltk import Text\n",
    "\n",
    "from estnltk_neural.taggers import StanzaSyntaxTagger\n",
    "\n",
    "from estnltk.taggers import NerTagger\n",
    "\n",
    "import json\n",
    "from estnltk.converters import text_to_json"
   ]
  },
  {
   "cell_type": "markdown",
   "id": "e9a19ca2",
   "metadata": {},
   "source": [
    "### Teksti lugemine ja parsimine"
   ]
  },
  {
   "cell_type": "code",
   "execution_count": 2,
   "id": "b2215262",
   "metadata": {},
   "outputs": [],
   "source": [
    "# sisendfail\n",
    "input_xml_file_path = \"C:\\\\Users\\\\liivas\\\\Documents\\\\Töö\\\\test3\\\\data\\\\\"\n",
    " \n",
    "# iterate over files in\n",
    "# that directory\n",
    "all_texts = dict()\n",
    "for filename in os.listdir(input_xml_file_path):\n",
    "    file = os.path.join(input_xml_file_path, filename)\n",
    "    target = get_div_target( file )\n",
    "    texts = []\n",
    "    # import documents as Text objects   \n",
    "    for text_obj in parse_tei_corpus( file, target=[target] ):\n",
    "        texts.append(text_obj)\n",
    "    all_texts[filename] = texts"
   ]
  },
  {
   "cell_type": "code",
   "execution_count": 15,
   "id": "ae8a796b",
   "metadata": {},
   "outputs": [],
   "source": [
    "for key, value in all_texts.items():\n",
    "    for text in value:\n",
    "        text.tag_layer('morph_analysis')"
   ]
  },
  {
   "cell_type": "markdown",
   "id": "c98b0e1d",
   "metadata": {},
   "source": [
    "### Stanza süntaksianalüüsi märgendamine"
   ]
  },
  {
   "cell_type": "code",
   "execution_count": 16,
   "id": "4f292cc4",
   "metadata": {},
   "outputs": [],
   "source": [
    "# Tagger\n",
    "stanza_tagger = StanzaSyntaxTagger(input_type='morph_analysis', input_morph_layer='morph_analysis',\n",
    "                                   add_parent_and_children=True)"
   ]
  },
  {
   "cell_type": "code",
   "execution_count": 17,
   "id": "96f939f2",
   "metadata": {},
   "outputs": [],
   "source": [
    "for key, value in all_texts.items():\n",
    "    for text in value:\n",
    "        stanza_tagger.tag(text)"
   ]
  },
  {
   "cell_type": "markdown",
   "id": "c58fa83c",
   "metadata": {},
   "source": [
    "### Nimeolemite ja ajaväljendite märgendamine"
   ]
  },
  {
   "cell_type": "code",
   "execution_count": 18,
   "id": "be6bf73b",
   "metadata": {},
   "outputs": [],
   "source": [
    "ner_tagger = NerTagger()"
   ]
  },
  {
   "cell_type": "code",
   "execution_count": 19,
   "id": "565fd467",
   "metadata": {},
   "outputs": [],
   "source": [
    "for key, value in all_texts.items():\n",
    "    for text in value:\n",
    "        ner_tagger.tag( text )"
   ]
  },
  {
   "cell_type": "code",
   "execution_count": 20,
   "id": "9d92b8ad",
   "metadata": {},
   "outputs": [],
   "source": [
    "for key, value in all_texts.items():\n",
    "    for text in value:\n",
    "        text.tag_layer('timexes')"
   ]
  },
  {
   "cell_type": "markdown",
   "id": "33cc50cd",
   "metadata": {},
   "source": [
    "### Teksti salvestamine JSON-formaadis"
   ]
  },
  {
   "cell_type": "code",
   "execution_count": 21,
   "id": "19651ac4",
   "metadata": {},
   "outputs": [],
   "source": [
    "os.mkdir('json_data')"
   ]
  },
  {
   "cell_type": "code",
   "execution_count": 22,
   "id": "3a462d98",
   "metadata": {},
   "outputs": [],
   "source": [
    "path = 'json_data/'"
   ]
  },
  {
   "cell_type": "code",
   "execution_count": 28,
   "id": "1fed26a8",
   "metadata": {},
   "outputs": [],
   "source": [
    "path = os.getcwd()+'\\\\json_data'"
   ]
  },
  {
   "cell_type": "code",
   "execution_count": 23,
   "id": "f7389e9a",
   "metadata": {},
   "outputs": [],
   "source": [
    "for key, value in all_texts.items():\n",
    "    for i, text in enumerate(value):\n",
    "        text_json = text_to_json( text )\n",
    "        filename = key+'_'+str(i)+'.json'\n",
    "        with open(os.path.join(path, filename), 'w') as f:\n",
    "            json.dump( text_json, f )"
   ]
  },
  {
   "cell_type": "code",
   "execution_count": null,
   "id": "8e21fb91",
   "metadata": {},
   "outputs": [],
   "source": []
  }
 ],
 "metadata": {
  "kernelspec": {
   "display_name": "Python 3 (ipykernel)",
   "language": "python",
   "name": "python3"
  },
  "language_info": {
   "codemirror_mode": {
    "name": "ipython",
    "version": 3
   },
   "file_extension": ".py",
   "mimetype": "text/x-python",
   "name": "python",
   "nbconvert_exporter": "python",
   "pygments_lexer": "ipython3",
   "version": "3.10.11"
  }
 },
 "nbformat": 4,
 "nbformat_minor": 5
}
