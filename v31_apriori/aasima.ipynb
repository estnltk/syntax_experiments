{
 "cells": [
  {
   "cell_type": "markdown",
   "metadata": {},
   "source": [
    "# Apriori aasima"
   ]
  },
  {
   "cell_type": "code",
   "execution_count": null,
   "metadata": {},
   "outputs": [],
   "source": [
    "%load_ext autoreload\n",
    "%autoreload 2"
   ]
  },
  {
   "cell_type": "code",
   "execution_count": 1,
   "metadata": {},
   "outputs": [],
   "source": [
    "from V31Apriori import V31\n",
    "import pandas as pd\n",
    "pd.set_option('display.max_colwidth', 0)\n",
    "\n",
    "v31 = V31(\n",
    "    \"/Users/rabauti/repos/tu/estnltk/syntax_experiments/syntax_experiments__subcat/v31_verb_transactions/v31_koondkorpus_sentences_verb_pattern_obl_20240524-153036.db\",\n",
    "    form_treshold_percent = 20,\n",
    "    form_treshold_count = 5,\n",
    "    apriori_min_support=0.05,\n",
    "    apriori_treshold_delta = 0.03,\n",
    "    apriori_treshold_percent=50,\n",
    "    datarows_treshold=100000\n",
    "    )"
   ]
  },
  {
   "cell_type": "code",
   "execution_count": 2,
   "metadata": {},
   "outputs": [
    {
     "name": "stdout",
     "output_type": "stream",
     "text": [
      "************************************************ aasima   ************************************************\n",
      "Ridu analüüsimiseks: 160\n",
      "apriori min_support: 0.05\n",
      "delta: 0.03\n",
      "percent: 50\n"
     ]
    },
    {
     "data": {
      "text/html": [
       "<div>\n",
       "<style scoped>\n",
       "    .dataframe tbody tr th:only-of-type {\n",
       "        vertical-align: middle;\n",
       "    }\n",
       "\n",
       "    .dataframe tbody tr th {\n",
       "        vertical-align: top;\n",
       "    }\n",
       "\n",
       "    .dataframe thead th {\n",
       "        text-align: right;\n",
       "    }\n",
       "</style>\n",
       "<table border=\"1\" class=\"dataframe\">\n",
       "  <thead>\n",
       "    <tr style=\"text-align: right;\">\n",
       "      <th></th>\n",
       "      <th>support</th>\n",
       "      <th>itemlists</th>\n",
       "      <th>example1</th>\n",
       "      <th>example2</th>\n",
       "      <th>example3</th>\n",
       "      <th>drop</th>\n",
       "      <th>drop_reason</th>\n",
       "      <th>length</th>\n",
       "    </tr>\n",
       "  </thead>\n",
       "  <tbody>\n",
       "    <tr>\n",
       "      <th>3</th>\n",
       "      <td>0.78125</td>\n",
       "      <td>[(NSUBJ, nom, , )]</td>\n",
       "      <td>ta</td>\n",
       "      <td>leinatamm</td>\n",
       "      <td>reisikaaslane</td>\n",
       "      <td>False</td>\n",
       "      <td></td>\n",
       "      <td>1</td>\n",
       "    </tr>\n",
       "    <tr>\n",
       "      <th>4</th>\n",
       "      <td>0.29375</td>\n",
       "      <td>[(OBJ, part, , )]</td>\n",
       "      <td>meid</td>\n",
       "      <td>meid</td>\n",
       "      <td>ütlusi</td>\n",
       "      <td>False</td>\n",
       "      <td></td>\n",
       "      <td>1</td>\n",
       "    </tr>\n",
       "    <tr>\n",
       "      <th>10</th>\n",
       "      <td>0.21875</td>\n",
       "      <td>[(NSUBJ, nom, , ), (OBJ, part, , )]</td>\n",
       "      <td>mis identiteeti</td>\n",
       "      <td>leemets poliitikuid</td>\n",
       "      <td>ta mida</td>\n",
       "      <td>False</td>\n",
       "      <td></td>\n",
       "      <td>2</td>\n",
       "    </tr>\n",
       "    <tr>\n",
       "      <th>1</th>\n",
       "      <td>0.19375</td>\n",
       "      <td>[(ADVMOD, , , )]</td>\n",
       "      <td>ainult</td>\n",
       "      <td>sõbralikult</td>\n",
       "      <td>vastastikku</td>\n",
       "      <td>False</td>\n",
       "      <td></td>\n",
       "      <td>1</td>\n",
       "    </tr>\n",
       "    <tr>\n",
       "      <th>0</th>\n",
       "      <td>0.13125</td>\n",
       "      <td>[(ADVCL, , , )]</td>\n",
       "      <td>tassides</td>\n",
       "      <td>sai</td>\n",
       "      <td>lonksates</td>\n",
       "      <td>True</td>\n",
       "      <td>(row 8) delta: abs(0.1187 - 0.1313) &lt; 0.03 %: (0.1313-0.1187)/0.1187*100&lt;50</td>\n",
       "      <td>1</td>\n",
       "    </tr>\n",
       "    <tr>\n",
       "      <th>8</th>\n",
       "      <td>0.11875</td>\n",
       "      <td>[(NSUBJ, nom, , ), (ADVCL, , , )]</td>\n",
       "      <td>need viis</td>\n",
       "      <td>vormikandjad käis</td>\n",
       "      <td>poemüüjad ostis</td>\n",
       "      <td>False</td>\n",
       "      <td></td>\n",
       "      <td>2</td>\n",
       "    </tr>\n",
       "    <tr>\n",
       "      <th>9</th>\n",
       "      <td>0.11875</td>\n",
       "      <td>[(NSUBJ, nom, , ), (ADVMOD, , , )]</td>\n",
       "      <td>vennad omavahel</td>\n",
       "      <td>tuletõrjujad omavahel</td>\n",
       "      <td>tuletõrjujad omavahel</td>\n",
       "      <td>False</td>\n",
       "      <td></td>\n",
       "      <td>2</td>\n",
       "    </tr>\n",
       "    <tr>\n",
       "      <th>2</th>\n",
       "      <td>0.05625</td>\n",
       "      <td>[(CCOMP, , , )]</td>\n",
       "      <td>käib</td>\n",
       "      <td>langeski</td>\n",
       "      <td>ostad</td>\n",
       "      <td>False</td>\n",
       "      <td></td>\n",
       "      <td>1</td>\n",
       "    </tr>\n",
       "    <tr>\n",
       "      <th>7</th>\n",
       "      <td>0.05625</td>\n",
       "      <td>[(OBL, kom, , )]</td>\n",
       "      <td>innuga</td>\n",
       "      <td>meestega</td>\n",
       "      <td>meestega</td>\n",
       "      <td>False</td>\n",
       "      <td></td>\n",
       "      <td>1</td>\n",
       "    </tr>\n",
       "    <tr>\n",
       "      <th>5</th>\n",
       "      <td>0.05000</td>\n",
       "      <td>[(OBL, ad, , )]</td>\n",
       "      <td>pinnal</td>\n",
       "      <td>arutelul</td>\n",
       "      <td>pinnal</td>\n",
       "      <td>False</td>\n",
       "      <td></td>\n",
       "      <td>1</td>\n",
       "    </tr>\n",
       "    <tr>\n",
       "      <th>6</th>\n",
       "      <td>0.05000</td>\n",
       "      <td>[(OBL, gen, ,  kallal)]</td>\n",
       "      <td>mu  kallal</td>\n",
       "      <td>üksteise  kallal</td>\n",
       "      <td>mu  kallal</td>\n",
       "      <td>False</td>\n",
       "      <td></td>\n",
       "      <td>1</td>\n",
       "    </tr>\n",
       "  </tbody>\n",
       "</table>\n",
       "</div>"
      ],
      "text/plain": [
       "    support                            itemlists         example1  \\\n",
       "3   0.78125  [(NSUBJ, nom, , )]                   ta                \n",
       "4   0.29375  [(OBJ, part, , )]                    meid              \n",
       "10  0.21875  [(NSUBJ, nom, , ), (OBJ, part, , )]  mis identiteeti   \n",
       "1   0.19375  [(ADVMOD, , , )]                     ainult            \n",
       "0   0.13125  [(ADVCL, , , )]                      tassides          \n",
       "8   0.11875  [(NSUBJ, nom, , ), (ADVCL, , , )]    need viis         \n",
       "9   0.11875  [(NSUBJ, nom, , ), (ADVMOD, , , )]   vennad omavahel   \n",
       "2   0.05625  [(CCOMP, , , )]                      käib              \n",
       "7   0.05625  [(OBL, kom, , )]                     innuga            \n",
       "5   0.05000  [(OBL, ad, , )]                      pinnal            \n",
       "6   0.05000  [(OBL, gen, ,  kallal)]              mu  kallal        \n",
       "\n",
       "                 example2               example3   drop  \\\n",
       "3   leinatamm              reisikaaslane          False   \n",
       "4   meid                   ütlusi                 False   \n",
       "10  leemets poliitikuid    ta mida                False   \n",
       "1   sõbralikult            vastastikku            False   \n",
       "0   sai                    lonksates              True    \n",
       "8   vormikandjad käis      poemüüjad ostis        False   \n",
       "9   tuletõrjujad omavahel  tuletõrjujad omavahel  False   \n",
       "2   langeski               ostad                  False   \n",
       "7   meestega               meestega               False   \n",
       "5   arutelul               pinnal                 False   \n",
       "6   üksteise  kallal       mu  kallal             False   \n",
       "\n",
       "                                                                    drop_reason  \\\n",
       "3                                                                                 \n",
       "4                                                                                 \n",
       "10                                                                                \n",
       "1                                                                                 \n",
       "0   (row 8) delta: abs(0.1187 - 0.1313) < 0.03 %: (0.1313-0.1187)/0.1187*100<50   \n",
       "8                                                                                 \n",
       "9                                                                                 \n",
       "2                                                                                 \n",
       "7                                                                                 \n",
       "5                                                                                 \n",
       "6                                                                                 \n",
       "\n",
       "    length  \n",
       "3   1       \n",
       "4   1       \n",
       "10  2       \n",
       "1   1       \n",
       "0   1       \n",
       "8   2       \n",
       "9   2       \n",
       "2   1       \n",
       "7   1       \n",
       "5   1       \n",
       "6   1       "
      ]
     },
     "metadata": {},
     "output_type": "display_data"
    },
    {
     "data": {
      "image/png": "[encoded data removed]",
      "text/plain": [
       "<Figure size 1500x1000 with 2 Axes>"
      ]
     },
     "metadata": {},
     "output_type": "display_data"
    },
    {
     "name": "stdout",
     "output_type": "stream",
     "text": [
      "CPU times: user 5.91 s, sys: 2.26 s, total: 8.17 s\n",
      "Wall time: 14.8 s\n"
     ]
    }
   ],
   "source": [
    "%%time\n",
    "result = v31.make_all(verb='aasima', verb_compound='', examples=True)\n"
   ]
  },
  {
   "cell_type": "markdown",
   "metadata": {},
   "source": [
    "## pikem viis\n",
    "\n",
    "### aasima + obl-p"
   ]
  },
  {
   "cell_type": "code",
   "execution_count": 17,
   "metadata": {},
   "outputs": [],
   "source": [
    "VERB = 'aasima'\n",
    "VERB_COMPOUND = ''"
   ]
  },
  {
   "cell_type": "code",
   "execution_count": 18,
   "metadata": {},
   "outputs": [],
   "source": [
    "# transaktsioonid\n",
    "transactions = v31.get_transactions(verb=VERB, verb_compound=VERB_COMPOUND)"
   ]
  },
  {
   "cell_type": "code",
   "execution_count": 19,
   "metadata": {},
   "outputs": [
    {
     "data": {
      "text/plain": [
       "160"
      ]
     },
     "execution_count": 19,
     "metadata": {},
     "output_type": "execute_result"
    }
   ],
   "source": [
    "len(transactions)\n"
   ]
  },
  {
   "cell_type": "code",
   "execution_count": 22,
   "metadata": {},
   "outputs": [],
   "source": [
    "# transactions on juba \"puhastatud\", _raw_transactions sisaldab rohkem infot\n",
    "raw = v31._raw_transactions"
   ]
  },
  {
   "cell_type": "code",
   "execution_count": 28,
   "metadata": {},
   "outputs": [
    {
     "data": {
      "text/plain": [
       "12316670"
      ]
     },
     "metadata": {},
     "output_type": "display_data"
    },
    {
     "data": {
      "text/plain": [
       "[{'deprel': 'OBL',\n",
       "  'case': 'part',\n",
       "  'frequent_form': 'aastat',\n",
       "  'obl_case': ' tagasi',\n",
       "  'loc': 2},\n",
       " {'deprel': 'OBJ',\n",
       "  'case': 'part',\n",
       "  'frequent_form': 'jäälepudenemist',\n",
       "  'obl_case': '',\n",
       "  'loc': 11},\n",
       " {'deprel': 'NSUBJ',\n",
       "  'case': 'nom',\n",
       "  'frequent_form': 'press',\n",
       "  'obl_case': '',\n",
       "  'loc': 15}]"
      ]
     },
     "metadata": {},
     "output_type": "display_data"
    },
    {
     "data": {
      "text/plain": [
       "14190923"
      ]
     },
     "metadata": {},
     "output_type": "display_data"
    },
    {
     "data": {
      "text/plain": [
       "[{'deprel': 'NSUBJ',\n",
       "  'case': 'nom',\n",
       "  'frequent_form': 'sina',\n",
       "  'obl_case': '',\n",
       "  'loc': 33},\n",
       " {'deprel': 'OBJ',\n",
       "  'case': 'part',\n",
       "  'frequent_form': 'mind',\n",
       "  'obl_case': '',\n",
       "  'loc': 34},\n",
       " {'deprel': 'OBL',\n",
       "  'case': 'kom',\n",
       "  'frequent_form': 'vitsaga',\n",
       "  'obl_case': '',\n",
       "  'loc': 35},\n",
       " {'deprel': 'OBL',\n",
       "  'case': 'part',\n",
       "  'frequent_form': 'karja',\n",
       "  'obl_case': ' tagasi',\n",
       "  'loc': 36},\n",
       " {'deprel': 'XCOMP',\n",
       "  'case': '',\n",
       "  'frequent_form': 'näha',\n",
       "  'obl_case': '',\n",
       "  'loc': 46}]"
      ]
     },
     "metadata": {},
     "output_type": "display_data"
    },
    {
     "data": {
      "text/plain": [
       "15384236"
      ]
     },
     "metadata": {},
     "output_type": "display_data"
    },
    {
     "data": {
      "text/plain": [
       "[{'deprel': 'OBL',\n",
       "  'case': 'part',\n",
       "  'frequent_form': 'lihvimist',\n",
       "  'obl_case': ' enne',\n",
       "  'loc': 3},\n",
       " {'deprel': 'NSUBJ',\n",
       "  'case': 'nom',\n",
       "  'frequent_form': 'erki',\n",
       "  'obl_case': '',\n",
       "  'loc': 5},\n",
       " {'deprel': 'NSUBJ',\n",
       "  'case': 'nom',\n",
       "  'frequent_form': 'indrek',\n",
       "  'obl_case': '',\n",
       "  'loc': 7}]"
      ]
     },
     "metadata": {},
     "output_type": "display_data"
    },
    {
     "data": {
      "text/plain": [
       "3"
      ]
     },
     "metadata": {},
     "output_type": "display_data"
    }
   ],
   "source": [
    "obl_part_count = 0\n",
    "for key, kids in raw.items():\n",
    "    \n",
    "    for kid in kids:\n",
    "        if kid['deprel'] == 'OBL' and kid['case'] == 'part':\n",
    "            obl_part_count += 1\n",
    "            display(key, kids)\n",
    "            break\n",
    "display(obl_part_count)\n",
    "            \n",
    "   "
   ]
  },
  {
   "cell_type": "markdown",
   "metadata": {},
   "source": [
    "## viima kust - kuhu"
   ]
  },
  {
   "cell_type": "code",
   "execution_count": 31,
   "metadata": {},
   "outputs": [],
   "source": [
    "# transaktsioonid\n",
    "viima_transactions = v31.get_transactions(verb='viima', verb_compound='')\n",
    "tansactions_raw = v31._raw_transactions"
   ]
  },
  {
   "cell_type": "code",
   "execution_count": 32,
   "metadata": {},
   "outputs": [
    {
     "data": {
      "text/plain": [
       "50174"
      ]
     },
     "execution_count": 32,
     "metadata": {},
     "output_type": "execute_result"
    }
   ],
   "source": [
    "len(tansactions_raw)"
   ]
  },
  {
   "cell_type": "code",
   "execution_count": 34,
   "metadata": {},
   "outputs": [
    {
     "data": {
      "text/plain": [
       "134"
      ]
     },
     "metadata": {},
     "output_type": "display_data"
    }
   ],
   "source": [
    "viima_kust_kuhu = 0\n",
    "for key, kids in tansactions_raw.items():\n",
    "    abl = False\n",
    "    all = False\n",
    "    \n",
    "    for kid in kids:\n",
    "        if kid['deprel'] == 'OBL' and kid['case'] == 'abl':\n",
    "            abl = 1\n",
    "        if kid['deprel'] == 'OBL' and kid['case'] == 'all':\n",
    "            all = 1\n",
    "    if abl and all:\n",
    "        viima_kust_kuhu += 1\n",
    "        #display(key, kids)\n",
    "        \n",
    "            \n",
    "    \n",
    "display(viima_kust_kuhu)"
   ]
  }
 ],
 "metadata": {
  "kernelspec": {
   "display_name": "venv",
   "language": "python",
   "name": "python3"
  },
  "language_info": {
   "codemirror_mode": {
    "name": "ipython",
    "version": 3
   },
   "file_extension": ".py",
   "mimetype": "text/x-python",
   "name": "python",
   "nbconvert_exporter": "python",
   "pygments_lexer": "ipython3",
   "version": "3.11.7"
  }
 },
 "nbformat": 4,
 "nbformat_minor": 2
}
