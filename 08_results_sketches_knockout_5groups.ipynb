{
 "cells": [
  {
   "cell_type": "markdown",
   "id": "92b47bf4",
   "metadata": {},
   "source": [
    "## Results of the syntactic sketch knockout experiments"
   ]
  },
  {
   "cell_type": "code",
   "execution_count": 1,
   "id": "b658bcdc",
   "metadata": {},
   "outputs": [],
   "source": [
    "import os, os.path\n",
    "import re\n",
    "\n",
    "from pandas import DataFrame as df\n",
    "from pandas import read_csv\n",
    "import pandas\n",
    "import seaborn as sns"
   ]
  },
  {
   "cell_type": "code",
   "execution_count": 2,
   "id": "8217e875",
   "metadata": {},
   "outputs": [
    {
     "name": "stdout",
     "output_type": "stream",
     "text": [
      "results_crossvalidation.csv\n",
      "results_full_data_malt_udpipe1.csv\n",
      "results_gap_experiments.csv\n",
      "results_gold_and_auto_ud_morph.csv\n",
      "results_half_data.csv\n",
      "results_smaller_data.csv\n",
      "results_stanza_basic.csv\n",
      "results_stanza_ME_error_types.csv\n",
      "results_stanza_ME_sketches_5groups_knockout.csv\n",
      "results_stanza_ME_sketches_5groups_knockout_matrix.csv\n",
      "results_stanza_ME_sketches_5randomgroups_knockout.csv\n",
      "results_stanza_ME_sketches_5randomgroups_knockout_matrix.csv\n"
     ]
    }
   ],
   "source": [
    "input_dir = 'edt_2.6'   # Experiments done on Estonian Dependency Treebank version 2.6\n",
    "\n",
    "for fname in os.listdir(input_dir):\n",
    "    if fname.startswith('results_') and fname.endswith('.csv'):\n",
    "        print(fname)"
   ]
  },
  {
   "cell_type": "code",
   "execution_count": 3,
   "id": "f8ecd862",
   "metadata": {},
   "outputs": [],
   "source": [
    "pandas.set_option('display.max_colwidth', None)"
   ]
  },
  {
   "cell_type": "code",
   "execution_count": 4,
   "id": "043a8d4d",
   "metadata": {},
   "outputs": [
    {
     "data": {
      "text/html": [
       "<div>\n",
       "<style scoped>\n",
       "    .dataframe tbody tr th:only-of-type {\n",
       "        vertical-align: middle;\n",
       "    }\n",
       "\n",
       "    .dataframe tbody tr th {\n",
       "        vertical-align: top;\n",
       "    }\n",
       "\n",
       "    .dataframe thead th {\n",
       "        text-align: right;\n",
       "    }\n",
       "</style>\n",
       "<table border=\"1\" class=\"dataframe\">\n",
       "  <thead>\n",
       "    <tr style=\"text-align: right;\">\n",
       "      <th></th>\n",
       "      <th>grouped_sketches</th>\n",
       "      <th>support</th>\n",
       "    </tr>\n",
       "  </thead>\n",
       "  <tbody>\n",
       "    <tr>\n",
       "      <th>0</th>\n",
       "      <td>[V]nsubj(L)obl(L);[V]nsubj(L)obl(L)obl(P);[S]advmod(L)cop(L)nsubj:cop(L);[S]cop(L)nsubj:cop(P);[V]aux(L)nsubj(L)obl(L);[V]obj(L)obl(L);[V]nsubj(L)xcomp(P);[V]obj(P)obl(L);[V]obj(P);[V]obj(L)</td>\n",
       "      <td>4157</td>\n",
       "    </tr>\n",
       "    <tr>\n",
       "      <th>1</th>\n",
       "      <td>[S]nmod(L);[V]advmod(L)nsubj(P);[V]aux(L)nsubj(L)obj(L);[S]amod(L);[V]advmod(L);[V];[V]nsubj(L)obj(P);[S];[V]nsubj(L)obj(P)obl(L);[V]nsubj(P)obl(L)</td>\n",
       "      <td>5167</td>\n",
       "    </tr>\n",
       "    <tr>\n",
       "      <th>2</th>\n",
       "      <td>[V]obj(L)obl(P);[V]nsubj(L)obj(L);[S]amod(L)cop(L)nsubj:cop(L);[V]advmod(L)obl(L);[S]cop(L)nmod(L)nsubj:cop(L);[V]advmod(L)nsubj(L)obj(L);[V]nsubj(L)obj(L)obl(P);[V]advmod(L)nsubj(L)obj(L)obl(L);[V]advmod(L)obj(L);[S]cop(L)nsubj:cop(L)</td>\n",
       "      <td>3374</td>\n",
       "    </tr>\n",
       "    <tr>\n",
       "      <th>3</th>\n",
       "      <td>[V]nsubj(L)obj(L)obl(L);[S]advmod(L);[S]cop(L)nsubj:cop(L)obl(L);[V]nsubj(L)obl(P);[V]nsubj(P)obl(P);[V]advmod(L)nsubj(L)obl(P);[V]nsubj(L);[V]advmod(L)nsubj(L);[V]nsubj(L)xcomp(L);[V]obl(P)</td>\n",
       "      <td>4904</td>\n",
       "    </tr>\n",
       "    <tr>\n",
       "      <th>4</th>\n",
       "      <td>[V]nsubj(L)obl(L)obl(L);[V]advmod(L)nsubj(L)obl(L);[V]aux(L);[X];[V]xcomp(P);[V]aux(L)nsubj(L);[S]nummod(L);[V]nsubj(P);[V]nsubj(P)obj(L);[V]obl(L)</td>\n",
       "      <td>3332</td>\n",
       "    </tr>\n",
       "  </tbody>\n",
       "</table>\n",
       "</div>"
      ],
      "text/plain": [
       "                                                                                                                                                                                                                              grouped_sketches  \\\n",
       "0                                               [V]nsubj(L)obl(L);[V]nsubj(L)obl(L)obl(P);[S]advmod(L)cop(L)nsubj:cop(L);[S]cop(L)nsubj:cop(P);[V]aux(L)nsubj(L)obl(L);[V]obj(L)obl(L);[V]nsubj(L)xcomp(P);[V]obj(P)obl(L);[V]obj(P);[V]obj(L)   \n",
       "1                                                                                          [S]nmod(L);[V]advmod(L)nsubj(P);[V]aux(L)nsubj(L)obj(L);[S]amod(L);[V]advmod(L);[V];[V]nsubj(L)obj(P);[S];[V]nsubj(L)obj(P)obl(L);[V]nsubj(P)obl(L)   \n",
       "2  [V]obj(L)obl(P);[V]nsubj(L)obj(L);[S]amod(L)cop(L)nsubj:cop(L);[V]advmod(L)obl(L);[S]cop(L)nmod(L)nsubj:cop(L);[V]advmod(L)nsubj(L)obj(L);[V]nsubj(L)obj(L)obl(P);[V]advmod(L)nsubj(L)obj(L)obl(L);[V]advmod(L)obj(L);[S]cop(L)nsubj:cop(L)   \n",
       "3                                               [V]nsubj(L)obj(L)obl(L);[S]advmod(L);[S]cop(L)nsubj:cop(L)obl(L);[V]nsubj(L)obl(P);[V]nsubj(P)obl(P);[V]advmod(L)nsubj(L)obl(P);[V]nsubj(L);[V]advmod(L)nsubj(L);[V]nsubj(L)xcomp(L);[V]obl(P)   \n",
       "4                                                                                          [V]nsubj(L)obl(L)obl(L);[V]advmod(L)nsubj(L)obl(L);[V]aux(L);[X];[V]xcomp(P);[V]aux(L)nsubj(L);[S]nummod(L);[V]nsubj(P);[V]nsubj(P)obj(L);[V]obl(L)   \n",
       "\n",
       "   support  \n",
       "0     4157  \n",
       "1     5167  \n",
       "2     3374  \n",
       "3     4904  \n",
       "4     3332  "
      ]
     },
     "execution_count": 4,
     "metadata": {},
     "output_type": "execute_result"
    }
   ],
   "source": [
    "# Randomly grouped sketches\n",
    "read_csv('edt_2.6/preannotated/morph_extended_clauses/top_50_sketches_5_groups.csv', index_col=0)"
   ]
  },
  {
   "cell_type": "code",
   "execution_count": 5,
   "id": "2f222980",
   "metadata": {},
   "outputs": [
    {
     "data": {
      "text/html": [
       "<div>\n",
       "<style scoped>\n",
       "    .dataframe tbody tr th:only-of-type {\n",
       "        vertical-align: middle;\n",
       "    }\n",
       "\n",
       "    .dataframe tbody tr th {\n",
       "        vertical-align: top;\n",
       "    }\n",
       "\n",
       "    .dataframe thead th {\n",
       "        text-align: right;\n",
       "    }\n",
       "</style>\n",
       "<table border=\"1\" class=\"dataframe\">\n",
       "  <thead>\n",
       "    <tr style=\"text-align: right;\">\n",
       "      <th></th>\n",
       "      <th>group0</th>\n",
       "      <th>group1</th>\n",
       "      <th>group2</th>\n",
       "      <th>group3</th>\n",
       "      <th>group4</th>\n",
       "    </tr>\n",
       "  </thead>\n",
       "  <tbody>\n",
       "    <tr>\n",
       "      <th>group0</th>\n",
       "      <td>0.8922</td>\n",
       "      <td>0.9045</td>\n",
       "      <td>0.9107</td>\n",
       "      <td>0.9143</td>\n",
       "      <td>0.9085</td>\n",
       "    </tr>\n",
       "    <tr>\n",
       "      <th>group1</th>\n",
       "      <td>0.9202</td>\n",
       "      <td>0.9045</td>\n",
       "      <td>0.9193</td>\n",
       "      <td>0.9150</td>\n",
       "      <td>0.9154</td>\n",
       "    </tr>\n",
       "    <tr>\n",
       "      <th>group2</th>\n",
       "      <td>0.9294</td>\n",
       "      <td>0.9247</td>\n",
       "      <td>0.9132</td>\n",
       "      <td>0.9187</td>\n",
       "      <td>0.9247</td>\n",
       "    </tr>\n",
       "    <tr>\n",
       "      <th>group3</th>\n",
       "      <td>0.9141</td>\n",
       "      <td>0.9127</td>\n",
       "      <td>0.9191</td>\n",
       "      <td>0.8906</td>\n",
       "      <td>0.9176</td>\n",
       "    </tr>\n",
       "    <tr>\n",
       "      <th>group4</th>\n",
       "      <td>0.9198</td>\n",
       "      <td>0.9188</td>\n",
       "      <td>0.9209</td>\n",
       "      <td>0.9209</td>\n",
       "      <td>0.8955</td>\n",
       "    </tr>\n",
       "  </tbody>\n",
       "</table>\n",
       "</div>"
      ],
      "text/plain": [
       "        group0  group1  group2  group3  group4\n",
       "group0  0.8922  0.9045  0.9107  0.9143  0.9085\n",
       "group1  0.9202  0.9045  0.9193  0.9150  0.9154\n",
       "group2  0.9294  0.9247  0.9132  0.9187  0.9247\n",
       "group3  0.9141  0.9127  0.9191  0.8906  0.9176\n",
       "group4  0.9198  0.9188  0.9209  0.9209  0.8955"
      ]
     },
     "execution_count": 5,
     "metadata": {},
     "output_type": "execute_result"
    }
   ],
   "source": [
    "# Test matrix: rows are test sets, columns are models\n",
    "test_matrix = read_csv('edt_2.6/results_stanza_ME_sketches_5groups_knockout_matrix.csv', index_col=0)\n",
    "test_matrix"
   ]
  },
  {
   "cell_type": "code",
   "execution_count": 6,
   "id": "1298085d",
   "metadata": {},
   "outputs": [
    {
     "data": {
      "image/png": "[encoded data removed]",
      "text/plain": [
       "<Figure size 640x480 with 2 Axes>"
      ]
     },
     "metadata": {},
     "output_type": "display_data"
    }
   ],
   "source": [
    "fig = sns.heatmap(test_matrix).get_figure()\n",
    "fig.savefig(\"sketches_5groups_knockout_matrix.pdf\")"
   ]
  },
  {
   "cell_type": "code",
   "execution_count": 7,
   "id": "f747e8d7",
   "metadata": {},
   "outputs": [
    {
     "data": {
      "text/html": [
       "<div>\n",
       "<style scoped>\n",
       "    .dataframe tbody tr th:only-of-type {\n",
       "        vertical-align: middle;\n",
       "    }\n",
       "\n",
       "    .dataframe tbody tr th {\n",
       "        vertical-align: top;\n",
       "    }\n",
       "\n",
       "    .dataframe thead th {\n",
       "        text-align: right;\n",
       "    }\n",
       "</style>\n",
       "<table border=\"1\" class=\"dataframe\">\n",
       "  <thead>\n",
       "    <tr style=\"text-align: right;\">\n",
       "      <th></th>\n",
       "      <th>group0</th>\n",
       "      <th>group1</th>\n",
       "      <th>group2</th>\n",
       "      <th>group3</th>\n",
       "      <th>group4</th>\n",
       "    </tr>\n",
       "  </thead>\n",
       "  <tbody>\n",
       "    <tr>\n",
       "      <th>group0</th>\n",
       "      <td>0.9118</td>\n",
       "      <td>0.9056</td>\n",
       "      <td>0.9147</td>\n",
       "      <td>0.9118</td>\n",
       "      <td>0.9099</td>\n",
       "    </tr>\n",
       "    <tr>\n",
       "      <th>group1</th>\n",
       "      <td>0.9132</td>\n",
       "      <td>0.9176</td>\n",
       "      <td>0.9158</td>\n",
       "      <td>0.9097</td>\n",
       "      <td>0.9158</td>\n",
       "    </tr>\n",
       "    <tr>\n",
       "      <th>group2</th>\n",
       "      <td>0.9199</td>\n",
       "      <td>0.9219</td>\n",
       "      <td>0.9231</td>\n",
       "      <td>0.9183</td>\n",
       "      <td>0.9199</td>\n",
       "    </tr>\n",
       "    <tr>\n",
       "      <th>group3</th>\n",
       "      <td>0.9180</td>\n",
       "      <td>0.9155</td>\n",
       "      <td>0.9137</td>\n",
       "      <td>0.9166</td>\n",
       "      <td>0.9184</td>\n",
       "    </tr>\n",
       "    <tr>\n",
       "      <th>group4</th>\n",
       "      <td>0.9244</td>\n",
       "      <td>0.9193</td>\n",
       "      <td>0.9193</td>\n",
       "      <td>0.9188</td>\n",
       "      <td>0.9214</td>\n",
       "    </tr>\n",
       "  </tbody>\n",
       "</table>\n",
       "</div>"
      ],
      "text/plain": [
       "        group0  group1  group2  group3  group4\n",
       "group0  0.9118  0.9056  0.9147  0.9118  0.9099\n",
       "group1  0.9132  0.9176  0.9158  0.9097  0.9158\n",
       "group2  0.9199  0.9219  0.9231  0.9183  0.9199\n",
       "group3  0.9180  0.9155  0.9137  0.9166  0.9184\n",
       "group4  0.9244  0.9193  0.9193  0.9188  0.9214"
      ]
     },
     "execution_count": 7,
     "metadata": {},
     "output_type": "execute_result"
    }
   ],
   "source": [
    "# Random control group test matrix: rows are test sets, columns are models\n",
    "rnd_test_matrix = read_csv('edt_2.6/results_stanza_ME_sketches_5randomgroups_knockout_matrix.csv', index_col=0)\n",
    "rnd_test_matrix"
   ]
  },
  {
   "cell_type": "code",
   "execution_count": 8,
   "id": "8618dc6b",
   "metadata": {},
   "outputs": [
    {
     "data": {
      "image/png": "[encoded data removed]",
      "text/plain": [
       "<Figure size 640x480 with 2 Axes>"
      ]
     },
     "metadata": {},
     "output_type": "display_data"
    }
   ],
   "source": [
    "fig = sns.heatmap(rnd_test_matrix).get_figure()\n",
    "fig.savefig(\"sketches_5groups_random_knockout_matrix.pdf\")"
   ]
  },
  {
   "cell_type": "code",
   "execution_count": 9,
   "id": "d86a4d5e",
   "metadata": {},
   "outputs": [
    {
     "data": {
      "text/html": [
       "<div>\n",
       "<style scoped>\n",
       "    .dataframe tbody tr th:only-of-type {\n",
       "        vertical-align: middle;\n",
       "    }\n",
       "\n",
       "    .dataframe tbody tr th {\n",
       "        vertical-align: top;\n",
       "    }\n",
       "\n",
       "    .dataframe thead th {\n",
       "        text-align: right;\n",
       "    }\n",
       "</style>\n",
       "<table border=\"1\" class=\"dataframe\">\n",
       "  <thead>\n",
       "    <tr style=\"text-align: right;\">\n",
       "      <th></th>\n",
       "      <th>LAS_test</th>\n",
       "    </tr>\n",
       "    <tr>\n",
       "      <th>experiment</th>\n",
       "      <th></th>\n",
       "    </tr>\n",
       "  </thead>\n",
       "  <tbody>\n",
       "    <tr>\n",
       "      <th>eval_stanza_morph_extended_sketches_knockout_5groups_single_file_group0</th>\n",
       "      <td>0.9144</td>\n",
       "    </tr>\n",
       "    <tr>\n",
       "      <th>eval_stanza_morph_extended_sketches_knockout_5groups_single_file_group1</th>\n",
       "      <td>0.9128</td>\n",
       "    </tr>\n",
       "    <tr>\n",
       "      <th>eval_stanza_morph_extended_sketches_knockout_5groups_single_file_group2</th>\n",
       "      <td>0.9163</td>\n",
       "    </tr>\n",
       "    <tr>\n",
       "      <th>eval_stanza_morph_extended_sketches_knockout_5groups_single_file_group3</th>\n",
       "      <td>0.9110</td>\n",
       "    </tr>\n",
       "    <tr>\n",
       "      <th>eval_stanza_morph_extended_sketches_knockout_5groups_single_file_group4</th>\n",
       "      <td>0.9131</td>\n",
       "    </tr>\n",
       "  </tbody>\n",
       "</table>\n",
       "</div>"
      ],
      "text/plain": [
       "                                                                         LAS_test\n",
       "experiment                                                                       \n",
       "eval_stanza_morph_extended_sketches_knockout_5groups_single_file_group0    0.9144\n",
       "eval_stanza_morph_extended_sketches_knockout_5groups_single_file_group1    0.9128\n",
       "eval_stanza_morph_extended_sketches_knockout_5groups_single_file_group2    0.9163\n",
       "eval_stanza_morph_extended_sketches_knockout_5groups_single_file_group3    0.9110\n",
       "eval_stanza_morph_extended_sketches_knockout_5groups_single_file_group4    0.9131"
      ]
     },
     "execution_count": 9,
     "metadata": {},
     "output_type": "execute_result"
    }
   ],
   "source": [
    "# Results on test_50x50 file\n",
    "read_csv('edt_2.6/results_stanza_ME_sketches_5groups_knockout.csv', index_col=0).drop(['UAS_test'], axis=1)"
   ]
  },
  {
   "cell_type": "code",
   "execution_count": 10,
   "id": "cf1e99b5",
   "metadata": {},
   "outputs": [
    {
     "data": {
      "text/html": [
       "<div>\n",
       "<style scoped>\n",
       "    .dataframe tbody tr th:only-of-type {\n",
       "        vertical-align: middle;\n",
       "    }\n",
       "\n",
       "    .dataframe tbody tr th {\n",
       "        vertical-align: top;\n",
       "    }\n",
       "\n",
       "    .dataframe thead th {\n",
       "        text-align: right;\n",
       "    }\n",
       "</style>\n",
       "<table border=\"1\" class=\"dataframe\">\n",
       "  <thead>\n",
       "    <tr style=\"text-align: right;\">\n",
       "      <th></th>\n",
       "      <th>LAS_test</th>\n",
       "    </tr>\n",
       "    <tr>\n",
       "      <th>experiment</th>\n",
       "      <th></th>\n",
       "    </tr>\n",
       "  </thead>\n",
       "  <tbody>\n",
       "    <tr>\n",
       "      <th>eval_stanza_morph_extended_sketches_knockout_5randomgroups_single_file_group0</th>\n",
       "      <td>0.9171</td>\n",
       "    </tr>\n",
       "    <tr>\n",
       "      <th>eval_stanza_morph_extended_sketches_knockout_5randomgroups_single_file_group1</th>\n",
       "      <td>0.9156</td>\n",
       "    </tr>\n",
       "    <tr>\n",
       "      <th>eval_stanza_morph_extended_sketches_knockout_5randomgroups_single_file_group2</th>\n",
       "      <td>0.9171</td>\n",
       "    </tr>\n",
       "    <tr>\n",
       "      <th>eval_stanza_morph_extended_sketches_knockout_5randomgroups_single_file_group3</th>\n",
       "      <td>0.9149</td>\n",
       "    </tr>\n",
       "    <tr>\n",
       "      <th>eval_stanza_morph_extended_sketches_knockout_5randomgroups_single_file_group4</th>\n",
       "      <td>0.9168</td>\n",
       "    </tr>\n",
       "  </tbody>\n",
       "</table>\n",
       "</div>"
      ],
      "text/plain": [
       "                                                                               LAS_test\n",
       "experiment                                                                             \n",
       "eval_stanza_morph_extended_sketches_knockout_5randomgroups_single_file_group0    0.9171\n",
       "eval_stanza_morph_extended_sketches_knockout_5randomgroups_single_file_group1    0.9156\n",
       "eval_stanza_morph_extended_sketches_knockout_5randomgroups_single_file_group2    0.9171\n",
       "eval_stanza_morph_extended_sketches_knockout_5randomgroups_single_file_group3    0.9149\n",
       "eval_stanza_morph_extended_sketches_knockout_5randomgroups_single_file_group4    0.9168"
      ]
     },
     "execution_count": 10,
     "metadata": {},
     "output_type": "execute_result"
    }
   ],
   "source": [
    "# Results on test_50x50 file (random control group)\n",
    "read_csv('edt_2.6/results_stanza_ME_sketches_5randomgroups_knockout.csv', index_col=0).drop(['UAS_test'], axis=1)"
   ]
  }
 ],
 "metadata": {
  "kernelspec": {
   "display_name": "Python 3 (ipykernel)",
   "language": "python",
   "name": "python3"
  },
  "language_info": {
   "codemirror_mode": {
    "name": "ipython",
    "version": 3
   },
   "file_extension": ".py",
   "mimetype": "text/x-python",
   "name": "python",
   "nbconvert_exporter": "python",
   "pygments_lexer": "ipython3",
   "version": "3.8.12"
  }
 },
 "nbformat": 4,
 "nbformat_minor": 5
}
