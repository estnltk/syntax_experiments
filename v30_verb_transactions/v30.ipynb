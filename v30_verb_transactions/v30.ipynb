{
 "cells": [
  {
   "cell_type": "markdown",
   "id": "0f6b9761",
   "metadata": {},
   "source": []
  },
  {
   "cell_type": "code",
   "execution_count": 1,
   "id": "fe0c8798-1bd2-418c-83a0-974ab638d0ca",
   "metadata": {},
   "outputs": [],
   "source": [
    "#!conda activate py38_estnltk1.7\n",
    "#hpc serveris peaks sobima estnltk_collocations_py38\n",
    "#!conda install --channel conda-forge pygraphviz\n",
    "#!conda install -c conda-forge ipywidgets\n",
    "#!jupyter nbextension enable --py widgetsnbextension"
   ]
  },
  {
   "cell_type": "markdown",
   "id": "3fd575ee-dd14-42e6-9e71-040d56e4651d",
   "metadata": {
    "tags": []
   },
   "source": [
    "# Verbimallide kogumine koondkorpusest\n"
   ]
  },
  {
   "cell_type": "markdown",
   "id": "8b5cc122-b092-4cd0-9d49-4774c97b5589",
   "metadata": {
    "tags": []
   },
   "source": [
    "# v30\n",
    "Kollokatsiooniandmete salvestamisel tabelisse jäeti välja kollokatsioonid, milles:\n",
    "\n",
    "* verb oli umbisikuline (<code>feats</code> sisaldas parameetrit <code>imps</code>);\n",
    "* verbi aeg polnud ükski järgnevatest: <code>past</code>, <code>impf</code>, <code>pres</code> (<code>feats</code> ei sisaldanud parameetreid <code>past</code> ega <code>impf</code> ega  <code>pres</code>).\n",
    "\n",
    "### Tabelid\n",
    "\n",
    "### TABEL1 transaction_head\n",
    "\n",
    "| väli | tüüp  |  kirjeldus | näide | märkus |\n",
    "| --- | --- | --- | --- | --- |\n",
    "| id | int | rea <br/>unikaalne ID| *56* | |\n",
    "| sentence_id | int | lause id andmebaasis| | |\n",
    "| loc | int | verbi asukoht lauses | | |\n",
    "| verb | text |verbi lemma | | |\n",
    "| verb_compound | text | verbi määrsõnad| alla,peale| eraldajaks koma |\n",
    "| deprel | text | verbi deprel | | |\n",
    "| feats | text | verbi morf kategooriad alfabeetilises järjekorras | aux,ps3||\n",
    "\n",
    "\n",
    "### TABEL2 transaction\n",
    "\n",
    "| väli | tüüp  |  kirjeldus | näide | märkus |\n",
    "| --- | --- | --- | --- | --- |\n",
    "| id | int | rea <br/>unikaalne ID| *56* | |\n",
    "| head_id | int| rea transaction_head.id  | | |\n",
    "| loc | int | sõna asukoht lauses | | |\n",
    "| loc_rel | int | sõna asukoht verbi suhtes  | | |\n",
    "| deprel | text | sõna deprel | | |\n",
    "| form | text | sõna vorm  | | |\n",
    "| lemma |  text | sõna lemma | | |\n",
    "| pos | text | sõna sõnaliik | | |\n",
    "| feats | text|  sõna morf kategooriad alfabeetilises järjekorras |  add,sg| |\n",
    "\n",
    "\n",
    "\n",
    "\n"
   ]
  },
  {
   "cell_type": "code",
   "execution_count": 2,
   "id": "1c0dfd29-9627-4cc3-a8ed-677c8326f814",
   "metadata": {
    "tags": []
   },
   "outputs": [
    {
     "name": "stdout",
     "output_type": "stream",
     "text": [
      "mkdir: ./sentences: File exists\n"
     ]
    },
    {
     "name": "stdout",
     "output_type": "stream",
     "text": [
      "INFO:storage.py:57: connecting to host: 'postgres.keeleressursid.ee', port: '5432', dbname: 'estonian-text-corpora', user: 'zummy'\n",
      "INFO:storage.py:108: schema: 'estonian_text_corpora', temporary: False, role: 'estonian_text_corpora_read'\n"
     ]
    },
    {
     "name": "stderr",
     "output_type": "stream",
     "text": [
      "  0%|          | 0/159745 [00:00<?, ?doc/s]/Users/rabauti/repos/tu/estnltk/syntax_experiments/syntax_experiments__subcat/venv/lib/python3.11/site-packages/pygraphviz/agraph.py:1407: RuntimeWarning: Warning: gvrender_set_style: unsupported style none - ignoring\n",
      "\n",
      "  warnings.warn(b\"\".join(errors).decode(self.encoding), RuntimeWarning)\n",
      "collection_id: 50030:  31%|###1      | 50031/159745 [03:14<07:05, 257.85doc/s]"
     ]
    },
    {
     "name": "stdout",
     "output_type": "stream",
     "text": [
      "andmebaasi salvestatud kollokatsioonid kollektsioonidest: 0 - 49999\n"
     ]
    },
    {
     "name": "stderr",
     "output_type": "stream",
     "text": [
      "collection_id: 99950:  63%|######2   | 99951/159745 [06:06<03:39, 272.37doc/s]"
     ]
    },
    {
     "name": "stdout",
     "output_type": "stream",
     "text": [
      "andmebaasi salvestatud kollokatsioonid kollektsioonidest: 0 - 99999\n"
     ]
    },
    {
     "name": "stderr",
     "output_type": "stream",
     "text": [
      "collection_id: 150000:  94%|#########3| 150001/159745 [08:42<00:33, 287.21doc/s]"
     ]
    },
    {
     "name": "stdout",
     "output_type": "stream",
     "text": [
      "andmebaasi salvestatud kollokatsioonid kollektsioonidest: 0 - 149999\n"
     ]
    },
    {
     "name": "stderr",
     "output_type": "stream",
     "text": [
      "collection_id: 159744: 100%|##########| 159745/159745 [09:05<00:00, 292.84doc/s]\n"
     ]
    },
    {
     "name": "stdout",
     "output_type": "stream",
     "text": [
      "andmebaasi salvestatud kollokatsioonid kollektsioonidest: 0 - 159744\n",
      "done.\n",
      "CPU times: user 2min 58s, sys: 6.96 s, total: 3min 5s\n",
      "Wall time: 9min 12s\n"
     ]
    }
   ],
   "source": [
    "%%time\n",
    "%load_ext autoreload\n",
    "%autoreload 2\n",
    "\n",
    "!mkdir ./sentences\n",
    "!rm ./sentences/*\n",
    "!cp ./styles.css ./sentences\n",
    "\n",
    "from estnltk.storage.postgres import LayerQuery\n",
    "\n",
    "from datetime import datetime\n",
    "# functions for creating database and collecting collocations\n",
    "from collect_functions import *\n",
    "\n",
    "from data_helpers.db_reader import DbReader\n",
    "\n",
    "collection_name = 'koondkorpus_sentences'\n",
    "BATCH_SIZE = 50000\n",
    "\n",
    "collection_name = 'koondkorpus_sentences_test_5000_sg_thread'\n",
    "BATCH_SIZE = 50000\n",
    "\n",
    "TYPE = 'verb_pattern_obl'\n",
    "TABLENAME = f'{TYPE}'\n",
    "\n",
    "date_time = datetime.now().strftime(\"%Y%m%d-%H%M%S\")\n",
    "db_file_name = f\"v30_{collection_name}_{TYPE}_{date_time}.db\"\n",
    "my_sqlite_db = DbMethods(db_file_name=db_file_name, table1_name=TYPE, table2_name=TYPE+'_examples')\n",
    "my_sqlite_db.prep_coll_db()\n",
    "\n",
    "\n",
    "my_db_reader = DbReader(pgpass_file='~/.pgpass',\\\n",
    "                          schema='estonian_text_corpora',\\\n",
    "                          role='estonian_text_corpora_read',\\\n",
    "                          temporary=False,\\\n",
    "                          collection_name=collection_name)\n",
    "my_db_reader.set_layers(['v172_stanza_syntax'])\n",
    "\n",
    "draw_trees = 50\n",
    "display_trees = False\n",
    "data = []\n",
    "count = 0\n",
    "for collection_id, text in my_db_reader.get_collections(shuffle=False, progressbar='ascii'):\n",
    "    count += 1\n",
    "    collocations, = extract_something(text=text, collection_id=collection_id, data=data, draw_tree=(count<=draw_trees), display_trees=display_trees)\n",
    "    \n",
    "    if not count == 0 and not count % BATCH_SIZE:\n",
    "        my_sqlite_db.save_coll_to_db(data, collection_id)\n",
    "        data = []\n",
    "        \n",
    "\n",
    "# saving last batch\n",
    "my_sqlite_db.save_coll_to_db(data, collection_id)\n",
    "my_sqlite_db.index_fields()\n",
    "\n",
    "print('done.')\n"
   ]
  }
 ],
 "metadata": {
  "kernelspec": {
   "display_name": "venv",
   "language": "python",
   "name": "python3"
  },
  "language_info": {
   "codemirror_mode": {
    "name": "ipython",
    "version": 3
   },
   "file_extension": ".py",
   "mimetype": "text/x-python",
   "name": "python",
   "nbconvert_exporter": "python",
   "pygments_lexer": "ipython3",
   "version": "3.11.7"
  }
 },
 "nbformat": 4,
 "nbformat_minor": 5
}
