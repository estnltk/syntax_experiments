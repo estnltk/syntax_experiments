{
 "cells": [
  {
   "cell_type": "markdown",
   "id": "0f6b9761",
   "metadata": {},
   "source": []
  },
  {
   "cell_type": "code",
   "execution_count": 21,
   "id": "fe0c8798-1bd2-418c-83a0-974ab638d0ca",
   "metadata": {},
   "outputs": [],
   "source": [
    "#!conda activate py38_estnltk1.7\n",
    "#hpc serveris peaks sobima estnltk_collocations_py38\n",
    "#!conda install --channel conda-forge pygraphviz\n",
    "#!conda install -c conda-forge ipywidgets\n",
    "#!jupyter nbextension enable --py widgetsnbextension"
   ]
  },
  {
   "cell_type": "markdown",
   "id": "3fd575ee-dd14-42e6-9e71-040d56e4651d",
   "metadata": {
    "tags": []
   },
   "source": [
    "# Verb - pattern kogumine koondkorpusest\n"
   ]
  },
  {
   "cell_type": "markdown",
   "id": "8b5cc122-b092-4cd0-9d49-4774c97b5589",
   "metadata": {
    "tags": []
   },
   "source": [
    "# v30\n",
    "Kollokatsiooniandmete salvestamisel tabelisse jäeti välja kollokatsioonid, milles:\n",
    "\n",
    "* verb oli umbisikuline (<code>feats</code> sisaldas parameetrit <code>imps</code>);\n",
    "* verbi aeg polnud ükski järgnevatest: <code>past</code>, <code>impf</code>, <code>pres</code> (<code>feats</code> ei sisaldanud parameetreid <code>past</code> ega <code>impf</code> ega  <code>pres</code>).\n",
    "\n",
    "### Tabelid\n",
    "\n",
    "### TABEL1 transaction_head\n",
    "\n",
    "| väli | tüüp  |  kirjeldus | näide | märkus |\n",
    "| --- | --- | --- | --- | --- |\n",
    "| id | int | rea <br/>unikaalne ID| *56* | |\n",
    "| sentence_id | int | lause id andmebaasis| | |\n",
    "| loc | int | verbi asukoht lauses | | |\n",
    "| verb | text |verbi lemma | | |\n",
    "| verb_compound | text | verbi määrsõnad| alla,peale| eraldajaks koma |\n",
    "| feats | text | verbi morf kategooriad alfabeetilises järjekorras | aux,ps3||\n",
    "\n",
    "\n",
    "### TABEL2 transaction\n",
    "\n",
    "| väli | tüüp  |  kirjeldus | näide | märkus |\n",
    "| --- | --- | --- | --- | --- |\n",
    "| id | int | rea <br/>unikaalne ID| *56* | |\n",
    "| head_id | int| rea transaction_head.id  | | |\n",
    "| loc | int | sõna asukoht lauses | | |\n",
    "| loc_rel | int | sõna asukoht lauses verbi suhtes | | |\n",
    "| deprel | text | sõna deprel | | |\n",
    "| form | text | sõna vorm  | | |\n",
    "| lemma |  text | sõna lemma | | |\n",
    "| pos | text | sõna sõnaliik | | |\n",
    "| feats | text|  sõna morf kategooriad alfabeetilises järjekorras |  add,sg| |\n",
    "\n",
    "\n",
    "\n",
    "\n"
   ]
  },
  {
   "cell_type": "code",
   "execution_count": 22,
   "id": "1c0dfd29-9627-4cc3-a8ed-677c8326f814",
   "metadata": {
    "tags": []
   },
   "outputs": [
    {
     "name": "stdout",
     "output_type": "stream",
     "text": [
      "The autoreload extension is already loaded. To reload it, use:\n",
      "  %reload_ext autoreload\n",
      "zsh:1: no matches found: ./sentences/*\n",
      "INFO:storage.py:57: connecting to host: 'postgres.keeleressursid.ee', port: '5432', dbname: 'estonian-text-corpora', user: 'zummy'\n",
      "INFO:storage.py:108: schema: 'estonian_text_corpora', temporary: False, role: 'estonian_text_corpora_read'\n"
     ]
    },
    {
     "name": "stderr",
     "output_type": "stream",
     "text": [
      "  0%|          | 0/159745 [00:00<?, ?doc/s]/Users/rabauti/repos/tu/estnltk/syntax_experiments/syntax_experiments__subcat/venv/lib/python3.11/site-packages/pygraphviz/agraph.py:1407: RuntimeWarning: Warning: gvrender_set_style: unsupported style none - ignoring\n",
      "\n",
      "  warnings.warn(b\"\".join(errors).decode(self.encoding), RuntimeWarning)\n",
      "collection_id: 1:   0%|          | 1/159745 [00:00<17:52:50,  2.48doc/s]\n"
     ]
    },
    {
     "ename": "FileNotFoundError",
     "evalue": "[Errno 2] No such file or directory: 'sentences/1.png'",
     "output_type": "error",
     "traceback": [
      "\u001b[0;31m---------------------------------------------------------------------------\u001b[0m",
      "\u001b[0;31mFileNotFoundError\u001b[0m                         Traceback (most recent call last)",
      "File \u001b[0;32m<timed exec>:42\u001b[0m\n",
      "File \u001b[0;32m~/repos/tu/estnltk/syntax_experiments/syntax_experiments__subcat/v30_verb_transactions/collect_functions.py:244\u001b[0m, in \u001b[0;36mextract_something\u001b[0;34m(text, collection_id, data, draw_tree, display_trees)\u001b[0m\n\u001b[1;32m    241\u001b[0m     draw \u001b[38;5;241m=\u001b[39m \u001b[38;5;28;01mTrue\u001b[39;00m\n\u001b[1;32m    243\u001b[0m \u001b[38;5;28;01mif\u001b[39;00m draw_tree \u001b[38;5;129;01mand\u001b[39;00m draw \u001b[38;5;129;01mand\u001b[39;00m display_trees:\n\u001b[0;32m--> 244\u001b[0m     \u001b[43mgraph\u001b[49m\u001b[38;5;241;43m.\u001b[39;49m\u001b[43mdraw_graph2\u001b[49m\u001b[43m(\u001b[49m\u001b[43mfilename\u001b[49m\u001b[38;5;241;43m=\u001b[39;49m\u001b[38;5;124;43mf\u001b[39;49m\u001b[38;5;124;43m\"\u001b[39;49m\u001b[38;5;124;43msentences/\u001b[39;49m\u001b[38;5;132;43;01m{\u001b[39;49;00m\u001b[43mcollection_id\u001b[49m\u001b[38;5;132;43;01m}\u001b[39;49;00m\u001b[38;5;124;43m.png\u001b[39;49m\u001b[38;5;124;43m\"\u001b[39;49m\u001b[43m)\u001b[49m\n\u001b[1;32m    245\u001b[0m     \u001b[38;5;28mopen\u001b[39m(\u001b[38;5;124mf\u001b[39m\u001b[38;5;124m\"\u001b[39m\u001b[38;5;124msentences/\u001b[39m\u001b[38;5;132;01m{\u001b[39;00mcollection_id\u001b[38;5;132;01m}\u001b[39;00m\u001b[38;5;124m.txt\u001b[39m\u001b[38;5;124m\"\u001b[39m, \u001b[38;5;124m\"\u001b[39m\u001b[38;5;124mw\u001b[39m\u001b[38;5;124m\"\u001b[39m)\u001b[38;5;241m.\u001b[39mwrite(text\u001b[38;5;241m.\u001b[39mtext)\n\u001b[1;32m    246\u001b[0m     \u001b[38;5;28mopen\u001b[39m(\u001b[38;5;124mf\u001b[39m\u001b[38;5;124m\"\u001b[39m\u001b[38;5;124msentences/\u001b[39m\u001b[38;5;132;01m{\u001b[39;00mcollection_id\u001b[38;5;132;01m}\u001b[39;00m\u001b[38;5;124m.html\u001b[39m\u001b[38;5;124m\"\u001b[39m, \u001b[38;5;124m\"\u001b[39m\u001b[38;5;124mw\u001b[39m\u001b[38;5;124m\"\u001b[39m)\u001b[38;5;241m.\u001b[39mwrite(\n\u001b[1;32m    247\u001b[0m         \u001b[38;5;124m\"\u001b[39m\u001b[38;5;124m<html><head></head><body>\u001b[39m\u001b[38;5;132;01m%s\u001b[39;00m\u001b[38;5;124m</body></html>\u001b[39m\u001b[38;5;124m\"\u001b[39m\n\u001b[1;32m    248\u001b[0m         \u001b[38;5;241m%\u001b[39m text[\u001b[38;5;124m\"\u001b[39m\u001b[38;5;124mv172_stanza_syntax\u001b[39m\u001b[38;5;124m\"\u001b[39m]\u001b[38;5;241m.\u001b[39m_repr_html_()\n\u001b[1;32m    249\u001b[0m     )\n",
      "File \u001b[0;32m~/repos/tu/estnltk/syntax_experiments/syntax_experiments__subcat/v30_verb_transactions/data_helpers/syntax_graph.py:169\u001b[0m, in \u001b[0;36mSyntaxGraph.draw_graph2\u001b[0;34m(self, display, filename, highlight)\u001b[0m\n\u001b[1;32m    166\u001b[0m     filename \u001b[38;5;241m=\u001b[39m \u001b[38;5;124m\"\u001b[39m\u001b[38;5;124mgraph.png\u001b[39m\u001b[38;5;124m\"\u001b[39m\n\u001b[1;32m    168\u001b[0m \u001b[38;5;66;03m# Draw graph to the specified file\u001b[39;00m\n\u001b[0;32m--> 169\u001b[0m \u001b[43mG\u001b[49m\u001b[38;5;241;43m.\u001b[39;49m\u001b[43mdraw\u001b[49m\u001b[43m(\u001b[49m\u001b[43mfilename\u001b[49m\u001b[43m)\u001b[49m\n\u001b[1;32m    170\u001b[0m \u001b[38;5;28mprint\u001b[39m(\u001b[38;5;124mf\u001b[39m\u001b[38;5;124m\"\u001b[39m\u001b[38;5;124mGraph image \u001b[39m\u001b[38;5;124m'\u001b[39m\u001b[38;5;132;01m{\u001b[39;00mfilename\u001b[38;5;132;01m}\u001b[39;00m\u001b[38;5;124m'\u001b[39m\u001b[38;5;124m has been generated.\u001b[39m\u001b[38;5;124m\"\u001b[39m)\n\u001b[1;32m    172\u001b[0m \u001b[38;5;28;01mif\u001b[39;00m display:\n\u001b[1;32m    173\u001b[0m     \u001b[38;5;66;03m# Display the graph image if we're in a Jupyter notebook environment\u001b[39;00m\n",
      "File \u001b[0;32m~/repos/tu/estnltk/syntax_experiments/syntax_experiments__subcat/venv/lib/python3.11/site-packages/pygraphviz/agraph.py:1616\u001b[0m, in \u001b[0;36mAGraph.draw\u001b[0;34m(self, path, format, prog, args)\u001b[0m\n\u001b[1;32m   1613\u001b[0m data \u001b[38;5;241m=\u001b[39m \u001b[38;5;28mself\u001b[39m\u001b[38;5;241m.\u001b[39m_run_prog(prog, args)\n\u001b[1;32m   1615\u001b[0m \u001b[38;5;28;01mif\u001b[39;00m path \u001b[38;5;129;01mis\u001b[39;00m \u001b[38;5;129;01mnot\u001b[39;00m \u001b[38;5;28;01mNone\u001b[39;00m:\n\u001b[0;32m-> 1616\u001b[0m     fh \u001b[38;5;241m=\u001b[39m \u001b[38;5;28;43mself\u001b[39;49m\u001b[38;5;241;43m.\u001b[39;49m\u001b[43m_get_fh\u001b[49m\u001b[43m(\u001b[49m\u001b[43mpath\u001b[49m\u001b[43m,\u001b[49m\u001b[43m \u001b[49m\u001b[38;5;124;43m\"\u001b[39;49m\u001b[38;5;124;43mw+b\u001b[39;49m\u001b[38;5;124;43m\"\u001b[39;49m\u001b[43m)\u001b[49m\n\u001b[1;32m   1617\u001b[0m     fh\u001b[38;5;241m.\u001b[39mwrite(data)\n\u001b[1;32m   1618\u001b[0m     \u001b[38;5;28;01mif\u001b[39;00m \u001b[38;5;28misinstance\u001b[39m(path, \u001b[38;5;28mstr\u001b[39m):\n",
      "File \u001b[0;32m~/repos/tu/estnltk/syntax_experiments/syntax_experiments__subcat/venv/lib/python3.11/site-packages/pygraphviz/agraph.py:1793\u001b[0m, in \u001b[0;36mAGraph._get_fh\u001b[0;34m(self, path, mode)\u001b[0m\n\u001b[1;32m   1791\u001b[0m         fh \u001b[38;5;241m=\u001b[39m os\u001b[38;5;241m.\u001b[39mpopen(\u001b[38;5;124m\"\u001b[39m\u001b[38;5;124mbzcat \u001b[39m\u001b[38;5;124m\"\u001b[39m \u001b[38;5;241m+\u001b[39m path)  \u001b[38;5;66;03m# probably not portable\u001b[39;00m\n\u001b[1;32m   1792\u001b[0m     \u001b[38;5;28;01melse\u001b[39;00m:\n\u001b[0;32m-> 1793\u001b[0m         fh \u001b[38;5;241m=\u001b[39m \u001b[38;5;28mopen\u001b[39m(path, mode\u001b[38;5;241m=\u001b[39mmode)\n\u001b[1;32m   1794\u001b[0m \u001b[38;5;28;01melif\u001b[39;00m \u001b[38;5;28mhasattr\u001b[39m(path, \u001b[38;5;124m\"\u001b[39m\u001b[38;5;124mwrite\u001b[39m\u001b[38;5;124m\"\u001b[39m):\n\u001b[1;32m   1795\u001b[0m     \u001b[38;5;66;03m# Note, mode of file handle is unchanged.\u001b[39;00m\n\u001b[1;32m   1796\u001b[0m     fh \u001b[38;5;241m=\u001b[39m path\n",
      "\u001b[0;31mFileNotFoundError\u001b[0m: [Errno 2] No such file or directory: 'sentences/1.png'"
     ]
    }
   ],
   "source": [
    "%%time\n",
    "%load_ext autoreload\n",
    "%autoreload 2\n",
    "\n",
    "!mkdir ./sentences/*\n",
    "!rm ./sentences/*\n",
    "\n",
    "from estnltk.storage.postgres import LayerQuery\n",
    "\n",
    "from datetime import datetime\n",
    "# functions for creating database and collecting collocations\n",
    "from collect_functions import *\n",
    "\n",
    "from data_helpers.db_reader import DbReader\n",
    "\n",
    "collection_name = 'koondkorpus_sentences'\n",
    "BATCH_SIZE = 50000\n",
    "\n",
    "collection_name = 'koondkorpus_sentences_test_5000_sg_thread'\n",
    "BATCH_SIZE = 50000\n",
    "\n",
    "TYPE = 'verb_pattern_obl'\n",
    "TABLENAME = f'{TYPE}'\n",
    "\n",
    "date_time = datetime.now().strftime(\"%Y%m%d-%H%M%S\")\n",
    "db_file_name = f\"v30_{collection_name}_{TYPE}_{date_time}.db\"\n",
    "my_sqlite_db = DbMethods(db_file_name=db_file_name, table1_name=TYPE, table2_name=TYPE+'_examples')\n",
    "my_sqlite_db.prep_coll_db()\n",
    "\n",
    "\n",
    "my_db_reader = DbReader(pgpass_file='~/.pgpass',\\\n",
    "                          schema='estonian_text_corpora',\\\n",
    "                          role='estonian_text_corpora_read',\\\n",
    "                          temporary=False,\\\n",
    "                          collection_name=collection_name)\n",
    "my_db_reader.set_layers(['v172_stanza_syntax'])\n",
    "\n",
    "draw_trees = 50\n",
    "display_trees = True\n",
    "data = []\n",
    "count = 0\n",
    "for collection_id, text in my_db_reader.get_collections(shuffle=False, progressbar='ascii'):\n",
    "    count += 1\n",
    "    collocations, = extract_something(text=text, collection_id=collection_id, data=data, draw_tree=(count<=draw_trees), display_trees=display_trees)\n",
    "    \n",
    "    if not count == 0 and not count % BATCH_SIZE:\n",
    "        my_sqlite_db.save_coll_to_db(data, collection_id)\n",
    "        data = []\n",
    "        \n",
    "\n",
    "# saving last batch\n",
    "my_sqlite_db.save_coll_to_db(data, collection_id)\n",
    "my_sqlite_db.index_fields()\n",
    "\n",
    "print('done.')\n"
   ]
  },
  {
   "cell_type": "code",
   "execution_count": null,
   "id": "651b642a",
   "metadata": {},
   "outputs": [],
   "source": []
  }
 ],
 "metadata": {
  "kernelspec": {
   "display_name": "venv",
   "language": "python",
   "name": "python3"
  },
  "language_info": {
   "codemirror_mode": {
    "name": "ipython",
    "version": 3
   },
   "file_extension": ".py",
   "mimetype": "text/x-python",
   "name": "python",
   "nbconvert_exporter": "python",
   "pygments_lexer": "ipython3",
   "version": "3.11.7"
  }
 },
 "nbformat": 4,
 "nbformat_minor": 5
}
