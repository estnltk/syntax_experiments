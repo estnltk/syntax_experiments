{
 "cells": [
  {
   "cell_type": "code",
   "execution_count": 20,
   "id": "4bf513cb",
   "metadata": {},
   "outputs": [],
   "source": [
    "from estnltk.corpus_processing.parse_koondkorpus import get_div_target\n",
    "from estnltk.corpus_processing.parse_koondkorpus import parse_tei_corpus\n",
    "\n",
    "from estnltk import Text\n",
    "\n",
    "from estnltk_neural.taggers import StanzaSyntaxTagger\n",
    "\n",
    "from estnltk.taggers import NerTagger\n",
    "\n",
    "import json\n",
    "from estnltk.converters import text_to_json"
   ]
  },
  {
   "cell_type": "markdown",
   "id": "e9a19ca2",
   "metadata": {},
   "source": [
    "### Teksti lugemine ja parsimine"
   ]
  },
  {
   "cell_type": "code",
   "execution_count": 2,
   "id": "0c3ecb02",
   "metadata": {},
   "outputs": [],
   "source": [
    "# sisendfail\n",
    "input_xml_file = \"C:\\\\Users\\\\liivas\\\\Documents\\\\Töö\\\\Postimees\\\\Postimees\\\\PM\\\\postimees_1995\\\\aja_pm_1995_12_07.xml\""
   ]
  },
  {
   "cell_type": "code",
   "execution_count": 3,
   "id": "f26ee95a",
   "metadata": {},
   "outputs": [],
   "source": [
    "target = get_div_target( input_xml_file )"
   ]
  },
  {
   "cell_type": "code",
   "execution_count": 4,
   "id": "2de02521",
   "metadata": {},
   "outputs": [
    {
     "data": {
      "text/plain": [
       "'artikkel'"
      ]
     },
     "execution_count": 4,
     "metadata": {},
     "output_type": "execute_result"
    }
   ],
   "source": [
    "target"
   ]
  },
  {
   "cell_type": "code",
   "execution_count": 5,
   "id": "3d45a1b1",
   "metadata": {},
   "outputs": [],
   "source": [
    "texts = []"
   ]
  },
  {
   "cell_type": "code",
   "execution_count": 6,
   "id": "b22e6cff",
   "metadata": {},
   "outputs": [],
   "source": [
    "# import documents as Text objects   \n",
    "for text_obj in parse_tei_corpus( input_xml_file, target=[target] ):\n",
    "    texts.append(text_obj)"
   ]
  },
  {
   "cell_type": "code",
   "execution_count": 7,
   "id": "eaf1be8e",
   "metadata": {},
   "outputs": [
    {
     "data": {
      "text/plain": [
       "39"
      ]
     },
     "execution_count": 7,
     "metadata": {},
     "output_type": "execute_result"
    }
   ],
   "source": [
    "len(texts)"
   ]
  },
  {
   "cell_type": "code",
   "execution_count": 8,
   "id": "93bef882",
   "metadata": {},
   "outputs": [],
   "source": [
    "# Alustuseks võetakse failist pikim tekst\n",
    "test_text = texts[0]\n",
    "\n",
    "for i in range(1, len(texts)):\n",
    "    if len(texts[i].text) > len(test_text.text):\n",
    "        test_text = texts[i]"
   ]
  },
  {
   "cell_type": "code",
   "execution_count": 9,
   "id": "da3d41b2",
   "metadata": {},
   "outputs": [
    {
     "data": {
      "text/plain": [
       "13866"
      ]
     },
     "execution_count": 9,
     "metadata": {},
     "output_type": "execute_result"
    }
   ],
   "source": [
    "len(test_text.text)"
   ]
  },
  {
   "cell_type": "code",
   "execution_count": 10,
   "id": "c6ad038a",
   "metadata": {},
   "outputs": [
    {
     "data": {
      "text/html": [
       "<table border=\"1\" class=\"dataframe\">\n",
       "  <thead>\n",
       "    <tr style=\"text-align: right;\">\n",
       "      <th>text</th>\n",
       "    </tr>\n",
       "  </thead>\n",
       "  <tbody>\n",
       "    <tr>\n",
       "      <td><div align = \"left\">RAIVO PALMARU , “ Sõnumileht ”</br></br>Rublatehing oli seotud kütuse salakaubandusega .</br>Sellisele järeldusele jõudsid naftaäri kriminaalasja uurimise käigus Läti juurdlusorganid .</br>Rootsis registreeritud firma sildi all tegutsenud grupp tellis Eestis rahareformi ajal kokku korjatud rublade veoks lennukid ja vähemalt 500 miljoni rubla müügi korraldas selle grupiga seotud Eesti ärimees .</br>Saadud raha on varjul Küprose pangas .</br></br>Pank lõhkise küna ees</br></br>Eesti Panga ( EP ) andmetel vahetati rahareformi käigus kroonide vastu  2 259 669 091  rubla .</br>Lisaks sellele oli panga varahoidlates veel  4 396 739  rubla .</br></br>Rahareformi esimesel päeval , 20. juunil 1992 , sõlmisid Eesti Vabariigi valitsus ja Vene Föderatsiooni valitsus omavahelise kokkuleppe vastastikustest kohustustest seoses Eesti Vabariigi rahvusliku valuuta käibelevõtmisega .</br>Sellele kirjutasid alla Eesti peaminister Tiit Vähi ja Vene valitsuse aseesimees Aleksandr Sohhin .</br></br>Kokkuleppe 5. artikkel nägi ette , et Eesti pool annab kõik rahavahetuse käigus kokku kogutud rublad kuu aja jooksul üle Venemaa keskpangale .</br>Täpsustamata jäid aga raha üleandmise tingimused .</br></br>See kokkulepe jäi täitmata nii Venemaa kui ka Eesti poolt .</br>Nõnda jäi umbes 70 tonni rublasid Eesti Panga varahoidlasse .</br>Kokkuleppele viidates nõudsid venelased raha tagasi , samas aga teatasid , et nad ei kanna vastutust Eesti Hoiupanga ( NSVLi Hoiupanga EVP ) hoiustajate ees .</br>Ka nende hoiuste kogusumma moodustas umbes kaks miljardit rubla ning EP oli sunnitud võtma vastavad garantiikohustused endale .</br></br>Bo Kragh soovitas rublad müüa</br></br>Esimest korda arutas Eesti Panga nõukogu kujunenud olukorda 7. oktoobril 1992.</br>Vastavad kirjalikud ettepanekud esitas panga tollane asepresident Bo Kragh .</br>Ta leidis , et EP garantiikohustuste ulatuses tuleks teha tasaarvestus .</br>Ühtlasi soovitas Kragh rublad müüa Eesti valuutaoksjonitel , anda Eesti Kütusele rublakrediiti naftatoodete ostmiseks või anda osa rublasid remigratsioonifondile .</br></br>EP nõukogu aktsepteeris asepresidendi soovitusi ja tegi panga presidendile Siim Kallasele ülesandeks pidada rublade saatuse küsimuses nõu presidendi , Riigikogu esimehe , peaministri ja välisministriga .</br></br>1992. aasta 28. oktoobril arutas Eesti Panga nõukogu asja veel kord ja otsustas , et kui läbirääkimised Moskvas külmutatud Eesti Vabariigi aktivate tagasisaamise üle ei anna 15. novembriks tulemusi , volitab panga nõukogu Siim Kallast teatama valitsusele panga valmisolekust kuulutada välja tasaarvestus .</br></br>Oma teeneid pakkusid Silvesja Apananski</br></br>Pärast seda nähti Siim Kallast sageli Toompeal .</br>4. detsembril 1992 andis rahareformikomitee välja dekreedi nr. 40.</br>Selles otsustati vabastada Eesti Panga ja kommertspankade hoidlad sularaharubladest , realiseerida rublad ja säilitada nende realiseerimisel konfidentsiaalsus .</br>Dekreedile kirjutas alla peaminister Mart Laar .</br></br>Samal päeval kirjutasid peaminister ja Eesti Panga president alla protokollile , milles märgitakse : “ Eesti Pank ja Eesti Vabariigi valitsus leppisid kokku , et seoses ruumipuudusega Eesti Panga varahoidlates antakse rahareformi käigus elanikelt ja firmadelt kokku kogutud sularaharublad vastutavale hoiule Eesti Vabariigi valitsuse varahoidlatesse . ”</br></br>Teatavasti ei ole valitsusel mingeid varahoidlaid .</br></br>Pärast seda asus rublamüüki korraldama peaministri nõunik Tiit Pruuli .</br>Tõsi , mõningaid samme oli astutud juba enne 4. detsembri dekreeti .</br>24. novembril käis peaministri jutul tuntud ärinaine Tiiu Silves , kellega räägiti rublade müügist ja lepiti kokku , et vajaduse korral võtab Silvesega ühendust Pruuli .</br></br>Teist korda kohtus Pruuli Silvesega 7. detsembril 1992.</br>Kuid peaministri nõunikule Silves ei meeldinud ja ta väljendas seda ka valitsuse istungil .</br></br>Enam-vähem samal ajal pakkus ennast vahendajaks Leonid Apananski .</br>Ent temale vastati tollase standardfraasiga : rublad on alles ja vastavalt lepingule antakse need üle Vene poolele .</br></br>Panus maagidele</br></br>Seejärel asus Tiit Pruuli läbi rääkima Soomes registreeritud Maag OY omanike Marek Strandbergi ja Agu Kivimäega .</br></br>Rublatehingu korraldamiseks oli Pruuli saanud peaministrilt kaks lähteülesannet : tagatud peab olema täielik konfidentsiaalsus ja edu .</br>Viimane tähendanud Pruuli sõnul seda , et raha ei konfiskeeritaks , et operatsioon ei tuleks avalikuks ja et riik saaks võimalikult suure rahasumma .</br></br>Mingit kirjalikku kokkulepet Pruuli ja Maag OY omanikud ei sõlminud .</br>Seni ainsad teadaolevad paberid rublade üleandmise kohta on kolm Pruuli ja Strandbergi poolt alla kirjutatud akti .</br>Maagide sõnul olnud tehingu üks tingimus , et sellest ei jääks väljapoole riigiasutusi ühtegi dokumenti .</br></br>Varahoidlast otse lennuväljale</br></br>Sularaharublasid anti vahendajatele üle neljal korral .</br>1992. aasta 22. detsembri käskkirjaga nr. 17-02/020 andis EP president Siim Kallas emissiooniosakonnale korralduse väljastada valitsuse varahoidla vastutavale hoiule 500 miljonit rubla .</br></br>Järgmisel päeval kirjutasid Pruuli ning panga varahoidla juhataja Heintalu , peakassapidaja Rogulin ja varahoidla raamatupidaja Mertvetsova alla rublade vastutavale hoiule andmise-võtmise aktile , millega valitsuse varahoidlasse anti 500 miljonit rubla .</br></br>Samal päeval kirjutasid Pruuli ja Strandberg alla aktile rahareformi käigus kogutud sularaharublade realiseerimise kohta .</br>Selles märgitakse , et Pruuli annab 500 miljonit rubla üle Maag OY esindajale Marek Strandbergile , kes “ tagab nimetatud koguse rublade vahetamise vabalt konverteeritavaks valuutaks Eesti Vabariigi kontode kasuks esimesel nõudmisel ” .</br></br>Pärast seda transporditi rublad Eesti Panga autodega Tallinna lennuväljale .</br>Operatsiooni juhatas EP turvateenistuse ülem Marko Tibar .</br></br>Kokkuleppe kohaselt ootas Pruuli Tibarit lennuvälja väravas .</br>Üheskoos sõideti lennuväljale , kus autosid ootas Läti lennukompanii lennuk AN 26 , mis lendas marsruudil Riia-Tallin-Minsk .</br>Lennuk maandus Tallinnas 23. detsembril kell 14.10.</br>Umbes tunni jooksul laadisid Eesti Panga relvastatud töötajad pappkastidesse pakitud rublad lennukisse ja see startis kell 16.00 teadmata suunas .</br></br>Sama skeemi järgi arenesid sündmused ka järgmisel korral .</br>13. jaanuaril 1993 andis Siim Kallas välja käskkirja nr. 17-02/2 neljasaja miljoni rubla üleandmise kohta valitsuse varahoidlasse .</br>14. jaanuaril kirjutasid Pruuli , Heintalu , Rogulin ja Mertvetsova alla rublade vastutavale hoiule andmise aktile ning Pruuli ja Strandberg rublade realiseerimise aktile .</br></br>Taas viisid panga autod Tibari juhtimisel rublad Tallinna lennuväljale , kus neid ootas Läti lennukompanii AN 26.</br>Seekord lendas lennuk marsruudil Rotterdam-Tallinn-Riia , maandus Tallinnas kell 19.21 ja tõusis õhku 21.30.</br></br>Tolliameti teatel ei ole neil andmeid sularaharublade väljaviimise kohta 23. detsembril 1992 ega ka 14. jaanuaril 1993.</br></br>Eesti riigijuhid krediteerisid Balti naftamaffiat ?</br></br>Lätis on algatatud kriminaalasi , mille käigus TESS AB nime all tegutsevat Rustem Kadõrovi grupeeringut süüdistatakse nafta salakaubaveos Venemaalt Lätisse ja sealt edasi Lääne-Euroopasse .</br></br>Firma on registreeritud Rootsis Helsingboris .</br>Tema tütarfirmad tegutsevad Lätis ( TESS Petroleum ) ja Eestis ( TESS Finantside AS ) , mis 1993. aastal reorganiseeriti FTB Trust Eesti ASiks .</br>Viimase juhatuse esimees on endine piirivalveohvitser Aleksander Rubis .</br></br>Nafta salakaubaveo skeem oli lihtne .</br>Kõigepealt sõlmiti Venemaal lepingud nafta tarnimiseks Kaliningradi firmale Eskado Luks .</br>Seejuures maksti raha ette .</br>Läti uurimisorganite andmetel oli Kadõrov leppinud Rubisega kokku , et ülekanne Venemaale tehakse Eestis asuvast NoWe pangast .</br></br>Pärast seda , kui nafta eest oli makstud , pidid naftatsisternid minema Venemaalt Läti kaudu transiidina Kaliningradi .</br>Ent niipea , kui vagunid Lätisse jõudsid , loovutas Eskado Luks nafta ostu-müügi õiguse kas TESS Petroleumile , TESS ABle või mõnele fiktiivsele firmale .</br>Seejuures võltsiti dokumente .</br>Ühtlasi löödi paberitele tempel , et tollikontroll on läbitud ja vajalikud maksud makstud .</br>Pärast seda müüdi nafta kas Lätis või toimetati edasi Läände .</br>Saadud r</br></br>&lt;skipping 4866 characters&gt;</br></br>vahe on 696060 dollarit , mis annab vahendustasuks 26,9 protsenti .</br></br>Asjad ei ole kaugeltki klaarid</br></br>1992. aasta 4. detsembri dekreedist alates on rublamüügi korraldajad luisanud nii iseendale kui teistele .</br>Juba rublade näiline üleandmine riigi olematutesse varahoidlatesse näitas , et valmistutakse mahhinatsiooniks .</br>Seejuures püüti päästa ka Eesti Panga mainet rahvusvaheliste rahandusorganisatsioonide silmis .</br>Pärast seda aeti asju koguni allilmaga .</br></br>Küllap loodeti seejuures , et hilisemat uurimist suudetakse kas vältida või tupikusse juhtida .</br>Mõneti on see ka õnnestunud .</br>Riigikontroll sai kontrollida ainult riigiasutusi .</br>Pärast seda andis ta uurimise üle politseile , kus kriminaalasi taheti üldse lõpetada .</br>Seejärel tegi tollane siseminister Kaido Kama kaitsepolitseile ülesandeks selgitada välja rublamüügi asjaolud .</br>Kuid uurimine on taas kolmveerand aastat seisnud .</br></br>Samal ajal jõudsid lätlased Balti naftamaffia jälile ja sealtkaudu on selgunud üht-teist ka rublatehingu kohta .</div></td>\n",
       "    </tr>\n",
       "  </tbody>\n",
       "</table>\n",
       "<h4>Metadata</h4>\n",
       "<table border=\"1\" class=\"dataframe\">\n",
       "  <tbody>\n",
       "    <tr>\n",
       "      <td>ajalehenumber</td>\n",
       "      <td>Postimees 1995.12.07</td>\n",
       "    </tr>\n",
       "    <tr>\n",
       "      <td>alamrubriik</td>\n",
       "      <td></td>\n",
       "    </tr>\n",
       "    <tr>\n",
       "      <td>alaosa</td>\n",
       "      <td>Põhileht</td>\n",
       "    </tr>\n",
       "    <tr>\n",
       "      <td>author</td>\n",
       "      <td>RAIVO PALMARU , “ Sõnumileht ”</td>\n",
       "    </tr>\n",
       "    <tr>\n",
       "      <td>rubriik</td>\n",
       "      <td>Krimi uudised</td>\n",
       "    </tr>\n",
       "    <tr>\n",
       "      <td>title</td>\n",
       "      <td>Rublamüügiga võib olla seotud Balti naftamaffia</td>\n",
       "    </tr>\n",
       "    <tr>\n",
       "      <td>type</td>\n",
       "      <td>artikkel</td>\n",
       "    </tr>\n",
       "  </tbody>\n",
       "</table>\n",
       "<table border=\"1\" class=\"dataframe\">\n",
       "  <thead>\n",
       "    <tr style=\"text-align: right;\">\n",
       "      <th>layer name</th>\n",
       "      <th>attributes</th>\n",
       "      <th>parent</th>\n",
       "      <th>enveloping</th>\n",
       "      <th>ambiguous</th>\n",
       "      <th>span count</th>\n",
       "    </tr>\n",
       "  </thead>\n",
       "  <tbody>\n",
       "    <tr>\n",
       "      <td>sentences</td>\n",
       "      <td></td>\n",
       "      <td>None</td>\n",
       "      <td>words</td>\n",
       "      <td>False</td>\n",
       "      <td>138</td>\n",
       "    </tr>\n",
       "    <tr>\n",
       "      <td>tokens</td>\n",
       "      <td></td>\n",
       "      <td>None</td>\n",
       "      <td>None</td>\n",
       "      <td>False</td>\n",
       "      <td>2099</td>\n",
       "    </tr>\n",
       "    <tr>\n",
       "      <td>compound_tokens</td>\n",
       "      <td>type, normalized</td>\n",
       "      <td>None</td>\n",
       "      <td>tokens</td>\n",
       "      <td>False</td>\n",
       "      <td>61</td>\n",
       "    </tr>\n",
       "    <tr>\n",
       "      <td>words</td>\n",
       "      <td>normalized_form</td>\n",
       "      <td>None</td>\n",
       "      <td>None</td>\n",
       "      <td>True</td>\n",
       "      <td>2012</td>\n",
       "    </tr>\n",
       "    <tr>\n",
       "      <td>morph_analysis</td>\n",
       "      <td>normalized_text, lemma, root, root_tokens, ending, clitic, form, partofspeech</td>\n",
       "      <td>words</td>\n",
       "      <td>None</td>\n",
       "      <td>True</td>\n",
       "      <td>2012</td>\n",
       "    </tr>\n",
       "  </tbody>\n",
       "</table>"
      ],
      "text/plain": [
       "Text(text='RAIVO PALMARU , “ Sõnumileht ”\\n\\nRublatehing oli seotud kütuse salakaubandusega .\\nSellisele järeldusele jõudsid naftaäri kriminaalasja uurimise käigus Läti juurdlusorganid .\\nRootsis registreeritud firma sildi all tegutsenud grupp tellis Eestis rahareformi ajal kokku korjatud rublade veoks lennukid ja vähemalt 500 miljoni rubla müügi korraldas selle grupiga seotud Eesti ärimees .\\nSaadud raha on varjul Küprose pangas .\\n\\nPank lõhkise küna ees\\n\\nEesti Panga ( EP ) andmetel vahetati rahareformi käigus kroonide vastu  2 259 669 091  rubla .\\nLisaks sellele oli panga varahoidlates veel  4 396 739  rubla .\\n\\nRahareformi esimesel päeval , 20. juunil 1992 , sõlmisid Eesti Vabariigi valitsus ja Vene Föderatsiooni valitsus omavahelise kokkuleppe vastastikustest kohustustest seoses Eesti Vabariigi rahvusliku valuuta käibelevõtmisega .\\nSellele kirjutasid alla Eesti peaminister Tiit Vähi ja Vene valitsuse aseesimees Aleksandr Sohhin .\\n\\nKokkuleppe 5. artikkel nägi ette , et Eesti pool annab kõik rahavahetuse käigus kokku kogutud rublad kuu aja jooksul üle Venemaa keskpangale .\\nTäpsustamata jäid aga raha üleandmise tingimused .\\n\\nSee kokkulepe jäi täitmata nii Venemaa kui ka Eesti poolt .\\nNõnda jäi umbes 70 tonni rublasid Eesti Panga varahoidlasse .\\nKokkuleppele viidates nõudsid venelased raha tagasi , samas aga teatasid , et nad ei kanna vastutust Eesti Hoiupanga ( NSVLi Hoiupanga EVP ) hoiustajate ees .\\nKa nende hoiuste kogusumma moodustas umbes kaks miljardit rubla ning EP oli sunnitud võtma vastavad garantiikohustused endale .\\n\\nBo Kragh soovitas rublad müüa\\n\\nEsimest korda arutas Eesti Panga nõukogu kujunenud olukorda 7. oktoobril 1992.\\nVastavad kirjalikud ettepanekud esitas panga tollane asepresident Bo Kragh .\\nTa leidis , et EP garantiikohustuste ulatuses tuleks teha tasaarvestus .\\nÜhtlasi soovitas Kragh rublad müüa Eesti valuutaoksjonitel , anda Eesti Kütusele rublakrediiti naftatoodete ostmiseks või anda osa rublasid remigratsioonifondile .\\n\\nEP nõukogu aktsepteeris asepresidendi soovitusi ja tegi panga presidendile Siim Kallasele ülesandeks pidada rublade saatuse küsimuses nõu presidendi , Riigikogu esimehe , peaministri ja välisministriga .\\n\\n1992. aasta 28. oktoobril arutas Eesti Panga nõukogu asja veel kord ja otsustas , et kui läbirääkimised Moskvas külmutatud Eesti Vabariigi aktivate tagasisaamise üle ei anna 15. novembriks tulemusi , volitab panga nõukogu Siim Kallast teatama valitsusele panga valmisolekust kuulutada välja tasaarvestus .\\n\\nOma teeneid pakkusid Silvesja Apananski\\n\\nPärast seda nähti Siim Kallast sageli Toompeal .\\n4. detsembril 1992 andis rahareformikomitee välja dekreedi nr. 40.\\nSelles otsustati vabastada Eesti Panga ja kommertspankade hoidlad sularaharubladest , realiseerida rublad ja säilitada nende realiseerimisel konfidentsiaalsus .\\nDekreedile kirjutas alla peaminister Mart Laar .\\n\\nSamal päeval kirjutasid peaminister ja Eesti Panga president alla protokollile , milles märgitakse : “ Eesti Pank ja Eesti Vabariigi valitsus leppisid kokku , et seoses ruumipuudusega Eesti Panga varahoidlates antakse rahareformi käigus elanikelt ja firmadelt kokku kogutud sularaharublad vastutavale hoiule Eesti Vabariigi valitsuse varahoidlatesse . ”\\n\\nTeatavasti ei ole valitsusel mingeid varahoidlaid .\\n\\nPärast seda asus rublamüüki korraldama peaministri nõunik Tiit Pruuli .\\nTõsi , mõningaid samme oli astutud juba enne 4. detsembri dekreeti .\\n24. novembril käis peaministri jutul tuntud ärinaine Tiiu Silves , kellega räägiti rublade müügist ja lepiti kokku , et vajaduse korral võtab Silvesega ühendust Pruuli .\\n\\nTeist korda kohtus Pruuli Silvesega 7. detsembril 1992.\\nKuid peaministri nõunikule Silves ei meeldinud ja ta väljendas seda ka valitsuse istungil .\\n\\nEnam-vähem samal ajal pakkus ennast vahendajaks Leonid Apananski .\\nEnt temale vastati tollase standardfraasiga : rublad on alles ja vastavalt lepingule antakse need üle Vene poolele .\\n\\nPanus maagidele\\n\\nSeejärel asus Tiit Pruuli läbi rääkima Soomes registreeritud Maag OY omanike Marek Strandbergi ja Agu Kivimäega .\\n\\nRublatehingu korraldamiseks oli Pruuli saanud peaministrilt kaks lähteülesannet : tagatud peab olema täielik konfidentsiaalsus ja edu .\\nViimane tähendanud Pruuli sõnul seda , et raha ei konfiskeeritaks , et operatsioon ei tuleks avalikuks ja et riik saaks võimalikult suure rahasumma .\\n\\nMingit kirjalikku kokkulepet Pruuli ja Maag OY omanikud ei sõlminud .\\nSeni ainsad teadaolevad paberid rublade üleandmise kohta on kolm Pruuli ja Strandbergi poolt alla kirjutatud akti .\\nMaagide sõnul olnud tehingu üks tingimus , et sellest ei jääks väljapoole riigiasutusi ühtegi dokumenti .\\n\\nVarahoidlast otse lennuväljale\\n\\nSularaharublasid anti vahendajatele üle neljal korral .\\n1992. aasta 22. detsembri käskkirjaga nr. 17-02/020 andis EP president Siim Kallas emissiooniosakonnale korralduse väljastada valitsuse varahoidla vastutavale hoiule 500 miljonit rubla .\\n\\nJärgmisel päeval kirjutasid Pruuli ning panga varahoidla juhataja Heintalu , peakassapidaja Rogulin ja varahoidla raamatupidaja Mertvetsova alla rublade vastutavale hoiule andmise-võtmise aktile , millega valitsuse varahoidlasse anti 500 miljonit rubla .\\n\\nSamal päeval kirjutasid Pruuli ja Strandberg alla aktile rahareformi käigus kogutud sularaharublade realiseerimise kohta .\\nSelles märgitakse , et Pruuli annab 500 miljonit rubla üle Maag OY esindajale Marek Strandbergile , kes “ tagab nimetatud koguse rublade vahetamise vabalt konverteeritavaks valuutaks Eesti Vabariigi kontode kasuks esimesel nõudmisel ” .\\n\\nPärast seda transporditi rublad Eesti Panga autodega Tallinna lennuväljale .\\nOperatsiooni juhatas EP turvateenistuse ülem Marko Tibar .\\n\\nKokkuleppe kohaselt ootas Pruuli Tibarit lennuvälja väravas .\\nÜheskoos sõideti lennuväljale , kus autosid ootas Läti lennukompanii lennuk AN 26 , mis lendas marsruudil Riia-Tallin-Minsk .\\nLennuk maandus Tallinnas 23. detsembril kell 14.10.\\nUmbes tunni jooksul laadisid Eesti Panga relvastatud töötajad pappkastidesse pakitud rublad lennukisse ja see startis kell 16.00 teadmata suunas .\\n\\nSama skeemi järgi arenesid sündmused ka järgmisel korral .\\n13. jaanuaril 1993 andis Siim Kallas välja käskkirja nr. 17-02/2 neljasaja miljoni rubla üleandmise kohta valitsuse varahoidlasse .\\n14. jaanuaril kirjutasid Pruuli , Heintalu , Rogulin ja Mertvetsova alla rublade vastutavale hoiule andmise aktile ning Pruuli ja Strandberg rublade realiseerimise aktile .\\n\\nTaas viisid panga autod Tibari juhtimisel rublad Tallinna lennuväljale , kus neid ootas Läti lennukompanii AN 26.\\nSeekord lendas lennuk marsruudil Rotterdam-Tallinn-Riia , maandus Tallinnas kell 19.21 ja tõusis õhku 21.30.\\n\\nTolliameti teatel ei ole neil andmeid sularaharublade väljaviimise kohta 23. detsembril 1992 ega ka 14. jaanuaril 1993.\\n\\nEesti riigijuhid krediteerisid Balti naftamaffiat ?\\n\\nLätis on algatatud kriminaalasi , mille käigus TESS AB nime all tegutsevat Rustem Kadõrovi grupeeringut süüdistatakse nafta salakaubaveos Venemaalt Lätisse ja sealt edasi Lääne-Euroopasse .\\n\\nFirma on registreeritud Rootsis Helsingboris .\\nTema tütarfirmad tegutsevad Lätis ( TESS Petroleum ) ja Eestis ( TESS Finantside AS ) , mis 1993. aastal reorganiseeriti FTB Trust Eesti ASiks .\\nViimase juhatuse esimees on endine piirivalveohvitser Aleksander Rubis .\\n\\nNafta salakaubaveo skeem oli lihtne .\\nKõigepealt sõlmiti Venemaal lepingud nafta tarnimiseks Kaliningradi firmale Eskado Luks .\\nSeejuures maksti raha ette .\\nLäti uurimisorganite andmetel oli Kadõrov leppinud Rubisega kokku , et ülekanne Venemaale tehakse Eestis asuvast NoWe pangast .\\n\\nPärast seda , kui nafta eest oli makstud , pidid naftatsisternid minema Venemaalt Läti kaudu transiidina Kaliningradi .\\nEnt niipea , kui vagunid Lätisse jõudsid , loovutas Eskado Luks nafta ostu-müügi õiguse kas TESS Petroleumile , TESS ABle või mõnele fiktiivsele firmale .\\nSeejuures võltsiti dokumente .\\nÜhtlasi löödi paberitele tempel , et tollikontroll on läbitud ja vajalikud maksud makstud .\\nPärast seda müüdi nafta kas Lätis või toimetati edasi Läände .\\nSaadud r\\n\\n<skipping 4866 characters>\\n\\nvahe on 696060 dollarit , mis annab vahendustasuks 26,9 protsenti .\\n\\nAsjad ei ole kaugeltki klaarid\\n\\n1992. aasta 4. detsembri dekreedist alates on rublamüügi korraldajad luisanud nii iseendale kui teistele .\\nJuba rublade näiline üleandmine riigi olematutesse varahoidlatesse näitas , et valmistutakse mahhinatsiooniks .\\nSeejuures püüti päästa ka Eesti Panga mainet rahvusvaheliste rahandusorganisatsioonide silmis .\\nPärast seda aeti asju koguni allilmaga .\\n\\nKüllap loodeti seejuures , et hilisemat uurimist suudetakse kas vältida või tupikusse juhtida .\\nMõneti on see ka õnnestunud .\\nRiigikontroll sai kontrollida ainult riigiasutusi .\\nPärast seda andis ta uurimise üle politseile , kus kriminaalasi taheti üldse lõpetada .\\nSeejärel tegi tollane siseminister Kaido Kama kaitsepolitseile ülesandeks selgitada välja rublamüügi asjaolud .\\nKuid uurimine on taas kolmveerand aastat seisnud .\\n\\nSamal ajal jõudsid lätlased Balti naftamaffia jälile ja sealtkaudu on selgunud üht-teist ka rublatehingu kohta .')"
      ]
     },
     "execution_count": 10,
     "metadata": {},
     "output_type": "execute_result"
    }
   ],
   "source": [
    "test_text.tag_layer('morph_analysis')"
   ]
  },
  {
   "cell_type": "markdown",
   "id": "c98b0e1d",
   "metadata": {},
   "source": [
    "### Stanza süntaksianalüüsi märgendamine"
   ]
  },
  {
   "cell_type": "code",
   "execution_count": 11,
   "id": "4f292cc4",
   "metadata": {},
   "outputs": [
    {
     "name": "stderr",
     "output_type": "stream",
     "text": [
      "Downloading resources index: 20.1kB [00:00, 3.35MB/s]\n"
     ]
    }
   ],
   "source": [
    "# Tagger\n",
    "stanza_tagger = StanzaSyntaxTagger(input_type='morph_analysis', input_morph_layer='morph_analysis',\n",
    "                                   add_parent_and_children=True)"
   ]
  },
  {
   "cell_type": "code",
   "execution_count": 12,
   "id": "96f939f2",
   "metadata": {},
   "outputs": [
    {
     "data": {
      "text/html": [
       "<table border=\"1\" class=\"dataframe\">\n",
       "  <thead>\n",
       "    <tr style=\"text-align: right;\">\n",
       "      <th>text</th>\n",
       "    </tr>\n",
       "  </thead>\n",
       "  <tbody>\n",
       "    <tr>\n",
       "      <td><div align = \"left\">RAIVO PALMARU , “ Sõnumileht ”</br></br>Rublatehing oli seotud kütuse salakaubandusega .</br>Sellisele järeldusele jõudsid naftaäri kriminaalasja uurimise käigus Läti juurdlusorganid .</br>Rootsis registreeritud firma sildi all tegutsenud grupp tellis Eestis rahareformi ajal kokku korjatud rublade veoks lennukid ja vähemalt 500 miljoni rubla müügi korraldas selle grupiga seotud Eesti ärimees .</br>Saadud raha on varjul Küprose pangas .</br></br>Pank lõhkise küna ees</br></br>Eesti Panga ( EP ) andmetel vahetati rahareformi käigus kroonide vastu  2 259 669 091  rubla .</br>Lisaks sellele oli panga varahoidlates veel  4 396 739  rubla .</br></br>Rahareformi esimesel päeval , 20. juunil 1992 , sõlmisid Eesti Vabariigi valitsus ja Vene Föderatsiooni valitsus omavahelise kokkuleppe vastastikustest kohustustest seoses Eesti Vabariigi rahvusliku valuuta käibelevõtmisega .</br>Sellele kirjutasid alla Eesti peaminister Tiit Vähi ja Vene valitsuse aseesimees Aleksandr Sohhin .</br></br>Kokkuleppe 5. artikkel nägi ette , et Eesti pool annab kõik rahavahetuse käigus kokku kogutud rublad kuu aja jooksul üle Venemaa keskpangale .</br>Täpsustamata jäid aga raha üleandmise tingimused .</br></br>See kokkulepe jäi täitmata nii Venemaa kui ka Eesti poolt .</br>Nõnda jäi umbes 70 tonni rublasid Eesti Panga varahoidlasse .</br>Kokkuleppele viidates nõudsid venelased raha tagasi , samas aga teatasid , et nad ei kanna vastutust Eesti Hoiupanga ( NSVLi Hoiupanga EVP ) hoiustajate ees .</br>Ka nende hoiuste kogusumma moodustas umbes kaks miljardit rubla ning EP oli sunnitud võtma vastavad garantiikohustused endale .</br></br>Bo Kragh soovitas rublad müüa</br></br>Esimest korda arutas Eesti Panga nõukogu kujunenud olukorda 7. oktoobril 1992.</br>Vastavad kirjalikud ettepanekud esitas panga tollane asepresident Bo Kragh .</br>Ta leidis , et EP garantiikohustuste ulatuses tuleks teha tasaarvestus .</br>Ühtlasi soovitas Kragh rublad müüa Eesti valuutaoksjonitel , anda Eesti Kütusele rublakrediiti naftatoodete ostmiseks või anda osa rublasid remigratsioonifondile .</br></br>EP nõukogu aktsepteeris asepresidendi soovitusi ja tegi panga presidendile Siim Kallasele ülesandeks pidada rublade saatuse küsimuses nõu presidendi , Riigikogu esimehe , peaministri ja välisministriga .</br></br>1992. aasta 28. oktoobril arutas Eesti Panga nõukogu asja veel kord ja otsustas , et kui läbirääkimised Moskvas külmutatud Eesti Vabariigi aktivate tagasisaamise üle ei anna 15. novembriks tulemusi , volitab panga nõukogu Siim Kallast teatama valitsusele panga valmisolekust kuulutada välja tasaarvestus .</br></br>Oma teeneid pakkusid Silvesja Apananski</br></br>Pärast seda nähti Siim Kallast sageli Toompeal .</br>4. detsembril 1992 andis rahareformikomitee välja dekreedi nr. 40.</br>Selles otsustati vabastada Eesti Panga ja kommertspankade hoidlad sularaharubladest , realiseerida rublad ja säilitada nende realiseerimisel konfidentsiaalsus .</br>Dekreedile kirjutas alla peaminister Mart Laar .</br></br>Samal päeval kirjutasid peaminister ja Eesti Panga president alla protokollile , milles märgitakse : “ Eesti Pank ja Eesti Vabariigi valitsus leppisid kokku , et seoses ruumipuudusega Eesti Panga varahoidlates antakse rahareformi käigus elanikelt ja firmadelt kokku kogutud sularaharublad vastutavale hoiule Eesti Vabariigi valitsuse varahoidlatesse . ”</br></br>Teatavasti ei ole valitsusel mingeid varahoidlaid .</br></br>Pärast seda asus rublamüüki korraldama peaministri nõunik Tiit Pruuli .</br>Tõsi , mõningaid samme oli astutud juba enne 4. detsembri dekreeti .</br>24. novembril käis peaministri jutul tuntud ärinaine Tiiu Silves , kellega räägiti rublade müügist ja lepiti kokku , et vajaduse korral võtab Silvesega ühendust Pruuli .</br></br>Teist korda kohtus Pruuli Silvesega 7. detsembril 1992.</br>Kuid peaministri nõunikule Silves ei meeldinud ja ta väljendas seda ka valitsuse istungil .</br></br>Enam-vähem samal ajal pakkus ennast vahendajaks Leonid Apananski .</br>Ent temale vastati tollase standardfraasiga : rublad on alles ja vastavalt lepingule antakse need üle Vene poolele .</br></br>Panus maagidele</br></br>Seejärel asus Tiit Pruuli läbi rääkima Soomes registreeritud Maag OY omanike Marek Strandbergi ja Agu Kivimäega .</br></br>Rublatehingu korraldamiseks oli Pruuli saanud peaministrilt kaks lähteülesannet : tagatud peab olema täielik konfidentsiaalsus ja edu .</br>Viimane tähendanud Pruuli sõnul seda , et raha ei konfiskeeritaks , et operatsioon ei tuleks avalikuks ja et riik saaks võimalikult suure rahasumma .</br></br>Mingit kirjalikku kokkulepet Pruuli ja Maag OY omanikud ei sõlminud .</br>Seni ainsad teadaolevad paberid rublade üleandmise kohta on kolm Pruuli ja Strandbergi poolt alla kirjutatud akti .</br>Maagide sõnul olnud tehingu üks tingimus , et sellest ei jääks väljapoole riigiasutusi ühtegi dokumenti .</br></br>Varahoidlast otse lennuväljale</br></br>Sularaharublasid anti vahendajatele üle neljal korral .</br>1992. aasta 22. detsembri käskkirjaga nr. 17-02/020 andis EP president Siim Kallas emissiooniosakonnale korralduse väljastada valitsuse varahoidla vastutavale hoiule 500 miljonit rubla .</br></br>Järgmisel päeval kirjutasid Pruuli ning panga varahoidla juhataja Heintalu , peakassapidaja Rogulin ja varahoidla raamatupidaja Mertvetsova alla rublade vastutavale hoiule andmise-võtmise aktile , millega valitsuse varahoidlasse anti 500 miljonit rubla .</br></br>Samal päeval kirjutasid Pruuli ja Strandberg alla aktile rahareformi käigus kogutud sularaharublade realiseerimise kohta .</br>Selles märgitakse , et Pruuli annab 500 miljonit rubla üle Maag OY esindajale Marek Strandbergile , kes “ tagab nimetatud koguse rublade vahetamise vabalt konverteeritavaks valuutaks Eesti Vabariigi kontode kasuks esimesel nõudmisel ” .</br></br>Pärast seda transporditi rublad Eesti Panga autodega Tallinna lennuväljale .</br>Operatsiooni juhatas EP turvateenistuse ülem Marko Tibar .</br></br>Kokkuleppe kohaselt ootas Pruuli Tibarit lennuvälja väravas .</br>Üheskoos sõideti lennuväljale , kus autosid ootas Läti lennukompanii lennuk AN 26 , mis lendas marsruudil Riia-Tallin-Minsk .</br>Lennuk maandus Tallinnas 23. detsembril kell 14.10.</br>Umbes tunni jooksul laadisid Eesti Panga relvastatud töötajad pappkastidesse pakitud rublad lennukisse ja see startis kell 16.00 teadmata suunas .</br></br>Sama skeemi järgi arenesid sündmused ka järgmisel korral .</br>13. jaanuaril 1993 andis Siim Kallas välja käskkirja nr. 17-02/2 neljasaja miljoni rubla üleandmise kohta valitsuse varahoidlasse .</br>14. jaanuaril kirjutasid Pruuli , Heintalu , Rogulin ja Mertvetsova alla rublade vastutavale hoiule andmise aktile ning Pruuli ja Strandberg rublade realiseerimise aktile .</br></br>Taas viisid panga autod Tibari juhtimisel rublad Tallinna lennuväljale , kus neid ootas Läti lennukompanii AN 26.</br>Seekord lendas lennuk marsruudil Rotterdam-Tallinn-Riia , maandus Tallinnas kell 19.21 ja tõusis õhku 21.30.</br></br>Tolliameti teatel ei ole neil andmeid sularaharublade väljaviimise kohta 23. detsembril 1992 ega ka 14. jaanuaril 1993.</br></br>Eesti riigijuhid krediteerisid Balti naftamaffiat ?</br></br>Lätis on algatatud kriminaalasi , mille käigus TESS AB nime all tegutsevat Rustem Kadõrovi grupeeringut süüdistatakse nafta salakaubaveos Venemaalt Lätisse ja sealt edasi Lääne-Euroopasse .</br></br>Firma on registreeritud Rootsis Helsingboris .</br>Tema tütarfirmad tegutsevad Lätis ( TESS Petroleum ) ja Eestis ( TESS Finantside AS ) , mis 1993. aastal reorganiseeriti FTB Trust Eesti ASiks .</br>Viimase juhatuse esimees on endine piirivalveohvitser Aleksander Rubis .</br></br>Nafta salakaubaveo skeem oli lihtne .</br>Kõigepealt sõlmiti Venemaal lepingud nafta tarnimiseks Kaliningradi firmale Eskado Luks .</br>Seejuures maksti raha ette .</br>Läti uurimisorganite andmetel oli Kadõrov leppinud Rubisega kokku , et ülekanne Venemaale tehakse Eestis asuvast NoWe pangast .</br></br>Pärast seda , kui nafta eest oli makstud , pidid naftatsisternid minema Venemaalt Läti kaudu transiidina Kaliningradi .</br>Ent niipea , kui vagunid Lätisse jõudsid , loovutas Eskado Luks nafta ostu-müügi õiguse kas TESS Petroleumile , TESS ABle või mõnele fiktiivsele firmale .</br>Seejuures võltsiti dokumente .</br>Ühtlasi löödi paberitele tempel , et tollikontroll on läbitud ja vajalikud maksud makstud .</br>Pärast seda müüdi nafta kas Lätis või toimetati edasi Läände .</br>Saadud r</br></br>&lt;skipping 4866 characters&gt;</br></br>vahe on 696060 dollarit , mis annab vahendustasuks 26,9 protsenti .</br></br>Asjad ei ole kaugeltki klaarid</br></br>1992. aasta 4. detsembri dekreedist alates on rublamüügi korraldajad luisanud nii iseendale kui teistele .</br>Juba rublade näiline üleandmine riigi olematutesse varahoidlatesse näitas , et valmistutakse mahhinatsiooniks .</br>Seejuures püüti päästa ka Eesti Panga mainet rahvusvaheliste rahandusorganisatsioonide silmis .</br>Pärast seda aeti asju koguni allilmaga .</br></br>Küllap loodeti seejuures , et hilisemat uurimist suudetakse kas vältida või tupikusse juhtida .</br>Mõneti on see ka õnnestunud .</br>Riigikontroll sai kontrollida ainult riigiasutusi .</br>Pärast seda andis ta uurimise üle politseile , kus kriminaalasi taheti üldse lõpetada .</br>Seejärel tegi tollane siseminister Kaido Kama kaitsepolitseile ülesandeks selgitada välja rublamüügi asjaolud .</br>Kuid uurimine on taas kolmveerand aastat seisnud .</br></br>Samal ajal jõudsid lätlased Balti naftamaffia jälile ja sealtkaudu on selgunud üht-teist ka rublatehingu kohta .</div></td>\n",
       "    </tr>\n",
       "  </tbody>\n",
       "</table>\n",
       "<h4>Metadata</h4>\n",
       "<table border=\"1\" class=\"dataframe\">\n",
       "  <tbody>\n",
       "    <tr>\n",
       "      <td>ajalehenumber</td>\n",
       "      <td>Postimees 1995.12.07</td>\n",
       "    </tr>\n",
       "    <tr>\n",
       "      <td>alamrubriik</td>\n",
       "      <td></td>\n",
       "    </tr>\n",
       "    <tr>\n",
       "      <td>alaosa</td>\n",
       "      <td>Põhileht</td>\n",
       "    </tr>\n",
       "    <tr>\n",
       "      <td>author</td>\n",
       "      <td>RAIVO PALMARU , “ Sõnumileht ”</td>\n",
       "    </tr>\n",
       "    <tr>\n",
       "      <td>rubriik</td>\n",
       "      <td>Krimi uudised</td>\n",
       "    </tr>\n",
       "    <tr>\n",
       "      <td>title</td>\n",
       "      <td>Rublamüügiga võib olla seotud Balti naftamaffia</td>\n",
       "    </tr>\n",
       "    <tr>\n",
       "      <td>type</td>\n",
       "      <td>artikkel</td>\n",
       "    </tr>\n",
       "  </tbody>\n",
       "</table>\n",
       "<table border=\"1\" class=\"dataframe\">\n",
       "  <thead>\n",
       "    <tr style=\"text-align: right;\">\n",
       "      <th>layer name</th>\n",
       "      <th>attributes</th>\n",
       "      <th>parent</th>\n",
       "      <th>enveloping</th>\n",
       "      <th>ambiguous</th>\n",
       "      <th>span count</th>\n",
       "    </tr>\n",
       "  </thead>\n",
       "  <tbody>\n",
       "    <tr>\n",
       "      <td>sentences</td>\n",
       "      <td></td>\n",
       "      <td>None</td>\n",
       "      <td>words</td>\n",
       "      <td>False</td>\n",
       "      <td>138</td>\n",
       "    </tr>\n",
       "    <tr>\n",
       "      <td>tokens</td>\n",
       "      <td></td>\n",
       "      <td>None</td>\n",
       "      <td>None</td>\n",
       "      <td>False</td>\n",
       "      <td>2099</td>\n",
       "    </tr>\n",
       "    <tr>\n",
       "      <td>compound_tokens</td>\n",
       "      <td>type, normalized</td>\n",
       "      <td>None</td>\n",
       "      <td>tokens</td>\n",
       "      <td>False</td>\n",
       "      <td>61</td>\n",
       "    </tr>\n",
       "    <tr>\n",
       "      <td>words</td>\n",
       "      <td>normalized_form</td>\n",
       "      <td>None</td>\n",
       "      <td>None</td>\n",
       "      <td>True</td>\n",
       "      <td>2012</td>\n",
       "    </tr>\n",
       "    <tr>\n",
       "      <td>morph_analysis</td>\n",
       "      <td>normalized_text, lemma, root, root_tokens, ending, clitic, form, partofspeech</td>\n",
       "      <td>words</td>\n",
       "      <td>None</td>\n",
       "      <td>True</td>\n",
       "      <td>2012</td>\n",
       "    </tr>\n",
       "    <tr>\n",
       "      <td>stanza_syntax</td>\n",
       "      <td>id, lemma, upostag, xpostag, feats, head, deprel, deps, misc, parent_span, children</td>\n",
       "      <td>morph_analysis</td>\n",
       "      <td>None</td>\n",
       "      <td>False</td>\n",
       "      <td>2012</td>\n",
       "    </tr>\n",
       "  </tbody>\n",
       "</table>"
      ],
      "text/plain": [
       "Text(text='RAIVO PALMARU , “ Sõnumileht ”\\n\\nRublatehing oli seotud kütuse salakaubandusega .\\nSellisele järeldusele jõudsid naftaäri kriminaalasja uurimise käigus Läti juurdlusorganid .\\nRootsis registreeritud firma sildi all tegutsenud grupp tellis Eestis rahareformi ajal kokku korjatud rublade veoks lennukid ja vähemalt 500 miljoni rubla müügi korraldas selle grupiga seotud Eesti ärimees .\\nSaadud raha on varjul Küprose pangas .\\n\\nPank lõhkise küna ees\\n\\nEesti Panga ( EP ) andmetel vahetati rahareformi käigus kroonide vastu  2 259 669 091  rubla .\\nLisaks sellele oli panga varahoidlates veel  4 396 739  rubla .\\n\\nRahareformi esimesel päeval , 20. juunil 1992 , sõlmisid Eesti Vabariigi valitsus ja Vene Föderatsiooni valitsus omavahelise kokkuleppe vastastikustest kohustustest seoses Eesti Vabariigi rahvusliku valuuta käibelevõtmisega .\\nSellele kirjutasid alla Eesti peaminister Tiit Vähi ja Vene valitsuse aseesimees Aleksandr Sohhin .\\n\\nKokkuleppe 5. artikkel nägi ette , et Eesti pool annab kõik rahavahetuse käigus kokku kogutud rublad kuu aja jooksul üle Venemaa keskpangale .\\nTäpsustamata jäid aga raha üleandmise tingimused .\\n\\nSee kokkulepe jäi täitmata nii Venemaa kui ka Eesti poolt .\\nNõnda jäi umbes 70 tonni rublasid Eesti Panga varahoidlasse .\\nKokkuleppele viidates nõudsid venelased raha tagasi , samas aga teatasid , et nad ei kanna vastutust Eesti Hoiupanga ( NSVLi Hoiupanga EVP ) hoiustajate ees .\\nKa nende hoiuste kogusumma moodustas umbes kaks miljardit rubla ning EP oli sunnitud võtma vastavad garantiikohustused endale .\\n\\nBo Kragh soovitas rublad müüa\\n\\nEsimest korda arutas Eesti Panga nõukogu kujunenud olukorda 7. oktoobril 1992.\\nVastavad kirjalikud ettepanekud esitas panga tollane asepresident Bo Kragh .\\nTa leidis , et EP garantiikohustuste ulatuses tuleks teha tasaarvestus .\\nÜhtlasi soovitas Kragh rublad müüa Eesti valuutaoksjonitel , anda Eesti Kütusele rublakrediiti naftatoodete ostmiseks või anda osa rublasid remigratsioonifondile .\\n\\nEP nõukogu aktsepteeris asepresidendi soovitusi ja tegi panga presidendile Siim Kallasele ülesandeks pidada rublade saatuse küsimuses nõu presidendi , Riigikogu esimehe , peaministri ja välisministriga .\\n\\n1992. aasta 28. oktoobril arutas Eesti Panga nõukogu asja veel kord ja otsustas , et kui läbirääkimised Moskvas külmutatud Eesti Vabariigi aktivate tagasisaamise üle ei anna 15. novembriks tulemusi , volitab panga nõukogu Siim Kallast teatama valitsusele panga valmisolekust kuulutada välja tasaarvestus .\\n\\nOma teeneid pakkusid Silvesja Apananski\\n\\nPärast seda nähti Siim Kallast sageli Toompeal .\\n4. detsembril 1992 andis rahareformikomitee välja dekreedi nr. 40.\\nSelles otsustati vabastada Eesti Panga ja kommertspankade hoidlad sularaharubladest , realiseerida rublad ja säilitada nende realiseerimisel konfidentsiaalsus .\\nDekreedile kirjutas alla peaminister Mart Laar .\\n\\nSamal päeval kirjutasid peaminister ja Eesti Panga president alla protokollile , milles märgitakse : “ Eesti Pank ja Eesti Vabariigi valitsus leppisid kokku , et seoses ruumipuudusega Eesti Panga varahoidlates antakse rahareformi käigus elanikelt ja firmadelt kokku kogutud sularaharublad vastutavale hoiule Eesti Vabariigi valitsuse varahoidlatesse . ”\\n\\nTeatavasti ei ole valitsusel mingeid varahoidlaid .\\n\\nPärast seda asus rublamüüki korraldama peaministri nõunik Tiit Pruuli .\\nTõsi , mõningaid samme oli astutud juba enne 4. detsembri dekreeti .\\n24. novembril käis peaministri jutul tuntud ärinaine Tiiu Silves , kellega räägiti rublade müügist ja lepiti kokku , et vajaduse korral võtab Silvesega ühendust Pruuli .\\n\\nTeist korda kohtus Pruuli Silvesega 7. detsembril 1992.\\nKuid peaministri nõunikule Silves ei meeldinud ja ta väljendas seda ka valitsuse istungil .\\n\\nEnam-vähem samal ajal pakkus ennast vahendajaks Leonid Apananski .\\nEnt temale vastati tollase standardfraasiga : rublad on alles ja vastavalt lepingule antakse need üle Vene poolele .\\n\\nPanus maagidele\\n\\nSeejärel asus Tiit Pruuli läbi rääkima Soomes registreeritud Maag OY omanike Marek Strandbergi ja Agu Kivimäega .\\n\\nRublatehingu korraldamiseks oli Pruuli saanud peaministrilt kaks lähteülesannet : tagatud peab olema täielik konfidentsiaalsus ja edu .\\nViimane tähendanud Pruuli sõnul seda , et raha ei konfiskeeritaks , et operatsioon ei tuleks avalikuks ja et riik saaks võimalikult suure rahasumma .\\n\\nMingit kirjalikku kokkulepet Pruuli ja Maag OY omanikud ei sõlminud .\\nSeni ainsad teadaolevad paberid rublade üleandmise kohta on kolm Pruuli ja Strandbergi poolt alla kirjutatud akti .\\nMaagide sõnul olnud tehingu üks tingimus , et sellest ei jääks väljapoole riigiasutusi ühtegi dokumenti .\\n\\nVarahoidlast otse lennuväljale\\n\\nSularaharublasid anti vahendajatele üle neljal korral .\\n1992. aasta 22. detsembri käskkirjaga nr. 17-02/020 andis EP president Siim Kallas emissiooniosakonnale korralduse väljastada valitsuse varahoidla vastutavale hoiule 500 miljonit rubla .\\n\\nJärgmisel päeval kirjutasid Pruuli ning panga varahoidla juhataja Heintalu , peakassapidaja Rogulin ja varahoidla raamatupidaja Mertvetsova alla rublade vastutavale hoiule andmise-võtmise aktile , millega valitsuse varahoidlasse anti 500 miljonit rubla .\\n\\nSamal päeval kirjutasid Pruuli ja Strandberg alla aktile rahareformi käigus kogutud sularaharublade realiseerimise kohta .\\nSelles märgitakse , et Pruuli annab 500 miljonit rubla üle Maag OY esindajale Marek Strandbergile , kes “ tagab nimetatud koguse rublade vahetamise vabalt konverteeritavaks valuutaks Eesti Vabariigi kontode kasuks esimesel nõudmisel ” .\\n\\nPärast seda transporditi rublad Eesti Panga autodega Tallinna lennuväljale .\\nOperatsiooni juhatas EP turvateenistuse ülem Marko Tibar .\\n\\nKokkuleppe kohaselt ootas Pruuli Tibarit lennuvälja väravas .\\nÜheskoos sõideti lennuväljale , kus autosid ootas Läti lennukompanii lennuk AN 26 , mis lendas marsruudil Riia-Tallin-Minsk .\\nLennuk maandus Tallinnas 23. detsembril kell 14.10.\\nUmbes tunni jooksul laadisid Eesti Panga relvastatud töötajad pappkastidesse pakitud rublad lennukisse ja see startis kell 16.00 teadmata suunas .\\n\\nSama skeemi järgi arenesid sündmused ka järgmisel korral .\\n13. jaanuaril 1993 andis Siim Kallas välja käskkirja nr. 17-02/2 neljasaja miljoni rubla üleandmise kohta valitsuse varahoidlasse .\\n14. jaanuaril kirjutasid Pruuli , Heintalu , Rogulin ja Mertvetsova alla rublade vastutavale hoiule andmise aktile ning Pruuli ja Strandberg rublade realiseerimise aktile .\\n\\nTaas viisid panga autod Tibari juhtimisel rublad Tallinna lennuväljale , kus neid ootas Läti lennukompanii AN 26.\\nSeekord lendas lennuk marsruudil Rotterdam-Tallinn-Riia , maandus Tallinnas kell 19.21 ja tõusis õhku 21.30.\\n\\nTolliameti teatel ei ole neil andmeid sularaharublade väljaviimise kohta 23. detsembril 1992 ega ka 14. jaanuaril 1993.\\n\\nEesti riigijuhid krediteerisid Balti naftamaffiat ?\\n\\nLätis on algatatud kriminaalasi , mille käigus TESS AB nime all tegutsevat Rustem Kadõrovi grupeeringut süüdistatakse nafta salakaubaveos Venemaalt Lätisse ja sealt edasi Lääne-Euroopasse .\\n\\nFirma on registreeritud Rootsis Helsingboris .\\nTema tütarfirmad tegutsevad Lätis ( TESS Petroleum ) ja Eestis ( TESS Finantside AS ) , mis 1993. aastal reorganiseeriti FTB Trust Eesti ASiks .\\nViimase juhatuse esimees on endine piirivalveohvitser Aleksander Rubis .\\n\\nNafta salakaubaveo skeem oli lihtne .\\nKõigepealt sõlmiti Venemaal lepingud nafta tarnimiseks Kaliningradi firmale Eskado Luks .\\nSeejuures maksti raha ette .\\nLäti uurimisorganite andmetel oli Kadõrov leppinud Rubisega kokku , et ülekanne Venemaale tehakse Eestis asuvast NoWe pangast .\\n\\nPärast seda , kui nafta eest oli makstud , pidid naftatsisternid minema Venemaalt Läti kaudu transiidina Kaliningradi .\\nEnt niipea , kui vagunid Lätisse jõudsid , loovutas Eskado Luks nafta ostu-müügi õiguse kas TESS Petroleumile , TESS ABle või mõnele fiktiivsele firmale .\\nSeejuures võltsiti dokumente .\\nÜhtlasi löödi paberitele tempel , et tollikontroll on läbitud ja vajalikud maksud makstud .\\nPärast seda müüdi nafta kas Lätis või toimetati edasi Läände .\\nSaadud r\\n\\n<skipping 4866 characters>\\n\\nvahe on 696060 dollarit , mis annab vahendustasuks 26,9 protsenti .\\n\\nAsjad ei ole kaugeltki klaarid\\n\\n1992. aasta 4. detsembri dekreedist alates on rublamüügi korraldajad luisanud nii iseendale kui teistele .\\nJuba rublade näiline üleandmine riigi olematutesse varahoidlatesse näitas , et valmistutakse mahhinatsiooniks .\\nSeejuures püüti päästa ka Eesti Panga mainet rahvusvaheliste rahandusorganisatsioonide silmis .\\nPärast seda aeti asju koguni allilmaga .\\n\\nKüllap loodeti seejuures , et hilisemat uurimist suudetakse kas vältida või tupikusse juhtida .\\nMõneti on see ka õnnestunud .\\nRiigikontroll sai kontrollida ainult riigiasutusi .\\nPärast seda andis ta uurimise üle politseile , kus kriminaalasi taheti üldse lõpetada .\\nSeejärel tegi tollane siseminister Kaido Kama kaitsepolitseile ülesandeks selgitada välja rublamüügi asjaolud .\\nKuid uurimine on taas kolmveerand aastat seisnud .\\n\\nSamal ajal jõudsid lätlased Balti naftamaffia jälile ja sealtkaudu on selgunud üht-teist ka rublatehingu kohta .')"
      ]
     },
     "execution_count": 12,
     "metadata": {},
     "output_type": "execute_result"
    }
   ],
   "source": [
    "stanza_tagger.tag(test_text)"
   ]
  },
  {
   "cell_type": "markdown",
   "id": "c58fa83c",
   "metadata": {},
   "source": [
    "### Nimeolemite ja ajaväljendite märgendamine"
   ]
  },
  {
   "cell_type": "code",
   "execution_count": 13,
   "id": "be6bf73b",
   "metadata": {},
   "outputs": [],
   "source": [
    "ner_tagger = NerTagger()"
   ]
  },
  {
   "cell_type": "code",
   "execution_count": 14,
   "id": "565fd467",
   "metadata": {},
   "outputs": [
    {
     "data": {
      "text/html": [
       "<table border=\"1\" class=\"dataframe\">\n",
       "  <thead>\n",
       "    <tr style=\"text-align: right;\">\n",
       "      <th>text</th>\n",
       "    </tr>\n",
       "  </thead>\n",
       "  <tbody>\n",
       "    <tr>\n",
       "      <td><div align = \"left\">RAIVO PALMARU , “ Sõnumileht ”</br></br>Rublatehing oli seotud kütuse salakaubandusega .</br>Sellisele järeldusele jõudsid naftaäri kriminaalasja uurimise käigus Läti juurdlusorganid .</br>Rootsis registreeritud firma sildi all tegutsenud grupp tellis Eestis rahareformi ajal kokku korjatud rublade veoks lennukid ja vähemalt 500 miljoni rubla müügi korraldas selle grupiga seotud Eesti ärimees .</br>Saadud raha on varjul Küprose pangas .</br></br>Pank lõhkise küna ees</br></br>Eesti Panga ( EP ) andmetel vahetati rahareformi käigus kroonide vastu  2 259 669 091  rubla .</br>Lisaks sellele oli panga varahoidlates veel  4 396 739  rubla .</br></br>Rahareformi esimesel päeval , 20. juunil 1992 , sõlmisid Eesti Vabariigi valitsus ja Vene Föderatsiooni valitsus omavahelise kokkuleppe vastastikustest kohustustest seoses Eesti Vabariigi rahvusliku valuuta käibelevõtmisega .</br>Sellele kirjutasid alla Eesti peaminister Tiit Vähi ja Vene valitsuse aseesimees Aleksandr Sohhin .</br></br>Kokkuleppe 5. artikkel nägi ette , et Eesti pool annab kõik rahavahetuse käigus kokku kogutud rublad kuu aja jooksul üle Venemaa keskpangale .</br>Täpsustamata jäid aga raha üleandmise tingimused .</br></br>See kokkulepe jäi täitmata nii Venemaa kui ka Eesti poolt .</br>Nõnda jäi umbes 70 tonni rublasid Eesti Panga varahoidlasse .</br>Kokkuleppele viidates nõudsid venelased raha tagasi , samas aga teatasid , et nad ei kanna vastutust Eesti Hoiupanga ( NSVLi Hoiupanga EVP ) hoiustajate ees .</br>Ka nende hoiuste kogusumma moodustas umbes kaks miljardit rubla ning EP oli sunnitud võtma vastavad garantiikohustused endale .</br></br>Bo Kragh soovitas rublad müüa</br></br>Esimest korda arutas Eesti Panga nõukogu kujunenud olukorda 7. oktoobril 1992.</br>Vastavad kirjalikud ettepanekud esitas panga tollane asepresident Bo Kragh .</br>Ta leidis , et EP garantiikohustuste ulatuses tuleks teha tasaarvestus .</br>Ühtlasi soovitas Kragh rublad müüa Eesti valuutaoksjonitel , anda Eesti Kütusele rublakrediiti naftatoodete ostmiseks või anda osa rublasid remigratsioonifondile .</br></br>EP nõukogu aktsepteeris asepresidendi soovitusi ja tegi panga presidendile Siim Kallasele ülesandeks pidada rublade saatuse küsimuses nõu presidendi , Riigikogu esimehe , peaministri ja välisministriga .</br></br>1992. aasta 28. oktoobril arutas Eesti Panga nõukogu asja veel kord ja otsustas , et kui läbirääkimised Moskvas külmutatud Eesti Vabariigi aktivate tagasisaamise üle ei anna 15. novembriks tulemusi , volitab panga nõukogu Siim Kallast teatama valitsusele panga valmisolekust kuulutada välja tasaarvestus .</br></br>Oma teeneid pakkusid Silvesja Apananski</br></br>Pärast seda nähti Siim Kallast sageli Toompeal .</br>4. detsembril 1992 andis rahareformikomitee välja dekreedi nr. 40.</br>Selles otsustati vabastada Eesti Panga ja kommertspankade hoidlad sularaharubladest , realiseerida rublad ja säilitada nende realiseerimisel konfidentsiaalsus .</br>Dekreedile kirjutas alla peaminister Mart Laar .</br></br>Samal päeval kirjutasid peaminister ja Eesti Panga president alla protokollile , milles märgitakse : “ Eesti Pank ja Eesti Vabariigi valitsus leppisid kokku , et seoses ruumipuudusega Eesti Panga varahoidlates antakse rahareformi käigus elanikelt ja firmadelt kokku kogutud sularaharublad vastutavale hoiule Eesti Vabariigi valitsuse varahoidlatesse . ”</br></br>Teatavasti ei ole valitsusel mingeid varahoidlaid .</br></br>Pärast seda asus rublamüüki korraldama peaministri nõunik Tiit Pruuli .</br>Tõsi , mõningaid samme oli astutud juba enne 4. detsembri dekreeti .</br>24. novembril käis peaministri jutul tuntud ärinaine Tiiu Silves , kellega räägiti rublade müügist ja lepiti kokku , et vajaduse korral võtab Silvesega ühendust Pruuli .</br></br>Teist korda kohtus Pruuli Silvesega 7. detsembril 1992.</br>Kuid peaministri nõunikule Silves ei meeldinud ja ta väljendas seda ka valitsuse istungil .</br></br>Enam-vähem samal ajal pakkus ennast vahendajaks Leonid Apananski .</br>Ent temale vastati tollase standardfraasiga : rublad on alles ja vastavalt lepingule antakse need üle Vene poolele .</br></br>Panus maagidele</br></br>Seejärel asus Tiit Pruuli läbi rääkima Soomes registreeritud Maag OY omanike Marek Strandbergi ja Agu Kivimäega .</br></br>Rublatehingu korraldamiseks oli Pruuli saanud peaministrilt kaks lähteülesannet : tagatud peab olema täielik konfidentsiaalsus ja edu .</br>Viimane tähendanud Pruuli sõnul seda , et raha ei konfiskeeritaks , et operatsioon ei tuleks avalikuks ja et riik saaks võimalikult suure rahasumma .</br></br>Mingit kirjalikku kokkulepet Pruuli ja Maag OY omanikud ei sõlminud .</br>Seni ainsad teadaolevad paberid rublade üleandmise kohta on kolm Pruuli ja Strandbergi poolt alla kirjutatud akti .</br>Maagide sõnul olnud tehingu üks tingimus , et sellest ei jääks väljapoole riigiasutusi ühtegi dokumenti .</br></br>Varahoidlast otse lennuväljale</br></br>Sularaharublasid anti vahendajatele üle neljal korral .</br>1992. aasta 22. detsembri käskkirjaga nr. 17-02/020 andis EP president Siim Kallas emissiooniosakonnale korralduse väljastada valitsuse varahoidla vastutavale hoiule 500 miljonit rubla .</br></br>Järgmisel päeval kirjutasid Pruuli ning panga varahoidla juhataja Heintalu , peakassapidaja Rogulin ja varahoidla raamatupidaja Mertvetsova alla rublade vastutavale hoiule andmise-võtmise aktile , millega valitsuse varahoidlasse anti 500 miljonit rubla .</br></br>Samal päeval kirjutasid Pruuli ja Strandberg alla aktile rahareformi käigus kogutud sularaharublade realiseerimise kohta .</br>Selles märgitakse , et Pruuli annab 500 miljonit rubla üle Maag OY esindajale Marek Strandbergile , kes “ tagab nimetatud koguse rublade vahetamise vabalt konverteeritavaks valuutaks Eesti Vabariigi kontode kasuks esimesel nõudmisel ” .</br></br>Pärast seda transporditi rublad Eesti Panga autodega Tallinna lennuväljale .</br>Operatsiooni juhatas EP turvateenistuse ülem Marko Tibar .</br></br>Kokkuleppe kohaselt ootas Pruuli Tibarit lennuvälja väravas .</br>Üheskoos sõideti lennuväljale , kus autosid ootas Läti lennukompanii lennuk AN 26 , mis lendas marsruudil Riia-Tallin-Minsk .</br>Lennuk maandus Tallinnas 23. detsembril kell 14.10.</br>Umbes tunni jooksul laadisid Eesti Panga relvastatud töötajad pappkastidesse pakitud rublad lennukisse ja see startis kell 16.00 teadmata suunas .</br></br>Sama skeemi järgi arenesid sündmused ka järgmisel korral .</br>13. jaanuaril 1993 andis Siim Kallas välja käskkirja nr. 17-02/2 neljasaja miljoni rubla üleandmise kohta valitsuse varahoidlasse .</br>14. jaanuaril kirjutasid Pruuli , Heintalu , Rogulin ja Mertvetsova alla rublade vastutavale hoiule andmise aktile ning Pruuli ja Strandberg rublade realiseerimise aktile .</br></br>Taas viisid panga autod Tibari juhtimisel rublad Tallinna lennuväljale , kus neid ootas Läti lennukompanii AN 26.</br>Seekord lendas lennuk marsruudil Rotterdam-Tallinn-Riia , maandus Tallinnas kell 19.21 ja tõusis õhku 21.30.</br></br>Tolliameti teatel ei ole neil andmeid sularaharublade väljaviimise kohta 23. detsembril 1992 ega ka 14. jaanuaril 1993.</br></br>Eesti riigijuhid krediteerisid Balti naftamaffiat ?</br></br>Lätis on algatatud kriminaalasi , mille käigus TESS AB nime all tegutsevat Rustem Kadõrovi grupeeringut süüdistatakse nafta salakaubaveos Venemaalt Lätisse ja sealt edasi Lääne-Euroopasse .</br></br>Firma on registreeritud Rootsis Helsingboris .</br>Tema tütarfirmad tegutsevad Lätis ( TESS Petroleum ) ja Eestis ( TESS Finantside AS ) , mis 1993. aastal reorganiseeriti FTB Trust Eesti ASiks .</br>Viimase juhatuse esimees on endine piirivalveohvitser Aleksander Rubis .</br></br>Nafta salakaubaveo skeem oli lihtne .</br>Kõigepealt sõlmiti Venemaal lepingud nafta tarnimiseks Kaliningradi firmale Eskado Luks .</br>Seejuures maksti raha ette .</br>Läti uurimisorganite andmetel oli Kadõrov leppinud Rubisega kokku , et ülekanne Venemaale tehakse Eestis asuvast NoWe pangast .</br></br>Pärast seda , kui nafta eest oli makstud , pidid naftatsisternid minema Venemaalt Läti kaudu transiidina Kaliningradi .</br>Ent niipea , kui vagunid Lätisse jõudsid , loovutas Eskado Luks nafta ostu-müügi õiguse kas TESS Petroleumile , TESS ABle või mõnele fiktiivsele firmale .</br>Seejuures võltsiti dokumente .</br>Ühtlasi löödi paberitele tempel , et tollikontroll on läbitud ja vajalikud maksud makstud .</br>Pärast seda müüdi nafta kas Lätis või toimetati edasi Läände .</br>Saadud r</br></br>&lt;skipping 4866 characters&gt;</br></br>vahe on 696060 dollarit , mis annab vahendustasuks 26,9 protsenti .</br></br>Asjad ei ole kaugeltki klaarid</br></br>1992. aasta 4. detsembri dekreedist alates on rublamüügi korraldajad luisanud nii iseendale kui teistele .</br>Juba rublade näiline üleandmine riigi olematutesse varahoidlatesse näitas , et valmistutakse mahhinatsiooniks .</br>Seejuures püüti päästa ka Eesti Panga mainet rahvusvaheliste rahandusorganisatsioonide silmis .</br>Pärast seda aeti asju koguni allilmaga .</br></br>Küllap loodeti seejuures , et hilisemat uurimist suudetakse kas vältida või tupikusse juhtida .</br>Mõneti on see ka õnnestunud .</br>Riigikontroll sai kontrollida ainult riigiasutusi .</br>Pärast seda andis ta uurimise üle politseile , kus kriminaalasi taheti üldse lõpetada .</br>Seejärel tegi tollane siseminister Kaido Kama kaitsepolitseile ülesandeks selgitada välja rublamüügi asjaolud .</br>Kuid uurimine on taas kolmveerand aastat seisnud .</br></br>Samal ajal jõudsid lätlased Balti naftamaffia jälile ja sealtkaudu on selgunud üht-teist ka rublatehingu kohta .</div></td>\n",
       "    </tr>\n",
       "  </tbody>\n",
       "</table>\n",
       "<h4>Metadata</h4>\n",
       "<table border=\"1\" class=\"dataframe\">\n",
       "  <tbody>\n",
       "    <tr>\n",
       "      <td>ajalehenumber</td>\n",
       "      <td>Postimees 1995.12.07</td>\n",
       "    </tr>\n",
       "    <tr>\n",
       "      <td>alamrubriik</td>\n",
       "      <td></td>\n",
       "    </tr>\n",
       "    <tr>\n",
       "      <td>alaosa</td>\n",
       "      <td>Põhileht</td>\n",
       "    </tr>\n",
       "    <tr>\n",
       "      <td>author</td>\n",
       "      <td>RAIVO PALMARU , “ Sõnumileht ”</td>\n",
       "    </tr>\n",
       "    <tr>\n",
       "      <td>rubriik</td>\n",
       "      <td>Krimi uudised</td>\n",
       "    </tr>\n",
       "    <tr>\n",
       "      <td>title</td>\n",
       "      <td>Rublamüügiga võib olla seotud Balti naftamaffia</td>\n",
       "    </tr>\n",
       "    <tr>\n",
       "      <td>type</td>\n",
       "      <td>artikkel</td>\n",
       "    </tr>\n",
       "  </tbody>\n",
       "</table>\n",
       "<table border=\"1\" class=\"dataframe\">\n",
       "  <thead>\n",
       "    <tr style=\"text-align: right;\">\n",
       "      <th>layer name</th>\n",
       "      <th>attributes</th>\n",
       "      <th>parent</th>\n",
       "      <th>enveloping</th>\n",
       "      <th>ambiguous</th>\n",
       "      <th>span count</th>\n",
       "    </tr>\n",
       "  </thead>\n",
       "  <tbody>\n",
       "    <tr>\n",
       "      <td>sentences</td>\n",
       "      <td></td>\n",
       "      <td>None</td>\n",
       "      <td>words</td>\n",
       "      <td>False</td>\n",
       "      <td>138</td>\n",
       "    </tr>\n",
       "    <tr>\n",
       "      <td>tokens</td>\n",
       "      <td></td>\n",
       "      <td>None</td>\n",
       "      <td>None</td>\n",
       "      <td>False</td>\n",
       "      <td>2099</td>\n",
       "    </tr>\n",
       "    <tr>\n",
       "      <td>compound_tokens</td>\n",
       "      <td>type, normalized</td>\n",
       "      <td>None</td>\n",
       "      <td>tokens</td>\n",
       "      <td>False</td>\n",
       "      <td>61</td>\n",
       "    </tr>\n",
       "    <tr>\n",
       "      <td>words</td>\n",
       "      <td>normalized_form</td>\n",
       "      <td>None</td>\n",
       "      <td>None</td>\n",
       "      <td>True</td>\n",
       "      <td>2012</td>\n",
       "    </tr>\n",
       "    <tr>\n",
       "      <td>morph_analysis</td>\n",
       "      <td>normalized_text, lemma, root, root_tokens, ending, clitic, form, partofspeech</td>\n",
       "      <td>words</td>\n",
       "      <td>None</td>\n",
       "      <td>True</td>\n",
       "      <td>2012</td>\n",
       "    </tr>\n",
       "    <tr>\n",
       "      <td>stanza_syntax</td>\n",
       "      <td>id, lemma, upostag, xpostag, feats, head, deprel, deps, misc, parent_span, children</td>\n",
       "      <td>morph_analysis</td>\n",
       "      <td>None</td>\n",
       "      <td>False</td>\n",
       "      <td>2012</td>\n",
       "    </tr>\n",
       "    <tr>\n",
       "      <td>ner</td>\n",
       "      <td>nertag</td>\n",
       "      <td>None</td>\n",
       "      <td>words</td>\n",
       "      <td>False</td>\n",
       "      <td>205</td>\n",
       "    </tr>\n",
       "  </tbody>\n",
       "</table>"
      ],
      "text/plain": [
       "Text(text='RAIVO PALMARU , “ Sõnumileht ”\\n\\nRublatehing oli seotud kütuse salakaubandusega .\\nSellisele järeldusele jõudsid naftaäri kriminaalasja uurimise käigus Läti juurdlusorganid .\\nRootsis registreeritud firma sildi all tegutsenud grupp tellis Eestis rahareformi ajal kokku korjatud rublade veoks lennukid ja vähemalt 500 miljoni rubla müügi korraldas selle grupiga seotud Eesti ärimees .\\nSaadud raha on varjul Küprose pangas .\\n\\nPank lõhkise küna ees\\n\\nEesti Panga ( EP ) andmetel vahetati rahareformi käigus kroonide vastu  2 259 669 091  rubla .\\nLisaks sellele oli panga varahoidlates veel  4 396 739  rubla .\\n\\nRahareformi esimesel päeval , 20. juunil 1992 , sõlmisid Eesti Vabariigi valitsus ja Vene Föderatsiooni valitsus omavahelise kokkuleppe vastastikustest kohustustest seoses Eesti Vabariigi rahvusliku valuuta käibelevõtmisega .\\nSellele kirjutasid alla Eesti peaminister Tiit Vähi ja Vene valitsuse aseesimees Aleksandr Sohhin .\\n\\nKokkuleppe 5. artikkel nägi ette , et Eesti pool annab kõik rahavahetuse käigus kokku kogutud rublad kuu aja jooksul üle Venemaa keskpangale .\\nTäpsustamata jäid aga raha üleandmise tingimused .\\n\\nSee kokkulepe jäi täitmata nii Venemaa kui ka Eesti poolt .\\nNõnda jäi umbes 70 tonni rublasid Eesti Panga varahoidlasse .\\nKokkuleppele viidates nõudsid venelased raha tagasi , samas aga teatasid , et nad ei kanna vastutust Eesti Hoiupanga ( NSVLi Hoiupanga EVP ) hoiustajate ees .\\nKa nende hoiuste kogusumma moodustas umbes kaks miljardit rubla ning EP oli sunnitud võtma vastavad garantiikohustused endale .\\n\\nBo Kragh soovitas rublad müüa\\n\\nEsimest korda arutas Eesti Panga nõukogu kujunenud olukorda 7. oktoobril 1992.\\nVastavad kirjalikud ettepanekud esitas panga tollane asepresident Bo Kragh .\\nTa leidis , et EP garantiikohustuste ulatuses tuleks teha tasaarvestus .\\nÜhtlasi soovitas Kragh rublad müüa Eesti valuutaoksjonitel , anda Eesti Kütusele rublakrediiti naftatoodete ostmiseks või anda osa rublasid remigratsioonifondile .\\n\\nEP nõukogu aktsepteeris asepresidendi soovitusi ja tegi panga presidendile Siim Kallasele ülesandeks pidada rublade saatuse küsimuses nõu presidendi , Riigikogu esimehe , peaministri ja välisministriga .\\n\\n1992. aasta 28. oktoobril arutas Eesti Panga nõukogu asja veel kord ja otsustas , et kui läbirääkimised Moskvas külmutatud Eesti Vabariigi aktivate tagasisaamise üle ei anna 15. novembriks tulemusi , volitab panga nõukogu Siim Kallast teatama valitsusele panga valmisolekust kuulutada välja tasaarvestus .\\n\\nOma teeneid pakkusid Silvesja Apananski\\n\\nPärast seda nähti Siim Kallast sageli Toompeal .\\n4. detsembril 1992 andis rahareformikomitee välja dekreedi nr. 40.\\nSelles otsustati vabastada Eesti Panga ja kommertspankade hoidlad sularaharubladest , realiseerida rublad ja säilitada nende realiseerimisel konfidentsiaalsus .\\nDekreedile kirjutas alla peaminister Mart Laar .\\n\\nSamal päeval kirjutasid peaminister ja Eesti Panga president alla protokollile , milles märgitakse : “ Eesti Pank ja Eesti Vabariigi valitsus leppisid kokku , et seoses ruumipuudusega Eesti Panga varahoidlates antakse rahareformi käigus elanikelt ja firmadelt kokku kogutud sularaharublad vastutavale hoiule Eesti Vabariigi valitsuse varahoidlatesse . ”\\n\\nTeatavasti ei ole valitsusel mingeid varahoidlaid .\\n\\nPärast seda asus rublamüüki korraldama peaministri nõunik Tiit Pruuli .\\nTõsi , mõningaid samme oli astutud juba enne 4. detsembri dekreeti .\\n24. novembril käis peaministri jutul tuntud ärinaine Tiiu Silves , kellega räägiti rublade müügist ja lepiti kokku , et vajaduse korral võtab Silvesega ühendust Pruuli .\\n\\nTeist korda kohtus Pruuli Silvesega 7. detsembril 1992.\\nKuid peaministri nõunikule Silves ei meeldinud ja ta väljendas seda ka valitsuse istungil .\\n\\nEnam-vähem samal ajal pakkus ennast vahendajaks Leonid Apananski .\\nEnt temale vastati tollase standardfraasiga : rublad on alles ja vastavalt lepingule antakse need üle Vene poolele .\\n\\nPanus maagidele\\n\\nSeejärel asus Tiit Pruuli läbi rääkima Soomes registreeritud Maag OY omanike Marek Strandbergi ja Agu Kivimäega .\\n\\nRublatehingu korraldamiseks oli Pruuli saanud peaministrilt kaks lähteülesannet : tagatud peab olema täielik konfidentsiaalsus ja edu .\\nViimane tähendanud Pruuli sõnul seda , et raha ei konfiskeeritaks , et operatsioon ei tuleks avalikuks ja et riik saaks võimalikult suure rahasumma .\\n\\nMingit kirjalikku kokkulepet Pruuli ja Maag OY omanikud ei sõlminud .\\nSeni ainsad teadaolevad paberid rublade üleandmise kohta on kolm Pruuli ja Strandbergi poolt alla kirjutatud akti .\\nMaagide sõnul olnud tehingu üks tingimus , et sellest ei jääks väljapoole riigiasutusi ühtegi dokumenti .\\n\\nVarahoidlast otse lennuväljale\\n\\nSularaharublasid anti vahendajatele üle neljal korral .\\n1992. aasta 22. detsembri käskkirjaga nr. 17-02/020 andis EP president Siim Kallas emissiooniosakonnale korralduse väljastada valitsuse varahoidla vastutavale hoiule 500 miljonit rubla .\\n\\nJärgmisel päeval kirjutasid Pruuli ning panga varahoidla juhataja Heintalu , peakassapidaja Rogulin ja varahoidla raamatupidaja Mertvetsova alla rublade vastutavale hoiule andmise-võtmise aktile , millega valitsuse varahoidlasse anti 500 miljonit rubla .\\n\\nSamal päeval kirjutasid Pruuli ja Strandberg alla aktile rahareformi käigus kogutud sularaharublade realiseerimise kohta .\\nSelles märgitakse , et Pruuli annab 500 miljonit rubla üle Maag OY esindajale Marek Strandbergile , kes “ tagab nimetatud koguse rublade vahetamise vabalt konverteeritavaks valuutaks Eesti Vabariigi kontode kasuks esimesel nõudmisel ” .\\n\\nPärast seda transporditi rublad Eesti Panga autodega Tallinna lennuväljale .\\nOperatsiooni juhatas EP turvateenistuse ülem Marko Tibar .\\n\\nKokkuleppe kohaselt ootas Pruuli Tibarit lennuvälja väravas .\\nÜheskoos sõideti lennuväljale , kus autosid ootas Läti lennukompanii lennuk AN 26 , mis lendas marsruudil Riia-Tallin-Minsk .\\nLennuk maandus Tallinnas 23. detsembril kell 14.10.\\nUmbes tunni jooksul laadisid Eesti Panga relvastatud töötajad pappkastidesse pakitud rublad lennukisse ja see startis kell 16.00 teadmata suunas .\\n\\nSama skeemi järgi arenesid sündmused ka järgmisel korral .\\n13. jaanuaril 1993 andis Siim Kallas välja käskkirja nr. 17-02/2 neljasaja miljoni rubla üleandmise kohta valitsuse varahoidlasse .\\n14. jaanuaril kirjutasid Pruuli , Heintalu , Rogulin ja Mertvetsova alla rublade vastutavale hoiule andmise aktile ning Pruuli ja Strandberg rublade realiseerimise aktile .\\n\\nTaas viisid panga autod Tibari juhtimisel rublad Tallinna lennuväljale , kus neid ootas Läti lennukompanii AN 26.\\nSeekord lendas lennuk marsruudil Rotterdam-Tallinn-Riia , maandus Tallinnas kell 19.21 ja tõusis õhku 21.30.\\n\\nTolliameti teatel ei ole neil andmeid sularaharublade väljaviimise kohta 23. detsembril 1992 ega ka 14. jaanuaril 1993.\\n\\nEesti riigijuhid krediteerisid Balti naftamaffiat ?\\n\\nLätis on algatatud kriminaalasi , mille käigus TESS AB nime all tegutsevat Rustem Kadõrovi grupeeringut süüdistatakse nafta salakaubaveos Venemaalt Lätisse ja sealt edasi Lääne-Euroopasse .\\n\\nFirma on registreeritud Rootsis Helsingboris .\\nTema tütarfirmad tegutsevad Lätis ( TESS Petroleum ) ja Eestis ( TESS Finantside AS ) , mis 1993. aastal reorganiseeriti FTB Trust Eesti ASiks .\\nViimase juhatuse esimees on endine piirivalveohvitser Aleksander Rubis .\\n\\nNafta salakaubaveo skeem oli lihtne .\\nKõigepealt sõlmiti Venemaal lepingud nafta tarnimiseks Kaliningradi firmale Eskado Luks .\\nSeejuures maksti raha ette .\\nLäti uurimisorganite andmetel oli Kadõrov leppinud Rubisega kokku , et ülekanne Venemaale tehakse Eestis asuvast NoWe pangast .\\n\\nPärast seda , kui nafta eest oli makstud , pidid naftatsisternid minema Venemaalt Läti kaudu transiidina Kaliningradi .\\nEnt niipea , kui vagunid Lätisse jõudsid , loovutas Eskado Luks nafta ostu-müügi õiguse kas TESS Petroleumile , TESS ABle või mõnele fiktiivsele firmale .\\nSeejuures võltsiti dokumente .\\nÜhtlasi löödi paberitele tempel , et tollikontroll on läbitud ja vajalikud maksud makstud .\\nPärast seda müüdi nafta kas Lätis või toimetati edasi Läände .\\nSaadud r\\n\\n<skipping 4866 characters>\\n\\nvahe on 696060 dollarit , mis annab vahendustasuks 26,9 protsenti .\\n\\nAsjad ei ole kaugeltki klaarid\\n\\n1992. aasta 4. detsembri dekreedist alates on rublamüügi korraldajad luisanud nii iseendale kui teistele .\\nJuba rublade näiline üleandmine riigi olematutesse varahoidlatesse näitas , et valmistutakse mahhinatsiooniks .\\nSeejuures püüti päästa ka Eesti Panga mainet rahvusvaheliste rahandusorganisatsioonide silmis .\\nPärast seda aeti asju koguni allilmaga .\\n\\nKüllap loodeti seejuures , et hilisemat uurimist suudetakse kas vältida või tupikusse juhtida .\\nMõneti on see ka õnnestunud .\\nRiigikontroll sai kontrollida ainult riigiasutusi .\\nPärast seda andis ta uurimise üle politseile , kus kriminaalasi taheti üldse lõpetada .\\nSeejärel tegi tollane siseminister Kaido Kama kaitsepolitseile ülesandeks selgitada välja rublamüügi asjaolud .\\nKuid uurimine on taas kolmveerand aastat seisnud .\\n\\nSamal ajal jõudsid lätlased Balti naftamaffia jälile ja sealtkaudu on selgunud üht-teist ka rublatehingu kohta .')"
      ]
     },
     "execution_count": 14,
     "metadata": {},
     "output_type": "execute_result"
    }
   ],
   "source": [
    "ner_tagger.tag( test_text )"
   ]
  },
  {
   "cell_type": "code",
   "execution_count": 15,
   "id": "9d92b8ad",
   "metadata": {},
   "outputs": [
    {
     "data": {
      "text/html": [
       "<table border=\"1\" class=\"dataframe\">\n",
       "  <thead>\n",
       "    <tr style=\"text-align: right;\">\n",
       "      <th>text</th>\n",
       "    </tr>\n",
       "  </thead>\n",
       "  <tbody>\n",
       "    <tr>\n",
       "      <td><div align = \"left\">RAIVO PALMARU , “ Sõnumileht ”</br></br>Rublatehing oli seotud kütuse salakaubandusega .</br>Sellisele järeldusele jõudsid naftaäri kriminaalasja uurimise käigus Läti juurdlusorganid .</br>Rootsis registreeritud firma sildi all tegutsenud grupp tellis Eestis rahareformi ajal kokku korjatud rublade veoks lennukid ja vähemalt 500 miljoni rubla müügi korraldas selle grupiga seotud Eesti ärimees .</br>Saadud raha on varjul Küprose pangas .</br></br>Pank lõhkise küna ees</br></br>Eesti Panga ( EP ) andmetel vahetati rahareformi käigus kroonide vastu  2 259 669 091  rubla .</br>Lisaks sellele oli panga varahoidlates veel  4 396 739  rubla .</br></br>Rahareformi esimesel päeval , 20. juunil 1992 , sõlmisid Eesti Vabariigi valitsus ja Vene Föderatsiooni valitsus omavahelise kokkuleppe vastastikustest kohustustest seoses Eesti Vabariigi rahvusliku valuuta käibelevõtmisega .</br>Sellele kirjutasid alla Eesti peaminister Tiit Vähi ja Vene valitsuse aseesimees Aleksandr Sohhin .</br></br>Kokkuleppe 5. artikkel nägi ette , et Eesti pool annab kõik rahavahetuse käigus kokku kogutud rublad kuu aja jooksul üle Venemaa keskpangale .</br>Täpsustamata jäid aga raha üleandmise tingimused .</br></br>See kokkulepe jäi täitmata nii Venemaa kui ka Eesti poolt .</br>Nõnda jäi umbes 70 tonni rublasid Eesti Panga varahoidlasse .</br>Kokkuleppele viidates nõudsid venelased raha tagasi , samas aga teatasid , et nad ei kanna vastutust Eesti Hoiupanga ( NSVLi Hoiupanga EVP ) hoiustajate ees .</br>Ka nende hoiuste kogusumma moodustas umbes kaks miljardit rubla ning EP oli sunnitud võtma vastavad garantiikohustused endale .</br></br>Bo Kragh soovitas rublad müüa</br></br>Esimest korda arutas Eesti Panga nõukogu kujunenud olukorda 7. oktoobril 1992.</br>Vastavad kirjalikud ettepanekud esitas panga tollane asepresident Bo Kragh .</br>Ta leidis , et EP garantiikohustuste ulatuses tuleks teha tasaarvestus .</br>Ühtlasi soovitas Kragh rublad müüa Eesti valuutaoksjonitel , anda Eesti Kütusele rublakrediiti naftatoodete ostmiseks või anda osa rublasid remigratsioonifondile .</br></br>EP nõukogu aktsepteeris asepresidendi soovitusi ja tegi panga presidendile Siim Kallasele ülesandeks pidada rublade saatuse küsimuses nõu presidendi , Riigikogu esimehe , peaministri ja välisministriga .</br></br>1992. aasta 28. oktoobril arutas Eesti Panga nõukogu asja veel kord ja otsustas , et kui läbirääkimised Moskvas külmutatud Eesti Vabariigi aktivate tagasisaamise üle ei anna 15. novembriks tulemusi , volitab panga nõukogu Siim Kallast teatama valitsusele panga valmisolekust kuulutada välja tasaarvestus .</br></br>Oma teeneid pakkusid Silvesja Apananski</br></br>Pärast seda nähti Siim Kallast sageli Toompeal .</br>4. detsembril 1992 andis rahareformikomitee välja dekreedi nr. 40.</br>Selles otsustati vabastada Eesti Panga ja kommertspankade hoidlad sularaharubladest , realiseerida rublad ja säilitada nende realiseerimisel konfidentsiaalsus .</br>Dekreedile kirjutas alla peaminister Mart Laar .</br></br>Samal päeval kirjutasid peaminister ja Eesti Panga president alla protokollile , milles märgitakse : “ Eesti Pank ja Eesti Vabariigi valitsus leppisid kokku , et seoses ruumipuudusega Eesti Panga varahoidlates antakse rahareformi käigus elanikelt ja firmadelt kokku kogutud sularaharublad vastutavale hoiule Eesti Vabariigi valitsuse varahoidlatesse . ”</br></br>Teatavasti ei ole valitsusel mingeid varahoidlaid .</br></br>Pärast seda asus rublamüüki korraldama peaministri nõunik Tiit Pruuli .</br>Tõsi , mõningaid samme oli astutud juba enne 4. detsembri dekreeti .</br>24. novembril käis peaministri jutul tuntud ärinaine Tiiu Silves , kellega räägiti rublade müügist ja lepiti kokku , et vajaduse korral võtab Silvesega ühendust Pruuli .</br></br>Teist korda kohtus Pruuli Silvesega 7. detsembril 1992.</br>Kuid peaministri nõunikule Silves ei meeldinud ja ta väljendas seda ka valitsuse istungil .</br></br>Enam-vähem samal ajal pakkus ennast vahendajaks Leonid Apananski .</br>Ent temale vastati tollase standardfraasiga : rublad on alles ja vastavalt lepingule antakse need üle Vene poolele .</br></br>Panus maagidele</br></br>Seejärel asus Tiit Pruuli läbi rääkima Soomes registreeritud Maag OY omanike Marek Strandbergi ja Agu Kivimäega .</br></br>Rublatehingu korraldamiseks oli Pruuli saanud peaministrilt kaks lähteülesannet : tagatud peab olema täielik konfidentsiaalsus ja edu .</br>Viimane tähendanud Pruuli sõnul seda , et raha ei konfiskeeritaks , et operatsioon ei tuleks avalikuks ja et riik saaks võimalikult suure rahasumma .</br></br>Mingit kirjalikku kokkulepet Pruuli ja Maag OY omanikud ei sõlminud .</br>Seni ainsad teadaolevad paberid rublade üleandmise kohta on kolm Pruuli ja Strandbergi poolt alla kirjutatud akti .</br>Maagide sõnul olnud tehingu üks tingimus , et sellest ei jääks väljapoole riigiasutusi ühtegi dokumenti .</br></br>Varahoidlast otse lennuväljale</br></br>Sularaharublasid anti vahendajatele üle neljal korral .</br>1992. aasta 22. detsembri käskkirjaga nr. 17-02/020 andis EP president Siim Kallas emissiooniosakonnale korralduse väljastada valitsuse varahoidla vastutavale hoiule 500 miljonit rubla .</br></br>Järgmisel päeval kirjutasid Pruuli ning panga varahoidla juhataja Heintalu , peakassapidaja Rogulin ja varahoidla raamatupidaja Mertvetsova alla rublade vastutavale hoiule andmise-võtmise aktile , millega valitsuse varahoidlasse anti 500 miljonit rubla .</br></br>Samal päeval kirjutasid Pruuli ja Strandberg alla aktile rahareformi käigus kogutud sularaharublade realiseerimise kohta .</br>Selles märgitakse , et Pruuli annab 500 miljonit rubla üle Maag OY esindajale Marek Strandbergile , kes “ tagab nimetatud koguse rublade vahetamise vabalt konverteeritavaks valuutaks Eesti Vabariigi kontode kasuks esimesel nõudmisel ” .</br></br>Pärast seda transporditi rublad Eesti Panga autodega Tallinna lennuväljale .</br>Operatsiooni juhatas EP turvateenistuse ülem Marko Tibar .</br></br>Kokkuleppe kohaselt ootas Pruuli Tibarit lennuvälja väravas .</br>Üheskoos sõideti lennuväljale , kus autosid ootas Läti lennukompanii lennuk AN 26 , mis lendas marsruudil Riia-Tallin-Minsk .</br>Lennuk maandus Tallinnas 23. detsembril kell 14.10.</br>Umbes tunni jooksul laadisid Eesti Panga relvastatud töötajad pappkastidesse pakitud rublad lennukisse ja see startis kell 16.00 teadmata suunas .</br></br>Sama skeemi järgi arenesid sündmused ka järgmisel korral .</br>13. jaanuaril 1993 andis Siim Kallas välja käskkirja nr. 17-02/2 neljasaja miljoni rubla üleandmise kohta valitsuse varahoidlasse .</br>14. jaanuaril kirjutasid Pruuli , Heintalu , Rogulin ja Mertvetsova alla rublade vastutavale hoiule andmise aktile ning Pruuli ja Strandberg rublade realiseerimise aktile .</br></br>Taas viisid panga autod Tibari juhtimisel rublad Tallinna lennuväljale , kus neid ootas Läti lennukompanii AN 26.</br>Seekord lendas lennuk marsruudil Rotterdam-Tallinn-Riia , maandus Tallinnas kell 19.21 ja tõusis õhku 21.30.</br></br>Tolliameti teatel ei ole neil andmeid sularaharublade väljaviimise kohta 23. detsembril 1992 ega ka 14. jaanuaril 1993.</br></br>Eesti riigijuhid krediteerisid Balti naftamaffiat ?</br></br>Lätis on algatatud kriminaalasi , mille käigus TESS AB nime all tegutsevat Rustem Kadõrovi grupeeringut süüdistatakse nafta salakaubaveos Venemaalt Lätisse ja sealt edasi Lääne-Euroopasse .</br></br>Firma on registreeritud Rootsis Helsingboris .</br>Tema tütarfirmad tegutsevad Lätis ( TESS Petroleum ) ja Eestis ( TESS Finantside AS ) , mis 1993. aastal reorganiseeriti FTB Trust Eesti ASiks .</br>Viimase juhatuse esimees on endine piirivalveohvitser Aleksander Rubis .</br></br>Nafta salakaubaveo skeem oli lihtne .</br>Kõigepealt sõlmiti Venemaal lepingud nafta tarnimiseks Kaliningradi firmale Eskado Luks .</br>Seejuures maksti raha ette .</br>Läti uurimisorganite andmetel oli Kadõrov leppinud Rubisega kokku , et ülekanne Venemaale tehakse Eestis asuvast NoWe pangast .</br></br>Pärast seda , kui nafta eest oli makstud , pidid naftatsisternid minema Venemaalt Läti kaudu transiidina Kaliningradi .</br>Ent niipea , kui vagunid Lätisse jõudsid , loovutas Eskado Luks nafta ostu-müügi õiguse kas TESS Petroleumile , TESS ABle või mõnele fiktiivsele firmale .</br>Seejuures võltsiti dokumente .</br>Ühtlasi löödi paberitele tempel , et tollikontroll on läbitud ja vajalikud maksud makstud .</br>Pärast seda müüdi nafta kas Lätis või toimetati edasi Läände .</br>Saadud r</br></br>&lt;skipping 4866 characters&gt;</br></br>vahe on 696060 dollarit , mis annab vahendustasuks 26,9 protsenti .</br></br>Asjad ei ole kaugeltki klaarid</br></br>1992. aasta 4. detsembri dekreedist alates on rublamüügi korraldajad luisanud nii iseendale kui teistele .</br>Juba rublade näiline üleandmine riigi olematutesse varahoidlatesse näitas , et valmistutakse mahhinatsiooniks .</br>Seejuures püüti päästa ka Eesti Panga mainet rahvusvaheliste rahandusorganisatsioonide silmis .</br>Pärast seda aeti asju koguni allilmaga .</br></br>Küllap loodeti seejuures , et hilisemat uurimist suudetakse kas vältida või tupikusse juhtida .</br>Mõneti on see ka õnnestunud .</br>Riigikontroll sai kontrollida ainult riigiasutusi .</br>Pärast seda andis ta uurimise üle politseile , kus kriminaalasi taheti üldse lõpetada .</br>Seejärel tegi tollane siseminister Kaido Kama kaitsepolitseile ülesandeks selgitada välja rublamüügi asjaolud .</br>Kuid uurimine on taas kolmveerand aastat seisnud .</br></br>Samal ajal jõudsid lätlased Balti naftamaffia jälile ja sealtkaudu on selgunud üht-teist ka rublatehingu kohta .</div></td>\n",
       "    </tr>\n",
       "  </tbody>\n",
       "</table>\n",
       "<h4>Metadata</h4>\n",
       "<table border=\"1\" class=\"dataframe\">\n",
       "  <tbody>\n",
       "    <tr>\n",
       "      <td>ajalehenumber</td>\n",
       "      <td>Postimees 1995.12.07</td>\n",
       "    </tr>\n",
       "    <tr>\n",
       "      <td>alamrubriik</td>\n",
       "      <td></td>\n",
       "    </tr>\n",
       "    <tr>\n",
       "      <td>alaosa</td>\n",
       "      <td>Põhileht</td>\n",
       "    </tr>\n",
       "    <tr>\n",
       "      <td>author</td>\n",
       "      <td>RAIVO PALMARU , “ Sõnumileht ”</td>\n",
       "    </tr>\n",
       "    <tr>\n",
       "      <td>document_creation_time</td>\n",
       "      <td>2024-02-12T15:59</td>\n",
       "    </tr>\n",
       "    <tr>\n",
       "      <td>rubriik</td>\n",
       "      <td>Krimi uudised</td>\n",
       "    </tr>\n",
       "    <tr>\n",
       "      <td>title</td>\n",
       "      <td>Rublamüügiga võib olla seotud Balti naftamaffia</td>\n",
       "    </tr>\n",
       "    <tr>\n",
       "      <td>type</td>\n",
       "      <td>artikkel</td>\n",
       "    </tr>\n",
       "  </tbody>\n",
       "</table>\n",
       "<table border=\"1\" class=\"dataframe\">\n",
       "  <thead>\n",
       "    <tr style=\"text-align: right;\">\n",
       "      <th>layer name</th>\n",
       "      <th>attributes</th>\n",
       "      <th>parent</th>\n",
       "      <th>enveloping</th>\n",
       "      <th>ambiguous</th>\n",
       "      <th>span count</th>\n",
       "    </tr>\n",
       "  </thead>\n",
       "  <tbody>\n",
       "    <tr>\n",
       "      <td>sentences</td>\n",
       "      <td></td>\n",
       "      <td>None</td>\n",
       "      <td>words</td>\n",
       "      <td>False</td>\n",
       "      <td>138</td>\n",
       "    </tr>\n",
       "    <tr>\n",
       "      <td>tokens</td>\n",
       "      <td></td>\n",
       "      <td>None</td>\n",
       "      <td>None</td>\n",
       "      <td>False</td>\n",
       "      <td>2099</td>\n",
       "    </tr>\n",
       "    <tr>\n",
       "      <td>compound_tokens</td>\n",
       "      <td>type, normalized</td>\n",
       "      <td>None</td>\n",
       "      <td>tokens</td>\n",
       "      <td>False</td>\n",
       "      <td>61</td>\n",
       "    </tr>\n",
       "    <tr>\n",
       "      <td>words</td>\n",
       "      <td>normalized_form</td>\n",
       "      <td>None</td>\n",
       "      <td>None</td>\n",
       "      <td>True</td>\n",
       "      <td>2012</td>\n",
       "    </tr>\n",
       "    <tr>\n",
       "      <td>morph_analysis</td>\n",
       "      <td>normalized_text, lemma, root, root_tokens, ending, clitic, form, partofspeech</td>\n",
       "      <td>words</td>\n",
       "      <td>None</td>\n",
       "      <td>True</td>\n",
       "      <td>2012</td>\n",
       "    </tr>\n",
       "    <tr>\n",
       "      <td>stanza_syntax</td>\n",
       "      <td>id, lemma, upostag, xpostag, feats, head, deprel, deps, misc, parent_span, children</td>\n",
       "      <td>morph_analysis</td>\n",
       "      <td>None</td>\n",
       "      <td>False</td>\n",
       "      <td>2012</td>\n",
       "    </tr>\n",
       "    <tr>\n",
       "      <td>ner</td>\n",
       "      <td>nertag</td>\n",
       "      <td>None</td>\n",
       "      <td>words</td>\n",
       "      <td>False</td>\n",
       "      <td>205</td>\n",
       "    </tr>\n",
       "    <tr>\n",
       "      <td>timexes</td>\n",
       "      <td>tid, type, value, temporal_function, anchor_time_id, mod, quant, freq, begin_point, end_point, part_of_interval</td>\n",
       "      <td>None</td>\n",
       "      <td>None</td>\n",
       "      <td>False</td>\n",
       "      <td>41</td>\n",
       "    </tr>\n",
       "  </tbody>\n",
       "</table>"
      ],
      "text/plain": [
       "Text(text='RAIVO PALMARU , “ Sõnumileht ”\\n\\nRublatehing oli seotud kütuse salakaubandusega .\\nSellisele järeldusele jõudsid naftaäri kriminaalasja uurimise käigus Läti juurdlusorganid .\\nRootsis registreeritud firma sildi all tegutsenud grupp tellis Eestis rahareformi ajal kokku korjatud rublade veoks lennukid ja vähemalt 500 miljoni rubla müügi korraldas selle grupiga seotud Eesti ärimees .\\nSaadud raha on varjul Küprose pangas .\\n\\nPank lõhkise küna ees\\n\\nEesti Panga ( EP ) andmetel vahetati rahareformi käigus kroonide vastu  2 259 669 091  rubla .\\nLisaks sellele oli panga varahoidlates veel  4 396 739  rubla .\\n\\nRahareformi esimesel päeval , 20. juunil 1992 , sõlmisid Eesti Vabariigi valitsus ja Vene Föderatsiooni valitsus omavahelise kokkuleppe vastastikustest kohustustest seoses Eesti Vabariigi rahvusliku valuuta käibelevõtmisega .\\nSellele kirjutasid alla Eesti peaminister Tiit Vähi ja Vene valitsuse aseesimees Aleksandr Sohhin .\\n\\nKokkuleppe 5. artikkel nägi ette , et Eesti pool annab kõik rahavahetuse käigus kokku kogutud rublad kuu aja jooksul üle Venemaa keskpangale .\\nTäpsustamata jäid aga raha üleandmise tingimused .\\n\\nSee kokkulepe jäi täitmata nii Venemaa kui ka Eesti poolt .\\nNõnda jäi umbes 70 tonni rublasid Eesti Panga varahoidlasse .\\nKokkuleppele viidates nõudsid venelased raha tagasi , samas aga teatasid , et nad ei kanna vastutust Eesti Hoiupanga ( NSVLi Hoiupanga EVP ) hoiustajate ees .\\nKa nende hoiuste kogusumma moodustas umbes kaks miljardit rubla ning EP oli sunnitud võtma vastavad garantiikohustused endale .\\n\\nBo Kragh soovitas rublad müüa\\n\\nEsimest korda arutas Eesti Panga nõukogu kujunenud olukorda 7. oktoobril 1992.\\nVastavad kirjalikud ettepanekud esitas panga tollane asepresident Bo Kragh .\\nTa leidis , et EP garantiikohustuste ulatuses tuleks teha tasaarvestus .\\nÜhtlasi soovitas Kragh rublad müüa Eesti valuutaoksjonitel , anda Eesti Kütusele rublakrediiti naftatoodete ostmiseks või anda osa rublasid remigratsioonifondile .\\n\\nEP nõukogu aktsepteeris asepresidendi soovitusi ja tegi panga presidendile Siim Kallasele ülesandeks pidada rublade saatuse küsimuses nõu presidendi , Riigikogu esimehe , peaministri ja välisministriga .\\n\\n1992. aasta 28. oktoobril arutas Eesti Panga nõukogu asja veel kord ja otsustas , et kui läbirääkimised Moskvas külmutatud Eesti Vabariigi aktivate tagasisaamise üle ei anna 15. novembriks tulemusi , volitab panga nõukogu Siim Kallast teatama valitsusele panga valmisolekust kuulutada välja tasaarvestus .\\n\\nOma teeneid pakkusid Silvesja Apananski\\n\\nPärast seda nähti Siim Kallast sageli Toompeal .\\n4. detsembril 1992 andis rahareformikomitee välja dekreedi nr. 40.\\nSelles otsustati vabastada Eesti Panga ja kommertspankade hoidlad sularaharubladest , realiseerida rublad ja säilitada nende realiseerimisel konfidentsiaalsus .\\nDekreedile kirjutas alla peaminister Mart Laar .\\n\\nSamal päeval kirjutasid peaminister ja Eesti Panga president alla protokollile , milles märgitakse : “ Eesti Pank ja Eesti Vabariigi valitsus leppisid kokku , et seoses ruumipuudusega Eesti Panga varahoidlates antakse rahareformi käigus elanikelt ja firmadelt kokku kogutud sularaharublad vastutavale hoiule Eesti Vabariigi valitsuse varahoidlatesse . ”\\n\\nTeatavasti ei ole valitsusel mingeid varahoidlaid .\\n\\nPärast seda asus rublamüüki korraldama peaministri nõunik Tiit Pruuli .\\nTõsi , mõningaid samme oli astutud juba enne 4. detsembri dekreeti .\\n24. novembril käis peaministri jutul tuntud ärinaine Tiiu Silves , kellega räägiti rublade müügist ja lepiti kokku , et vajaduse korral võtab Silvesega ühendust Pruuli .\\n\\nTeist korda kohtus Pruuli Silvesega 7. detsembril 1992.\\nKuid peaministri nõunikule Silves ei meeldinud ja ta väljendas seda ka valitsuse istungil .\\n\\nEnam-vähem samal ajal pakkus ennast vahendajaks Leonid Apananski .\\nEnt temale vastati tollase standardfraasiga : rublad on alles ja vastavalt lepingule antakse need üle Vene poolele .\\n\\nPanus maagidele\\n\\nSeejärel asus Tiit Pruuli läbi rääkima Soomes registreeritud Maag OY omanike Marek Strandbergi ja Agu Kivimäega .\\n\\nRublatehingu korraldamiseks oli Pruuli saanud peaministrilt kaks lähteülesannet : tagatud peab olema täielik konfidentsiaalsus ja edu .\\nViimane tähendanud Pruuli sõnul seda , et raha ei konfiskeeritaks , et operatsioon ei tuleks avalikuks ja et riik saaks võimalikult suure rahasumma .\\n\\nMingit kirjalikku kokkulepet Pruuli ja Maag OY omanikud ei sõlminud .\\nSeni ainsad teadaolevad paberid rublade üleandmise kohta on kolm Pruuli ja Strandbergi poolt alla kirjutatud akti .\\nMaagide sõnul olnud tehingu üks tingimus , et sellest ei jääks väljapoole riigiasutusi ühtegi dokumenti .\\n\\nVarahoidlast otse lennuväljale\\n\\nSularaharublasid anti vahendajatele üle neljal korral .\\n1992. aasta 22. detsembri käskkirjaga nr. 17-02/020 andis EP president Siim Kallas emissiooniosakonnale korralduse väljastada valitsuse varahoidla vastutavale hoiule 500 miljonit rubla .\\n\\nJärgmisel päeval kirjutasid Pruuli ning panga varahoidla juhataja Heintalu , peakassapidaja Rogulin ja varahoidla raamatupidaja Mertvetsova alla rublade vastutavale hoiule andmise-võtmise aktile , millega valitsuse varahoidlasse anti 500 miljonit rubla .\\n\\nSamal päeval kirjutasid Pruuli ja Strandberg alla aktile rahareformi käigus kogutud sularaharublade realiseerimise kohta .\\nSelles märgitakse , et Pruuli annab 500 miljonit rubla üle Maag OY esindajale Marek Strandbergile , kes “ tagab nimetatud koguse rublade vahetamise vabalt konverteeritavaks valuutaks Eesti Vabariigi kontode kasuks esimesel nõudmisel ” .\\n\\nPärast seda transporditi rublad Eesti Panga autodega Tallinna lennuväljale .\\nOperatsiooni juhatas EP turvateenistuse ülem Marko Tibar .\\n\\nKokkuleppe kohaselt ootas Pruuli Tibarit lennuvälja väravas .\\nÜheskoos sõideti lennuväljale , kus autosid ootas Läti lennukompanii lennuk AN 26 , mis lendas marsruudil Riia-Tallin-Minsk .\\nLennuk maandus Tallinnas 23. detsembril kell 14.10.\\nUmbes tunni jooksul laadisid Eesti Panga relvastatud töötajad pappkastidesse pakitud rublad lennukisse ja see startis kell 16.00 teadmata suunas .\\n\\nSama skeemi järgi arenesid sündmused ka järgmisel korral .\\n13. jaanuaril 1993 andis Siim Kallas välja käskkirja nr. 17-02/2 neljasaja miljoni rubla üleandmise kohta valitsuse varahoidlasse .\\n14. jaanuaril kirjutasid Pruuli , Heintalu , Rogulin ja Mertvetsova alla rublade vastutavale hoiule andmise aktile ning Pruuli ja Strandberg rublade realiseerimise aktile .\\n\\nTaas viisid panga autod Tibari juhtimisel rublad Tallinna lennuväljale , kus neid ootas Läti lennukompanii AN 26.\\nSeekord lendas lennuk marsruudil Rotterdam-Tallinn-Riia , maandus Tallinnas kell 19.21 ja tõusis õhku 21.30.\\n\\nTolliameti teatel ei ole neil andmeid sularaharublade väljaviimise kohta 23. detsembril 1992 ega ka 14. jaanuaril 1993.\\n\\nEesti riigijuhid krediteerisid Balti naftamaffiat ?\\n\\nLätis on algatatud kriminaalasi , mille käigus TESS AB nime all tegutsevat Rustem Kadõrovi grupeeringut süüdistatakse nafta salakaubaveos Venemaalt Lätisse ja sealt edasi Lääne-Euroopasse .\\n\\nFirma on registreeritud Rootsis Helsingboris .\\nTema tütarfirmad tegutsevad Lätis ( TESS Petroleum ) ja Eestis ( TESS Finantside AS ) , mis 1993. aastal reorganiseeriti FTB Trust Eesti ASiks .\\nViimase juhatuse esimees on endine piirivalveohvitser Aleksander Rubis .\\n\\nNafta salakaubaveo skeem oli lihtne .\\nKõigepealt sõlmiti Venemaal lepingud nafta tarnimiseks Kaliningradi firmale Eskado Luks .\\nSeejuures maksti raha ette .\\nLäti uurimisorganite andmetel oli Kadõrov leppinud Rubisega kokku , et ülekanne Venemaale tehakse Eestis asuvast NoWe pangast .\\n\\nPärast seda , kui nafta eest oli makstud , pidid naftatsisternid minema Venemaalt Läti kaudu transiidina Kaliningradi .\\nEnt niipea , kui vagunid Lätisse jõudsid , loovutas Eskado Luks nafta ostu-müügi õiguse kas TESS Petroleumile , TESS ABle või mõnele fiktiivsele firmale .\\nSeejuures võltsiti dokumente .\\nÜhtlasi löödi paberitele tempel , et tollikontroll on läbitud ja vajalikud maksud makstud .\\nPärast seda müüdi nafta kas Lätis või toimetati edasi Läände .\\nSaadud r\\n\\n<skipping 4866 characters>\\n\\nvahe on 696060 dollarit , mis annab vahendustasuks 26,9 protsenti .\\n\\nAsjad ei ole kaugeltki klaarid\\n\\n1992. aasta 4. detsembri dekreedist alates on rublamüügi korraldajad luisanud nii iseendale kui teistele .\\nJuba rublade näiline üleandmine riigi olematutesse varahoidlatesse näitas , et valmistutakse mahhinatsiooniks .\\nSeejuures püüti päästa ka Eesti Panga mainet rahvusvaheliste rahandusorganisatsioonide silmis .\\nPärast seda aeti asju koguni allilmaga .\\n\\nKüllap loodeti seejuures , et hilisemat uurimist suudetakse kas vältida või tupikusse juhtida .\\nMõneti on see ka õnnestunud .\\nRiigikontroll sai kontrollida ainult riigiasutusi .\\nPärast seda andis ta uurimise üle politseile , kus kriminaalasi taheti üldse lõpetada .\\nSeejärel tegi tollane siseminister Kaido Kama kaitsepolitseile ülesandeks selgitada välja rublamüügi asjaolud .\\nKuid uurimine on taas kolmveerand aastat seisnud .\\n\\nSamal ajal jõudsid lätlased Balti naftamaffia jälile ja sealtkaudu on selgunud üht-teist ka rublatehingu kohta .')"
      ]
     },
     "execution_count": 15,
     "metadata": {},
     "output_type": "execute_result"
    }
   ],
   "source": [
    "test_text.tag_layer('timexes')"
   ]
  },
  {
   "cell_type": "markdown",
   "id": "33cc50cd",
   "metadata": {},
   "source": [
    "### Teksti salvestamine JSON-formaadis"
   ]
  },
  {
   "cell_type": "code",
   "execution_count": 18,
   "id": "a47cb5a0",
   "metadata": {},
   "outputs": [],
   "source": [
    "text_json = text_to_json( test_text )"
   ]
  },
  {
   "cell_type": "code",
   "execution_count": 21,
   "id": "48b64fed",
   "metadata": {},
   "outputs": [],
   "source": [
    "with open('test_text.json', 'w') as f:\n",
    "    json.dump( text_json, f )"
   ]
  }
 ],
 "metadata": {
  "kernelspec": {
   "display_name": "Python 3 (ipykernel)",
   "language": "python",
   "name": "python3"
  },
  "language_info": {
   "codemirror_mode": {
    "name": "ipython",
    "version": 3
   },
   "file_extension": ".py",
   "mimetype": "text/x-python",
   "name": "python",
   "nbconvert_exporter": "python",
   "pygments_lexer": "ipython3",
   "version": "3.10.11"
  }
 },
 "nbformat": 4,
 "nbformat_minor": 5
}
