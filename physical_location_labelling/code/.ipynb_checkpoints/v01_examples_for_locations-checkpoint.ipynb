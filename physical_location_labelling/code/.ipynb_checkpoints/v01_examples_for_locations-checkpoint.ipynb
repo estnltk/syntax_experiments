{
 "cells": [
  {
   "cell_type": "markdown",
   "id": "b0266a45-d225-4a93-9013-cecf8dd6dd67",
   "metadata": {},
   "source": [
    "## Finding example phrases and forms for annotation\n",
    "\n",
    "Task: Annotate 1000 random obliques that appear in a locative case in the corpus for concrete locations, abstract locations and time. For better annotation examples of how the words appeared in the corpus are needed. This notebook is for searching for usage examples for words from [a database file created on the basis of the Estonian Reference corpus](https://github.com/estnltk/syntax_experiments/tree/verb_templates/verb_transactions/v33).\n",
    "\n",
    "The possible location words are from kohasonad_test.csv, which was made with v01_locations_by_verb.ipynb. Here we take 1000 random lemmas from that file to annotate. For ease of annotation we add the form and verbphrase the word appeared in"
   ]
  },
  {
   "cell_type": "code",
   "execution_count": 22,
   "id": "25852a8b-9413-43e8-b623-11a4376bac26",
   "metadata": {},
   "outputs": [],
   "source": [
    "import pandas as pd\n",
    "import random\n",
    "import sqlite3"
   ]
  },
  {
   "cell_type": "code",
   "execution_count": 57,
   "id": "be15060b-1490-44c4-b36f-13e88167c310",
   "metadata": {},
   "outputs": [],
   "source": [
    "# andmebaasi failinimi, kust andmeid loetake\n",
    "filename = \"C:\\\\Users\\\\kertu.saul\\\\OneDrive - Eesti Keele Instituut\\\\Dokumendid\\\\doktoritoo\\\\ressurssid\\\\rektsioonid\\\\katrin\\\\andmebaasifailid\\\\v33_koondkorpus_transaktsioonid.db\"\n",
    "\n",
    "# andmebaasiga ühenduse loomine\n",
    "conn = sqlite3.connect(filename)\n",
    "cursor = conn.cursor()"
   ]
  },
  {
   "cell_type": "code",
   "execution_count": 94,
   "id": "c55bed09-000b-4511-b680-152cc96ff10d",
   "metadata": {},
   "outputs": [],
   "source": [
    "#tagastab andmebaasist lemma, sõnavormi ja näitefraasi iga kasutaja määratud sõna kohta, mis kasutaja määratud verbiga esineb \n",
    "def kohad_naidetega(verbid):\n",
    "    query = (f\"SELECT lemma, transaction_row.form, phrase FROM `transaction_row` JOIN `transaction_head` ON transaction_head.id = transaction_row.head_id \"\n",
    "             f\"WHERE verb IN ({','.join('?' for _ in verbid)}) AND lemma IN (SELECT lemma FROM temp_lemmad) AND transaction_row.deprel = 'obl' \"\n",
    "             f\"AND (transaction_row.feats LIKE ? OR transaction_row.feats LIKE ? OR transaction_row.feats LIKE ? OR transaction_row.feats LIKE ? OR transaction_row.feats LIKE ? OR transaction_row.feats LIKE ? OR transaction_row.feats LIKE ?) \")\n",
    "    cursor.execute(query, verbid + ('%adit%', '%ill%', '%in%', '%el%', '%all%', '%ad%', '%abl%'))\n",
    "    kohad_naidetega = list(cursor.fetchall())\n",
    "    return kohad_naidetega"
   ]
  },
  {
   "cell_type": "code",
   "execution_count": 79,
   "id": "98ae9da9-b1e8-4950-82cf-2b9a144f815f",
   "metadata": {},
   "outputs": [],
   "source": [
    "#võtame 20000 kohakäändes sõnast märgendamiseks 1000 random sõna\n",
    "kohakaandes = pd.read_csv('C:\\\\Users\\\\kertu.saul\\\\OneDrive - Eesti Keele Instituut\\\\Dokumendid\\\\doktoritoo\\\\fyysilised_kohad\\\\syntax_experiments_semantic_labelling\\\\physical_location_labelling\\\\results\\\\kohasonad_test.csv')\n",
    "sonad = kohakaandes['Unnamed: 0'].tolist() #words out\n",
    "sonad_1000 = random.sample(sonad, 1000) #1000 random words\n",
    "sonad_1000 = tuple(sonad_1000)"
   ]
  },
  {
   "cell_type": "code",
   "execution_count": 96,
   "id": "4ad20cd9-ac7f-42dc-a658-770297f041a5",
   "metadata": {},
   "outputs": [
    {
     "data": {
      "text/plain": [
       "<sqlite3.Cursor at 0x2378a38d240>"
      ]
     },
     "execution_count": 96,
     "metadata": {},
     "output_type": "execute_result"
    }
   ],
   "source": [
    "#määrame verbid, mille alluvate seast sõnu ja näiteid otsitakse\n",
    "verbid = ('jooksma', 'kõndima', 'tõttama', 'istuma', 'käima', 'astuma', 'liikuma', 'lahkuma')\n",
    "#loome 1000 sõnaga ajutise tabeli, et sealt pärast päritavaid sõnu filtreerida\n",
    "cursor.execute(\"CREATE TEMPORARY TABLE temp_lemmad (lemma TEXT)\")\n",
    "cursor.executemany(\"INSERT INTO temp_lemmad (lemma) VALUES (?)\", [(lemma,) for lemma in sonad_1000])\n",
    "#teostame andmebaasipäringu, tulemuseks list tupleitest kus on lemma, vorm ja näitefraas\n",
    "naited = kohad_naidetega(verbid)\n",
    "#kustutame ajutise lemmadega tabeli\n",
    "cursor.execute(\"DROP TABLE temp_lemmad\")"
   ]
  },
  {
   "cell_type": "code",
   "execution_count": 99,
   "id": "06a28681-61ca-4240-93e7-c8194708e87d",
   "metadata": {},
   "outputs": [
    {
     "data": {
      "text/html": [
       "<div>\n",
       "<style scoped>\n",
       "    .dataframe tbody tr th:only-of-type {\n",
       "        vertical-align: middle;\n",
       "    }\n",
       "\n",
       "    .dataframe tbody tr th {\n",
       "        vertical-align: top;\n",
       "    }\n",
       "\n",
       "    .dataframe thead th {\n",
       "        text-align: right;\n",
       "    }\n",
       "</style>\n",
       "<table border=\"1\" class=\"dataframe\">\n",
       "  <thead>\n",
       "    <tr style=\"text-align: right;\">\n",
       "      <th></th>\n",
       "      <th>lemma</th>\n",
       "      <th>form</th>\n",
       "      <th>naitelause</th>\n",
       "    </tr>\n",
       "  </thead>\n",
       "  <tbody>\n",
       "    <tr>\n",
       "      <th>0</th>\n",
       "      <td>mina</td>\n",
       "      <td>Mul</td>\n",
       "      <td>Mul käivad tihti peal tujud</td>\n",
       "    </tr>\n",
       "    <tr>\n",
       "      <th>1</th>\n",
       "      <td>kodu</td>\n",
       "      <td>kodus</td>\n",
       "      <td>kes jõulude ajal ajal kodus käis</td>\n",
       "    </tr>\n",
       "    <tr>\n",
       "      <th>2</th>\n",
       "      <td>baar</td>\n",
       "      <td>baaris</td>\n",
       "      <td>Istusin baaris</td>\n",
       "    </tr>\n",
       "    <tr>\n",
       "      <th>6</th>\n",
       "      <td>pooltund</td>\n",
       "      <td>pooltunnil</td>\n",
       "      <td>Meediamagnaat LUIK lahkus koos koos kaaslase S...</td>\n",
       "    </tr>\n",
       "    <tr>\n",
       "      <th>8</th>\n",
       "      <td>mõte</td>\n",
       "      <td>mõttes</td>\n",
       "      <td>käib mõttes tema pärast pärast vahet</td>\n",
       "    </tr>\n",
       "    <tr>\n",
       "      <th>...</th>\n",
       "      <td>...</td>\n",
       "      <td>...</td>\n",
       "      <td>...</td>\n",
       "    </tr>\n",
       "    <tr>\n",
       "      <th>16310</th>\n",
       "      <td>am</td>\n",
       "      <td>am</td>\n",
       "      <td>tglt am lahkun</td>\n",
       "    </tr>\n",
       "    <tr>\n",
       "      <th>16324</th>\n",
       "      <td>maurus</td>\n",
       "      <td>mauruses</td>\n",
       "      <td>mina olen see nädal korda mauruses käinud</td>\n",
       "    </tr>\n",
       "    <tr>\n",
       "      <th>16558</th>\n",
       "      <td>ltsimaja</td>\n",
       "      <td>ltsimajas</td>\n",
       "      <td>mehed käivad ltsimajas</td>\n",
       "    </tr>\n",
       "    <tr>\n",
       "      <th>16594</th>\n",
       "      <td>ristimine</td>\n",
       "      <td>ristimisel</td>\n",
       "      <td>ma käisin täna ristimisel</td>\n",
       "    </tr>\n",
       "    <tr>\n",
       "      <th>16660</th>\n",
       "      <td>läbitömbam</td>\n",
       "      <td>läbitömbamas</td>\n",
       "      <td>jerait ta käis läbitömbamas</td>\n",
       "    </tr>\n",
       "  </tbody>\n",
       "</table>\n",
       "<p>1000 rows × 3 columns</p>\n",
       "</div>"
      ],
      "text/plain": [
       "            lemma          form  \\\n",
       "0            mina           Mul   \n",
       "1            kodu         kodus   \n",
       "2            baar        baaris   \n",
       "6        pooltund    pooltunnil   \n",
       "8            mõte        mõttes   \n",
       "...           ...           ...   \n",
       "16310          am            am   \n",
       "16324      maurus      mauruses   \n",
       "16558    ltsimaja     ltsimajas   \n",
       "16594   ristimine    ristimisel   \n",
       "16660  läbitömbam  läbitömbamas   \n",
       "\n",
       "                                              naitelause  \n",
       "0                            Mul käivad tihti peal tujud  \n",
       "1                       kes jõulude ajal ajal kodus käis  \n",
       "2                                         Istusin baaris  \n",
       "6      Meediamagnaat LUIK lahkus koos koos kaaslase S...  \n",
       "8                   käib mõttes tema pärast pärast vahet  \n",
       "...                                                  ...  \n",
       "16310                                     tglt am lahkun  \n",
       "16324          mina olen see nädal korda mauruses käinud  \n",
       "16558                             mehed käivad ltsimajas  \n",
       "16594                          ma käisin täna ristimisel  \n",
       "16660                        jerait ta käis läbitömbamas  \n",
       "\n",
       "[1000 rows x 3 columns]"
      ]
     },
     "execution_count": 99,
     "metadata": {},
     "output_type": "execute_result"
    }
   ],
   "source": [
    "#paneme tulemused dataframei\n",
    "naite_df = pd.DataFrame(naited, columns =['lemma', 'form', 'naitelause'])\n",
    "#võtame iga sõna jaoks ainult esimese näite\n",
    "naited_unique = naite_df.drop_duplicates(subset='lemma', keep='first')\n",
    "naited_unique"
   ]
  },
  {
   "cell_type": "code",
   "execution_count": 100,
   "id": "808e46a9-2f28-49cc-b1ac-e39d7324ddc6",
   "metadata": {},
   "outputs": [],
   "source": [
    "#salvestame csv faili \n",
    "teekond = 'C:\\\\Users\\\\kertu.saul\\\\OneDrive - Eesti Keele Instituut\\\\Dokumendid\\\\doktoritoo\\\\fyysilised_kohad\\\\syntax_experiments_semantic_labelling\\\\physical_location_labelling\\\\results\\\\kohasonad_naited.csv'\n",
    "naited_unique.to_csv(teekond)"
   ]
  },
  {
   "cell_type": "markdown",
   "id": "ecac936d-70f4-48cd-9fa7-a46d0962a656",
   "metadata": {},
   "source": [
    "## Tagging words as places\n",
    "I'll be using 3 tags: \n",
    "* time: words denoting time such as ...\n",
    "* place_c: concrete places that physically exist, for example\n",
    "    * placenames: Bristol, Sepphoris\n",
    "    * buildings: pangamaja\n",
    "    * physical objects: esikohapoodium\n",
    "* place_a: abstract places\n",
    "    * things that aren't visible but do exist: Wifi\n",
    "    * activities/events you have to physically go to: tantsutrenn, missivalimised \n",
    "\n",
    "tags: time, place_c (concrete place), place_a (abstract place) "
   ]
  }
 ],
 "metadata": {
  "kernelspec": {
   "display_name": "Python 3 (ipykernel)",
   "language": "python",
   "name": "python3"
  },
  "language_info": {
   "codemirror_mode": {
    "name": "ipython",
    "version": 3
   },
   "file_extension": ".py",
   "mimetype": "text/x-python",
   "name": "python",
   "nbconvert_exporter": "python",
   "pygments_lexer": "ipython3",
   "version": "3.12.7"
  }
 },
 "nbformat": 4,
 "nbformat_minor": 5
}
