{
 "cells": [
  {
   "cell_type": "markdown",
   "id": "91567be8-31d6-4639-af22-5e4653e26495",
   "metadata": {},
   "source": [
    "### Siin katsetatakse sagedaste obliikvaliste ajamääruste väljavõtmist Heiki-Jaan Kaalep tehtud tabelist.\n",
    "Tabel on tehtud koondkorpuse põhjal, kus sõnadele on erinevate reeglite ja taggerite tulemusel pandud külge määruse tüübid.\n",
    "Tabel ja selle tegemiseks kasutatud kood on saadaval [siin lingil](http://kodu.ut.ee/~hkaalep/kertule/kogutöö.zip)."
   ]
  },
  {
   "cell_type": "code",
   "execution_count": 1,
   "id": "e9077069-37cc-4947-b066-4cea165a2534",
   "metadata": {},
   "outputs": [],
   "source": [
    "#impordid\n",
    "import pandas as pd\n",
    "from pandas import *\n",
    "import csv\n",
    "\n",
    "heiki_file = \"C:\\\\Users\\\\kertu.saul\\\\OneDrive - Eesti Keele Instituut\\\\Dokumendid\\\\doktoritoo\\\\ressurssid\\\\aeg_koht_elusus\\\\v11_tabel_m3.csv\"\n",
    "heiki_df = read_csv(heiki_file, sep=';', header=None)\n",
    "#võtame ainult meid huvitavad veerud: lemma, määrus ja sagedus\n",
    "sona_maarus_freq = heiki_df.filter([3,10,11], axis=1)\n",
    "sona_maarus_freq.rename(columns={3: 'lemma', 10: \"maarus\", 11: 'sagedus'}, inplace=True)\n",
    "#ainult ajamäärused\n",
    "ajad = sona_maarus_freq.loc[sona_maarus_freq['maarus'] == 'ajam']\n",
    "#kuna lemmad on verbipõhiselt nad korduvad, nii et grupeerime need ja summeerime nende sagedused\n",
    "ajad = ajad.groupby(['lemma']).agg({'sagedus': 'sum'})\n",
    "#paneme kahanevasse järjekorda ja salvestame kõik ajamääruse tagi saanud sõnad koos sagedusega csv-sse\n",
    "ajad = ajad.sort_values(by=['sagedus'], ascending=False)\n",
    "ajad.to_csv('ajamaarused.csv')\n",
    "\n",
    "#selle esmase vaatluse tulemusel tundus, et esimene kahtlane tuli sagedusel 175, nii et lõikame sealt ära ja salvestame lemmad tekstifaili\n",
    "#võib vabalt muuta seda sageduse cut-off kohta\n",
    "sagedased_ajad = ajad.loc[ajad['sagedus'] > 175]\n",
    "ajalemmad = list(sagedased_ajad.index.values)\n",
    "with open('ajalemmad_sage.txt', 'w') as f:\n",
    "    for line in ajalemmad:\n",
    "        f.write(f\"{line}\\n\")"
   ]
  }
 ],
 "metadata": {
  "kernelspec": {
   "display_name": "Python 3 (ipykernel)",
   "language": "python",
   "name": "python3"
  },
  "language_info": {
   "codemirror_mode": {
    "name": "ipython",
    "version": 3
   },
   "file_extension": ".py",
   "mimetype": "text/x-python",
   "name": "python",
   "nbconvert_exporter": "python",
   "pygments_lexer": "ipython3",
   "version": "3.12.7"
  }
 },
 "nbformat": 4,
 "nbformat_minor": 5
}
