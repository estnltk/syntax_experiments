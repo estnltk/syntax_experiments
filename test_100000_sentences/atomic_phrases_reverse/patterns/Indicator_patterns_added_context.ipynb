{
 "cells": [
  {
   "cell_type": "code",
   "execution_count": 1,
   "id": "201425be",
   "metadata": {},
   "outputs": [],
   "source": [
    "import sqlite3\n",
    "import csv"
   ]
  },
  {
   "cell_type": "code",
   "execution_count": 2,
   "id": "4bb24eaf",
   "metadata": {},
   "outputs": [],
   "source": [
    "con = sqlite3.connect('correct_noun_phrases_2.db')"
   ]
  },
  {
   "cell_type": "code",
   "execution_count": 4,
   "id": "2d1deade",
   "metadata": {},
   "outputs": [],
   "source": [
    "def get_pattern_trees(con):\n",
    "    cur = con.cursor()\n",
    "    cur.execute(\"SELECT pattern_tree, count(*) FROM correct_phrase_patterns_2 GROUP BY pattern_tree ORDER BY count(*) DESC\")\n",
    "    \n",
    "    rows = cur.fetchall()\n",
    "    return rows\n",
    "\n",
    "def get_patterns_ner(con):\n",
    "    con.cursor()\n",
    "    cur.execute(\"SELECT pattern_ner, count(*) FROM correct_phrase_patterns_2 GROUP BY pattern_ner ORDER BY count(*) DESC\")\n",
    "    \n",
    "    rows = cur.fetchall()\n",
    "    \n",
    "    return rows\n",
    "\n",
    "def get_patterns_pos(con):\n",
    "    cur = con.cursor()\n",
    "    cur.execute(\"SELECT pattern_pos, count(*) FROM correct_phrase_patterns_2 GROUP BY pattern_pos ORDER BY count(*) DESC\")\n",
    "\n",
    "    rows = cur.fetchall()\n",
    "    return rows\n",
    "\n",
    "def get_patterns_form(con):\n",
    "    cur = con.cursor()\n",
    "    cur.execute(\"SELECT pattern_form, count(*) FROM correct_phrase_patterns_2 GROUP BY pattern_form ORDER BY count(*) DESC\")\n",
    "\n",
    "    rows = cur.fetchall()\n",
    "    return rows"
   ]
  },
  {
   "cell_type": "code",
   "execution_count": 19,
   "id": "fd3c4495",
   "metadata": {},
   "outputs": [],
   "source": [
    "def get_pattern(con, col_name):\n",
    "    cur = con.cursor()\n",
    "    cur.execute(f\"SELECT {col_name}, count(*) FROM correct_phrase_patterns_2 GROUP BY {col_name} ORDER BY count(*) DESC\")\n",
    "\n",
    "    rows = cur.fetchall()\n",
    "    return rows"
   ]
  },
  {
   "cell_type": "code",
   "execution_count": 20,
   "id": "14c46e69",
   "metadata": {},
   "outputs": [
    {
     "name": "stdout",
     "output_type": "stream",
     "text": [
      "[['OTHER-OTHER-OTHER', '1 2 nmod,2 0 root', '1 2 nmod,2 0 root,3 2 nmod', 'S-S-S', 1206, 0.9757281553398058], ['ORG-OTHER-OTHER', '1 2 nmod,2 0 root', '1 2 nmod,2 0 root,3 2 nmod', 'S-S-S', 30, 0.024271844660194174], ['OTHER-OTHER-OTHER', '1 2 nmod,2 0 root', '1 2 nmod,2 0 root,3 2 nmod', 'S-S-H', 66, 0.55], ['OTHER-OTHER-PER', '1 2 nmod,2 0 root', '1 2 nmod,2 0 root,3 2 nmod', 'S-S-H', 30, 0.25], ['OTHER-OTHER-LOC', '1 2 nmod,2 0 root', '1 2 nmod,2 0 root,3 2 nmod', 'S-S-H', 18, 0.15], ['OTHER-OTHER-ORG', '1 2 nmod,2 0 root', '1 2 nmod,2 0 root,3 2 nmod', 'S-S-H', 6, 0.05], ['LOC-OTHER-OTHER', '1 2 nmod,2 0 root', '1 2 nmod,2 0 root,3 2 nmod', 'H-S-S', 276, 0.7076923076923077], ['ORG-OTHER-OTHER', '1 2 nmod,2 0 root', '1 2 nmod,2 0 root,3 2 nmod', 'H-S-S', 48, 0.12307692307692308], ['OTHER-OTHER-OTHER', '1 2 nmod,2 0 root', '1 2 nmod,2 0 root,3 2 nmod', 'H-S-S', 42, 0.1076923076923077], ['LOC-LOC-OTHER', '1 2 nmod,2 0 root', '1 2 nmod,2 0 root,3 2 nmod', 'H-S-S', 12, 0.03076923076923077], ['PER-OTHER-OTHER', '1 2 nmod,2 0 root', '1 2 nmod,2 0 root,3 2 nmod', 'H-S-S', 6, 0.015384615384615385], ['LOC-OTHER-LOC', '1 2 nmod,2 0 root', '1 2 nmod,2 0 root,3 2 nmod', 'H-S-S', 6, 0.015384615384615385], ['OTHER-OTHER-OTHER', '1 2 nmod,2 0 root', '1 2 nmod,2 0 root,3 2 nmod', 'A-S-S', 6, 1.0], ['LOC-OTHER-OTHER', '1 2 nmod,2 0 root', '1 2 nmod,2 0 root,3 2 nmod', 'H-S-H', 6, 1.0], ['OTHER-OTHER-OTHER', '1 2 nmod,2 0 root', '1 2 nmod,2 0 root,3 2 nmod', 'P-S-S', 96, 0.8888888888888888], ['OTHER-OTHER-LOC', '1 2 nmod,2 0 root', '1 2 nmod,2 0 root,3 2 nmod', 'P-S-S', 12, 0.1111111111111111], ['OTHER-OTHER-OTHER', '1 2 nmod,2 0 root', '1 2 nmod,2 0 root,3 2 nmod', 'S-S-Y', 66, 0.7333333333333333], ['OTHER-OTHER-ORG', '1 2 nmod,2 0 root', '1 2 nmod,2 0 root,3 2 nmod', 'S-S-Y', 24, 0.26666666666666666], ['LOC-OTHER-LOC', '1 2 nmod,2 0 root', '1 2 nmod,2 0 root,3 2 nmod', 'Y-S-H', 6, 1.0], ['ORG-OTHER-OTHER', '1 2 nmod,2 0 root', '1 2 nmod,2 0 root,3 2 nmod', 'Y-S-S', 54, 1.0], ['OTHER-OTHER-PER', '1 2 nmod,2 0 root', '1 2 nmod,2 0 root,3 2 nmod', 'P-S-H', 12, 0.6666666666666666], ['OTHER-OTHER-OTHER', '1 2 nmod,2 0 root', '1 2 nmod,2 0 root,3 2 nmod', 'P-S-H', 6, 0.3333333333333333], ['OTHER-OTHER-OTHER', '1 2 nmod,2 0 root', '1 2 nmod,2 0 root,3 2 nmod', 'P-S-P', 12, 1.0], ['LOC-OTHER-OTHER', '1 2 nmod,2 0 root', '1 2 nmod,2 0 root,3 2 nmod', 'H-S-Y', 12, 1.0], ['LOC-LOC-OTHER', '1 2 nmod,2 0 root', '1 2 nmod,2 0 root,3 2 nmod', 'H-H-S', 12, 0.6666666666666666], ['ORG-ORG-OTHER', '1 2 nmod,2 0 root', '1 2 nmod,2 0 root,3 2 nmod', 'H-H-S', 6, 0.3333333333333333], ['OTHER-ORG-OTHER', '1 2 nmod,2 0 root', '1 2 nmod,2 0 root,3 2 nmod', 'S-Y-S', 6, 1.0], ['OTHER-OTHER-OTHER', '1 2 nmod,2 0 root', '1 2 nmod,2 0 root,3 2 nmod', 'S-Y-H', 6, 1.0], ['OTHER-OTHER-OTHER', '1 2 nmod,2 0 root', '1 2 nmod,2 0 root,3 2 nmod', 'S-V_inf|A-S', 6, 1.0], ['OTHER-OTHER-OTHER', '1 2 nmod,2 0 root', '1 2 nmod,2 0 root,3 2 nmod', 'S-S-P|O', 6, 1.0], ['OTHER-OTHER-OTHER', '1 2 nmod,2 0 root', '1 2 nmod,2 0 root,3 2 nmod', 'S-S-P', 6, 1.0], ['OTHER-OTHER-OTHER', '1 2 nmod,2 0 root', '1 2 nmod,2 0 root,3 2 nmod', 'S-N-S', 6, 1.0], ['OTHER-OTHER-OTHER', '1 2 nmod,2 0 root', '1 2 nmod,2 0 root,3 2 nmod', 'P-N-S', 6, 1.0], ['OTHER-OTHER-OTHER', '1 2 nmod,2 0 root', '1 2 nmod,2 0 root,3 2 appos', 'S-S-S', 48, 0.7272727272727273], ['ORG-OTHER-OTHER', '1 2 nmod,2 0 root', '1 2 nmod,2 0 root,3 2 appos', 'S-S-S', 12, 0.18181818181818182], ['ORG-OTHER-PER', '1 2 nmod,2 0 root', '1 2 nmod,2 0 root,3 2 appos', 'S-S-S', 6, 0.09090909090909091], ['OTHER-OTHER-OTHER', '1 2 nmod,2 0 root', '1 2 nmod,2 0 root,3 2 appos', 'S-S-H', 618, 0.6094674556213018], ['OTHER-OTHER-PER', '1 2 nmod,2 0 root', '1 2 nmod,2 0 root,3 2 appos', 'S-S-H', 198, 0.1952662721893491], ['ORG-OTHER-OTHER', '1 2 nmod,2 0 root', '1 2 nmod,2 0 root,3 2 appos', 'S-S-H', 138, 0.13609467455621302], ['ORG-OTHER-PER', '1 2 nmod,2 0 root', '1 2 nmod,2 0 root,3 2 appos', 'S-S-H', 30, 0.029585798816568046], ['LOC-OTHER-OTHER', '1 2 nmod,2 0 root', '1 2 nmod,2 0 root,3 2 appos', 'S-S-H', 12, 0.011834319526627219], ['OTHER-OTHER-ORG', '1 2 nmod,2 0 root', '1 2 nmod,2 0 root,3 2 appos', 'S-S-H', 6, 0.005917159763313609], ['ORG-OTHER-ORG', '1 2 nmod,2 0 root', '1 2 nmod,2 0 root,3 2 appos', 'S-S-H', 6, 0.005917159763313609], ['ORG-OTHER-LOC', '1 2 nmod,2 0 root', '1 2 nmod,2 0 root,3 2 appos', 'S-S-H', 6, 0.005917159763313609], ['ORG-OTHER-OTHER', '1 2 nmod,2 0 root', '1 2 nmod,2 0 root,3 2 appos', 'H-S-S', 12, 1.0], ['OTHER-OTHER-OTHER', '1 2 nmod,2 0 root', '1 2 nmod,2 0 root,3 2 appos', 'S-S-Z', 6, 1.0], ['LOC-OTHER-PER', '1 2 nmod,2 0 root', '1 2 nmod,2 0 root,3 2 appos', 'H-S-H', 60, 0.2857142857142857], ['LOC-OTHER-OTHER', '1 2 nmod,2 0 root', '1 2 nmod,2 0 root,3 2 appos', 'H-S-H', 42, 0.2], ['ORG-OTHER-PER', '1 2 nmod,2 0 root', '1 2 nmod,2 0 root,3 2 appos', 'H-S-H', 30, 0.14285714285714285], ['ORG-OTHER-OTHER', '1 2 nmod,2 0 root', '1 2 nmod,2 0 root,3 2 appos', 'H-S-H', 24, 0.11428571428571428], ['OTHER-OTHER-PER', '1 2 nmod,2 0 root', '1 2 nmod,2 0 root,3 2 appos', 'H-S-H', 12, 0.05714285714285714], ['LOC-OTHER-ORG', '1 2 nmod,2 0 root', '1 2 nmod,2 0 root,3 2 appos', 'H-S-H', 12, 0.05714285714285714], ['PER-OTHER-PER', '1 2 nmod,2 0 root', '1 2 nmod,2 0 root,3 2 appos', 'H-S-H', 6, 0.02857142857142857], ['PER-OTHER-OTHER', '1 2 nmod,2 0 root', '1 2 nmod,2 0 root,3 2 appos', 'H-S-H', 6, 0.02857142857142857], ['OTHER-OTHER-OTHER', '1 2 nmod,2 0 root', '1 2 nmod,2 0 root,3 2 appos', 'H-S-H', 6, 0.02857142857142857], ['OTHER-OTHER-ORG', '1 2 nmod,2 0 root', '1 2 nmod,2 0 root,3 2 appos', 'H-S-H', 6, 0.02857142857142857], ['LOC-OTHER-LOC', '1 2 nmod,2 0 root', '1 2 nmod,2 0 root,3 2 appos', 'H-S-H', 6, 0.02857142857142857], ['OTHER-OTHER-OTHER', '1 2 nmod,2 0 root', '1 2 nmod,2 0 root,3 2 appos', 'P-S-S', 6, 1.0], ['OTHER-OTHER-OTHER', '1 2 nmod,2 0 root', '1 2 nmod,2 0 root,3 2 appos', 'S-S-Y', 24, 0.4444444444444444], ['OTHER-OTHER-ORG', '1 2 nmod,2 0 root', '1 2 nmod,2 0 root,3 2 appos', 'S-S-Y', 12, 0.2222222222222222], ['ORG-ORG-ORG', '1 2 nmod,2 0 root', '1 2 nmod,2 0 root,3 2 appos', 'S-S-Y', 12, 0.2222222222222222], ['LOC-OTHER-OTHER', '1 2 nmod,2 0 root', '1 2 nmod,2 0 root,3 2 appos', 'S-S-Y', 6, 0.1111111111111111], ['ORG-OTHER-OTHER', '1 2 nmod,2 0 root', '1 2 nmod,2 0 root,3 2 appos', 'Y-S-H', 24, 0.4444444444444444], ['ORG-OTHER-PER', '1 2 nmod,2 0 root', '1 2 nmod,2 0 root,3 2 appos', 'Y-S-H', 18, 0.3333333333333333], ['LOC-OTHER-OTHER', '1 2 nmod,2 0 root', '1 2 nmod,2 0 root,3 2 appos', 'Y-S-H', 6, 0.1111111111111111], ['LOC-OTHER-ORG', '1 2 nmod,2 0 root', '1 2 nmod,2 0 root,3 2 appos', 'Y-S-H', 6, 0.1111111111111111], ['OTHER-OTHER-PER', '1 2 nmod,2 0 root', '1 2 nmod,2 0 root,3 2 appos', 'P-S-H', 6, 1.0], ['OTHER-OTHER-OTHER', '1 2 nmod,2 0 root', '1 2 nmod,2 0 root,3 2 appos', 'S-Y-S', 6, 1.0], ['OTHER-OTHER-OTHER', '1 2 nmod,2 0 root', '1 2 nmod,2 0 root,3 2 case', 'S-S-K', 624, 0.9454545454545454], ['ORG-OTHER-OTHER', '1 2 nmod,2 0 root', '1 2 nmod,2 0 root,3 2 case', 'S-S-K', 18, 0.02727272727272727], ['ORG-ORG-OTHER', '1 2 nmod,2 0 root', '1 2 nmod,2 0 root,3 2 case', 'S-S-K', 12, 0.01818181818181818], ['LOC-OTHER-OTHER', '1 2 nmod,2 0 root', '1 2 nmod,2 0 root,3 2 case', 'S-S-K', 6, 0.00909090909090909], ['PER-OTHER-OTHER', '1 2 nmod,2 0 root', '1 2 nmod,2 0 root,3 2 case', 'H-S-K', 54, 0.45], ['LOC-OTHER-OTHER', '1 2 nmod,2 0 root', '1 2 nmod,2 0 root,3 2 case', 'H-S-K', 30, 0.25], ['LOC-LOC-OTHER', '1 2 nmod,2 0 root', '1 2 nmod,2 0 root,3 2 case', 'H-S-K', 18, 0.15], ['OTHER-OTHER-OTHER', '1 2 nmod,2 0 root', '1 2 nmod,2 0 root,3 2 case', 'H-S-K', 12, 0.1], ['ORG-OTHER-OTHER', '1 2 nmod,2 0 root', '1 2 nmod,2 0 root,3 2 case', 'H-S-K', 6, 0.05], ['OTHER-OTHER-OTHER', '1 2 nmod,2 0 root', '1 2 nmod,2 0 root,3 2 case', 'Y-S-K', 18, 0.375], ['ORG-OTHER-OTHER', '1 2 nmod,2 0 root', '1 2 nmod,2 0 root,3 2 case', 'Y-S-K', 18, 0.375], ['ORG-ORG-OTHER', '1 2 nmod,2 0 root', '1 2 nmod,2 0 root,3 2 case', 'Y-S-K', 6, 0.125], ['LOC-OTHER-OTHER', '1 2 nmod,2 0 root', '1 2 nmod,2 0 root,3 2 case', 'Y-S-K', 6, 0.125], ['OTHER-OTHER-OTHER', '1 2 nmod,2 0 root', '1 2 nmod,2 0 root,3 2 case', 'P-S-K', 6, 1.0], ['OTHER-OTHER-OTHER', '1 2 nmod,2 0 root', '1 2 nmod,2 0 root,3 2 case', 'Y-Y-K', 6, 1.0], ['OTHER-OTHER-OTHER', '1 2 nmod,2 0 root', '1 2 nmod,2 0 root,3 2 case', 'S-N-K', 6, 1.0], ['LOC-OTHER-OTHER', '1 2 nmod,2 0 root', '1 2 nmod,2 0 root,3 2 case', 'G-S-K', 6, 1.0], ['OTHER-OTHER-OTHER', '1 2 nmod,2 0 root', '1 2 nmod,2 0 root,3 2 conj', 'S-S-S', 270, 0.5357142857142857], ['ORG-OTHER-OTHER', '1 2 nmod,2 0 root', '1 2 nmod,2 0 root,3 2 conj', 'S-S-S', 156, 0.30952380952380953], ['LOC-OTHER-OTHER', '1 2 nmod,2 0 root', '1 2 nmod,2 0 root,3 2 conj', 'S-S-S', 78, 0.15476190476190477], ['ORG-ORG-OTHER', '1 2 nmod,2 0 root', '1 2 nmod,2 0 root,3 2 conj', 'H-S-S', 12, 1.0], ['OTHER-OTHER-OTHER', '1 2 nmod,2 0 root', '1 2 nmod,2 0 root,3 2 conj', 'P-S-S', 42, 0.7777777777777778], ['ORG-ORG-OTHER', '1 2 nmod,2 0 root', '1 2 nmod,2 0 root,3 2 conj', 'P-S-S', 12, 0.2222222222222222], ['OTHER-OTHER-OTHER', '1 2 nmod,2 0 root', '1 2 nmod,2 0 root,3 2 conj', 'S-S-V_fin', 24, 1.0], ['OTHER-OTHER-OTHER', '1 2 nmod,2 0 root', '1 2 nmod,2 0 root,3 2 conj', 'S-S-V_inf|A', 6, 1.0], ['ORG-OTHER-OTHER', '1 2 nmod,2 0 root', '1 2 nmod,2 0 root,3 2 conj', 'Y-S-V_fin', 12, 1.0], ['LOC-LOC-ORG', '1 2 nmod,2 0 root', '1 2 nmod,2 0 root,3 2 conj', 'H-H-H', 12, 1.0], ['OTHER-OTHER-OTHER', '1 2 nmod,2 0 root', '1 2 nmod,2 0 root,3 2 punct', 'S-S-Z', 258, 0.9148936170212766], ['ORG-ORG-OTHER', '1 2 nmod,2 0 root', '1 2 nmod,2 0 root,3 2 punct', 'S-S-Z', 12, 0.0425531914893617], ['OTHER-ORG-OTHER', '1 2 nmod,2 0 root', '1 2 nmod,2 0 root,3 2 punct', 'S-S-Z', 6, 0.02127659574468085], ['ORG-OTHER-OTHER', '1 2 nmod,2 0 root', '1 2 nmod,2 0 root,3 2 punct', 'S-S-Z', 6, 0.02127659574468085], ['OTHER-OTHER-OTHER', '1 2 nmod,2 0 root', '1 2 nmod,2 0 root,3 2 punct', 'H-S-Z', 72, 0.8571428571428571], ['ORG-OTHER-OTHER', '1 2 nmod,2 0 root', '1 2 nmod,2 0 root,3 2 punct', 'H-S-Z', 6, 0.07142857142857142], ['ORG-ORG-OTHER', '1 2 nmod,2 0 root', '1 2 nmod,2 0 root,3 2 punct', 'H-S-Z', 6, 0.07142857142857142], ['OTHER-OTHER-OTHER', '1 2 nmod,2 0 root', '1 2 nmod,2 0 root,3 2 punct', 'Y-Y-Z', 60, 1.0], ['OTHER-OTHER-OTHER', '1 2 nmod,2 0 root', '1 2 nmod,2 0 root,3 2 punct', 'S-O-Z', 42, 1.0], ['OTHER-OTHER-OTHER', '1 2 nmod,2 0 root', '1 2 nmod,2 0 root,3 2 punct', 'Y-S-Z', 18, 1.0], ['OTHER-OTHER-OTHER', '1 2 nmod,2 0 root', '1 2 nmod,2 0 root,3 2 punct', 'S-H-Z', 6, 0.5], ['OTHER-LOC-OTHER', '1 2 nmod,2 0 root', '1 2 nmod,2 0 root,3 2 punct', 'S-H-Z', 6, 0.5], ['OTHER-OTHER-OTHER', '1 2 nmod,2 0 root', '1 2 nmod,2 0 root,3 2 punct', 'P-S-Z', 6, 1.0], ['OTHER-OTHER-OTHER', '1 2 nmod,2 0 root', '1 2 nmod,2 0 root,3 2 acl:relcl', 'S-S-S', 78, 1.0], ['ORG-ORG-OTHER', '1 2 nmod,2 0 root', '1 2 nmod,2 0 root,3 2 acl:relcl', 'H-S-S', 6, 1.0], ['OTHER-OTHER-OTHER', '1 2 nmod,2 0 root', '1 2 nmod,2 0 root,3 2 acl:relcl', 'P-S-S', 36, 1.0], ['OTHER-OTHER-OTHER', '1 2 nmod,2 0 root', '1 2 nmod,2 0 root,3 2 acl:relcl', 'S-S-V_fin', 30, 1.0], ['OTHER-OTHER-OTHER', '1 2 nmod,2 0 root', '1 2 nmod,2 0 root,3 2 acl:relcl', 'S-S-V_inf', 36, 1.0], ['OTHER-OTHER-OTHER', '1 2 nmod,2 0 root', '1 2 nmod,2 0 root,3 2 acl:relcl', 'S-S-V_inf|A', 48, 1.0], ['OTHER-OTHER-OTHER', '1 2 nmod,2 0 root', '1 2 nmod,2 0 root,3 2 acl:relcl', 'S-S-A', 36, 1.0], ['OTHER-OTHER-OTHER', '1 2 nmod,2 0 root', '1 2 nmod,2 0 root,3 2 acl:relcl', 'P-S-P', 6, 1.0], ['OTHER-OTHER-OTHER', '1 2 nmod,2 0 root', '1 2 nmod,2 0 root,3 2 acl:relcl', 'S-S-A|V_inf', 12, 1.0], ['OTHER-OTHER-OTHER', '1 2 nmod,2 0 root', '1 2 nmod,2 0 root,3 2 parataxis', 'S-S-S', 36, 1.0], ['OTHER-OTHER-OTHER', '1 2 nmod,2 0 root', '1 2 nmod,2 0 root,3 2 parataxis', 'S-S-H', 6, 1.0], ['OTHER-OTHER-OTHER', '1 2 nmod,2 0 root', '1 2 nmod,2 0 root,3 2 parataxis', 'H-S-S', 6, 1.0], ['OTHER-OTHER-ORG', '1 2 nmod,2 0 root', '1 2 nmod,2 0 root,3 2 parataxis', 'S-S-Y', 36, 0.8571428571428571], ['ORG-ORG-ORG', '1 2 nmod,2 0 root', '1 2 nmod,2 0 root,3 2 parataxis', 'S-S-Y', 6, 0.14285714285714285], ['OTHER-OTHER-OTHER', '1 2 nmod,2 0 root', '1 2 nmod,2 0 root,3 2 parataxis', 'S-S-N', 6, 1.0], ['ORG-OTHER-OTHER', '1 2 nmod,2 0 root', '1 2 nmod,2 0 root,3 2 parataxis', 'H-S-N', 12, 1.0], ['OTHER-OTHER-OTHER', '1 2 nmod,2 0 root', '1 2 nmod,2 0 root,3 2 parataxis', 'Y-S-Y', 18, 1.0], ['ORG-OTHER-OTHER', '1 2 nmod,2 0 root', '1 2 nmod,2 0 root,3 2 parataxis', 'Y-S-N', 12, 1.0], ['OTHER-LOC-OTHER', '1 2 nmod,2 0 root', '1 2 nmod,2 0 root,3 2 parataxis', 'S-H-H', 6, 1.0], ['ORG-ORG-ORG', '1 2 nmod,2 0 root', '1 2 nmod,2 0 root,3 2 parataxis', 'H-S-Y', 6, 1.0], ['ORG-ORG-OTHER', '1 2 nmod,2 0 root', '1 2 nmod,2 0 root,3 2 parataxis', 'H-S-O', 12, 1.0], ['OTHER-OTHER-OTHER', '1 2 nmod,2 0 root', '1 2 nmod,2 0 root,3 2 parataxis', 'S-S-G', 6, 1.0], ['ORG-ORG-OTHER', '1 2 nmod,2 0 root', '1 2 nmod,2 0 root,3 2 parataxis', 'H-S-P', 6, 1.0], ['OTHER-OTHER-OTHER', '1 2 nmod,2 0 root', '1 2 nmod,2 0 root,3 2 nummod', 'S-S-N', 48, 0.8888888888888888], ['ORG-OTHER-OTHER', '1 2 nmod,2 0 root', '1 2 nmod,2 0 root,3 2 nummod', 'S-S-N', 6, 0.1111111111111111], ['OTHER-OTHER-OTHER', '1 2 nmod,2 0 root', '1 2 nmod,2 0 root,3 2 nummod', 'H-S-N', 12, 1.0], ['OTHER-OTHER-OTHER', '1 2 nmod,2 0 root', '1 2 nmod,2 0 root,3 2 nummod', 'Y-S-N', 6, 1.0], ['OTHER-OTHER-OTHER', '1 2 nmod,2 0 root', '1 2 nmod,2 0 root,3 2 nummod', 'P-S-N', 6, 1.0], ['OTHER-OTHER-OTHER', '1 2 nmod,2 0 root', '1 2 nmod,2 0 root,3 2 acl', 'S-S-S', 6, 1.0], ['OTHER-OTHER-OTHER', '1 2 nmod,2 0 root', '1 2 nmod,2 0 root,3 2 acl', 'S-S-V_fin', 12, 1.0], ['OTHER-OTHER-OTHER', '1 2 nmod,2 0 root', '1 2 nmod,2 0 root,3 2 acl', 'S-S-V_inf', 24, 0.5714285714285714], ['ORG-OTHER-OTHER', '1 2 nmod,2 0 root', '1 2 nmod,2 0 root,3 2 acl', 'S-S-V_inf', 18, 0.42857142857142855], ['OTHER-OTHER-OTHER', '1 2 nmod,2 0 root', '1 2 nmod,2 0 root,3 2 acl', 'S-S-A', 18, 1.0], ['OTHER-OTHER-OTHER', '1 2 nmod,2 0 root', '1 2 nmod,2 0 root,3 2 cop', 'S-S-V_fin', 18, 1.0], ['OTHER-OTHER-OTHER', '1 2 nmod,2 0 root', '1 2 nmod,2 0 root,3 2 cop', 'P-S-V_fin', 54, 1.0], ['OTHER-OTHER-OTHER', '1 2 nmod,2 0 root', '1 2 nmod,2 0 root,3 2 advcl', 'S-S-S', 6, 1.0], ['OTHER-OTHER-PER', '1 2 nmod,2 0 root', '1 2 nmod,2 0 root,3 2 advcl', 'S-S-H', 30, 0.8333333333333334], ['OTHER-OTHER-OTHER', '1 2 nmod,2 0 root', '1 2 nmod,2 0 root,3 2 advcl', 'S-S-H', 6, 0.16666666666666666], ['OTHER-OTHER-OTHER', '1 2 nmod,2 0 root', '1 2 nmod,2 0 root,3 2 advcl', 'S-S-V_fin', 6, 1.0], ['OTHER-OTHER-OTHER', '1 2 nmod,2 0 root', '1 2 nmod,2 0 root,3 2 advmod', 'S-S-D', 30, 1.0], ['OTHER-OTHER-OTHER', '1 2 nmod,2 0 root', '1 2 nmod,2 0 root,3 2 flat', 'S-S-H', 6, 1.0], ['OTHER-OTHER-OTHER', '1 2 nmod,2 0 root', '1 2 nmod,2 0 root,3 2 flat', 'S-H-H', 12, 1.0], ['OTHER-OTHER-OTHER', '1 2 nmod,2 0 root', '1 2 nmod,2 0 root,3 2 flat', 'Y-N-N', 6, 1.0], ['OTHER-OTHER-OTHER', '1 2 nmod,2 0 root', '1 2 nmod,2 0 root,3 2 cc', 'S-S-J', 12, 1.0], ['OTHER-OTHER-OTHER', '1 2 nmod,2 0 root', '1 2 nmod,2 0 root,3 1 punct', 'H-S-Z', 6, 1.0], ['OTHER-OTHER-OTHER', '1 2 amod,2 0 root', '1 2 amod,2 0 root,3 2 nmod', 'A-S-S', 140, 1.0], ['OTHER-OTHER-OTHER', '1 2 amod,2 0 root', '1 2 amod,2 0 root,3 2 nmod', 'P-S-S', 2, 1.0], ['OTHER-OTHER-OTHER', '1 2 amod,2 0 root', '1 2 amod,2 0 root,3 2 nmod', 'A-S-Z', 2, 1.0], ['OTHER-OTHER-OTHER', '1 2 amod,2 0 root', '1 2 amod,2 0 root,3 2 nmod', 'A-S-H', 2, 1.0], ['OTHER-OTHER-OTHER', '1 2 amod,2 0 root', '1 2 amod,2 0 root,3 2 nmod', 'O-S-S', 20, 0.8333333333333334], ['OTHER-OTHER-LOC', '1 2 amod,2 0 root', '1 2 amod,2 0 root,3 2 nmod', 'O-S-S', 4, 0.16666666666666666], ['OTHER-OTHER-OTHER', '1 2 amod,2 0 root', '1 2 amod,2 0 root,3 2 nmod', 'C-S-S', 10, 1.0], ['OTHER-OTHER-OTHER', '1 2 amod,2 0 root', '1 2 amod,2 0 root,3 2 nmod', 'A-S-Y', 14, 0.7777777777777778], ['OTHER-OTHER-LOC', '1 2 amod,2 0 root', '1 2 amod,2 0 root,3 2 nmod', 'A-S-Y', 4, 0.2222222222222222], ['OTHER-OTHER-OTHER', '1 2 amod,2 0 root', '1 2 amod,2 0 root,3 2 nmod', 'O|P-S-S', 6, 1.0], ['OTHER-OTHER-OTHER', '1 2 amod,2 0 root', '1 2 amod,2 0 root,3 2 nmod', 'O-S-H', 2, 1.0], ['OTHER-OTHER-OTHER', '1 2 amod,2 0 root', '1 2 amod,2 0 root,3 2 nmod', 'A-S-P', 6, 1.0], ['OTHER-OTHER-OTHER', '1 2 amod,2 0 root', '1 2 amod,2 0 root,3 2 nmod', 'P|O-S-S', 2, 1.0], ['OTHER-OTHER-OTHER', '1 2 amod,2 0 root', '1 2 amod,2 0 root,3 2 nmod', 'U-S-S', 2, 1.0], ['OTHER-OTHER-OTHER', '1 2 amod,2 0 root', '1 2 amod,2 0 root,3 2 nmod', 'G-S-S', 2, 1.0], ['OTHER-ORG-OTHER', '1 2 amod,2 0 root', '1 2 amod,2 0 root,3 2 nmod', 'A-Y-S', 2, 1.0], ['OTHER-ORG-OTHER', '1 2 amod,2 0 root', '1 2 amod,2 0 root,3 2 nmod', 'A-H-S', 2, 1.0], ['OTHER-OTHER-OTHER', '1 2 amod,2 0 root', '1 2 amod,2 0 root,3 2 punct', 'A-S-Z', 86, 1.0], ['ORG-OTHER-OTHER', '1 2 amod,2 0 root', '1 2 amod,2 0 root,3 2 punct', 'Y-S-Z', 16, 1.0], ['OTHER-OTHER-OTHER', '1 2 amod,2 0 root', '1 2 amod,2 0 root,3 2 punct', 'O-Y-Z', 20, 1.0], ['OTHER-OTHER-OTHER', '1 2 amod,2 0 root', '1 2 amod,2 0 root,3 2 punct', 'C-S-Z', 4, 1.0], ['OTHER-OTHER-OTHER', '1 2 amod,2 0 root', '1 2 amod,2 0 root,3 2 punct', 'O-S-Z', 2, 1.0], ['OTHER-OTHER-OTHER', '1 2 amod,2 0 root', '1 2 amod,2 0 root,3 2 punct', 'G-S-Z', 2, 1.0], ['OTHER-OTHER-OTHER', '1 2 amod,2 0 root', '1 2 amod,2 0 root,3 2 conj', 'A-S-S', 116, 1.0], ['OTHER-OTHER-OTHER', '1 2 amod,2 0 root', '1 2 amod,2 0 root,3 2 conj', 'C-S-S', 12, 1.0], ['OTHER-OTHER-OTHER', '1 2 amod,2 0 root', '1 2 amod,2 0 root,3 2 appos', 'A-S-S', 10, 1.0], ['OTHER-OTHER-OTHER', '1 2 amod,2 0 root', '1 2 amod,2 0 root,3 2 appos', 'A-S-H', 18, 0.5625], ['OTHER-OTHER-PER', '1 2 amod,2 0 root', '1 2 amod,2 0 root,3 2 appos', 'A-S-H', 14, 0.4375], ['OTHER-OTHER-OTHER', '1 2 amod,2 0 root', '1 2 amod,2 0 root,3 2 appos', 'C-S-S', 2, 1.0], ['OTHER-OTHER-OTHER', '1 2 amod,2 0 root', '1 2 amod,2 0 root,3 2 appos', 'O-S-H', 4, 1.0], ['OTHER-OTHER-LOC', '1 2 amod,2 0 root', '1 2 amod,2 0 root,3 2 appos', 'G-S-H', 4, 1.0], ['OTHER-OTHER-PER', '1 2 amod,2 0 root', '1 2 amod,2 0 root,3 2 appos', 'C-S-H', 2, 0.5], ['OTHER-OTHER-OTHER', '1 2 amod,2 0 root', '1 2 amod,2 0 root,3 2 appos', 'C-S-H', 2, 0.5], ['OTHER-OTHER-OTHER', '1 2 amod,2 0 root', '1 2 amod,2 0 root,3 2 case', 'A-S-K', 34, 1.0], ['OTHER-OTHER-OTHER', '1 2 amod,2 0 root', '1 2 amod,2 0 root,3 2 case', 'P-S-K', 2, 1.0], ['OTHER-LOC-OTHER', '1 2 amod,2 0 root', '1 2 amod,2 0 root,3 2 case', 'A-H-K', 4, 1.0], ['OTHER-OTHER-OTHER', '1 2 amod,2 0 root', '1 2 amod,2 0 root,3 2 case', 'U-S-K', 2, 1.0], ['OTHER-OTHER-OTHER', '1 2 amod,2 0 root', '1 2 amod,2 0 root,3 2 case', 'O-S-K', 2, 1.0], ['OTHER-OTHER-OTHER', '1 2 amod,2 0 root', '1 2 amod,2 0 root,3 2 acl:relcl', 'A-S-S', 8, 0.8], ['ORG-ORG-OTHER', '1 2 amod,2 0 root', '1 2 amod,2 0 root,3 2 acl:relcl', 'A-S-S', 2, 0.2], ['OTHER-OTHER-OTHER', '1 2 amod,2 0 root', '1 2 amod,2 0 root,3 2 acl:relcl', 'A-S-V_inf', 12, 1.0], ['OTHER-OTHER-OTHER', '1 2 amod,2 0 root', '1 2 amod,2 0 root,3 2 acl:relcl', 'A-S-A', 2, 1.0], ['OTHER-OTHER-OTHER', '1 2 amod,2 0 root', '1 2 amod,2 0 root,3 2 advmod', 'A-S-D', 12, 1.0], ['OTHER-OTHER-OTHER', '1 2 amod,2 0 root', '1 2 amod,2 0 root,3 2 advmod', 'G-S-D', 2, 1.0], ['OTHER-OTHER-OTHER', '1 2 amod,2 0 root', '1 2 amod,2 0 root,3 2 parataxis', 'A-S-S', 4, 1.0], ['OTHER-OTHER-OTHER', '1 2 amod,2 0 root', '1 2 amod,2 0 root,3 2 parataxis', 'P|O-S-S', 2, 1.0], ['OTHER-OTHER-OTHER', '1 2 amod,2 0 root', '1 2 amod,2 0 root,3 2 nummod', 'A-S-N', 4, 1.0], ['OTHER-OTHER-OTHER', '1 2 amod,2 0 root', '1 2 amod,2 0 root,3 2 nummod', 'P|O-S-N', 2, 1.0], ['OTHER-OTHER-OTHER-OTHER', '1 2 obl,2 3 acl,3 0 root', '1 2 obl,2 3 acl,3 0 root,4 3 appos', 'S-A-S-H', 12, 0.6666666666666666], ['OTHER-OTHER-OTHER-PER', '1 2 obl,2 3 acl,3 0 root', '1 2 obl,2 3 acl,3 0 root,4 3 appos', 'S-A-S-H', 3, 0.16666666666666666], ['OTHER-OTHER-OTHER-LOC', '1 2 obl,2 3 acl,3 0 root', '1 2 obl,2 3 acl,3 0 root,4 3 appos', 'S-A-S-H', 3, 0.16666666666666666], ['OTHER-OTHER-OTHER-PER', '1 2 obl,2 3 acl,3 0 root', '1 2 obl,2 3 acl,3 0 root,4 3 appos', 'S-V_inf|A-S-H', 9, 0.75], ['OTHER-OTHER-OTHER-LOC', '1 2 obl,2 3 acl,3 0 root', '1 2 obl,2 3 acl,3 0 root,4 3 appos', 'S-V_inf|A-S-H', 3, 0.25], ['OTHER-OTHER-OTHER-OTHER', '1 2 obl,2 3 acl,3 0 root', '1 2 obl,2 3 acl,3 0 root,4 3 appos', 'S-A-S-S', 3, 1.0], ['OTHER-OTHER-OTHER-OTHER', '1 2 obl,2 3 acl,3 0 root', '1 2 obl,2 3 acl,3 0 root,4 3 appos', 'P-A-S-S', 6, 1.0], ['LOC-OTHER-OTHER-PER', '1 2 obl,2 3 acl,3 0 root', '1 2 obl,2 3 acl,3 0 root,4 3 appos', 'H-A-S-H', 3, 0.5], ['LOC-OTHER-OTHER-OTHER', '1 2 obl,2 3 acl,3 0 root', '1 2 obl,2 3 acl,3 0 root,4 3 appos', 'H-A-S-H', 3, 0.5], ['LOC-OTHER-OTHER-OTHER', '1 2 obl,2 3 acl,3 0 root', '1 2 obl,2 3 acl,3 0 root,4 3 appos', 'H-V_inf|A-S-H', 3, 1.0], ['LOC-OTHER-OTHER-ORG', '1 2 obl,2 3 acl,3 0 root', '1 2 obl,2 3 acl,3 0 root,4 3 appos', 'H-A-S-Y', 3, 1.0], ['OTHER-OTHER-OTHER-OTHER', '1 2 obl,2 3 acl,3 0 root', '1 2 obl,2 3 acl,3 0 root,4 3 nmod', 'S-A|V_inf-S-S', 9, 1.0], ['OTHER-OTHER-OTHER-OTHER', '1 2 obl,2 3 acl,3 0 root', '1 2 obl,2 3 acl,3 0 root,4 3 nmod', 'S-A-S-H', 3, 1.0], ['OTHER-OTHER-OTHER-OTHER', '1 2 obl,2 3 acl,3 0 root', '1 2 obl,2 3 acl,3 0 root,4 3 nmod', 'S-V_inf|A-S-S', 6, 1.0], ['OTHER-OTHER-OTHER-OTHER', '1 2 obl,2 3 acl,3 0 root', '1 2 obl,2 3 acl,3 0 root,4 3 nmod', 'S-V_fin-S-S', 9, 1.0], ['OTHER-OTHER-OTHER-OTHER', '1 2 obl,2 3 acl,3 0 root', '1 2 obl,2 3 acl,3 0 root,4 3 nmod', 'S-A-S-S', 6, 1.0], ['OTHER-OTHER-OTHER-OTHER', '1 2 obl,2 3 acl,3 0 root', '1 2 obl,2 3 acl,3 0 root,4 3 nmod', 'P-V_fin-S-S', 3, 1.0], ['LOC-OTHER-OTHER-LOC', '1 2 obl,2 3 acl,3 0 root', '1 2 obl,2 3 acl,3 0 root,4 3 nmod', 'H-A-S-S', 3, 1.0], ['OTHER-OTHER-OTHER-OTHER', '1 2 obl,2 3 acl,3 0 root', '1 2 obl,2 3 acl,3 0 root,4 3 conj', 'S-A|V_inf-S-S', 36, 1.0], ['OTHER-OTHER-OTHER-OTHER', '1 2 obl,2 3 acl,3 0 root', '1 2 obl,2 3 acl,3 0 root,4 3 conj', 'S-V_inf|A-S-S', 3, 1.0], ['OTHER-OTHER-PER-PER', '1 2 obl,2 3 acl,3 0 root', '1 2 obl,2 3 acl,3 0 root,4 3 flat', 'S-V_inf|A-H-H', 24, 1.0], ['OTHER-OTHER-PER-PER', '1 2 obl,2 3 acl,3 0 root', '1 2 obl,2 3 acl,3 0 root,4 3 flat', 'H-V_inf|A-H-H', 6, 1.0], ['OTHER-OTHER-ORG-ORG', '1 2 obl,2 3 acl,3 0 root', '1 2 obl,2 3 acl,3 0 root,4 3 flat', 'S-A|V_inf-H-H', 3, 1.0], ['OTHER-OTHER-ORG-ORG', '1 2 obl,2 3 acl,3 0 root', '1 2 obl,2 3 acl,3 0 root,4 3 flat', 'N-A|V_inf-H-H', 3, 1.0], ['OTHER-OTHER-OTHER-OTHER', '1 2 obl,2 3 acl,3 0 root', '1 2 obl,2 3 acl,3 0 root,4 3 case', 'S-A|V_inf-S-K', 6, 1.0], ['OTHER-OTHER-OTHER-OTHER', '1 2 obl,2 3 acl,3 0 root', '1 2 obl,2 3 acl,3 0 root,4 3 parataxis', 'S-A|V_inf-A-A', 3, 1.0], ['OTHER-OTHER-OTHER-OTHER', '1 2 obl,2 3 acl,3 0 root', '1 2 obl,2 3 acl,3 0 root,4 3 advcl', 'S-A|V_inf-S-S', 3, 1.0], ['OTHER-OTHER-OTHER-OTHER', '1 2 obl,2 3 acl,3 0 root', '1 2 obl,2 3 acl,3 0 root,4 3 acl:relcl', 'S-V_inf|A-S-S', 3, 1.0], ['OTHER-OTHER-OTHER-OTHER', '1 2 nmod,2 0 root,3 2 nmod', '1 2 nmod,2 0 root,3 2 nmod,4 3 case', 'S-S-S-K', 25, 1.0], ['OTHER-OTHER-OTHER-OTHER', '1 2 nmod,2 0 root,3 2 nmod', '1 2 nmod,2 0 root,3 2 nmod,4 3 case', 'P-S-S-K', 6, 1.0], ['LOC-OTHER-OTHER-OTHER', '1 2 nmod,2 0 root,3 2 nmod', '1 2 nmod,2 0 root,3 2 nmod,4 3 case', 'H-S-S-K', 5, 0.8333333333333334], ['OTHER-OTHER-OTHER-OTHER', '1 2 nmod,2 0 root,3 2 nmod', '1 2 nmod,2 0 root,3 2 nmod,4 3 conj', 'S-S-S-S', 2, 1.0], ['LOC-OTHER-OTHER-OTHER', '1 2 nmod,2 0 root,3 2 nmod', '1 2 nmod,2 0 root,3 2 nmod,4 3 conj', 'H-S-S-S', 2, 1.0], ['LOC-LOC-OTHER-OTHER', '1 2 nmod,2 0 root,3 2 nmod', '1 2 nmod,2 0 root,3 2 nmod,4 3 conj', 'H-H-S-S', 4, 1.0], ['OTHER-OTHER-OTHER-OTHER', '1 2 nmod,2 0 root,3 2 nmod', '1 2 nmod,2 0 root,3 2 nmod,4 3 conj', 'P-S-S-S', 2, 1.0], ['OTHER-OTHER-ORG-OTHER', '1 2 nmod,2 0 root,3 2 nmod', '1 2 nmod,2 0 root,3 2 nmod,4 3 conj', 'S-S-Y-Y', 2, 1.0], ['OTHER-OTHER-OTHER-OTHER', '1 2 nmod,2 0 root,3 2 nmod', '1 2 nmod,2 0 root,3 2 nmod,4 3 nmod', 'S-S-S-S', 2, 1.0], ['ORG-OTHER-OTHER-OTHER', '1 2 nmod,2 0 root,3 2 nmod', '1 2 nmod,2 0 root,3 2 nmod,4 3 nmod', 'H-S-S-S', 3, 1.0], ['ORG-OTHER-OTHER-OTHER', '1 2 nmod,2 0 root,3 2 nmod', '1 2 nmod,2 0 root,3 2 nmod,4 3 nmod', 'Y-S-S-S', 2, 1.0], ['OTHER-OTHER-OTHER-OTHER', '1 2 nmod,2 0 root,3 2 nmod', '1 2 nmod,2 0 root,3 2 nmod,4 3 nmod', 'S-S-S-Y', 2, 1.0], ['OTHER-OTHER-OTHER-OTHER', '1 2 nmod,2 0 root,3 2 nmod', '1 2 nmod,2 0 root,3 2 nmod,4 2 nmod', 'S-S-S-S', 6, 0.8571428571428571], ['OTHER-OTHER-OTHER-OTHER', '1 2 nmod,2 0 root,3 2 nmod', '1 2 nmod,2 0 root,3 2 nmod,4 2 conj', 'S-S-S-S', 8, 1.0], ['OTHER-OTHER-PER-PER', '1 2 nmod,2 0 root,3 2 nmod', '1 2 nmod,2 0 root,3 2 nmod,4 3 flat', 'P-S-H-H', 4, 0.8], ['OTHER-OTHER-OTHER-OTHER', '1 2 nmod,2 0 root,3 2 nmod', '1 2 nmod,2 0 root,3 2 nmod,4 3 acl:relcl', 'S-S-S-S', 8, 1.0], ['OTHER-OTHER-OTHER-OTHER', '1 2 nmod,2 0 root,3 2 nmod', '1 2 nmod,2 0 root,3 2 nmod,4 2 advcl', 'S-S-S-V_inf', 3, 1.0], ['OTHER-OTHER-LOC-OTHER', '1 2 nmod,2 0 root,3 2 nmod', '1 2 nmod,2 0 root,3 2 nmod,4 2 advcl', 'S-S-H-V_inf', 3, 1.0], ['OTHER-OTHER-OTHER-OTHER', '1 2 nmod,2 0 root,3 2 nmod', '1 2 nmod,2 0 root,3 2 nmod,4 2 punct', 'S-S-S-Z', 3, 1.0], ['OTHER-OTHER-OTHER-OTHER', '1 2 nmod,2 0 root,3 2 nmod', '1 2 nmod,2 0 root,3 2 nmod,4 3 nummod', 'S-S-S-N', 2, 1.0], ['OTHER-OTHER-OTHER-OTHER', '1 2 nmod,2 0 root,3 2 nmod', '1 2 nmod,2 0 root,3 2 nmod,4 3 nummod', 'P-S-S-N', 2, 1.0], ['OTHER-OTHER-OTHER-OTHER', '1 2 nmod,2 0 root,3 2 nmod', '1 2 nmod,2 0 root,3 2 nmod,4 3 acl', 'H-S-S-V_inf', 4, 1.0], ['OTHER-OTHER-OTHER-OTHER-OTHER', '1 2 nmod,2 0 root,3 2 appos,4 3 flat', '1 2 nmod,2 0 root,3 2 appos,4 3 flat,5 3 flat', 'S-S-H-Y-H', 21, 1.0], ['OTHER-OTHER-PER-PER-PER', '1 2 nmod,2 0 root,3 2 appos,4 3 flat', '1 2 nmod,2 0 root,3 2 appos,4 3 flat,5 3 flat', 'S-S-H-H-H', 14, 1.0], ['OTHER-OTHER-ORG-ORG-ORG', '1 2 nmod,2 0 root,3 2 appos,4 3 flat', '1 2 nmod,2 0 root,3 2 appos,4 3 flat,5 3 flat', 'H-S-H-H-H', 14, 1.0], ['OTHER-OTHER-ORG-OTHER-OTHER', '1 2 nmod,2 0 root,3 2 appos,4 3 flat', '1 2 nmod,2 0 root,3 2 appos,4 3 flat,5 2 parataxis', 'S-S-H-N-S', 7, 0.5], ['ORG-OTHER-ORG-OTHER-OTHER', '1 2 nmod,2 0 root,3 2 appos,4 3 flat', '1 2 nmod,2 0 root,3 2 appos,4 3 flat,5 2 parataxis', 'S-S-H-N-S', 7, 0.5], ['ORG-OTHER-PER-PER-OTHER', '1 2 nmod,2 0 root,3 2 appos,4 3 flat', '1 2 nmod,2 0 root,3 2 appos,4 3 flat,5 2 parataxis', 'Y-S-H-H-N', 7, 1.0], ['ORG-OTHER-PER-PER-OTHER', '1 2 nmod,2 0 root,3 2 appos,4 3 flat', '1 2 nmod,2 0 root,3 2 appos,4 3 flat,5 2 parataxis', 'H-S-H-H-N', 7, 1.0], ['OTHER-OTHER-PER-PER-OTHER', '1 2 nmod,2 0 root,3 2 appos,4 3 flat', '1 2 nmod,2 0 root,3 2 appos,4 3 flat,5 3 acl:relcl', 'S-S-H-H-V_fin', 14, 1.0], ['OTHER-OTHER-PER-PER-OTHER', '1 2 nmod,2 0 root,3 2 appos,4 3 flat', '1 2 nmod,2 0 root,3 2 appos,4 3 flat,5 2 nmod', 'S-S-H-H-S', 14, 1.0], ['LOC-OTHER-OTHER-OTHER-OTHER', '1 2 nmod,2 0 root,3 2 appos,4 3 flat', '1 2 nmod,2 0 root,3 2 appos,4 3 flat,5 3 nummod', 'S-S-Y-Y-N', 7, 1.0], ['OTHER-OTHER-PER-PER-OTHER', '1 2 nmod,2 0 root,3 2 appos,4 3 flat', '1 2 nmod,2 0 root,3 2 appos,4 3 flat,5 2 nummod', 'S-S-H-H-N', 7, 1.0], ['OTHER-OTHER-OTHER-OTHER', '1 0 root,2 1 flat,3 1 flat', '1 0 root,2 1 flat,3 1 flat,4 1 flat', 'H-H-S-H', 3, 1.0], ['ORG-ORG-ORG-ORG', '1 0 root,2 1 flat,3 1 flat', '1 0 root,2 1 flat,3 1 flat,4 1 flat', 'H-J-H-H', 2, 1.0]]\n"
     ]
    }
   ],
   "source": [
    "# criteria: tree AND pos_sequence\n",
    "# looking for ner_sequence x criteria\n",
    "# tree is atomic tree\n",
    "con = sqlite3.connect('correct_noun_phrases_2.db')\n",
    "cur = con.cursor()\n",
    "\n",
    "patterns = []\n",
    "pattern_atomic_trees = get_pattern(con, \"atomic_pattern\")\n",
    "pattern_trees = get_pattern(con, \"pattern_tree\")\n",
    "patterns_pos = get_pattern(con, \"pattern_pos\")\n",
    "\n",
    "for pattern_atomic_tree in pattern_atomic_trees:\n",
    "    for pattern_tree in pattern_trees:\n",
    "        for pattern_pos in patterns_pos:\n",
    "            cur.execute(\"SELECT * FROM correct_phrase_patterns_2 WHERE atomic_pattern = ? AND pattern_tree = ? AND pattern_pos = ?\", (pattern_atomic_tree[0], pattern_tree[0], pattern_pos[0]))\n",
    "            criteria_freq = len(cur.fetchall())\n",
    "            \n",
    "            cur.execute(\"SELECT pattern_ner, count(*) FROM correct_phrase_patterns_2 WHERE atomic_pattern =  ? AND pattern_tree = ? AND pattern_pos = ? GROUP BY pattern_ner ORDER BY count(*) DESC\", (pattern_atomic_tree[0], pattern_tree[0], pattern_pos[0]))\n",
    "            pattern_ner_freqs = cur.fetchall()\n",
    "                \n",
    "            for pattern_ner in pattern_ner_freqs:\n",
    "                if pattern_ner[1] > 1:\n",
    "                    patterns.append([pattern_ner[0], pattern_atomic_tree[0], pattern_tree[0], pattern_pos[0], pattern_ner[1], pattern_ner[1]/criteria_freq])\n",
    "\n",
    "print(patterns)"
   ]
  },
  {
   "cell_type": "code",
   "execution_count": 22,
   "id": "9404d930",
   "metadata": {},
   "outputs": [],
   "source": [
    "con.close()"
   ]
  },
  {
   "cell_type": "code",
   "execution_count": 23,
   "id": "a10ebd5f",
   "metadata": {},
   "outputs": [
    {
     "data": {
      "text/plain": [
       "264"
      ]
     },
     "execution_count": 23,
     "metadata": {},
     "output_type": "execute_result"
    }
   ],
   "source": [
    "len(patterns)"
   ]
  },
  {
   "cell_type": "code",
   "execution_count": 24,
   "id": "04cdccaa",
   "metadata": {},
   "outputs": [],
   "source": [
    "with open('indicator_patterns_ner_tree_pos_updated.csv', encoding='UTF-8') as csv_file:\n",
    "    reader = csv.DictReader(csv_file)\n",
    "    rows = []\n",
    "    for row in reader:\n",
    "        rows.append(row)"
   ]
  },
  {
   "cell_type": "code",
   "execution_count": 27,
   "id": "d90dba46",
   "metadata": {},
   "outputs": [
    {
     "data": {
      "text/plain": [
       "{'NER_pattern': 'OTHER-OTHER',\n",
       " 'tree': '1 2 nmod,2 0 root',\n",
       " 'POS_pattern': 'S-S',\n",
       " 'count': '6748',\n",
       " '%': '0.96',\n",
       " 'is_correct': 'T',\n",
       " 'mistake_type': '-',\n",
       " 'error_mask': '0-0',\n",
       " 'correction': '-'}"
      ]
     },
     "execution_count": 27,
     "metadata": {},
     "output_type": "execute_result"
    }
   ],
   "source": [
    "rows[1]"
   ]
  },
  {
   "cell_type": "code",
   "execution_count": 30,
   "id": "a785dac5",
   "metadata": {},
   "outputs": [],
   "source": [
    "comparisons = []\n",
    "for row in rows:\n",
    "    tree_pat = row['tree'].split(',')\n",
    "    pos_pat = row['POS_pattern'].split('-')\n",
    "    ner_pat = row['NER_pattern'].split('-')\n",
    "    \n",
    "    for pat in patterns:\n",
    "        if pat[1].split(',') == tree_pat:\n",
    "            tree_pat2 = pat[2].split(',')\n",
    "            pos_pat2 = pat[3].split('-')\n",
    "            ner_pat2 = pat[0].split('-')\n",
    "            \n",
    "            common_tree = []\n",
    "            common_pos = []\n",
    "            common_ner = []\n",
    "            for i in range(len(tree_pat2)):\n",
    "                if tree_pat2[i] in tree_pat:\n",
    "                    common_tree.append(tree_pat2[i])\n",
    "                    common_pos.append(pos_pat2[i])\n",
    "                    common_ner.append(ner_pat2[i])\n",
    "                    \n",
    "            if common_tree == tree_pat and common_pos == pos_pat and common_ner == ner_pat:\n",
    "                comparisons.append([','.join(tree_pat), '-'.join(pos_pat), '-'.join(ner_pat), row['count'], row['%'], ','.join(tree_pat2), '-'.join(pos_pat2), '-'.join(ner_pat2), pat[4], pat[5]])\n",
    "                    "
   ]
  },
  {
   "cell_type": "code",
   "execution_count": 31,
   "id": "97bffc29",
   "metadata": {},
   "outputs": [
    {
     "data": {
      "text/plain": [
       "256"
      ]
     },
     "execution_count": 31,
     "metadata": {},
     "output_type": "execute_result"
    }
   ],
   "source": [
    "len(comparisons)"
   ]
  },
  {
   "cell_type": "code",
   "execution_count": 32,
   "id": "9fb167cc",
   "metadata": {},
   "outputs": [
    {
     "name": "stdout",
     "output_type": "stream",
     "text": [
      "['1 2 nmod,2 0 root', 'S-S', 'OTHER-OTHER', '6748', '0.96', '1 2 nmod,2 0 root,3 2 nmod', 'S-S-S', 'OTHER-OTHER-OTHER', 1206, 0.9757281553398058]\n",
      "['1 2 nmod,2 0 root', 'S-S', 'OTHER-OTHER', '6748', '0.96', '1 2 nmod,2 0 root,3 2 nmod', 'S-S-H', 'OTHER-OTHER-OTHER', 66, 0.55]\n",
      "['1 2 nmod,2 0 root', 'S-S', 'OTHER-OTHER', '6748', '0.96', '1 2 nmod,2 0 root,3 2 nmod', 'S-S-H', 'OTHER-OTHER-PER', 30, 0.25]\n",
      "['1 2 nmod,2 0 root', 'S-S', 'OTHER-OTHER', '6748', '0.96', '1 2 nmod,2 0 root,3 2 nmod', 'S-S-H', 'OTHER-OTHER-LOC', 18, 0.15]\n",
      "['1 2 nmod,2 0 root', 'S-S', 'OTHER-OTHER', '6748', '0.96', '1 2 nmod,2 0 root,3 2 nmod', 'S-S-H', 'OTHER-OTHER-ORG', 6, 0.05]\n",
      "['1 2 nmod,2 0 root', 'S-S', 'OTHER-OTHER', '6748', '0.96', '1 2 nmod,2 0 root,3 2 nmod', 'S-S-Y', 'OTHER-OTHER-OTHER', 66, 0.7333333333333333]\n",
      "['1 2 nmod,2 0 root', 'S-S', 'OTHER-OTHER', '6748', '0.96', '1 2 nmod,2 0 root,3 2 nmod', 'S-S-Y', 'OTHER-OTHER-ORG', 24, 0.26666666666666666]\n",
      "['1 2 nmod,2 0 root', 'S-S', 'OTHER-OTHER', '6748', '0.96', '1 2 nmod,2 0 root,3 2 nmod', 'S-S-P|O', 'OTHER-OTHER-OTHER', 6, 1.0]\n",
      "['1 2 nmod,2 0 root', 'S-S', 'OTHER-OTHER', '6748', '0.96', '1 2 nmod,2 0 root,3 2 nmod', 'S-S-P', 'OTHER-OTHER-OTHER', 6, 1.0]\n",
      "['1 2 nmod,2 0 root', 'S-S', 'OTHER-OTHER', '6748', '0.96', '1 2 nmod,2 0 root,3 2 appos', 'S-S-S', 'OTHER-OTHER-OTHER', 48, 0.7272727272727273]\n",
      "['1 2 nmod,2 0 root', 'S-S', 'OTHER-OTHER', '6748', '0.96', '1 2 nmod,2 0 root,3 2 appos', 'S-S-H', 'OTHER-OTHER-OTHER', 618, 0.6094674556213018]\n",
      "['1 2 nmod,2 0 root', 'S-S', 'OTHER-OTHER', '6748', '0.96', '1 2 nmod,2 0 root,3 2 appos', 'S-S-H', 'OTHER-OTHER-PER', 198, 0.1952662721893491]\n",
      "['1 2 nmod,2 0 root', 'S-S', 'OTHER-OTHER', '6748', '0.96', '1 2 nmod,2 0 root,3 2 appos', 'S-S-H', 'OTHER-OTHER-ORG', 6, 0.005917159763313609]\n",
      "['1 2 nmod,2 0 root', 'S-S', 'OTHER-OTHER', '6748', '0.96', '1 2 nmod,2 0 root,3 2 appos', 'S-S-Z', 'OTHER-OTHER-OTHER', 6, 1.0]\n",
      "['1 2 nmod,2 0 root', 'S-S', 'OTHER-OTHER', '6748', '0.96', '1 2 nmod,2 0 root,3 2 appos', 'S-S-Y', 'OTHER-OTHER-OTHER', 24, 0.4444444444444444]\n",
      "['1 2 nmod,2 0 root', 'S-S', 'OTHER-OTHER', '6748', '0.96', '1 2 nmod,2 0 root,3 2 appos', 'S-S-Y', 'OTHER-OTHER-ORG', 12, 0.2222222222222222]\n",
      "['1 2 nmod,2 0 root', 'S-S', 'OTHER-OTHER', '6748', '0.96', '1 2 nmod,2 0 root,3 2 case', 'S-S-K', 'OTHER-OTHER-OTHER', 624, 0.9454545454545454]\n",
      "['1 2 nmod,2 0 root', 'S-S', 'OTHER-OTHER', '6748', '0.96', '1 2 nmod,2 0 root,3 2 conj', 'S-S-S', 'OTHER-OTHER-OTHER', 270, 0.5357142857142857]\n",
      "['1 2 nmod,2 0 root', 'S-S', 'OTHER-OTHER', '6748', '0.96', '1 2 nmod,2 0 root,3 2 conj', 'S-S-V_fin', 'OTHER-OTHER-OTHER', 24, 1.0]\n",
      "['1 2 nmod,2 0 root', 'S-S', 'OTHER-OTHER', '6748', '0.96', '1 2 nmod,2 0 root,3 2 conj', 'S-S-V_inf|A', 'OTHER-OTHER-OTHER', 6, 1.0]\n",
      "['1 2 nmod,2 0 root', 'S-S', 'OTHER-OTHER', '6748', '0.96', '1 2 nmod,2 0 root,3 2 punct', 'S-S-Z', 'OTHER-OTHER-OTHER', 258, 0.9148936170212766]\n",
      "['1 2 nmod,2 0 root', 'S-S', 'OTHER-OTHER', '6748', '0.96', '1 2 nmod,2 0 root,3 2 acl:relcl', 'S-S-S', 'OTHER-OTHER-OTHER', 78, 1.0]\n",
      "['1 2 nmod,2 0 root', 'S-S', 'OTHER-OTHER', '6748', '0.96', '1 2 nmod,2 0 root,3 2 acl:relcl', 'S-S-V_fin', 'OTHER-OTHER-OTHER', 30, 1.0]\n",
      "['1 2 nmod,2 0 root', 'S-S', 'OTHER-OTHER', '6748', '0.96', '1 2 nmod,2 0 root,3 2 acl:relcl', 'S-S-V_inf', 'OTHER-OTHER-OTHER', 36, 1.0]\n",
      "['1 2 nmod,2 0 root', 'S-S', 'OTHER-OTHER', '6748', '0.96', '1 2 nmod,2 0 root,3 2 acl:relcl', 'S-S-V_inf|A', 'OTHER-OTHER-OTHER', 48, 1.0]\n",
      "['1 2 nmod,2 0 root', 'S-S', 'OTHER-OTHER', '6748', '0.96', '1 2 nmod,2 0 root,3 2 acl:relcl', 'S-S-A', 'OTHER-OTHER-OTHER', 36, 1.0]\n",
      "['1 2 nmod,2 0 root', 'S-S', 'OTHER-OTHER', '6748', '0.96', '1 2 nmod,2 0 root,3 2 acl:relcl', 'S-S-A|V_inf', 'OTHER-OTHER-OTHER', 12, 1.0]\n",
      "['1 2 nmod,2 0 root', 'S-S', 'OTHER-OTHER', '6748', '0.96', '1 2 nmod,2 0 root,3 2 parataxis', 'S-S-S', 'OTHER-OTHER-OTHER', 36, 1.0]\n",
      "['1 2 nmod,2 0 root', 'S-S', 'OTHER-OTHER', '6748', '0.96', '1 2 nmod,2 0 root,3 2 parataxis', 'S-S-H', 'OTHER-OTHER-OTHER', 6, 1.0]\n",
      "['1 2 nmod,2 0 root', 'S-S', 'OTHER-OTHER', '6748', '0.96', '1 2 nmod,2 0 root,3 2 parataxis', 'S-S-Y', 'OTHER-OTHER-ORG', 36, 0.8571428571428571]\n",
      "['1 2 nmod,2 0 root', 'S-S', 'OTHER-OTHER', '6748', '0.96', '1 2 nmod,2 0 root,3 2 parataxis', 'S-S-N', 'OTHER-OTHER-OTHER', 6, 1.0]\n",
      "['1 2 nmod,2 0 root', 'S-S', 'OTHER-OTHER', '6748', '0.96', '1 2 nmod,2 0 root,3 2 parataxis', 'S-S-G', 'OTHER-OTHER-OTHER', 6, 1.0]\n",
      "['1 2 nmod,2 0 root', 'S-S', 'OTHER-OTHER', '6748', '0.96', '1 2 nmod,2 0 root,3 2 nummod', 'S-S-N', 'OTHER-OTHER-OTHER', 48, 0.8888888888888888]\n",
      "['1 2 nmod,2 0 root', 'S-S', 'OTHER-OTHER', '6748', '0.96', '1 2 nmod,2 0 root,3 2 acl', 'S-S-S', 'OTHER-OTHER-OTHER', 6, 1.0]\n",
      "['1 2 nmod,2 0 root', 'S-S', 'OTHER-OTHER', '6748', '0.96', '1 2 nmod,2 0 root,3 2 acl', 'S-S-V_fin', 'OTHER-OTHER-OTHER', 12, 1.0]\n",
      "['1 2 nmod,2 0 root', 'S-S', 'OTHER-OTHER', '6748', '0.96', '1 2 nmod,2 0 root,3 2 acl', 'S-S-V_inf', 'OTHER-OTHER-OTHER', 24, 0.5714285714285714]\n",
      "['1 2 nmod,2 0 root', 'S-S', 'OTHER-OTHER', '6748', '0.96', '1 2 nmod,2 0 root,3 2 acl', 'S-S-A', 'OTHER-OTHER-OTHER', 18, 1.0]\n",
      "['1 2 nmod,2 0 root', 'S-S', 'OTHER-OTHER', '6748', '0.96', '1 2 nmod,2 0 root,3 2 cop', 'S-S-V_fin', 'OTHER-OTHER-OTHER', 18, 1.0]\n",
      "['1 2 nmod,2 0 root', 'S-S', 'OTHER-OTHER', '6748', '0.96', '1 2 nmod,2 0 root,3 2 advcl', 'S-S-S', 'OTHER-OTHER-OTHER', 6, 1.0]\n",
      "['1 2 nmod,2 0 root', 'S-S', 'OTHER-OTHER', '6748', '0.96', '1 2 nmod,2 0 root,3 2 advcl', 'S-S-H', 'OTHER-OTHER-PER', 30, 0.8333333333333334]\n",
      "['1 2 nmod,2 0 root', 'S-S', 'OTHER-OTHER', '6748', '0.96', '1 2 nmod,2 0 root,3 2 advcl', 'S-S-H', 'OTHER-OTHER-OTHER', 6, 0.16666666666666666]\n",
      "['1 2 nmod,2 0 root', 'S-S', 'OTHER-OTHER', '6748', '0.96', '1 2 nmod,2 0 root,3 2 advcl', 'S-S-V_fin', 'OTHER-OTHER-OTHER', 6, 1.0]\n",
      "['1 2 nmod,2 0 root', 'S-S', 'OTHER-OTHER', '6748', '0.96', '1 2 nmod,2 0 root,3 2 advmod', 'S-S-D', 'OTHER-OTHER-OTHER', 30, 1.0]\n",
      "['1 2 nmod,2 0 root', 'S-S', 'OTHER-OTHER', '6748', '0.96', '1 2 nmod,2 0 root,3 2 flat', 'S-S-H', 'OTHER-OTHER-OTHER', 6, 1.0]\n",
      "['1 2 nmod,2 0 root', 'S-S', 'OTHER-OTHER', '6748', '0.96', '1 2 nmod,2 0 root,3 2 cc', 'S-S-J', 'OTHER-OTHER-OTHER', 12, 1.0]\n",
      "['1 2 nmod,2 0 root', 'S-S', 'ORG-OTHER', '196', '0.03', '1 2 nmod,2 0 root,3 2 nmod', 'S-S-S', 'ORG-OTHER-OTHER', 30, 0.024271844660194174]\n",
      "['1 2 nmod,2 0 root', 'S-S', 'ORG-OTHER', '196', '0.03', '1 2 nmod,2 0 root,3 2 appos', 'S-S-S', 'ORG-OTHER-OTHER', 12, 0.18181818181818182]\n",
      "['1 2 nmod,2 0 root', 'S-S', 'ORG-OTHER', '196', '0.03', '1 2 nmod,2 0 root,3 2 appos', 'S-S-S', 'ORG-OTHER-PER', 6, 0.09090909090909091]\n",
      "['1 2 nmod,2 0 root', 'S-S', 'ORG-OTHER', '196', '0.03', '1 2 nmod,2 0 root,3 2 appos', 'S-S-H', 'ORG-OTHER-OTHER', 138, 0.13609467455621302]\n",
      "['1 2 nmod,2 0 root', 'S-S', 'ORG-OTHER', '196', '0.03', '1 2 nmod,2 0 root,3 2 appos', 'S-S-H', 'ORG-OTHER-PER', 30, 0.029585798816568046]\n",
      "['1 2 nmod,2 0 root', 'S-S', 'ORG-OTHER', '196', '0.03', '1 2 nmod,2 0 root,3 2 appos', 'S-S-H', 'ORG-OTHER-ORG', 6, 0.005917159763313609]\n",
      "['1 2 nmod,2 0 root', 'S-S', 'ORG-OTHER', '196', '0.03', '1 2 nmod,2 0 root,3 2 appos', 'S-S-H', 'ORG-OTHER-LOC', 6, 0.005917159763313609]\n",
      "['1 2 nmod,2 0 root', 'S-S', 'ORG-OTHER', '196', '0.03', '1 2 nmod,2 0 root,3 2 case', 'S-S-K', 'ORG-OTHER-OTHER', 18, 0.02727272727272727]\n",
      "['1 2 nmod,2 0 root', 'S-S', 'ORG-OTHER', '196', '0.03', '1 2 nmod,2 0 root,3 2 conj', 'S-S-S', 'ORG-OTHER-OTHER', 156, 0.30952380952380953]\n",
      "['1 2 nmod,2 0 root', 'S-S', 'ORG-OTHER', '196', '0.03', '1 2 nmod,2 0 root,3 2 punct', 'S-S-Z', 'ORG-OTHER-OTHER', 6, 0.02127659574468085]\n",
      "['1 2 nmod,2 0 root', 'S-S', 'ORG-OTHER', '196', '0.03', '1 2 nmod,2 0 root,3 2 nummod', 'S-S-N', 'ORG-OTHER-OTHER', 6, 0.1111111111111111]\n",
      "['1 2 nmod,2 0 root', 'S-S', 'ORG-OTHER', '196', '0.03', '1 2 nmod,2 0 root,3 2 acl', 'S-S-V_inf', 'ORG-OTHER-OTHER', 18, 0.42857142857142855]\n",
      "['1 2 nmod,2 0 root', 'S-S', 'ORG-ORG', '50', '0.01', '1 2 nmod,2 0 root,3 2 appos', 'S-S-Y', 'ORG-ORG-ORG', 12, 0.2222222222222222]\n",
      "['1 2 nmod,2 0 root', 'S-S', 'ORG-ORG', '50', '0.01', '1 2 nmod,2 0 root,3 2 case', 'S-S-K', 'ORG-ORG-OTHER', 12, 0.01818181818181818]\n",
      "['1 2 nmod,2 0 root', 'S-S', 'ORG-ORG', '50', '0.01', '1 2 nmod,2 0 root,3 2 punct', 'S-S-Z', 'ORG-ORG-OTHER', 12, 0.0425531914893617]\n",
      "['1 2 nmod,2 0 root', 'S-S', 'ORG-ORG', '50', '0.01', '1 2 nmod,2 0 root,3 2 parataxis', 'S-S-Y', 'ORG-ORG-ORG', 6, 0.14285714285714285]\n",
      "['1 2 nmod,2 0 root', 'S-S', 'LOC-OTHER', '49', '0.01', '1 2 nmod,2 0 root,3 2 appos', 'S-S-H', 'LOC-OTHER-OTHER', 12, 0.011834319526627219]\n",
      "['1 2 nmod,2 0 root', 'S-S', 'LOC-OTHER', '49', '0.01', '1 2 nmod,2 0 root,3 2 appos', 'S-S-Y', 'LOC-OTHER-OTHER', 6, 0.1111111111111111]\n",
      "['1 2 nmod,2 0 root', 'S-S', 'LOC-OTHER', '49', '0.01', '1 2 nmod,2 0 root,3 2 case', 'S-S-K', 'LOC-OTHER-OTHER', 6, 0.00909090909090909]\n",
      "['1 2 nmod,2 0 root', 'S-S', 'LOC-OTHER', '49', '0.01', '1 2 nmod,2 0 root,3 2 conj', 'S-S-S', 'LOC-OTHER-OTHER', 78, 0.15476190476190477]\n",
      "['1 2 nmod,2 0 root', 'S-S', 'OTHER-ORG', '2', '0.0', '1 2 nmod,2 0 root,3 2 punct', 'S-S-Z', 'OTHER-ORG-OTHER', 6, 0.02127659574468085]\n",
      "['1 2 nmod,2 0 root', 'A-S', 'OTHER-OTHER', '10', '0.71', '1 2 nmod,2 0 root,3 2 nmod', 'A-S-S', 'OTHER-OTHER-OTHER', 6, 1.0]\n",
      "['1 2 nmod,2 0 root', 'H-S', 'OTHER-OTHER', '1169', '0.43', '1 2 nmod,2 0 root,3 2 nmod', 'H-S-S', 'OTHER-OTHER-OTHER', 42, 0.1076923076923077]\n",
      "['1 2 nmod,2 0 root', 'H-S', 'OTHER-OTHER', '1169', '0.43', '1 2 nmod,2 0 root,3 2 appos', 'H-S-H', 'OTHER-OTHER-PER', 12, 0.05714285714285714]\n",
      "['1 2 nmod,2 0 root', 'H-S', 'OTHER-OTHER', '1169', '0.43', '1 2 nmod,2 0 root,3 2 appos', 'H-S-H', 'OTHER-OTHER-OTHER', 6, 0.02857142857142857]\n",
      "['1 2 nmod,2 0 root', 'H-S', 'OTHER-OTHER', '1169', '0.43', '1 2 nmod,2 0 root,3 2 appos', 'H-S-H', 'OTHER-OTHER-ORG', 6, 0.02857142857142857]\n",
      "['1 2 nmod,2 0 root', 'H-S', 'OTHER-OTHER', '1169', '0.43', '1 2 nmod,2 0 root,3 2 case', 'H-S-K', 'OTHER-OTHER-OTHER', 12, 0.1]\n",
      "['1 2 nmod,2 0 root', 'H-S', 'OTHER-OTHER', '1169', '0.43', '1 2 nmod,2 0 root,3 2 punct', 'H-S-Z', 'OTHER-OTHER-OTHER', 72, 0.8571428571428571]\n",
      "['1 2 nmod,2 0 root', 'H-S', 'OTHER-OTHER', '1169', '0.43', '1 2 nmod,2 0 root,3 2 parataxis', 'H-S-S', 'OTHER-OTHER-OTHER', 6, 1.0]\n",
      "['1 2 nmod,2 0 root', 'H-S', 'OTHER-OTHER', '1169', '0.43', '1 2 nmod,2 0 root,3 2 nummod', 'H-S-N', 'OTHER-OTHER-OTHER', 12, 1.0]\n",
      "['1 2 nmod,2 0 root', 'H-S', 'OTHER-OTHER', '1169', '0.43', '1 2 nmod,2 0 root,3 1 punct', 'H-S-Z', 'OTHER-OTHER-OTHER', 6, 1.0]\n",
      "['1 2 nmod,2 0 root', 'H-S', 'LOC-OTHER', '980', '0.36', '1 2 nmod,2 0 root,3 2 nmod', 'H-S-S', 'LOC-OTHER-OTHER', 276, 0.7076923076923077]\n",
      "['1 2 nmod,2 0 root', 'H-S', 'LOC-OTHER', '980', '0.36', '1 2 nmod,2 0 root,3 2 nmod', 'H-S-S', 'LOC-OTHER-LOC', 6, 0.015384615384615385]\n",
      "['1 2 nmod,2 0 root', 'H-S', 'LOC-OTHER', '980', '0.36', '1 2 nmod,2 0 root,3 2 nmod', 'H-S-H', 'LOC-OTHER-OTHER', 6, 1.0]\n",
      "['1 2 nmod,2 0 root', 'H-S', 'LOC-OTHER', '980', '0.36', '1 2 nmod,2 0 root,3 2 nmod', 'H-S-Y', 'LOC-OTHER-OTHER', 12, 1.0]\n",
      "['1 2 nmod,2 0 root', 'H-S', 'LOC-OTHER', '980', '0.36', '1 2 nmod,2 0 root,3 2 appos', 'H-S-H', 'LOC-OTHER-PER', 60, 0.2857142857142857]\n",
      "['1 2 nmod,2 0 root', 'H-S', 'LOC-OTHER', '980', '0.36', '1 2 nmod,2 0 root,3 2 appos', 'H-S-H', 'LOC-OTHER-OTHER', 42, 0.2]\n",
      "['1 2 nmod,2 0 root', 'H-S', 'LOC-OTHER', '980', '0.36', '1 2 nmod,2 0 root,3 2 appos', 'H-S-H', 'LOC-OTHER-ORG', 12, 0.05714285714285714]\n",
      "['1 2 nmod,2 0 root', 'H-S', 'LOC-OTHER', '980', '0.36', '1 2 nmod,2 0 root,3 2 appos', 'H-S-H', 'LOC-OTHER-LOC', 6, 0.02857142857142857]\n",
      "['1 2 nmod,2 0 root', 'H-S', 'LOC-OTHER', '980', '0.36', '1 2 nmod,2 0 root,3 2 case', 'H-S-K', 'LOC-OTHER-OTHER', 30, 0.25]\n",
      "['1 2 nmod,2 0 root', 'H-S', 'ORG-ORG', '172', '0.06', '1 2 nmod,2 0 root,3 2 conj', 'H-S-S', 'ORG-ORG-OTHER', 12, 1.0]\n",
      "['1 2 nmod,2 0 root', 'H-S', 'ORG-ORG', '172', '0.06', '1 2 nmod,2 0 root,3 2 punct', 'H-S-Z', 'ORG-ORG-OTHER', 6, 0.07142857142857142]\n",
      "['1 2 nmod,2 0 root', 'H-S', 'ORG-ORG', '172', '0.06', '1 2 nmod,2 0 root,3 2 acl:relcl', 'H-S-S', 'ORG-ORG-OTHER', 6, 1.0]\n",
      "['1 2 nmod,2 0 root', 'H-S', 'ORG-ORG', '172', '0.06', '1 2 nmod,2 0 root,3 2 parataxis', 'H-S-Y', 'ORG-ORG-ORG', 6, 1.0]\n",
      "['1 2 nmod,2 0 root', 'H-S', 'ORG-ORG', '172', '0.06', '1 2 nmod,2 0 root,3 2 parataxis', 'H-S-O', 'ORG-ORG-OTHER', 12, 1.0]\n",
      "['1 2 nmod,2 0 root', 'H-S', 'ORG-ORG', '172', '0.06', '1 2 nmod,2 0 root,3 2 parataxis', 'H-S-P', 'ORG-ORG-OTHER', 6, 1.0]\n",
      "['1 2 nmod,2 0 root', 'H-S', 'LOC-LOC', '172', '0.06', '1 2 nmod,2 0 root,3 2 nmod', 'H-S-S', 'LOC-LOC-OTHER', 12, 0.03076923076923077]\n",
      "['1 2 nmod,2 0 root', 'H-S', 'LOC-LOC', '172', '0.06', '1 2 nmod,2 0 root,3 2 case', 'H-S-K', 'LOC-LOC-OTHER', 18, 0.15]\n",
      "['1 2 nmod,2 0 root', 'H-S', 'ORG-OTHER', '149', '0.05', '1 2 nmod,2 0 root,3 2 nmod', 'H-S-S', 'ORG-OTHER-OTHER', 48, 0.12307692307692308]\n",
      "['1 2 nmod,2 0 root', 'H-S', 'ORG-OTHER', '149', '0.05', '1 2 nmod,2 0 root,3 2 appos', 'H-S-S', 'ORG-OTHER-OTHER', 12, 1.0]\n",
      "['1 2 nmod,2 0 root', 'H-S', 'ORG-OTHER', '149', '0.05', '1 2 nmod,2 0 root,3 2 appos', 'H-S-H', 'ORG-OTHER-PER', 30, 0.14285714285714285]\n",
      "['1 2 nmod,2 0 root', 'H-S', 'ORG-OTHER', '149', '0.05', '1 2 nmod,2 0 root,3 2 appos', 'H-S-H', 'ORG-OTHER-OTHER', 24, 0.11428571428571428]\n",
      "['1 2 nmod,2 0 root', 'H-S', 'ORG-OTHER', '149', '0.05', '1 2 nmod,2 0 root,3 2 case', 'H-S-K', 'ORG-OTHER-OTHER', 6, 0.05]\n",
      "['1 2 nmod,2 0 root', 'H-S', 'ORG-OTHER', '149', '0.05', '1 2 nmod,2 0 root,3 2 punct', 'H-S-Z', 'ORG-OTHER-OTHER', 6, 0.07142857142857142]\n",
      "['1 2 nmod,2 0 root', 'H-S', 'ORG-OTHER', '149', '0.05', '1 2 nmod,2 0 root,3 2 parataxis', 'H-S-N', 'ORG-OTHER-OTHER', 12, 1.0]\n",
      "['1 2 nmod,2 0 root', 'H-S', 'PER-OTHER', '85', '0.03', '1 2 nmod,2 0 root,3 2 nmod', 'H-S-S', 'PER-OTHER-OTHER', 6, 0.015384615384615385]\n",
      "['1 2 nmod,2 0 root', 'H-S', 'PER-OTHER', '85', '0.03', '1 2 nmod,2 0 root,3 2 appos', 'H-S-H', 'PER-OTHER-PER', 6, 0.02857142857142857]\n",
      "['1 2 nmod,2 0 root', 'H-S', 'PER-OTHER', '85', '0.03', '1 2 nmod,2 0 root,3 2 appos', 'H-S-H', 'PER-OTHER-OTHER', 6, 0.02857142857142857]\n",
      "['1 2 nmod,2 0 root', 'H-S', 'PER-OTHER', '85', '0.03', '1 2 nmod,2 0 root,3 2 case', 'H-S-K', 'PER-OTHER-OTHER', 54, 0.45]\n",
      "['1 2 nmod,2 0 root', 'P-S', 'OTHER-OTHER', '1885', '0.99', '1 2 nmod,2 0 root,3 2 nmod', 'P-S-S', 'OTHER-OTHER-OTHER', 96, 0.8888888888888888]\n",
      "['1 2 nmod,2 0 root', 'P-S', 'OTHER-OTHER', '1885', '0.99', '1 2 nmod,2 0 root,3 2 nmod', 'P-S-S', 'OTHER-OTHER-LOC', 12, 0.1111111111111111]\n",
      "['1 2 nmod,2 0 root', 'P-S', 'OTHER-OTHER', '1885', '0.99', '1 2 nmod,2 0 root,3 2 nmod', 'P-S-H', 'OTHER-OTHER-PER', 12, 0.6666666666666666]\n",
      "['1 2 nmod,2 0 root', 'P-S', 'OTHER-OTHER', '1885', '0.99', '1 2 nmod,2 0 root,3 2 nmod', 'P-S-H', 'OTHER-OTHER-OTHER', 6, 0.3333333333333333]\n",
      "['1 2 nmod,2 0 root', 'P-S', 'OTHER-OTHER', '1885', '0.99', '1 2 nmod,2 0 root,3 2 nmod', 'P-S-P', 'OTHER-OTHER-OTHER', 12, 1.0]\n",
      "['1 2 nmod,2 0 root', 'P-S', 'OTHER-OTHER', '1885', '0.99', '1 2 nmod,2 0 root,3 2 appos', 'P-S-S', 'OTHER-OTHER-OTHER', 6, 1.0]\n",
      "['1 2 nmod,2 0 root', 'P-S', 'OTHER-OTHER', '1885', '0.99', '1 2 nmod,2 0 root,3 2 appos', 'P-S-H', 'OTHER-OTHER-PER', 6, 1.0]\n",
      "['1 2 nmod,2 0 root', 'P-S', 'OTHER-OTHER', '1885', '0.99', '1 2 nmod,2 0 root,3 2 case', 'P-S-K', 'OTHER-OTHER-OTHER', 6, 1.0]\n",
      "['1 2 nmod,2 0 root', 'P-S', 'OTHER-OTHER', '1885', '0.99', '1 2 nmod,2 0 root,3 2 conj', 'P-S-S', 'OTHER-OTHER-OTHER', 42, 0.7777777777777778]\n",
      "['1 2 nmod,2 0 root', 'P-S', 'OTHER-OTHER', '1885', '0.99', '1 2 nmod,2 0 root,3 2 punct', 'P-S-Z', 'OTHER-OTHER-OTHER', 6, 1.0]\n",
      "['1 2 nmod,2 0 root', 'P-S', 'OTHER-OTHER', '1885', '0.99', '1 2 nmod,2 0 root,3 2 acl:relcl', 'P-S-S', 'OTHER-OTHER-OTHER', 36, 1.0]\n",
      "['1 2 nmod,2 0 root', 'P-S', 'OTHER-OTHER', '1885', '0.99', '1 2 nmod,2 0 root,3 2 acl:relcl', 'P-S-P', 'OTHER-OTHER-OTHER', 6, 1.0]\n",
      "['1 2 nmod,2 0 root', 'P-S', 'OTHER-OTHER', '1885', '0.99', '1 2 nmod,2 0 root,3 2 nummod', 'P-S-N', 'OTHER-OTHER-OTHER', 6, 1.0]\n",
      "['1 2 nmod,2 0 root', 'P-S', 'OTHER-OTHER', '1885', '0.99', '1 2 nmod,2 0 root,3 2 cop', 'P-S-V_fin', 'OTHER-OTHER-OTHER', 54, 1.0]\n",
      "['1 2 nmod,2 0 root', 'P-S', 'ORG-ORG', '16', '0.01', '1 2 nmod,2 0 root,3 2 conj', 'P-S-S', 'ORG-ORG-OTHER', 12, 0.2222222222222222]\n",
      "['1 2 nmod,2 0 root', 'Y-S', 'OTHER-OTHER', '185', '0.52', '1 2 nmod,2 0 root,3 2 case', 'Y-S-K', 'OTHER-OTHER-OTHER', 18, 0.375]\n",
      "['1 2 nmod,2 0 root', 'Y-S', 'OTHER-OTHER', '185', '0.52', '1 2 nmod,2 0 root,3 2 punct', 'Y-S-Z', 'OTHER-OTHER-OTHER', 18, 1.0]\n",
      "['1 2 nmod,2 0 root', 'Y-S', 'OTHER-OTHER', '185', '0.52', '1 2 nmod,2 0 root,3 2 parataxis', 'Y-S-Y', 'OTHER-OTHER-OTHER', 18, 1.0]\n",
      "['1 2 nmod,2 0 root', 'Y-S', 'OTHER-OTHER', '185', '0.52', '1 2 nmod,2 0 root,3 2 nummod', 'Y-S-N', 'OTHER-OTHER-OTHER', 6, 1.0]\n",
      "['1 2 nmod,2 0 root', 'Y-S', 'ORG-OTHER', '123', '0.34', '1 2 nmod,2 0 root,3 2 nmod', 'Y-S-S', 'ORG-OTHER-OTHER', 54, 1.0]\n",
      "['1 2 nmod,2 0 root', 'Y-S', 'ORG-OTHER', '123', '0.34', '1 2 nmod,2 0 root,3 2 appos', 'Y-S-H', 'ORG-OTHER-OTHER', 24, 0.4444444444444444]\n",
      "['1 2 nmod,2 0 root', 'Y-S', 'ORG-OTHER', '123', '0.34', '1 2 nmod,2 0 root,3 2 appos', 'Y-S-H', 'ORG-OTHER-PER', 18, 0.3333333333333333]\n",
      "['1 2 nmod,2 0 root', 'Y-S', 'ORG-OTHER', '123', '0.34', '1 2 nmod,2 0 root,3 2 case', 'Y-S-K', 'ORG-OTHER-OTHER', 18, 0.375]\n",
      "['1 2 nmod,2 0 root', 'Y-S', 'ORG-OTHER', '123', '0.34', '1 2 nmod,2 0 root,3 2 conj', 'Y-S-V_fin', 'ORG-OTHER-OTHER', 12, 1.0]\n",
      "['1 2 nmod,2 0 root', 'Y-S', 'ORG-OTHER', '123', '0.34', '1 2 nmod,2 0 root,3 2 parataxis', 'Y-S-N', 'ORG-OTHER-OTHER', 12, 1.0]\n",
      "['1 2 nmod,2 0 root', 'Y-S', 'ORG-ORG', '7', '0.02', '1 2 nmod,2 0 root,3 2 case', 'Y-S-K', 'ORG-ORG-OTHER', 6, 0.125]\n",
      "['1 2 nmod,2 0 root', 'H-H', 'ORG-ORG', '45', '0.17', '1 2 nmod,2 0 root,3 2 nmod', 'H-H-S', 'ORG-ORG-OTHER', 6, 0.3333333333333333]\n",
      "['1 2 nmod,2 0 root', 'H-H', 'LOC-LOC', '23', '0.09', '1 2 nmod,2 0 root,3 2 nmod', 'H-H-S', 'LOC-LOC-OTHER', 12, 0.6666666666666666]\n",
      "['1 2 nmod,2 0 root', 'H-H', 'LOC-LOC', '23', '0.09', '1 2 nmod,2 0 root,3 2 conj', 'H-H-H', 'LOC-LOC-ORG', 12, 1.0]\n",
      "['1 2 nmod,2 0 root', 'G-S', 'LOC-OTHER', '16', '0.36', '1 2 nmod,2 0 root,3 2 case', 'G-S-K', 'LOC-OTHER-OTHER', 6, 1.0]\n",
      "['1 2 nmod,2 0 root', 'Y-N', 'OTHER-OTHER', '40', '1.0', '1 2 nmod,2 0 root,3 2 flat', 'Y-N-N', 'OTHER-OTHER-OTHER', 6, 1.0]\n",
      "['1 2 nmod,2 0 root', 'P-N', 'OTHER-OTHER', '30', '1.0', '1 2 nmod,2 0 root,3 2 nmod', 'P-N-S', 'OTHER-OTHER-OTHER', 6, 1.0]\n",
      "['1 2 nmod,2 0 root', 'S-Y', 'OTHER-OTHER', '20', '0.69', '1 2 nmod,2 0 root,3 2 nmod', 'S-Y-H', 'OTHER-OTHER-OTHER', 6, 1.0]\n",
      "['1 2 nmod,2 0 root', 'S-Y', 'OTHER-OTHER', '20', '0.69', '1 2 nmod,2 0 root,3 2 appos', 'S-Y-S', 'OTHER-OTHER-OTHER', 6, 1.0]\n",
      "['1 2 nmod,2 0 root', 'S-Y', 'OTHER-ORG', '8', '0.28', '1 2 nmod,2 0 root,3 2 nmod', 'S-Y-S', 'OTHER-ORG-OTHER', 6, 1.0]\n",
      "['1 2 nmod,2 0 root', 'S-H', 'OTHER-OTHER', '9', '0.6', '1 2 nmod,2 0 root,3 2 punct', 'S-H-Z', 'OTHER-OTHER-OTHER', 6, 0.5]\n",
      "['1 2 nmod,2 0 root', 'S-H', 'OTHER-OTHER', '9', '0.6', '1 2 nmod,2 0 root,3 2 flat', 'S-H-H', 'OTHER-OTHER-OTHER', 12, 1.0]\n",
      "['1 2 nmod,2 0 root', 'S-H', 'OTHER-LOC', '3', '0.2', '1 2 nmod,2 0 root,3 2 punct', 'S-H-Z', 'OTHER-LOC-OTHER', 6, 0.5]\n",
      "['1 2 nmod,2 0 root', 'S-H', 'OTHER-LOC', '3', '0.2', '1 2 nmod,2 0 root,3 2 parataxis', 'S-H-H', 'OTHER-LOC-OTHER', 6, 1.0]\n",
      "['1 2 nmod,2 0 root', 'S-N', 'OTHER-OTHER', '11', '1.0', '1 2 nmod,2 0 root,3 2 nmod', 'S-N-S', 'OTHER-OTHER-OTHER', 6, 1.0]\n",
      "['1 2 nmod,2 0 root', 'S-N', 'OTHER-OTHER', '11', '1.0', '1 2 nmod,2 0 root,3 2 case', 'S-N-K', 'OTHER-OTHER-OTHER', 6, 1.0]\n",
      "['1 2 nmod,2 0 root', 'Y-Y', 'OTHER-OTHER', '6', '1.0', '1 2 nmod,2 0 root,3 2 case', 'Y-Y-K', 'OTHER-OTHER-OTHER', 6, 1.0]\n",
      "['1 2 nmod,2 0 root', 'Y-Y', 'OTHER-OTHER', '6', '1.0', '1 2 nmod,2 0 root,3 2 punct', 'Y-Y-Z', 'OTHER-OTHER-OTHER', 60, 1.0]\n",
      "['1 2 nmod,2 0 root', 'S-V_inf|A', 'OTHER-OTHER', '4', '1.0', '1 2 nmod,2 0 root,3 2 nmod', 'S-V_inf|A-S', 'OTHER-OTHER-OTHER', 6, 1.0]\n",
      "['1 2 nmod,2 0 root', 'S-O', 'OTHER-OTHER', '3', '1.0', '1 2 nmod,2 0 root,3 2 punct', 'S-O-Z', 'OTHER-OTHER-OTHER', 42, 1.0]\n",
      "['1 2 amod,2 0 root', 'A-S', 'OTHER-OTHER', '5043', '1.0', '1 2 amod,2 0 root,3 2 nmod', 'A-S-S', 'OTHER-OTHER-OTHER', 140, 1.0]\n",
      "['1 2 amod,2 0 root', 'A-S', 'OTHER-OTHER', '5043', '1.0', '1 2 amod,2 0 root,3 2 nmod', 'A-S-Z', 'OTHER-OTHER-OTHER', 2, 1.0]\n",
      "['1 2 amod,2 0 root', 'A-S', 'OTHER-OTHER', '5043', '1.0', '1 2 amod,2 0 root,3 2 nmod', 'A-S-H', 'OTHER-OTHER-OTHER', 2, 1.0]\n",
      "['1 2 amod,2 0 root', 'A-S', 'OTHER-OTHER', '5043', '1.0', '1 2 amod,2 0 root,3 2 nmod', 'A-S-Y', 'OTHER-OTHER-OTHER', 14, 0.7777777777777778]\n",
      "['1 2 amod,2 0 root', 'A-S', 'OTHER-OTHER', '5043', '1.0', '1 2 amod,2 0 root,3 2 nmod', 'A-S-Y', 'OTHER-OTHER-LOC', 4, 0.2222222222222222]\n",
      "['1 2 amod,2 0 root', 'A-S', 'OTHER-OTHER', '5043', '1.0', '1 2 amod,2 0 root,3 2 nmod', 'A-S-P', 'OTHER-OTHER-OTHER', 6, 1.0]\n",
      "['1 2 amod,2 0 root', 'A-S', 'OTHER-OTHER', '5043', '1.0', '1 2 amod,2 0 root,3 2 punct', 'A-S-Z', 'OTHER-OTHER-OTHER', 86, 1.0]\n",
      "['1 2 amod,2 0 root', 'A-S', 'OTHER-OTHER', '5043', '1.0', '1 2 amod,2 0 root,3 2 conj', 'A-S-S', 'OTHER-OTHER-OTHER', 116, 1.0]\n",
      "['1 2 amod,2 0 root', 'A-S', 'OTHER-OTHER', '5043', '1.0', '1 2 amod,2 0 root,3 2 appos', 'A-S-S', 'OTHER-OTHER-OTHER', 10, 1.0]\n",
      "['1 2 amod,2 0 root', 'A-S', 'OTHER-OTHER', '5043', '1.0', '1 2 amod,2 0 root,3 2 appos', 'A-S-H', 'OTHER-OTHER-OTHER', 18, 0.5625]\n",
      "['1 2 amod,2 0 root', 'A-S', 'OTHER-OTHER', '5043', '1.0', '1 2 amod,2 0 root,3 2 appos', 'A-S-H', 'OTHER-OTHER-PER', 14, 0.4375]\n",
      "['1 2 amod,2 0 root', 'A-S', 'OTHER-OTHER', '5043', '1.0', '1 2 amod,2 0 root,3 2 case', 'A-S-K', 'OTHER-OTHER-OTHER', 34, 1.0]\n",
      "['1 2 amod,2 0 root', 'A-S', 'OTHER-OTHER', '5043', '1.0', '1 2 amod,2 0 root,3 2 acl:relcl', 'A-S-S', 'OTHER-OTHER-OTHER', 8, 0.8]\n",
      "['1 2 amod,2 0 root', 'A-S', 'OTHER-OTHER', '5043', '1.0', '1 2 amod,2 0 root,3 2 acl:relcl', 'A-S-V_inf', 'OTHER-OTHER-OTHER', 12, 1.0]\n",
      "['1 2 amod,2 0 root', 'A-S', 'OTHER-OTHER', '5043', '1.0', '1 2 amod,2 0 root,3 2 acl:relcl', 'A-S-A', 'OTHER-OTHER-OTHER', 2, 1.0]\n",
      "['1 2 amod,2 0 root', 'A-S', 'OTHER-OTHER', '5043', '1.0', '1 2 amod,2 0 root,3 2 advmod', 'A-S-D', 'OTHER-OTHER-OTHER', 12, 1.0]\n",
      "['1 2 amod,2 0 root', 'A-S', 'OTHER-OTHER', '5043', '1.0', '1 2 amod,2 0 root,3 2 parataxis', 'A-S-S', 'OTHER-OTHER-OTHER', 4, 1.0]\n",
      "['1 2 amod,2 0 root', 'A-S', 'OTHER-OTHER', '5043', '1.0', '1 2 amod,2 0 root,3 2 nummod', 'A-S-N', 'OTHER-OTHER-OTHER', 4, 1.0]\n",
      "['1 2 amod,2 0 root', 'A-S', 'ORG-ORG', '12', '0.0', '1 2 amod,2 0 root,3 2 acl:relcl', 'A-S-S', 'ORG-ORG-OTHER', 2, 0.2]\n",
      "['1 2 amod,2 0 root', 'P-S', 'OTHER-OTHER', '123', '1.0', '1 2 amod,2 0 root,3 2 nmod', 'P-S-S', 'OTHER-OTHER-OTHER', 2, 1.0]\n",
      "['1 2 amod,2 0 root', 'P-S', 'OTHER-OTHER', '123', '1.0', '1 2 amod,2 0 root,3 2 case', 'P-S-K', 'OTHER-OTHER-OTHER', 2, 1.0]\n",
      "['1 2 amod,2 0 root', 'O-S', 'OTHER-OTHER', '833', '1.0', '1 2 amod,2 0 root,3 2 nmod', 'O-S-S', 'OTHER-OTHER-OTHER', 20, 0.8333333333333334]\n",
      "['1 2 amod,2 0 root', 'O-S', 'OTHER-OTHER', '833', '1.0', '1 2 amod,2 0 root,3 2 nmod', 'O-S-S', 'OTHER-OTHER-LOC', 4, 0.16666666666666666]\n",
      "['1 2 amod,2 0 root', 'O-S', 'OTHER-OTHER', '833', '1.0', '1 2 amod,2 0 root,3 2 nmod', 'O-S-H', 'OTHER-OTHER-OTHER', 2, 1.0]\n",
      "['1 2 amod,2 0 root', 'O-S', 'OTHER-OTHER', '833', '1.0', '1 2 amod,2 0 root,3 2 punct', 'O-S-Z', 'OTHER-OTHER-OTHER', 2, 1.0]\n",
      "['1 2 amod,2 0 root', 'O-S', 'OTHER-OTHER', '833', '1.0', '1 2 amod,2 0 root,3 2 appos', 'O-S-H', 'OTHER-OTHER-OTHER', 4, 1.0]\n",
      "['1 2 amod,2 0 root', 'O-S', 'OTHER-OTHER', '833', '1.0', '1 2 amod,2 0 root,3 2 case', 'O-S-K', 'OTHER-OTHER-OTHER', 2, 1.0]\n",
      "['1 2 amod,2 0 root', 'C-S', 'OTHER-OTHER', '422', '1.0', '1 2 amod,2 0 root,3 2 nmod', 'C-S-S', 'OTHER-OTHER-OTHER', 10, 1.0]\n",
      "['1 2 amod,2 0 root', 'C-S', 'OTHER-OTHER', '422', '1.0', '1 2 amod,2 0 root,3 2 punct', 'C-S-Z', 'OTHER-OTHER-OTHER', 4, 1.0]\n",
      "['1 2 amod,2 0 root', 'C-S', 'OTHER-OTHER', '422', '1.0', '1 2 amod,2 0 root,3 2 conj', 'C-S-S', 'OTHER-OTHER-OTHER', 12, 1.0]\n",
      "['1 2 amod,2 0 root', 'C-S', 'OTHER-OTHER', '422', '1.0', '1 2 amod,2 0 root,3 2 appos', 'C-S-S', 'OTHER-OTHER-OTHER', 2, 1.0]\n",
      "['1 2 amod,2 0 root', 'C-S', 'OTHER-OTHER', '422', '1.0', '1 2 amod,2 0 root,3 2 appos', 'C-S-H', 'OTHER-OTHER-PER', 2, 0.5]\n",
      "['1 2 amod,2 0 root', 'C-S', 'OTHER-OTHER', '422', '1.0', '1 2 amod,2 0 root,3 2 appos', 'C-S-H', 'OTHER-OTHER-OTHER', 2, 0.5]\n",
      "['1 2 amod,2 0 root', 'Y-S', 'ORG-OTHER', '2', '0.33', '1 2 amod,2 0 root,3 2 punct', 'Y-S-Z', 'ORG-OTHER-OTHER', 16, 1.0]\n",
      "['1 2 amod,2 0 root', 'G-S', 'OTHER-OTHER', '159', '0.99', '1 2 amod,2 0 root,3 2 nmod', 'G-S-S', 'OTHER-OTHER-OTHER', 2, 1.0]\n",
      "['1 2 amod,2 0 root', 'G-S', 'OTHER-OTHER', '159', '0.99', '1 2 amod,2 0 root,3 2 punct', 'G-S-Z', 'OTHER-OTHER-OTHER', 2, 1.0]\n",
      "['1 2 amod,2 0 root', 'G-S', 'OTHER-OTHER', '159', '0.99', '1 2 amod,2 0 root,3 2 appos', 'G-S-H', 'OTHER-OTHER-LOC', 4, 1.0]\n",
      "['1 2 amod,2 0 root', 'G-S', 'OTHER-OTHER', '159', '0.99', '1 2 amod,2 0 root,3 2 advmod', 'G-S-D', 'OTHER-OTHER-OTHER', 2, 1.0]\n",
      "['1 2 amod,2 0 root', 'P|O-S', 'OTHER-OTHER', '119', '1.0', '1 2 amod,2 0 root,3 2 nmod', 'P|O-S-S', 'OTHER-OTHER-OTHER', 2, 1.0]\n",
      "['1 2 amod,2 0 root', 'P|O-S', 'OTHER-OTHER', '119', '1.0', '1 2 amod,2 0 root,3 2 parataxis', 'P|O-S-S', 'OTHER-OTHER-OTHER', 2, 1.0]\n",
      "['1 2 amod,2 0 root', 'P|O-S', 'OTHER-OTHER', '119', '1.0', '1 2 amod,2 0 root,3 2 nummod', 'P|O-S-N', 'OTHER-OTHER-OTHER', 2, 1.0]\n",
      "['1 2 amod,2 0 root', 'U-S', 'OTHER-OTHER', '105', '1.0', '1 2 amod,2 0 root,3 2 nmod', 'U-S-S', 'OTHER-OTHER-OTHER', 2, 1.0]\n",
      "['1 2 amod,2 0 root', 'U-S', 'OTHER-OTHER', '105', '1.0', '1 2 amod,2 0 root,3 2 case', 'U-S-K', 'OTHER-OTHER-OTHER', 2, 1.0]\n",
      "['1 2 amod,2 0 root', 'A-H', 'OTHER-LOC', '7', '0.12', '1 2 amod,2 0 root,3 2 case', 'A-H-K', 'OTHER-LOC-OTHER', 4, 1.0]\n",
      "['1 2 amod,2 0 root', 'A-H', 'OTHER-ORG', '4', '0.07', '1 2 amod,2 0 root,3 2 nmod', 'A-H-S', 'OTHER-ORG-OTHER', 2, 1.0]\n",
      "['1 2 amod,2 0 root', 'O-Y', 'OTHER-OTHER', '19', '1.0', '1 2 amod,2 0 root,3 2 punct', 'O-Y-Z', 'OTHER-OTHER-OTHER', 20, 1.0]\n",
      "['1 2 amod,2 0 root', 'O|P-S', 'OTHER-OTHER', '14', '1.0', '1 2 amod,2 0 root,3 2 nmod', 'O|P-S-S', 'OTHER-OTHER-OTHER', 6, 1.0]\n",
      "['1 2 amod,2 0 root', 'A-Y', 'OTHER-ORG', '6', '0.55', '1 2 amod,2 0 root,3 2 nmod', 'A-Y-S', 'OTHER-ORG-OTHER', 2, 1.0]\n",
      "['1 2 obl,2 3 acl,3 0 root', 'S-A-S', 'OTHER-OTHER-OTHER', '278', '0.98', '1 2 obl,2 3 acl,3 0 root,4 3 appos', 'S-A-S-H', 'OTHER-OTHER-OTHER-OTHER', 12, 0.6666666666666666]\n",
      "['1 2 obl,2 3 acl,3 0 root', 'S-A-S', 'OTHER-OTHER-OTHER', '278', '0.98', '1 2 obl,2 3 acl,3 0 root,4 3 appos', 'S-A-S-H', 'OTHER-OTHER-OTHER-PER', 3, 0.16666666666666666]\n",
      "['1 2 obl,2 3 acl,3 0 root', 'S-A-S', 'OTHER-OTHER-OTHER', '278', '0.98', '1 2 obl,2 3 acl,3 0 root,4 3 appos', 'S-A-S-H', 'OTHER-OTHER-OTHER-LOC', 3, 0.16666666666666666]\n",
      "['1 2 obl,2 3 acl,3 0 root', 'S-A-S', 'OTHER-OTHER-OTHER', '278', '0.98', '1 2 obl,2 3 acl,3 0 root,4 3 appos', 'S-A-S-S', 'OTHER-OTHER-OTHER-OTHER', 3, 1.0]\n",
      "['1 2 obl,2 3 acl,3 0 root', 'S-A-S', 'OTHER-OTHER-OTHER', '278', '0.98', '1 2 obl,2 3 acl,3 0 root,4 3 nmod', 'S-A-S-H', 'OTHER-OTHER-OTHER-OTHER', 3, 1.0]\n",
      "['1 2 obl,2 3 acl,3 0 root', 'S-A-S', 'OTHER-OTHER-OTHER', '278', '0.98', '1 2 obl,2 3 acl,3 0 root,4 3 nmod', 'S-A-S-S', 'OTHER-OTHER-OTHER-OTHER', 6, 1.0]\n",
      "['1 2 obl,2 3 acl,3 0 root', 'S-A|V_inf-S', 'OTHER-OTHER-OTHER', '109', '0.98', '1 2 obl,2 3 acl,3 0 root,4 3 nmod', 'S-A|V_inf-S-S', 'OTHER-OTHER-OTHER-OTHER', 9, 1.0]\n",
      "['1 2 obl,2 3 acl,3 0 root', 'S-A|V_inf-S', 'OTHER-OTHER-OTHER', '109', '0.98', '1 2 obl,2 3 acl,3 0 root,4 3 conj', 'S-A|V_inf-S-S', 'OTHER-OTHER-OTHER-OTHER', 36, 1.0]\n",
      "['1 2 obl,2 3 acl,3 0 root', 'S-A|V_inf-S', 'OTHER-OTHER-OTHER', '109', '0.98', '1 2 obl,2 3 acl,3 0 root,4 3 case', 'S-A|V_inf-S-K', 'OTHER-OTHER-OTHER-OTHER', 6, 1.0]\n",
      "['1 2 obl,2 3 acl,3 0 root', 'S-A|V_inf-S', 'OTHER-OTHER-OTHER', '109', '0.98', '1 2 obl,2 3 acl,3 0 root,4 3 advcl', 'S-A|V_inf-S-S', 'OTHER-OTHER-OTHER-OTHER', 3, 1.0]\n",
      "['1 2 obl,2 3 acl,3 0 root', 'S-V_inf|A-S', 'OTHER-OTHER-OTHER', '94', '0.94', '1 2 obl,2 3 acl,3 0 root,4 3 appos', 'S-V_inf|A-S-H', 'OTHER-OTHER-OTHER-PER', 9, 0.75]\n",
      "['1 2 obl,2 3 acl,3 0 root', 'S-V_inf|A-S', 'OTHER-OTHER-OTHER', '94', '0.94', '1 2 obl,2 3 acl,3 0 root,4 3 appos', 'S-V_inf|A-S-H', 'OTHER-OTHER-OTHER-LOC', 3, 0.25]\n",
      "['1 2 obl,2 3 acl,3 0 root', 'S-V_inf|A-S', 'OTHER-OTHER-OTHER', '94', '0.94', '1 2 obl,2 3 acl,3 0 root,4 3 nmod', 'S-V_inf|A-S-S', 'OTHER-OTHER-OTHER-OTHER', 6, 1.0]\n",
      "['1 2 obl,2 3 acl,3 0 root', 'S-V_inf|A-S', 'OTHER-OTHER-OTHER', '94', '0.94', '1 2 obl,2 3 acl,3 0 root,4 3 conj', 'S-V_inf|A-S-S', 'OTHER-OTHER-OTHER-OTHER', 3, 1.0]\n",
      "['1 2 obl,2 3 acl,3 0 root', 'S-V_inf|A-S', 'OTHER-OTHER-OTHER', '94', '0.94', '1 2 obl,2 3 acl,3 0 root,4 3 acl:relcl', 'S-V_inf|A-S-S', 'OTHER-OTHER-OTHER-OTHER', 3, 1.0]\n",
      "['1 2 obl,2 3 acl,3 0 root', 'H-A-S', 'LOC-OTHER-OTHER', '49', '0.91', '1 2 obl,2 3 acl,3 0 root,4 3 appos', 'H-A-S-H', 'LOC-OTHER-OTHER-PER', 3, 0.5]\n",
      "['1 2 obl,2 3 acl,3 0 root', 'H-A-S', 'LOC-OTHER-OTHER', '49', '0.91', '1 2 obl,2 3 acl,3 0 root,4 3 appos', 'H-A-S-H', 'LOC-OTHER-OTHER-OTHER', 3, 0.5]\n",
      "['1 2 obl,2 3 acl,3 0 root', 'H-A-S', 'LOC-OTHER-OTHER', '49', '0.91', '1 2 obl,2 3 acl,3 0 root,4 3 appos', 'H-A-S-Y', 'LOC-OTHER-OTHER-ORG', 3, 1.0]\n",
      "['1 2 obl,2 3 acl,3 0 root', 'H-A-S', 'LOC-OTHER-OTHER', '49', '0.91', '1 2 obl,2 3 acl,3 0 root,4 3 nmod', 'H-A-S-S', 'LOC-OTHER-OTHER-LOC', 3, 1.0]\n",
      "['1 2 obl,2 3 acl,3 0 root', 'S-V_inf|A-H', 'OTHER-OTHER-PER', '17', '0.81', '1 2 obl,2 3 acl,3 0 root,4 3 flat', 'S-V_inf|A-H-H', 'OTHER-OTHER-PER-PER', 24, 1.0]\n",
      "['1 2 obl,2 3 acl,3 0 root', 'P-A-S', 'OTHER-OTHER-OTHER', '15', '1.0', '1 2 obl,2 3 acl,3 0 root,4 3 appos', 'P-A-S-S', 'OTHER-OTHER-OTHER-OTHER', 6, 1.0]\n",
      "['1 2 obl,2 3 acl,3 0 root', 'S-V_fin-S', 'OTHER-OTHER-OTHER', '11', '1.0', '1 2 obl,2 3 acl,3 0 root,4 3 nmod', 'S-V_fin-S-S', 'OTHER-OTHER-OTHER-OTHER', 9, 1.0]\n",
      "['1 2 obl,2 3 acl,3 0 root', 'H-V_inf|A-S', 'LOC-OTHER-OTHER', '7', '0.64', '1 2 obl,2 3 acl,3 0 root,4 3 appos', 'H-V_inf|A-S-H', 'LOC-OTHER-OTHER-OTHER', 3, 1.0]\n",
      "['1 2 obl,2 3 acl,3 0 root', 'S-A|V_inf-A', 'OTHER-OTHER-OTHER', '4', '1.0', '1 2 obl,2 3 acl,3 0 root,4 3 parataxis', 'S-A|V_inf-A-A', 'OTHER-OTHER-OTHER-OTHER', 3, 1.0]\n",
      "['1 2 obl,2 3 acl,3 0 root', 'P-V_fin-S', 'OTHER-OTHER-OTHER', '4', '1.0', '1 2 obl,2 3 acl,3 0 root,4 3 nmod', 'P-V_fin-S-S', 'OTHER-OTHER-OTHER-OTHER', 3, 1.0]\n",
      "['1 2 obl,2 3 acl,3 0 root', 'H-V_inf|A-H', 'OTHER-OTHER-PER', '2', '0.5', '1 2 obl,2 3 acl,3 0 root,4 3 flat', 'H-V_inf|A-H-H', 'OTHER-OTHER-PER-PER', 6, 1.0]\n",
      "['1 2 nmod,2 0 root,3 2 nmod', 'S-S-S', 'OTHER-OTHER-OTHER', '285', '0.93', '1 2 nmod,2 0 root,3 2 nmod,4 3 case', 'S-S-S-K', 'OTHER-OTHER-OTHER-OTHER', 25, 1.0]\n",
      "['1 2 nmod,2 0 root,3 2 nmod', 'S-S-S', 'OTHER-OTHER-OTHER', '285', '0.93', '1 2 nmod,2 0 root,3 2 nmod,4 3 conj', 'S-S-S-S', 'OTHER-OTHER-OTHER-OTHER', 2, 1.0]\n",
      "['1 2 nmod,2 0 root,3 2 nmod', 'S-S-S', 'OTHER-OTHER-OTHER', '285', '0.93', '1 2 nmod,2 0 root,3 2 nmod,4 3 nmod', 'S-S-S-S', 'OTHER-OTHER-OTHER-OTHER', 2, 1.0]\n",
      "['1 2 nmod,2 0 root,3 2 nmod', 'S-S-S', 'OTHER-OTHER-OTHER', '285', '0.93', '1 2 nmod,2 0 root,3 2 nmod,4 3 nmod', 'S-S-S-Y', 'OTHER-OTHER-OTHER-OTHER', 2, 1.0]\n",
      "['1 2 nmod,2 0 root,3 2 nmod', 'S-S-S', 'OTHER-OTHER-OTHER', '285', '0.93', '1 2 nmod,2 0 root,3 2 nmod,4 2 nmod', 'S-S-S-S', 'OTHER-OTHER-OTHER-OTHER', 6, 0.8571428571428571]\n",
      "['1 2 nmod,2 0 root,3 2 nmod', 'S-S-S', 'OTHER-OTHER-OTHER', '285', '0.93', '1 2 nmod,2 0 root,3 2 nmod,4 2 conj', 'S-S-S-S', 'OTHER-OTHER-OTHER-OTHER', 8, 1.0]\n",
      "['1 2 nmod,2 0 root,3 2 nmod', 'S-S-S', 'OTHER-OTHER-OTHER', '285', '0.93', '1 2 nmod,2 0 root,3 2 nmod,4 3 acl:relcl', 'S-S-S-S', 'OTHER-OTHER-OTHER-OTHER', 8, 1.0]\n",
      "['1 2 nmod,2 0 root,3 2 nmod', 'S-S-S', 'OTHER-OTHER-OTHER', '285', '0.93', '1 2 nmod,2 0 root,3 2 nmod,4 2 advcl', 'S-S-S-V_inf', 'OTHER-OTHER-OTHER-OTHER', 3, 1.0]\n",
      "['1 2 nmod,2 0 root,3 2 nmod', 'S-S-S', 'OTHER-OTHER-OTHER', '285', '0.93', '1 2 nmod,2 0 root,3 2 nmod,4 2 punct', 'S-S-S-Z', 'OTHER-OTHER-OTHER-OTHER', 3, 1.0]\n",
      "['1 2 nmod,2 0 root,3 2 nmod', 'S-S-S', 'OTHER-OTHER-OTHER', '285', '0.93', '1 2 nmod,2 0 root,3 2 nmod,4 3 nummod', 'S-S-S-N', 'OTHER-OTHER-OTHER-OTHER', 2, 1.0]\n",
      "['1 2 nmod,2 0 root,3 2 nmod', 'H-S-S', 'LOC-OTHER-OTHER', '50', '0.67', '1 2 nmod,2 0 root,3 2 nmod,4 3 case', 'H-S-S-K', 'LOC-OTHER-OTHER-OTHER', 5, 0.8333333333333334]\n",
      "['1 2 nmod,2 0 root,3 2 nmod', 'H-S-S', 'LOC-OTHER-OTHER', '50', '0.67', '1 2 nmod,2 0 root,3 2 nmod,4 3 conj', 'H-S-S-S', 'LOC-OTHER-OTHER-OTHER', 2, 1.0]\n",
      "['1 2 nmod,2 0 root,3 2 nmod', 'H-S-S', 'OTHER-OTHER-OTHER', '10', '0.13', '1 2 nmod,2 0 root,3 2 nmod,4 3 acl', 'H-S-S-V_inf', 'OTHER-OTHER-OTHER-OTHER', 4, 1.0]\n",
      "['1 2 nmod,2 0 root,3 2 nmod', 'H-S-S', 'ORG-OTHER-OTHER', '8', '0.11', '1 2 nmod,2 0 root,3 2 nmod,4 3 nmod', 'H-S-S-S', 'ORG-OTHER-OTHER-OTHER', 3, 1.0]\n",
      "['1 2 nmod,2 0 root,3 2 nmod', 'S-S-H', 'OTHER-OTHER-LOC', '6', '0.18', '1 2 nmod,2 0 root,3 2 nmod,4 2 advcl', 'S-S-H-V_inf', 'OTHER-OTHER-LOC-OTHER', 3, 1.0]\n",
      "['1 2 nmod,2 0 root,3 2 nmod', 'P-S-S', 'OTHER-OTHER-OTHER', '33', '0.94', '1 2 nmod,2 0 root,3 2 nmod,4 3 case', 'P-S-S-K', 'OTHER-OTHER-OTHER-OTHER', 6, 1.0]\n",
      "['1 2 nmod,2 0 root,3 2 nmod', 'P-S-S', 'OTHER-OTHER-OTHER', '33', '0.94', '1 2 nmod,2 0 root,3 2 nmod,4 3 conj', 'P-S-S-S', 'OTHER-OTHER-OTHER-OTHER', 2, 1.0]\n",
      "['1 2 nmod,2 0 root,3 2 nmod', 'P-S-S', 'OTHER-OTHER-OTHER', '33', '0.94', '1 2 nmod,2 0 root,3 2 nmod,4 3 nummod', 'P-S-S-N', 'OTHER-OTHER-OTHER-OTHER', 2, 1.0]\n",
      "['1 2 nmod,2 0 root,3 2 nmod', 'S-S-Y', 'OTHER-OTHER-ORG', '4', '0.24', '1 2 nmod,2 0 root,3 2 nmod,4 3 conj', 'S-S-Y-Y', 'OTHER-OTHER-ORG-OTHER', 2, 1.0]\n",
      "['1 2 nmod,2 0 root,3 2 nmod', 'Y-S-S', 'ORG-OTHER-OTHER', '9', '0.75', '1 2 nmod,2 0 root,3 2 nmod,4 3 nmod', 'Y-S-S-S', 'ORG-OTHER-OTHER-OTHER', 2, 1.0]\n",
      "['1 2 nmod,2 0 root,3 2 nmod', 'P-S-H', 'OTHER-OTHER-PER', '2', '0.22', '1 2 nmod,2 0 root,3 2 nmod,4 3 flat', 'P-S-H-H', 'OTHER-OTHER-PER-PER', 4, 0.8]\n",
      "['1 2 nmod,2 0 root,3 2 nmod', 'H-H-S', 'LOC-LOC-OTHER', '2', '0.67', '1 2 nmod,2 0 root,3 2 nmod,4 3 conj', 'H-H-S-S', 'LOC-LOC-OTHER-OTHER', 4, 1.0]\n",
      "['1 2 nmod,2 0 root,3 2 appos,4 3 flat', 'S-S-H-H', 'OTHER-OTHER-PER-PER', '65', '0.3', '1 2 nmod,2 0 root,3 2 appos,4 3 flat,5 3 flat', 'S-S-H-H-H', 'OTHER-OTHER-PER-PER-PER', 14, 1.0]\n",
      "['1 2 nmod,2 0 root,3 2 appos,4 3 flat', 'S-S-H-H', 'OTHER-OTHER-PER-PER', '65', '0.3', '1 2 nmod,2 0 root,3 2 appos,4 3 flat,5 3 acl:relcl', 'S-S-H-H-V_fin', 'OTHER-OTHER-PER-PER-OTHER', 14, 1.0]\n",
      "['1 2 nmod,2 0 root,3 2 appos,4 3 flat', 'S-S-H-H', 'OTHER-OTHER-PER-PER', '65', '0.3', '1 2 nmod,2 0 root,3 2 appos,4 3 flat,5 2 nmod', 'S-S-H-H-S', 'OTHER-OTHER-PER-PER-OTHER', 14, 1.0]\n",
      "['1 2 nmod,2 0 root,3 2 appos,4 3 flat', 'S-S-H-H', 'OTHER-OTHER-PER-PER', '65', '0.3', '1 2 nmod,2 0 root,3 2 appos,4 3 flat,5 2 nummod', 'S-S-H-H-N', 'OTHER-OTHER-PER-PER-OTHER', 7, 1.0]\n",
      "['1 2 nmod,2 0 root,3 2 appos,4 3 flat', 'H-S-H-H', 'ORG-OTHER-PER-PER', '7', '0.06', '1 2 nmod,2 0 root,3 2 appos,4 3 flat,5 2 parataxis', 'H-S-H-H-N', 'ORG-OTHER-PER-PER-OTHER', 7, 1.0]\n",
      "['1 2 nmod,2 0 root,3 2 appos,4 3 flat', 'Y-S-H-H', 'ORG-OTHER-PER-PER', '5', '0.26', '1 2 nmod,2 0 root,3 2 appos,4 3 flat,5 2 parataxis', 'Y-S-H-H-N', 'ORG-OTHER-PER-PER-OTHER', 7, 1.0]\n",
      "['1 2 nmod,2 0 root,3 2 appos,4 3 flat', 'S-S-H-N', 'OTHER-OTHER-ORG-OTHER', '3', '0.5', '1 2 nmod,2 0 root,3 2 appos,4 3 flat,5 2 parataxis', 'S-S-H-N-S', 'OTHER-OTHER-ORG-OTHER-OTHER', 7, 0.5]\n",
      "['1 2 nmod,2 0 root,3 2 appos,4 3 flat', 'S-S-H-N', 'ORG-OTHER-ORG-OTHER', '3', '0.5', '1 2 nmod,2 0 root,3 2 appos,4 3 flat,5 2 parataxis', 'S-S-H-N-S', 'ORG-OTHER-ORG-OTHER-OTHER', 7, 0.5]\n",
      "['1 2 nmod,2 0 root,3 2 appos,4 3 flat', 'S-S-H-Y', 'OTHER-OTHER-OTHER-OTHER', '3', '0.75', '1 2 nmod,2 0 root,3 2 appos,4 3 flat,5 3 flat', 'S-S-H-Y-H', 'OTHER-OTHER-OTHER-OTHER-OTHER', 21, 1.0]\n",
      "['1 0 root,2 1 flat,3 1 flat', 'H-H-S', 'OTHER-OTHER-OTHER', '2', '0.67', '1 0 root,2 1 flat,3 1 flat,4 1 flat', 'H-H-S-H', 'OTHER-OTHER-OTHER-OTHER', 3, 1.0]\n",
      "['1 0 root,2 1 flat,3 1 flat', 'H-J-H', 'ORG-ORG-ORG', '2', '0.4', '1 0 root,2 1 flat,3 1 flat,4 1 flat', 'H-J-H-H', 'ORG-ORG-ORG-ORG', 2, 1.0]\n"
     ]
    }
   ],
   "source": [
    "for row in comparisons:\n",
    "    print(row)"
   ]
  },
  {
   "cell_type": "code",
   "execution_count": 33,
   "id": "397627ed",
   "metadata": {},
   "outputs": [],
   "source": [
    "with open('indicator_patterns_ner_tree_pos_added_context.csv', 'w', newline='', encoding='UTF-8') as csv_file:\n",
    "    writer = csv.DictWriter(csv_file, fieldnames=['NER_pattern', 'tree', 'POS_pattern', 'count', '%', 'NER_pattern_added_context', 'tree_added_context', 'POS_pattern_added_context', 'count_added_context', '%_added_context'])\n",
    "    writer.writeheader()\n",
    "    header2 = {'NER_pattern': 'string', 'tree': 'string', 'POS_pattern': 'string', 'count': 'int64', '%': 'float64', 'NER_pattern_added_context': 'string', 'tree_added_context': 'string', 'POS_pattern_added_context': 'string', 'count_added_context': 'int64', '%_added_context': 'float64'}\n",
    "    writer.writerow(header2)\n",
    "    for row in comparisons:\n",
    "        writer.writerow({'NER_pattern': row[2], 'tree': row[0], 'POS_pattern': row[1], 'count': row[3], '%': row[4], 'NER_pattern_added_context': row[7], 'tree_added_context': row[5], 'POS_pattern_added_context': row[6], 'count_added_context': row[8], '%_added_context': row[9]})"
   ]
  },
  {
   "cell_type": "code",
   "execution_count": 34,
   "id": "9c8333b3",
   "metadata": {},
   "outputs": [],
   "source": [
    "with open('indicator_patterns_ner_tree_pos_added_context.csv', encoding='UTF-8') as csv_file:\n",
    "    reader = csv.DictReader(csv_file)\n",
    "    rows = []\n",
    "    for row in reader:\n",
    "        rows.append(row)"
   ]
  },
  {
   "cell_type": "code",
   "execution_count": 35,
   "id": "a8cf7552",
   "metadata": {},
   "outputs": [
    {
     "data": {
      "text/plain": [
       "{'NER_pattern': 'OTHER-OTHER',\n",
       " 'tree': '1 2 nmod,2 0 root',\n",
       " 'POS_pattern': 'S-S',\n",
       " 'count': '6748',\n",
       " '%': '0.96',\n",
       " 'NER_pattern_added_context': 'OTHER-OTHER-OTHER',\n",
       " 'tree_added_context': '1 2 nmod,2 0 root,3 2 nmod',\n",
       " 'POS_pattern_added_context': 'S-S-S',\n",
       " 'count_added_context': '1206',\n",
       " '%_added_context': '0.9757281553398058'}"
      ]
     },
     "execution_count": 35,
     "metadata": {},
     "output_type": "execute_result"
    }
   ],
   "source": [
    "rows[1]"
   ]
  },
  {
   "cell_type": "code",
   "execution_count": 44,
   "id": "317cf351",
   "metadata": {},
   "outputs": [],
   "source": [
    "improved_percent = []\n",
    "for idx, row in enumerate(rows):\n",
    "    if idx == 0:\n",
    "        continue\n",
    "    if float(row['%_added_context']) > float(row['%']) and int(row['count_added_context']) > 1:\n",
    "        improved_percent.append(row)"
   ]
  },
  {
   "cell_type": "code",
   "execution_count": 45,
   "id": "3c2e5f2e",
   "metadata": {},
   "outputs": [
    {
     "data": {
      "text/plain": [
       "144"
      ]
     },
     "execution_count": 45,
     "metadata": {},
     "output_type": "execute_result"
    }
   ],
   "source": [
    "len(improved_percent)"
   ]
  },
  {
   "cell_type": "code",
   "execution_count": 46,
   "id": "7d3165b8",
   "metadata": {},
   "outputs": [],
   "source": [
    "with open('indicator_patterns_ner_tree_pos_added_context_impr_%.csv', 'w', newline='', encoding='UTF-8') as csv_file:\n",
    "    writer = csv.DictWriter(csv_file, fieldnames=['NER_pattern', 'tree', 'POS_pattern', 'count', '%', 'NER_pattern_added_context', 'tree_added_context', 'POS_pattern_added_context', 'count_added_context', '%_added_context'])\n",
    "    writer.writeheader()\n",
    "    header2 = {'NER_pattern': 'string', 'tree': 'string', 'POS_pattern': 'string', 'count': 'int64', '%': 'float64', 'NER_pattern_added_context': 'string', 'tree_added_context': 'string', 'POS_pattern_added_context': 'string', 'count_added_context': 'int64', '%_added_context': 'float64'}\n",
    "    writer.writerow(header2)\n",
    "    for row in improved_percent:\n",
    "        writer.writerow({'NER_pattern': row['NER_pattern'], 'tree': row['tree'], 'POS_pattern': row['POS_pattern'], 'count': row['count'], '%': row['%'], 'NER_pattern_added_context': row['NER_pattern_added_context'], 'tree_added_context': row['tree_added_context'], 'POS_pattern_added_context': row['POS_pattern_added_context'], 'count_added_context': row['count_added_context'], '%_added_context': row['%_added_context']})"
   ]
  },
  {
   "cell_type": "code",
   "execution_count": null,
   "id": "ea4ab660",
   "metadata": {},
   "outputs": [],
   "source": []
  }
 ],
 "metadata": {
  "kernelspec": {
   "display_name": "Python 3 (ipykernel)",
   "language": "python",
   "name": "python3"
  },
  "language_info": {
   "codemirror_mode": {
    "name": "ipython",
    "version": 3
   },
   "file_extension": ".py",
   "mimetype": "text/x-python",
   "name": "python",
   "nbconvert_exporter": "python",
   "pygments_lexer": "ipython3",
   "version": "3.10.11"
  }
 },
 "nbformat": 4,
 "nbformat_minor": 5
}
