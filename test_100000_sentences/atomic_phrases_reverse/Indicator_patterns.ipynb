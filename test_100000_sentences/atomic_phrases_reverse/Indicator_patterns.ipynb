{
 "cells": [
  {
   "cell_type": "code",
   "execution_count": 2,
   "id": "3eb1fd9b",
   "metadata": {},
   "outputs": [],
   "source": [
    "import sqlite3\n",
    "import csv"
   ]
  },
  {
   "cell_type": "code",
   "execution_count": 35,
   "id": "73e1d8d8",
   "metadata": {},
   "outputs": [],
   "source": [
    "con = sqlite3.connect('correct_noun_phrases.db')"
   ]
  },
  {
   "cell_type": "code",
   "execution_count": 36,
   "id": "81962341",
   "metadata": {},
   "outputs": [
    {
     "name": "stdout",
     "output_type": "stream",
     "text": [
      "('OTHER-OTHER', 10370)\n",
      "('LOC-OTHER', 1099)\n",
      "('ORG-OTHER', 470)\n",
      "('ORG-ORG', 301)\n",
      "('LOC-LOC', 205)\n",
      "('PER-OTHER', 87)\n",
      "('OTHER-ORG', 47)\n",
      "('PER-PER', 7)\n",
      "('OTHER-LOC', 7)\n",
      "('LOC-ORG', 6)\n",
      "('OTHER-PER', 1)\n",
      "('LOC-PER', 1)\n"
     ]
    }
   ],
   "source": [
    "cur = con.cursor()\n",
    "cur.execute(\"SELECT pattern_ner, count(*) FROM correct_phrase_patterns WHERE pattern_tree='1 2 nmod,2 0 root' GROUP BY pattern_ner ORDER BY count(*) DESC\")\n",
    "\n",
    "rows = cur.fetchall()\n",
    "\n",
    "for row in rows:\n",
    "    print(row)"
   ]
  },
  {
   "cell_type": "code",
   "execution_count": 26,
   "id": "549a8703",
   "metadata": {},
   "outputs": [
    {
     "name": "stdout",
     "output_type": "stream",
     "text": [
      "('H-S', 980)\n",
      "('S-S', 49)\n",
      "('Y-S', 43)\n",
      "('G-S', 16)\n",
      "('H-H', 6)\n",
      "('H-N', 2)\n",
      "('H-P|O', 1)\n",
      "('H-P|N', 1)\n",
      "('H-D', 1)\n"
     ]
    }
   ],
   "source": [
    "cur.execute(\"SELECT pattern_pos, count(*) FROM correct_phrase_patterns WHERE pattern_tree='1 2 nmod,2 0 root' AND pattern_ner = 'LOC-OTHER' GROUP BY pattern_pos ORDER BY count(*) DESC\")\n",
    "\n",
    "rows1 = cur.fetchall()\n",
    "\n",
    "for row in rows1:\n",
    "    print(row)"
   ]
  },
  {
   "cell_type": "code",
   "execution_count": 27,
   "id": "e3e15c53",
   "metadata": {},
   "outputs": [
    {
     "name": "stdout",
     "output_type": "stream",
     "text": [
      "('OTHER-OTHER', 1169)\n",
      "('LOC-OTHER', 980)\n",
      "('ORG-ORG', 172)\n",
      "('LOC-LOC', 172)\n",
      "('ORG-OTHER', 149)\n",
      "('PER-OTHER', 85)\n"
     ]
    }
   ],
   "source": [
    "cur.execute(\"SELECT pattern_ner, count(*) FROM correct_phrase_patterns WHERE pattern_tree='1 2 nmod,2 0 root' AND pattern_pos='H-S' GROUP BY pattern_ner ORDER BY count(*) DESC\")\n",
    "\n",
    "rows2 = cur.fetchall()\n",
    "\n",
    "for row in rows2:\n",
    "    print(row)"
   ]
  },
  {
   "cell_type": "code",
   "execution_count": 28,
   "id": "754b7a38",
   "metadata": {},
   "outputs": [
    {
     "name": "stdout",
     "output_type": "stream",
     "text": [
      "('g-g', 407)\n",
      "('g-n', 197)\n",
      "('g-ad', 136)\n",
      "('g-in', 71)\n",
      "('g-p', 63)\n",
      "('g-all', 31)\n",
      "('g-el', 28)\n",
      "('g-kom', 27)\n",
      "('?-g', 17)\n",
      "('g-tr', 11)\n",
      "('?-n', 11)\n",
      "('0-g', 11)\n",
      "('g-adt', 10)\n",
      "('g-abl', 9)\n",
      "('g-ill', 8)\n",
      "('all-g', 5)\n",
      "('?-ad', 5)\n",
      "('kom-g', 4)\n",
      "('el-in', 4)\n",
      "('n-n', 3)\n",
      "('in-ad', 3)\n",
      "('?-in', 3)\n",
      "('in-g', 2)\n",
      "('g-ter', 2)\n",
      "('g-es', 2)\n",
      "('all-tr', 2)\n",
      "('ad-n', 2)\n",
      "('?-p', 2)\n",
      "('?-kom', 2)\n",
      "('?-all', 2)\n",
      "('0-kom', 2)\n",
      "('0-in', 2)\n",
      "('p-n', 1)\n",
      "('n-p', 1)\n",
      "('n-g', 1)\n",
      "('n-adt', 1)\n",
      "('kom-tr', 1)\n",
      "('in-in', 1)\n",
      "('ill-tr', 1)\n",
      "('ill-ad', 1)\n",
      "('g-?', 1)\n",
      "('g-0', 1)\n",
      "('all-in', 1)\n",
      "('adt-in', 1)\n",
      "('adt-g', 1)\n",
      "('adt-ad', 1)\n",
      "('0-el', 1)\n"
     ]
    }
   ],
   "source": [
    "cur.execute(\"SELECT pattern_form, count(*) FROM correct_phrase_patterns WHERE pattern_tree='1 2 nmod,2 0 root' AND pattern_ner='LOC-OTHER' GROUP BY pattern_form ORDER BY count(*) DESC\")\n",
    "\n",
    "rows3 = cur.fetchall()\n",
    "\n",
    "for row in rows3:\n",
    "    print(row)"
   ]
  },
  {
   "cell_type": "code",
   "execution_count": 29,
   "id": "540b575e",
   "metadata": {},
   "outputs": [],
   "source": [
    "con.close()"
   ]
  },
  {
   "cell_type": "code",
   "execution_count": 34,
   "id": "cb9942a3",
   "metadata": {},
   "outputs": [
    {
     "name": "stdout",
     "output_type": "stream",
     "text": [
      "980\n",
      "49\n",
      "43\n",
      "16\n",
      "6\n",
      "2\n",
      "1\n",
      "1\n",
      "1\n"
     ]
    }
   ],
   "source": [
    "for row in rows1:\n",
    "    print(row[1])"
   ]
  },
  {
   "cell_type": "code",
   "execution_count": 3,
   "id": "72187584",
   "metadata": {},
   "outputs": [],
   "source": [
    "def get_pattern_trees(con):\n",
    "    cur = con.cursor()\n",
    "    cur.execute(\"SELECT pattern_tree, count(*) FROM correct_phrase_patterns GROUP BY pattern_tree ORDER BY count(*) DESC\")\n",
    "    \n",
    "    rows = cur.fetchall()\n",
    "    return rows\n",
    "\n",
    "def get_patterns_ner(con, pattern_tree):\n",
    "    cur = con.cursor()\n",
    "    cur.execute(\"SELECT pattern_ner, count(*) FROM correct_phrase_patterns WHERE pattern_tree = ? GROUP BY pattern_ner ORDER BY count(*) DESC\", (pattern_tree,))\n",
    "\n",
    "    rows = cur.fetchall()\n",
    "    return rows\n",
    "\n",
    "def get_patterns_pos(con, pattern_tree, pattern_ner):\n",
    "    cur = con.cursor()\n",
    "    cur.execute(\"SELECT pattern_pos, count(*) FROM correct_phrase_patterns WHERE pattern_tree = ? AND pattern_ner = ? GROUP BY pattern_pos ORDER BY count(*) DESC\", (pattern_tree, pattern_ner))\n",
    "\n",
    "    rows = cur.fetchall()\n",
    "    return rows\n",
    "\n",
    "def get_patterns_form(con, pattern_tree, pattern_ner, pattern_pos):\n",
    "    cur = con.cursor()\n",
    "    cur.execute(\"SELECT pattern_form, count(*) FROM correct_phrase_patterns WHERE pattern_tree = ? AND pattern_ner = ? and pattern_pos = ? GROUP BY pattern_form ORDER BY count(*) DESC\", (pattern_tree, pattern_ner, pattern_pos))\n",
    "\n",
    "    rows = cur.fetchall()\n",
    "    return rows"
   ]
  },
  {
   "cell_type": "code",
   "execution_count": 58,
   "id": "cf1b7f99",
   "metadata": {},
   "outputs": [],
   "source": [
    "def get_percent(current_count, rows):\n",
    "    total_count = sum([row[1] for row in rows])\n",
    "    return current_count/total_count"
   ]
  },
  {
   "cell_type": "code",
   "execution_count": 38,
   "id": "2bd1e81a",
   "metadata": {},
   "outputs": [],
   "source": [
    "pattern_tree1 = '1 2 nmod,2 0 root'"
   ]
  },
  {
   "cell_type": "code",
   "execution_count": 43,
   "id": "de7cdd31",
   "metadata": {},
   "outputs": [
    {
     "data": {
      "text/plain": [
       "[('OTHER-OTHER', 10370),\n",
       " ('LOC-OTHER', 1099),\n",
       " ('ORG-OTHER', 470),\n",
       " ('ORG-ORG', 301),\n",
       " ('LOC-LOC', 205),\n",
       " ('PER-OTHER', 87),\n",
       " ('OTHER-ORG', 47),\n",
       " ('PER-PER', 7),\n",
       " ('OTHER-LOC', 7),\n",
       " ('LOC-ORG', 6),\n",
       " ('OTHER-PER', 1),\n",
       " ('LOC-PER', 1)]"
      ]
     },
     "execution_count": 43,
     "metadata": {},
     "output_type": "execute_result"
    }
   ],
   "source": [
    "patterns_ner = get_patterns_ner(sqlite3.connect('correct_noun_phrases.db'), pattern_tree1)\n",
    "patterns_ner"
   ]
  },
  {
   "cell_type": "code",
   "execution_count": 69,
   "id": "a8b7bdfe",
   "metadata": {},
   "outputs": [
    {
     "data": {
      "text/plain": [
       "[('1 2 nmod,2 0 root', 12601),\n",
       " ('1 2 amod,2 0 root', 7069),\n",
       " ('1 2 obl,2 3 acl,3 0 root', 700),\n",
       " ('1 2 nmod,2 0 root,3 2 nmod', 545),\n",
       " ('1 2 nmod,2 0 root,3 2 appos,4 3 flat', 405),\n",
       " ('1 0 root,2 1 flat,3 1 flat', 172)]"
      ]
     },
     "execution_count": 69,
     "metadata": {},
     "output_type": "execute_result"
    }
   ],
   "source": [
    "pattern_trees = get_pattern_trees(sqlite3.connect('correct_noun_phrases.db'))\n",
    "pattern_trees"
   ]
  },
  {
   "cell_type": "code",
   "execution_count": 4,
   "id": "274df1de",
   "metadata": {},
   "outputs": [],
   "source": [
    "def get_patterns_ner_no_tree(con):\n",
    "    con.cursor()\n",
    "    cur.execute(\"SELECT pattern_ner, count(*) FROM correct_phrase_patterns GROUP BY pattern_ner ORDER BY count(*) DESC\")\n",
    "    \n",
    "    rows = cur.fetchall()\n",
    "    \n",
    "    return rows\n",
    "\n",
    "def get_patterns_pos_no_tree(con):\n",
    "    cur = con.cursor()\n",
    "    cur.execute(\"SELECT pattern_pos, count(*) FROM correct_phrase_patterns GROUP BY pattern_pos ORDER BY count(*) DESC\")\n",
    "\n",
    "    rows = cur.fetchall()\n",
    "    return rows\n",
    "\n",
    "def get_patterns_form_no_tree(con):\n",
    "    cur = con.cursor()\n",
    "    cur.execute(\"SELECT pattern_form, count(*) FROM correct_phrase_patterns GROUP BY pattern_form ORDER BY count(*) DESC\")\n",
    "\n",
    "    rows = cur.fetchall()\n",
    "    return rows"
   ]
  },
  {
   "cell_type": "markdown",
   "id": "6c56857a",
   "metadata": {},
   "source": [
    "### NER with tree, POS-sequence and form sequence"
   ]
  },
  {
   "cell_type": "code",
   "execution_count": 13,
   "id": "147e3c2e",
   "metadata": {},
   "outputs": [
    {
     "name": "stdout",
     "output_type": "stream",
     "text": [
      "[['OTHER-OTHER', '1 2 nmod,2 0 root', 'S-S', 'g-g', 1802, 0.9279093717816684], ['ORG-OTHER', '1 2 nmod,2 0 root', 'S-S', 'g-g', 79, 0.040679711637487126], ['ORG-ORG', '1 2 nmod,2 0 root', 'S-S', 'g-g', 38, 0.01956745623069001], ['LOC-OTHER', '1 2 nmod,2 0 root', 'S-S', 'g-g', 18, 0.009268795056642637], ['LOC-LOC', '1 2 nmod,2 0 root', 'S-S', 'g-g', 4, 0.0020597322348094747]]\n"
     ]
    }
   ],
   "source": [
    "# criteria 1: tree AND pos_sequence AND form_sequence\n",
    "# looking for ner_sequence x criteria 1\n",
    "con = sqlite3.connect('correct_noun_phrases.db')\n",
    "cur = con.cursor()\n",
    "\n",
    "patterns = []\n",
    "pattern_trees = get_pattern_trees(con)\n",
    "patterns_pos = get_patterns_pos_no_tree(con)\n",
    "patterns_form = get_patterns_form_no_tree(con)\n",
    "                                  \n",
    "for pattern_tree in pattern_trees:\n",
    "    for pattern_pos in patterns_pos:\n",
    "        for pattern_form in patterns_form:\n",
    "            if pattern_form[1] > 1:\n",
    "                cur.execute(\"SELECT * FROM correct_phrase_patterns WHERE pattern_tree = ? AND pattern_pos = ? and pattern_form = ?\", (pattern_tree[0], pattern_pos[0], pattern_form[0]))\n",
    "                criteria_freq = len(cur.fetchall())                    \n",
    "                cur.execute(\"SELECT pattern_ner, count(*) FROM correct_phrase_patterns WHERE pattern_tree = ? AND pattern_pos = ? and pattern_form = ? GROUP BY pattern_ner ORDER BY count(*) DESC\", (pattern_tree[0], pattern_pos[0], pattern_form[0]))\n",
    "                pattern_ner_freqs = cur.fetchall()\n",
    "            \n",
    "                for pattern_ner in pattern_ner_freqs:\n",
    "                    patterns.append([pattern_ner[0], pattern_tree[0], pattern_pos[0], pattern_form[0], pattern_ner[1], pattern_ner[1]/criteria_freq])\n",
    "\n",
    "print(patterns[:5])"
   ]
  },
  {
   "cell_type": "code",
   "execution_count": 16,
   "id": "4213dac4",
   "metadata": {},
   "outputs": [],
   "source": [
    "with open('indicator_patterns_ner_tree_pos_form.csv', 'w', newline='', encoding='UTF-8') as csv_file:\n",
    "    writer = csv.DictWriter(csv_file, fieldnames=['NER_pattern', 'pattern', 'count', '%'])\n",
    "    writer.writeheader()\n",
    "    for pattern in patterns:\n",
    "        writer.writerow({'NER_pattern': pattern[0], 'pattern': ','.join([pattern[1], pattern[2], pattern[3]]), 'count': pattern[4], '%': round(pattern[5], 2)})"
   ]
  },
  {
   "cell_type": "markdown",
   "id": "d43b2624",
   "metadata": {},
   "source": [
    "### NER with tree and POS-sequence"
   ]
  },
  {
   "cell_type": "code",
   "execution_count": 18,
   "id": "908d2ce7",
   "metadata": {},
   "outputs": [
    {
     "name": "stdout",
     "output_type": "stream",
     "text": [
      "[['OTHER-OTHER', '1 2 nmod,2 0 root', 'S-S', 6748, 0.9568916619398752], ['ORG-OTHER', '1 2 nmod,2 0 root', 'S-S', 196, 0.027793533749290982], ['ORG-ORG', '1 2 nmod,2 0 root', 'S-S', 50, 0.007090187180941577], ['LOC-OTHER', '1 2 nmod,2 0 root', 'S-S', 49, 0.0069483834373227455], ['LOC-LOC', '1 2 nmod,2 0 root', 'S-S', 5, 0.0007090187180941577]]\n"
     ]
    }
   ],
   "source": [
    "# criteria 2: tree AND pos_sequence\n",
    "# looking for ner_sequence x criteria 2\n",
    "con = sqlite3.connect('correct_noun_phrases.db')\n",
    "cur = con.cursor()\n",
    "\n",
    "patterns = []\n",
    "pattern_trees = get_pattern_trees(con)\n",
    "patterns_pos = get_patterns_pos_no_tree(con)\n",
    "                                  \n",
    "for pattern_tree in pattern_trees:\n",
    "    for pattern_pos in patterns_pos:\n",
    "            cur.execute(\"SELECT * FROM correct_phrase_patterns WHERE pattern_tree = ? AND pattern_pos = ?\", (pattern_tree[0], pattern_pos[0]))\n",
    "            criteria_freq = len(cur.fetchall())                    \n",
    "            cur.execute(\"SELECT pattern_ner, count(*) FROM correct_phrase_patterns WHERE pattern_tree = ? AND pattern_pos = ? GROUP BY pattern_ner ORDER BY count(*) DESC\", (pattern_tree[0], pattern_pos[0]))\n",
    "            pattern_ner_freqs = cur.fetchall()\n",
    "                \n",
    "            for pattern_ner in pattern_ner_freqs:\n",
    "                if pattern_ner[1] > 1:\n",
    "                    patterns.append([pattern_ner[0], pattern_tree[0], pattern_pos[0], pattern_ner[1], pattern_ner[1]/criteria_freq])\n",
    "\n",
    "print(patterns[:5])"
   ]
  },
  {
   "cell_type": "code",
   "execution_count": 19,
   "id": "d03f6a0e",
   "metadata": {},
   "outputs": [],
   "source": [
    "with open('indicator_patterns_ner_tree_pos.csv', 'w', newline='', encoding='UTF-8') as csv_file:\n",
    "    writer = csv.DictWriter(csv_file, fieldnames=['NER_pattern', 'pattern', 'count', '%'])\n",
    "    writer.writeheader()\n",
    "    for pattern in patterns:\n",
    "        writer.writerow({'NER_pattern': pattern[0], 'pattern': ','.join([pattern[1], pattern[2]]), 'count': pattern[3], '%': round(pattern[4], 2)})"
   ]
  },
  {
   "cell_type": "markdown",
   "id": "09c93a91",
   "metadata": {},
   "source": [
    "### NER with tree and form sequence"
   ]
  },
  {
   "cell_type": "code",
   "execution_count": 20,
   "id": "bb37faee",
   "metadata": {},
   "outputs": [
    {
     "name": "stdout",
     "output_type": "stream",
     "text": [
      "[['OTHER-OTHER', '1 2 nmod,2 0 root', 'A-S-S', 2927, 0.7658294086865516], ['LOC-OTHER', '1 2 nmod,2 0 root', 'A-S-S', 407, 0.1064887493458922], ['ORG-ORG', '1 2 nmod,2 0 root', 'A-S-S', 203, 0.05311355311355311], ['ORG-OTHER', '1 2 nmod,2 0 root', 'A-S-S', 148, 0.03872318158032444], ['LOC-LOC', '1 2 nmod,2 0 root', 'A-S-S', 80, 0.020931449502878074]]\n"
     ]
    }
   ],
   "source": [
    "# criteria 3: tree AND form_sequence\n",
    "# looking for ner_sequence x criteria 3\n",
    "con = sqlite3.connect('correct_noun_phrases.db')\n",
    "cur = con.cursor()\n",
    "\n",
    "patterns = []\n",
    "pattern_trees = get_pattern_trees(con)\n",
    "patterns_form = get_patterns_form_no_tree(con)\n",
    "                                  \n",
    "for pattern_tree in pattern_trees:\n",
    "    for pattern_form in patterns_form:\n",
    "        cur.execute(\"SELECT * FROM correct_phrase_patterns WHERE pattern_tree = ? AND pattern_form = ?\", (pattern_tree[0], pattern_form[0]))\n",
    "        criteria_freq = len(cur.fetchall())                    \n",
    "        cur.execute(\"SELECT pattern_ner, count(*) FROM correct_phrase_patterns WHERE pattern_tree = ? AND pattern_form = ? GROUP BY pattern_ner ORDER BY count(*) DESC\", (pattern_tree[0], pattern_form[0]))\n",
    "        pattern_ner_freqs = cur.fetchall()\n",
    "                \n",
    "        for pattern_ner in pattern_ner_freqs:\n",
    "            if pattern_ner[1] > 1:\n",
    "                patterns.append([pattern_ner[0], pattern_tree[0], pattern_pos[0], pattern_ner[1], pattern_ner[1]/criteria_freq])\n",
    "\n",
    "print(patterns[:5])"
   ]
  },
  {
   "cell_type": "code",
   "execution_count": 21,
   "id": "06bf5902",
   "metadata": {},
   "outputs": [],
   "source": [
    "with open('indicator_patterns_ner_tree_form.csv', 'w', newline='', encoding='UTF-8') as csv_file:\n",
    "    writer = csv.DictWriter(csv_file, fieldnames=['NER_pattern', 'pattern', 'count', '%'])\n",
    "    writer.writeheader()\n",
    "    for pattern in patterns:\n",
    "        writer.writerow({'NER_pattern': pattern[0], 'pattern': ','.join([pattern[1], pattern[2]]), 'count': pattern[3], '%': round(pattern[4], 2)})"
   ]
  },
  {
   "cell_type": "code",
   "execution_count": null,
   "id": "20b5b311",
   "metadata": {},
   "outputs": [],
   "source": []
  }
 ],
 "metadata": {
  "kernelspec": {
   "display_name": "Python 3 (ipykernel)",
   "language": "python",
   "name": "python3"
  },
  "language_info": {
   "codemirror_mode": {
    "name": "ipython",
    "version": 3
   },
   "file_extension": ".py",
   "mimetype": "text/x-python",
   "name": "python",
   "nbconvert_exporter": "python",
   "pygments_lexer": "ipython3",
   "version": "3.10.11"
  }
 },
 "nbformat": 4,
 "nbformat_minor": 5
}
