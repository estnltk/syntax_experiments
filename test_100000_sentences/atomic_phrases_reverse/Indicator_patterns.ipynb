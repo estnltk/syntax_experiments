{
 "cells": [
  {
   "cell_type": "code",
   "execution_count": 71,
   "id": "3eb1fd9b",
   "metadata": {},
   "outputs": [],
   "source": [
    "import sqlite3\n",
    "import csv"
   ]
  },
  {
   "cell_type": "code",
   "execution_count": 35,
   "id": "73e1d8d8",
   "metadata": {},
   "outputs": [],
   "source": [
    "con = sqlite3.connect('correct_noun_phrases.db')"
   ]
  },
  {
   "cell_type": "code",
   "execution_count": 36,
   "id": "81962341",
   "metadata": {},
   "outputs": [
    {
     "name": "stdout",
     "output_type": "stream",
     "text": [
      "('OTHER-OTHER', 10370)\n",
      "('LOC-OTHER', 1099)\n",
      "('ORG-OTHER', 470)\n",
      "('ORG-ORG', 301)\n",
      "('LOC-LOC', 205)\n",
      "('PER-OTHER', 87)\n",
      "('OTHER-ORG', 47)\n",
      "('PER-PER', 7)\n",
      "('OTHER-LOC', 7)\n",
      "('LOC-ORG', 6)\n",
      "('OTHER-PER', 1)\n",
      "('LOC-PER', 1)\n"
     ]
    }
   ],
   "source": [
    "cur = con.cursor()\n",
    "cur.execute(\"SELECT pattern_ner, count(*) FROM correct_phrase_patterns WHERE pattern_tree='1 2 nmod,2 0 root' GROUP BY pattern_ner ORDER BY count(*) DESC\")\n",
    "\n",
    "rows = cur.fetchall()\n",
    "\n",
    "for row in rows:\n",
    "    print(row)"
   ]
  },
  {
   "cell_type": "code",
   "execution_count": 26,
   "id": "549a8703",
   "metadata": {},
   "outputs": [
    {
     "name": "stdout",
     "output_type": "stream",
     "text": [
      "('H-S', 980)\n",
      "('S-S', 49)\n",
      "('Y-S', 43)\n",
      "('G-S', 16)\n",
      "('H-H', 6)\n",
      "('H-N', 2)\n",
      "('H-P|O', 1)\n",
      "('H-P|N', 1)\n",
      "('H-D', 1)\n"
     ]
    }
   ],
   "source": [
    "cur.execute(\"SELECT pattern_pos, count(*) FROM correct_phrase_patterns WHERE pattern_tree='1 2 nmod,2 0 root' AND pattern_ner = 'LOC-OTHER' GROUP BY pattern_pos ORDER BY count(*) DESC\")\n",
    "\n",
    "rows1 = cur.fetchall()\n",
    "\n",
    "for row in rows1:\n",
    "    print(row)"
   ]
  },
  {
   "cell_type": "code",
   "execution_count": 27,
   "id": "e3e15c53",
   "metadata": {},
   "outputs": [
    {
     "name": "stdout",
     "output_type": "stream",
     "text": [
      "('OTHER-OTHER', 1169)\n",
      "('LOC-OTHER', 980)\n",
      "('ORG-ORG', 172)\n",
      "('LOC-LOC', 172)\n",
      "('ORG-OTHER', 149)\n",
      "('PER-OTHER', 85)\n"
     ]
    }
   ],
   "source": [
    "cur.execute(\"SELECT pattern_ner, count(*) FROM correct_phrase_patterns WHERE pattern_tree='1 2 nmod,2 0 root' AND pattern_pos='H-S' GROUP BY pattern_ner ORDER BY count(*) DESC\")\n",
    "\n",
    "rows2 = cur.fetchall()\n",
    "\n",
    "for row in rows2:\n",
    "    print(row)"
   ]
  },
  {
   "cell_type": "code",
   "execution_count": 28,
   "id": "754b7a38",
   "metadata": {},
   "outputs": [
    {
     "name": "stdout",
     "output_type": "stream",
     "text": [
      "('g-g', 407)\n",
      "('g-n', 197)\n",
      "('g-ad', 136)\n",
      "('g-in', 71)\n",
      "('g-p', 63)\n",
      "('g-all', 31)\n",
      "('g-el', 28)\n",
      "('g-kom', 27)\n",
      "('?-g', 17)\n",
      "('g-tr', 11)\n",
      "('?-n', 11)\n",
      "('0-g', 11)\n",
      "('g-adt', 10)\n",
      "('g-abl', 9)\n",
      "('g-ill', 8)\n",
      "('all-g', 5)\n",
      "('?-ad', 5)\n",
      "('kom-g', 4)\n",
      "('el-in', 4)\n",
      "('n-n', 3)\n",
      "('in-ad', 3)\n",
      "('?-in', 3)\n",
      "('in-g', 2)\n",
      "('g-ter', 2)\n",
      "('g-es', 2)\n",
      "('all-tr', 2)\n",
      "('ad-n', 2)\n",
      "('?-p', 2)\n",
      "('?-kom', 2)\n",
      "('?-all', 2)\n",
      "('0-kom', 2)\n",
      "('0-in', 2)\n",
      "('p-n', 1)\n",
      "('n-p', 1)\n",
      "('n-g', 1)\n",
      "('n-adt', 1)\n",
      "('kom-tr', 1)\n",
      "('in-in', 1)\n",
      "('ill-tr', 1)\n",
      "('ill-ad', 1)\n",
      "('g-?', 1)\n",
      "('g-0', 1)\n",
      "('all-in', 1)\n",
      "('adt-in', 1)\n",
      "('adt-g', 1)\n",
      "('adt-ad', 1)\n",
      "('0-el', 1)\n"
     ]
    }
   ],
   "source": [
    "cur.execute(\"SELECT pattern_form, count(*) FROM correct_phrase_patterns WHERE pattern_tree='1 2 nmod,2 0 root' AND pattern_ner='LOC-OTHER' GROUP BY pattern_form ORDER BY count(*) DESC\")\n",
    "\n",
    "rows3 = cur.fetchall()\n",
    "\n",
    "for row in rows3:\n",
    "    print(row)"
   ]
  },
  {
   "cell_type": "code",
   "execution_count": 29,
   "id": "540b575e",
   "metadata": {},
   "outputs": [],
   "source": [
    "con.close()"
   ]
  },
  {
   "cell_type": "code",
   "execution_count": 34,
   "id": "cb9942a3",
   "metadata": {},
   "outputs": [
    {
     "name": "stdout",
     "output_type": "stream",
     "text": [
      "980\n",
      "49\n",
      "43\n",
      "16\n",
      "6\n",
      "2\n",
      "1\n",
      "1\n",
      "1\n"
     ]
    }
   ],
   "source": [
    "for row in rows1:\n",
    "    print(row[1])"
   ]
  },
  {
   "cell_type": "code",
   "execution_count": 53,
   "id": "72187584",
   "metadata": {},
   "outputs": [],
   "source": [
    "def get_pattern_trees(con):\n",
    "    cur = con.cursor()\n",
    "    cur.execute(\"SELECT pattern_tree, count(*) FROM correct_phrase_patterns GROUP BY pattern_tree ORDER BY count(*) DESC\")\n",
    "    \n",
    "    rows = cur.fetchall()\n",
    "    return rows\n",
    "\n",
    "def get_patterns_ner(con, pattern_tree):\n",
    "    cur = con.cursor()\n",
    "    cur.execute(\"SELECT pattern_ner, count(*) FROM correct_phrase_patterns WHERE pattern_tree = ? GROUP BY pattern_ner ORDER BY count(*) DESC\", (pattern_tree,))\n",
    "\n",
    "    rows = cur.fetchall()\n",
    "    return rows\n",
    "\n",
    "def get_patterns_pos(con, pattern_tree, pattern_ner):\n",
    "    cur = con.cursor()\n",
    "    cur.execute(\"SELECT pattern_pos, count(*) FROM correct_phrase_patterns WHERE pattern_tree = ? AND pattern_ner = ? GROUP BY pattern_pos ORDER BY count(*) DESC\", (pattern_tree, pattern_ner))\n",
    "\n",
    "    rows = cur.fetchall()\n",
    "    return rows\n",
    "\n",
    "def get_patterns_form(con, pattern_tree, pattern_ner, pattern_pos):\n",
    "    cur = con.cursor()\n",
    "    cur.execute(\"SELECT pattern_form, count(*) FROM correct_phrase_patterns WHERE pattern_tree = ? AND pattern_ner = ? and pattern_pos = ? GROUP BY pattern_form ORDER BY count(*) DESC\", (pattern_tree, pattern_ner, pattern_pos))\n",
    "\n",
    "    rows = cur.fetchall()\n",
    "    return rows"
   ]
  },
  {
   "cell_type": "code",
   "execution_count": 58,
   "id": "cf1b7f99",
   "metadata": {},
   "outputs": [],
   "source": [
    "def get_percent(current_count, rows):\n",
    "    total_count = sum([row[1] for row in rows])\n",
    "    return current_count/total_count"
   ]
  },
  {
   "cell_type": "code",
   "execution_count": 38,
   "id": "2bd1e81a",
   "metadata": {},
   "outputs": [],
   "source": [
    "pattern_tree1 = '1 2 nmod,2 0 root'"
   ]
  },
  {
   "cell_type": "code",
   "execution_count": 43,
   "id": "de7cdd31",
   "metadata": {},
   "outputs": [
    {
     "data": {
      "text/plain": [
       "[('OTHER-OTHER', 10370),\n",
       " ('LOC-OTHER', 1099),\n",
       " ('ORG-OTHER', 470),\n",
       " ('ORG-ORG', 301),\n",
       " ('LOC-LOC', 205),\n",
       " ('PER-OTHER', 87),\n",
       " ('OTHER-ORG', 47),\n",
       " ('PER-PER', 7),\n",
       " ('OTHER-LOC', 7),\n",
       " ('LOC-ORG', 6),\n",
       " ('OTHER-PER', 1),\n",
       " ('LOC-PER', 1)]"
      ]
     },
     "execution_count": 43,
     "metadata": {},
     "output_type": "execute_result"
    }
   ],
   "source": [
    "patterns_ner = get_patterns_ner(sqlite3.connect('correct_noun_phrases.db'), pattern_tree1)\n",
    "patterns_ner"
   ]
  },
  {
   "cell_type": "code",
   "execution_count": 69,
   "id": "a8b7bdfe",
   "metadata": {},
   "outputs": [
    {
     "data": {
      "text/plain": [
       "[('1 2 nmod,2 0 root', 12601),\n",
       " ('1 2 amod,2 0 root', 7069),\n",
       " ('1 2 obl,2 3 acl,3 0 root', 700),\n",
       " ('1 2 nmod,2 0 root,3 2 nmod', 545),\n",
       " ('1 2 nmod,2 0 root,3 2 appos,4 3 flat', 405),\n",
       " ('1 0 root,2 1 flat,3 1 flat', 172)]"
      ]
     },
     "execution_count": 69,
     "metadata": {},
     "output_type": "execute_result"
    }
   ],
   "source": [
    "pattern_trees = get_pattern_trees(sqlite3.connect('correct_noun_phrases.db'))\n",
    "pattern_trees"
   ]
  },
  {
   "cell_type": "code",
   "execution_count": 67,
   "id": "e1572ef3",
   "metadata": {},
   "outputs": [
    {
     "name": "stdout",
     "output_type": "stream",
     "text": [
      "[('1 2 nmod,2 0 root', 12601), ('OTHER-OTHER', 10370), ('S-S', 6748), ('g-g', 1802), 1802, 0.1737704918032787]\n",
      "[('1 2 nmod,2 0 root', 12601), ('OTHER-OTHER', 10370), ('S-S', 6748), ('g-n', 1446), 1446, 0.1394406943105111]\n",
      "[('1 2 nmod,2 0 root', 12601), ('LOC-OTHER', 1099), ('H-S', 980), ('g-g', 382), 382, 0.3475887170154686]\n",
      "[('1 2 nmod,2 0 root', 12601), ('LOC-OTHER', 1099), ('H-S', 980), ('g-n', 190), 190, 0.17288444040036396]\n",
      "[('1 2 nmod,2 0 root', 12601), ('LOC-OTHER', 1099), ('H-S', 980), ('g-ad', 135), 135, 0.12283894449499544]\n",
      "[('1 2 nmod,2 0 root', 12601), ('ORG-OTHER', 470), ('S-S', 196), ('g-g', 79), 79, 0.16808510638297872]\n",
      "[('1 2 nmod,2 0 root', 12601), ('ORG-OTHER', 470), ('H-S', 149), ('g-g', 63), 63, 0.13404255319148936]\n",
      "[('1 2 nmod,2 0 root', 12601), ('ORG-ORG', 301), ('H-S', 172), ('g-g', 107), 107, 0.3554817275747508]\n",
      "[('1 2 nmod,2 0 root', 12601), ('ORG-ORG', 301), ('S-S', 50), ('g-g', 38), 38, 0.12624584717607973]\n",
      "[('1 2 nmod,2 0 root', 12601), ('ORG-ORG', 301), ('H-H', 45), ('g-g', 37), 37, 0.12292358803986711]\n",
      "[('1 2 nmod,2 0 root', 12601), ('LOC-LOC', 205), ('H-S', 172), ('g-n', 95), 95, 0.46341463414634143]\n",
      "[('1 2 nmod,2 0 root', 12601), ('LOC-LOC', 205), ('H-S', 172), ('g-g', 59), 59, 0.28780487804878047]\n",
      "[('1 2 nmod,2 0 root', 12601), ('PER-OTHER', 87), ('H-S', 85), ('g-ad', 47), 47, 0.5402298850574713]\n",
      "[('1 2 nmod,2 0 root', 12601), ('PER-OTHER', 87), ('H-S', 85), ('g-g', 12), 12, 0.13793103448275862]\n",
      "[('1 2 nmod,2 0 root', 12601), ('PER-OTHER', 87), ('H-S', 85), ('g-n', 11), 11, 0.12643678160919541]\n",
      "[('1 2 nmod,2 0 root', 12601), ('OTHER-ORG', 47), ('H-H', 28), ('g-g', 28), 28, 0.5957446808510638]\n",
      "[('1 2 nmod,2 0 root', 12601), ('OTHER-ORG', 47), ('P-S', 6), ('g-g', 6), 6, 0.1276595744680851]\n",
      "[('1 2 nmod,2 0 root', 12601), ('PER-PER', 7), ('H-H', 5), ('n-n', 4), 4, 0.5714285714285715]\n",
      "[('1 2 nmod,2 0 root', 12601), ('PER-PER', 7), ('H-H', 5), ('g-g', 1), 1, 0.14285714285714288]\n",
      "[('1 2 nmod,2 0 root', 12601), ('PER-PER', 7), ('S-H', 2), ('g-n', 2), 2, 0.2857142857142857]\n",
      "[('1 2 nmod,2 0 root', 12601), ('OTHER-LOC', 7), ('S-H', 3), ('g-g', 3), 3, 0.42857142857142855]\n",
      "[('1 2 nmod,2 0 root', 12601), ('OTHER-LOC', 7), ('P-H', 3), ('g-in', 3), 3, 0.42857142857142855]\n",
      "[('1 2 nmod,2 0 root', 12601), ('OTHER-LOC', 7), ('Y-H', 1), ('?-n', 1), 1, 0.14285714285714285]\n",
      "[('1 2 nmod,2 0 root', 12601), ('LOC-ORG', 6), ('H-H', 4), ('g-g', 4), 4, 0.6666666666666666]\n",
      "[('1 2 nmod,2 0 root', 12601), ('LOC-ORG', 6), ('H-Y', 2), ('g-?', 2), 2, 0.3333333333333333]\n",
      "[('1 2 nmod,2 0 root', 12601), ('OTHER-PER', 1), ('P-H', 1), ('g-n', 1), 1, 1.0]\n",
      "[('1 2 nmod,2 0 root', 12601), ('LOC-PER', 1), ('H-H', 1), ('g-g', 1), 1, 1.0]\n",
      "[('1 2 amod,2 0 root', 7069), ('OTHER-OTHER', 7018), ('A-S', 5043), ('g-g', 1330), 1330, 0.18951268167569107]\n",
      "[('1 2 amod,2 0 root', 7069), ('OTHER-OTHER', 7018), ('A-S', 5043), ('n-n', 1218), 1218, 0.17355371900826444]\n",
      "[('1 2 amod,2 0 root', 7069), ('OTHER-OTHER', 7018), ('A-S', 5043), ('p-p', 817), 817, 0.11641493302935309]\n",
      "[('1 2 amod,2 0 root', 7069), ('ORG-ORG', 17), ('A-S', 12), ('g-g', 7), 7, 0.411764705882353]\n",
      "[('1 2 amod,2 0 root', 7069), ('ORG-ORG', 17), ('A-S', 12), ('abl-abl', 3), 3, 0.17647058823529413]\n",
      "[('1 2 amod,2 0 root', 7069), ('ORG-ORG', 17), ('A-S', 12), ('n-n', 2), 2, 0.11764705882352941]\n",
      "[('1 2 amod,2 0 root', 7069), ('ORG-ORG', 17), ('H-S', 5), ('g-n', 5), 5, 0.29411764705882354]\n",
      "[('1 2 amod,2 0 root', 7069), ('OTHER-ORG', 11), ('A-Y', 6), ('g-g', 3), 3, 0.2727272727272727]\n",
      "[('1 2 amod,2 0 root', 7069), ('OTHER-ORG', 11), ('A-Y', 6), ('ad-?', 2), 2, 0.1818181818181818]\n",
      "[('1 2 amod,2 0 root', 7069), ('OTHER-ORG', 11), ('A-H', 4), ('g-g', 3), 3, 0.2727272727272727]\n",
      "[('1 2 amod,2 0 root', 7069), ('OTHER-LOC', 11), ('A-H', 7), ('g-g', 7), 7, 0.6363636363636364]\n",
      "[('1 2 amod,2 0 root', 7069), ('OTHER-LOC', 11), ('A-S', 4), ('g-g', 4), 4, 0.36363636363636365]\n",
      "[('1 2 amod,2 0 root', 7069), ('LOC-OTHER', 6), ('H-S', 5), ('g-g', 3), 3, 0.5]\n",
      "[('1 2 amod,2 0 root', 7069), ('LOC-OTHER', 6), ('H-S', 5), ('g-kom', 1), 1, 0.16666666666666669]\n",
      "[('1 2 amod,2 0 root', 7069), ('LOC-OTHER', 6), ('H-S', 5), ('g-el', 1), 1, 0.16666666666666669]\n",
      "[('1 2 amod,2 0 root', 7069), ('LOC-OTHER', 6), ('G-S', 1), ('0-tr', 1), 1, 0.16666666666666666]\n",
      "[('1 2 amod,2 0 root', 7069), ('LOC-LOC', 3), ('A-S', 3), ('g-g', 3), 3, 1.0]\n",
      "[('1 2 amod,2 0 root', 7069), ('ORG-OTHER', 2), ('Y-S', 2), ('?-n', 2), 2, 1.0]\n",
      "[('1 2 amod,2 0 root', 7069), ('OTHER-PER', 1), ('A-H', 1), ('n-n', 1), 1, 1.0]\n",
      "[('1 2 obl,2 3 acl,3 0 root', 700), ('LOC-OTHER-OTHER', 81), ('H-A-S', 49), ('in-g-g', 14), 14, 0.1728395061728395]\n",
      "[('1 2 obl,2 3 acl,3 0 root', 700), ('LOC-OTHER-OTHER', 81), ('H-V_fin-S', 9), ('in-vad-n', 9), 9, 0.1111111111111111]\n",
      "[('1 2 obl,2 3 acl,3 0 root', 700), ('OTHER-OTHER-PER', 20), ('S-V_inf|A-H', 17), ('abl-nud-n', 5), 5, 0.25]\n",
      "[('1 2 obl,2 3 acl,3 0 root', 700), ('OTHER-OTHER-PER', 20), ('S-V_inf|A-H', 17), ('ad-nud-g', 4), 4, 0.19999999999999998]\n",
      "[('1 2 obl,2 3 acl,3 0 root', 700), ('OTHER-OTHER-PER', 20), ('H-V_inf|A-H', 2), ('in-nud-n', 2), 2, 0.1]\n",
      "[('1 2 obl,2 3 acl,3 0 root', 700), ('ORG-OTHER-OTHER', 13), ('Y-A-S', 4), ('ill-g-g', 3), 3, 0.23076923076923078]\n",
      "[('1 2 obl,2 3 acl,3 0 root', 700), ('ORG-OTHER-OTHER', 13), ('S-A|V_inf-S', 2), ('all-0-g', 2), 2, 0.15384615384615385]\n",
      "[('1 2 obl,2 3 acl,3 0 root', 700), ('ORG-OTHER-OTHER', 13), ('H-A-S', 2), ('in-g-g', 2), 2, 0.15384615384615385]\n",
      "[('1 2 obl,2 3 acl,3 0 root', 700), ('OTHER-OTHER-LOC', 7), ('S-V_inf|A-S', 4), ('ad-nud-g', 4), 4, 0.5714285714285714]\n",
      "[('1 2 obl,2 3 acl,3 0 root', 700), ('OTHER-OTHER-LOC', 7), ('S-A-S', 3), ('in-in-in', 2), 2, 0.2857142857142857]\n",
      "[('1 2 obl,2 3 acl,3 0 root', 700), ('OTHER-OTHER-LOC', 7), ('S-A-S', 3), ('ad-ill-g', 1), 1, 0.14285714285714285]\n",
      "[('1 2 obl,2 3 acl,3 0 root', 700), ('OTHER-OTHER-ORG', 4), ('S-A-Y', 2), ('ad-g-g', 2), 2, 0.5]\n",
      "[('1 2 obl,2 3 acl,3 0 root', 700), ('OTHER-OTHER-ORG', 4), ('S-A|V_inf-H', 1), ('adt-0-g', 1), 1, 0.25]\n",
      "[('1 2 obl,2 3 acl,3 0 root', 700), ('OTHER-OTHER-ORG', 4), ('N-A|V_inf-H', 1), ('?-0-g', 1), 1, 0.25]\n",
      "[('1 2 obl,2 3 acl,3 0 root', 700), ('PER-OTHER-OTHER', 3), ('H-V_inf|A-S', 1), ('el-tud-n', 1), 1, 0.3333333333333333]\n",
      "[('1 2 obl,2 3 acl,3 0 root', 700), ('PER-OTHER-OTHER', 3), ('H-V_inf|A-H', 1), ('g-nud-n', 1), 1, 0.3333333333333333]\n",
      "[('1 2 obl,2 3 acl,3 0 root', 700), ('PER-OTHER-OTHER', 3), ('H-A|V_inf-S', 1), ('g-0-n', 1), 1, 0.3333333333333333]\n",
      "[('1 2 nmod,2 0 root,3 2 nmod', 545), ('LOC-OTHER-OTHER', 61), ('H-S-S', 50), ('g-in-es', 32), 32, 0.5245901639344263]\n",
      "[('1 2 nmod,2 0 root,3 2 nmod', 545), ('ORG-OTHER-OTHER', 24), ('Y-S-S', 9), ('?-p-es', 6), 6, 0.25]\n",
      "[('1 2 nmod,2 0 root,3 2 nmod', 545), ('ORG-OTHER-OTHER', 24), ('H-S-S', 8), ('g-p-es', 6), 6, 0.25]\n",
      "[('1 2 nmod,2 0 root,3 2 nmod', 545), ('ORG-OTHER-ORG', 15), ('S-S-S', 15), ('g-g-in', 15), 15, 1.0]\n",
      "[('1 2 nmod,2 0 root,3 2 nmod', 545), ('LOC-OTHER-LOC', 15), ('H-S-H', 13), ('g-adt-in', 12), 12, 0.8]\n",
      "[('1 2 nmod,2 0 root,3 2 nmod', 545), ('OTHER-OTHER-ORG', 8), ('S-S-Y', 4), ('g-el-in', 4), 4, 0.5]\n",
      "[('1 2 nmod,2 0 root,3 2 nmod', 545), ('OTHER-OTHER-ORG', 8), ('S-S-S', 2), ('g-p-g', 2), 2, 0.25]\n",
      "[('1 2 nmod,2 0 root,3 2 nmod', 545), ('OTHER-OTHER-ORG', 8), ('S-S-H', 1), ('g-n-n', 1), 1, 0.125]\n",
      "[('1 2 nmod,2 0 root,3 2 nmod', 545), ('OTHER-OTHER-ORG', 8), ('P-S-H', 1), ('g-n-ad', 1), 1, 0.125]\n",
      "[('1 2 nmod,2 0 root,3 2 nmod', 545), ('OTHER-OTHER-LOC', 8), ('S-S-H', 6), ('g-n-in', 3), 3, 0.375]\n",
      "[('1 2 nmod,2 0 root,3 2 nmod', 545), ('OTHER-OTHER-LOC', 8), ('S-S-H', 6), ('es-n-adt', 2), 2, 0.25]\n",
      "[('1 2 nmod,2 0 root,3 2 nmod', 545), ('OTHER-OTHER-LOC', 8), ('S-S-H', 6), ('g-abl-in', 1), 1, 0.125]\n",
      "[('1 2 nmod,2 0 root,3 2 nmod', 545), ('OTHER-OTHER-LOC', 8), ('P-S-S', 2), ('g-p-g', 2), 2, 0.25]\n",
      "[('1 2 nmod,2 0 root,3 2 nmod', 545), ('OTHER-OTHER-PER', 7), ('S-S-H', 5), ('g-n-n', 5), 5, 0.7142857142857143]\n",
      "[('1 2 nmod,2 0 root,3 2 nmod', 545), ('OTHER-OTHER-PER', 7), ('P-S-H', 2), ('g-p-n', 1), 1, 0.14285714285714285]\n",
      "[('1 2 nmod,2 0 root,3 2 nmod', 545), ('OTHER-OTHER-PER', 7), ('P-S-H', 2), ('g-el-n', 1), 1, 0.14285714285714285]\n",
      "[('1 2 nmod,2 0 root,3 2 nmod', 545), ('LOC-LOC-OTHER', 5), ('H-S-S', 2), ('g-in-in', 1), 1, 0.2]\n",
      "[('1 2 nmod,2 0 root,3 2 nmod', 545), ('LOC-LOC-OTHER', 5), ('H-S-S', 2), ('g-g-tr', 1), 1, 0.2]\n",
      "[('1 2 nmod,2 0 root,3 2 nmod', 545), ('LOC-LOC-OTHER', 5), ('H-H-S', 2), ('g-adt-g', 2), 2, 0.4]\n",
      "[('1 2 nmod,2 0 root,3 2 nmod', 545), ('LOC-LOC-OTHER', 5), ('H-S-H', 1), ('g-in-in', 1), 1, 0.2]\n",
      "[('1 2 nmod,2 0 root,3 2 nmod', 545), ('PER-OTHER-OTHER', 4), ('H-S-S', 4), ('g-p-in', 1), 1, 0.25]\n",
      "[('1 2 nmod,2 0 root,3 2 nmod', 545), ('PER-OTHER-OTHER', 4), ('H-S-S', 4), ('g-n-in', 1), 1, 0.25]\n",
      "[('1 2 nmod,2 0 root,3 2 nmod', 545), ('PER-OTHER-OTHER', 4), ('H-S-S', 4), ('g-n-ad', 1), 1, 0.25]\n",
      "[('1 2 nmod,2 0 root,3 2 nmod', 545), ('PER-OTHER-OTHER', 4), ('H-S-S', 4), ('g-ad-all', 1), 1, 0.25]\n",
      "[('1 2 nmod,2 0 root,3 2 nmod', 545), ('OTHER-ORG-OTHER', 1), ('S-Y-S', 1), ('g-?-ad', 1), 1, 1.0]\n",
      "[('1 2 nmod,2 0 root,3 2 nmod', 545), ('OTHER-ORG-ORG', 1), ('S-H-H', 1), ('n-n-n', 1), 1, 1.0]\n",
      "[('1 2 nmod,2 0 root,3 2 nmod', 545), ('ORG-ORG-OTHER', 1), ('H-H-S', 1), ('g-n-ad', 1), 1, 1.0]\n",
      "[('1 2 nmod,2 0 root,3 2 appos,4 3 flat', 405), ('OTHER-OTHER-OTHER-OTHER', 158), ('S-S-H-H', 122), ('g-n-n-n', 75), 75, 0.4746835443037975]\n",
      "[('1 2 nmod,2 0 root,3 2 appos,4 3 flat', 405), ('OTHER-OTHER-PER-PER', 72), ('S-S-H-H', 65), ('g-n-n-n', 30), 30, 0.4166666666666667]\n",
      "[('1 2 nmod,2 0 root,3 2 appos,4 3 flat', 405), ('OTHER-OTHER-PER-PER', 72), ('S-S-H-H', 65), ('g-g-n-g', 19), 19, 0.2638888888888889]\n",
      "[('1 2 nmod,2 0 root,3 2 appos,4 3 flat', 405), ('LOC-OTHER-OTHER-OTHER', 66), ('H-S-H-H', 54), ('g-n-n-n', 30), 30, 0.4545454545454546]\n",
      "[('1 2 nmod,2 0 root,3 2 appos,4 3 flat', 405), ('ORG-OTHER-OTHER-OTHER', 49), ('S-S-H-H', 23), ('g-n-n-n', 16), 16, 0.326530612244898]\n",
      "[('1 2 nmod,2 0 root,3 2 appos,4 3 flat', 405), ('ORG-OTHER-OTHER-OTHER', 49), ('H-S-H-H', 11), ('g-n-n-n', 6), 6, 0.12244897959183673]\n",
      "[('1 2 nmod,2 0 root,3 2 appos,4 3 flat', 405), ('LOC-OTHER-PER-PER', 26), ('H-S-H-H', 25), ('g-g-n-g', 18), 18, 0.6923076923076923]\n",
      "[('1 2 nmod,2 0 root,3 2 appos,4 3 flat', 405), ('LOC-OTHER-PER-PER', 26), ('H-S-H-H', 25), ('g-n-n-n', 6), 6, 0.23076923076923075]\n",
      "[('1 2 nmod,2 0 root,3 2 appos,4 3 flat', 405), ('ORG-OTHER-PER-PER', 19), ('H-S-H-H', 7), ('g-g-n-g', 5), 5, 0.2631578947368421]\n",
      "[('1 2 nmod,2 0 root,3 2 appos,4 3 flat', 405), ('ORG-OTHER-PER-PER', 19), ('H-S-H-H', 7), ('n-g-n-n', 2), 2, 0.10526315789473684]\n",
      "[('1 2 nmod,2 0 root,3 2 appos,4 3 flat', 405), ('ORG-OTHER-PER-PER', 19), ('S-S-H-H', 6), ('n-g-n-g', 2), 2, 0.10526315789473684]\n",
      "[('1 2 nmod,2 0 root,3 2 appos,4 3 flat', 405), ('ORG-OTHER-PER-PER', 19), ('S-S-H-H', 6), ('g-g-n-g', 2), 2, 0.10526315789473684]\n",
      "[('1 2 nmod,2 0 root,3 2 appos,4 3 flat', 405), ('ORG-OTHER-PER-PER', 19), ('Y-S-H-H', 5), ('?-g-n-g', 3), 3, 0.15789473684210525]\n",
      "[('1 2 nmod,2 0 root,3 2 appos,4 3 flat', 405), ('ORG-OTHER-PER-PER', 19), ('Y-S-H-H', 5), ('g-g-n-n', 2), 2, 0.10526315789473684]\n",
      "[('1 2 nmod,2 0 root,3 2 appos,4 3 flat', 405), ('OTHER-OTHER-ORG-OTHER', 3), ('S-S-H-N', 3), ('kom-adt-g-?', 3), 3, 1.0]\n",
      "[('1 2 nmod,2 0 root,3 2 appos,4 3 flat', 405), ('OTHER-OTHER-ORG-ORG', 3), ('S-S-Y-H', 1), ('g-g-?-g', 1), 1, 0.3333333333333333]\n",
      "[('1 2 nmod,2 0 root,3 2 appos,4 3 flat', 405), ('OTHER-OTHER-ORG-ORG', 3), ('S-S-H-Y', 1), ('g-kom-g-?', 1), 1, 0.3333333333333333]\n",
      "[('1 2 nmod,2 0 root,3 2 appos,4 3 flat', 405), ('OTHER-OTHER-ORG-ORG', 3), ('H-S-H-H', 1), ('g-g-n-n', 1), 1, 0.3333333333333333]\n",
      "[('1 2 nmod,2 0 root,3 2 appos,4 3 flat', 405), ('ORG-OTHER-ORG-OTHER', 3), ('S-S-H-N', 3), ('g-adt-g-?', 3), 3, 1.0]\n",
      "[('1 2 nmod,2 0 root,3 2 appos,4 3 flat', 405), ('PER-OTHER-OTHER-OTHER', 2), ('H-S-H-H', 2), ('n-n-n-n', 1), 1, 0.5]\n",
      "[('1 2 nmod,2 0 root,3 2 appos,4 3 flat', 405), ('PER-OTHER-OTHER-OTHER', 2), ('H-S-H-H', 2), ('g-n-g-n', 1), 1, 0.5]\n",
      "[('1 2 nmod,2 0 root,3 2 appos,4 3 flat', 405), ('LOC-OTHER-ORG-ORG', 2), ('Y-S-H-H', 1), ('?-g-n-n', 1), 1, 0.5]\n",
      "[('1 2 nmod,2 0 root,3 2 appos,4 3 flat', 405), ('LOC-OTHER-ORG-ORG', 2), ('H-S-H-Y', 1), ('g-n-n-?', 1), 1, 0.5]\n",
      "[('1 2 nmod,2 0 root,3 2 appos,4 3 flat', 405), ('OTHER-OTHER-PER-OTHER', 1), ('H-S-H-H', 1), ('g-n-n-n', 1), 1, 1.0]\n",
      "[('1 2 nmod,2 0 root,3 2 appos,4 3 flat', 405), ('LOC-OTHER-LOC-OTHER', 1), ('H-S-H-H', 1), ('g-el-el-ill', 1), 1, 1.0]\n",
      "[('1 0 root,2 1 flat,3 1 flat', 172), ('OTHER-OTHER-OTHER', 99), ('H-H-H', 49), ('n-n-n', 30), 30, 0.30303030303030304]\n",
      "[('1 0 root,2 1 flat,3 1 flat', 172), ('OTHER-OTHER-OTHER', 99), ('H-Y-H', 12), ('n-?-n', 10), 10, 0.10101010101010102]\n",
      "[('1 0 root,2 1 flat,3 1 flat', 172), ('ORG-ORG-ORG', 14), ('H-H-H', 7), ('n-ill-n', 4), 4, 0.2857142857142857]\n",
      "[('1 0 root,2 1 flat,3 1 flat', 172), ('ORG-ORG-ORG', 14), ('H-H-Y', 3), ('n-n-?', 3), 3, 0.21428571428571427]\n",
      "[('1 0 root,2 1 flat,3 1 flat', 172), ('ORG-ORG-ORG', 14), ('Y-H-S', 2), ('?-g-n', 2), 2, 0.14285714285714285]\n",
      "[('1 0 root,2 1 flat,3 1 flat', 172), ('ORG-ORG-ORG', 14), ('H-J-H', 2), ('n-0-n', 2), 2, 0.14285714285714285]\n",
      "[('1 0 root,2 1 flat,3 1 flat', 172), ('PER-PER-OTHER', 11), ('H-H-Y', 5), ('n-n-?', 5), 5, 0.45454545454545453]\n",
      "[('1 0 root,2 1 flat,3 1 flat', 172), ('PER-PER-OTHER', 11), ('H-S-S', 3), ('n-g-n', 3), 3, 0.2727272727272727]\n",
      "[('1 0 root,2 1 flat,3 1 flat', 172), ('OTHER-PER-PER', 11), ('H-H-H', 8), ('n-n-g', 7), 7, 0.6363636363636364]\n",
      "[('1 0 root,2 1 flat,3 1 flat', 172), ('OTHER-PER-PER', 11), ('H-H-Y', 3), ('n-n-?', 3), 3, 0.2727272727272727]\n",
      "[('1 0 root,2 1 flat,3 1 flat', 172), ('ORG-OTHER-ORG', 10), ('Y-J-Y', 10), ('?-0-?', 10), 10, 1.0]\n",
      "[('1 0 root,2 1 flat,3 1 flat', 172), ('PER-PER-PER', 9), ('H-H-H', 8), ('n-n-n', 4), 4, 0.4444444444444444]\n",
      "[('1 0 root,2 1 flat,3 1 flat', 172), ('PER-PER-PER', 9), ('H-H-H', 8), ('n-n-g', 3), 3, 0.3333333333333333]\n",
      "[('1 0 root,2 1 flat,3 1 flat', 172), ('PER-PER-PER', 9), ('H-H-H', 8), ('g-n-n', 1), 1, 0.1111111111111111]\n",
      "[('1 0 root,2 1 flat,3 1 flat', 172), ('PER-PER-PER', 9), ('Y-Z-H', 1), ('?-0-n', 1), 1, 0.1111111111111111]\n",
      "[('1 0 root,2 1 flat,3 1 flat', 172), ('OTHER-OTHER-LOC', 4), ('S-J-H', 2), ('n-0-in', 2), 2, 0.5]\n",
      "[('1 0 root,2 1 flat,3 1 flat', 172), ('OTHER-OTHER-LOC', 4), ('H-Y-H', 2), ('n-?-ill', 2), 2, 0.5]\n",
      "[('1 0 root,2 1 flat,3 1 flat', 172), ('PER-PER-ORG', 2), ('H-H-Y', 2), ('n-n-?', 2), 2, 1.0]\n",
      "[('1 0 root,2 1 flat,3 1 flat', 172), ('PER-OTHER-OTHER', 2), ('H-H-H', 2), ('n-n-n', 1), 1, 0.5]\n",
      "[('1 0 root,2 1 flat,3 1 flat', 172), ('PER-OTHER-OTHER', 2), ('H-H-H', 2), ('n-?-n', 1), 1, 0.5]\n",
      "[('1 0 root,2 1 flat,3 1 flat', 172), ('LOC-OTHER-OTHER', 2), ('H-J-H', 1), ('n-0-n', 1), 1, 0.5]\n",
      "[('1 0 root,2 1 flat,3 1 flat', 172), ('LOC-OTHER-OTHER', 2), ('H-H-H', 1), ('?-n-n', 1), 1, 0.5]\n",
      "[('1 0 root,2 1 flat,3 1 flat', 172), ('OTHER-OTHER-PER', 1), ('H-H-H', 1), ('n-?-g', 1), 1, 1.0]\n",
      "[('1 0 root,2 1 flat,3 1 flat', 172), ('OTHER-OTHER-ORG', 1), ('S-S-H', 1), ('g-n-n', 1), 1, 1.0]\n",
      "[('1 0 root,2 1 flat,3 1 flat', 172), ('OTHER-ORG-ORG', 1), ('H-Y-H', 1), ('n-?-n', 1), 1, 1.0]\n",
      "[('1 0 root,2 1 flat,3 1 flat', 172), ('OTHER-LOC-OTHER', 1), ('H-H-Y', 1), ('n-in-?', 1), 1, 1.0]\n",
      "[('1 0 root,2 1 flat,3 1 flat', 172), ('OTHER-LOC-ORG', 1), ('H-H-Y', 1), ('n-in-?', 1), 1, 1.0]\n",
      "[('1 0 root,2 1 flat,3 1 flat', 172), ('ORG-OTHER-OTHER', 1), ('H-H-H', 1), ('n-n-n', 1), 1, 1.0]\n",
      "[('1 0 root,2 1 flat,3 1 flat', 172), ('ORG-ORG-OTHER', 1), ('Y-H-S', 1), ('?-n-g', 1), 1, 1.0]\n",
      "[('1 0 root,2 1 flat,3 1 flat', 172), ('LOC-LOC-LOC', 1), ('H-H-H', 1), ('?-?-g', 1), 1, 1.0]\n"
     ]
    }
   ],
   "source": [
    "con = sqlite3.connect('correct_noun_phrases.db')\n",
    "\n",
    "patterns = []\n",
    "for pattern_tree in pattern_trees:\n",
    "    patterns_ner = get_patterns_ner(con, pattern_tree[0])\n",
    "    for pattern_ner in patterns_ner:\n",
    "        #percent1 = get_percent(pattern_ner[1], patterns_ner)\n",
    "        #if percent1 >= 0.1:\n",
    "        patterns_pos = get_patterns_pos(con, pattern_tree[0], pattern_ner[0])\n",
    "        for pattern_pos in patterns_pos:\n",
    "            percent1 = get_percent(pattern_pos[1], patterns_pos)\n",
    "            if percent1 >= 0.1:\n",
    "                patterns_form = get_patterns_form(con, pattern_tree[0], pattern_ner[0], pattern_pos[0])\n",
    "                for pattern_form in patterns_form:\n",
    "                    percent2 = percent1 * get_percent(pattern_form[1], patterns_form)\n",
    "                    if percent2 >= 0.1:\n",
    "                        patterns.append([pattern_tree, pattern_ner, pattern_pos, pattern_form, pattern_form[1], percent2])\n",
    "\n",
    "for pattern in patterns:\n",
    "    print(pattern)\n",
    "    \n",
    "# kas teha mõlemat pidi?\n",
    "# -- tree x pattern_pos x pattern_form -> support (pattern_ner) puu sees\n",
    "# -- tree x pattern_pos x pattern_form -> support (pattern_ner) üle kõigi puude"
   ]
  },
  {
   "cell_type": "code",
   "execution_count": 68,
   "id": "96083d5d",
   "metadata": {},
   "outputs": [
    {
     "data": {
      "text/plain": [
       "145"
      ]
     },
     "execution_count": 68,
     "metadata": {},
     "output_type": "execute_result"
    }
   ],
   "source": [
    "len(patterns)"
   ]
  },
  {
   "cell_type": "code",
   "execution_count": 74,
   "id": "10b5081c",
   "metadata": {},
   "outputs": [],
   "source": [
    "# NB! Mustri recall baseerub NER-kombinatsiooni esinemissagedusel puumustri sees, mitte puumustri esinemissagedusel\n",
    "with open('indicator_correct_patterns.csv', 'w', newline='', encoding='UTF-8') as csv_file:\n",
    "    writer = csv.DictWriter(csv_file, fieldnames=['tree', 'pattern', 'pattern_count', 'recall'])\n",
    "    writer.writeheader()\n",
    "    for pattern in patterns:\n",
    "        writer.writerow({'tree': pattern[0][0], 'pattern': ','.join([pattern[1][0], pattern[2][0], pattern[3][0]]), 'pattern_count': pattern[4], 'recall': round(pattern[5], 2)})"
   ]
  },
  {
   "cell_type": "code",
   "execution_count": 79,
   "id": "274df1de",
   "metadata": {},
   "outputs": [],
   "source": [
    "def get_patterns_ner_no_tree(con):\n",
    "    con.cursor()\n",
    "    cur.execute(\"SELECT pattern_ner, count(*) FROM correct_phrase_patterns GROUP BY pattern_ner ORDER BY count(*) DESC\")\n",
    "    \n",
    "    rows = cur.fetchall()\n",
    "    \n",
    "    return rows\n",
    "\n",
    "def get_patterns_pos_no_tree(con, pattern_ner):\n",
    "    cur = con.cursor()\n",
    "    cur.execute(\"SELECT pattern_pos, count(*) FROM correct_phrase_patterns WHERE pattern_ner = ? GROUP BY pattern_pos ORDER BY count(*) DESC\", (pattern_ner,))\n",
    "\n",
    "    rows = cur.fetchall()\n",
    "    return rows\n",
    "\n",
    "def get_patterns_form_no_tree(con, pattern_ner, pattern_pos):\n",
    "    cur = con.cursor()\n",
    "    cur.execute(\"SELECT pattern_form, count(*) FROM correct_phrase_patterns WHERE pattern_ner = ? and pattern_pos = ? GROUP BY pattern_form ORDER BY count(*) DESC\", (pattern_ner, pattern_pos))\n",
    "\n",
    "    rows = cur.fetchall()\n",
    "    return rows"
   ]
  },
  {
   "cell_type": "code",
   "execution_count": 80,
   "id": "9978bdc4",
   "metadata": {},
   "outputs": [
    {
     "name": "stdout",
     "output_type": "stream",
     "text": [
      "[('OTHER-OTHER', 17388), ('S-S', 6775), ('g-g', 1807), 1807, 0.10392224522659305]\n",
      "[('LOC-OTHER', 1105), ('H-S', 985), ('g-g', 385), 385, 0.3484162895927602]\n",
      "[('LOC-OTHER', 1105), ('H-S', 985), ('g-n', 190), 190, 0.17194570135746606]\n",
      "[('LOC-OTHER', 1105), ('H-S', 985), ('g-ad', 135), 135, 0.12217194570135746]\n",
      "[('ORG-OTHER', 472), ('S-S', 196), ('g-g', 79), 79, 0.1673728813559322]\n",
      "[('ORG-OTHER', 472), ('H-S', 149), ('g-g', 63), 63, 0.13347457627118645]\n",
      "[('ORG-ORG', 318), ('H-S', 177), ('g-g', 107), 107, 0.33647798742138363]\n",
      "[('ORG-ORG', 318), ('S-S', 50), ('g-g', 38), 38, 0.11949685534591195]\n",
      "[('ORG-ORG', 318), ('H-H', 45), ('g-g', 37), 37, 0.11635220125786162]\n",
      "[('LOC-LOC', 208), ('H-S', 172), ('g-n', 95), 95, 0.45673076923076916]\n",
      "[('LOC-LOC', 208), ('H-S', 172), ('g-g', 59), 59, 0.28365384615384615]\n",
      "[('OTHER-OTHER-OTHER-OTHER', 158), ('S-S-H-H', 122), ('g-n-n-n', 75), 75, 0.4746835443037975]\n",
      "[('LOC-OTHER-OTHER', 144), ('H-S-S', 50), ('g-in-es', 32), 32, 0.2222222222222222]\n",
      "[('PER-OTHER', 87), ('H-S', 85), ('g-ad', 47), 47, 0.5402298850574713]\n",
      "[('PER-OTHER', 87), ('H-S', 85), ('g-g', 12), 12, 0.13793103448275862]\n",
      "[('PER-OTHER', 87), ('H-S', 85), ('g-n', 11), 11, 0.12643678160919541]\n",
      "[('OTHER-OTHER-PER-PER', 72), ('S-S-H-H', 65), ('g-n-n-n', 30), 30, 0.4166666666666667]\n",
      "[('OTHER-OTHER-PER-PER', 72), ('S-S-H-H', 65), ('g-g-n-g', 19), 19, 0.2638888888888889]\n",
      "[('LOC-OTHER-OTHER-OTHER', 66), ('H-S-H-H', 54), ('g-n-n-n', 30), 30, 0.4545454545454546]\n",
      "[('OTHER-ORG', 58), ('H-H', 28), ('g-g', 28), 28, 0.4827586206896552]\n",
      "[('OTHER-ORG', 58), ('P-S', 6), ('g-g', 6), 6, 0.10344827586206896]\n",
      "[('ORG-OTHER-OTHER-OTHER', 49), ('S-S-H-H', 23), ('g-n-n-n', 16), 16, 0.326530612244898]\n",
      "[('ORG-OTHER-OTHER-OTHER', 49), ('H-S-H-H', 11), ('g-n-n-n', 6), 6, 0.12244897959183673]\n",
      "[('ORG-OTHER-OTHER', 38), ('Y-S-S', 9), ('?-p-es', 6), 6, 0.15789473684210525]\n",
      "[('ORG-OTHER-OTHER', 38), ('H-S-S', 8), ('g-p-es', 6), 6, 0.15789473684210525]\n",
      "[('OTHER-OTHER-PER', 28), ('S-V_inf|A-H', 17), ('abl-nud-n', 5), 5, 0.17857142857142858]\n",
      "[('OTHER-OTHER-PER', 28), ('S-V_inf|A-H', 17), ('ad-nud-g', 4), 4, 0.14285714285714285]\n",
      "[('OTHER-OTHER-PER', 28), ('S-S-H', 5), ('g-n-n', 5), 5, 0.17857142857142858]\n",
      "[('LOC-OTHER-PER-PER', 26), ('H-S-H-H', 25), ('g-g-n-g', 18), 18, 0.6923076923076923]\n",
      "[('LOC-OTHER-PER-PER', 26), ('H-S-H-H', 25), ('g-n-n-n', 6), 6, 0.23076923076923075]\n",
      "[('ORG-OTHER-ORG', 25), ('S-S-S', 15), ('g-g-in', 15), 15, 0.6]\n",
      "[('ORG-OTHER-ORG', 25), ('Y-J-Y', 10), ('?-0-?', 10), 10, 0.4]\n",
      "[('OTHER-OTHER-LOC', 19), ('S-S-H', 6), ('g-n-in', 3), 3, 0.15789473684210525]\n",
      "[('OTHER-OTHER-LOC', 19), ('S-S-H', 6), ('es-n-adt', 2), 2, 0.10526315789473684]\n",
      "[('OTHER-OTHER-LOC', 19), ('S-V_inf|A-S', 4), ('ad-nud-g', 4), 4, 0.21052631578947367]\n",
      "[('OTHER-OTHER-LOC', 19), ('S-A-S', 3), ('in-in-in', 2), 2, 0.10526315789473684]\n",
      "[('OTHER-OTHER-LOC', 19), ('S-J-H', 2), ('n-0-in', 2), 2, 0.10526315789473684]\n",
      "[('OTHER-OTHER-LOC', 19), ('P-S-S', 2), ('g-p-g', 2), 2, 0.10526315789473684]\n",
      "[('OTHER-OTHER-LOC', 19), ('H-Y-H', 2), ('n-?-ill', 2), 2, 0.10526315789473684]\n",
      "[('ORG-OTHER-PER-PER', 19), ('H-S-H-H', 7), ('g-g-n-g', 5), 5, 0.2631578947368421]\n",
      "[('ORG-OTHER-PER-PER', 19), ('H-S-H-H', 7), ('n-g-n-n', 2), 2, 0.10526315789473684]\n",
      "[('ORG-OTHER-PER-PER', 19), ('S-S-H-H', 6), ('n-g-n-g', 2), 2, 0.10526315789473684]\n",
      "[('ORG-OTHER-PER-PER', 19), ('S-S-H-H', 6), ('g-g-n-g', 2), 2, 0.10526315789473684]\n",
      "[('ORG-OTHER-PER-PER', 19), ('Y-S-H-H', 5), ('?-g-n-g', 3), 3, 0.15789473684210525]\n",
      "[('ORG-OTHER-PER-PER', 19), ('Y-S-H-H', 5), ('g-g-n-n', 2), 2, 0.10526315789473684]\n",
      "[('OTHER-LOC', 18), ('A-H', 7), ('g-g', 7), 7, 0.3888888888888889]\n",
      "[('OTHER-LOC', 18), ('A-S', 4), ('g-g', 4), 4, 0.2222222222222222]\n",
      "[('OTHER-LOC', 18), ('S-H', 3), ('g-g', 3), 3, 0.16666666666666666]\n",
      "[('OTHER-LOC', 18), ('P-H', 3), ('g-in', 3), 3, 0.16666666666666666]\n",
      "[('LOC-OTHER-LOC', 15), ('H-S-H', 13), ('g-adt-in', 12), 12, 0.8]\n",
      "[('ORG-ORG-ORG', 14), ('H-H-H', 7), ('n-ill-n', 4), 4, 0.2857142857142857]\n",
      "[('ORG-ORG-ORG', 14), ('H-H-Y', 3), ('n-n-?', 3), 3, 0.21428571428571427]\n",
      "[('ORG-ORG-ORG', 14), ('Y-H-S', 2), ('?-g-n', 2), 2, 0.14285714285714285]\n",
      "[('ORG-ORG-ORG', 14), ('H-J-H', 2), ('n-0-n', 2), 2, 0.14285714285714285]\n",
      "[('OTHER-OTHER-ORG', 13), ('S-S-Y', 4), ('g-el-in', 4), 4, 0.3076923076923077]\n",
      "[('OTHER-OTHER-ORG', 13), ('S-S-S', 2), ('g-p-g', 2), 2, 0.15384615384615385]\n",
      "[('OTHER-OTHER-ORG', 13), ('S-S-H', 2), ('g-n-n', 2), 2, 0.15384615384615385]\n",
      "[('OTHER-OTHER-ORG', 13), ('S-A-Y', 2), ('ad-g-g', 2), 2, 0.15384615384615385]\n",
      "[('PER-PER-OTHER', 11), ('H-H-Y', 5), ('n-n-?', 5), 5, 0.45454545454545453]\n",
      "[('PER-PER-OTHER', 11), ('H-S-S', 3), ('n-g-n', 3), 3, 0.2727272727272727]\n",
      "[('OTHER-PER-PER', 11), ('H-H-H', 8), ('n-n-g', 7), 7, 0.6363636363636364]\n",
      "[('OTHER-PER-PER', 11), ('H-H-Y', 3), ('n-n-?', 3), 3, 0.2727272727272727]\n",
      "[('PER-PER-PER', 9), ('H-H-H', 8), ('n-n-n', 4), 4, 0.4444444444444444]\n",
      "[('PER-PER-PER', 9), ('H-H-H', 8), ('n-n-g', 3), 3, 0.3333333333333333]\n",
      "[('PER-PER-PER', 9), ('H-H-H', 8), ('g-n-n', 1), 1, 0.1111111111111111]\n",
      "[('PER-PER-PER', 9), ('Y-Z-H', 1), ('?-0-n', 1), 1, 0.1111111111111111]\n",
      "[('PER-OTHER-OTHER', 9), ('H-S-S', 4), ('g-p-in', 1), 1, 0.1111111111111111]\n",
      "[('PER-OTHER-OTHER', 9), ('H-S-S', 4), ('g-n-in', 1), 1, 0.1111111111111111]\n",
      "[('PER-OTHER-OTHER', 9), ('H-S-S', 4), ('g-n-ad', 1), 1, 0.1111111111111111]\n",
      "[('PER-OTHER-OTHER', 9), ('H-S-S', 4), ('g-ad-all', 1), 1, 0.1111111111111111]\n",
      "[('PER-OTHER-OTHER', 9), ('H-H-H', 2), ('n-n-n', 1), 1, 0.1111111111111111]\n",
      "[('PER-OTHER-OTHER', 9), ('H-H-H', 2), ('n-?-n', 1), 1, 0.1111111111111111]\n",
      "[('PER-OTHER-OTHER', 9), ('H-V_inf|A-S', 1), ('el-tud-n', 1), 1, 0.1111111111111111]\n",
      "[('PER-OTHER-OTHER', 9), ('H-V_inf|A-H', 1), ('g-nud-n', 1), 1, 0.1111111111111111]\n",
      "[('PER-OTHER-OTHER', 9), ('H-A|V_inf-S', 1), ('g-0-n', 1), 1, 0.1111111111111111]\n",
      "[('PER-PER', 7), ('H-H', 5), ('n-n', 4), 4, 0.5714285714285715]\n",
      "[('PER-PER', 7), ('H-H', 5), ('g-g', 1), 1, 0.14285714285714288]\n",
      "[('PER-PER', 7), ('S-H', 2), ('g-n', 2), 2, 0.2857142857142857]\n",
      "[('LOC-ORG', 6), ('H-H', 4), ('g-g', 4), 4, 0.6666666666666666]\n",
      "[('LOC-ORG', 6), ('H-Y', 2), ('g-?', 2), 2, 0.3333333333333333]\n",
      "[('LOC-LOC-OTHER', 5), ('H-S-S', 2), ('g-in-in', 1), 1, 0.2]\n",
      "[('LOC-LOC-OTHER', 5), ('H-S-S', 2), ('g-g-tr', 1), 1, 0.2]\n",
      "[('LOC-LOC-OTHER', 5), ('H-H-S', 2), ('g-adt-g', 2), 2, 0.4]\n",
      "[('LOC-LOC-OTHER', 5), ('H-S-H', 1), ('g-in-in', 1), 1, 0.2]\n",
      "[('OTHER-OTHER-ORG-OTHER', 3), ('S-S-H-N', 3), ('kom-adt-g-?', 3), 3, 1.0]\n",
      "[('OTHER-OTHER-ORG-ORG', 3), ('S-S-Y-H', 1), ('g-g-?-g', 1), 1, 0.3333333333333333]\n",
      "[('OTHER-OTHER-ORG-ORG', 3), ('S-S-H-Y', 1), ('g-kom-g-?', 1), 1, 0.3333333333333333]\n",
      "[('OTHER-OTHER-ORG-ORG', 3), ('H-S-H-H', 1), ('g-g-n-n', 1), 1, 0.3333333333333333]\n",
      "[('ORG-OTHER-ORG-OTHER', 3), ('S-S-H-N', 3), ('g-adt-g-?', 3), 3, 1.0]\n",
      "[('PER-PER-ORG', 2), ('H-H-Y', 2), ('n-n-?', 2), 2, 1.0]\n",
      "[('PER-OTHER-OTHER-OTHER', 2), ('H-S-H-H', 2), ('n-n-n-n', 1), 1, 0.5]\n",
      "[('PER-OTHER-OTHER-OTHER', 2), ('H-S-H-H', 2), ('g-n-g-n', 1), 1, 0.5]\n",
      "[('OTHER-PER', 2), ('P-H', 1), ('g-n', 1), 1, 0.5]\n",
      "[('OTHER-PER', 2), ('A-H', 1), ('n-n', 1), 1, 0.5]\n",
      "[('OTHER-ORG-ORG', 2), ('S-H-H', 1), ('n-n-n', 1), 1, 0.5]\n",
      "[('OTHER-ORG-ORG', 2), ('H-Y-H', 1), ('n-?-n', 1), 1, 0.5]\n",
      "[('ORG-ORG-OTHER', 2), ('Y-H-S', 1), ('?-n-g', 1), 1, 0.5]\n",
      "[('ORG-ORG-OTHER', 2), ('H-H-S', 1), ('g-n-ad', 1), 1, 0.5]\n",
      "[('LOC-OTHER-ORG-ORG', 2), ('Y-S-H-H', 1), ('?-g-n-n', 1), 1, 0.5]\n",
      "[('LOC-OTHER-ORG-ORG', 2), ('H-S-H-Y', 1), ('g-n-n-?', 1), 1, 0.5]\n",
      "[('OTHER-OTHER-PER-OTHER', 1), ('H-S-H-H', 1), ('g-n-n-n', 1), 1, 1.0]\n",
      "[('OTHER-ORG-OTHER', 1), ('S-Y-S', 1), ('g-?-ad', 1), 1, 1.0]\n",
      "[('OTHER-LOC-OTHER', 1), ('H-H-Y', 1), ('n-in-?', 1), 1, 1.0]\n",
      "[('OTHER-LOC-ORG', 1), ('H-H-Y', 1), ('n-in-?', 1), 1, 1.0]\n",
      "[('LOC-PER', 1), ('H-H', 1), ('g-g', 1), 1, 1.0]\n",
      "[('LOC-OTHER-LOC-OTHER', 1), ('H-S-H-H', 1), ('g-el-el-ill', 1), 1, 1.0]\n",
      "[('LOC-LOC-LOC', 1), ('H-H-H', 1), ('?-?-g', 1), 1, 1.0]\n"
     ]
    }
   ],
   "source": [
    "con = sqlite3.connect('correct_noun_phrases.db')\n",
    "\n",
    "patterns = []\n",
    "patterns_ner = get_patterns_ner_no_tree(con)\n",
    "for pattern_ner in patterns_ner:\n",
    "    patterns_pos = get_patterns_pos_no_tree(con, pattern_ner[0])\n",
    "    for pattern_pos in patterns_pos:\n",
    "        percent1 = get_percent(pattern_pos[1], patterns_pos)\n",
    "        if percent1 >= 0.1:\n",
    "            patterns_form = get_patterns_form_no_tree(con, pattern_ner[0], pattern_pos[0])\n",
    "            for pattern_form in patterns_form:\n",
    "                percent2 = percent1 * get_percent(pattern_form[1], patterns_form)\n",
    "                if percent2 >= 0.1:\n",
    "                    patterns.append([pattern_ner, pattern_pos, pattern_form, pattern_form[1], percent2])\n",
    "\n",
    "for pattern in patterns:\n",
    "    print(pattern)"
   ]
  },
  {
   "cell_type": "code",
   "execution_count": 81,
   "id": "8d98a56e",
   "metadata": {},
   "outputs": [
    {
     "data": {
      "text/plain": [
       "107"
      ]
     },
     "execution_count": 81,
     "metadata": {},
     "output_type": "execute_result"
    }
   ],
   "source": [
    "len(patterns)"
   ]
  },
  {
   "cell_type": "code",
   "execution_count": 82,
   "id": "c30eb4ec",
   "metadata": {},
   "outputs": [],
   "source": [
    "# NB! Mustri recall baseerub POS-kombinatsiooni esinemissagedusel NER-mustri sees, mitte NER esinemissagedusel\n",
    "with open('indicator_correct_patterns2.csv', 'w', newline='', encoding='UTF-8') as csv_file:\n",
    "    writer = csv.DictWriter(csv_file, fieldnames=['NER_pattern', 'pattern', 'pattern_count', 'recall'])\n",
    "    writer.writeheader()\n",
    "    for pattern in patterns:\n",
    "        writer.writerow({'NER_pattern': pattern[0][0], 'pattern': ','.join([pattern[1][0], pattern[2][0]]), 'pattern_count': pattern[3], 'recall': round(pattern[4], 2)})"
   ]
  },
  {
   "cell_type": "code",
   "execution_count": null,
   "id": "8bbee453",
   "metadata": {},
   "outputs": [],
   "source": []
  }
 ],
 "metadata": {
  "kernelspec": {
   "display_name": "Python 3 (ipykernel)",
   "language": "python",
   "name": "python3"
  },
  "language_info": {
   "codemirror_mode": {
    "name": "ipython",
    "version": 3
   },
   "file_extension": ".py",
   "mimetype": "text/x-python",
   "name": "python",
   "nbconvert_exporter": "python",
   "pygments_lexer": "ipython3",
   "version": "3.10.11"
  }
 },
 "nbformat": 4,
 "nbformat_minor": 5
}
