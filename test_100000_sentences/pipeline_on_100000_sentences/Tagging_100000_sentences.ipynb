{
 "cells": [
  {
   "cell_type": "code",
   "execution_count": 1,
   "id": "a129d8b8",
   "metadata": {},
   "outputs": [],
   "source": [
    "import sys\n",
    "sys.path.append('../../')"
   ]
  },
  {
   "cell_type": "code",
   "execution_count": 23,
   "id": "e49f6865",
   "metadata": {},
   "outputs": [],
   "source": [
    "import pandas as pd\n",
    "import csv\n",
    "from estnltk import Text\n",
    "import time\n",
    "import sqlite3\n",
    "from estnltk.converters import text_to_json\n",
    "\n",
    "from estnltk_neural.taggers import StanzaSyntaxTagger\n",
    "from estnltk.taggers import NerTagger\n",
    "\n",
    "from pattern_taggers.PhrasePatternTagger import PhrasePatternTagger\n",
    "from pattern_taggers.PhrasePatternTagger2 import PhrasePatternTagger2\n",
    "from pattern_taggers.PhrasePatternConsistencyTagger import PhrasePatternConsistencyTagger"
   ]
  },
  {
   "cell_type": "markdown",
   "id": "85d554c8",
   "metadata": {},
   "source": [
    "### Reading data"
   ]
  },
  {
   "cell_type": "code",
   "execution_count": 4,
   "id": "9bbe6eb5",
   "metadata": {},
   "outputs": [],
   "source": [
    "rows = []\n",
    "with open('data/100000_random_sentences.csv', encoding='UTF-8') as csv_file:\n",
    "    rows = []\n",
    "    reader = csv.DictReader(csv_file)\n",
    "    for row in reader:\n",
    "        rows.append(row)"
   ]
  },
  {
   "cell_type": "code",
   "execution_count": 5,
   "id": "3f31862a",
   "metadata": {},
   "outputs": [],
   "source": [
    "df = pd.DataFrame(rows)"
   ]
  },
  {
   "cell_type": "code",
   "execution_count": 6,
   "id": "972ef095",
   "metadata": {},
   "outputs": [
    {
     "data": {
      "text/html": [
       "<div>\n",
       "<style scoped>\n",
       "    .dataframe tbody tr th:only-of-type {\n",
       "        vertical-align: middle;\n",
       "    }\n",
       "\n",
       "    .dataframe tbody tr th {\n",
       "        vertical-align: top;\n",
       "    }\n",
       "\n",
       "    .dataframe thead th {\n",
       "        text-align: right;\n",
       "    }\n",
       "</style>\n",
       "<table border=\"1\" class=\"dataframe\">\n",
       "  <thead>\n",
       "    <tr style=\"text-align: right;\">\n",
       "      <th></th>\n",
       "      <th>sentence_id</th>\n",
       "      <th>document_id</th>\n",
       "      <th>sentence_start</th>\n",
       "      <th>sentence_end</th>\n",
       "      <th>subcorpus</th>\n",
       "      <th>text</th>\n",
       "    </tr>\n",
       "  </thead>\n",
       "  <tbody>\n",
       "    <tr>\n",
       "      <th>0</th>\n",
       "      <td>135</td>\n",
       "      <td>1</td>\n",
       "      <td>820</td>\n",
       "      <td>905</td>\n",
       "      <td>aja_kr</td>\n",
       "      <td>Järgmise aasta jooksul nägime teineteist kuskil ehk paar korda - mingitel üritustel .</td>\n",
       "    </tr>\n",
       "    <tr>\n",
       "      <th>1</th>\n",
       "      <td>312</td>\n",
       "      <td>2</td>\n",
       "      <td>4807</td>\n",
       "      <td>4858</td>\n",
       "      <td>aja_kr</td>\n",
       "      <td>Aivar Mäed võiks väga hästi ka Mesikäpaks kutsuda .</td>\n",
       "    </tr>\n",
       "    <tr>\n",
       "      <th>2</th>\n",
       "      <td>621</td>\n",
       "      <td>9</td>\n",
       "      <td>7153</td>\n",
       "      <td>7242</td>\n",
       "      <td>aja_kr</td>\n",
       "      <td>Tiina Mõis on aga sõnanud , et lapsed teavad , et haridus on tähtsam kui suur taskuraha .</td>\n",
       "    </tr>\n",
       "    <tr>\n",
       "      <th>3</th>\n",
       "      <td>784</td>\n",
       "      <td>11</td>\n",
       "      <td>4721</td>\n",
       "      <td>4761</td>\n",
       "      <td>aja_kr</td>\n",
       "      <td>Ega selleks pole oma tüdrukut tarvis ! ”</td>\n",
       "    </tr>\n",
       "    <tr>\n",
       "      <th>4</th>\n",
       "      <td>839</td>\n",
       "      <td>12</td>\n",
       "      <td>1871</td>\n",
       "      <td>1973</td>\n",
       "      <td>aja_kr</td>\n",
       "      <td>“ Me ikka ei teadvusta endale , kui õige on ütlemine , et igaüks on oma õnne sepp , ” rõhutab Kersti .</td>\n",
       "    </tr>\n",
       "    <tr>\n",
       "      <th>...</th>\n",
       "      <td>...</td>\n",
       "      <td>...</td>\n",
       "      <td>...</td>\n",
       "      <td>...</td>\n",
       "      <td>...</td>\n",
       "      <td>...</td>\n",
       "    </tr>\n",
       "    <tr>\n",
       "      <th>99995</th>\n",
       "      <td>21212466</td>\n",
       "      <td>705319</td>\n",
       "      <td>200739</td>\n",
       "      <td>200759</td>\n",
       "      <td>jututoavestlus</td>\n",
       "      <td>gariby: ma ka ei tea</td>\n",
       "    </tr>\n",
       "    <tr>\n",
       "      <th>99996</th>\n",
       "      <td>21212538</td>\n",
       "      <td>705319</td>\n",
       "      <td>202890</td>\n",
       "      <td>202905</td>\n",
       "      <td>jututoavestlus</td>\n",
       "      <td>Shad: irw citty</td>\n",
       "    </tr>\n",
       "    <tr>\n",
       "      <th>99997</th>\n",
       "      <td>21212577</td>\n",
       "      <td>705319</td>\n",
       "      <td>203928</td>\n",
       "      <td>203976</td>\n",
       "      <td>jututoavestlus</td>\n",
       "      <td>nuux: 'a nagu käisin rootsis iga päev panin pidu</td>\n",
       "    </tr>\n",
       "    <tr>\n",
       "      <th>99998</th>\n",
       "      <td>21212644</td>\n",
       "      <td>705319</td>\n",
       "      <td>205639</td>\n",
       "      <td>205651</td>\n",
       "      <td>jututoavestlus</td>\n",
       "      <td>citty: on on</td>\n",
       "    </tr>\n",
       "    <tr>\n",
       "      <th>99999</th>\n",
       "      <td>21213011</td>\n",
       "      <td>705319</td>\n",
       "      <td>216520</td>\n",
       "      <td>216530</td>\n",
       "      <td>jututoavestlus</td>\n",
       "      <td>giza: ohoo</td>\n",
       "    </tr>\n",
       "  </tbody>\n",
       "</table>\n",
       "<p>100000 rows × 6 columns</p>\n",
       "</div>"
      ],
      "text/plain": [
       "      sentence_id document_id sentence_start sentence_end       subcorpus  \\\n",
       "0             135           1            820          905          aja_kr   \n",
       "1             312           2           4807         4858          aja_kr   \n",
       "2             621           9           7153         7242          aja_kr   \n",
       "3             784          11           4721         4761          aja_kr   \n",
       "4             839          12           1871         1973          aja_kr   \n",
       "...           ...         ...            ...          ...             ...   \n",
       "99995    21212466      705319         200739       200759  jututoavestlus   \n",
       "99996    21212538      705319         202890       202905  jututoavestlus   \n",
       "99997    21212577      705319         203928       203976  jututoavestlus   \n",
       "99998    21212644      705319         205639       205651  jututoavestlus   \n",
       "99999    21213011      705319         216520       216530  jututoavestlus   \n",
       "\n",
       "                                                                                                         text  \n",
       "0                       Järgmise aasta jooksul nägime teineteist kuskil ehk paar korda - mingitel üritustel .  \n",
       "1                                                         Aivar Mäed võiks väga hästi ka Mesikäpaks kutsuda .  \n",
       "2                   Tiina Mõis on aga sõnanud , et lapsed teavad , et haridus on tähtsam kui suur taskuraha .  \n",
       "3                                                                    Ega selleks pole oma tüdrukut tarvis ! ”  \n",
       "4      “ Me ikka ei teadvusta endale , kui õige on ütlemine , et igaüks on oma õnne sepp , ” rõhutab Kersti .  \n",
       "...                                                                                                       ...  \n",
       "99995                                                                                    gariby: ma ka ei tea  \n",
       "99996                                                                                         Shad: irw citty  \n",
       "99997                                                        nuux: 'a nagu käisin rootsis iga päev panin pidu  \n",
       "99998                                                                                            citty: on on  \n",
       "99999                                                                                              giza: ohoo  \n",
       "\n",
       "[100000 rows x 6 columns]"
      ]
     },
     "execution_count": 6,
     "metadata": {},
     "output_type": "execute_result"
    }
   ],
   "source": [
    "df"
   ]
  },
  {
   "cell_type": "markdown",
   "id": "d8a23ec4",
   "metadata": {},
   "source": [
    "### Initializing taggers"
   ]
  },
  {
   "cell_type": "code",
   "execution_count": 3,
   "id": "add69a32",
   "metadata": {},
   "outputs": [],
   "source": [
    "stanza_tagger = StanzaSyntaxTagger(input_type='morph_analysis', input_morph_layer='morph_analysis',\n",
    "                                   add_parent_and_children=True)"
   ]
  },
  {
   "cell_type": "code",
   "execution_count": 4,
   "id": "94b1d282",
   "metadata": {},
   "outputs": [],
   "source": [
    "ner_tagger = NerTagger()"
   ]
  },
  {
   "cell_type": "code",
   "execution_count": 7,
   "id": "81720450",
   "metadata": {},
   "outputs": [
    {
     "data": {
      "text/html": [
       "<h4>Tagger</h4>\n",
       "Tags phrases that match given syntax, part-of-speech and ner pattern rules, and their corresponding patterns.\n",
       "<table border=\"1\" class=\"dataframe\">\n",
       "  <thead>\n",
       "    <tr style=\"text-align: right;\">\n",
       "      <th>name</th>\n",
       "      <th>output layer</th>\n",
       "      <th>output attributes</th>\n",
       "      <th>input layers</th>\n",
       "    </tr>\n",
       "  </thead>\n",
       "  <tbody>\n",
       "    <tr>\n",
       "      <td>PhrasePatternTagger</td>\n",
       "      <td>phrase_patterns</td>\n",
       "      <td>('extraction_pattern', 'ner_pattern', 'pattern_id', 'score', 'phrase_pattern_id', 'phrase_class')</td>\n",
       "      <td>('morph_analysis', 'words', 'stanza_syntax', 'ner')</td>\n",
       "    </tr>\n",
       "  </tbody>\n",
       "</table>\n",
       "<h4>Configuration</h4>\n",
       "<table border=\"1\" class=\"dataframe\">\n",
       "  <tbody>\n",
       "    <tr>\n",
       "      <th>rules_file</th>\n",
       "      <td>data/indicator_patterns_ner_tree_pos_updated.csv</td>\n",
       "    </tr>\n",
       "    <tr>\n",
       "      <th>ruleset_map</th>\n",
       "      <td>defaultdict(&lt;class 'list'&gt;, {'': [['int64', 'string', 'string']], '1 2 nmod,2 0  ..., type: &lt;class 'collections.defaultdict'&gt;, length: 7</td>\n",
       "    </tr>\n",
       "  </tbody>\n",
       "</table>"
      ],
      "text/plain": [
       "PhrasePatternTagger(input_layers=('morph_analysis', 'words', 'stanza_syntax', 'ner'), output_layer=phrase_patterns, output_attributes=('extraction_pattern', 'ner_pattern', 'pattern_id', 'score', 'phrase_pattern_id', 'phrase_class'), rules_file=data/indicator_patterns_ner_tree_pos_updated.csv, ruleset_map=defaultdict(<class 'list'>, {'': [['int64', 'string', 'string']], '1 2 nmod,2 0  ..., type: <class 'collections.defaultdict'>, length: 7)"
      ]
     },
     "execution_count": 7,
     "metadata": {},
     "output_type": "execute_result"
    }
   ],
   "source": [
    "# tags phrases that match syntax tree, POS and ner patterns in rules file\n",
    "pattern_tagger = PhrasePatternTagger(rules_file='data/indicator_patterns_ner_tree_pos_updated.csv')\n",
    "pattern_tagger"
   ]
  },
  {
   "cell_type": "code",
   "execution_count": 6,
   "id": "7c171fc1",
   "metadata": {},
   "outputs": [
    {
     "data": {
      "text/html": [
       "<h4>Tagger</h4>\n",
       "Tags phrases that match given syntax and part-of-speech pattern rules, and their corresponding patterns.\n",
       "<table border=\"1\" class=\"dataframe\">\n",
       "  <thead>\n",
       "    <tr style=\"text-align: right;\">\n",
       "      <th>name</th>\n",
       "      <th>output layer</th>\n",
       "      <th>output attributes</th>\n",
       "      <th>input layers</th>\n",
       "    </tr>\n",
       "  </thead>\n",
       "  <tbody>\n",
       "    <tr>\n",
       "      <td>PhrasePatternTagger2</td>\n",
       "      <td>phrase_patterns2</td>\n",
       "      <td>('extraction_pattern', 'ner_pattern', 'pattern_id', 'score', 'phrase_pattern_id', 'phrase_class')</td>\n",
       "      <td>('morph_analysis', 'words', 'stanza_syntax', 'ner')</td>\n",
       "    </tr>\n",
       "  </tbody>\n",
       "</table>\n",
       "<h4>Configuration</h4>\n",
       "<table border=\"1\" class=\"dataframe\">\n",
       "  <tbody>\n",
       "    <tr>\n",
       "      <th>rules_file</th>\n",
       "      <td>data/indicator_patterns_ner_tree_pos_updated.csv</td>\n",
       "    </tr>\n",
       "    <tr>\n",
       "      <th>ruleset_map</th>\n",
       "      <td>defaultdict(&lt;class 'list'&gt;, {'': [['int64', 'string']], '1 2 nmod,2 0 *': [['1', ..., type: &lt;class 'collections.defaultdict'&gt;, length: 7</td>\n",
       "    </tr>\n",
       "  </tbody>\n",
       "</table>"
      ],
      "text/plain": [
       "PhrasePatternTagger2(input_layers=('morph_analysis', 'words', 'stanza_syntax', 'ner'), output_layer=phrase_patterns2, output_attributes=('extraction_pattern', 'ner_pattern', 'pattern_id', 'score', 'phrase_pattern_id', 'phrase_class'), rules_file=data/indicator_patterns_ner_tree_pos_updated.csv, ruleset_map=defaultdict(<class 'list'>, {'': [['int64', 'string']], '1 2 nmod,2 0 *': [['1', ..., type: <class 'collections.defaultdict'>, length: 7)"
      ]
     },
     "execution_count": 6,
     "metadata": {},
     "output_type": "execute_result"
    }
   ],
   "source": [
    "# tags phrases that match syntax tree and POS patterns in rules file, does not check ner pattern match\n",
    "pattern_tagger2 = PhrasePatternTagger2(rules_file='data/indicator_patterns_ner_tree_pos_updated.csv')\n",
    "pattern_tagger2"
   ]
  },
  {
   "cell_type": "code",
   "execution_count": 7,
   "id": "f572361d",
   "metadata": {},
   "outputs": [
    {
     "data": {
      "text/html": [
       "<h4>Tagger</h4>\n",
       "Tags phrase words that are syntactically wrong or have wrong part-of-speech.\n",
       "<table border=\"1\" class=\"dataframe\">\n",
       "  <thead>\n",
       "    <tr style=\"text-align: right;\">\n",
       "      <th>name</th>\n",
       "      <th>output layer</th>\n",
       "      <th>output attributes</th>\n",
       "      <th>input layers</th>\n",
       "    </tr>\n",
       "  </thead>\n",
       "  <tbody>\n",
       "    <tr>\n",
       "      <td>PhrasePatternConsistencyTagger</td>\n",
       "      <td>pattern_consistency</td>\n",
       "      <td>('syntax', 'pos', 'ner', 'is_correct', 'error_source', 'error_mask', 'correction')</td>\n",
       "      <td>('morph_analysis', 'words', 'stanza_syntax', 'ner')</td>\n",
       "    </tr>\n",
       "  </tbody>\n",
       "</table>\n",
       "<h4>Configuration</h4>\n",
       "<table border=\"1\" class=\"dataframe\">\n",
       "  <tbody>\n",
       "    <tr>\n",
       "      <th>rules_file</th>\n",
       "      <td>data/indicator_patterns_ner_tree_pos_updated.csv</td>\n",
       "    </tr>\n",
       "    <tr>\n",
       "      <th>ruleset_map</th>\n",
       "      <td>defaultdict(&lt;class 'list'&gt;, {'': [['string', 'string', 'string', 'string', 'stri ..., type: &lt;class 'collections.defaultdict'&gt;, length: 7</td>\n",
       "    </tr>\n",
       "  </tbody>\n",
       "</table>"
      ],
      "text/plain": [
       "PhrasePatternConsistencyTagger(input_layers=('morph_analysis', 'words', 'stanza_syntax', 'ner'), output_layer=pattern_consistency, output_attributes=('syntax', 'pos', 'ner', 'is_correct', 'error_source', 'error_mask', 'correction'), rules_file=data/indicator_patterns_ner_tree_pos_updated.csv, ruleset_map=defaultdict(<class 'list'>, {'': [['string', 'string', 'string', 'string', 'stri ..., type: <class 'collections.defaultdict'>, length: 7)"
      ]
     },
     "execution_count": 7,
     "metadata": {},
     "output_type": "execute_result"
    }
   ],
   "source": [
    "# tags phrases according to rules file, adds info about mistakes, mistake locations and mistake types\n",
    "consistency_tagger = PhrasePatternConsistencyTagger(rules_file='data/indicator_patterns_ner_tree_pos_updated.csv')\n",
    "consistency_tagger"
   ]
  },
  {
   "cell_type": "markdown",
   "id": "a85174ea",
   "metadata": {},
   "source": [
    "### Tagging 100000 random sentences"
   ]
  },
  {
   "cell_type": "code",
   "execution_count": 15,
   "id": "6eeb413d",
   "metadata": {},
   "outputs": [
    {
     "name": "stdout",
     "output_type": "stream",
     "text": [
      "Creating Text-objects and tagging morph_analysis layer on 100000 sentences took 689.030485868454 seconds.\n"
     ]
    }
   ],
   "source": [
    "text_objs = []\n",
    "\n",
    "start = time.time()\n",
    "\n",
    "for idx, row in df.iterrows():\n",
    "    text = Text(row['text']).tag_layer('morph_analysis')\n",
    "    text_objs.append(text)\n",
    "\n",
    "print(f'Creating Text-objects and tagging morph_analysis layer on {len(text_objs)} sentences took {time.time()-start} seconds.')\n",
    "df['tagged_text'] = text_objs"
   ]
  },
  {
   "cell_type": "code",
   "execution_count": 16,
   "id": "94bf6d88",
   "metadata": {},
   "outputs": [],
   "source": [
    "df.to_pickle(f\"./data/100000_sentences_morph_analysis.pkl\")"
   ]
  },
  {
   "cell_type": "code",
   "execution_count": 18,
   "id": "5694380f",
   "metadata": {},
   "outputs": [
    {
     "name": "stdout",
     "output_type": "stream",
     "text": [
      "Tagging NER layer on 100000 sentences took 5658.154953241348 seconds.\n"
     ]
    }
   ],
   "source": [
    "start = time.time()\n",
    "\n",
    "for idx, row in df.iterrows():\n",
    "    ner_tagger.tag(row['tagged_text'])\n",
    "\n",
    "print(f'Tagging NER layer on {len(text_objs)} sentences took {time.time()-start} seconds.')"
   ]
  },
  {
   "cell_type": "code",
   "execution_count": 19,
   "id": "c0f4ffb5",
   "metadata": {},
   "outputs": [],
   "source": [
    "df.to_pickle(f\"./data/100000_sentences_ner.pkl\")"
   ]
  },
  {
   "cell_type": "code",
   "execution_count": 23,
   "id": "9a435174",
   "metadata": {},
   "outputs": [
    {
     "name": "stdout",
     "output_type": "stream",
     "text": [
      "Tagging stanza syntax layer on 100000 sentences took 5070.641754388809 seconds.\n"
     ]
    }
   ],
   "source": [
    "start = time.time()\n",
    "\n",
    "for idx, row in df.iterrows():\n",
    "    stanza_tagger.tag(row['tagged_text'])\n",
    "\n",
    "print(f'Tagging stanza syntax layer on {len(df)} sentences took {time.time()-start} seconds.')"
   ]
  },
  {
   "cell_type": "code",
   "execution_count": 24,
   "id": "baf8168f",
   "metadata": {},
   "outputs": [],
   "source": [
    "df.to_pickle(f\"./data/100000_sentences_stanza.pkl\")"
   ]
  },
  {
   "cell_type": "code",
   "execution_count": 16,
   "id": "eaf6ce43",
   "metadata": {},
   "outputs": [
    {
     "name": "stdout",
     "output_type": "stream",
     "text": [
      "Tagging phrase pattern layer on 100000 sentences took 5831.112302303314 seconds.\n"
     ]
    }
   ],
   "source": [
    "start = time.time()\n",
    "\n",
    "for idx, row in df.iterrows():\n",
    "    pattern_tagger.tag(row['tagged_text'])\n",
    "\n",
    "print(f'Tagging phrase pattern layer on {len(df)} sentences took {time.time()-start} seconds.')"
   ]
  },
  {
   "cell_type": "code",
   "execution_count": 17,
   "id": "0c5a97c2",
   "metadata": {},
   "outputs": [],
   "source": [
    "df.to_pickle(f\"./data/100000_sentences_pattern.pkl\")"
   ]
  },
  {
   "cell_type": "code",
   "execution_count": 8,
   "id": "8ce0a842",
   "metadata": {},
   "outputs": [
    {
     "name": "stdout",
     "output_type": "stream",
     "text": [
      "Tagging phrase pattern layer (2) on 100000 sentences took 6025.065106868744 seconds.\n"
     ]
    }
   ],
   "source": [
    "start = time.time()\n",
    "\n",
    "for idx, row in df.iterrows():\n",
    "    pattern_tagger2.tag(row['tagged_text'])\n",
    "\n",
    "print(f'Tagging phrase pattern layer (2) on {len(df)} sentences took {time.time()-start} seconds.')"
   ]
  },
  {
   "cell_type": "code",
   "execution_count": 9,
   "id": "f8012413",
   "metadata": {},
   "outputs": [],
   "source": [
    "df.to_pickle(f\"./data/100000_sentences_pattern2.pkl\")"
   ]
  },
  {
   "cell_type": "code",
   "execution_count": 20,
   "id": "a40b6b47",
   "metadata": {},
   "outputs": [
    {
     "name": "stdout",
     "output_type": "stream",
     "text": [
      "Tagging phrase pattern consistency layer on 100000 sentences took 5818.178214073181 seconds.\n"
     ]
    }
   ],
   "source": [
    "start = time.time()\n",
    "\n",
    "for idx, row in df.iterrows():\n",
    "    consistency_tagger.tag(row['tagged_text'])\n",
    "\n",
    "print(f'Tagging phrase pattern consistency layer on {len(df)} sentences took {time.time()-start} seconds.')"
   ]
  },
  {
   "cell_type": "code",
   "execution_count": 21,
   "id": "c8293bd4",
   "metadata": {},
   "outputs": [],
   "source": [
    "df.to_pickle(f\"./data/100000_sentences_consistency.pkl\")"
   ]
  },
  {
   "cell_type": "code",
   "execution_count": 31,
   "id": "86b8e69d",
   "metadata": {},
   "outputs": [
    {
     "data": {
      "text/html": [
       "<div>\n",
       "<style scoped>\n",
       "    .dataframe tbody tr th:only-of-type {\n",
       "        vertical-align: middle;\n",
       "    }\n",
       "\n",
       "    .dataframe tbody tr th {\n",
       "        vertical-align: top;\n",
       "    }\n",
       "\n",
       "    .dataframe thead th {\n",
       "        text-align: right;\n",
       "    }\n",
       "</style>\n",
       "<table border=\"1\" class=\"dataframe\">\n",
       "  <thead>\n",
       "    <tr style=\"text-align: right;\">\n",
       "      <th></th>\n",
       "      <th>sentence_id</th>\n",
       "      <th>document_id</th>\n",
       "      <th>sentence_start</th>\n",
       "      <th>sentence_end</th>\n",
       "      <th>subcorpus</th>\n",
       "      <th>text</th>\n",
       "      <th>tagged_text</th>\n",
       "    </tr>\n",
       "  </thead>\n",
       "  <tbody>\n",
       "    <tr>\n",
       "      <th>0</th>\n",
       "      <td>135</td>\n",
       "      <td>1</td>\n",
       "      <td>820</td>\n",
       "      <td>905</td>\n",
       "      <td>aja_kr</td>\n",
       "      <td>Järgmise aasta jooksul nägime teineteist kuskil ehk paar korda - mingitel üritustel .</td>\n",
       "      <td>Text(text='Järgmise aasta jooksul nägime teineteist kuskil ehk paar korda - mingitel üritustel .')</td>\n",
       "    </tr>\n",
       "    <tr>\n",
       "      <th>1</th>\n",
       "      <td>312</td>\n",
       "      <td>2</td>\n",
       "      <td>4807</td>\n",
       "      <td>4858</td>\n",
       "      <td>aja_kr</td>\n",
       "      <td>Aivar Mäed võiks väga hästi ka Mesikäpaks kutsuda .</td>\n",
       "      <td>Text(text='Aivar Mäed võiks väga hästi ka Mesikäpaks kutsuda .')</td>\n",
       "    </tr>\n",
       "    <tr>\n",
       "      <th>2</th>\n",
       "      <td>621</td>\n",
       "      <td>9</td>\n",
       "      <td>7153</td>\n",
       "      <td>7242</td>\n",
       "      <td>aja_kr</td>\n",
       "      <td>Tiina Mõis on aga sõnanud , et lapsed teavad , et haridus on tähtsam kui suur taskuraha .</td>\n",
       "      <td>Text(text='Tiina Mõis on aga sõnanud , et lapsed teavad , et haridus on tähtsam kui suur taskuraha .')</td>\n",
       "    </tr>\n",
       "    <tr>\n",
       "      <th>3</th>\n",
       "      <td>784</td>\n",
       "      <td>11</td>\n",
       "      <td>4721</td>\n",
       "      <td>4761</td>\n",
       "      <td>aja_kr</td>\n",
       "      <td>Ega selleks pole oma tüdrukut tarvis ! ”</td>\n",
       "      <td>Text(text='Ega selleks pole oma tüdrukut tarvis ! ”')</td>\n",
       "    </tr>\n",
       "    <tr>\n",
       "      <th>4</th>\n",
       "      <td>839</td>\n",
       "      <td>12</td>\n",
       "      <td>1871</td>\n",
       "      <td>1973</td>\n",
       "      <td>aja_kr</td>\n",
       "      <td>“ Me ikka ei teadvusta endale , kui õige on ütlemine , et igaüks on oma õnne sepp , ” rõhutab Kersti .</td>\n",
       "      <td>Text(text='“ Me ikka ei teadvusta endale , kui õige on ütlemine , et igaüks on oma õnne sepp , ” rõhutab Kersti .')</td>\n",
       "    </tr>\n",
       "    <tr>\n",
       "      <th>...</th>\n",
       "      <td>...</td>\n",
       "      <td>...</td>\n",
       "      <td>...</td>\n",
       "      <td>...</td>\n",
       "      <td>...</td>\n",
       "      <td>...</td>\n",
       "      <td>...</td>\n",
       "    </tr>\n",
       "    <tr>\n",
       "      <th>99995</th>\n",
       "      <td>21212466</td>\n",
       "      <td>705319</td>\n",
       "      <td>200739</td>\n",
       "      <td>200759</td>\n",
       "      <td>jututoavestlus</td>\n",
       "      <td>gariby: ma ka ei tea</td>\n",
       "      <td>Text(text='gariby: ma ka ei tea')</td>\n",
       "    </tr>\n",
       "    <tr>\n",
       "      <th>99996</th>\n",
       "      <td>21212538</td>\n",
       "      <td>705319</td>\n",
       "      <td>202890</td>\n",
       "      <td>202905</td>\n",
       "      <td>jututoavestlus</td>\n",
       "      <td>Shad: irw citty</td>\n",
       "      <td>Text(text='Shad: irw citty')</td>\n",
       "    </tr>\n",
       "    <tr>\n",
       "      <th>99997</th>\n",
       "      <td>21212577</td>\n",
       "      <td>705319</td>\n",
       "      <td>203928</td>\n",
       "      <td>203976</td>\n",
       "      <td>jututoavestlus</td>\n",
       "      <td>nuux: 'a nagu käisin rootsis iga päev panin pidu</td>\n",
       "      <td>Text(text=\"nuux: 'a nagu käisin rootsis iga päev panin pidu\")</td>\n",
       "    </tr>\n",
       "    <tr>\n",
       "      <th>99998</th>\n",
       "      <td>21212644</td>\n",
       "      <td>705319</td>\n",
       "      <td>205639</td>\n",
       "      <td>205651</td>\n",
       "      <td>jututoavestlus</td>\n",
       "      <td>citty: on on</td>\n",
       "      <td>Text(text='citty: on on')</td>\n",
       "    </tr>\n",
       "    <tr>\n",
       "      <th>99999</th>\n",
       "      <td>21213011</td>\n",
       "      <td>705319</td>\n",
       "      <td>216520</td>\n",
       "      <td>216530</td>\n",
       "      <td>jututoavestlus</td>\n",
       "      <td>giza: ohoo</td>\n",
       "      <td>Text(text='giza: ohoo')</td>\n",
       "    </tr>\n",
       "  </tbody>\n",
       "</table>\n",
       "<p>100000 rows × 7 columns</p>\n",
       "</div>"
      ],
      "text/plain": [
       "      sentence_id document_id sentence_start sentence_end       subcorpus  \\\n",
       "0             135           1            820          905          aja_kr   \n",
       "1             312           2           4807         4858          aja_kr   \n",
       "2             621           9           7153         7242          aja_kr   \n",
       "3             784          11           4721         4761          aja_kr   \n",
       "4             839          12           1871         1973          aja_kr   \n",
       "...           ...         ...            ...          ...             ...   \n",
       "99995    21212466      705319         200739       200759  jututoavestlus   \n",
       "99996    21212538      705319         202890       202905  jututoavestlus   \n",
       "99997    21212577      705319         203928       203976  jututoavestlus   \n",
       "99998    21212644      705319         205639       205651  jututoavestlus   \n",
       "99999    21213011      705319         216520       216530  jututoavestlus   \n",
       "\n",
       "                                                                                                         text  \\\n",
       "0                       Järgmise aasta jooksul nägime teineteist kuskil ehk paar korda - mingitel üritustel .   \n",
       "1                                                         Aivar Mäed võiks väga hästi ka Mesikäpaks kutsuda .   \n",
       "2                   Tiina Mõis on aga sõnanud , et lapsed teavad , et haridus on tähtsam kui suur taskuraha .   \n",
       "3                                                                    Ega selleks pole oma tüdrukut tarvis ! ”   \n",
       "4      “ Me ikka ei teadvusta endale , kui õige on ütlemine , et igaüks on oma õnne sepp , ” rõhutab Kersti .   \n",
       "...                                                                                                       ...   \n",
       "99995                                                                                    gariby: ma ka ei tea   \n",
       "99996                                                                                         Shad: irw citty   \n",
       "99997                                                        nuux: 'a nagu käisin rootsis iga päev panin pidu   \n",
       "99998                                                                                            citty: on on   \n",
       "99999                                                                                              giza: ohoo   \n",
       "\n",
       "                                                                                                               tagged_text  \n",
       "0                       Text(text='Järgmise aasta jooksul nägime teineteist kuskil ehk paar korda - mingitel üritustel .')  \n",
       "1                                                         Text(text='Aivar Mäed võiks väga hästi ka Mesikäpaks kutsuda .')  \n",
       "2                   Text(text='Tiina Mõis on aga sõnanud , et lapsed teavad , et haridus on tähtsam kui suur taskuraha .')  \n",
       "3                                                                    Text(text='Ega selleks pole oma tüdrukut tarvis ! ”')  \n",
       "4      Text(text='“ Me ikka ei teadvusta endale , kui õige on ütlemine , et igaüks on oma õnne sepp , ” rõhutab Kersti .')  \n",
       "...                                                                                                                    ...  \n",
       "99995                                                                                    Text(text='gariby: ma ka ei tea')  \n",
       "99996                                                                                         Text(text='Shad: irw citty')  \n",
       "99997                                                        Text(text=\"nuux: 'a nagu käisin rootsis iga päev panin pidu\")  \n",
       "99998                                                                                            Text(text='citty: on on')  \n",
       "99999                                                                                              Text(text='giza: ohoo')  \n",
       "\n",
       "[100000 rows x 7 columns]"
      ]
     },
     "execution_count": 31,
     "metadata": {},
     "output_type": "execute_result"
    }
   ],
   "source": [
    "df"
   ]
  },
  {
   "cell_type": "code",
   "execution_count": 28,
   "id": "adf0f39e",
   "metadata": {},
   "outputs": [
    {
     "data": {
      "text/html": [
       "<h4>Layer</h4>\n",
       "\n",
       "\n",
       "<table border=\"1\" class=\"dataframe\">\n",
       "  <thead>\n",
       "    <tr style=\"text-align: right;\">\n",
       "      <th>layer name</th>\n",
       "      <th>attributes</th>\n",
       "      <th>parent</th>\n",
       "      <th>enveloping</th>\n",
       "      <th>ambiguous</th>\n",
       "      <th>span count</th>\n",
       "    </tr>\n",
       "  </thead>\n",
       "  <tbody>\n",
       "    <tr>\n",
       "      <td>phrase_patterns</td>\n",
       "      <td>extraction_pattern, ner_pattern, pattern_id, score, phrase_pattern_id, phrase_class</td>\n",
       "      <td>None</td>\n",
       "      <td>words</td>\n",
       "      <td>True</td>\n",
       "      <td>1</td>\n",
       "    </tr>\n",
       "  </tbody>\n",
       "</table>\n",
       "<style type=\"text/css\">\n",
       "#T_ce1af_row0_col4, #T_ce1af_row0_col5, #T_ce1af_row0_col6 {\n",
       "  opacity: 20%;\n",
       "}\n",
       "</style>\n",
       "<table id=\"T_ce1af\">\n",
       "  <thead>\n",
       "    <tr>\n",
       "      <th id=\"T_ce1af_level0_col0\" class=\"col_heading level0 col0\" >text</th>\n",
       "      <th id=\"T_ce1af_level0_col1\" class=\"col_heading level0 col1\" >extraction_pattern</th>\n",
       "      <th id=\"T_ce1af_level0_col2\" class=\"col_heading level0 col2\" >ner_pattern</th>\n",
       "      <th id=\"T_ce1af_level0_col3\" class=\"col_heading level0 col3\" >pattern_id</th>\n",
       "      <th id=\"T_ce1af_level0_col4\" class=\"col_heading level0 col4\" >score</th>\n",
       "      <th id=\"T_ce1af_level0_col5\" class=\"col_heading level0 col5\" >phrase_pattern_id</th>\n",
       "      <th id=\"T_ce1af_level0_col6\" class=\"col_heading level0 col6\" >phrase_class</th>\n",
       "    </tr>\n",
       "  </thead>\n",
       "  <tbody>\n",
       "    <tr>\n",
       "      <td id=\"T_ce1af_row0_col0\" class=\"data row0 col0\" >['Järgmise', 'aasta']</td>\n",
       "      <td id=\"T_ce1af_row0_col1\" class=\"data row0 col1\" >1 2 amod,2 0 *,A-S</td>\n",
       "      <td id=\"T_ce1af_row0_col2\" class=\"data row0 col2\" >OTHER-OTHER</td>\n",
       "      <td id=\"T_ce1af_row0_col3\" class=\"data row0 col3\" >64</td>\n",
       "      <td id=\"T_ce1af_row0_col4\" class=\"data row0 col4\" >None</td>\n",
       "      <td id=\"T_ce1af_row0_col5\" class=\"data row0 col5\" >None</td>\n",
       "      <td id=\"T_ce1af_row0_col6\" class=\"data row0 col6\" >None</td>\n",
       "    </tr>\n",
       "  </tbody>\n",
       "</table>\n"
      ],
      "text/plain": [
       "Layer(name='phrase_patterns', attributes=('extraction_pattern', 'ner_pattern', 'pattern_id', 'score', 'phrase_pattern_id', 'phrase_class'), spans=SL[EnvelopingSpan(['Järgmise', 'aasta'], [{'extraction_pattern': '1 2 amod,2 0 *,A-S', 'ner_pattern': 'OTHER-OTHER', 'pattern_id': '64', 'score': None, 'phrase_pattern_id': None, 'phrase_class': None}])])"
      ]
     },
     "execution_count": 28,
     "metadata": {},
     "output_type": "execute_result"
    }
   ],
   "source": [
    "# layer of phrase patterns (with ner pattern check)\n",
    "df['tagged_text'][0].phrase_patterns"
   ]
  },
  {
   "cell_type": "code",
   "execution_count": 29,
   "id": "9ca6b410",
   "metadata": {},
   "outputs": [
    {
     "data": {
      "text/html": [
       "<h4>Layer</h4>\n",
       "\n",
       "\n",
       "<table border=\"1\" class=\"dataframe\">\n",
       "  <thead>\n",
       "    <tr style=\"text-align: right;\">\n",
       "      <th>layer name</th>\n",
       "      <th>attributes</th>\n",
       "      <th>parent</th>\n",
       "      <th>enveloping</th>\n",
       "      <th>ambiguous</th>\n",
       "      <th>span count</th>\n",
       "    </tr>\n",
       "  </thead>\n",
       "  <tbody>\n",
       "    <tr>\n",
       "      <td>phrase_patterns2</td>\n",
       "      <td>extraction_pattern, ner_pattern, pattern_id, score, phrase_pattern_id, phrase_class</td>\n",
       "      <td>None</td>\n",
       "      <td>words</td>\n",
       "      <td>True</td>\n",
       "      <td>1</td>\n",
       "    </tr>\n",
       "  </tbody>\n",
       "</table>\n",
       "<style type=\"text/css\">\n",
       "#T_0986d_row0_col4, #T_0986d_row0_col5, #T_0986d_row0_col6, #T_0986d_row1_col4, #T_0986d_row1_col5, #T_0986d_row1_col6, #T_0986d_row2_col4, #T_0986d_row2_col5, #T_0986d_row2_col6, #T_0986d_row3_col4, #T_0986d_row3_col5, #T_0986d_row3_col6 {\n",
       "  opacity: 20%;\n",
       "}\n",
       "</style>\n",
       "<table id=\"T_0986d\">\n",
       "  <thead>\n",
       "    <tr>\n",
       "      <th id=\"T_0986d_level0_col0\" class=\"col_heading level0 col0\" >text</th>\n",
       "      <th id=\"T_0986d_level0_col1\" class=\"col_heading level0 col1\" >extraction_pattern</th>\n",
       "      <th id=\"T_0986d_level0_col2\" class=\"col_heading level0 col2\" >ner_pattern</th>\n",
       "      <th id=\"T_0986d_level0_col3\" class=\"col_heading level0 col3\" >pattern_id</th>\n",
       "      <th id=\"T_0986d_level0_col4\" class=\"col_heading level0 col4\" >score</th>\n",
       "      <th id=\"T_0986d_level0_col5\" class=\"col_heading level0 col5\" >phrase_pattern_id</th>\n",
       "      <th id=\"T_0986d_level0_col6\" class=\"col_heading level0 col6\" >phrase_class</th>\n",
       "    </tr>\n",
       "  </thead>\n",
       "  <tbody>\n",
       "    <tr>\n",
       "      <td id=\"T_0986d_row0_col0\" class=\"data row0 col0\" >['Järgmise', 'aasta']</td>\n",
       "      <td id=\"T_0986d_row0_col1\" class=\"data row0 col1\" >1 2 amod,2 0 *,A-S</td>\n",
       "      <td id=\"T_0986d_row0_col2\" class=\"data row0 col2\" >OTHER-OTHER</td>\n",
       "      <td id=\"T_0986d_row0_col3\" class=\"data row0 col3\" >64</td>\n",
       "      <td id=\"T_0986d_row0_col4\" class=\"data row0 col4\" >None</td>\n",
       "      <td id=\"T_0986d_row0_col5\" class=\"data row0 col5\" >None</td>\n",
       "      <td id=\"T_0986d_row0_col6\" class=\"data row0 col6\" >None</td>\n",
       "    </tr>\n",
       "    <tr>\n",
       "      <td id=\"T_0986d_row1_col0\" class=\"data row1 col0\" ></td>\n",
       "      <td id=\"T_0986d_row1_col1\" class=\"data row1 col1\" >1 2 amod,2 0 *,A-S</td>\n",
       "      <td id=\"T_0986d_row1_col2\" class=\"data row1 col2\" >OTHER-OTHER</td>\n",
       "      <td id=\"T_0986d_row1_col3\" class=\"data row1 col3\" >65</td>\n",
       "      <td id=\"T_0986d_row1_col4\" class=\"data row1 col4\" >None</td>\n",
       "      <td id=\"T_0986d_row1_col5\" class=\"data row1 col5\" >None</td>\n",
       "      <td id=\"T_0986d_row1_col6\" class=\"data row1 col6\" >None</td>\n",
       "    </tr>\n",
       "    <tr>\n",
       "      <td id=\"T_0986d_row2_col0\" class=\"data row2 col0\" ></td>\n",
       "      <td id=\"T_0986d_row2_col1\" class=\"data row2 col1\" >1 2 amod,2 0 *,A-S</td>\n",
       "      <td id=\"T_0986d_row2_col2\" class=\"data row2 col2\" >OTHER-OTHER</td>\n",
       "      <td id=\"T_0986d_row2_col3\" class=\"data row2 col3\" >66</td>\n",
       "      <td id=\"T_0986d_row2_col4\" class=\"data row2 col4\" >None</td>\n",
       "      <td id=\"T_0986d_row2_col5\" class=\"data row2 col5\" >None</td>\n",
       "      <td id=\"T_0986d_row2_col6\" class=\"data row2 col6\" >None</td>\n",
       "    </tr>\n",
       "    <tr>\n",
       "      <td id=\"T_0986d_row3_col0\" class=\"data row3 col0\" ></td>\n",
       "      <td id=\"T_0986d_row3_col1\" class=\"data row3 col1\" >1 2 amod,2 0 *,A-S</td>\n",
       "      <td id=\"T_0986d_row3_col2\" class=\"data row3 col2\" >OTHER-OTHER</td>\n",
       "      <td id=\"T_0986d_row3_col3\" class=\"data row3 col3\" >67</td>\n",
       "      <td id=\"T_0986d_row3_col4\" class=\"data row3 col4\" >None</td>\n",
       "      <td id=\"T_0986d_row3_col5\" class=\"data row3 col5\" >None</td>\n",
       "      <td id=\"T_0986d_row3_col6\" class=\"data row3 col6\" >None</td>\n",
       "    </tr>\n",
       "  </tbody>\n",
       "</table>\n"
      ],
      "text/plain": [
       "Layer(name='phrase_patterns2', attributes=('extraction_pattern', 'ner_pattern', 'pattern_id', 'score', 'phrase_pattern_id', 'phrase_class'), spans=SL[EnvelopingSpan(['Järgmise', 'aasta'], [{'extraction_pattern': '1 2 amod,2 0 *,A-S', 'ner_pattern': 'OTHER-OTHER', 'pattern_id': '64', 'score': None, 'phrase_pattern_id': None, 'phrase_class': None}, {'extraction_pattern': '1 2 amod,2 0 *,A-S', 'ner_pattern': 'OTHER-OTHER', 'pattern_id': '65', 'score': None, 'phrase_pattern_id': None, 'phrase_class': None}, {'extraction_pattern': '1 2 amod,2 0 *,A-S', 'ner_pattern': 'OTHER-OTHER', 'pattern_id': '66', 'score': None, 'phrase_pattern_id': None, 'phrase_class': None}, {'extraction_pattern': '1 2 amod,2 0 *,A-S', 'ner_pattern': 'OTHER-OTHER', 'pattern_id': '67', 'score': None, 'phrase_pattern_id': None, 'phrase_class': None}])])"
      ]
     },
     "execution_count": 29,
     "metadata": {},
     "output_type": "execute_result"
    }
   ],
   "source": [
    "# layer of phrase patterns (without ner pattern check)\n",
    "df['tagged_text'][0].phrase_patterns2"
   ]
  },
  {
   "cell_type": "code",
   "execution_count": 30,
   "id": "7a0300a4",
   "metadata": {},
   "outputs": [
    {
     "data": {
      "text/html": [
       "<h4>Layer</h4>\n",
       "\n",
       "\n",
       "<table border=\"1\" class=\"dataframe\">\n",
       "  <thead>\n",
       "    <tr style=\"text-align: right;\">\n",
       "      <th>layer name</th>\n",
       "      <th>attributes</th>\n",
       "      <th>parent</th>\n",
       "      <th>enveloping</th>\n",
       "      <th>ambiguous</th>\n",
       "      <th>span count</th>\n",
       "    </tr>\n",
       "  </thead>\n",
       "  <tbody>\n",
       "    <tr>\n",
       "      <td>pattern_consistency</td>\n",
       "      <td>syntax, pos, ner, is_correct, error_source, error_mask, correction</td>\n",
       "      <td>None</td>\n",
       "      <td>words</td>\n",
       "      <td>True</td>\n",
       "      <td>1</td>\n",
       "    </tr>\n",
       "  </tbody>\n",
       "</table>\n",
       "<style type=\"text/css\">\n",
       "</style>\n",
       "<table id=\"T_76ebc\">\n",
       "  <thead>\n",
       "    <tr>\n",
       "      <th id=\"T_76ebc_level0_col0\" class=\"col_heading level0 col0\" >text</th>\n",
       "      <th id=\"T_76ebc_level0_col1\" class=\"col_heading level0 col1\" >syntax</th>\n",
       "      <th id=\"T_76ebc_level0_col2\" class=\"col_heading level0 col2\" >pos</th>\n",
       "      <th id=\"T_76ebc_level0_col3\" class=\"col_heading level0 col3\" >ner</th>\n",
       "      <th id=\"T_76ebc_level0_col4\" class=\"col_heading level0 col4\" >is_correct</th>\n",
       "      <th id=\"T_76ebc_level0_col5\" class=\"col_heading level0 col5\" >error_source</th>\n",
       "      <th id=\"T_76ebc_level0_col6\" class=\"col_heading level0 col6\" >error_mask</th>\n",
       "      <th id=\"T_76ebc_level0_col7\" class=\"col_heading level0 col7\" >correction</th>\n",
       "    </tr>\n",
       "  </thead>\n",
       "  <tbody>\n",
       "    <tr>\n",
       "      <td id=\"T_76ebc_row0_col0\" class=\"data row0 col0\" >['Järgmise', 'aasta']</td>\n",
       "      <td id=\"T_76ebc_row0_col1\" class=\"data row0 col1\" >1 2 amod,2 0 *</td>\n",
       "      <td id=\"T_76ebc_row0_col2\" class=\"data row0 col2\" >A-S</td>\n",
       "      <td id=\"T_76ebc_row0_col3\" class=\"data row0 col3\" >OTHER-OTHER</td>\n",
       "      <td id=\"T_76ebc_row0_col4\" class=\"data row0 col4\" >T</td>\n",
       "      <td id=\"T_76ebc_row0_col5\" class=\"data row0 col5\" >-</td>\n",
       "      <td id=\"T_76ebc_row0_col6\" class=\"data row0 col6\" >0-0</td>\n",
       "      <td id=\"T_76ebc_row0_col7\" class=\"data row0 col7\" >-</td>\n",
       "    </tr>\n",
       "  </tbody>\n",
       "</table>\n"
      ],
      "text/plain": [
       "Layer(name='pattern_consistency', attributes=('syntax', 'pos', 'ner', 'is_correct', 'error_source', 'error_mask', 'correction'), spans=SL[EnvelopingSpan(['Järgmise', 'aasta'], [{'syntax': '1 2 amod,2 0 *', 'pos': 'A-S', 'ner': 'OTHER-OTHER', 'is_correct': 'T', 'error_source': '-', 'error_mask': '0-0', 'correction': '-'}])])"
      ]
     },
     "execution_count": 30,
     "metadata": {},
     "output_type": "execute_result"
    }
   ],
   "source": [
    "# layer of phrase pattern consistency\n",
    "df['tagged_text'][0].pattern_consistency"
   ]
  },
  {
   "cell_type": "markdown",
   "id": "b600bfe4",
   "metadata": {},
   "source": [
    "### Saving tagged sentences and phrases in database"
   ]
  },
  {
   "cell_type": "code",
   "execution_count": 26,
   "id": "7fc80a06",
   "metadata": {},
   "outputs": [
    {
     "data": {
      "text/plain": [
       "<sqlite3.Cursor at 0x1f020497b40>"
      ]
     },
     "execution_count": 26,
     "metadata": {},
     "output_type": "execute_result"
    }
   ],
   "source": [
    "con = sqlite3.connect(\"tagged_100000_sentences.db\")\n",
    "cur = con.cursor()\n",
    "cur.execute('pragma encoding=UTF8')\n",
    "cur.execute(\"CREATE TABLE tagged_phrases(ID INTEGER PRIMARY KEY, extraction_pattern TEXT, ner_pattern TEXT, actual_syntax_pattern TEXT, pattern_id INTEGER, raw_lemmas TEXT, raw_text TEXT, parent_sentence TEXT)\")"
   ]
  },
  {
   "cell_type": "code",
   "execution_count": 27,
   "id": "9b38ba0c",
   "metadata": {},
   "outputs": [
    {
     "name": "stdout",
     "output_type": "stream",
     "text": [
      "Saving 100000 tagged sentences and found phrases in sqlite3 database took 1122.2807488441467 seconds.\n"
     ]
    }
   ],
   "source": [
    "# the phrases will be taken from phrase_patterns2 layer because of absence of ner pattern rules in PhrasePatternTagger2\n",
    "# which means that more phrases may have been tagged\n",
    "\n",
    "start = time.time()\n",
    "\n",
    "for idx, row in df.iterrows():\n",
    "    sentence_json = text_to_json(row['tagged_text'])\n",
    "    for phrase in row['tagged_text'].phrase_patterns2:\n",
    "        p_lemmas = []\n",
    "        p_words = []\n",
    "        p_syntax_info = []\n",
    "        for span in phrase:\n",
    "            morph_word = row['tagged_text'].morph_analysis.get(span)\n",
    "            # first lemma is always chosen\n",
    "            p_lemmas.append(morph_word.lemma[0])\n",
    "            p_words.append(span.text)\n",
    "            # adding actual syntax info\n",
    "            stanza_word = row['tagged_text'].stanza_syntax.get(span)\n",
    "            p_syntax_info.append(f'{stanza_word.id} {stanza_word.head} {stanza_word.deprel}')\n",
    "            \n",
    "        raw_lemmas = ' '.join([l for l in p_lemmas])\n",
    "        raw_text = ' '.join([w for w in p_words])\n",
    "        cur.execute(\"\"\"INSERT INTO tagged_phrases\n",
    "                                (extraction_pattern, ner_pattern, actual_syntax_pattern, pattern_id, raw_lemmas, raw_text, parent_sentence)\n",
    "                                VALUES (?, ?, ?, ?, ?, ?, ?);\"\"\", (phrase['extraction_pattern'][0], phrase['ner_pattern'][0], ','.join(p_syntax_info), phrase['pattern_id'][0], raw_lemmas, raw_text, sentence_json))\n",
    "    \n",
    "        con.commit()\n",
    "\n",
    "con.close()\n",
    "\n",
    "print(f'Saving {len(df)} tagged sentences and found phrases in sqlite3 database took {time.time()-start} seconds.')"
   ]
  },
  {
   "cell_type": "code",
   "execution_count": null,
   "id": "2a23ac45",
   "metadata": {},
   "outputs": [],
   "source": []
  }
 ],
 "metadata": {
  "kernelspec": {
   "display_name": "Python 3 (ipykernel)",
   "language": "python",
   "name": "python3"
  },
  "language_info": {
   "codemirror_mode": {
    "name": "ipython",
    "version": 3
   },
   "file_extension": ".py",
   "mimetype": "text/x-python",
   "name": "python",
   "nbconvert_exporter": "python",
   "pygments_lexer": "ipython3",
   "version": "3.10.11"
  }
 },
 "nbformat": 4,
 "nbformat_minor": 5
}
