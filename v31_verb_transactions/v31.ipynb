{
 "cells": [
  {
   "cell_type": "markdown",
   "id": "0f6b9761",
   "metadata": {},
   "source": []
  },
  {
   "cell_type": "code",
   "execution_count": 18,
   "id": "fe0c8798-1bd2-418c-83a0-974ab638d0ca",
   "metadata": {},
   "outputs": [],
   "source": [
    "#!conda activate py38_estnltk1.7\n",
    "#hpc serveris peaks sobima estnltk_collocations_py38\n",
    "#!conda install --channel conda-forge pygraphviz\n",
    "#!conda install -c conda-forge ipywidgets\n",
    "#!jupyter nbextension enable --py widgetsnbextension"
   ]
  },
  {
   "cell_type": "markdown",
   "id": "3fd575ee-dd14-42e6-9e71-040d56e4651d",
   "metadata": {
    "tags": []
   },
   "source": [
    "# Verbimallide kogumine koondkorpusest\n"
   ]
  },
  {
   "cell_type": "markdown",
   "id": "8b5cc122-b092-4cd0-9d49-4774c97b5589",
   "metadata": {
    "tags": []
   },
   "source": [
    "# v31\n",
    "\n",
    "Verbide salvestamisel tabelisse jäeti välja verbid, millel:\n",
    "\n",
    "* verb oli umbisikuline (<code>feats</code> sisaldas parameetrit <code>imps</code>);\n",
    "* verbi aeg polnud ükski järgnevatest: <code>past</code>, <code>impf</code>, <code>pres</code> (<code>feats</code> ei sisaldanud parameetreid <code>past</code> ega <code>impf</code> ega  <code>pres</code>);\n",
    "\n",
    "* verbil polnud ühtegi alluvat, mida kirjutada transaction tabelisse.\n",
    "  \n",
    "Verbi alluvate korral ei salvestatud verbi vahetuid alluvaid, mille deprel oli: \n",
    "  * punct\n",
    "  * conj\n",
    "  * mark\n",
    "  * cc\n",
    "  * parataxis\n",
    "  * discourse\n",
    "  * vocative\n",
    "  * cop\n",
    "  * cc:preconj\n",
    "  * goeswith\n",
    "  * list\n",
    "  * dep\n",
    "\n",
    "Lisaks verbi vahetutele alluvatele salvestati ka verbile alluva obl'i alluva depreliga case.\n",
    "Sellistel ridades on transaction.parent_loc <> 0 \n",
    "\n",
    "\n",
    "### Tabelid\n",
    "\n",
    "### TABEL1 transaction_head\n",
    "\n",
    "| väli | tüüp  |  kirjeldus | näide | märkus |\n",
    "| --- | --- | --- | --- | --- |\n",
    "| id | int | rea <br/>unikaalne ID| *56* | |\n",
    "| sentence_id | int | lause id andmebaasis| | |\n",
    "| loc | int | verbi asukoht lauses | | |\n",
    "| verb | text |verbi lemma | | |\n",
    "| verb_compound | text | verbi afiksaaladverbid| alla,peale| eraldajaks koma |\n",
    "| deprel | text | verbi deprel | | |\n",
    "| feats | text | verbi morf kategooriad alfabeetilises järjekorras | aux,ps3||\n",
    "\n",
    "\n",
    "### TABEL2 transaction\n",
    "\n",
    "| väli | tüüp  |  kirjeldus | näide | märkus |\n",
    "| --- | --- | --- | --- | --- |\n",
    "| id | int | rea <br/>unikaalne ID| *56* | |\n",
    "| head_id | int| rea transaction_head.id  | | |\n",
    "| loc | int | sõna asukoht lauses | | |\n",
    "| loc_rel | int | sõna asukoht verbi suhtes  | | |\n",
    "| deprel | text | sõna deprel | | |\n",
    "| form | text | sõna vorm  | | |\n",
    "| lemma |  text | sõna lemma | | |\n",
    "| pos | text | sõna sõnaliik | | |\n",
    "| feats | text|  sõna morf kategooriad alfabeetilises järjekorras |  add,sg| |\n",
    "| parent_loc | int | vanema tipu loc, juhul kui tegemist on <code>obl</obl> alluvaga  case|  2| |\n",
    "\n",
    "\n",
    "\n"
   ]
  },
  {
   "cell_type": "code",
   "execution_count": 19,
   "id": "1c0dfd29-9627-4cc3-a8ed-677c8326f814",
   "metadata": {
    "tags": []
   },
   "outputs": [
    {
     "name": "stdout",
     "output_type": "stream",
     "text": [
      "The autoreload extension is already loaded. To reload it, use:\n",
      "  %reload_ext autoreload\n",
      "mkdir: ./sentences: File exists\n",
      "cp: ./styles.css: No such file or directory\n",
      "INFO:storage.py:57: connecting to host: 'postgres.keeleressursid.ee', port: '5432', dbname: 'estonian-text-corpora', user: 'zummy'\n",
      "INFO:storage.py:108: schema: 'estonian_text_corpora', temporary: False, role: 'estonian_text_corpora_read'\n"
     ]
    },
    {
     "name": "stderr",
     "output_type": "stream",
     "text": [
      "collection_id: 0:   0%|          | 1/159745 [00:00<30:21:14,  1.46doc/s]"
     ]
    },
    {
     "name": "stdout",
     "output_type": "stream",
     "text": [
      "andmebaasi salvestatud kollokatsioonid kollektsioonidest: 0 - 0\n"
     ]
    },
    {
     "name": "stderr",
     "output_type": "stream",
     "text": [
      "collection_id: 1:   0%|          | 2/159745 [00:01<22:42:47,  1.95doc/s]"
     ]
    },
    {
     "name": "stdout",
     "output_type": "stream",
     "text": [
      "andmebaasi salvestatud kollokatsioonid kollektsioonidest: 0 - 1\n"
     ]
    },
    {
     "name": "stderr",
     "output_type": "stream",
     "text": [
      "collection_id: 2:   0%|          | 3/159745 [00:01<19:12:29,  2.31doc/s]"
     ]
    },
    {
     "name": "stdout",
     "output_type": "stream",
     "text": [
      "andmebaasi salvestatud kollokatsioonid kollektsioonidest: 0 - 2\n"
     ]
    },
    {
     "name": "stderr",
     "output_type": "stream",
     "text": [
      "collection_id: 3:   0%|          | 4/159745 [00:01<17:09:36,  2.59doc/s]"
     ]
    },
    {
     "name": "stdout",
     "output_type": "stream",
     "text": [
      "andmebaasi salvestatud kollokatsioonid kollektsioonidest: 0 - 3\n"
     ]
    },
    {
     "name": "stderr",
     "output_type": "stream",
     "text": [
      "collection_id: 4:   0%|          | 5/159745 [00:01<15:46:50,  2.81doc/s]"
     ]
    },
    {
     "name": "stdout",
     "output_type": "stream",
     "text": [
      "andmebaasi salvestatud kollokatsioonid kollektsioonidest: 0 - 4\n"
     ]
    },
    {
     "name": "stderr",
     "output_type": "stream",
     "text": [
      "collection_id: 5:   0%|          | 6/159745 [00:02<14:54:52,  2.98doc/s]"
     ]
    },
    {
     "name": "stdout",
     "output_type": "stream",
     "text": [
      "andmebaasi salvestatud kollokatsioonid kollektsioonidest: 0 - 5\n"
     ]
    },
    {
     "name": "stderr",
     "output_type": "stream",
     "text": [
      "collection_id: 6:   0%|          | 7/159745 [00:02<14:20:09,  3.10doc/s]"
     ]
    },
    {
     "name": "stdout",
     "output_type": "stream",
     "text": [
      "andmebaasi salvestatud kollokatsioonid kollektsioonidest: 0 - 6\n"
     ]
    },
    {
     "name": "stderr",
     "output_type": "stream",
     "text": [
      "collection_id: 7:   0%|          | 8/159745 [00:02<13:55:58,  3.18doc/s]"
     ]
    },
    {
     "name": "stdout",
     "output_type": "stream",
     "text": [
      "andmebaasi salvestatud kollokatsioonid kollektsioonidest: 0 - 7\n"
     ]
    },
    {
     "name": "stderr",
     "output_type": "stream",
     "text": [
      "collection_id: 8:   0%|          | 9/159745 [00:02<13:37:00,  3.26doc/s]"
     ]
    },
    {
     "name": "stdout",
     "output_type": "stream",
     "text": [
      "andmebaasi salvestatud kollokatsioonid kollektsioonidest: 0 - 8\n"
     ]
    },
    {
     "name": "stderr",
     "output_type": "stream",
     "text": [
      "collection_id: 9:   0%|          | 10/159745 [00:03<13:32:28,  3.28doc/s]"
     ]
    },
    {
     "name": "stdout",
     "output_type": "stream",
     "text": [
      "andmebaasi salvestatud kollokatsioonid kollektsioonidest: 0 - 9\n"
     ]
    },
    {
     "name": "stderr",
     "output_type": "stream",
     "text": [
      "collection_id: 10:   0%|          | 11/159745 [00:03<13:28:10,  3.29doc/s]"
     ]
    },
    {
     "name": "stdout",
     "output_type": "stream",
     "text": [
      "andmebaasi salvestatud kollokatsioonid kollektsioonidest: 0 - 10\n"
     ]
    },
    {
     "name": "stderr",
     "output_type": "stream",
     "text": [
      "collection_id: 11:   0%|          | 12/159745 [00:03<13:16:40,  3.34doc/s]"
     ]
    },
    {
     "name": "stdout",
     "output_type": "stream",
     "text": [
      "andmebaasi salvestatud kollokatsioonid kollektsioonidest: 0 - 11\n"
     ]
    },
    {
     "name": "stderr",
     "output_type": "stream",
     "text": [
      "collection_id: 12:   0%|          | 13/159745 [00:03<13:06:35,  3.38doc/s]"
     ]
    },
    {
     "name": "stdout",
     "output_type": "stream",
     "text": [
      "andmebaasi salvestatud kollokatsioonid kollektsioonidest: 0 - 12\n"
     ]
    },
    {
     "name": "stderr",
     "output_type": "stream",
     "text": [
      "collection_id: 13:   0%|          | 14/159745 [00:04<12:56:02,  3.43doc/s]"
     ]
    },
    {
     "name": "stdout",
     "output_type": "stream",
     "text": [
      "andmebaasi salvestatud kollokatsioonid kollektsioonidest: 0 - 13\n"
     ]
    },
    {
     "name": "stderr",
     "output_type": "stream",
     "text": [
      "collection_id: 14:   0%|          | 15/159745 [00:04<12:47:26,  3.47doc/s]"
     ]
    },
    {
     "name": "stdout",
     "output_type": "stream",
     "text": [
      "andmebaasi salvestatud kollokatsioonid kollektsioonidest: 0 - 14\n"
     ]
    },
    {
     "name": "stderr",
     "output_type": "stream",
     "text": [
      "collection_id: 15:   0%|          | 16/159745 [00:04<12:41:02,  3.50doc/s]"
     ]
    },
    {
     "name": "stdout",
     "output_type": "stream",
     "text": [
      "andmebaasi salvestatud kollokatsioonid kollektsioonidest: 0 - 15\n"
     ]
    },
    {
     "name": "stderr",
     "output_type": "stream",
     "text": [
      "collection_id: 16:   0%|          | 17/159745 [00:04<12:36:51,  3.52doc/s]"
     ]
    },
    {
     "name": "stdout",
     "output_type": "stream",
     "text": [
      "andmebaasi salvestatud kollokatsioonid kollektsioonidest: 0 - 16\n"
     ]
    },
    {
     "name": "stderr",
     "output_type": "stream",
     "text": [
      "collection_id: 17:   0%|          | 18/159745 [00:05<12:31:20,  3.54doc/s]"
     ]
    },
    {
     "name": "stdout",
     "output_type": "stream",
     "text": [
      "andmebaasi salvestatud kollokatsioonid kollektsioonidest: 0 - 17\n"
     ]
    },
    {
     "name": "stderr",
     "output_type": "stream",
     "text": [
      "collection_id: 19:   0%|          | 19/159745 [00:05<12:50:22,  3.46doc/s]"
     ]
    },
    {
     "name": "stdout",
     "output_type": "stream",
     "text": [
      "andmebaasi salvestatud kollokatsioonid kollektsioonidest: 0 - 18\n"
     ]
    },
    {
     "name": "stderr",
     "output_type": "stream",
     "text": [
      "\n"
     ]
    },
    {
     "ename": "KeyboardInterrupt",
     "evalue": "",
     "output_type": "error",
     "traceback": [
      "\u001b[0;31m---------------------------------------------------------------------------\u001b[0m",
      "\u001b[0;31mKeyboardInterrupt\u001b[0m                         Traceback (most recent call last)",
      "File \u001b[0;32m<timed exec>:44\u001b[0m\n",
      "File \u001b[0;32m~/repos/tu/estnltk/syntax_experiments/syntax_experiments__subcat/v31_verb_transactions/collect_functions.py:294\u001b[0m, in \u001b[0;36mextract_something\u001b[0;34m(text, collection_id, data, draw_tree, display_trees)\u001b[0m\n\u001b[1;32m    291\u001b[0m     highlight\u001b[38;5;241m.\u001b[39mappend(verb)\n\u001b[1;32m    293\u001b[0m \u001b[38;5;28;01mif\u001b[39;00m draw_tree:\n\u001b[0;32m--> 294\u001b[0m     \u001b[43mgraph\u001b[49m\u001b[38;5;241;43m.\u001b[39;49m\u001b[43mdraw_graph2\u001b[49m\u001b[43m(\u001b[49m\n\u001b[1;32m    295\u001b[0m \u001b[43m        \u001b[49m\u001b[43mfilename\u001b[49m\u001b[38;5;241;43m=\u001b[39;49m\u001b[38;5;124;43mf\u001b[39;49m\u001b[38;5;124;43m\"\u001b[39;49m\u001b[38;5;124;43msentences/\u001b[39;49m\u001b[38;5;132;43;01m{\u001b[39;49;00m\u001b[43mcollection_id\u001b[49m\u001b[38;5;132;43;01m}\u001b[39;49;00m\u001b[38;5;124;43m.png\u001b[39;49m\u001b[38;5;124;43m\"\u001b[39;49m\u001b[43m,\u001b[49m\n\u001b[1;32m    296\u001b[0m \u001b[43m        \u001b[49m\u001b[43mhighlight\u001b[49m\u001b[38;5;241;43m=\u001b[39;49m\u001b[43mhighlight\u001b[49m\u001b[43m,\u001b[49m\n\u001b[1;32m    297\u001b[0m \u001b[43m        \u001b[49m\u001b[43mdisplay\u001b[49m\u001b[38;5;241;43m=\u001b[39;49m\u001b[43mdisplay_trees\u001b[49m\u001b[43m,\u001b[49m\n\u001b[1;32m    298\u001b[0m \u001b[43m    \u001b[49m\u001b[43m)\u001b[49m\n\u001b[1;32m    299\u001b[0m     \u001b[38;5;28mopen\u001b[39m(\u001b[38;5;124mf\u001b[39m\u001b[38;5;124m\"\u001b[39m\u001b[38;5;124msentences/\u001b[39m\u001b[38;5;132;01m{\u001b[39;00mcollection_id\u001b[38;5;132;01m}\u001b[39;00m\u001b[38;5;124m.txt\u001b[39m\u001b[38;5;124m\"\u001b[39m, \u001b[38;5;124m\"\u001b[39m\u001b[38;5;124mw\u001b[39m\u001b[38;5;124m\"\u001b[39m)\u001b[38;5;241m.\u001b[39mwrite(text\u001b[38;5;241m.\u001b[39mtext)\n\u001b[1;32m    300\u001b[0m     \u001b[38;5;28mopen\u001b[39m(\u001b[38;5;124mf\u001b[39m\u001b[38;5;124m\"\u001b[39m\u001b[38;5;124msentences/\u001b[39m\u001b[38;5;132;01m{\u001b[39;00mcollection_id\u001b[38;5;132;01m}\u001b[39;00m\u001b[38;5;124m.html\u001b[39m\u001b[38;5;124m\"\u001b[39m, \u001b[38;5;124m\"\u001b[39m\u001b[38;5;124mw\u001b[39m\u001b[38;5;124m\"\u001b[39m)\u001b[38;5;241m.\u001b[39mwrite(\n\u001b[1;32m    301\u001b[0m \u001b[38;5;250m        \u001b[39m\u001b[38;5;124;03m\"\"\"<html>\u001b[39;00m\n\u001b[1;32m    302\u001b[0m \u001b[38;5;124;03m        <head>\u001b[39;00m\n\u001b[0;32m   (...)\u001b[0m\n\u001b[1;32m    311\u001b[0m         )\n\u001b[1;32m    312\u001b[0m     )\n",
      "File \u001b[0;32m~/repos/tu/estnltk/syntax_experiments/syntax_experiments__subcat/v31_verb_transactions/data_helpers/syntax_graph.py:170\u001b[0m, in \u001b[0;36mSyntaxGraph.draw_graph2\u001b[0;34m(self, display, filename, highlight)\u001b[0m\n\u001b[1;32m    167\u001b[0m     filename \u001b[38;5;241m=\u001b[39m \u001b[38;5;124m\"\u001b[39m\u001b[38;5;124mgraph.png\u001b[39m\u001b[38;5;124m\"\u001b[39m\n\u001b[1;32m    169\u001b[0m \u001b[38;5;66;03m# Draw graph to the specified file\u001b[39;00m\n\u001b[0;32m--> 170\u001b[0m \u001b[43mG\u001b[49m\u001b[38;5;241;43m.\u001b[39;49m\u001b[43mdraw\u001b[49m\u001b[43m(\u001b[49m\u001b[43mfilename\u001b[49m\u001b[43m)\u001b[49m\n\u001b[1;32m    172\u001b[0m \u001b[38;5;28;01mif\u001b[39;00m display:\n\u001b[1;32m    173\u001b[0m     \u001b[38;5;66;03m# Display the graph image if we're in a Jupyter notebook environment\u001b[39;00m\n\u001b[1;32m    174\u001b[0m     img \u001b[38;5;241m=\u001b[39m mpimg\u001b[38;5;241m.\u001b[39mimread(filename)\n",
      "File \u001b[0;32m~/repos/tu/estnltk/syntax_experiments/syntax_experiments__subcat/venv/lib/python3.11/site-packages/pygraphviz/agraph.py:1613\u001b[0m, in \u001b[0;36mAGraph.draw\u001b[0;34m(self, path, format, prog, args)\u001b[0m\n\u001b[1;32m   1610\u001b[0m \u001b[38;5;28;01melse\u001b[39;00m:\n\u001b[1;32m   1611\u001b[0m     args \u001b[38;5;241m=\u001b[39m \u001b[38;5;124m\"\u001b[39m\u001b[38;5;124m \u001b[39m\u001b[38;5;124m\"\u001b[39m\u001b[38;5;241m.\u001b[39mjoin([args, \u001b[38;5;124m\"\u001b[39m\u001b[38;5;124m-T\u001b[39m\u001b[38;5;124m\"\u001b[39m \u001b[38;5;241m+\u001b[39m \u001b[38;5;28mformat\u001b[39m])\n\u001b[0;32m-> 1613\u001b[0m data \u001b[38;5;241m=\u001b[39m \u001b[38;5;28;43mself\u001b[39;49m\u001b[38;5;241;43m.\u001b[39;49m\u001b[43m_run_prog\u001b[49m\u001b[43m(\u001b[49m\u001b[43mprog\u001b[49m\u001b[43m,\u001b[49m\u001b[43m \u001b[49m\u001b[43margs\u001b[49m\u001b[43m)\u001b[49m\n\u001b[1;32m   1615\u001b[0m \u001b[38;5;28;01mif\u001b[39;00m path \u001b[38;5;129;01mis\u001b[39;00m \u001b[38;5;129;01mnot\u001b[39;00m \u001b[38;5;28;01mNone\u001b[39;00m:\n\u001b[1;32m   1616\u001b[0m     fh \u001b[38;5;241m=\u001b[39m \u001b[38;5;28mself\u001b[39m\u001b[38;5;241m.\u001b[39m_get_fh(path, \u001b[38;5;124m\"\u001b[39m\u001b[38;5;124mw+b\u001b[39m\u001b[38;5;124m\"\u001b[39m)\n",
      "File \u001b[0;32m~/repos/tu/estnltk/syntax_experiments/syntax_experiments__subcat/venv/lib/python3.11/site-packages/pygraphviz/agraph.py:1400\u001b[0m, in \u001b[0;36mAGraph._run_prog\u001b[0;34m(self, prog, args)\u001b[0m\n\u001b[1;32m   1397\u001b[0m child_stdin\u001b[38;5;241m.\u001b[39mclose()\n\u001b[1;32m   1399\u001b[0m \u001b[38;5;28;01mfor\u001b[39;00m t \u001b[38;5;129;01min\u001b[39;00m threads:\n\u001b[0;32m-> 1400\u001b[0m     \u001b[43mt\u001b[49m\u001b[38;5;241;43m.\u001b[39;49m\u001b[43mjoin\u001b[49m\u001b[43m(\u001b[49m\u001b[43m)\u001b[49m\n\u001b[1;32m   1401\u001b[0m p\u001b[38;5;241m.\u001b[39mwait()\n\u001b[1;32m   1403\u001b[0m \u001b[38;5;28;01mif\u001b[39;00m \u001b[38;5;129;01mnot\u001b[39;00m data:\n",
      "File \u001b[0;32m/Library/Frameworks/Python.framework/Versions/3.11/lib/python3.11/threading.py:1119\u001b[0m, in \u001b[0;36mThread.join\u001b[0;34m(self, timeout)\u001b[0m\n\u001b[1;32m   1116\u001b[0m     \u001b[38;5;28;01mraise\u001b[39;00m \u001b[38;5;167;01mRuntimeError\u001b[39;00m(\u001b[38;5;124m\"\u001b[39m\u001b[38;5;124mcannot join current thread\u001b[39m\u001b[38;5;124m\"\u001b[39m)\n\u001b[1;32m   1118\u001b[0m \u001b[38;5;28;01mif\u001b[39;00m timeout \u001b[38;5;129;01mis\u001b[39;00m \u001b[38;5;28;01mNone\u001b[39;00m:\n\u001b[0;32m-> 1119\u001b[0m     \u001b[38;5;28;43mself\u001b[39;49m\u001b[38;5;241;43m.\u001b[39;49m\u001b[43m_wait_for_tstate_lock\u001b[49m\u001b[43m(\u001b[49m\u001b[43m)\u001b[49m\n\u001b[1;32m   1120\u001b[0m \u001b[38;5;28;01melse\u001b[39;00m:\n\u001b[1;32m   1121\u001b[0m     \u001b[38;5;66;03m# the behavior of a negative timeout isn't documented, but\u001b[39;00m\n\u001b[1;32m   1122\u001b[0m     \u001b[38;5;66;03m# historically .join(timeout=x) for x<0 has acted as if timeout=0\u001b[39;00m\n\u001b[1;32m   1123\u001b[0m     \u001b[38;5;28mself\u001b[39m\u001b[38;5;241m.\u001b[39m_wait_for_tstate_lock(timeout\u001b[38;5;241m=\u001b[39m\u001b[38;5;28mmax\u001b[39m(timeout, \u001b[38;5;241m0\u001b[39m))\n",
      "File \u001b[0;32m/Library/Frameworks/Python.framework/Versions/3.11/lib/python3.11/threading.py:1139\u001b[0m, in \u001b[0;36mThread._wait_for_tstate_lock\u001b[0;34m(self, block, timeout)\u001b[0m\n\u001b[1;32m   1136\u001b[0m     \u001b[38;5;28;01mreturn\u001b[39;00m\n\u001b[1;32m   1138\u001b[0m \u001b[38;5;28;01mtry\u001b[39;00m:\n\u001b[0;32m-> 1139\u001b[0m     \u001b[38;5;28;01mif\u001b[39;00m \u001b[43mlock\u001b[49m\u001b[38;5;241;43m.\u001b[39;49m\u001b[43macquire\u001b[49m\u001b[43m(\u001b[49m\u001b[43mblock\u001b[49m\u001b[43m,\u001b[49m\u001b[43m \u001b[49m\u001b[43mtimeout\u001b[49m\u001b[43m)\u001b[49m:\n\u001b[1;32m   1140\u001b[0m         lock\u001b[38;5;241m.\u001b[39mrelease()\n\u001b[1;32m   1141\u001b[0m         \u001b[38;5;28mself\u001b[39m\u001b[38;5;241m.\u001b[39m_stop()\n",
      "\u001b[0;31mKeyboardInterrupt\u001b[0m: "
     ]
    }
   ],
   "source": [
    "%%time\n",
    "%load_ext autoreload\n",
    "%autoreload 2\n",
    "\n",
    "!mkdir ./sentences\n",
    "!rm ./sentences/*\n",
    "!cp ./styles.css ./sentences\n",
    "\n",
    "from estnltk.storage.postgres import LayerQuery\n",
    "\n",
    "from datetime import datetime\n",
    "# functions for creating database and collecting collocations\n",
    "from collect_functions import *\n",
    "\n",
    "from data_helpers.db_reader import DbReader\n",
    "\n",
    "collection_name = 'koondkorpus_sentences'\n",
    "BATCH_SIZE = 50000\n",
    "\n",
    "collection_name = 'koondkorpus_sentences_test_5000_sg_thread'\n",
    "BATCH_SIZE = 50000\n",
    "\n",
    "TYPE = 'verb_pattern_obl'\n",
    "TABLENAME = f'{TYPE}'\n",
    "\n",
    "date_time = datetime.now().strftime(\"%Y%m%d-%H%M%S\")\n",
    "db_file_name = f\"v31_{collection_name}_{TYPE}_{date_time}.db\"\n",
    "my_sqlite_db = DbMethods(db_file_name=db_file_name, table1_name=TYPE, table2_name=TYPE+'_examples')\n",
    "my_sqlite_db.prep_coll_db()\n",
    "\n",
    "\n",
    "my_db_reader = DbReader(pgpass_file='~/.pgpass',\\\n",
    "                          schema='estonian_text_corpora',\\\n",
    "                          role='estonian_text_corpora_read',\\\n",
    "                          temporary=False,\\\n",
    "                          collection_name=collection_name)\n",
    "my_db_reader.set_layers(['v172_stanza_syntax'])\n",
    "\n",
    "draw_trees = 50\n",
    "display_trees = False\n",
    "data = []\n",
    "count = 0\n",
    "for collection_id, text in my_db_reader.get_collections(shuffle=False, progressbar='ascii'):\n",
    "    count += 1\n",
    "    collocations, = extract_something(text=text, collection_id=collection_id, data=data, draw_tree=(count<=draw_trees), display_trees=display_trees)\n",
    "    \n",
    "    if not count == 0 and not count % BATCH_SIZE:\n",
    "        my_sqlite_db.save_coll_to_db(data, collection_id)\n",
    "        data = []\n",
    "        \n",
    "\n",
    "# saving last batch\n",
    "my_sqlite_db.save_coll_to_db(data, collection_id)\n",
    "my_sqlite_db.index_fields()\n",
    "\n",
    "print('done.')\n"
   ]
  }
 ],
 "metadata": {
  "kernelspec": {
   "display_name": "venv",
   "language": "python",
   "name": "python3"
  },
  "language_info": {
   "codemirror_mode": {
    "name": "ipython",
    "version": 3
   },
   "file_extension": ".py",
   "mimetype": "text/x-python",
   "name": "python",
   "nbconvert_exporter": "python",
   "pygments_lexer": "ipython3",
   "version": "3.11.7"
  }
 },
 "nbformat": 4,
 "nbformat_minor": 5
}
