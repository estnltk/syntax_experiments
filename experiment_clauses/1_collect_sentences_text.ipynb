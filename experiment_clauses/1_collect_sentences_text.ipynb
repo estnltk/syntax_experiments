{
 "cells": [
  {
   "cell_type": "markdown",
   "id": "721d0507",
   "metadata": {},
   "source": [
    "# Skript korpuse lausetega tsv-faili tegemiseks\n",
    "\n",
    "Skripti töö tulemusena luuakse **TSV**-fail kujul:\n",
    "\n",
    "|uid|sentence|\t\n",
    "|---|---|\n",
    "| 0_0_1  |  Sven Haljand| \n",
    "| 0_14_2 |  Helilooja SVEN LÕHMUS on keeruline kui ruubikukuubik .| \n",
    "| 0_69_3 |  Endine punkar , tulevane lendur , karateka ja orkestrijuht , kuid eelkõige magusate poplugude autor .| \n",
    "| 0_172_4 | Kaheksakümnendate aastate lõpus toimus Türi 1.| \n",
    "| 0_219_5 | Keskkoolis punkbändi Kass Ai-ai kontsert .| \n",
    "\n",
    "\n",
    "## Skripti tööks vajalikud andmed\n",
    "\n",
    "Pyhtoni teek **syntaxCutter**: https://github.com/estnltk/syntax_experiments/tree/syntax_consistency/syntax_cutter_library\n",
    "\n",
    "**TSV_CLAUSES_FILE** TSV fail korpuse sisuga: \n",
    "http://localhost:8888/notebooks/collocation_net/data_extraction/from_tsv/collect_texts_db_tsv_clauses.ipynb\n"
   ]
  },
  {
   "cell_type": "code",
   "execution_count": 2,
   "id": "5fb090e1",
   "metadata": {},
   "outputs": [],
   "source": [
    "import sys\n",
    "sys.path.append('../../syntax_experiments/syntax_cutter_library')\n",
    "from syntaxCutter.readerTSVClause import reader\n",
    "import pandas as pd"
   ]
  },
  {
   "cell_type": "code",
   "execution_count": 3,
   "id": "9710f986",
   "metadata": {},
   "outputs": [],
   "source": [
    "source = 'koondkorpus_base_subset_of_5000_v2'\n",
    "#source = 'koondkorpus_base_v2' \n",
    "if 'koondkorpus_base_v2' == source:\n",
    "    #'koondkorpus_v2'\n",
    "    filepath = 'koondkorpus_base_v2_clauses_20221022.tsv'\n",
    "else:\n",
    "    #koondkorpus_base_subset_of_5000_v2\n",
    "    filepath = 'koondkorpus_base_subset_of_5000_v2_clauses.tsv'"
   ]
  },
  {
   "cell_type": "code",
   "execution_count": 5,
   "id": "89a0f72e",
   "metadata": {},
   "outputs": [
    {
     "name": "stderr",
     "output_type": "stream",
     "text": [
      "2022-11-18 14:15:00,983 - Reader - INFO - Reading sentences in progress.\n"
     ]
    },
    {
     "data": {
      "application/vnd.jupyter.widget-view+json": {
       "model_id": "cf19eceabe2447aa99ed92a0011095df",
       "version_major": 2,
       "version_minor": 0
      },
      "text/plain": [
       "HBox(children=(FloatProgress(value=0.0, description='TSV lines', max=2105386.0, style=ProgressStyle(descriptio…"
      ]
     },
     "metadata": {},
     "output_type": "display_data"
    },
    {
     "name": "stderr",
     "output_type": "stream",
     "text": [
      "2022-11-18 14:15:13,589 - Reader - INFO - Reading sentences done.\n"
     ]
    },
    {
     "name": "stdout",
     "output_type": "stream",
     "text": [
      "\n"
     ]
    }
   ],
   "source": [
    "oReader = reader.Reader(file=filepath)\n",
    "\n",
    "sentences = []\n",
    "collocations = {}\n",
    "for uid, sentence in oReader.get_sentences_generator(mode='text'):\n",
    "    sentences.append((uid, sentence,))"
   ]
  },
  {
   "cell_type": "code",
   "execution_count": 6,
   "id": "9ce985fd",
   "metadata": {},
   "outputs": [],
   "source": [
    "df = pd.DataFrame(sentences, columns =['uid', 'sentence'])\n",
    "df.to_csv(f'{source}_sentences.tsv', sep='\\t', index=False)"
   ]
  },
  {
   "cell_type": "code",
   "execution_count": 7,
   "id": "cc6eb5d4",
   "metadata": {},
   "outputs": [
    {
     "data": {
      "text/html": [
       "<div>\n",
       "<style scoped>\n",
       "    .dataframe tbody tr th:only-of-type {\n",
       "        vertical-align: middle;\n",
       "    }\n",
       "\n",
       "    .dataframe tbody tr th {\n",
       "        vertical-align: top;\n",
       "    }\n",
       "\n",
       "    .dataframe thead th {\n",
       "        text-align: right;\n",
       "    }\n",
       "</style>\n",
       "<table border=\"1\" class=\"dataframe\">\n",
       "  <thead>\n",
       "    <tr style=\"text-align: right;\">\n",
       "      <th></th>\n",
       "      <th>uid</th>\n",
       "      <th>sentence</th>\n",
       "    </tr>\n",
       "  </thead>\n",
       "  <tbody>\n",
       "    <tr>\n",
       "      <th>0</th>\n",
       "      <td>0_0_1</td>\n",
       "      <td>Välismaa leheküljed toimetanud Aive Lauriste</td>\n",
       "    </tr>\n",
       "    <tr>\n",
       "      <th>1</th>\n",
       "      <td>0_46_2</td>\n",
       "      <td>“ Kuulsus tabas mind kui hunnik telliskive , ” kurdab lapsevanemate hirm , miljoneid plaate müünud ja kümneid auhindu võitnud EMINEM , kes on nüüdseks vallutanud ka kinolina .</td>\n",
       "    </tr>\n",
       "    <tr>\n",
       "      <th>2</th>\n",
       "      <td>0_223_3</td>\n",
       "      <td>Kolme aastaga on Eminem alias Marshall Mathers III ( 30 ) kindlalt meie teadvusesse sööbinud .</td>\n",
       "    </tr>\n",
       "    <tr>\n",
       "      <th>3</th>\n",
       "      <td>0_320_4</td>\n",
       "      <td>Ta tõdeb , et selle aja jooksul on tema publik kõvasti muutunud :</td>\n",
       "    </tr>\n",
       "    <tr>\n",
       "      <th>4</th>\n",
       "      <td>0_387_5</td>\n",
       "      <td>“ Väga imelik !</td>\n",
       "    </tr>\n",
       "    <tr>\n",
       "      <th>5</th>\n",
       "      <td>0_403_6</td>\n",
       "      <td>Varem ma tõmbasin 10-25aastasi .</td>\n",
       "    </tr>\n",
       "    <tr>\n",
       "      <th>6</th>\n",
       "      <td>0_436_7</td>\n",
       "      <td>Nüüd tundub , et mind kuulavad nii 5 - kui ka 55aastased . ”</td>\n",
       "    </tr>\n",
       "    <tr>\n",
       "      <th>7</th>\n",
       "      <td>0_497_8</td>\n",
       "      <td>“ Kuulsus tabas mind kui hunnik telliskive , ” räägib Eminem .</td>\n",
       "    </tr>\n",
       "    <tr>\n",
       "      <th>8</th>\n",
       "      <td>0_560_9</td>\n",
       "      <td>“ Mind tiriti igas suunas - kaks kontserti päevas , pidevad turneed , lugematud raadiointervjuud .</td>\n",
       "    </tr>\n",
       "    <tr>\n",
       "      <th>9</th>\n",
       "      <td>0_659_10</td>\n",
       "      <td>Ma sattusin uimastite võrku , kaklesin , tegin asju , mida ma poleks pidanud tegema .</td>\n",
       "    </tr>\n",
       "  </tbody>\n",
       "</table>\n",
       "</div>"
      ],
      "text/plain": [
       "        uid  \\\n",
       "0     0_0_1   \n",
       "1    0_46_2   \n",
       "2   0_223_3   \n",
       "3   0_320_4   \n",
       "4   0_387_5   \n",
       "5   0_403_6   \n",
       "6   0_436_7   \n",
       "7   0_497_8   \n",
       "8   0_560_9   \n",
       "9  0_659_10   \n",
       "\n",
       "                                                                                                                                                                          sentence  \n",
       "0                                                                                                                                     Välismaa leheküljed toimetanud Aive Lauriste  \n",
       "1  “ Kuulsus tabas mind kui hunnik telliskive , ” kurdab lapsevanemate hirm , miljoneid plaate müünud ja kümneid auhindu võitnud EMINEM , kes on nüüdseks vallutanud ka kinolina .  \n",
       "2                                                                                   Kolme aastaga on Eminem alias Marshall Mathers III ( 30 ) kindlalt meie teadvusesse sööbinud .  \n",
       "3                                                                                                                Ta tõdeb , et selle aja jooksul on tema publik kõvasti muutunud :  \n",
       "4                                                                                                                                                                  “ Väga imelik !  \n",
       "5                                                                                                                                                 Varem ma tõmbasin 10-25aastasi .  \n",
       "6                                                                                                                     Nüüd tundub , et mind kuulavad nii 5 - kui ka 55aastased . ”  \n",
       "7                                                                                                                   “ Kuulsus tabas mind kui hunnik telliskive , ” räägib Eminem .  \n",
       "8                                                                               “ Mind tiriti igas suunas - kaks kontserti päevas , pidevad turneed , lugematud raadiointervjuud .  \n",
       "9                                                                                            Ma sattusin uimastite võrku , kaklesin , tegin asju , mida ma poleks pidanud tegema .  "
      ]
     },
     "execution_count": 7,
     "metadata": {},
     "output_type": "execute_result"
    }
   ],
   "source": [
    "df.head(10)"
   ]
  },
  {
   "cell_type": "code",
   "execution_count": null,
   "id": "a6e69445",
   "metadata": {},
   "outputs": [],
   "source": []
  }
 ],
 "metadata": {
  "kernelspec": {
   "display_name": "Python 3",
   "language": "python",
   "name": "python3"
  },
  "language_info": {
   "codemirror_mode": {
    "name": "ipython",
    "version": 3
   },
   "file_extension": ".py",
   "mimetype": "text/x-python",
   "name": "python",
   "nbconvert_exporter": "python",
   "pygments_lexer": "ipython3",
   "version": "3.7.7"
  }
 },
 "nbformat": 4,
 "nbformat_minor": 5
}
