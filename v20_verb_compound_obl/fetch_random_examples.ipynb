{
 "cells": [
  {
   "cell_type": "markdown",
   "id": "e77ae15e-6965-4b8c-95b9-7fcaf376ab2a",
   "metadata": {},
   "source": [
    "# Extract random examples"
   ]
  },
  {
   "cell_type": "markdown",
   "id": "2b77d4b8-c262-4da7-8d71-88cd92d8e70b",
   "metadata": {
    "tags": []
   },
   "source": [
    "## Make base table for all examples"
   ]
  },
  {
   "cell_type": "markdown",
   "id": "0cb2aad8-7667-42d4-8733-6f8b022b3371",
   "metadata": {},
   "source": [
    "1. Fetch collocations table to df\n",
    "2. Group by verb - compound - case, concat ids to array\n",
    "3. iterate over grouped table, shuffle ids and fetch ids from 10 examples with different lemmas"
   ]
  },
  {
   "cell_type": "code",
   "execution_count": 3,
   "id": "5c4034c6-ac78-4a0d-a159-e4e32cec7717",
   "metadata": {},
   "outputs": [
    {
     "name": "stdout",
     "output_type": "stream",
     "text": [
      "The autoreload extension is already loaded. To reload it, use:\n",
      "  %reload_ext autoreload\n"
     ]
    }
   ],
   "source": [
    "%load_ext autoreload\n",
    "%autoreload 2\n",
    "\n",
    "import pandas as pd\n",
    "import sqlite3\n",
    "import random\n",
    "import json\n",
    "from datetime import datetime\n",
    "date_time = datetime.now().strftime(\"%Y%m%d-%H%M%S\")\n"
   ]
  },
  {
   "cell_type": "code",
   "execution_count": 4,
   "id": "e2f20fd0-48fd-4b13-8a9d-85edff6a4a39",
   "metadata": {},
   "outputs": [],
   "source": [
    "#db_file_name = 'v20_koondkorpus_sentences_test_5000_sg_thread_verb_compound_obl_collocations_20230609-112139.db'\n",
    "#collection_name = 'koondkorpus_sentences_test_5000_sg_thread'\n",
    "\n",
    "db_file_name = 'v20_koondkorpus_sentences_verb_compound_obl_collocations_20230609-115059.db'\n",
    "collection_name = 'koondkorpus_sentences'"
   ]
  },
  {
   "cell_type": "code",
   "execution_count": 5,
   "id": "52436822-9d10-4c3d-9bdb-c3e62f98508a",
   "metadata": {},
   "outputs": [],
   "source": [
    "connection = sqlite3.connect(db_file_name)\n",
    "connection.row_factory = sqlite3.Row \n",
    "cursor = connection.cursor()"
   ]
  },
  {
   "cell_type": "code",
   "execution_count": 6,
   "id": "aecc7e8d-8418-4cc8-90ca-c672c5ee3bd5",
   "metadata": {},
   "outputs": [
    {
     "data": {
      "text/plain": [
       "(150414, 5)"
      ]
     },
     "metadata": {},
     "output_type": "display_data"
    },
    {
     "data": {
      "text/html": [
       "<div>\n",
       "<style scoped>\n",
       "    .dataframe tbody tr th:only-of-type {\n",
       "        vertical-align: middle;\n",
       "    }\n",
       "\n",
       "    .dataframe tbody tr th {\n",
       "        vertical-align: top;\n",
       "    }\n",
       "\n",
       "    .dataframe thead th {\n",
       "        text-align: right;\n",
       "    }\n",
       "</style>\n",
       "<table border=\"1\" class=\"dataframe\">\n",
       "  <thead>\n",
       "    <tr style=\"text-align: right;\">\n",
       "      <th></th>\n",
       "      <th>verb</th>\n",
       "      <th>verb_compound</th>\n",
       "      <th>obl_case</th>\n",
       "      <th>row_ids</th>\n",
       "      <th>total</th>\n",
       "    </tr>\n",
       "  </thead>\n",
       "  <tbody>\n",
       "    <tr>\n",
       "      <th>0</th>\n",
       "      <td>01algama</td>\n",
       "      <td></td>\n",
       "      <td>&lt;käändumatu&gt;</td>\n",
       "      <td>3308457</td>\n",
       "      <td>1</td>\n",
       "    </tr>\n",
       "    <tr>\n",
       "      <th>1</th>\n",
       "      <td>01algama</td>\n",
       "      <td></td>\n",
       "      <td>gen</td>\n",
       "      <td>3308456</td>\n",
       "      <td>1</td>\n",
       "    </tr>\n",
       "    <tr>\n",
       "      <th>2</th>\n",
       "      <td>01surema</td>\n",
       "      <td></td>\n",
       "      <td>&lt;käändumatu&gt;</td>\n",
       "      <td>3677158</td>\n",
       "      <td>1</td>\n",
       "    </tr>\n",
       "  </tbody>\n",
       "</table>\n",
       "</div>"
      ],
      "text/plain": [
       "       verb verb_compound      obl_case  row_ids  total\n",
       "0  01algama                <käändumatu>  3308457      1\n",
       "1  01algama                         gen  3308456      1\n",
       "2  01surema                <käändumatu>  3677158      1"
      ]
     },
     "metadata": {},
     "output_type": "display_data"
    },
    {
     "name": "stdout",
     "output_type": "stream",
     "text": [
      "CPU times: user 9.04 s, sys: 7.16 s, total: 16.2 s\n",
      "Wall time: 28.6 s\n"
     ]
    }
   ],
   "source": [
    "%%time \n",
    "# andmebaasist andmete pärimine pandas dataframe objekti \n",
    "# andmebaasist andmete pärimine ja kuvamine\n",
    "\n",
    "df = pd.read_sql_query(\"\"\"\n",
    "SELECT col.verb, col.verb_compound, col.obl_case, group_concat( col.id ) as row_ids, sum(`count`) as total\n",
    "FROM verb_compound_obl AS col\n",
    "GROUP BY col.verb, col.verb_compound, col.obl_case\n",
    "ORDER BY verb, verb_compound, obl_case\"\"\", connection)\n",
    "\n",
    "display(df.shape)\n",
    "display(df.head(3))\n"
   ]
  },
  {
   "cell_type": "code",
   "execution_count": 7,
   "id": "b5f82b6e-063d-4283-9420-80750a8d1301",
   "metadata": {},
   "outputs": [],
   "source": [
    "df.to_csv(f'{date_time}_base_for_example_queries.csv', index=None)\n"
   ]
  },
  {
   "cell_type": "markdown",
   "id": "f664cf06-861e-4aca-811e-f8b5d6d21e0d",
   "metadata": {},
   "source": [
    "## Get examples row_ids of max 10 different lemmas"
   ]
  },
  {
   "cell_type": "code",
   "execution_count": 8,
   "id": "ebba0c94-96a8-454e-9827-28912bc65789",
   "metadata": {},
   "outputs": [
    {
     "data": {
      "text/html": [
       "<div>\n",
       "<style scoped>\n",
       "    .dataframe tbody tr th:only-of-type {\n",
       "        vertical-align: middle;\n",
       "    }\n",
       "\n",
       "    .dataframe tbody tr th {\n",
       "        vertical-align: top;\n",
       "    }\n",
       "\n",
       "    .dataframe thead th {\n",
       "        text-align: right;\n",
       "    }\n",
       "</style>\n",
       "<table border=\"1\" class=\"dataframe\">\n",
       "  <thead>\n",
       "    <tr style=\"text-align: right;\">\n",
       "      <th></th>\n",
       "      <th>verb</th>\n",
       "      <th>verb_compound</th>\n",
       "      <th>obl_case</th>\n",
       "      <th>row_ids</th>\n",
       "      <th>total</th>\n",
       "    </tr>\n",
       "  </thead>\n",
       "  <tbody>\n",
       "    <tr>\n",
       "      <th>0</th>\n",
       "      <td>01algama</td>\n",
       "      <td>NaN</td>\n",
       "      <td>&lt;käändumatu&gt;</td>\n",
       "      <td>3308457</td>\n",
       "      <td>1</td>\n",
       "    </tr>\n",
       "  </tbody>\n",
       "</table>\n",
       "</div>"
      ],
      "text/plain": [
       "       verb verb_compound      obl_case  row_ids  total\n",
       "0  01algama           NaN  <käändumatu>  3308457      1"
      ]
     },
     "execution_count": 8,
     "metadata": {},
     "output_type": "execute_result"
    }
   ],
   "source": [
    "df2 = pd.read_csv(f'{date_time}_base_for_example_queries.csv')\n",
    "df2.head(1)"
   ]
  },
  {
   "cell_type": "code",
   "execution_count": 11,
   "id": "cd2dda86-9212-4116-a5c8-10f304836024",
   "metadata": {
    "tags": []
   },
   "outputs": [
    {
     "data": {
      "text/html": [
       "<div>\n",
       "<style scoped>\n",
       "    .dataframe tbody tr th:only-of-type {\n",
       "        vertical-align: middle;\n",
       "    }\n",
       "\n",
       "    .dataframe tbody tr th {\n",
       "        vertical-align: top;\n",
       "    }\n",
       "\n",
       "    .dataframe thead th {\n",
       "        text-align: right;\n",
       "    }\n",
       "</style>\n",
       "<table border=\"1\" class=\"dataframe\">\n",
       "  <thead>\n",
       "    <tr style=\"text-align: right;\">\n",
       "      <th></th>\n",
       "      <th>verb</th>\n",
       "      <th>verb_compound</th>\n",
       "      <th>obl_case</th>\n",
       "      <th>row_ids</th>\n",
       "      <th>total</th>\n",
       "      <th>random_example</th>\n",
       "    </tr>\n",
       "  </thead>\n",
       "  <tbody>\n",
       "    <tr>\n",
       "      <th>0</th>\n",
       "      <td>01algama</td>\n",
       "      <td>NaN</td>\n",
       "      <td>&lt;käändumatu&gt;</td>\n",
       "      <td>3308457</td>\n",
       "      <td>1</td>\n",
       "      <td>3308457</td>\n",
       "    </tr>\n",
       "    <tr>\n",
       "      <th>1</th>\n",
       "      <td>01algama</td>\n",
       "      <td>NaN</td>\n",
       "      <td>gen</td>\n",
       "      <td>3308456</td>\n",
       "      <td>1</td>\n",
       "      <td>3308456</td>\n",
       "    </tr>\n",
       "    <tr>\n",
       "      <th>2</th>\n",
       "      <td>01surema</td>\n",
       "      <td>NaN</td>\n",
       "      <td>&lt;käändumatu&gt;</td>\n",
       "      <td>3677158</td>\n",
       "      <td>1</td>\n",
       "      <td>3677158</td>\n",
       "    </tr>\n",
       "  </tbody>\n",
       "</table>\n",
       "</div>"
      ],
      "text/plain": [
       "       verb verb_compound      obl_case  row_ids  total random_example\n",
       "0  01algama           NaN  <käändumatu>  3308457      1        3308457\n",
       "1  01algama           NaN           gen  3308456      1        3308456\n",
       "2  01surema           NaN  <käändumatu>  3677158      1        3677158"
      ]
     },
     "metadata": {},
     "output_type": "display_data"
    },
    {
     "data": {
      "text/plain": [
       "(548607, 6)"
      ]
     },
     "metadata": {},
     "output_type": "display_data"
    },
    {
     "name": "stdout",
     "output_type": "stream",
     "text": [
      "CPU times: user 14.9 s, sys: 522 ms, total: 15.5 s\n",
      "Wall time: 16.1 s\n"
     ]
    }
   ],
   "source": [
    "%%time \n",
    "# TODO! siin peab tegelikult võtma kuni 10\n",
    "dict_with_examples = []\n",
    "columns = df2.columns\n",
    "#df['random_example'] = ''\n",
    "for i in range(df2.shape[0]):\n",
    "    row = {}\n",
    "    for c in columns:\n",
    "        row[c] = df2[c][i]\n",
    "    examples = df2['row_ids'][i].split(',')\n",
    "    random.shuffle(examples)\n",
    "    for exmp in examples[:10]:\n",
    "        row2 = row.copy()\n",
    "        row2['random_example'] = exmp\n",
    "        dict_with_examples.append(row2)\n",
    "df_examples = pd.DataFrame.from_dict(dict_with_examples)\n",
    "display(df_examples.head(3))\n",
    "display(df_examples.shape)\n",
    "df_examples.to_csv(f'{date_time}_base_for_example_queries2.csv', index=None)"
   ]
  },
  {
   "cell_type": "markdown",
   "id": "46612842-227b-4e1b-a894-8a5d4a6541a3",
   "metadata": {},
   "source": [
    "## Get random sentence ids of examples (runs ca 7 min for 550 000 rows)"
   ]
  },
  {
   "cell_type": "code",
   "execution_count": 12,
   "id": "5a6b9ac2-8ed9-4102-84b4-5abc1df5e0b6",
   "metadata": {},
   "outputs": [
    {
     "data": {
      "text/html": [
       "<div>\n",
       "<style scoped>\n",
       "    .dataframe tbody tr th:only-of-type {\n",
       "        vertical-align: middle;\n",
       "    }\n",
       "\n",
       "    .dataframe tbody tr th {\n",
       "        vertical-align: top;\n",
       "    }\n",
       "\n",
       "    .dataframe thead th {\n",
       "        text-align: right;\n",
       "    }\n",
       "</style>\n",
       "<table border=\"1\" class=\"dataframe\">\n",
       "  <thead>\n",
       "    <tr style=\"text-align: right;\">\n",
       "      <th></th>\n",
       "      <th>verb</th>\n",
       "      <th>verb_compound</th>\n",
       "      <th>obl_case</th>\n",
       "      <th>row_ids</th>\n",
       "      <th>total</th>\n",
       "      <th>random_example</th>\n",
       "    </tr>\n",
       "  </thead>\n",
       "  <tbody>\n",
       "    <tr>\n",
       "      <th>0</th>\n",
       "      <td>01algama</td>\n",
       "      <td>NaN</td>\n",
       "      <td>&lt;käändumatu&gt;</td>\n",
       "      <td>3308457</td>\n",
       "      <td>1</td>\n",
       "      <td>3308457</td>\n",
       "    </tr>\n",
       "    <tr>\n",
       "      <th>1</th>\n",
       "      <td>01algama</td>\n",
       "      <td>NaN</td>\n",
       "      <td>gen</td>\n",
       "      <td>3308456</td>\n",
       "      <td>1</td>\n",
       "      <td>3308456</td>\n",
       "    </tr>\n",
       "  </tbody>\n",
       "</table>\n",
       "</div>"
      ],
      "text/plain": [
       "       verb verb_compound      obl_case  row_ids  total  random_example\n",
       "0  01algama           NaN  <käändumatu>  3308457      1         3308457\n",
       "1  01algama           NaN           gen  3308456      1         3308456"
      ]
     },
     "metadata": {},
     "output_type": "display_data"
    }
   ],
   "source": [
    "df_sentences = pd.read_csv(f'{date_time}_base_for_example_queries2.csv')\n",
    "display(df_sentences.head(2))"
   ]
  },
  {
   "cell_type": "code",
   "execution_count": 13,
   "id": "9e5e0dae-0447-4a2d-a47e-794e18326e0b",
   "metadata": {
    "tags": []
   },
   "outputs": [
    {
     "name": "stdout",
     "output_type": "stream",
     "text": [
      "CPU times: user 4min 40s, sys: 29.1 s, total: 5min 9s\n",
      "Wall time: 6min 33s\n"
     ]
    }
   ],
   "source": [
    "%%time\n",
    "\n",
    "# 1 query is made for each row in base_for_example_queries.csv\n",
    "\n",
    "# query from sqlite\n",
    "query_one_random = \"\"\"SELECT verb_compound_obl_examples.*, random() as order_by\n",
    "FROM \n",
    "verb_compound_obl_examples \n",
    "WHERE row_id = %i\n",
    "ORDER BY order_by\n",
    "LIMIT 1 \n",
    "\"\"\"\n",
    "\n",
    "keys = ('sentence_id', 'root_id', 'verb_id', 'compound_ids', 'obl_ids')\n",
    "for k in keys:\n",
    "    df_sentences[k] = ''\n",
    "\n",
    "for i in range(df_sentences.shape[0]):\n",
    "    cursor.execute(query_one_random % int(df_sentences['random_example'][i]))\n",
    "    res = cursor.fetchone()\n",
    "    for k in keys:\n",
    "        df_sentences.loc[i, k] = res[k]\n",
    "\n",
    "df_sentences.to_csv(f'{date_time}_base_for_example_sentence_ids.csv', index=None)   "
   ]
  },
  {
   "cell_type": "markdown",
   "id": "1c24d95d-a035-490d-8f4f-ecd6b0a25476",
   "metadata": {},
   "source": [
    "## Fetch sentence data from postgres db and make df with examples"
   ]
  },
  {
   "cell_type": "code",
   "execution_count": 14,
   "id": "e62d4f62-a101-43ac-b3a9-8fc456d6bd7f",
   "metadata": {
    "tags": []
   },
   "outputs": [
    {
     "data": {
      "text/plain": [
       "466735"
      ]
     },
     "execution_count": 14,
     "metadata": {},
     "output_type": "execute_result"
    }
   ],
   "source": [
    "df_final = pd.read_csv(f'{date_time}_base_for_example_sentence_ids.csv')\n",
    "df_final.fillna('')\n",
    "\n",
    "# make sentences_uniq list\n",
    "sentence_ids = [int(id) for id in list(df_final['sentence_id'].unique())]\n",
    "\n",
    "#total number of sentences to fetch and cache in sentences_dict\n",
    "len(sentence_ids)\n"
   ]
  },
  {
   "cell_type": "code",
   "execution_count": 21,
   "id": "280c5526-5288-440d-acc4-147ca3bd2ad7",
   "metadata": {},
   "outputs": [
    {
     "name": "stdout",
     "output_type": "stream",
     "text": [
      "INFO:storage.py:41: connecting to host: 'postgres.keeleressursid.ee', port: '5432', dbname: 'estonian-text-corpora', user: 'zummy'\n",
      "INFO:storage.py:58: schema: 'estonian_text_corpora', temporary: False, role: 'estonian_text_corpora_read'\n"
     ]
    },
    {
     "name": "stderr",
     "output_type": "stream",
     "text": [
      "collection_id: 159732: 100%|########################################################################################################################################| 29010/29010 [04:27<00:00, 108.31doc/s]"
     ]
    },
    {
     "name": "stdout",
     "output_type": "stream",
     "text": [
      "CPU times: user 1min 43s, sys: 8.88 s, total: 1min 52s\n",
      "Wall time: 4min 30s\n"
     ]
    },
    {
     "name": "stderr",
     "output_type": "stream",
     "text": [
      "\n"
     ]
    }
   ],
   "source": [
    "%%time\n",
    "# Fetching sentences from database (ca 500 000)\n",
    "\n",
    "sentences_dict = {}\n",
    "from data_helpers.syntax_graph import SyntaxGraph\n",
    "\n",
    "from data_helpers.db_reader import DbReader\n",
    "\n",
    "\n",
    "\n",
    "my_db_reader = DbReader(pgpass_file='~/.pgpass',\\\n",
    "                          schema='estonian_text_corpora',\\\n",
    "                          role='estonian_text_corpora_read',\\\n",
    "                          temporary=False,\\\n",
    "                          collection_name=collection_name)\n",
    "my_db_reader.set_layers(['v172_stanza_syntax'])\n",
    "\n",
    "for collection_id, text in my_db_reader.get_collections(shuffle=False, progressbar='ascii', col_ids=sentence_ids):\n",
    "    sentences_dict[collection_id] = text\n",
    "\n"
   ]
  },
  {
   "cell_type": "code",
   "execution_count": null,
   "id": "e0ee3f7d-0ef8-438e-85db-8431738f0e65",
   "metadata": {
    "tags": []
   },
   "outputs": [],
   "source": [
    "# \n",
    "df_final.astype({'compound_ids': 'str', 'compound_ids': 'str'}).dtypes\n",
    "df_final = df_final.fillna('')\n",
    "df_final['verb_span'] = ''\n",
    "df_final['obl_span'] = ''\n",
    "df_final['obl_lemma'] = ''\n",
    "df_final['sentence'] = ''\n",
    "\n",
    "def get_span(graph, nodes, label):\n",
    "    spans = get_spans(graph, nodes, label)\n",
    "    if len(spans) == 1:\n",
    "        return spans[0]\n",
    "    return spans\n",
    "\n",
    "def get_spans(graph, nodes, label):\n",
    "    spans = []\n",
    "    for n in nodes:\n",
    "        spans.append({\n",
    "            'start':graph.nodes[n]['start'],\n",
    "            'end':graph.nodes[n]['end'],\n",
    "            'text': graph.nodes[n]['form'],\n",
    "            'labels': [label]})\n",
    "    \n",
    "    return spans\n",
    "\n",
    "\n",
    "for i in range(df_final.shape[0]):\n",
    "    sentence_id = df_final['sentence_id'][i]\n",
    "    verb_id = int(df_final['verb_id'][i])\n",
    "    obl_root = int(df_final['root_id'][i])\n",
    "    \n",
    "    compound_ids = [ int(n) for n in  df_final['compound_ids'][i].split(',') if n.isdigit()]\n",
    "    obl_ids = [ int(n) for n in  df_final['obl_ids'][i].split(',') if n.isdigit()]\n",
    "    text = sentences_dict[sentence_id].text;\n",
    "\n",
    "\n",
    "    g = SyntaxGraph(sentences_dict[sentence_id]['v172_stanza_syntax'])\n",
    "    \n",
    "    df_final.loc[i, 'obl_lemma'] = g.nodes[obl_root]['lemma']\n",
    "    \n",
    "    # g.draw_graph(highlight=[verb_id])\n",
    "    \n",
    "    df_final.loc[i, 'sentence'] = str(text)\n",
    "    # print(collection_id, text)\n",
    "    \n",
    "    df_final.loc[i, 'verb_span'] = json.dumps(get_span(g, [verb_id], 'V'), ensure_ascii=False)\n",
    "    df_final.loc[i, 'obl_span'] = json.dumps(get_span(g, [obl_root], 'OBL'), ensure_ascii=False)\n",
    "    df_final.loc[i, 'compound_spans'] = json.dumps(get_spans(g, compound_ids, 'COMPOUND'), ensure_ascii=False)\n",
    "    df_final.loc[i, 'oblp_spans'] = json.dumps(get_spans(g, obl_ids, 'OBLP'), ensure_ascii=False)\n",
    "    \n"
   ]
  },
  {
   "cell_type": "code",
   "execution_count": null,
   "id": "473760a1-3515-4b48-a70a-fe34ce5b2cfa",
   "metadata": {},
   "outputs": [],
   "source": [
    "df_result = df_final.copy()\n",
    "del df_result['obl_ids']\n",
    "del df_result['row_ids']\n",
    "#del df_result['random_example']\n",
    "del df_result['compound_ids']\n",
    "df_result.to_csv(f'{date_time}_verb_obl_case_lemma_examples_random.csv', index=False)\n",
    "\n"
   ]
  },
  {
   "cell_type": "code",
   "execution_count": 15,
   "id": "0b9ba034-60b9-4df7-b39a-263e6d01460c",
   "metadata": {},
   "outputs": [
    {
     "ename": "NameError",
     "evalue": "name 'df_result' is not defined",
     "output_type": "error",
     "traceback": [
      "\u001b[0;31m---------------------------------------------------------------------------\u001b[0m",
      "\u001b[0;31mNameError\u001b[0m                                 Traceback (most recent call last)",
      "Cell \u001b[0;32mIn[15], line 1\u001b[0m\n\u001b[0;32m----> 1\u001b[0m \u001b[43mdf_result\u001b[49m\u001b[38;5;241m.\u001b[39mhead()\n",
      "\u001b[0;31mNameError\u001b[0m: name 'df_result' is not defined"
     ]
    }
   ],
   "source": [
    "df_result.head()"
   ]
  },
  {
   "cell_type": "code",
   "execution_count": null,
   "id": "36c2ee20-01eb-4e17-8ae8-7a5c34f972d0",
   "metadata": {},
   "outputs": [],
   "source": []
  }
 ],
 "metadata": {
  "kernelspec": {
   "display_name": "Python 3",
   "language": "python",
   "name": "python3"
  },
  "language_info": {
   "codemirror_mode": {
    "name": "ipython",
    "version": 3
   },
   "file_extension": ".py",
   "mimetype": "text/x-python",
   "name": "python",
   "nbconvert_exporter": "python",
   "pygments_lexer": "ipython3",
   "version": "3.7.7"
  }
 },
 "nbformat": 4,
 "nbformat_minor": 5
}
