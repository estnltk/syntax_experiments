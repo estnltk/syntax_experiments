{
 "cells": [
  {
   "cell_type": "markdown",
   "id": "60a490ec",
   "metadata": {},
   "source": [
    "#  SyntaxCutter kasutusnäited"
   ]
  },
  {
   "cell_type": "markdown",
   "id": "d35a4165",
   "metadata": {},
   "source": [
    "##  Stanza "
   ]
  },
  {
   "cell_type": "code",
   "execution_count": 1,
   "id": "e61d7677",
   "metadata": {},
   "outputs": [],
   "source": [
    "# Stanza tagger\n",
    "\n",
    "import stanza\n",
    "from estnltk.taggers.syntax.stanza_tagger.stanza_tagger import StanzaSyntaxTagger\n",
    "\n",
    "#model_path = \".../estnltk-version_1.6/estnltk/taggers/syntax/stanza_tagger/stanza_resources\"\n",
    "model_path = '/Users/rabauti/stanza-models/stanza_recources'\n",
    "input_type=\"morph_extended\"\n",
    "stanza_tagger = StanzaSyntaxTagger(input_type=input_type, input_morph_layer=input_type, add_parent_and_children=True, resources_path=model_path)\n",
    "\n",
    "\n",
    "# SyntaxCutter\n",
    "from syntaxCutter.cutter import deprelCutter\n"
   ]
  },
  {
   "cell_type": "markdown",
   "id": "f7e440b8",
   "metadata": {},
   "source": [
    "## Conllu failid "
   ]
  },
  {
   "cell_type": "code",
   "execution_count": null,
   "id": "b7537db4",
   "metadata": {},
   "outputs": [],
   "source": [
    "#conllu reader\n",
    "from syntaxCutter.readerСonllu import reader\n",
    "\n",
    "#kataloog conllu failidega\n",
    "conllu_folder ='/Users/rabauti/Downloads/conllu_small'\n",
    "\n",
    "oReader = reader.Reader(path=conllu_folder)\n",
    "\n",
    "oCutter = deprelCutter.Cutter(stanza_tagger=stanza_tagger, Reader=oReader)\n",
    "oCutter.cut(deprel='acl:relcl')\n"
   ]
  },
  {
   "cell_type": "markdown",
   "id": "26bd6d31",
   "metadata": {},
   "source": [
    "## Andmebaasist "
   ]
  },
  {
   "cell_type": "code",
   "execution_count": null,
   "id": "11d2e6bd",
   "metadata": {
    "scrolled": false
   },
   "outputs": [],
   "source": [
    "from syntaxCutter.readerDB import reader\n",
    "\n",
    "oReader = reader.Reader(pgpass_file='~/.pgpass',\\\n",
    "                          schema='estonian_text_corpora',\\\n",
    "                          role='estonian_text_corpora_read',\\\n",
    "                          temporary=False,\\\n",
    "                          collectionName='koondkorpus_base_subset_of_5000_v2')\n",
    "\n",
    "oCutter = deprelCutter.Cutter(stanza_tagger=stanza_tagger, Reader=oReader)\n",
    "\n",
    "oCutter.cut(deprel='acl:relcl')"
   ]
  },
  {
   "cell_type": "markdown",
   "id": "2dced2f6",
   "metadata": {},
   "source": [
    "## TSV failist"
   ]
  },
  {
   "cell_type": "markdown",
   "id": "b28043c8",
   "metadata": {},
   "source": [
    "Faili formaat: https://github.com/estnltk/estnltk-model-training/blob/main/collocation_net/data_extraction/from_tsv/collect_texts_db_tsv.ipynb\n",
    "\n"
   ]
  },
  {
   "cell_type": "code",
   "execution_count": 2,
   "id": "185d2c7f",
   "metadata": {},
   "outputs": [
    {
     "name": "stderr",
     "output_type": "stream",
     "text": [
      "2022-08-15 11:04:51,899 - Cutter - INFO - Start cutting deprel: acl\n",
      "2022-08-15 11:04:51,903 - Reader - INFO - Reading sentences in progress.\n"
     ]
    },
    {
     "data": {
      "application/vnd.jupyter.widget-view+json": {
       "model_id": "ec9ef73f532c4b54b063f173bf5a2282",
       "version_major": 2,
       "version_minor": 0
      },
      "text/plain": [
       "HBox(children=(FloatProgress(value=0.0, description='TSV lines', max=2105386.0, style=ProgressStyle(descriptio…"
      ]
     },
     "metadata": {},
     "output_type": "display_data"
    },
    {
     "name": "stderr",
     "output_type": "stream",
     "text": [
      "2022-08-15 12:38:16,572 - Reader - INFO - Reading sentences done.\n",
      "2022-08-15 12:38:16,577 - Cutter - INFO - Done cutting deprel  acl .\n",
      "2022-08-15 12:38:16,578 - Cutter - INFO - Stats stored in ./result/acl_20220815-110451/stats.tsv .\n"
     ]
    },
    {
     "name": "stdout",
     "output_type": "stream",
     "text": [
      "\n"
     ]
    }
   ],
   "source": [
    "from syntaxCutter.readerTSV import reader\n",
    "\n",
    "#subset 5000 TSVfile\n",
    "TSV_path = '/Users/rabauti/repos/estnltk-model-training/collocation_net/data_extraction/from_tsv/koondkorpus_base_subset_of_5000_v2.tsv'\n",
    "#full koondkorpus file\n",
    "TSV_path = '/Volumes/Selena/Kollokatsioonid/koondkorpus/koondkorpus_base_v2_20220216.tsv'\n",
    "oReader = reader.Reader(file=TSV_path)\n",
    "oCutter = deprelCutter.Cutter(stanza_tagger=stanza_tagger, Reader=oReader)\n",
    "oCutter.cut(deprel='acl')"
   ]
  },
  {
   "cell_type": "markdown",
   "id": "938cd882",
   "metadata": {},
   "source": [
    "## Kohandamine"
   ]
  },
  {
   "cell_type": "code",
   "execution_count": null,
   "id": "eecf7031",
   "metadata": {},
   "outputs": [],
   "source": [
    "# Filtreerib korpusest välja ainult hüüumärgiga lõppevad laused. (esialgse morf märgenduse põhjal) \n",
    "# Teeb määratud Stanza mudeliga uue analüüsi.\n",
    "# Ignoreerib lauseid, milles on \"conj\" märgendiga sõnad.\n",
    "# Lõikab välja deprel = 'nmod' tipud\n",
    "# Teeb lühendatud lausele uuesti Stanza mudeliga analüüsi\n",
    "# Salvestab konserveerunud laused, muutunud laused, laused, millest polnud midagi eemaldada \n",
    "# Salvestab üldise statistika\n",
    "\n",
    "\n",
    "from syntaxCutter.sentence import sentence\n",
    "class myCustomCutter(deprelCutter.Cutter):\n",
    "\n",
    "    # funktsioon, kas esialgse süntaksiga lauset filtreerida välja või mitte\n",
    "    # True puhul lauset ignoreeritakse\n",
    "    def pre_filter(self, G, deprel):\n",
    "        #ignoreeri kõiki lauseid, mis ei lõpe hüüumärgiga\n",
    "        return not (sentence.Sentence.get_prop(G, 'lemma'))[-1:][0] == '!'\n",
    "        \n",
    "\n",
    "    # funktsioon, kas defineeritud Stanza mudeliga üle analüüsitud lauset filtreerida välja või mitte\n",
    "    # True puhul lauset ignoreeritakse\n",
    "    def filter(self, G, deprel):\n",
    "        #ignoreeri kõiki lauseid, kus on sees sidesõna\n",
    "        return  'conj' in sentence.Sentence.get_prop(G, 'deprel')\n",
    "        #return False\n",
    "\n",
    "    #oma funktsioon tippude eemaldamiseks\n",
    "    def cutSentence(self, G, deprel):\n",
    "        return sentence.Sentence.remove_deprel(G, 'nmod')\n",
    "\n",
    "TSV_path = '/Users/rabauti/repos/estnltk-model-training/collocation_net/data_extraction/from_tsv/koondkorpus_base_subset_of_5000_v2.tsv'\n",
    "oReader = reader.Reader(file=TSV_path)\n",
    "\n",
    "oCutter = myCustomCutter(stanza_tagger=stanza_tagger, Reader=oReader)\n",
    "\n",
    "oCutter.cut(deprel='mycustomcut')\n"
   ]
  },
  {
   "cell_type": "markdown",
   "id": "13935782",
   "metadata": {},
   "source": [
    "## TSV fail\n",
    "\n",
    "Kood TSV faili genereerimiseks asub siin:\n",
    "\n",
    "https://github.com/estnltk/estnltk-model-training/blob/main/collocation_net/data_extraction/from_tsv/collect_texts_db_tsv.ipynb\n"
   ]
  }
 ],
 "metadata": {
  "kernelspec": {
   "display_name": "Python 3",
   "language": "python",
   "name": "python3"
  },
  "language_info": {
   "codemirror_mode": {
    "name": "ipython",
    "version": 3
   },
   "file_extension": ".py",
   "mimetype": "text/x-python",
   "name": "python",
   "nbconvert_exporter": "python",
   "pygments_lexer": "ipython3",
   "version": "3.7.7"
  }
 },
 "nbformat": 4,
 "nbformat_minor": 5
}
