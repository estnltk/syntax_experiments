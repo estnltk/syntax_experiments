{
 "cells": [
  {
   "cell_type": "markdown",
   "id": "60a490ec",
   "metadata": {},
   "source": [
    "#  SyntaxCutter kasutusnäited"
   ]
  },
  {
   "cell_type": "markdown",
   "id": "d35a4165",
   "metadata": {},
   "source": [
    "##  Stanza "
   ]
  },
  {
   "cell_type": "code",
   "execution_count": 1,
   "id": "e61d7677",
   "metadata": {},
   "outputs": [],
   "source": [
    "# Stanza tagger\n",
    "\n",
    "import stanza\n",
    "from estnltk.taggers.syntax.stanza_tagger.stanza_tagger import StanzaSyntaxTagger\n",
    "\n",
    "#model_path = \".../estnltk-version_1.6/estnltk/taggers/syntax/stanza_tagger/stanza_resources\"\n",
    "model_path = '/Users/rabauti/stanza-models/stanza_recources'\n",
    "input_type=\"morph_extended\"\n",
    "stanza_tagger = StanzaSyntaxTagger(input_type=input_type, input_morph_layer=input_type, add_parent_and_children=True, resources_path=model_path)\n",
    "\n",
    "\n",
    "# SyntaxCutter\n",
    "from syntaxCutter.cutter import deprelCutter\n"
   ]
  },
  {
   "cell_type": "markdown",
   "id": "f7e440b8",
   "metadata": {},
   "source": [
    "## Conllu failid "
   ]
  },
  {
   "cell_type": "code",
   "execution_count": 2,
   "id": "b7537db4",
   "metadata": {},
   "outputs": [
    {
     "name": "stderr",
     "output_type": "stream",
     "text": [
      "2022-07-07 20:49:54,367 - Cutter - INFO - Start cutting deprel: acl:relcl\n"
     ]
    },
    {
     "data": {
      "application/vnd.jupyter.widget-view+json": {
       "model_id": "ca9da61ca77b4e34a74b4f1b5b2696f6",
       "version_major": 2,
       "version_minor": 0
      },
      "text/plain": [
       "HBox(children=(FloatProgress(value=0.0, description='Conllu files', max=21.0, style=ProgressStyle(description_…"
      ]
     },
     "metadata": {},
     "output_type": "display_data"
    },
    {
     "name": "stderr",
     "output_type": "stream",
     "text": [
      "2022-07-07 20:50:05,870 - Cutter - INFO - Done cutting deprel  acl:relcl .\n",
      "2022-07-07 20:50:05,871 - Cutter - INFO - Stats stored in ./result/aclrelcl_20220707-204954/stats.tsv .\n"
     ]
    },
    {
     "name": "stdout",
     "output_type": "stream",
     "text": [
      "\n"
     ]
    }
   ],
   "source": [
    "#conllu reader\n",
    "from syntaxCutter.readerСonllu import reader\n",
    "\n",
    "#kataloog conllu failidega\n",
    "conllu_folder ='/Users/rabauti/Downloads/conllu_small'\n",
    "\n",
    "oReader = reader.Reader(path=conllu_folder)\n",
    "\n",
    "oCutter = deprelCutter.Cutter(stanza_tagger=stanza_tagger, Reader=oReader)\n",
    "oCutter.cut(deprel='acl:relcl')\n"
   ]
  },
  {
   "cell_type": "markdown",
   "id": "26bd6d31",
   "metadata": {},
   "source": [
    "## Andmebaasist "
   ]
  },
  {
   "cell_type": "code",
   "execution_count": 8,
   "id": "11d2e6bd",
   "metadata": {},
   "outputs": [
    {
     "name": "stdout",
     "output_type": "stream",
     "text": [
      "INFO:storage.py:42: connecting to host: 'postgres.keeleressursid.ee', port: '5432', dbname: 'estonian-text-corpora', user: 'zummy'\n",
      "INFO:storage.py:58: schema: 'estonian_text_corpora', temporary: False, role: 'estonian_text_corpora_read'\n"
     ]
    },
    {
     "name": "stderr",
     "output_type": "stream",
     "text": [
      "2022-07-07 23:35:53,410 - Cutter - INFO - Start cutting deprel: acl:relcl\n",
      "collection_id: 4999: 100%|##########| 5000/5000 [59:23<00:00,  1.40doc/s]\n",
      "2022-07-08 00:35:17,502 - Cutter - INFO - Done cutting deprel  acl:relcl .\n",
      "2022-07-08 00:35:17,503 - Cutter - INFO - Stats stored in ./result/aclrelcl_20220707-233553/stats.tsv .\n"
     ]
    }
   ],
   "source": [
    "from syntaxCutter.readerDB import reader\n",
    "\n",
    "oReader = reader.Reader(pgpass_file='~/.pgpass',\\\n",
    "                          schema='estonian_text_corpora',\\\n",
    "                          role='estonian_text_corpora_read',\\\n",
    "                          temporary=False,\\\n",
    "                          collectionName='koondkorpus_base_subset_of_5000_v2')\n",
    "\n",
    "oCutter = deprelCutter.Cutter(stanza_tagger=stanza_tagger, Reader=oReader)\n",
    "\n",
    "oCutter.cut(deprel='acl:relcl')"
   ]
  },
  {
   "cell_type": "markdown",
   "id": "2dced2f6",
   "metadata": {},
   "source": [
    "## TSV failist"
   ]
  },
  {
   "cell_type": "code",
   "execution_count": 5,
   "id": "185d2c7f",
   "metadata": {},
   "outputs": [
    {
     "name": "stderr",
     "output_type": "stream",
     "text": [
      "2022-07-07 22:45:04,895 - Cutter - INFO - Start cutting deprel: acl:relcl\n",
      "2022-07-07 22:45:04,898 - Reader - INFO - Reading sentences in progress.\n"
     ]
    },
    {
     "data": {
      "application/vnd.jupyter.widget-view+json": {
       "model_id": "9a15a45722d3479888b2da85e07c2ccd",
       "version_major": 2,
       "version_minor": 0
      },
      "text/plain": [
       "HBox(children=(FloatProgress(value=0.0, description='TSV lines', max=2105386.0, style=ProgressStyle(descriptio…"
      ]
     },
     "metadata": {},
     "output_type": "display_data"
    },
    {
     "name": "stderr",
     "output_type": "stream",
     "text": [
      "2022-07-07 23:27:55,968 - Reader - INFO - Reading sentences done.\n",
      "2022-07-07 23:27:55,970 - Cutter - INFO - Done cutting deprel  acl:relcl .\n",
      "2022-07-07 23:27:55,971 - Cutter - INFO - Stats stored in ./result/aclrelcl_20220707-224504/stats.tsv .\n"
     ]
    },
    {
     "name": "stdout",
     "output_type": "stream",
     "text": [
      "\n"
     ]
    }
   ],
   "source": [
    "from syntaxCutter.readerTSV import reader\n",
    "\n",
    "TSV_path = '/Users/rabauti/repos/estnltk-model-training/collocation_net/data_extraction/from_tsv/koondkorpus_base_subset_of_5000_v2.tsv'\n",
    "oReader = reader.Reader(file=TSV_path)\n",
    "oCutter = deprelCutter.Cutter(stanza_tagger=stanza_tagger, Reader=oReader)\n",
    "oCutter.cut(deprel='acl:relcl')"
   ]
  },
  {
   "cell_type": "markdown",
   "id": "938cd882",
   "metadata": {},
   "source": [
    "## Kohandamine"
   ]
  },
  {
   "cell_type": "code",
   "execution_count": 6,
   "id": "eecf7031",
   "metadata": {},
   "outputs": [
    {
     "name": "stderr",
     "output_type": "stream",
     "text": [
      "2022-07-07 23:28:53,322 - Cutter - INFO - Start cutting deprel: mycustomcut\n",
      "2022-07-07 23:28:53,326 - Reader - INFO - Reading sentences in progress.\n"
     ]
    },
    {
     "data": {
      "application/vnd.jupyter.widget-view+json": {
       "model_id": "bb7c0b29e9d147adbde52e9f9848a772",
       "version_major": 2,
       "version_minor": 0
      },
      "text/plain": [
       "HBox(children=(FloatProgress(value=0.0, description='TSV lines', max=2105386.0, style=ProgressStyle(descriptio…"
      ]
     },
     "metadata": {},
     "output_type": "display_data"
    },
    {
     "name": "stderr",
     "output_type": "stream",
     "text": [
      "2022-07-07 23:33:55,650 - Reader - INFO - Reading sentences done.\n",
      "2022-07-07 23:33:55,653 - Cutter - INFO - Done cutting deprel  mycustomcut .\n",
      "2022-07-07 23:33:55,653 - Cutter - INFO - Stats stored in ./result/mycustomcut_20220707-232853/stats.tsv .\n"
     ]
    },
    {
     "name": "stdout",
     "output_type": "stream",
     "text": [
      "\n"
     ]
    }
   ],
   "source": [
    "# Filtreerib korpusest välja ainult hüüumärgiga lõppevad laused. (esialgse morf märgenduse põhjal) \n",
    "# Teeb määratud Stanza mudeliga uue analüüsi.\n",
    "# Ignoreerib lauseid, milles on \"conj\" märgendiga sõnad.\n",
    "# Lõikab välja deprel = 'nmod' tipud\n",
    "# Teeb lühendatud lausele uuesti Stanza mudeliga analüüsi\n",
    "# Salvestab konserveerunud laused, muutunud laused, laused, millest polnud midagi eemaldada \n",
    "# Salvestab üldise statistika\n",
    "\n",
    "\n",
    "from syntaxCutter.sentence import sentence\n",
    "class myCustomCutter(deprelCutter.Cutter):\n",
    "\n",
    "    # funktsioon, kas esialgse süntaksiga lauset filtreerida välja või mitte\n",
    "    # True puhul lauset ignoreeritakse\n",
    "    def pre_filter(self, G, deprel):\n",
    "        #ignoreeri kõiki lauseid, mis ei lõpe hüüumärgiga\n",
    "        return not (sentence.Sentence.get_prop(G, 'lemma'))[-1:][0] == '!'\n",
    "        \n",
    "\n",
    "    # funktsioon, kas defineeritud Stanza mudeliga üle analüüsitud lauset filtreerida välja või mitte\n",
    "    # True puhul lauset ignoreeritakse\n",
    "    def filter(self, G, deprel):\n",
    "        #ignoreeri kõiki lauseid, kus on sees sidesõna\n",
    "        return  'conj' in sentence.Sentence.get_prop(G, 'deprel')\n",
    "        #return False\n",
    "\n",
    "    #oma funktsioon tippude eemaldamiseks\n",
    "    def cutSentence(self, G, deprel):\n",
    "        return sentence.Sentence.remove_deprel(G, 'nmod')\n",
    "\n",
    "TSV_path = '/Users/rabauti/repos/estnltk-model-training/collocation_net/data_extraction/from_tsv/koondkorpus_base_subset_of_5000_v2.tsv'\n",
    "oReader = reader.Reader(file=TSV_path)\n",
    "\n",
    "oCutter = myCustomCutter(stanza_tagger=stanza_tagger, Reader=oReader)\n",
    "\n",
    "oCutter.cut(deprel='mycustomcut')\n"
   ]
  },
  {
   "cell_type": "markdown",
   "id": "13935782",
   "metadata": {},
   "source": [
    "## TSV fail\n",
    "\n",
    "Kood TSV faili genereerimiseks asub siin:\n",
    "\n",
    "https://github.com/estnltk/estnltk-model-training/blob/main/collocation_net/data_extraction/from_tsv/collect_texts_db_tsv.ipynb\n"
   ]
  }
 ],
 "metadata": {
  "kernelspec": {
   "display_name": "Python 3",
   "language": "python",
   "name": "python3"
  },
  "language_info": {
   "codemirror_mode": {
    "name": "ipython",
    "version": 3
   },
   "file_extension": ".py",
   "mimetype": "text/x-python",
   "name": "python",
   "nbconvert_exporter": "python",
   "pygments_lexer": "ipython3",
   "version": "3.7.7"
  }
 },
 "nbformat": 4,
 "nbformat_minor": 5
}
