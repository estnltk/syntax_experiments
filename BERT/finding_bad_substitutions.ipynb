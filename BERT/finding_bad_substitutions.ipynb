{
 "cells": [
  {
   "cell_type": "code",
   "execution_count": 11,
   "metadata": {},
   "outputs": [],
   "source": [
    "import pickle\n",
    "from estnltk import Text\n",
    "from tqdm import tqdm\n",
    "from collections import defaultdict\n",
    "from conllu import parse, parse_tree\n",
    "from random import shuffle"
   ]
  },
  {
   "cell_type": "code",
   "execution_count": 2,
   "metadata": {},
   "outputs": [],
   "source": [
    "with open(\"../../train_1.conllu\", \"r\") as fin:\n",
    "    data = fin.read()"
   ]
  },
  {
   "cell_type": "code",
   "execution_count": 3,
   "metadata": {},
   "outputs": [],
   "source": [
    "sentences2 = parse(data)"
   ]
  },
  {
   "cell_type": "code",
   "execution_count": null,
   "metadata": {},
   "outputs": [],
   "source": [
    "# mida ei saa asendada:\n",
    "#+ ka ei saa olla asendatav ega asendaja => tokenlist? filter? changed etc\n",
    "#+ vpart alluvaga verb => verbi lapse deprel vpart\n",
    "#+ verbiahelas olev 1. verb => verbi laps on verb\n",
    "#+ olema kui on PRD => olema, kui ta laps on prd\n",
    "#+ asenduseks pandav sõna ei saa olla \"olema\", kui verbi alluv OBJ\n",
    "#+ <Q alluvaga määrsõna/nimisõna?/arvsõna? kui laps on <Q, siis ei saa\n",
    "#+ vpart ei saa asendada, kui sõna deprel vpart\n",
    "# määrsõnale või omadussõnale alluv määrsõna -> kui määrsõna/omadussõna laps on määrsõna,siis seda ei saa asendada\n"
   ]
  },
  {
   "cell_type": "code",
   "execution_count": 4,
   "metadata": {},
   "outputs": [
    {
     "name": "stderr",
     "output_type": "stream",
     "text": [
      "100%|██████████| 103581/103581 [03:17<00:00, 525.70it/s]\n"
     ]
    }
   ],
   "source": [
    "bad_subs = defaultdict(list)\n",
    "good_subs = []\n",
    "for sent in tqdm(sentences2):\n",
    "    \n",
    "    changed_token = sent.filter(deps = 'CHANGED')[0]\n",
    "    misc = list(changed_token['misc'].keys())[0]\n",
    "    misc_lemmas = Text(misc).tag_layer().lemma[0]\n",
    "\n",
    "    if changed_token['upos'] == 'ka' or 'ka' in misc_lemmas:\n",
    "        bad_subs[1].append(sent)\n",
    "        continue\n",
    "    \n",
    "    if changed_token['deprel'] == '@Vpart':    \n",
    "        bad_subs[2].append(sent)\n",
    "        continue\n",
    "\n",
    "    if changed_token['lemma'] == 'olema':\n",
    "        objects = sent.filter(deprel = '@OBJ', head = changed_token['id'])\n",
    "        if objects:\n",
    "            bad_subs[3].append(sent)\n",
    "            continue\n",
    "        \n",
    "    if 'olema' in misc_lemmas:\n",
    "        predicatives = sent.filter(deprel = '@PRD', head = changed_token['id'])\n",
    "        if predicatives:\n",
    "            bad_subs[4].append(sent)\n",
    "            continue\n",
    "                    \n",
    "    if changed_token['upos'] == 'V':       \n",
    "        verb_children = sent.filter(upos = 'V', head = changed_token['id'])\n",
    "        verb_parent = sent.filter(upos = 'V', id = changed_token['head'])\n",
    "        sup_inf_children = False\n",
    "        for ch in verb_children:\n",
    "            if ch['feats']:\n",
    "                if 'sup' in ch['feats'] or 'inf' in ch['feats']:\n",
    "                    sup_inf_children = True\n",
    "                    break\n",
    "        if sup_inf_children:\n",
    "            bad_subs[5].append(sent)\n",
    "            continue\n",
    "        \n",
    "        if verb_parent:\n",
    "            if 'sup' in verb_parent[0]['feats'] or 'inf' in verb_parent[0]['feats']:\n",
    "                bad_subs[5].append(sent)\n",
    "                continue\n",
    "        \n",
    "        vpart_children = sent.filter(deprel = '@Vpart', head = changed_token['id'])\n",
    "        if vpart_children:\n",
    "            bad_subs[6].append(sent)\n",
    "            continue\n",
    "    \n",
    "    if changed_token['upos'] != 'N':\n",
    "        q_children = sent.filter(deprel = '@<Q', head = changed_token['id'])\n",
    "        q_children2 = sent.filter(deprel = '@Q>', head = changed_token['id'])\n",
    "        if q_children or q_children2:\n",
    "            bad_subs[7].append(sent)\n",
    "            continue\n",
    "        \n",
    "    if changed_token['upos'] == 'A' or changed_token['upos'] == 'D':\n",
    "        adverb_children = sent.filter(upos = 'D', head = changed_token['id'])\n",
    "        if adverb_children:\n",
    "            bad_subs[8].append(sent)\n",
    "            continue\n",
    "    \n",
    "    good_subs.append(sent)"
   ]
  },
  {
   "cell_type": "code",
   "execution_count": 5,
   "metadata": {},
   "outputs": [
    {
     "name": "stdout",
     "output_type": "stream",
     "text": [
      "3 417\n",
      "7 268\n",
      "5 2399\n",
      "4 2186\n",
      "2 1035\n",
      "6 1203\n",
      "8 1290\n",
      "1 494\n"
     ]
    }
   ],
   "source": [
    "for k, v in bad_subs.items():\n",
    "    print(k, len(v))"
   ]
  },
  {
   "cell_type": "code",
   "execution_count": 6,
   "metadata": {},
   "outputs": [
    {
     "data": {
      "text/plain": [
       "9292"
      ]
     },
     "execution_count": 6,
     "metadata": {},
     "output_type": "execute_result"
    }
   ],
   "source": [
    "494+1290+1203+1035+2186+2399+268+417"
   ]
  },
  {
   "cell_type": "code",
   "execution_count": 7,
   "metadata": {},
   "outputs": [
    {
     "data": {
      "text/plain": [
       "94289"
      ]
     },
     "execution_count": 7,
     "metadata": {},
     "output_type": "execute_result"
    }
   ],
   "source": [
    "len(good_subs)"
   ]
  },
  {
   "cell_type": "code",
   "execution_count": 8,
   "metadata": {},
   "outputs": [
    {
     "data": {
      "text/plain": [
       "0.08970757185198057"
      ]
     },
     "execution_count": 8,
     "metadata": {},
     "output_type": "execute_result"
    }
   ],
   "source": [
    "9292/(9292+94289)"
   ]
  }
 ],
 "metadata": {
  "kernelspec": {
   "display_name": "Python [conda env:estnltk] *",
   "language": "python",
   "name": "conda-env-estnltk-py"
  },
  "language_info": {
   "codemirror_mode": {
    "name": "ipython",
    "version": 3
   },
   "file_extension": ".py",
   "mimetype": "text/x-python",
   "name": "python",
   "nbconvert_exporter": "python",
   "pygments_lexer": "ipython3",
   "version": "3.6.12"
  }
 },
 "nbformat": 4,
 "nbformat_minor": 4
}
