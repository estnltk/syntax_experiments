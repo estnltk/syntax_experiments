{
 "cells": [
  {
   "cell_type": "code",
   "execution_count": null,
   "id": "fe0c8798-1bd2-418c-83a0-974ab638d0ca",
   "metadata": {},
   "outputs": [],
   "source": [
    "#!conda activate py38_estnltk1.7\n",
    "#hpc serveris peaks sobima estnltk_collocations_py38\n",
    "#!conda install --channel conda-forge pygraphviz\n",
    "#!conda install -c conda-forge ipywidgets\n",
    "#!jupyter nbextension enable --py widgetsnbextension"
   ]
  },
  {
   "cell_type": "markdown",
   "id": "3fd575ee-dd14-42e6-9e71-040d56e4651d",
   "metadata": {
    "tags": []
   },
   "source": [
    "# Verb - compound - obl - obl_case kollokatsioonide kogumine koondkorpusest\n"
   ]
  },
  {
   "cell_type": "markdown",
   "id": "8b5cc122-b092-4cd0-9d49-4774c97b5589",
   "metadata": {
    "tags": []
   },
   "source": [
    "# v12\n",
    "Kollokatsiooniandmete salvestamisel tabelisse jäeti välja kollokatsioonid, milles:\n",
    "\n",
    "* verb oli umbisikuline (<code>feats</code> sisaldas parameetrit <code>imps</code>);\n",
    "* verbi aeg polnud ükski järgnevatest: <code>past</code>, <code>impf</code>, <code>pres</code> (<code>feats</code> ei sisaldanud parameetreid <code>past</code> ega <code>impf</code> ega  <code>pres</code>).\n",
    "\n",
    "### Tabelid\n",
    "\n",
    "### TABEL1 \n",
    "**verb\\_compound\\_obl**\n",
    "\n",
    "Paksu kirjaga on märgitud väljad, mis moodustavad unikaalse indeksi.\n",
    "\n",
    "| väli | tüüp  |  kirjeldus | näide | märkus |\n",
    "| --- | --- | --- | --- | --- |\n",
    "| id | int | kollokatsiooni<br/>unikaalne ID| *56* | |\n",
    "| **verb** | text | tegusõna lemma | *kirjutama* | |\n",
    "| **verb_compound** | text | määrsõna(de) lemma(d) | *alla,kokku* | mitme määrsõna korral on lemmade eraldajaks koma ja lemmad on alfabeetilises järjestuses |\n",
    "| **obl_root** | text| täiendi juure lemma nn \"puhastatud kuju\"| *kurjajuur* | |\n",
    "| **obl\\_root\\_compound** | text| täiendi juure lemma liitsõnamärkidega*| *kurja_juur* | |\n",
    "| **obl_case** | text | täiendi juure kääne | *ad* | vt [Käänded](#käänded) |\n",
    "| **obl_k** | text | täiendi juurele alluv kaassõna lemma  | *peale* | tipp, mille <code>deprel=case</code> ja <code>pos=K</code>,<br/>mitme määrsõna korral on lemmade eraldajaks koma, lemmad on alfabeetilises järjestuses |\n",
    "| **ner_loc** | text | täiendi fraasi asetus NER 'LOC' spani suhtes  | *intersects* | vt [OBL asetus](#obl_asetus) |\n",
    "| **ner_per** | text | --\\|\\|-- 'PER' spani suhtes | *match* | vt [OBL asetus](#obl_asetus) |\n",
    "| **ner_org** | text | --\\|\\|-- 'ORG' spani suhtes | *contains* | vt [OBL asetus](#obl_asetus) |\n",
    "| **timex** | text |  --\\|\\|-- TIMEX spani suhtes | *-* | vt [OBL asetus](#obl_asetus)|\n",
    "| count | int | kollokatsiooni esinemiste arv üle korpuse | *56* |  | \n",
    "| phrase_type | text | täiendi fraasi tüüp | *null* |   täitmata |\n",
    "\n",
    "### TABEL2 \n",
    "\n",
    "**verb\\_compound\\_obl\\_examples**\n",
    "\n",
    "\n",
    "| väli | tüüp  |  kirjeldus |\tnäide | märkus |\n",
    "| --- | --- | --- | --- | --- |\n",
    "| **row_id** | int | rea id tabelis TABEL1| | |\n",
    "| **sentence_id** | int | kollektsiooni id postgres andmebaasis | | |\n",
    "| **root_id** | int | OBL fraasi juur (sõna nr) | | |\n",
    "| count | int | mitu korda näide esines |  | täitsa võimalik, et selle välja väärtus on antud versiooni tabelis alati 1 |\n",
    "\n",
    "\n",
    "\n",
    "\n",
    "### OBL asetus\n",
    "| väärtus | kirjeldus  |  \n",
    "| --- | --- |\n",
    "| **-** |           OBL ei ole kautud ühegi spaniga|\n",
    "| **match** |      OBL span langeb kokku NER/TIMEX spaniga|\n",
    "| **contains** |    OBL spani sees on NER/TIMEX span|\n",
    "| **inside** |        OBL span on  NER/TIMEX spani sees|\n",
    "| **intersects** |  OBL span lõikub NER/TIMEX spaniga|\n",
    "\n",
    "\n",
    "\n",
    "### Käänded\n",
    "| kääne|  nimetus| \n",
    "| --- | --- |\n",
    "| nom |  nimetav | \n",
    "| gen | omastav | \n",
    "| part | osastav | \n",
    "| adit | lühike sisseütlev | \n",
    "| ill | sisseütlev | \n",
    "| in |  seesütlev | \n",
    "| el |  seestütlev | \n",
    "| all |  alaleütlev |\n",
    "| ad |  alalütlev | \n",
    "| abl |  alaltütlev | \n",
    "| tr | saav | \n",
    "| term |  rajav | \n",
    "| es |  olev | \n",
    "| abes |  ilma | \n",
    "| kom | kaasa | \n",
    "| \\<käändumatu\\> | täiendil puudus kääne | \n",
    "\n",
    "\n",
    "\n"
   ]
  },
  {
   "cell_type": "code",
   "execution_count": null,
   "id": "1c0dfd29-9627-4cc3-a8ed-677c8326f814",
   "metadata": {
    "tags": []
   },
   "outputs": [
    {
     "name": "stdout",
     "output_type": "stream",
     "text": [
      "The autoreload extension is already loaded. To reload it, use:\n",
      "  %reload_ext autoreload\n",
      "INFO:storage.py:41: connecting to host: 'postgres.keeleressursid.ee', port: '5432', dbname: 'estonian-text-corpora', user: 'zummy'\n",
      "INFO:storage.py:58: schema: 'estonian_text_corpora', temporary: False, role: 'estonian_text_corpora_read'\n"
     ]
    }
   ],
   "source": [
    "%load_ext autoreload\n",
    "%autoreload 2\n",
    "\n",
    "from estnltk.storage.postgres import LayerQuery\n",
    "\n",
    "from datetime import datetime\n",
    "# functions for creating database and collecting collocations\n",
    "from collect_functions import *\n",
    "\n",
    "from data_helpers.db_reader import DbReader\n",
    "\n",
    "collection_name = 'koondkorpus_sentences' \n",
    "# collection_name = 'koondkorpus_sentences_test_5000_sg_thread'\n",
    "\n",
    "\n",
    "TYPE = 'verb_compound_obl'\n",
    "TABLENAME = f'{TYPE}'\n",
    "BATCH_SIZE = 50000\n",
    "\n",
    "date_time = datetime.now().strftime(\"%Y%m%d-%H%M%S\")\n",
    "db_file_name = f\"v12_{collection_name}_{TYPE}_collocations_{date_time}.db\"\n",
    "my_sqlite_db = DbMethods(db_file_name=db_file_name, table1_name=TYPE, table2_name=TYPE+'_examples')\n",
    "my_sqlite_db.prep_coll_db()\n",
    "\n",
    "\n",
    "my_db_reader = DbReader(pgpass_file='~/.pgpass',\\\n",
    "                          schema='estonian_text_corpora',\\\n",
    "                          role='estonian_text_corpora_read',\\\n",
    "                          temporary=False,\\\n",
    "                          collection_name=collection_name)\n",
    "my_db_reader.set_layers(['v171_named_entities', 'v172_stanza_syntax', 'v172_obl_phrases', 'v172_pre_timexes'])\n",
    "\n",
    "# vaatame ainult neid lauseid, kus on mõni tegusõna ka\n",
    "# NB! kas saab olla obl, kus ülemus ei ole tegusõna\n",
    "additional_filters = [LayerQuery('morph_analysis', partofspeech='V')]\n",
    "collocations = {}\n",
    "for collection_id, text in my_db_reader.get_collections(shuffle=False, queries=additional_filters, progressbar='ascii'): \n",
    "    collocations, = extract_something(text, collection_id, collocations )\n",
    "    if not collection_id == 0 and not collection_id % BATCH_SIZE:\n",
    "        my_sqlite_db.save_coll_to_db(collocations, collection_id)\n",
    "        collocations = {}\n",
    "\n",
    "# saving last batch\n",
    "my_sqlite_db.save_coll_to_db(collocations, collection_id)\n",
    "my_sqlite_db.index_fields()"
   ]
  },
  {
   "cell_type": "code",
   "execution_count": null,
   "id": "50e2941b-3911-43b5-8d54-b755571fa1cd",
   "metadata": {},
   "outputs": [],
   "source": [
    "# display(text['morph_analysis'])"
   ]
  },
  {
   "cell_type": "code",
   "execution_count": null,
   "id": "1933b3b9-4372-4c87-a84c-5dcbc02242e6",
   "metadata": {},
   "outputs": [],
   "source": [
    "# display(text['v172_stanza_syntax'])"
   ]
  },
  {
   "cell_type": "code",
   "execution_count": null,
   "id": "3665588f-ce45-4ef0-abcb-b9bcac0b391c",
   "metadata": {},
   "outputs": [],
   "source": []
  }
 ],
 "metadata": {
  "kernelspec": {
   "display_name": "Python 3 (ipykernel)",
   "language": "python",
   "name": "python3"
  },
  "language_info": {
   "codemirror_mode": {
    "name": "ipython",
    "version": 3
   },
   "file_extension": ".py",
   "mimetype": "text/x-python",
   "name": "python",
   "nbconvert_exporter": "python",
   "pygments_lexer": "ipython3",
   "version": "3.10.10"
  }
 },
 "nbformat": 4,
 "nbformat_minor": 5
}
