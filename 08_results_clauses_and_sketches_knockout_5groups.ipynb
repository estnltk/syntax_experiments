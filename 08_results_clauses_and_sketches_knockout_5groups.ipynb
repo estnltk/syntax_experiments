{
 "cells": [
  {
   "cell_type": "markdown",
   "id": "92b47bf4",
   "metadata": {},
   "source": [
    "## Results of the clauses experiment and the syntactic sketch knockout experiments"
   ]
  },
  {
   "cell_type": "code",
   "execution_count": 1,
   "id": "b658bcdc",
   "metadata": {},
   "outputs": [],
   "source": [
    "import os, os.path\n",
    "import re\n",
    "\n",
    "from pandas import DataFrame as df\n",
    "from pandas import read_csv\n",
    "import pandas\n",
    "import seaborn as sns\n",
    "import matplotlib.pyplot as plt"
   ]
  },
  {
   "cell_type": "code",
   "execution_count": 2,
   "id": "8217e875",
   "metadata": {},
   "outputs": [
    {
     "name": "stdout",
     "output_type": "stream",
     "text": [
      "results_crossvalidation.csv\n",
      "results_ensemble_conf_intervals.csv\n",
      "results_ensemble_entropy.csv\n",
      "results_ensemble_majority_voting.csv\n",
      "results_full_data_malt_udpipe1.csv\n",
      "results_gap_experiments.csv\n",
      "results_gold_and_auto_ud_morph.csv\n",
      "results_half_data.csv\n",
      "results_smaller_data.csv\n",
      "results_stanza_basic.csv\n",
      "results_stanza_ME_conf_intervals.csv\n",
      "results_stanza_ME_error_types.csv\n",
      "results_stanza_ME_full_predict_on_clauses.csv\n",
      "results_stanza_ME_full_predict_on_clauses_error_types.csv\n",
      "results_stanza_ME_on_clauses.csv\n",
      "results_stanza_ME_on_clauses_error_types.csv\n",
      "results_stanza_ME_sketches_5groups_knockout.csv\n",
      "results_stanza_ME_sketches_5groups_knockout_matrix.csv\n",
      "results_stanza_ME_sketches_5randomgroups_knockout.csv\n",
      "results_stanza_ME_sketches_5randomgroups_knockout_matrix.csv\n"
     ]
    }
   ],
   "source": [
    "input_dir = 'edt_2.6'   # Experiments done on Estonian Dependency Treebank version 2.6\n",
    "\n",
    "for fname in os.listdir(input_dir):\n",
    "    if fname.startswith('results_') and fname.endswith('.csv'):\n",
    "        print(fname)"
   ]
  },
  {
   "cell_type": "code",
   "execution_count": 3,
   "id": "f8ecd862",
   "metadata": {},
   "outputs": [],
   "source": [
    "pandas.set_option('display.max_colwidth', None)"
   ]
  },
  {
   "cell_type": "markdown",
   "id": "1060eac5",
   "metadata": {},
   "source": [
    "### A. the clauses experiment: train/evaluate stanza on clauses instead of on sentences"
   ]
  },
  {
   "cell_type": "code",
   "execution_count": 4,
   "id": "bf03c093",
   "metadata": {},
   "outputs": [
    {
     "data": {
      "text/html": [
       "<div>\n",
       "<style scoped>\n",
       "    .dataframe tbody tr th:only-of-type {\n",
       "        vertical-align: middle;\n",
       "    }\n",
       "\n",
       "    .dataframe tbody tr th {\n",
       "        vertical-align: top;\n",
       "    }\n",
       "\n",
       "    .dataframe thead th {\n",
       "        text-align: right;\n",
       "    }\n",
       "</style>\n",
       "<table border=\"1\" class=\"dataframe\">\n",
       "  <thead>\n",
       "    <tr style=\"text-align: right;\">\n",
       "      <th></th>\n",
       "      <th>LAS_test</th>\n",
       "      <th>LAS_train</th>\n",
       "      <th>LAS_gap</th>\n",
       "      <th>UAS_test</th>\n",
       "      <th>UAS_train</th>\n",
       "    </tr>\n",
       "    <tr>\n",
       "      <th>experiment</th>\n",
       "      <th></th>\n",
       "      <th></th>\n",
       "      <th></th>\n",
       "      <th></th>\n",
       "      <th></th>\n",
       "    </tr>\n",
       "  </thead>\n",
       "  <tbody>\n",
       "    <tr>\n",
       "      <th>eval_stanza_morph_extended_on_clauses</th>\n",
       "      <td>0.8623</td>\n",
       "      <td>0.9298</td>\n",
       "      <td>0.0674</td>\n",
       "      <td>0.8924</td>\n",
       "      <td>0.9492</td>\n",
       "    </tr>\n",
       "  </tbody>\n",
       "</table>\n",
       "</div>"
      ],
      "text/plain": [
       "                                       LAS_test  LAS_train  LAS_gap  UAS_test   \n",
       "experiment                                                                      \n",
       "eval_stanza_morph_extended_on_clauses    0.8623     0.9298   0.0674    0.8924  \\\n",
       "\n",
       "                                       UAS_train  \n",
       "experiment                                        \n",
       "eval_stanza_morph_extended_on_clauses     0.9492  "
      ]
     },
     "execution_count": 4,
     "metadata": {},
     "output_type": "execute_result"
    }
   ],
   "source": [
    "# trained and evaluated on clauses\n",
    "read_csv('edt_2.6/results_stanza_ME_on_clauses.csv', index_col=0)"
   ]
  },
  {
   "cell_type": "code",
   "execution_count": 5,
   "id": "f71e9b5e",
   "metadata": {},
   "outputs": [
    {
     "data": {
      "text/html": [
       "<div>\n",
       "<style scoped>\n",
       "    .dataframe tbody tr th:only-of-type {\n",
       "        vertical-align: middle;\n",
       "    }\n",
       "\n",
       "    .dataframe tbody tr th {\n",
       "        vertical-align: top;\n",
       "    }\n",
       "\n",
       "    .dataframe thead th {\n",
       "        text-align: right;\n",
       "    }\n",
       "</style>\n",
       "<table border=\"1\" class=\"dataframe\">\n",
       "  <thead>\n",
       "    <tr style=\"text-align: right;\">\n",
       "      <th></th>\n",
       "      <th>experiment</th>\n",
       "      <th>LAS_test</th>\n",
       "      <th>LAS_train</th>\n",
       "      <th>LAS_gap</th>\n",
       "      <th>UAS_test</th>\n",
       "      <th>UAS_train</th>\n",
       "      <th>test_words</th>\n",
       "      <th>train_words</th>\n",
       "    </tr>\n",
       "  </thead>\n",
       "  <tbody>\n",
       "    <tr>\n",
       "      <th>1</th>\n",
       "      <td>eval_stanza_morph_extended_full_data</td>\n",
       "      <td>0.8486</td>\n",
       "      <td>0.9176</td>\n",
       "      <td>0.0689</td>\n",
       "      <td>0.8782</td>\n",
       "      <td>0.9378</td>\n",
       "      <td>48491</td>\n",
       "      <td>389278</td>\n",
       "    </tr>\n",
       "  </tbody>\n",
       "</table>\n",
       "</div>"
      ],
      "text/plain": [
       "                             experiment  LAS_test  LAS_train  LAS_gap   \n",
       "1  eval_stanza_morph_extended_full_data    0.8486     0.9176   0.0689  \\\n",
       "\n",
       "   UAS_test  UAS_train  test_words  train_words  \n",
       "1    0.8782     0.9378       48491       389278  "
      ]
     },
     "execution_count": 5,
     "metadata": {},
     "output_type": "execute_result"
    }
   ],
   "source": [
    "# for a comparison #1: trained and evaluated on sentences\n",
    "full_data_results = read_csv('edt_2.6/results_stanza_basic.csv')\n",
    "full_data_results[full_data_results['experiment'].str.contains('morph_extended')]"
   ]
  },
  {
   "cell_type": "code",
   "execution_count": 6,
   "id": "fad4c2ef",
   "metadata": {},
   "outputs": [
    {
     "data": {
      "text/html": [
       "<div>\n",
       "<style scoped>\n",
       "    .dataframe tbody tr th:only-of-type {\n",
       "        vertical-align: middle;\n",
       "    }\n",
       "\n",
       "    .dataframe tbody tr th {\n",
       "        vertical-align: top;\n",
       "    }\n",
       "\n",
       "    .dataframe thead th {\n",
       "        text-align: right;\n",
       "    }\n",
       "</style>\n",
       "<table border=\"1\" class=\"dataframe\">\n",
       "  <thead>\n",
       "    <tr style=\"text-align: right;\">\n",
       "      <th></th>\n",
       "      <th>LAS_test</th>\n",
       "      <th>LAS_train</th>\n",
       "      <th>UAS_test</th>\n",
       "      <th>UAS_train</th>\n",
       "      <th>LAS_gap</th>\n",
       "    </tr>\n",
       "    <tr>\n",
       "      <th>experiment</th>\n",
       "      <th></th>\n",
       "      <th></th>\n",
       "      <th></th>\n",
       "      <th></th>\n",
       "      <th></th>\n",
       "    </tr>\n",
       "  </thead>\n",
       "  <tbody>\n",
       "    <tr>\n",
       "      <th>eval_stanza_morph_extended_full_predict_on_clauses</th>\n",
       "      <td>0.8544</td>\n",
       "      <td>0.9076</td>\n",
       "      <td>0.8873</td>\n",
       "      <td>0.9341</td>\n",
       "      <td>0.0532</td>\n",
       "    </tr>\n",
       "  </tbody>\n",
       "</table>\n",
       "</div>"
      ],
      "text/plain": [
       "                                                    LAS_test  LAS_train   \n",
       "experiment                                                                \n",
       "eval_stanza_morph_extended_full_predict_on_clauses    0.8544     0.9076  \\\n",
       "\n",
       "                                                    UAS_test  UAS_train   \n",
       "experiment                                                                \n",
       "eval_stanza_morph_extended_full_predict_on_clauses    0.8873     0.9341  \\\n",
       "\n",
       "                                                    LAS_gap  \n",
       "experiment                                                   \n",
       "eval_stanza_morph_extended_full_predict_on_clauses   0.0532  "
      ]
     },
     "execution_count": 6,
     "metadata": {},
     "output_type": "execute_result"
    }
   ],
   "source": [
    "# for a comparison #2: trained on sentences and evaluated on clauses\n",
    "read_csv('edt_2.6/results_stanza_ME_full_predict_on_clauses.csv', index_col=0)"
   ]
  },
  {
   "cell_type": "code",
   "execution_count": 7,
   "id": "6dc2b383",
   "metadata": {},
   "outputs": [
    {
     "data": {
      "text/html": [
       "<div>\n",
       "<style scoped>\n",
       "    .dataframe tbody tr th:only-of-type {\n",
       "        vertical-align: middle;\n",
       "    }\n",
       "\n",
       "    .dataframe tbody tr th {\n",
       "        vertical-align: top;\n",
       "    }\n",
       "\n",
       "    .dataframe thead th {\n",
       "        text-align: right;\n",
       "    }\n",
       "</style>\n",
       "<table border=\"1\" class=\"dataframe\">\n",
       "  <thead>\n",
       "    <tr style=\"text-align: right;\">\n",
       "      <th></th>\n",
       "      <th>E1</th>\n",
       "      <th>E2</th>\n",
       "      <th>E3</th>\n",
       "      <th>E1_impact</th>\n",
       "      <th>E2_impact</th>\n",
       "      <th>E3_impact</th>\n",
       "      <th>E1_rel_error</th>\n",
       "      <th>E2_rel_error</th>\n",
       "      <th>E3_rel_error</th>\n",
       "    </tr>\n",
       "    <tr>\n",
       "      <th>experiment</th>\n",
       "      <th></th>\n",
       "      <th></th>\n",
       "      <th></th>\n",
       "      <th></th>\n",
       "      <th></th>\n",
       "      <th></th>\n",
       "      <th></th>\n",
       "      <th></th>\n",
       "      <th></th>\n",
       "    </tr>\n",
       "  </thead>\n",
       "  <tbody>\n",
       "    <tr>\n",
       "      <th>stanza_ME_on_clauses_error_types_on_test</th>\n",
       "      <td>4501</td>\n",
       "      <td>327</td>\n",
       "      <td>337</td>\n",
       "      <td>0.8714</td>\n",
       "      <td>0.0633</td>\n",
       "      <td>0.0652</td>\n",
       "      <td>0.1405</td>\n",
       "      <td>0.0102</td>\n",
       "      <td>0.0555</td>\n",
       "    </tr>\n",
       "  </tbody>\n",
       "</table>\n",
       "</div>"
      ],
      "text/plain": [
       "                                            E1   E2   E3  E1_impact   \n",
       "experiment                                                            \n",
       "stanza_ME_on_clauses_error_types_on_test  4501  327  337     0.8714  \\\n",
       "\n",
       "                                          E2_impact  E3_impact  E1_rel_error   \n",
       "experiment                                                                     \n",
       "stanza_ME_on_clauses_error_types_on_test     0.0633     0.0652        0.1405  \\\n",
       "\n",
       "                                          E2_rel_error  E3_rel_error  \n",
       "experiment                                                            \n",
       "stanza_ME_on_clauses_error_types_on_test        0.0102        0.0555  "
      ]
     },
     "execution_count": 7,
     "metadata": {},
     "output_type": "execute_result"
    }
   ],
   "source": [
    "# Error types of the model trained and evaluated on clauses\n",
    "err_types1 = read_csv('edt_2.6/results_stanza_ME_on_clauses_error_types.csv', index_col=0)\n",
    "err_types1[['E1', 'E2', 'E3', 'E1_impact', 'E2_impact', 'E3_impact', 'E1_rel_error', 'E2_rel_error', 'E3_rel_error', ]]"
   ]
  },
  {
   "cell_type": "code",
   "execution_count": 8,
   "id": "42299eb8",
   "metadata": {},
   "outputs": [
    {
     "data": {
      "text/html": [
       "<div>\n",
       "<style scoped>\n",
       "    .dataframe tbody tr th:only-of-type {\n",
       "        vertical-align: middle;\n",
       "    }\n",
       "\n",
       "    .dataframe tbody tr th {\n",
       "        vertical-align: top;\n",
       "    }\n",
       "\n",
       "    .dataframe thead th {\n",
       "        text-align: right;\n",
       "    }\n",
       "</style>\n",
       "<table border=\"1\" class=\"dataframe\">\n",
       "  <thead>\n",
       "    <tr style=\"text-align: right;\">\n",
       "      <th></th>\n",
       "      <th>E1</th>\n",
       "      <th>E2</th>\n",
       "      <th>E3</th>\n",
       "      <th>E1_impact</th>\n",
       "      <th>E2_impact</th>\n",
       "      <th>E3_impact</th>\n",
       "      <th>E1_rel_error</th>\n",
       "      <th>E2_rel_error</th>\n",
       "      <th>E3_rel_error</th>\n",
       "    </tr>\n",
       "    <tr>\n",
       "      <th>experiment</th>\n",
       "      <th></th>\n",
       "      <th></th>\n",
       "      <th></th>\n",
       "      <th></th>\n",
       "      <th></th>\n",
       "      <th></th>\n",
       "      <th></th>\n",
       "      <th></th>\n",
       "      <th></th>\n",
       "    </tr>\n",
       "  </thead>\n",
       "  <tbody>\n",
       "    <tr>\n",
       "      <th>stanza_ME_error_types_on_test</th>\n",
       "      <td>4821</td>\n",
       "      <td>398</td>\n",
       "      <td>1162</td>\n",
       "      <td>0.7555</td>\n",
       "      <td>0.0624</td>\n",
       "      <td>0.1821</td>\n",
       "      <td>0.1413</td>\n",
       "      <td>0.0117</td>\n",
       "      <td>0.1733</td>\n",
       "    </tr>\n",
       "  </tbody>\n",
       "</table>\n",
       "</div>"
      ],
      "text/plain": [
       "                                 E1   E2    E3  E1_impact  E2_impact   \n",
       "experiment                                                             \n",
       "stanza_ME_error_types_on_test  4821  398  1162     0.7555     0.0624  \\\n",
       "\n",
       "                               E3_impact  E1_rel_error  E2_rel_error   \n",
       "experiment                                                             \n",
       "stanza_ME_error_types_on_test     0.1821        0.1413        0.0117  \\\n",
       "\n",
       "                               E3_rel_error  \n",
       "experiment                                   \n",
       "stanza_ME_error_types_on_test        0.1733  "
      ]
     },
     "execution_count": 8,
     "metadata": {},
     "output_type": "execute_result"
    }
   ],
   "source": [
    "# for a comparison #1: Error types of the model trained and evaluated on sentences\n",
    "err_types2 = read_csv('edt_2.6/results_stanza_ME_error_types.csv', index_col=0)\n",
    "err_types2[['E1', 'E2', 'E3', 'E1_impact', 'E2_impact', 'E3_impact', 'E1_rel_error', 'E2_rel_error', 'E3_rel_error', ]]"
   ]
  },
  {
   "cell_type": "code",
   "execution_count": 9,
   "id": "1e12969c",
   "metadata": {},
   "outputs": [
    {
     "data": {
      "text/html": [
       "<div>\n",
       "<style scoped>\n",
       "    .dataframe tbody tr th:only-of-type {\n",
       "        vertical-align: middle;\n",
       "    }\n",
       "\n",
       "    .dataframe tbody tr th {\n",
       "        vertical-align: top;\n",
       "    }\n",
       "\n",
       "    .dataframe thead th {\n",
       "        text-align: right;\n",
       "    }\n",
       "</style>\n",
       "<table border=\"1\" class=\"dataframe\">\n",
       "  <thead>\n",
       "    <tr style=\"text-align: right;\">\n",
       "      <th></th>\n",
       "      <th>E1</th>\n",
       "      <th>E2</th>\n",
       "      <th>E3</th>\n",
       "      <th>E1_impact</th>\n",
       "      <th>E2_impact</th>\n",
       "      <th>E3_impact</th>\n",
       "      <th>E1_rel_error</th>\n",
       "      <th>E2_rel_error</th>\n",
       "      <th>E3_rel_error</th>\n",
       "    </tr>\n",
       "    <tr>\n",
       "      <th>experiment</th>\n",
       "      <th></th>\n",
       "      <th></th>\n",
       "      <th></th>\n",
       "      <th></th>\n",
       "      <th></th>\n",
       "      <th></th>\n",
       "      <th></th>\n",
       "      <th></th>\n",
       "      <th></th>\n",
       "    </tr>\n",
       "  </thead>\n",
       "  <tbody>\n",
       "    <tr>\n",
       "      <th>stanza_ME_full_on_clauses_error_types_on_test</th>\n",
       "      <td>4774</td>\n",
       "      <td>352</td>\n",
       "      <td>355</td>\n",
       "      <td>0.871</td>\n",
       "      <td>0.0642</td>\n",
       "      <td>0.0648</td>\n",
       "      <td>0.149</td>\n",
       "      <td>0.011</td>\n",
       "      <td>0.0585</td>\n",
       "    </tr>\n",
       "  </tbody>\n",
       "</table>\n",
       "</div>"
      ],
      "text/plain": [
       "                                                 E1   E2   E3  E1_impact   \n",
       "experiment                                                                 \n",
       "stanza_ME_full_on_clauses_error_types_on_test  4774  352  355      0.871  \\\n",
       "\n",
       "                                               E2_impact  E3_impact   \n",
       "experiment                                                            \n",
       "stanza_ME_full_on_clauses_error_types_on_test     0.0642     0.0648  \\\n",
       "\n",
       "                                               E1_rel_error  E2_rel_error   \n",
       "experiment                                                                  \n",
       "stanza_ME_full_on_clauses_error_types_on_test         0.149         0.011  \\\n",
       "\n",
       "                                               E3_rel_error  \n",
       "experiment                                                   \n",
       "stanza_ME_full_on_clauses_error_types_on_test        0.0585  "
      ]
     },
     "execution_count": 9,
     "metadata": {},
     "output_type": "execute_result"
    }
   ],
   "source": [
    "# for a comparison #2: Error types of the model trained on sentences and evaluated on clauses\n",
    "err_types2 = read_csv('edt_2.6/results_stanza_ME_full_predict_on_clauses_error_types.csv', index_col=0)\n",
    "err_types2[['E1', 'E2', 'E3', 'E1_impact', 'E2_impact', 'E3_impact', 'E1_rel_error', 'E2_rel_error', 'E3_rel_error', ]]"
   ]
  },
  {
   "cell_type": "markdown",
   "id": "9ca17669",
   "metadata": {},
   "source": [
    "### B. the syntactic sketches knockout experiments"
   ]
  },
  {
   "cell_type": "code",
   "execution_count": 10,
   "id": "043a8d4d",
   "metadata": {},
   "outputs": [
    {
     "data": {
      "text/html": [
       "<div>\n",
       "<style scoped>\n",
       "    .dataframe tbody tr th:only-of-type {\n",
       "        vertical-align: middle;\n",
       "    }\n",
       "\n",
       "    .dataframe tbody tr th {\n",
       "        vertical-align: top;\n",
       "    }\n",
       "\n",
       "    .dataframe thead th {\n",
       "        text-align: right;\n",
       "    }\n",
       "</style>\n",
       "<table border=\"1\" class=\"dataframe\">\n",
       "  <thead>\n",
       "    <tr style=\"text-align: right;\">\n",
       "      <th></th>\n",
       "      <th>grouped_sketches</th>\n",
       "      <th>support</th>\n",
       "    </tr>\n",
       "  </thead>\n",
       "  <tbody>\n",
       "    <tr>\n",
       "      <th>0</th>\n",
       "      <td>[V]nsubj(L)obl(L);[V]nsubj(L)obl(L)obl(P);[S]advmod(L)cop(L)nsubj:cop(L);[S]cop(L)nsubj:cop(P);[V]aux(L)nsubj(L)obl(L);[V]obj(L)obl(L);[V]nsubj(L)xcomp(P);[V]obj(P)obl(L);[V]obj(P);[V]obj(L)</td>\n",
       "      <td>4157</td>\n",
       "    </tr>\n",
       "    <tr>\n",
       "      <th>1</th>\n",
       "      <td>[S]nmod(L);[V]advmod(L)nsubj(P);[V]aux(L)nsubj(L)obj(L);[S]amod(L);[V]advmod(L);[V];[V]nsubj(L)obj(P);[S];[V]nsubj(L)obj(P)obl(L);[V]nsubj(P)obl(L)</td>\n",
       "      <td>5167</td>\n",
       "    </tr>\n",
       "    <tr>\n",
       "      <th>2</th>\n",
       "      <td>[V]obj(L)obl(P);[V]nsubj(L)obj(L);[S]amod(L)cop(L)nsubj:cop(L);[V]advmod(L)obl(L);[S]cop(L)nmod(L)nsubj:cop(L);[V]advmod(L)nsubj(L)obj(L);[V]nsubj(L)obj(L)obl(P);[V]advmod(L)nsubj(L)obj(L)obl(L);[V]advmod(L)obj(L);[S]cop(L)nsubj:cop(L)</td>\n",
       "      <td>3374</td>\n",
       "    </tr>\n",
       "    <tr>\n",
       "      <th>3</th>\n",
       "      <td>[V]nsubj(L)obj(L)obl(L);[S]advmod(L);[S]cop(L)nsubj:cop(L)obl(L);[V]nsubj(L)obl(P);[V]nsubj(P)obl(P);[V]advmod(L)nsubj(L)obl(P);[V]nsubj(L);[V]advmod(L)nsubj(L);[V]nsubj(L)xcomp(L);[V]obl(P)</td>\n",
       "      <td>4904</td>\n",
       "    </tr>\n",
       "    <tr>\n",
       "      <th>4</th>\n",
       "      <td>[V]nsubj(L)obl(L)obl(L);[V]advmod(L)nsubj(L)obl(L);[V]aux(L);[X];[V]xcomp(P);[V]aux(L)nsubj(L);[S]nummod(L);[V]nsubj(P);[V]nsubj(P)obj(L);[V]obl(L)</td>\n",
       "      <td>3332</td>\n",
       "    </tr>\n",
       "  </tbody>\n",
       "</table>\n",
       "</div>"
      ],
      "text/plain": [
       "                                                                                                                                                                                                                              grouped_sketches   \n",
       "0                                               [V]nsubj(L)obl(L);[V]nsubj(L)obl(L)obl(P);[S]advmod(L)cop(L)nsubj:cop(L);[S]cop(L)nsubj:cop(P);[V]aux(L)nsubj(L)obl(L);[V]obj(L)obl(L);[V]nsubj(L)xcomp(P);[V]obj(P)obl(L);[V]obj(P);[V]obj(L)  \\\n",
       "1                                                                                          [S]nmod(L);[V]advmod(L)nsubj(P);[V]aux(L)nsubj(L)obj(L);[S]amod(L);[V]advmod(L);[V];[V]nsubj(L)obj(P);[S];[V]nsubj(L)obj(P)obl(L);[V]nsubj(P)obl(L)   \n",
       "2  [V]obj(L)obl(P);[V]nsubj(L)obj(L);[S]amod(L)cop(L)nsubj:cop(L);[V]advmod(L)obl(L);[S]cop(L)nmod(L)nsubj:cop(L);[V]advmod(L)nsubj(L)obj(L);[V]nsubj(L)obj(L)obl(P);[V]advmod(L)nsubj(L)obj(L)obl(L);[V]advmod(L)obj(L);[S]cop(L)nsubj:cop(L)   \n",
       "3                                               [V]nsubj(L)obj(L)obl(L);[S]advmod(L);[S]cop(L)nsubj:cop(L)obl(L);[V]nsubj(L)obl(P);[V]nsubj(P)obl(P);[V]advmod(L)nsubj(L)obl(P);[V]nsubj(L);[V]advmod(L)nsubj(L);[V]nsubj(L)xcomp(L);[V]obl(P)   \n",
       "4                                                                                          [V]nsubj(L)obl(L)obl(L);[V]advmod(L)nsubj(L)obl(L);[V]aux(L);[X];[V]xcomp(P);[V]aux(L)nsubj(L);[S]nummod(L);[V]nsubj(P);[V]nsubj(P)obj(L);[V]obl(L)   \n",
       "\n",
       "   support  \n",
       "0     4157  \n",
       "1     5167  \n",
       "2     3374  \n",
       "3     4904  \n",
       "4     3332  "
      ]
     },
     "execution_count": 10,
     "metadata": {},
     "output_type": "execute_result"
    }
   ],
   "source": [
    "# Randomly grouped sketches\n",
    "read_csv('edt_2.6/preannotated/morph_extended_clauses/top_50_sketches_5_groups.csv', index_col=0)"
   ]
  },
  {
   "cell_type": "code",
   "execution_count": 11,
   "id": "2f222980",
   "metadata": {},
   "outputs": [
    {
     "data": {
      "text/html": [
       "<div>\n",
       "<style scoped>\n",
       "    .dataframe tbody tr th:only-of-type {\n",
       "        vertical-align: middle;\n",
       "    }\n",
       "\n",
       "    .dataframe tbody tr th {\n",
       "        vertical-align: top;\n",
       "    }\n",
       "\n",
       "    .dataframe thead th {\n",
       "        text-align: right;\n",
       "    }\n",
       "</style>\n",
       "<table border=\"1\" class=\"dataframe\">\n",
       "  <thead>\n",
       "    <tr style=\"text-align: right;\">\n",
       "      <th></th>\n",
       "      <th>group0</th>\n",
       "      <th>group1</th>\n",
       "      <th>group2</th>\n",
       "      <th>group3</th>\n",
       "      <th>group4</th>\n",
       "    </tr>\n",
       "  </thead>\n",
       "  <tbody>\n",
       "    <tr>\n",
       "      <th>group0</th>\n",
       "      <td>0.8931</td>\n",
       "      <td>0.9046</td>\n",
       "      <td>0.9107</td>\n",
       "      <td>0.9139</td>\n",
       "      <td>0.9093</td>\n",
       "    </tr>\n",
       "    <tr>\n",
       "      <th>group1</th>\n",
       "      <td>0.9193</td>\n",
       "      <td>0.9047</td>\n",
       "      <td>0.9189</td>\n",
       "      <td>0.9154</td>\n",
       "      <td>0.9154</td>\n",
       "    </tr>\n",
       "    <tr>\n",
       "      <th>group2</th>\n",
       "      <td>0.9293</td>\n",
       "      <td>0.9250</td>\n",
       "      <td>0.9131</td>\n",
       "      <td>0.9186</td>\n",
       "      <td>0.9246</td>\n",
       "    </tr>\n",
       "    <tr>\n",
       "      <th>group3</th>\n",
       "      <td>0.9136</td>\n",
       "      <td>0.9122</td>\n",
       "      <td>0.9186</td>\n",
       "      <td>0.8903</td>\n",
       "      <td>0.9168</td>\n",
       "    </tr>\n",
       "    <tr>\n",
       "      <th>group4</th>\n",
       "      <td>0.9194</td>\n",
       "      <td>0.9179</td>\n",
       "      <td>0.9204</td>\n",
       "      <td>0.9204</td>\n",
       "      <td>0.8947</td>\n",
       "    </tr>\n",
       "  </tbody>\n",
       "</table>\n",
       "</div>"
      ],
      "text/plain": [
       "        group0  group1  group2  group3  group4\n",
       "group0  0.8931  0.9046  0.9107  0.9139  0.9093\n",
       "group1  0.9193  0.9047  0.9189  0.9154  0.9154\n",
       "group2  0.9293  0.9250  0.9131  0.9186  0.9246\n",
       "group3  0.9136  0.9122  0.9186  0.8903  0.9168\n",
       "group4  0.9194  0.9179  0.9204  0.9204  0.8947"
      ]
     },
     "execution_count": 11,
     "metadata": {},
     "output_type": "execute_result"
    }
   ],
   "source": [
    "# Test matrix: rows are test sets, columns are models\n",
    "test_matrix = read_csv('edt_2.6/results_stanza_ME_sketches_5groups_knockout_matrix.csv', index_col=0)\n",
    "test_matrix"
   ]
  },
  {
   "cell_type": "code",
   "execution_count": 12,
   "id": "0ecae6ed",
   "metadata": {},
   "outputs": [],
   "source": [
    "all_figures = []"
   ]
  },
  {
   "cell_type": "code",
   "execution_count": 13,
   "id": "1298085d",
   "metadata": {},
   "outputs": [
    {
     "data": {
      "image/png": "[encoded data removed]",
      "text/plain": [
       "<Figure size 640x480 with 2 Axes>"
      ]
     },
     "metadata": {},
     "output_type": "display_data"
    }
   ],
   "source": [
    "fig = sns.heatmap(test_matrix).get_figure()\n",
    "plt.xlabel('Training (excludes group)', fontsize = 12)\n",
    "plt.ylabel('Evaluation (exclusive to group)', fontsize = 12)\n",
    "fig.savefig(\"sketches_5groups_knockout_matrix.pdf\")\n",
    "all_figures.append( fig )"
   ]
  },
  {
   "cell_type": "code",
   "execution_count": 14,
   "id": "f747e8d7",
   "metadata": {},
   "outputs": [
    {
     "data": {
      "text/html": [
       "<div>\n",
       "<style scoped>\n",
       "    .dataframe tbody tr th:only-of-type {\n",
       "        vertical-align: middle;\n",
       "    }\n",
       "\n",
       "    .dataframe tbody tr th {\n",
       "        vertical-align: top;\n",
       "    }\n",
       "\n",
       "    .dataframe thead th {\n",
       "        text-align: right;\n",
       "    }\n",
       "</style>\n",
       "<table border=\"1\" class=\"dataframe\">\n",
       "  <thead>\n",
       "    <tr style=\"text-align: right;\">\n",
       "      <th></th>\n",
       "      <th>group0</th>\n",
       "      <th>group1</th>\n",
       "      <th>group2</th>\n",
       "      <th>group3</th>\n",
       "      <th>group4</th>\n",
       "    </tr>\n",
       "  </thead>\n",
       "  <tbody>\n",
       "    <tr>\n",
       "      <th>group0</th>\n",
       "      <td>0.9114</td>\n",
       "      <td>0.9057</td>\n",
       "      <td>0.9150</td>\n",
       "      <td>0.9114</td>\n",
       "      <td>0.9100</td>\n",
       "    </tr>\n",
       "    <tr>\n",
       "      <th>group1</th>\n",
       "      <td>0.9129</td>\n",
       "      <td>0.9176</td>\n",
       "      <td>0.9154</td>\n",
       "      <td>0.9098</td>\n",
       "      <td>0.9154</td>\n",
       "    </tr>\n",
       "    <tr>\n",
       "      <th>group2</th>\n",
       "      <td>0.9198</td>\n",
       "      <td>0.9218</td>\n",
       "      <td>0.9230</td>\n",
       "      <td>0.9186</td>\n",
       "      <td>0.9198</td>\n",
       "    </tr>\n",
       "    <tr>\n",
       "      <th>group3</th>\n",
       "      <td>0.9179</td>\n",
       "      <td>0.9154</td>\n",
       "      <td>0.9136</td>\n",
       "      <td>0.9161</td>\n",
       "      <td>0.9182</td>\n",
       "    </tr>\n",
       "    <tr>\n",
       "      <th>group4</th>\n",
       "      <td>0.9239</td>\n",
       "      <td>0.9184</td>\n",
       "      <td>0.9184</td>\n",
       "      <td>0.9184</td>\n",
       "      <td>0.9204</td>\n",
       "    </tr>\n",
       "  </tbody>\n",
       "</table>\n",
       "</div>"
      ],
      "text/plain": [
       "        group0  group1  group2  group3  group4\n",
       "group0  0.9114  0.9057  0.9150  0.9114  0.9100\n",
       "group1  0.9129  0.9176  0.9154  0.9098  0.9154\n",
       "group2  0.9198  0.9218  0.9230  0.9186  0.9198\n",
       "group3  0.9179  0.9154  0.9136  0.9161  0.9182\n",
       "group4  0.9239  0.9184  0.9184  0.9184  0.9204"
      ]
     },
     "execution_count": 14,
     "metadata": {},
     "output_type": "execute_result"
    }
   ],
   "source": [
    "# Random control group test matrix: rows are test sets, columns are models\n",
    "rnd_test_matrix = read_csv('edt_2.6/results_stanza_ME_sketches_5randomgroups_knockout_matrix.csv', index_col=0)\n",
    "rnd_test_matrix"
   ]
  },
  {
   "cell_type": "code",
   "execution_count": 15,
   "id": "8618dc6b",
   "metadata": {},
   "outputs": [
    {
     "data": {
      "image/png": "[encoded data removed]",
      "text/plain": [
       "<Figure size 640x480 with 2 Axes>"
      ]
     },
     "metadata": {},
     "output_type": "display_data"
    }
   ],
   "source": [
    "fig = sns.heatmap(rnd_test_matrix).get_figure()\n",
    "plt.xlabel('Training (excludes group)', fontsize = 12)\n",
    "plt.ylabel('Evaluation (exclusive to group)', fontsize = 12)\n",
    "fig.savefig(\"sketches_5groups_random_knockout_matrix.pdf\")\n",
    "all_figures.append( fig )"
   ]
  },
  {
   "cell_type": "code",
   "execution_count": 16,
   "id": "13887eaf",
   "metadata": {},
   "outputs": [
    {
     "data": {
      "image/png": "[encoded data removed]",
      "text/plain": [
       "<Figure size 1000x400 with 3 Axes>"
      ]
     },
     "metadata": {},
     "output_type": "display_data"
    }
   ],
   "source": [
    "# Display both heatmaps on a single figure\n",
    "import matplotlib.pyplot as plt\n",
    "\n",
    "vmin = min(test_matrix.values.min(), rnd_test_matrix.values.min())\n",
    "vmax = max(test_matrix.values.max(), rnd_test_matrix.values.max())\n",
    "\n",
    "fig, axs = plt.subplots(ncols=3, gridspec_kw=dict(width_ratios=[10,10,1]), figsize=(10, 4))\n",
    "\n",
    "sns.heatmap(test_matrix, annot=True, cbar=False, ax=axs[0], vmin=vmin, vmax=vmax)\n",
    "sns.heatmap(rnd_test_matrix, annot=True, yticklabels=False, cbar=False, ax=axs[1], vmax=vmax, vmin=vmin)\n",
    "\n",
    "axs[0].set_title('main experiment', fontsize = 10)\n",
    "axs[1].set_title('randomized control experiment', fontsize = 10)\n",
    "axs[0].set_xlabel('Training (excludes group)', fontsize = 10)\n",
    "axs[1].set_xlabel('Training (excludes group)', fontsize = 10)\n",
    "axs[0].set_ylabel('Evaluation (exclusive to group)', fontsize = 10)\n",
    "\n",
    "fig.colorbar(axs[1].collections[0], cax=axs[2])\n",
    "\n",
    "plt.show()"
   ]
  },
  {
   "cell_type": "code",
   "execution_count": 17,
   "id": "f080d4ba",
   "metadata": {},
   "outputs": [],
   "source": [
    "fig.savefig(\"sketches_5groups_both_experiment_matrices.pdf\")"
   ]
  },
  {
   "cell_type": "code",
   "execution_count": 18,
   "id": "d86a4d5e",
   "metadata": {},
   "outputs": [
    {
     "data": {
      "text/html": [
       "<div>\n",
       "<style scoped>\n",
       "    .dataframe tbody tr th:only-of-type {\n",
       "        vertical-align: middle;\n",
       "    }\n",
       "\n",
       "    .dataframe tbody tr th {\n",
       "        vertical-align: top;\n",
       "    }\n",
       "\n",
       "    .dataframe thead th {\n",
       "        text-align: right;\n",
       "    }\n",
       "</style>\n",
       "<table border=\"1\" class=\"dataframe\">\n",
       "  <thead>\n",
       "    <tr style=\"text-align: right;\">\n",
       "      <th></th>\n",
       "      <th>LAS_test</th>\n",
       "    </tr>\n",
       "    <tr>\n",
       "      <th>experiment</th>\n",
       "      <th></th>\n",
       "    </tr>\n",
       "  </thead>\n",
       "  <tbody>\n",
       "    <tr>\n",
       "      <th>eval_stanza_morph_extended_sketches_knockout_5groups_single_file_group0</th>\n",
       "      <td>0.9142</td>\n",
       "    </tr>\n",
       "    <tr>\n",
       "      <th>eval_stanza_morph_extended_sketches_knockout_5groups_single_file_group1</th>\n",
       "      <td>0.9126</td>\n",
       "    </tr>\n",
       "    <tr>\n",
       "      <th>eval_stanza_morph_extended_sketches_knockout_5groups_single_file_group2</th>\n",
       "      <td>0.9161</td>\n",
       "    </tr>\n",
       "    <tr>\n",
       "      <th>eval_stanza_morph_extended_sketches_knockout_5groups_single_file_group3</th>\n",
       "      <td>0.9108</td>\n",
       "    </tr>\n",
       "    <tr>\n",
       "      <th>eval_stanza_morph_extended_sketches_knockout_5groups_single_file_group4</th>\n",
       "      <td>0.9129</td>\n",
       "    </tr>\n",
       "  </tbody>\n",
       "</table>\n",
       "</div>"
      ],
      "text/plain": [
       "                                                                         LAS_test\n",
       "experiment                                                                       \n",
       "eval_stanza_morph_extended_sketches_knockout_5groups_single_file_group0    0.9142\n",
       "eval_stanza_morph_extended_sketches_knockout_5groups_single_file_group1    0.9126\n",
       "eval_stanza_morph_extended_sketches_knockout_5groups_single_file_group2    0.9161\n",
       "eval_stanza_morph_extended_sketches_knockout_5groups_single_file_group3    0.9108\n",
       "eval_stanza_morph_extended_sketches_knockout_5groups_single_file_group4    0.9129"
      ]
     },
     "execution_count": 18,
     "metadata": {},
     "output_type": "execute_result"
    }
   ],
   "source": [
    "# Results on test_50x50 file\n",
    "read_csv('edt_2.6/results_stanza_ME_sketches_5groups_knockout.csv', index_col=0).drop(['UAS_test'], axis=1)"
   ]
  },
  {
   "cell_type": "code",
   "execution_count": 19,
   "id": "cf1e99b5",
   "metadata": {},
   "outputs": [
    {
     "data": {
      "text/html": [
       "<div>\n",
       "<style scoped>\n",
       "    .dataframe tbody tr th:only-of-type {\n",
       "        vertical-align: middle;\n",
       "    }\n",
       "\n",
       "    .dataframe tbody tr th {\n",
       "        vertical-align: top;\n",
       "    }\n",
       "\n",
       "    .dataframe thead th {\n",
       "        text-align: right;\n",
       "    }\n",
       "</style>\n",
       "<table border=\"1\" class=\"dataframe\">\n",
       "  <thead>\n",
       "    <tr style=\"text-align: right;\">\n",
       "      <th></th>\n",
       "      <th>LAS_test</th>\n",
       "    </tr>\n",
       "    <tr>\n",
       "      <th>experiment</th>\n",
       "      <th></th>\n",
       "    </tr>\n",
       "  </thead>\n",
       "  <tbody>\n",
       "    <tr>\n",
       "      <th>eval_stanza_morph_extended_sketches_knockout_5randomgroups_single_file_group0</th>\n",
       "      <td>0.9169</td>\n",
       "    </tr>\n",
       "    <tr>\n",
       "      <th>eval_stanza_morph_extended_sketches_knockout_5randomgroups_single_file_group1</th>\n",
       "      <td>0.9154</td>\n",
       "    </tr>\n",
       "    <tr>\n",
       "      <th>eval_stanza_morph_extended_sketches_knockout_5randomgroups_single_file_group2</th>\n",
       "      <td>0.9169</td>\n",
       "    </tr>\n",
       "    <tr>\n",
       "      <th>eval_stanza_morph_extended_sketches_knockout_5randomgroups_single_file_group3</th>\n",
       "      <td>0.9148</td>\n",
       "    </tr>\n",
       "    <tr>\n",
       "      <th>eval_stanza_morph_extended_sketches_knockout_5randomgroups_single_file_group4</th>\n",
       "      <td>0.9165</td>\n",
       "    </tr>\n",
       "  </tbody>\n",
       "</table>\n",
       "</div>"
      ],
      "text/plain": [
       "                                                                               LAS_test\n",
       "experiment                                                                             \n",
       "eval_stanza_morph_extended_sketches_knockout_5randomgroups_single_file_group0    0.9169\n",
       "eval_stanza_morph_extended_sketches_knockout_5randomgroups_single_file_group1    0.9154\n",
       "eval_stanza_morph_extended_sketches_knockout_5randomgroups_single_file_group2    0.9169\n",
       "eval_stanza_morph_extended_sketches_knockout_5randomgroups_single_file_group3    0.9148\n",
       "eval_stanza_morph_extended_sketches_knockout_5randomgroups_single_file_group4    0.9165"
      ]
     },
     "execution_count": 19,
     "metadata": {},
     "output_type": "execute_result"
    }
   ],
   "source": [
    "# Results on test_50x50 file (random control group)\n",
    "read_csv('edt_2.6/results_stanza_ME_sketches_5randomgroups_knockout.csv', index_col=0).drop(['UAS_test'], axis=1)"
   ]
  }
 ],
 "metadata": {
  "kernelspec": {
   "display_name": "Python 3 (ipykernel)",
   "language": "python",
   "name": "python3"
  },
  "language_info": {
   "codemirror_mode": {
    "name": "ipython",
    "version": 3
   },
   "file_extension": ".py",
   "mimetype": "text/x-python",
   "name": "python",
   "nbconvert_exporter": "python",
   "pygments_lexer": "ipython3",
   "version": "3.8.16"
  }
 },
 "nbformat": 4,
 "nbformat_minor": 5
}
